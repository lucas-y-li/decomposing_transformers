{
 "cells": [
  {
   "cell_type": "code",
   "execution_count": 18,
   "metadata": {},
   "outputs": [],
   "source": [
    "import pandas as pd\n",
    "import numpy as np\n",
    "\n",
    "from scipy.spatial.distance import cdist\n",
    "import scipy.stats\n",
    "import seaborn as sns\n",
    "import matplotlib.pyplot as plt\n"
   ]
  },
  {
   "cell_type": "markdown",
   "metadata": {},
   "source": [
    "### Load Data"
   ]
  },
  {
   "cell_type": "code",
   "execution_count": 2,
   "metadata": {},
   "outputs": [
    {
     "name": "stdout",
     "output_type": "stream",
     "text": [
      "(28820, 16)\n"
     ]
    },
    {
     "data": {
      "text/html": [
       "<div>\n",
       "<style scoped>\n",
       "    .dataframe tbody tr th:only-of-type {\n",
       "        vertical-align: middle;\n",
       "    }\n",
       "\n",
       "    .dataframe tbody tr th {\n",
       "        vertical-align: top;\n",
       "    }\n",
       "\n",
       "    .dataframe thead th {\n",
       "        text-align: right;\n",
       "    }\n",
       "</style>\n",
       "<table border=\"1\" class=\"dataframe\">\n",
       "  <thead>\n",
       "    <tr style=\"text-align: right;\">\n",
       "      <th></th>\n",
       "      <th>Sentence.ID</th>\n",
       "      <th>Roleset</th>\n",
       "      <th>Gram.Func</th>\n",
       "      <th>sentence</th>\n",
       "      <th>Predicate</th>\n",
       "      <th>Split</th>\n",
       "      <th>arg</th>\n",
       "      <th>Arg.Stripped</th>\n",
       "      <th>arg_idx</th>\n",
       "      <th>verb_idx</th>\n",
       "      <th>structure</th>\n",
       "      <th>decomp_version</th>\n",
       "      <th>Pred.Lemma</th>\n",
       "      <th>modified_sentence</th>\n",
       "      <th>Arg.Parse</th>\n",
       "      <th>combined_labels</th>\n",
       "    </tr>\n",
       "  </thead>\n",
       "  <tbody>\n",
       "    <tr>\n",
       "      <th>0</th>\n",
       "      <td>0003_21</td>\n",
       "      <td>impose.01</td>\n",
       "      <td>nsubj</td>\n",
       "      <td>In July , a gradual ban was imposed by the Env...</td>\n",
       "      <td>was imposed by</td>\n",
       "      <td>test</td>\n",
       "      <td>a gradual ban</td>\n",
       "      <td>a ban</td>\n",
       "      <td>(3, 6)</td>\n",
       "      <td>(6, 9)</td>\n",
       "      <td>passive_full</td>\n",
       "      <td>V1</td>\n",
       "      <td>impose</td>\n",
       "      <td>1</td>\n",
       "      <td></td>\n",
       "      <td>[1.0, 1.0, 3.0, 1.0, 5.0, 1.0, 5.0, 1.0, 1.0, ...</td>\n",
       "    </tr>\n",
       "    <tr>\n",
       "      <th>1</th>\n",
       "      <td>0003_21</td>\n",
       "      <td>impose.01</td>\n",
       "      <td>dobj</td>\n",
       "      <td>In July , a gradual ban was imposed by the Env...</td>\n",
       "      <td>was imposed by</td>\n",
       "      <td>train</td>\n",
       "      <td>the Environmental Protection Agency</td>\n",
       "      <td>the Environmental Protection Agency</td>\n",
       "      <td>(9, 13)</td>\n",
       "      <td>(6, 9)</td>\n",
       "      <td>passive_full</td>\n",
       "      <td>V1</td>\n",
       "      <td>impose</td>\n",
       "      <td>1</td>\n",
       "      <td></td>\n",
       "      <td>[5.0, 1.0, 3.0, 1.0, 5.0, 5.0, 5.0, 5.0, 1.0, ...</td>\n",
       "    </tr>\n",
       "    <tr>\n",
       "      <th>2</th>\n",
       "      <td>0003_29</td>\n",
       "      <td>have.03</td>\n",
       "      <td>nsubj</td>\n",
       "      <td>No bearing on our work force today is had by it .</td>\n",
       "      <td>is had by</td>\n",
       "      <td>train</td>\n",
       "      <td>No bearing on our work force today</td>\n",
       "      <td>no bearing</td>\n",
       "      <td>(0, 7)</td>\n",
       "      <td>(7, 10)</td>\n",
       "      <td>passive_full</td>\n",
       "      <td>V1</td>\n",
       "      <td>have</td>\n",
       "      <td>1</td>\n",
       "      <td></td>\n",
       "      <td>[1.0, 1.0, 1.0, 1.0, 1.0, 1.0, 1.0, 1.0, 1.0, ...</td>\n",
       "    </tr>\n",
       "    <tr>\n",
       "      <th>3</th>\n",
       "      <td>0003_29</td>\n",
       "      <td>have.03</td>\n",
       "      <td>dobj</td>\n",
       "      <td>No bearing on our work force today is had by it .</td>\n",
       "      <td>is had by</td>\n",
       "      <td>test</td>\n",
       "      <td>it</td>\n",
       "      <td>It</td>\n",
       "      <td>(10, 11)</td>\n",
       "      <td>(7, 10)</td>\n",
       "      <td>passive_full</td>\n",
       "      <td>V1</td>\n",
       "      <td>have</td>\n",
       "      <td>1</td>\n",
       "      <td></td>\n",
       "      <td>[3.0, 3.0, 3.0, 3.0, 3.0, 3.0, 5.0, 3.0, 2.0, ...</td>\n",
       "    </tr>\n",
       "    <tr>\n",
       "      <th>4</th>\n",
       "      <td>0003_9</td>\n",
       "      <td>lead.02</td>\n",
       "      <td>nsubj</td>\n",
       "      <td>A team of researchers from the National Cancer...</td>\n",
       "      <td>was led by</td>\n",
       "      <td>train</td>\n",
       "      <td>A team of researchers from the National Cancer...</td>\n",
       "      <td>a team</td>\n",
       "      <td>(0, 19)</td>\n",
       "      <td>(19, 22)</td>\n",
       "      <td>passive_full</td>\n",
       "      <td>V1</td>\n",
       "      <td>lead</td>\n",
       "      <td>1</td>\n",
       "      <td></td>\n",
       "      <td>[5.0, 3.0, 3.0, 1.0, 3.0, 3.0, 5.0, 3.0, 1.0, ...</td>\n",
       "    </tr>\n",
       "  </tbody>\n",
       "</table>\n",
       "</div>"
      ],
      "text/plain": [
       "  Sentence.ID    Roleset Gram.Func  \\\n",
       "0     0003_21  impose.01     nsubj   \n",
       "1     0003_21  impose.01      dobj   \n",
       "2     0003_29    have.03     nsubj   \n",
       "3     0003_29    have.03      dobj   \n",
       "4      0003_9    lead.02     nsubj   \n",
       "\n",
       "                                            sentence       Predicate  Split  \\\n",
       "0  In July , a gradual ban was imposed by the Env...  was imposed by   test   \n",
       "1  In July , a gradual ban was imposed by the Env...  was imposed by  train   \n",
       "2  No bearing on our work force today is had by it .       is had by  train   \n",
       "3  No bearing on our work force today is had by it .       is had by   test   \n",
       "4  A team of researchers from the National Cancer...      was led by  train   \n",
       "\n",
       "                                                 arg  \\\n",
       "0                                      a gradual ban   \n",
       "1                the Environmental Protection Agency   \n",
       "2                 No bearing on our work force today   \n",
       "3                                                 it   \n",
       "4  A team of researchers from the National Cancer...   \n",
       "\n",
       "                          Arg.Stripped   arg_idx  verb_idx     structure  \\\n",
       "0                                a ban    (3, 6)    (6, 9)  passive_full   \n",
       "1  the Environmental Protection Agency   (9, 13)    (6, 9)  passive_full   \n",
       "2                           no bearing    (0, 7)   (7, 10)  passive_full   \n",
       "3                                   It  (10, 11)   (7, 10)  passive_full   \n",
       "4                               a team   (0, 19)  (19, 22)  passive_full   \n",
       "\n",
       "  decomp_version Pred.Lemma  modified_sentence Arg.Parse  \\\n",
       "0             V1     impose                  1             \n",
       "1             V1     impose                  1             \n",
       "2             V1       have                  1             \n",
       "3             V1       have                  1             \n",
       "4             V1       lead                  1             \n",
       "\n",
       "                                     combined_labels  \n",
       "0  [1.0, 1.0, 3.0, 1.0, 5.0, 1.0, 5.0, 1.0, 1.0, ...  \n",
       "1  [5.0, 1.0, 3.0, 1.0, 5.0, 5.0, 5.0, 5.0, 1.0, ...  \n",
       "2  [1.0, 1.0, 1.0, 1.0, 1.0, 1.0, 1.0, 1.0, 1.0, ...  \n",
       "3  [3.0, 3.0, 3.0, 3.0, 3.0, 3.0, 5.0, 3.0, 2.0, ...  \n",
       "4  [5.0, 3.0, 3.0, 1.0, 3.0, 3.0, 5.0, 3.0, 1.0, ...  "
      ]
     },
     "execution_count": 2,
     "metadata": {},
     "output_type": "execute_result"
    }
   ],
   "source": [
    "roles_wide = pd.read_csv(\"../../../dataV2/combined_V1_V2.csv\", na_filter=False)\n",
    "roles_wide.drop(\"Unnamed: 0\", inplace=True, axis=1)\n",
    "\n",
    "roles_wide.rename({\"Sentence\": \"sentence\", \"Arg.Phrase\": \"arg\"}, axis=1, inplace=True)\n",
    "\n",
    "properties_list = ['awareness', 'change_of_location', 'change_of_state',\n",
    "       'change_of_possession', 'existed_after', 'existed_before',\n",
    "       'existed_during', 'instigation', 'sentient', 'volition']\n",
    "\n",
    "print(roles_wide.shape)\n",
    "roles_wide[\"combined_labels\"] = roles_wide[\"combined_labels\"].apply(lambda x: eval(x))\n",
    "roles_wide.head()\n"
   ]
  },
  {
   "cell_type": "code",
   "execution_count": 3,
   "metadata": {},
   "outputs": [
    {
     "name": "stdout",
     "output_type": "stream",
     "text": [
      "(1748, 2)\n"
     ]
    },
    {
     "data": {
      "text/html": [
       "<div>\n",
       "<style scoped>\n",
       "    .dataframe tbody tr th:only-of-type {\n",
       "        vertical-align: middle;\n",
       "    }\n",
       "\n",
       "    .dataframe tbody tr th {\n",
       "        vertical-align: top;\n",
       "    }\n",
       "\n",
       "    .dataframe thead th {\n",
       "        text-align: right;\n",
       "    }\n",
       "</style>\n",
       "<table border=\"1\" class=\"dataframe\">\n",
       "  <thead>\n",
       "    <tr style=\"text-align: right;\">\n",
       "      <th></th>\n",
       "      <th>index</th>\n",
       "      <th>Sentence.ID</th>\n",
       "    </tr>\n",
       "  </thead>\n",
       "  <tbody>\n",
       "    <tr>\n",
       "      <th>0</th>\n",
       "      <td>14299</td>\n",
       "      <td>en-ud-test.conllu 1002</td>\n",
       "    </tr>\n",
       "    <tr>\n",
       "      <th>1</th>\n",
       "      <td>14300</td>\n",
       "      <td>en-ud-test.conllu 1002</td>\n",
       "    </tr>\n",
       "    <tr>\n",
       "      <th>2</th>\n",
       "      <td>14301</td>\n",
       "      <td>en-ud-test.conllu 1002</td>\n",
       "    </tr>\n",
       "    <tr>\n",
       "      <th>3</th>\n",
       "      <td>14302</td>\n",
       "      <td>en-ud-test.conllu 1002</td>\n",
       "    </tr>\n",
       "    <tr>\n",
       "      <th>4</th>\n",
       "      <td>14303</td>\n",
       "      <td>en-ud-test.conllu 1004</td>\n",
       "    </tr>\n",
       "  </tbody>\n",
       "</table>\n",
       "</div>"
      ],
      "text/plain": [
       "   index             Sentence.ID\n",
       "0  14299  en-ud-test.conllu 1002\n",
       "1  14300  en-ud-test.conllu 1002\n",
       "2  14301  en-ud-test.conllu 1002\n",
       "3  14302  en-ud-test.conllu 1002\n",
       "4  14303  en-ud-test.conllu 1004"
      ]
     },
     "execution_count": 3,
     "metadata": {},
     "output_type": "execute_result"
    }
   ],
   "source": [
    "eval_df = roles_wide.loc[\n",
    "    (roles_wide[\"decomp_version\"] == \"V2\") & \\\n",
    "    (roles_wide[\"Split\"] == \"test\")\n",
    "    ][[\"Sentence.ID\"]].reset_index().drop_duplicates()\n",
    "\n",
    "print(eval_df.shape)\n",
    "eval_df.head()\n"
   ]
  },
  {
   "cell_type": "code",
   "execution_count": 12,
   "metadata": {},
   "outputs": [],
   "source": [
    "proto_agent = ['awareness', 'existed_after', 'existed_before',\n",
    "       'existed_during', 'instigation', 'sentient', 'volition']\n",
    "proto_patient = [\"change_of_state\", \"change_of_possession\"]\n"
   ]
  },
  {
   "cell_type": "markdown",
   "metadata": {},
   "source": [
    "### gpt2\n"
   ]
  },
  {
   "cell_type": "code",
   "execution_count": 5,
   "metadata": {},
   "outputs": [
    {
     "data": {
      "text/html": [
       "<div>\n",
       "<style scoped>\n",
       "    .dataframe tbody tr th:only-of-type {\n",
       "        vertical-align: middle;\n",
       "    }\n",
       "\n",
       "    .dataframe tbody tr th {\n",
       "        vertical-align: top;\n",
       "    }\n",
       "\n",
       "    .dataframe thead th {\n",
       "        text-align: right;\n",
       "    }\n",
       "</style>\n",
       "<table border=\"1\" class=\"dataframe\">\n",
       "  <thead>\n",
       "    <tr style=\"text-align: right;\">\n",
       "      <th></th>\n",
       "      <th>span</th>\n",
       "      <th>property</th>\n",
       "      <th>gram</th>\n",
       "      <th>structure</th>\n",
       "      <th>class</th>\n",
       "      <th>per_token_contribution</th>\n",
       "      <th>proto-role property</th>\n",
       "      <th>Sentence.ID</th>\n",
       "    </tr>\n",
       "  </thead>\n",
       "  <tbody>\n",
       "    <tr>\n",
       "      <th>0</th>\n",
       "      <td>argument</td>\n",
       "      <td>awareness</td>\n",
       "      <td>nsubj</td>\n",
       "      <td>active</td>\n",
       "      <td>negative</td>\n",
       "      <td>-0.000000</td>\n",
       "      <td>proto-agent</td>\n",
       "      <td>en-ud-test.conllu 1002</td>\n",
       "    </tr>\n",
       "    <tr>\n",
       "      <th>1</th>\n",
       "      <td>argument</td>\n",
       "      <td>awareness</td>\n",
       "      <td>dobj</td>\n",
       "      <td>active</td>\n",
       "      <td>negative</td>\n",
       "      <td>-0.000000</td>\n",
       "      <td>proto-agent</td>\n",
       "      <td>en-ud-test.conllu 1002</td>\n",
       "    </tr>\n",
       "    <tr>\n",
       "      <th>2</th>\n",
       "      <td>argument</td>\n",
       "      <td>awareness</td>\n",
       "      <td>nsubj</td>\n",
       "      <td>active</td>\n",
       "      <td>negative</td>\n",
       "      <td>0.214458</td>\n",
       "      <td>proto-agent</td>\n",
       "      <td>en-ud-test.conllu 1004</td>\n",
       "    </tr>\n",
       "    <tr>\n",
       "      <th>3</th>\n",
       "      <td>argument</td>\n",
       "      <td>awareness</td>\n",
       "      <td>nsubj</td>\n",
       "      <td>active</td>\n",
       "      <td>negative</td>\n",
       "      <td>-0.000000</td>\n",
       "      <td>proto-agent</td>\n",
       "      <td>en-ud-test.conllu 1008</td>\n",
       "    </tr>\n",
       "    <tr>\n",
       "      <th>4</th>\n",
       "      <td>argument</td>\n",
       "      <td>awareness</td>\n",
       "      <td>nsubj</td>\n",
       "      <td>active</td>\n",
       "      <td>negative</td>\n",
       "      <td>-0.000000</td>\n",
       "      <td>proto-agent</td>\n",
       "      <td>en-ud-test.conllu 1009</td>\n",
       "    </tr>\n",
       "  </tbody>\n",
       "</table>\n",
       "</div>"
      ],
      "text/plain": [
       "       span   property   gram structure     class  per_token_contribution  \\\n",
       "0  argument  awareness  nsubj    active  negative               -0.000000   \n",
       "1  argument  awareness   dobj    active  negative               -0.000000   \n",
       "2  argument  awareness  nsubj    active  negative                0.214458   \n",
       "3  argument  awareness  nsubj    active  negative               -0.000000   \n",
       "4  argument  awareness  nsubj    active  negative               -0.000000   \n",
       "\n",
       "  proto-role property             Sentence.ID  \n",
       "0         proto-agent  en-ud-test.conllu 1002  \n",
       "1         proto-agent  en-ud-test.conllu 1002  \n",
       "2         proto-agent  en-ud-test.conllu 1004  \n",
       "3         proto-agent  en-ud-test.conllu 1008  \n",
       "4         proto-agent  en-ud-test.conllu 1009  "
      ]
     },
     "execution_count": 5,
     "metadata": {},
     "output_type": "execute_result"
    }
   ],
   "source": [
    "contributions_df = pd.read_csv(\"gpt2_gcd_contributions.csv\", index_col=0)[\n",
    "    [\"index\", \"span\", \"property\", \"gram\", \"structure\", \"class\", \"per_token_contribution\", \"proto-role property\"]\n",
    "]\n",
    "contributions_df = pd.merge(contributions_df, eval_df, on=\"index\").drop(columns=[\"index\"])\n",
    "contributions_df.head()\n"
   ]
  },
  {
   "cell_type": "code",
   "execution_count": 6,
   "metadata": {},
   "outputs": [],
   "source": [
    "contributions_df = contributions_df.loc[\n",
    "    (contributions_df[\"gram\"] != \"iobj\")  \n",
    "    # & (contributions_df[\"span\"] != \"modifier\") & \n",
    "    # (contributions_df[\"span\"] != \"other_arguments\")\n",
    "]\n"
   ]
  },
  {
   "cell_type": "code",
   "execution_count": 32,
   "metadata": {},
   "outputs": [],
   "source": [
    "pa = contributions_df.loc[\n",
    "    (contributions_df[\"proto-role property\"] == \"proto-agent\") & \\\n",
    "    (contributions_df[\"property\"] != \"change_of_location\")\n",
    "    ].drop(columns=\"proto-role property\")\n",
    "\n",
    "pp = contributions_df.loc[\n",
    "    (contributions_df[\"proto-role property\"] == \"proto-patient\") & \\\n",
    "    (contributions_df[\"property\"] != \"change_of_location\")\n",
    "    ].drop(columns=\"proto-role property\")\n",
    "\n",
    "pl = contributions_df.loc[\n",
    "    (contributions_df[\"property\"] == \"change_of_location\")\n",
    "    ].drop(columns=[\"proto-role property\"])\n"
   ]
  },
  {
   "cell_type": "markdown",
   "metadata": {},
   "source": [
    "### Considering every sentence as its own distribution  "
   ]
  },
  {
   "cell_type": "code",
   "execution_count": 33,
   "metadata": {},
   "outputs": [
    {
     "name": "stdout",
     "output_type": "stream",
     "text": [
      "(1918, 32)\n",
      "(548, 32)\n",
      "(274, 32)\n"
     ]
    }
   ],
   "source": [
    "def get_dist(dist):\n",
    "    d = dist.pivot_table(\n",
    "        columns=[\"class\", \"structure\", \"gram\", \"span\"],\n",
    "        index=[\"Sentence.ID\", \"property\"],\n",
    "        values=\"per_token_contribution\",\n",
    "        ).fillna(0)\n",
    "\n",
    "    d.columns = d.columns.to_flat_index()\n",
    "    d[\"distr\"] = d[d.columns].to_numpy().tolist()\n",
    "    d = d.reset_index()[[\"Sentence.ID\", \"property\", \"distr\",]].pivot(\n",
    "        index=\"Sentence.ID\", columns=\"property\", values=\"distr\").reset_index(drop=True)\n",
    "    d = np.array(d.to_numpy().tolist())\n",
    "    d = d.transpose(2, 0, 1).reshape(d.shape[2], -1).T\n",
    "    print(d.shape)\n",
    "    return d\n",
    "\n",
    "agent = get_dist(pa)\n",
    "patient = get_dist(pp)\n",
    "changes_location = get_dist(pl)\n"
   ]
  },
  {
   "cell_type": "code",
   "execution_count": 34,
   "metadata": {},
   "outputs": [
    {
     "data": {
      "text/plain": [
       "array([[11.44822693,  0.        ,  0.        ],\n",
       "       [13.03877868, 12.02743935,  0.        ],\n",
       "       [12.53811525, 12.11451713, 11.9090669 ]])"
      ]
     },
     "execution_count": 34,
     "metadata": {},
     "output_type": "execute_result"
    }
   ],
   "source": [
    "def KL(a, b):\n",
    "    return (np.sum(a * np.log(a / b)) + np.sum(b * np.log(b / a)))/2\n",
    "    # return np.sum(a * np.log(a / b))\n",
    "\n",
    "eps = 1e-10\n",
    "a = agent / agent.sum(-1, keepdims=True) + eps\n",
    "p = patient / patient.sum(-1,  keepdims=True) + eps\n",
    "c = changes_location / changes_location.sum(-1, keepdims=True) + eps\n",
    "\n",
    "dists = np.zeros((3, 3))\n",
    "sets = [a, p, c]\n",
    "for i in range(3):\n",
    "    for j in range(i, 3):\n",
    "        if i == j:\n",
    "            dists[j, i] = cdist(sets[i], sets[j], KL)[~np.eye(len(sets[i]), dtype=bool)].mean()\n",
    "        else:\n",
    "            dists[j, i] = cdist(sets[i], sets[j], KL).mean()\n",
    "\n",
    "dists\n"
   ]
  },
  {
   "cell_type": "code",
   "execution_count": 35,
   "metadata": {},
   "outputs": [
    {
     "data": {
      "text/plain": [
       "<Axes: >"
      ]
     },
     "execution_count": 35,
     "metadata": {},
     "output_type": "execute_result"
    },
    {
     "data": {
      "image/png": "[encoded data removed]",
      "text/plain": [
       "<Figure size 200x200 with 1 Axes>"
      ]
     },
     "metadata": {},
     "output_type": "display_data"
    }
   ],
   "source": [
    "fig, ax = plt.subplots(figsize=(2,2)) \n",
    "\n",
    "sns.heatmap(dists, annot=True, mask=np.array(dists == 0), square=True,\n",
    "            xticklabels=[\"agent\", \"patient\", \"d_loc\"], \n",
    "            yticklabels=[\"agent\", \"patient\", \"d_loc\"], ax=ax, \n",
    "            fmt=\".1f\",\n",
    "            cbar=False, cmap=\"crest\")\n"
   ]
  },
  {
   "cell_type": "code",
   "execution_count": 36,
   "metadata": {},
   "outputs": [
    {
     "name": "stdout",
     "output_type": "stream",
     "text": [
      "(7, 274, 32)\n",
      "(2, 274, 32)\n",
      "(1, 274, 32)\n"
     ]
    }
   ],
   "source": [
    "def get_dist(dist):\n",
    "    d = dist.pivot_table(\n",
    "        columns=[\"class\", \"structure\", \"gram\", \"span\"],\n",
    "        index=[\"Sentence.ID\", \"property\"],\n",
    "        values=\"per_token_contribution\",\n",
    "        ).fillna(0)\n",
    "\n",
    "    d.columns = d.columns.to_flat_index()\n",
    "    d[\"distr\"] = d[d.columns].to_numpy().tolist()\n",
    "    d = d.reset_index()[[\"Sentence.ID\", \"property\", \"distr\",]].pivot(\n",
    "        index=\"Sentence.ID\", columns=\"property\", values=\"distr\").reset_index(drop=True)\n",
    "    d = np.array(d.to_numpy().tolist())\n",
    "    d = d.transpose(1, 0, 2)\n",
    "    print(d.shape)\n",
    "    return d\n",
    "\n",
    "agent = get_dist(pa)\n",
    "patient = get_dist(pp)\n",
    "changes_location = get_dist(pl)\n"
   ]
  },
  {
   "cell_type": "code",
   "execution_count": 37,
   "metadata": {},
   "outputs": [
    {
     "data": {
      "text/plain": [
       "array([[10.85504666,  0.        ,  0.        ,  0.        ,  0.        ,\n",
       "         0.        ,  0.        ,  0.        ,  0.        ,  0.        ],\n",
       "       [11.7414678 , 11.4227036 ,  0.        ,  0.        ,  0.        ,\n",
       "         0.        ,  0.        ,  0.        ,  0.        ,  0.        ],\n",
       "       [11.79765937, 11.49525648, 11.4976939 ,  0.        ,  0.        ,\n",
       "         0.        ,  0.        ,  0.        ,  0.        ,  0.        ],\n",
       "       [11.83837441, 11.45522018, 11.4226012 , 11.26740509,  0.        ,\n",
       "         0.        ,  0.        ,  0.        ,  0.        ,  0.        ],\n",
       "       [11.27148988, 11.57242881, 11.48191904, 11.3321776 , 11.0717242 ,\n",
       "         0.        ,  0.        ,  0.        ,  0.        ,  0.        ],\n",
       "       [11.27806297, 11.49118739, 11.51031608, 11.4472159 , 11.15773428,\n",
       "        11.2588565 ,  0.        ,  0.        ,  0.        ,  0.        ],\n",
       "       [10.9425308 , 11.79344225, 11.79988784, 11.80441165, 11.26532076,\n",
       "        11.25804077, 10.98372587,  0.        ,  0.        ,  0.        ],\n",
       "       [13.40364595, 14.99539103, 14.94677516, 15.2283084 , 14.32519505,\n",
       "        14.06459039, 13.54937116,  9.64912361,  0.        ,  0.        ],\n",
       "       [11.51253905, 11.7581195 , 11.88077499, 11.8867094 , 11.78784023,\n",
       "        11.53167037, 11.67197085, 13.46203145, 11.44877936,  0.        ],\n",
       "       [12.293041  , 12.68544012, 12.7211365 , 12.79388365, 12.56815662,\n",
       "        12.36050704, 12.34464179, 12.12067605, 12.10835821, 11.86560315]])"
      ]
     },
     "execution_count": 37,
     "metadata": {},
     "output_type": "execute_result"
    }
   ],
   "source": [
    "all_properties = np.concatenate([agent, patient, changes_location])\n",
    "all_properties = all_properties / all_properties.sum(-1, keepdims=True) + eps\n",
    "\n",
    "dists = np.zeros((10, 10))\n",
    "for i in range(10):\n",
    "    for j in range(i, 10):\n",
    "        dists[j, i] = cdist(all_properties[i], all_properties[j], KL).mean()\n",
    "\n",
    "dists\n"
   ]
  },
  {
   "cell_type": "code",
   "execution_count": 38,
   "metadata": {},
   "outputs": [
    {
     "data": {
      "text/plain": [
       "<Axes: >"
      ]
     },
     "execution_count": 38,
     "metadata": {},
     "output_type": "execute_result"
    },
    {
     "data": {
      "image/png": "[encoded data removed]",
      "text/plain": [
       "<Figure size 500x500 with 1 Axes>"
      ]
     },
     "metadata": {},
     "output_type": "display_data"
    }
   ],
   "source": [
    "import matplotlib.pyplot as plt\n",
    "fig, ax = plt.subplots(figsize=(5,5)) \n",
    "\n",
    "labels = proto_agent + proto_patient + [\"change_of_location\"]\n",
    "\n",
    "sns.heatmap(dists, annot=True, mask=np.array(dists == 0), square=True,\n",
    "            xticklabels=labels, \n",
    "            yticklabels=labels, ax=ax, \n",
    "            fmt=\".1f\",\n",
    "            cbar=False, cmap=\"crest\")\n"
   ]
  },
  {
   "cell_type": "markdown",
   "metadata": {},
   "source": [
    "### Considering every feature as its own distribution "
   ]
  },
  {
   "cell_type": "code",
   "execution_count": 39,
   "metadata": {},
   "outputs": [
    {
     "name": "stdout",
     "output_type": "stream",
     "text": [
      "(7, 3996)\n",
      "(2, 3996)\n",
      "(1, 3996)\n"
     ]
    }
   ],
   "source": [
    "def get_dist(dist):\n",
    "    d = dist.pivot_table(\n",
    "        columns=[\"class\", \"structure\", \"gram\", \"span\"],\n",
    "        index=[\"Sentence.ID\", \"property\"],\n",
    "        values=\"per_token_contribution\",\n",
    "        )\n",
    "\n",
    "    d.columns = d.columns.to_flat_index()\n",
    "    d[\"distr\"] = d[d.columns].to_numpy().tolist()\n",
    "    d = d.reset_index()[[\"Sentence.ID\", \"property\", \"distr\",]].pivot(\n",
    "        index=\"Sentence.ID\", columns=\"property\", values=\"distr\").reset_index(drop=True)\n",
    "\n",
    "    d = np.array(d.to_numpy().tolist()).transpose(1, 0, 2)\n",
    "    d = d[~np.isnan(d)].reshape(d.shape[0], -1)\n",
    "    print(d.shape)\n",
    "    return d\n",
    "\n",
    "agent = get_dist(pa)\n",
    "patient = get_dist(pp)\n",
    "changes_location = get_dist(pl)\n"
   ]
  },
  {
   "cell_type": "code",
   "execution_count": 40,
   "metadata": {},
   "outputs": [
    {
     "name": "stderr",
     "output_type": "stream",
     "text": [
      "/var/folders/lq/kd3wh6952vg99n5ppf4srz9w0000gn/T/ipykernel_89589/1123876068.py:14: RuntimeWarning: Mean of empty slice.\n",
      "  dists[i, j] = cdist(sets[i], sets[j], KL)[~np.eye(len(sets[i]), dtype=bool)].mean()\n",
      "/Users/lli/anaconda3/envs/metaphor/lib/python3.11/site-packages/numpy/core/_methods.py:192: RuntimeWarning: invalid value encountered in scalar divide\n",
      "  ret = ret.dtype.type(ret / rcount)\n"
     ]
    },
    {
     "data": {
      "text/plain": [
       "array([[2.10089895, 7.04839658, 4.80542022],\n",
       "       [7.94832822, 7.05862112, 4.05619073],\n",
       "       [5.65000633, 4.51625215,        nan]])"
      ]
     },
     "execution_count": 40,
     "metadata": {},
     "output_type": "execute_result"
    }
   ],
   "source": [
    "def KL(a, b):\n",
    "    return np.sum(a * np.log(a / b))\n",
    "\n",
    "eps = 1e-10\n",
    "a = agent / agent.sum(-1, keepdims=True) + eps\n",
    "p = patient / patient.sum(-1,  keepdims=True) + eps\n",
    "c = changes_location / changes_location.sum(-1, keepdims=True) + eps\n",
    "\n",
    "dists = np.empty((3, 3))\n",
    "sets = [a, p, c]\n",
    "for i in range(3):\n",
    "    for j in range(3):\n",
    "        if i == j:\n",
    "            dists[i, j] = cdist(sets[i], sets[j], KL)[~np.eye(len(sets[i]), dtype=bool)].mean()\n",
    "        else:\n",
    "            dists[i, j] = cdist(sets[i], sets[j], KL).mean()\n",
    "\n",
    "dists\n"
   ]
  },
  {
   "cell_type": "code",
   "execution_count": 41,
   "metadata": {},
   "outputs": [
    {
     "data": {
      "image/png": "[encoded data removed]",
      "text/plain": [
       "<Figure size 640x480 with 1 Axes>"
      ]
     },
     "metadata": {},
     "output_type": "display_data"
    }
   ],
   "source": [
    "from sklearn.decomposition import PCA\n",
    "import sklearn.manifold\n",
    "from sklearn.preprocessing import StandardScaler\n",
    "import matplotlib.pyplot as plt\n",
    "\n",
    "X = np.concatenate([agent, patient, changes_location])\n",
    "y = np.concatenate([np.zeros(7, ), np.ones(2, ), 2 * np.ones(1,)])\n",
    "\n",
    "scaler = StandardScaler()\n",
    "X_scaled = scaler.fit_transform(X)\n",
    "pca = PCA(n_components=2)  \n",
    "X_embedded = pca.fit_transform(X_scaled)\n",
    "\n",
    "# X_embedded = sklearn.manifold.TSNE(n_components=2, learning_rate='auto',\n",
    "#                   init='random', perplexity=2).fit_transform(X)\n",
    "# X_embedded = sklearn.manifold.SpectralEmbedding(n_components=2, affinity=\"rbf\").fit_transform(X)\n",
    "\n",
    "fig, ax = plt.subplots()\n",
    "\n",
    "ax.scatter(X_embedded[:, 0], X_embedded[:, 1], c=y)\n",
    "ax.set_ylabel('Component 1')\n",
    "ax.set_xlabel('Component 2')\n",
    "\n",
    "labels = proto_agent + proto_patient + [\"change_of_location\"]\n",
    "\n",
    "for i, txt in enumerate(labels):\n",
    "    ax.annotate(txt, X_embedded[i])\n"
   ]
  }
 ],
 "metadata": {
  "kernelspec": {
   "display_name": "metaphor",
   "language": "python",
   "name": "python3"
  },
  "language_info": {
   "codemirror_mode": {
    "name": "ipython",
    "version": 3
   },
   "file_extension": ".py",
   "mimetype": "text/x-python",
   "name": "python",
   "nbconvert_exporter": "python",
   "pygments_lexer": "ipython3",
   "version": "3.11.5"
  }
 },
 "nbformat": 4,
 "nbformat_minor": 2
}
