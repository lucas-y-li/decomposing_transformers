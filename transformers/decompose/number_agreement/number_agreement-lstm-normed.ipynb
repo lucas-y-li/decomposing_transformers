{
 "cells": [
  {
   "cell_type": "code",
   "execution_count": 1,
   "id": "fbdc8d04",
   "metadata": {},
   "outputs": [],
   "source": [
    "%load_ext autoreload\n",
    "%autoreload 2 \n",
    "\n",
    "import pandas as pd\n",
    "import numpy as np\n",
    "import torch\n",
    "import sys\n",
    "\n",
    "sys.path.insert(0, '..')\n",
    "from decompose_lstm import DecomposedLSTM\n",
    "from lstm_dictionary import Dictionary\n"
   ]
  },
  {
   "cell_type": "code",
   "execution_count": 2,
   "id": "dd54912d",
   "metadata": {},
   "outputs": [],
   "source": [
    "model_path = \"../../lstm/data/model/state_dict.pt\"\n",
    "vocab_path = \"../../lstm/data/model/vocab.txt\"\n",
    "\n",
    "tokenizer = Dictionary(vocab_path)\n"
   ]
  },
  {
   "cell_type": "code",
   "execution_count": 3,
   "id": "55702620",
   "metadata": {},
   "outputs": [
    {
     "data": {
      "text/plain": [
       "0.3648072734160432"
      ]
     },
     "execution_count": 3,
     "metadata": {},
     "output_type": "execute_result"
    }
   ],
   "source": [
    "verbs = pd.read_csv(\"all_VERBs.csv\")[\"WORD\"]\n",
    "verb_ids = []\n",
    "\n",
    "for verb in verbs.iloc:\n",
    "    if verb in tokenizer.word2idx:\n",
    "        verb_ids.append(tokenizer.word2idx[verb])\n",
    "\n",
    "verb_ids = torch.Tensor(verb_ids).to(int)\n",
    "len(verb_ids) / len(verbs)\n"
   ]
  },
  {
   "cell_type": "code",
   "execution_count": 4,
   "id": "d8e795b6",
   "metadata": {},
   "outputs": [
    {
     "data": {
      "text/html": [
       "<div>\n",
       "<style scoped>\n",
       "    .dataframe tbody tr th:only-of-type {\n",
       "        vertical-align: middle;\n",
       "    }\n",
       "\n",
       "    .dataframe tbody tr th {\n",
       "        vertical-align: top;\n",
       "    }\n",
       "\n",
       "    .dataframe thead tr th {\n",
       "        text-align: left;\n",
       "    }\n",
       "</style>\n",
       "<table border=\"1\" class=\"dataframe\">\n",
       "  <thead>\n",
       "    <tr>\n",
       "      <th></th>\n",
       "      <th>id</th>\n",
       "      <th>subject_number</th>\n",
       "      <th>distractor_number</th>\n",
       "      <th>sentence</th>\n",
       "      <th colspan=\"2\" halign=\"left\">verb</th>\n",
       "    </tr>\n",
       "    <tr>\n",
       "      <th>correctness</th>\n",
       "      <th></th>\n",
       "      <th></th>\n",
       "      <th></th>\n",
       "      <th></th>\n",
       "      <th>correct</th>\n",
       "      <th>wrong</th>\n",
       "    </tr>\n",
       "  </thead>\n",
       "  <tbody>\n",
       "    <tr>\n",
       "      <th>0</th>\n",
       "      <td>601</td>\n",
       "      <td>singular</td>\n",
       "      <td>plural</td>\n",
       "      <td>The athlete behind the bikes</td>\n",
       "      <td>approves</td>\n",
       "      <td>approve</td>\n",
       "    </tr>\n",
       "    <tr>\n",
       "      <th>1</th>\n",
       "      <td>602</td>\n",
       "      <td>singular</td>\n",
       "      <td>plural</td>\n",
       "      <td>The athlete behind the cars</td>\n",
       "      <td>inspires</td>\n",
       "      <td>inspire</td>\n",
       "    </tr>\n",
       "    <tr>\n",
       "      <th>2</th>\n",
       "      <td>603</td>\n",
       "      <td>singular</td>\n",
       "      <td>plural</td>\n",
       "      <td>The athlete behind the cats</td>\n",
       "      <td>engages</td>\n",
       "      <td>engage</td>\n",
       "    </tr>\n",
       "    <tr>\n",
       "      <th>3</th>\n",
       "      <td>604</td>\n",
       "      <td>singular</td>\n",
       "      <td>plural</td>\n",
       "      <td>The athlete behind the cats</td>\n",
       "      <td>remembers</td>\n",
       "      <td>remember</td>\n",
       "    </tr>\n",
       "    <tr>\n",
       "      <th>4</th>\n",
       "      <td>605</td>\n",
       "      <td>singular</td>\n",
       "      <td>plural</td>\n",
       "      <td>The athlete behind the chairs</td>\n",
       "      <td>observes</td>\n",
       "      <td>observe</td>\n",
       "    </tr>\n",
       "    <tr>\n",
       "      <th>...</th>\n",
       "      <td>...</td>\n",
       "      <td>...</td>\n",
       "      <td>...</td>\n",
       "      <td>...</td>\n",
       "      <td>...</td>\n",
       "      <td>...</td>\n",
       "    </tr>\n",
       "    <tr>\n",
       "      <th>1195</th>\n",
       "      <td>1796</td>\n",
       "      <td>plural</td>\n",
       "      <td>singular</td>\n",
       "      <td>The women near the tree</td>\n",
       "      <td>greet</td>\n",
       "      <td>greets</td>\n",
       "    </tr>\n",
       "    <tr>\n",
       "      <th>1196</th>\n",
       "      <td>1797</td>\n",
       "      <td>plural</td>\n",
       "      <td>singular</td>\n",
       "      <td>The women near the window</td>\n",
       "      <td>avoid</td>\n",
       "      <td>avoids</td>\n",
       "    </tr>\n",
       "    <tr>\n",
       "      <th>1197</th>\n",
       "      <td>1798</td>\n",
       "      <td>plural</td>\n",
       "      <td>singular</td>\n",
       "      <td>The women near the window</td>\n",
       "      <td>discourage</td>\n",
       "      <td>discourages</td>\n",
       "    </tr>\n",
       "    <tr>\n",
       "      <th>1198</th>\n",
       "      <td>1799</td>\n",
       "      <td>plural</td>\n",
       "      <td>singular</td>\n",
       "      <td>The women near the window</td>\n",
       "      <td>engage</td>\n",
       "      <td>engages</td>\n",
       "    </tr>\n",
       "    <tr>\n",
       "      <th>1199</th>\n",
       "      <td>1800</td>\n",
       "      <td>plural</td>\n",
       "      <td>singular</td>\n",
       "      <td>The women near the window</td>\n",
       "      <td>understand</td>\n",
       "      <td>understands</td>\n",
       "    </tr>\n",
       "  </tbody>\n",
       "</table>\n",
       "<p>1200 rows × 6 columns</p>\n",
       "</div>"
      ],
      "text/plain": [
       "               id subject_number distractor_number  \\\n",
       "correctness                                          \n",
       "0             601       singular            plural   \n",
       "1             602       singular            plural   \n",
       "2             603       singular            plural   \n",
       "3             604       singular            plural   \n",
       "4             605       singular            plural   \n",
       "...           ...            ...               ...   \n",
       "1195         1796         plural          singular   \n",
       "1196         1797         plural          singular   \n",
       "1197         1798         plural          singular   \n",
       "1198         1799         plural          singular   \n",
       "1199         1800         plural          singular   \n",
       "\n",
       "                                  sentence         verb                \n",
       "correctness                                     correct         wrong  \n",
       "0             The athlete behind the bikes     approves       approve  \n",
       "1              The athlete behind the cars     inspires       inspire  \n",
       "2              The athlete behind the cats      engages        engage  \n",
       "3              The athlete behind the cats    remembers      remember  \n",
       "4            The athlete behind the chairs     observes       observe  \n",
       "...                                    ...          ...           ...  \n",
       "1195               The women near the tree        greet        greets  \n",
       "1196             The women near the window        avoid        avoids  \n",
       "1197             The women near the window   discourage   discourages  \n",
       "1198             The women near the window       engage       engages  \n",
       "1199             The women near the window   understand   understands  \n",
       "\n",
       "[1200 rows x 6 columns]"
      ]
     },
     "execution_count": 4,
     "metadata": {},
     "output_type": "execute_result"
    }
   ],
   "source": [
    "number_df = pd.read_csv(\"nounpp.tsv\", delimiter=\"\\t\")\n",
    "max_length = 16\n",
    "\n",
    "number_df[\"id\"] = number_df[\"id\"].apply(lambda x: int(x[2:]))\n",
    "\n",
    "# only keep sentences that are plural/singular or singular/plural (distractor has different number)\n",
    "number_df[\"subject_distractor_number\"] = number_df[\"subject_distractor_number\"].apply(\n",
    "    lambda x: x if x == \"singular_plural\" or x == \"plural_singular\" else np.nan\n",
    ")\n",
    "number_df.dropna(inplace=True)\n",
    "\n",
    "number_df[\"subject_number\"] = number_df[\"subject_distractor_number\"].apply(lambda x: x.split(\"_\")[0])\n",
    "number_df[\"distractor_number\"] = number_df[\"subject_distractor_number\"].apply(lambda x: x.split(\"_\")[1])\n",
    "\n",
    "number_df[\"verb\"] = number_df[\"sentence\"].apply(lambda x: \" \" + x.split(\" \")[-1])\n",
    "number_df[\"sentence\"] = number_df[\"sentence\"].apply(lambda x: \" \".join(x.split(\" \")[:-1]))\n",
    "\n",
    "number_df = number_df.drop(\n",
    "    columns=[\"subject_distractor_number\"]\n",
    "    ).pivot(index=[\"id\", \"subject_number\", \"distractor_number\", \"sentence\"], columns=[\"correctness\"], values=[\"verb\"]).reset_index()\n",
    "\n",
    "number_df\n"
   ]
  },
  {
   "cell_type": "code",
   "execution_count": 5,
   "id": "3a336e11",
   "metadata": {},
   "outputs": [
    {
     "data": {
      "text/html": [
       "<div>\n",
       "<style scoped>\n",
       "    .dataframe tbody tr th:only-of-type {\n",
       "        vertical-align: middle;\n",
       "    }\n",
       "\n",
       "    .dataframe tbody tr th {\n",
       "        vertical-align: top;\n",
       "    }\n",
       "\n",
       "    .dataframe thead tr th {\n",
       "        text-align: left;\n",
       "    }\n",
       "</style>\n",
       "<table border=\"1\" class=\"dataframe\">\n",
       "  <thead>\n",
       "    <tr>\n",
       "      <th></th>\n",
       "      <th>id</th>\n",
       "      <th>subject_number</th>\n",
       "      <th>distractor_number</th>\n",
       "      <th>sentence</th>\n",
       "      <th colspan=\"2\" halign=\"left\">verb</th>\n",
       "      <th>sentence_tokens</th>\n",
       "      <th>correct_token</th>\n",
       "      <th>wrong_token</th>\n",
       "    </tr>\n",
       "    <tr>\n",
       "      <th>correctness</th>\n",
       "      <th></th>\n",
       "      <th></th>\n",
       "      <th></th>\n",
       "      <th></th>\n",
       "      <th>correct</th>\n",
       "      <th>wrong</th>\n",
       "      <th></th>\n",
       "      <th></th>\n",
       "      <th></th>\n",
       "    </tr>\n",
       "  </thead>\n",
       "  <tbody>\n",
       "    <tr>\n",
       "      <th>0</th>\n",
       "      <td>601</td>\n",
       "      <td>singular</td>\n",
       "      <td>plural</td>\n",
       "      <td>The athlete behind the bikes</td>\n",
       "      <td>approves</td>\n",
       "      <td>approve</td>\n",
       "      <td>[tensor(146), tensor(21749), tensor(2230), ten...</td>\n",
       "      <td>42696</td>\n",
       "      <td>11336</td>\n",
       "    </tr>\n",
       "    <tr>\n",
       "      <th>1</th>\n",
       "      <td>602</td>\n",
       "      <td>singular</td>\n",
       "      <td>plural</td>\n",
       "      <td>The athlete behind the cars</td>\n",
       "      <td>inspires</td>\n",
       "      <td>inspire</td>\n",
       "      <td>[tensor(146), tensor(21749), tensor(2230), ten...</td>\n",
       "      <td>33476</td>\n",
       "      <td>17370</td>\n",
       "    </tr>\n",
       "    <tr>\n",
       "      <th>2</th>\n",
       "      <td>603</td>\n",
       "      <td>singular</td>\n",
       "      <td>plural</td>\n",
       "      <td>The athlete behind the cats</td>\n",
       "      <td>engages</td>\n",
       "      <td>engage</td>\n",
       "      <td>[tensor(146), tensor(21749), tensor(2230), ten...</td>\n",
       "      <td>18223</td>\n",
       "      <td>3610</td>\n",
       "    </tr>\n",
       "    <tr>\n",
       "      <th>3</th>\n",
       "      <td>604</td>\n",
       "      <td>singular</td>\n",
       "      <td>plural</td>\n",
       "      <td>The athlete behind the cats</td>\n",
       "      <td>remembers</td>\n",
       "      <td>remember</td>\n",
       "      <td>[tensor(146), tensor(21749), tensor(2230), ten...</td>\n",
       "      <td>8671</td>\n",
       "      <td>2030</td>\n",
       "    </tr>\n",
       "    <tr>\n",
       "      <th>4</th>\n",
       "      <td>605</td>\n",
       "      <td>singular</td>\n",
       "      <td>plural</td>\n",
       "      <td>The athlete behind the chairs</td>\n",
       "      <td>observes</td>\n",
       "      <td>observe</td>\n",
       "      <td>[tensor(146), tensor(21749), tensor(2230), ten...</td>\n",
       "      <td>8739</td>\n",
       "      <td>8501</td>\n",
       "    </tr>\n",
       "  </tbody>\n",
       "</table>\n",
       "</div>"
      ],
      "text/plain": [
       "              id subject_number distractor_number  \\\n",
       "correctness                                         \n",
       "0            601       singular            plural   \n",
       "1            602       singular            plural   \n",
       "2            603       singular            plural   \n",
       "3            604       singular            plural   \n",
       "4            605       singular            plural   \n",
       "\n",
       "                                  sentence        verb             \\\n",
       "correctness                                    correct      wrong   \n",
       "0             The athlete behind the bikes    approves    approve   \n",
       "1              The athlete behind the cars    inspires    inspire   \n",
       "2              The athlete behind the cats     engages     engage   \n",
       "3              The athlete behind the cats   remembers   remember   \n",
       "4            The athlete behind the chairs    observes    observe   \n",
       "\n",
       "                                               sentence_tokens correct_token  \\\n",
       "correctness                                                                    \n",
       "0            [tensor(146), tensor(21749), tensor(2230), ten...         42696   \n",
       "1            [tensor(146), tensor(21749), tensor(2230), ten...         33476   \n",
       "2            [tensor(146), tensor(21749), tensor(2230), ten...         18223   \n",
       "3            [tensor(146), tensor(21749), tensor(2230), ten...          8671   \n",
       "4            [tensor(146), tensor(21749), tensor(2230), ten...          8739   \n",
       "\n",
       "            wrong_token  \n",
       "correctness              \n",
       "0                 11336  \n",
       "1                 17370  \n",
       "2                  3610  \n",
       "3                  2030  \n",
       "4                  8501  "
      ]
     },
     "execution_count": 5,
     "metadata": {},
     "output_type": "execute_result"
    }
   ],
   "source": [
    "number_df[\"sentence_tokens\"] = number_df[\"sentence\"].apply(tokenizer.tokenize)\n",
    "number_df[\"correct_token\"] = number_df[(\"verb\", \"correct\")].apply(lambda x: tokenizer.tokenize(x).item())\n",
    "number_df[\"wrong_token\"] = number_df[(\"verb\", \"wrong\")].apply(lambda x: tokenizer.tokenize(x).item())\n",
    "\n",
    "number_df.head()\n"
   ]
  },
  {
   "cell_type": "markdown",
   "id": "69b7fdfb",
   "metadata": {},
   "source": [
    "### GCD w/ fixed bias"
   ]
  },
  {
   "cell_type": "code",
   "execution_count": 6,
   "id": "337f85e7",
   "metadata": {},
   "outputs": [],
   "source": [
    "decomposed_model = DecomposedLSTM.from_pretrained(\n",
    "    model_path, shapley_include_bias=False, generalized=True)\n"
   ]
  },
  {
   "cell_type": "code",
   "execution_count": 21,
   "id": "2e5a507e",
   "metadata": {},
   "outputs": [],
   "source": [
    "sentence_len = 5\n",
    "assert number_df[\"sentence_tokens\"].apply(len).unique() == [sentence_len]\n",
    "\n",
    "\n",
    "def split_pos_neg_contributions(logits):\n",
    "    \"\"\"\n",
    "    shape: (num_contributions + 1 (bias), num_classes)\n",
    "    \"\"\"\n",
    "   # put negative \"positive\" contributions in the negative category\n",
    "    # put negative \"negative\" contributions in the positive category\n",
    "    positive_mask = (logits > 0).astype(int)\n",
    "\n",
    "    positive_logits = logits[..., 1] * positive_mask[..., 1]\n",
    "    positive_logits -= logits[..., 0] * (1 - positive_mask[..., 0])\n",
    "\n",
    "    negative_logits = logits[..., 0] * positive_mask[..., 0]\n",
    "    negative_logits -= logits[..., 1] * (1 - positive_mask[..., 1])\n",
    "\n",
    "    # assert (np.all(positive_logits >= 0))\n",
    "    # assert (np.all(negative_logits >= 0))\n",
    "\n",
    "    binary_logits = np.stack(\n",
    "        [negative_logits, positive_logits], axis=-2\n",
    "    )\n",
    "    # print(binary_logits.shape)\n",
    "    return binary_logits\n",
    "\n",
    "\n",
    "def get_jumulet_contribution(sentence_tokens, correct_token, wrong_token):\n",
    "    all_contributions = torch.empty((sentence_len + 1,2))\n",
    "\n",
    "    for i in range(-1, sentence_len):\n",
    "        beta_mask = torch.zeros(sentence_len,)\n",
    "        init_in_beta = False\n",
    "        if i == -1:\n",
    "            # get contribution of the initial state\n",
    "            init_in_beta = True\n",
    "        else:\n",
    "            # get contribution of the token at index i\n",
    "            beta_mask[i] = 1\n",
    "\n",
    "        with torch.no_grad():\n",
    "            beta, gamma, bias = decomposed_model(\n",
    "                sentence_tokens.unsqueeze(0),\n",
    "                beta_mask.unsqueeze(0),\n",
    "                init_in_beta=init_in_beta\n",
    "            )\n",
    "            # get last hidden states\n",
    "            # z = beta + gamma + bias\n",
    "\n",
    "            # contribution = beta / z\n",
    "            # c = contribution[0, -1, (correct_token, wrong_token)]\n",
    "\n",
    "            # result = beta[0, -1]\n",
    "            # result = result - result[verb_ids].mean()\n",
    "            # result = result / result[verb_ids].std()\n",
    "\n",
    "            # c = result[[correct_token, wrong_token]]\n",
    "            # all_contributions[i + 1] = c\n",
    "\n",
    "            # get last logits at last token\n",
    "            beta, gamma = beta[0, -1], gamma[0, -1]\n",
    "\n",
    "            result = torch.stack([beta, gamma, bias])\n",
    "            result = result - result[:, verb_ids].mean(1, keepdim=True)\n",
    "            result = result / result[:, verb_ids].std(1, keepdim=True)\n",
    "\n",
    "            correct, wrong = split_pos_neg_contributions(result[:, [correct_token, wrong_token]].numpy())\n",
    "            # beta_z_t / z_t\n",
    "            correct = correct[0] / (correct.sum() + 1e-10)\n",
    "            wrong = wrong[0] / (wrong.sum() + 1e-10)\n",
    "            \n",
    "            all_contributions[i + 1, 0] = correct\n",
    "            all_contributions[i + 1, 1] = wrong\n",
    "\n",
    "    return all_contributions\n",
    "\n"
   ]
  },
  {
   "cell_type": "code",
   "execution_count": 22,
   "id": "d1fe2722",
   "metadata": {},
   "outputs": [
    {
     "data": {
      "text/plain": [
       "tensor([[0.7310, 0.3425],\n",
       "        [0.5284, 0.4665],\n",
       "        [0.8190, 0.2914],\n",
       "        [0.4206, 0.4844],\n",
       "        [0.3142, 0.0547],\n",
       "        [-0.0000, 0.5993]])"
      ]
     },
     "execution_count": 22,
     "metadata": {},
     "output_type": "execute_result"
    }
   ],
   "source": [
    "get_jumulet_contribution(\n",
    "    torch.tensor([146, 21749,  2230,     3, 14159]),\n",
    "    42696,\n",
    "    11336\n",
    ")\n"
   ]
  },
  {
   "cell_type": "code",
   "execution_count": 23,
   "id": "5cac5646",
   "metadata": {},
   "outputs": [
    {
     "name": "stdout",
     "output_type": "stream",
     "text": [
      "tensor([ 146, 6022,  220,    3, 1041, 4814])\n",
      "tensor([ 146, 6022,  220,    3, 1041, 2678])\n"
     ]
    }
   ],
   "source": [
    "print(tokenizer.tokenize(\"The doctor near the dogs knows\"))\n",
    "print(tokenizer.tokenize(\"The doctor near the dogs know\"))\n"
   ]
  },
  {
   "cell_type": "code",
   "execution_count": 24,
   "id": "9d909aa5",
   "metadata": {},
   "outputs": [
    {
     "data": {
      "text/plain": [
       "tensor([[0.4371, -0.0000],\n",
       "        [0.2117, -0.0000],\n",
       "        [0.6334, 0.4128],\n",
       "        [-0.0000, 0.4894],\n",
       "        [0.5996, -0.0000],\n",
       "        [0.0126, 0.0996]])"
      ]
     },
     "execution_count": 24,
     "metadata": {},
     "output_type": "execute_result"
    }
   ],
   "source": [
    "get_jumulet_contribution(\n",
    "    torch.tensor([ 146, 6022,  220,    3, 1041]),\n",
    "    4814,\n",
    "    2678\n",
    ")\n"
   ]
  },
  {
   "cell_type": "code",
   "execution_count": 25,
   "id": "5bbb776e",
   "metadata": {},
   "outputs": [
    {
     "name": "stderr",
     "output_type": "stream",
     "text": [
      "/var/folders/lq/kd3wh6952vg99n5ppf4srz9w0000gn/T/ipykernel_70391/4009221104.py:3: FutureWarning: Series.__getitem__ treating keys as positions is deprecated. In a future version, integer keys will always be treated as labels (consistent with DataFrame behavior). To access a value by position, use `ser.iloc[pos]`\n",
      "  x[\"sentence_tokens\"][0],\n",
      "/var/folders/lq/kd3wh6952vg99n5ppf4srz9w0000gn/T/ipykernel_70391/4009221104.py:4: FutureWarning: Series.__getitem__ treating keys as positions is deprecated. In a future version, integer keys will always be treated as labels (consistent with DataFrame behavior). To access a value by position, use `ser.iloc[pos]`\n",
      "  x[\"correct_token\"][0],\n",
      "/var/folders/lq/kd3wh6952vg99n5ppf4srz9w0000gn/T/ipykernel_70391/4009221104.py:5: FutureWarning: Series.__getitem__ treating keys as positions is deprecated. In a future version, integer keys will always be treated as labels (consistent with DataFrame behavior). To access a value by position, use `ser.iloc[pos]`\n",
      "  x[\"wrong_token\"][0]\n"
     ]
    }
   ],
   "source": [
    "number_df[\"jumulet_contribution_fixed\"] = number_df.apply(\n",
    "    lambda x: get_jumulet_contribution(\n",
    "        x[\"sentence_tokens\"][0],\n",
    "        x[\"correct_token\"][0],\n",
    "        x[\"wrong_token\"][0]\n",
    "    ),\n",
    "    axis=1\n",
    ")\n"
   ]
  },
  {
   "cell_type": "code",
   "execution_count": 26,
   "id": "5216e663",
   "metadata": {},
   "outputs": [],
   "source": [
    "# singular subject, plural distractor\n",
    "sp_contributions = np.stack(\n",
    "    number_df[number_df[\"distractor_number\"] == \"plural\"][\"jumulet_contribution_fixed\"]\n",
    "    )\n",
    "\n",
    "# singular subject\n",
    "ps_contributions = np.stack(\n",
    "    number_df[number_df[\"distractor_number\"] == \"singular\"][\"jumulet_contribution_fixed\"]\n",
    "    )\n"
   ]
  },
  {
   "cell_type": "code",
   "execution_count": 27,
   "id": "95753546",
   "metadata": {},
   "outputs": [
    {
     "data": {
      "text/plain": [
       "array([[0.50556195, 0.26128128],\n",
       "       [0.4273103 , 0.17074347],\n",
       "       [0.5507412 , 0.16457987],\n",
       "       [0.10536391, 0.604746  ],\n",
       "       [0.42327154, 0.15192921],\n",
       "       [0.20813046, 0.29759017]], dtype=float32)"
      ]
     },
     "execution_count": 27,
     "metadata": {},
     "output_type": "execute_result"
    }
   ],
   "source": [
    "sp_contributions.mean(0)\n"
   ]
  },
  {
   "cell_type": "code",
   "execution_count": 28,
   "id": "560ab0eb",
   "metadata": {},
   "outputs": [
    {
     "data": {
      "text/plain": [
       "array([[0.17232771, 0.6856805 ],\n",
       "       [0.16478121, 0.5035951 ],\n",
       "       [0.7062673 , 0.02601113],\n",
       "       [0.4275902 , 0.2525815 ],\n",
       "       [0.08471411, 0.60459137],\n",
       "       [0.09919609, 0.7470311 ]], dtype=float32)"
      ]
     },
     "execution_count": 28,
     "metadata": {},
     "output_type": "execute_result"
    }
   ],
   "source": [
    "ps_contributions.mean(0)\n"
   ]
  },
  {
   "cell_type": "markdown",
   "id": "ea46b8b6",
   "metadata": {},
   "source": [
    "### GCD w/ shapely bias"
   ]
  },
  {
   "cell_type": "code",
   "execution_count": 15,
   "id": "00ad175e",
   "metadata": {},
   "outputs": [],
   "source": [
    "decomposed_model.shapley_include_bias = True\n",
    "decomposed_model.generalized = True\n"
   ]
  },
  {
   "cell_type": "code",
   "execution_count": 16,
   "id": "53588fc8",
   "metadata": {},
   "outputs": [],
   "source": [
    "with torch.no_grad():\n",
    "    # activations for \". <eos>\"\n",
    "    init_phrase = torch.LongTensor([18, 19]).unsqueeze(0)\n",
    "    embed = decomposed_model.model.encoder(init_phrase)\n",
    "    _, hidden = decomposed_model.model.rnn(embed)\n"
   ]
  },
  {
   "cell_type": "code",
   "execution_count": 17,
   "id": "a055d024",
   "metadata": {},
   "outputs": [
    {
     "name": "stdout",
     "output_type": "stream",
     "text": [
      "-1 1 doctor\n",
      "tensor(0.2253)\n",
      "-1 2 near\n",
      "tensor(0.1425)\n",
      "-1 3 the\n",
      "tensor(-0.0316)\n",
      "-1 4 dogs\n",
      "tensor(0.5632)\n",
      "0 1 doctor\n",
      "tensor(0.4304)\n",
      "0 2 near\n",
      "tensor(0.1263)\n",
      "0 3 the\n",
      "tensor(-0.0108)\n",
      "0 4 dogs\n",
      "tensor(0.4810)\n",
      "1 2 near\n",
      "tensor(-0.0610)\n",
      "1 3 the\n",
      "tensor(0.0038)\n",
      "1 4 dogs\n",
      "tensor(0.6334)\n",
      "2 3 the\n",
      "tensor(0.1513)\n",
      "2 4 dogs\n",
      "tensor(0.0379)\n",
      "3 4 dogs\n",
      "tensor(0.0574)\n"
     ]
    }
   ],
   "source": [
    "all_contributions = torch.empty((sentence_len + 1,2))\n",
    "sentence_tokens = torch.tensor([ 146, 6022,  220,    3, 1041])\n",
    "contributions = torch.zeros((6,6))\n",
    "correct_token = 4814\n",
    "wrong_token = 2678\n",
    "\n",
    "for i in range(-1, sentence_len):\n",
    "    beta_mask = torch.zeros(sentence_len,)\n",
    "    init_in_beta = False\n",
    "    if i == -1:\n",
    "        # get contribution of the initial state\n",
    "        init_in_beta = True\n",
    "    else:\n",
    "        # get contribution of the token at index i\n",
    "        beta_mask[i] = 1\n",
    "\n",
    "    with torch.no_grad():\n",
    "        beta, gamma, bias = decomposed_model(\n",
    "            sentence_tokens.unsqueeze(0),\n",
    "            beta_mask.unsqueeze(0),\n",
    "            init_in_beta=init_in_beta\n",
    "            )\n",
    "        z, _ = decomposed_model.model.forward(\n",
    "            sentence_tokens.unsqueeze(0),\n",
    "            hidden\n",
    "        )\n",
    "        # get last hidden states\n",
    "        # z = beta + gamma + bias\n",
    "\n",
    "        contribution = beta / z\n",
    "        for j in range(max(i+1, 1), sentence_len):\n",
    "            future_token = sentence_tokens[j].item()\n",
    "            print(i, j, tokenizer.idx2word[future_token])\n",
    "            print(contribution[0, j - 1, future_token])\n",
    "            contributions[i + 1, j - 1] = contribution[0, j - 1, future_token]\n",
    "        \n",
    "        contributions[i+1, 4] = contribution[0, -1, correct_token]\n",
    "        contributions[i+1, 5] = contribution[0, -1, wrong_token]\n",
    "\n",
    "\n"
   ]
  },
  {
   "cell_type": "code",
   "execution_count": 18,
   "id": "985602d4",
   "metadata": {},
   "outputs": [
    {
     "data": {
      "text/plain": [
       "array([[ 0.23,  0.14, -0.03,  0.56,  0.49,  0.  ],\n",
       "       [ 0.43,  0.13, -0.01,  0.48,  0.34,  0.07],\n",
       "       [ 0.  , -0.06,  0.  ,  0.63,  0.53,  0.24],\n",
       "       [ 0.  ,  0.  ,  0.15,  0.04,  0.1 ,  0.05],\n",
       "       [ 0.  ,  0.  ,  0.  ,  0.06,  0.14, -0.29],\n",
       "       [ 0.  ,  0.  ,  0.  ,  0.  ,  0.33,  0.29]], dtype=float32)"
      ]
     },
     "execution_count": 18,
     "metadata": {},
     "output_type": "execute_result"
    }
   ],
   "source": [
    "contributions.numpy().round(2)\n"
   ]
  },
  {
   "cell_type": "code",
   "execution_count": 19,
   "id": "98b0e2db",
   "metadata": {},
   "outputs": [
    {
     "data": {
      "text/plain": [
       "tensor([[ 2.4350, -0.7693],\n",
       "        [ 1.8150, -0.5487],\n",
       "        [ 2.9406,  0.6212],\n",
       "        [ 1.0748,  0.5382],\n",
       "        [ 2.4758, -1.6794],\n",
       "        [ 0.2030, -0.6550]])"
      ]
     },
     "execution_count": 19,
     "metadata": {},
     "output_type": "execute_result"
    }
   ],
   "source": [
    "get_jumulet_contribution(\n",
    "    torch.tensor([ 146, 6022,  220,    3, 1041]),\n",
    "    4814,\n",
    "    2678\n",
    ")\n"
   ]
  },
  {
   "cell_type": "code",
   "execution_count": 20,
   "id": "fc917d65",
   "metadata": {},
   "outputs": [
    {
     "name": "stderr",
     "output_type": "stream",
     "text": [
      "/var/folders/lq/kd3wh6952vg99n5ppf4srz9w0000gn/T/ipykernel_53388/2760458623.py:3: FutureWarning: Series.__getitem__ treating keys as positions is deprecated. In a future version, integer keys will always be treated as labels (consistent with DataFrame behavior). To access a value by position, use `ser.iloc[pos]`\n",
      "  x[\"sentence_tokens\"][0],\n",
      "/var/folders/lq/kd3wh6952vg99n5ppf4srz9w0000gn/T/ipykernel_53388/2760458623.py:4: FutureWarning: Series.__getitem__ treating keys as positions is deprecated. In a future version, integer keys will always be treated as labels (consistent with DataFrame behavior). To access a value by position, use `ser.iloc[pos]`\n",
      "  x[\"correct_token\"][0],\n",
      "/var/folders/lq/kd3wh6952vg99n5ppf4srz9w0000gn/T/ipykernel_53388/2760458623.py:5: FutureWarning: Series.__getitem__ treating keys as positions is deprecated. In a future version, integer keys will always be treated as labels (consistent with DataFrame behavior). To access a value by position, use `ser.iloc[pos]`\n",
      "  x[\"wrong_token\"][0]\n"
     ]
    }
   ],
   "source": [
    "number_df[\"jumulet_contribution_all\"] = number_df.apply(\n",
    "    lambda x: get_jumulet_contribution(\n",
    "        x[\"sentence_tokens\"][0],\n",
    "        x[\"correct_token\"][0],\n",
    "        x[\"wrong_token\"][0]\n",
    "    ),\n",
    "    axis=1\n",
    ")\n"
   ]
  },
  {
   "cell_type": "code",
   "execution_count": 21,
   "id": "88428785",
   "metadata": {},
   "outputs": [],
   "source": [
    "# singular subject, plural distractor\n",
    "sp_contributions = np.stack(\n",
    "    number_df[number_df[\"distractor_number\"] == \"plural\"][\"jumulet_contribution_all\"]\n",
    "    )\n",
    "\n",
    "# singular subject\n",
    "ps_contributions = np.stack(\n",
    "    number_df[number_df[\"distractor_number\"] == \"singular\"][\"jumulet_contribution_all\"]\n",
    "    )\n"
   ]
  },
  {
   "cell_type": "code",
   "execution_count": 22,
   "id": "cfc01b9d",
   "metadata": {},
   "outputs": [
    {
     "data": {
      "text/plain": [
       "array([[ 2.2203083 , -0.12467644],\n",
       "       [ 1.6906027 , -0.15757851],\n",
       "       [ 1.4441742 , -0.29585314],\n",
       "       [ 0.48474443,  0.4425492 ],\n",
       "       [ 1.717205  , -0.81538105],\n",
       "       [ 0.47046962, -0.57692945]], dtype=float32)"
      ]
     },
     "execution_count": 22,
     "metadata": {},
     "output_type": "execute_result"
    }
   ],
   "source": [
    "sp_contributions.mean(0)\n"
   ]
  },
  {
   "cell_type": "code",
   "execution_count": 23,
   "id": "1104aff8",
   "metadata": {},
   "outputs": [
    {
     "data": {
      "text/plain": [
       "array([[-0.05044665,  2.326599  ],\n",
       "       [-0.42378464,  1.8239726 ],\n",
       "       [ 1.3210498 , -0.6069224 ],\n",
       "       [ 0.18210855,  0.864774  ],\n",
       "       [-0.6204558 ,  1.9938576 ],\n",
       "       [-0.6671041 ,  1.5882058 ]], dtype=float32)"
      ]
     },
     "execution_count": 23,
     "metadata": {},
     "output_type": "execute_result"
    }
   ],
   "source": [
    "ps_contributions.mean(0)\n"
   ]
  },
  {
   "cell_type": "markdown",
   "id": "96a881ed",
   "metadata": {},
   "source": [
    "### CD w/ fixed bias\n"
   ]
  },
  {
   "cell_type": "code",
   "execution_count": 24,
   "id": "3401eecd",
   "metadata": {},
   "outputs": [],
   "source": [
    "decomposed_model.shapley_include_bias = False\n",
    "decomposed_model.generalized = False\n"
   ]
  },
  {
   "cell_type": "code",
   "execution_count": 25,
   "id": "a8fc6af3",
   "metadata": {},
   "outputs": [
    {
     "data": {
      "text/plain": [
       "tensor([[ 0.9252, -0.3685],\n",
       "        [ 0.6889,  0.3682],\n",
       "        [ 1.1749,  1.5580],\n",
       "        [-0.1456,  1.4437],\n",
       "        [ 0.4166, -0.0121],\n",
       "        [-1.0672,  0.1932]])"
      ]
     },
     "execution_count": 25,
     "metadata": {},
     "output_type": "execute_result"
    }
   ],
   "source": [
    "get_jumulet_contribution(\n",
    "    torch.tensor([ 146, 6022,  220,    3, 1041]),\n",
    "    4814,\n",
    "    2678\n",
    ")\n"
   ]
  },
  {
   "cell_type": "code",
   "execution_count": 26,
   "id": "5836a308",
   "metadata": {},
   "outputs": [
    {
     "name": "stderr",
     "output_type": "stream",
     "text": [
      "/var/folders/lq/kd3wh6952vg99n5ppf4srz9w0000gn/T/ipykernel_53388/2305937806.py:3: FutureWarning: Series.__getitem__ treating keys as positions is deprecated. In a future version, integer keys will always be treated as labels (consistent with DataFrame behavior). To access a value by position, use `ser.iloc[pos]`\n",
      "  x[\"sentence_tokens\"][0],\n",
      "/var/folders/lq/kd3wh6952vg99n5ppf4srz9w0000gn/T/ipykernel_53388/2305937806.py:4: FutureWarning: Series.__getitem__ treating keys as positions is deprecated. In a future version, integer keys will always be treated as labels (consistent with DataFrame behavior). To access a value by position, use `ser.iloc[pos]`\n",
      "  x[\"correct_token\"][0],\n",
      "/var/folders/lq/kd3wh6952vg99n5ppf4srz9w0000gn/T/ipykernel_53388/2305937806.py:5: FutureWarning: Series.__getitem__ treating keys as positions is deprecated. In a future version, integer keys will always be treated as labels (consistent with DataFrame behavior). To access a value by position, use `ser.iloc[pos]`\n",
      "  x[\"wrong_token\"][0]\n"
     ]
    }
   ],
   "source": [
    "number_df[\"murdoch_contribution_all\"] = number_df.apply(\n",
    "    lambda x: get_jumulet_contribution(\n",
    "        x[\"sentence_tokens\"][0],\n",
    "        x[\"correct_token\"][0],\n",
    "        x[\"wrong_token\"][0]\n",
    "    ),\n",
    "    axis=1\n",
    ")\n"
   ]
  },
  {
   "cell_type": "code",
   "execution_count": 27,
   "id": "e36cf901",
   "metadata": {},
   "outputs": [],
   "source": [
    "# singular subject, plural distractor\n",
    "sp_contributions = np.stack(\n",
    "    number_df[number_df[\"distractor_number\"] == \"plural\"][\"murdoch_contribution_all\"]\n",
    "    )\n",
    "\n",
    "# singular subject\n",
    "ps_contributions = np.stack(\n",
    "    number_df[number_df[\"distractor_number\"] == \"singular\"][\"murdoch_contribution_all\"]\n",
    "    )\n"
   ]
  },
  {
   "cell_type": "code",
   "execution_count": 28,
   "id": "e1480dca",
   "metadata": {},
   "outputs": [
    {
     "data": {
      "text/plain": [
       "array([[ 0.6622968 ,  0.23949313],\n",
       "       [ 0.61899114,  0.00720197],\n",
       "       [ 0.38334918, -0.04500752],\n",
       "       [-0.712665  , -0.38218394],\n",
       "       [ 0.11812739, -0.488727  ],\n",
       "       [-1.0592822 ,  0.02764427]], dtype=float32)"
      ]
     },
     "execution_count": 28,
     "metadata": {},
     "output_type": "execute_result"
    }
   ],
   "source": [
    "sp_contributions.mean(0)\n"
   ]
  },
  {
   "cell_type": "code",
   "execution_count": 29,
   "id": "816f1c22",
   "metadata": {},
   "outputs": [
    {
     "data": {
      "text/plain": [
       "array([[ 0.4168761 ,  0.8114369 ],\n",
       "       [-0.1178124 ,  0.6596337 ],\n",
       "       [ 0.5991303 , -0.96850574],\n",
       "       [-0.28508526, -0.48116317],\n",
       "       [-0.7458999 ,  0.1813681 ],\n",
       "       [-0.36456928,  1.2045773 ]], dtype=float32)"
      ]
     },
     "execution_count": 29,
     "metadata": {},
     "output_type": "execute_result"
    }
   ],
   "source": [
    "ps_contributions.mean(0)\n"
   ]
  },
  {
   "cell_type": "markdown",
   "id": "f1699e5b",
   "metadata": {},
   "source": [
    "### CD w/ Shapley bias"
   ]
  },
  {
   "cell_type": "code",
   "execution_count": 30,
   "id": "3cdac1c8",
   "metadata": {},
   "outputs": [],
   "source": [
    "decomposed_model.shapley_include_bias = True\n",
    "decomposed_model.generalized = False\n"
   ]
  },
  {
   "cell_type": "code",
   "execution_count": 31,
   "id": "52717305",
   "metadata": {},
   "outputs": [
    {
     "name": "stderr",
     "output_type": "stream",
     "text": [
      "/var/folders/lq/kd3wh6952vg99n5ppf4srz9w0000gn/T/ipykernel_53388/2305937806.py:3: FutureWarning: Series.__getitem__ treating keys as positions is deprecated. In a future version, integer keys will always be treated as labels (consistent with DataFrame behavior). To access a value by position, use `ser.iloc[pos]`\n",
      "  x[\"sentence_tokens\"][0],\n",
      "/var/folders/lq/kd3wh6952vg99n5ppf4srz9w0000gn/T/ipykernel_53388/2305937806.py:4: FutureWarning: Series.__getitem__ treating keys as positions is deprecated. In a future version, integer keys will always be treated as labels (consistent with DataFrame behavior). To access a value by position, use `ser.iloc[pos]`\n",
      "  x[\"correct_token\"][0],\n",
      "/var/folders/lq/kd3wh6952vg99n5ppf4srz9w0000gn/T/ipykernel_53388/2305937806.py:5: FutureWarning: Series.__getitem__ treating keys as positions is deprecated. In a future version, integer keys will always be treated as labels (consistent with DataFrame behavior). To access a value by position, use `ser.iloc[pos]`\n",
      "  x[\"wrong_token\"][0]\n"
     ]
    }
   ],
   "source": [
    "number_df[\"murdoch_contribution_all\"] = number_df.apply(\n",
    "    lambda x: get_jumulet_contribution(\n",
    "        x[\"sentence_tokens\"][0],\n",
    "        x[\"correct_token\"][0],\n",
    "        x[\"wrong_token\"][0]\n",
    "    ),\n",
    "    axis=1\n",
    ")\n"
   ]
  },
  {
   "cell_type": "code",
   "execution_count": 32,
   "id": "a0c3a11e",
   "metadata": {},
   "outputs": [],
   "source": [
    "# singular subject, plural distractor\n",
    "sp_contributions = np.stack(\n",
    "    number_df[number_df[\"distractor_number\"] == \"plural\"][\"murdoch_contribution_all\"]\n",
    "    )\n",
    "\n",
    "# singular subject\n",
    "ps_contributions = np.stack(\n",
    "    number_df[number_df[\"distractor_number\"] == \"singular\"][\"murdoch_contribution_all\"]\n",
    "    )\n"
   ]
  },
  {
   "cell_type": "code",
   "execution_count": 33,
   "id": "e649d3d2",
   "metadata": {},
   "outputs": [
    {
     "data": {
      "text/plain": [
       "array([[ 1.381581  ,  0.30388233],\n",
       "       [ 1.205852  ,  0.30628666],\n",
       "       [ 1.3112622 ,  0.33857033],\n",
       "       [ 1.1692027 ,  0.26434854],\n",
       "       [ 1.3237774 ,  0.29318175],\n",
       "       [-0.5612065 ,  0.22889687]], dtype=float32)"
      ]
     },
     "execution_count": 33,
     "metadata": {},
     "output_type": "execute_result"
    }
   ],
   "source": [
    "sp_contributions.mean(0)\n"
   ]
  },
  {
   "cell_type": "code",
   "execution_count": 34,
   "id": "05367717",
   "metadata": {},
   "outputs": [
    {
     "data": {
      "text/plain": [
       "array([[ 0.28128153,  1.4002773 ],\n",
       "       [ 0.31331527,  1.28619   ],\n",
       "       [ 0.32630935,  1.4324658 ],\n",
       "       [ 0.17511828,  1.2289157 ],\n",
       "       [ 0.26221597,  1.4139682 ],\n",
       "       [-0.24883562,  1.3244126 ]], dtype=float32)"
      ]
     },
     "execution_count": 34,
     "metadata": {},
     "output_type": "execute_result"
    }
   ],
   "source": [
    "ps_contributions.mean(0)\n"
   ]
  }
 ],
 "metadata": {
  "kernelspec": {
   "display_name": "metaphor",
   "language": "python",
   "name": "python3"
  },
  "language_info": {
   "codemirror_mode": {
    "name": "ipython",
    "version": 3
   },
   "file_extension": ".py",
   "mimetype": "text/x-python",
   "name": "python",
   "nbconvert_exporter": "python",
   "pygments_lexer": "ipython3",
   "version": "3.11.5"
  }
 },
 "nbformat": 4,
 "nbformat_minor": 5
}
