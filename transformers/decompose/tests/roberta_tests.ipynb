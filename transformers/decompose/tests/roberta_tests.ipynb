{
 "cells": [
  {
   "cell_type": "code",
   "execution_count": null,
   "metadata": {},
   "outputs": [],
   "source": [
    "import torch\n",
    "import transformers\n",
    "\n",
    "from collections import OrderedDict\n",
    "\n",
    "import sys\n",
    "sys.path.insert(0, '..')\n",
    "\n",
    "from roberta_model import RobertaForSequenceClassification, RobertaConfig\n",
    "from decompose_roberta import RobertaForSequenceClassificationDecomposed, RobertaForMaskedLMDecomposed\n"
   ]
  },
  {
   "cell_type": "code",
   "execution_count": 2,
   "metadata": {},
   "outputs": [
    {
     "name": "stderr",
     "output_type": "stream",
     "text": [
      "Some weights of RobertaForSequenceClassification were not initialized from the model checkpoint at roberta-base and are newly initialized: ['classifier.dense.bias', 'classifier.dense.weight', 'classifier.out_proj.bias', 'classifier.out_proj.weight']\n",
      "You should probably TRAIN this model on a down-stream task to be able to use it for predictions and inference.\n"
     ]
    },
    {
     "data": {
      "text/plain": [
       "RobertaForSequenceClassification(\n",
       "  (roberta): RobertaModel(\n",
       "    (embeddings): RobertaEmbeddings(\n",
       "      (word_embeddings): Embedding(50265, 768, padding_idx=1)\n",
       "      (position_embeddings): Embedding(514, 768, padding_idx=1)\n",
       "      (token_type_embeddings): Embedding(1, 768)\n",
       "      (LayerNorm): LayerNorm((768,), eps=1e-05, elementwise_affine=True)\n",
       "      (dropout): Dropout(p=0.1, inplace=False)\n",
       "    )\n",
       "    (encoder): RobertaEncoder(\n",
       "      (layer): ModuleList(\n",
       "        (0-11): 12 x RobertaLayer(\n",
       "          (attention): RobertaAttention(\n",
       "            (self): RobertaSdpaSelfAttention(\n",
       "              (query): Linear(in_features=768, out_features=768, bias=True)\n",
       "              (key): Linear(in_features=768, out_features=768, bias=True)\n",
       "              (value): Linear(in_features=768, out_features=768, bias=True)\n",
       "              (dropout): Dropout(p=0.1, inplace=False)\n",
       "            )\n",
       "            (output): RobertaSelfOutput(\n",
       "              (dense): Linear(in_features=768, out_features=768, bias=True)\n",
       "              (LayerNorm): LayerNorm((768,), eps=1e-05, elementwise_affine=True)\n",
       "              (dropout): Dropout(p=0.1, inplace=False)\n",
       "            )\n",
       "          )\n",
       "          (intermediate): RobertaIntermediate(\n",
       "            (dense): Linear(in_features=768, out_features=3072, bias=True)\n",
       "            (intermediate_act_fn): GELUActivation()\n",
       "          )\n",
       "          (output): RobertaOutput(\n",
       "            (dense): Linear(in_features=3072, out_features=768, bias=True)\n",
       "            (LayerNorm): LayerNorm((768,), eps=1e-05, elementwise_affine=True)\n",
       "            (dropout): Dropout(p=0.1, inplace=False)\n",
       "          )\n",
       "        )\n",
       "      )\n",
       "    )\n",
       "  )\n",
       "  (classifier): RobertaClassificationHead(\n",
       "    (dense): Linear(in_features=768, out_features=768, bias=True)\n",
       "    (dropout): Dropout(p=0.1, inplace=False)\n",
       "    (out_proj): Linear(in_features=768, out_features=2, bias=True)\n",
       "  )\n",
       ")"
      ]
     },
     "execution_count": 2,
     "metadata": {},
     "output_type": "execute_result"
    }
   ],
   "source": [
    "model_hf = transformers.AutoModelForSequenceClassification.from_pretrained(\"roberta-base\")\n",
    "tokenizer = transformers.AutoTokenizer.from_pretrained(\"roberta-base\")\n",
    "model_hf.eval()\n"
   ]
  },
  {
   "cell_type": "code",
   "execution_count": 3,
   "metadata": {},
   "outputs": [],
   "source": [
    "model = RobertaForSequenceClassification(RobertaConfig.from_dict(model_hf.config.to_dict()))\n"
   ]
  },
  {
   "cell_type": "code",
   "execution_count": 4,
   "metadata": {},
   "outputs": [
    {
     "data": {
      "text/plain": [
       "RobertaForSequenceClassification(\n",
       "  (bert): RobertaModel(\n",
       "    (embeddings): RobertaEmbeddings(\n",
       "      (word_embeddings): Embedding(50265, 768)\n",
       "      (token_type_embeddings): Embedding(1, 768)\n",
       "      (LayerNorm): LayerNorm((768,), eps=1e-12)\n",
       "      (dropout): Dropout(p=0.1, inplace=False)\n",
       "      (position_embeddings): Embedding(514, 768)\n",
       "    )\n",
       "    (encoder): RobertaEncoder(\n",
       "      (layer): ModuleList(\n",
       "        (0-11): 12 x RobertaLayer(\n",
       "          (attention): RobertaAttention(\n",
       "            (self): RobertaSelfAttention(\n",
       "              (query): Linear(in_features=768, out_features=768, bias=True)\n",
       "              (key): Linear(in_features=768, out_features=768, bias=True)\n",
       "              (value): Linear(in_features=768, out_features=768, bias=True)\n",
       "              (dropout): Dropout(p=0.1, inplace=False)\n",
       "            )\n",
       "            (output): RobertaSelfOutput(\n",
       "              (dense): Linear(in_features=768, out_features=768, bias=True)\n",
       "              (LayerNorm): LayerNorm((768,), eps=1e-12)\n",
       "              (dropout): Dropout(p=0.1, inplace=False)\n",
       "            )\n",
       "          )\n",
       "          (intermediate): RobertaIntermediate(\n",
       "            (dense): Linear(in_features=768, out_features=3072, bias=True)\n",
       "          )\n",
       "          (output): RobertaOutput(\n",
       "            (dense): Linear(in_features=3072, out_features=768, bias=True)\n",
       "            (LayerNorm): LayerNorm((768,), eps=1e-12)\n",
       "            (dropout): Dropout(p=0.1, inplace=False)\n",
       "          )\n",
       "        )\n",
       "      )\n",
       "    )\n",
       "    (pooler): RobertaPooler(\n",
       "      (dense): Linear(in_features=768, out_features=768, bias=True)\n",
       "      (activation): Tanh()\n",
       "    )\n",
       "  )\n",
       "  (dropout): Dropout(p=0.1, inplace=False)\n",
       "  (classifier): Linear(in_features=768, out_features=2, bias=True)\n",
       ")"
      ]
     },
     "execution_count": 4,
     "metadata": {},
     "output_type": "execute_result"
    }
   ],
   "source": [
    "new_state_dict = OrderedDict()\n",
    "for key, value in model_hf.state_dict().items():\n",
    "    # rename weight values in state_dict from roberta to bert\n",
    "    new_key = key.replace(\"roberta\", \"bert\")\n",
    "    new_key = new_key.replace(\n",
    "        \"classifier.dense\", \"bert.pooler.dense\").replace(\n",
    "            \"classifier.out_proj\", \"classifier\")\n",
    "    # ref : https://pytorch.org/docs/stable/generated/torch.nn.LayerNorm.html\n",
    "    new_key = new_key.replace(\"LayerNorm.weight\",\n",
    "                           \"LayerNorm.gamma\").replace(\"LayerNorm.bias\",\n",
    "                                                       \"LayerNorm.beta\")\n",
    "    new_key = new_key.replace(\"lm_head.layer_norm.weight\",\n",
    "                           \"cls.predictions.transform.LayerNorm.gamma\").replace(\"lm_head.layer_norm.bias\",\n",
    "                                                       \"cls.predictions.transform.LayerNorm.beta\")\n",
    "    new_key = new_key.replace(\"lm_head.decoder\", \"cls.predictions.decoder\")\n",
    "    new_key = new_key.replace(\"lm_head.dense\", \"cls.predictions.transform.dense\")\n",
    "    new_key = new_key.replace(\"cls.predictions.decoder.bias\", \"cls.predictions.transform.dense\")\n",
    "    new_key = new_key.replace(\"lm_head.bias\", \"cls.predictions.bias\")\n",
    "    \n",
    "    new_state_dict[new_key] = value\n",
    "    \n",
    "model.load_state_dict(new_state_dict)\n",
    "model.eval()\n"
   ]
  },
  {
   "cell_type": "code",
   "execution_count": 5,
   "metadata": {},
   "outputs": [
    {
     "data": {
      "text/plain": [
       "True"
      ]
     },
     "execution_count": 5,
     "metadata": {},
     "output_type": "execute_result"
    }
   ],
   "source": [
    "torch.allclose(\n",
    "    model_hf.roberta.encoder.layer[0].attention.self.query.weight,\n",
    "    model.bert.encoder.layer[0].attention.self.query.weight,\n",
    "    atol=1e-5)\n"
   ]
  },
  {
   "cell_type": "code",
   "execution_count": 19,
   "metadata": {},
   "outputs": [
    {
     "data": {
      "text/plain": [
       "tensor([[-0.0956,  0.0408],\n",
       "        [-0.0959,  0.0360]])"
      ]
     },
     "execution_count": 19,
     "metadata": {},
     "output_type": "execute_result"
    }
   ],
   "source": [
    "# tokenizer.pad_token = tokenizer.eos_token\n",
    "# model_hf.config.pad_token_id = tokenizer.convert_tokens_to_ids(tokenizer.pad_token)\n",
    "\n",
    "inputs = tokenizer([\"Hello, my dog is cute\", \"Paris is the capital of France\"], return_tensors=\"pt\",\n",
    "                   truncation=True, padding=\"max_length\", max_length=128\n",
    "                   )\n",
    "\n",
    "inputs[\"input_ids\"] = inputs[\"input_ids\"]\n",
    "model_hf.eval()\n",
    "\n",
    "with torch.no_grad():\n",
    "    logits_hf = model_hf(**inputs)\n",
    "\n",
    "logits_hf.logits\n"
   ]
  },
  {
   "cell_type": "code",
   "execution_count": 20,
   "metadata": {},
   "outputs": [
    {
     "data": {
      "text/plain": [
       "tensor([[-0.0956,  0.0408],\n",
       "        [-0.0959,  0.0360]])"
      ]
     },
     "execution_count": 20,
     "metadata": {},
     "output_type": "execute_result"
    }
   ],
   "source": [
    "with torch.no_grad():\n",
    "    logits = model(**inputs)\n",
    "\n",
    "logits\n"
   ]
  },
  {
   "cell_type": "code",
   "execution_count": 21,
   "metadata": {},
   "outputs": [
    {
     "name": "stderr",
     "output_type": "stream",
     "text": [
      "Some weights of RobertaForSequenceClassification were not initialized from the model checkpoint at roberta-base and are newly initialized: ['classifier.dense.bias', 'classifier.dense.weight', 'classifier.out_proj.bias', 'classifier.out_proj.weight']\n",
      "You should probably TRAIN this model on a down-stream task to be able to use it for predictions and inference.\n"
     ]
    }
   ],
   "source": [
    "model_decomposed = RobertaForSequenceClassificationDecomposed.from_pretrained(\n",
    "    \"roberta-base\", num_labels=2, debug=True, num_contributions=2, shapley_include_bias=False)\n"
   ]
  },
  {
   "cell_type": "code",
   "execution_count": 22,
   "metadata": {},
   "outputs": [
    {
     "name": "stdout",
     "output_type": "stream",
     "text": [
      "torch.Size([2, 2, 128])\n",
      "Roberta Encoder Layer 0 error: 7.053347741979863e-16\n",
      "Roberta Encoder Layer 1 error: 1.3655197442356153e-15\n",
      "Roberta Encoder Layer 2 error: 1.533670197060587e-15\n",
      "Roberta Encoder Layer 3 error: 1.7615183232214401e-15\n",
      "Roberta Encoder Layer 4 error: 2.260770988858441e-15\n",
      "Roberta Encoder Layer 5 error: 2.4090850936261123e-15\n",
      "Roberta Encoder Layer 6 error: 3.6008283389858066e-15\n",
      "Roberta Encoder Layer 7 error: 6.1220706944279405e-15\n",
      "Roberta Encoder Layer 8 error: 1.3595941591552308e-14\n",
      "Roberta Encoder Layer 9 error: 2.939504930914178e-14\n",
      "Roberta Encoder Layer 10 error: 4.8713760772716e-14\n",
      "Roberta Encoder Layer 11 error: 2.1991366542082924e-14\n",
      "\n",
      "Pooled output error:  2.1202301854085153e-15\n",
      "\n",
      "Roberta Classifier logits error:  6.660253945578454e-16\n"
     ]
    }
   ],
   "source": [
    "beta_mask = (torch.rand(128) > 0.5).to(int)\n",
    "beta_mask = torch.stack([beta_mask, 1 - beta_mask])\n",
    "beta_mask = torch.stack([beta_mask] * 2)\n",
    "print(beta_mask.shape)\n",
    "\n",
    "with torch.no_grad():\n",
    "    decomposed_logits = model_decomposed(\n",
    "        input_ids = inputs[\"input_ids\"],\n",
    "        attention_mask = inputs[\"attention_mask\"],\n",
    "        beta_mask=beta_mask)\n"
   ]
  },
  {
   "cell_type": "code",
   "execution_count": 28,
   "metadata": {},
   "outputs": [
    {
     "name": "stdout",
     "output_type": "stream",
     "text": [
      "Roberta Encoder Layer 0 error: 7.053347741979863e-16\n",
      "Roberta Encoder Layer 1 error: 1.3655197442356153e-15\n",
      "Roberta Encoder Layer 2 error: 1.533670197060587e-15\n",
      "Roberta Encoder Layer 3 error: 1.7615183232214401e-15\n",
      "Roberta Encoder Layer 4 error: 2.260770988858441e-15\n",
      "Roberta Encoder Layer 5 error: 2.4090850936261123e-15\n",
      "Roberta Encoder Layer 6 error: 3.6008283389858066e-15\n",
      "Roberta Encoder Layer 7 error: 6.1220706944279405e-15\n",
      "Roberta Encoder Layer 8 error: 1.3595941591552308e-14\n",
      "Roberta Encoder Layer 9 error: 2.939504930914178e-14\n",
      "Roberta Encoder Layer 10 error: 4.8713760772716e-14\n",
      "Roberta Encoder Layer 11 error: 2.1991366542082924e-14\n"
     ]
    },
    {
     "data": {
      "text/plain": [
       "torch.Size([3, 2, 128, 768])"
      ]
     },
     "execution_count": 28,
     "metadata": {},
     "output_type": "execute_result"
    }
   ],
   "source": [
    "decompose\n"
   ]
  },
  {
   "cell_type": "code",
   "execution_count": 10,
   "metadata": {},
   "outputs": [
    {
     "name": "stderr",
     "output_type": "stream",
     "text": [
      "Some weights of RobertaForSequenceClassification were not initialized from the model checkpoint at roberta-base and are newly initialized: ['classifier.dense.bias', 'classifier.dense.weight', 'classifier.out_proj.bias', 'classifier.out_proj.weight']\n",
      "You should probably TRAIN this model on a down-stream task to be able to use it for predictions and inference.\n"
     ]
    }
   ],
   "source": [
    "model_decomposed = RobertaForSequenceClassificationDecomposed.from_pretrained(\n",
    "    \"roberta-base\", num_labels=2, debug=True, num_contributions=2,\n",
    "    shapley_include_bias=True)\n"
   ]
  },
  {
   "cell_type": "code",
   "execution_count": 11,
   "metadata": {},
   "outputs": [
    {
     "name": "stdout",
     "output_type": "stream",
     "text": [
      "torch.Size([2, 2, 128])\n",
      "Roberta Encoder Layer 0 error: 9.45152613001158e-16\n",
      "Roberta Encoder Layer 1 error: 4.048656048689765e-15\n",
      "Roberta Encoder Layer 2 error: 2.4831058167188317e-14\n",
      "Roberta Encoder Layer 3 error: 3.1059510149682104e-13\n",
      "Roberta Encoder Layer 4 error: 4.127979700060342e-12\n",
      "Roberta Encoder Layer 5 error: 4.3145703932436284e-11\n",
      "Roberta Encoder Layer 6 error: 2.449237399272597e-10\n",
      "Roberta Encoder Layer 7 error: 1.1569460553915231e-09\n",
      "Roberta Encoder Layer 8 error: 5.917498722587327e-09\n",
      "Roberta Encoder Layer 9 error: 2.4135236333255104e-08\n",
      "Roberta Encoder Layer 10 error: 4.5486368738502e-08\n",
      "Roberta Encoder Layer 11 error: 2.1228192026963555e-08\n",
      "\n",
      "Pooled output error:  2.6192674314963653e-09\n",
      "\n",
      "Roberta Classifier logits error:  2.135024802785157e-09\n"
     ]
    }
   ],
   "source": [
    "beta_mask = (torch.rand(128) > 0.5).to(int)\n",
    "beta_mask = torch.stack([beta_mask, 1 - beta_mask])\n",
    "beta_mask = torch.stack([beta_mask] * 2)\n",
    "print(beta_mask.shape)\n",
    "\n",
    "with torch.no_grad():\n",
    "    decomposed_logits = model_decomposed(\n",
    "        input_ids = inputs[\"input_ids\"],\n",
    "        attention_mask = inputs[\"attention_mask\"],\n",
    "        beta_mask=beta_mask)\n"
   ]
  },
  {
   "cell_type": "code",
   "execution_count": 12,
   "metadata": {},
   "outputs": [],
   "source": [
    "inputs = tokenizer([\"Hello, did you know that the <mask> of France is <mask>?\", \"Hello, did you know that the <mask> of France is <mask>?\"], return_tensors=\"pt\",\n",
    "                   truncation=True, padding=\"max_length\", max_length=128\n",
    "                   )\n"
   ]
  },
  {
   "cell_type": "code",
   "execution_count": 13,
   "metadata": {},
   "outputs": [],
   "source": [
    "model_decomposed = RobertaForMaskedLMDecomposed.from_pretrained(\n",
    "    \"roberta-base\", debug=True, num_contributions=2,\n",
    "    shapley_include_bias=False)\n"
   ]
  },
  {
   "cell_type": "code",
   "execution_count": 16,
   "metadata": {},
   "outputs": [
    {
     "name": "stdout",
     "output_type": "stream",
     "text": [
      "torch.Size([2, 2, 128])\n",
      "\n",
      "Roberta LM predictions error:  4.75799996183548e-12\n"
     ]
    }
   ],
   "source": [
    "beta_mask = (torch.rand(128) > 0.5).to(int)\n",
    "beta_mask = torch.stack([beta_mask, 1 - beta_mask])\n",
    "beta_mask = torch.stack([beta_mask] * 2)\n",
    "print(beta_mask.shape)\n",
    "\n",
    "with torch.no_grad():\n",
    "    decomposed_logits = model_decomposed(\n",
    "        input_ids = inputs[\"input_ids\"],\n",
    "        attention_mask = inputs[\"attention_mask\"],\n",
    "        beta_mask=beta_mask)\n"
   ]
  },
  {
   "cell_type": "code",
   "execution_count": 17,
   "metadata": {},
   "outputs": [],
   "source": [
    "model_decomposed = RobertaForMaskedLMDecomposed.from_pretrained(\n",
    "    \"roberta-base\", debug=True, num_contributions=2,\n",
    "    shapley_include_bias=True)\n"
   ]
  },
  {
   "cell_type": "code",
   "execution_count": 18,
   "metadata": {},
   "outputs": [
    {
     "name": "stdout",
     "output_type": "stream",
     "text": [
      "torch.Size([2, 2, 128])\n",
      "\n",
      "Roberta LM predictions error:  2.864429651130968e-07\n"
     ]
    }
   ],
   "source": [
    "beta_mask = (torch.rand(128) > 0.5).to(int)\n",
    "beta_mask = torch.stack([beta_mask, 1 - beta_mask])\n",
    "beta_mask = torch.stack([beta_mask] * 2)\n",
    "print(beta_mask.shape)\n",
    "\n",
    "with torch.no_grad():\n",
    "    decomposed_logits = model_decomposed(\n",
    "        input_ids = inputs[\"input_ids\"],\n",
    "        attention_mask = inputs[\"attention_mask\"],\n",
    "        beta_mask=beta_mask)\n"
   ]
  }
 ],
 "metadata": {
  "kernelspec": {
   "display_name": "metaphor",
   "language": "python",
   "name": "python3"
  },
  "language_info": {
   "codemirror_mode": {
    "name": "ipython",
    "version": 3
   },
   "file_extension": ".py",
   "mimetype": "text/x-python",
   "name": "python",
   "nbconvert_exporter": "python",
   "pygments_lexer": "ipython3",
   "version": "3.11.5"
  }
 },
 "nbformat": 4,
 "nbformat_minor": 2
}
