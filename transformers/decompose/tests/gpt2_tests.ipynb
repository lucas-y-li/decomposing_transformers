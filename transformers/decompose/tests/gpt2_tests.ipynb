{
 "cells": [
  {
   "cell_type": "code",
   "execution_count": 1,
   "metadata": {},
   "outputs": [],
   "source": [
    "import torch\n",
    "import transformers\n",
    "import numpy as np\n",
    "\n",
    "from collections import OrderedDict\n",
    "\n",
    "import sys\n",
    "sys.path.insert(0, '..')\n",
    "\n",
    "import gpt2_model\n",
    "from gpt2_model import GPT2ForSequenceClassification, GPT2Config\n",
    "from decompose_gpt2 import GPT2ForSequenceClassificationDecomposed\n"
   ]
  },
  {
   "cell_type": "code",
   "execution_count": 2,
   "metadata": {},
   "outputs": [
    {
     "name": "stderr",
     "output_type": "stream",
     "text": [
      "Some weights of GPT2ForSequenceClassification were not initialized from the model checkpoint at gpt2 and are newly initialized: ['score.weight']\n",
      "You should probably TRAIN this model on a down-stream task to be able to use it for predictions and inference.\n"
     ]
    }
   ],
   "source": [
    "model_hf = transformers.AutoModelForSequenceClassification.from_pretrained(\"gpt2\")\n",
    "tokenizer = transformers.AutoTokenizer.from_pretrained(\"gpt2\")\n"
   ]
  },
  {
   "cell_type": "code",
   "execution_count": 3,
   "metadata": {},
   "outputs": [
    {
     "data": {
      "text/plain": [
       "GPT2Config {\n",
       "  \"_name_or_path\": \"gpt2\",\n",
       "  \"activation_function\": \"gelu_new\",\n",
       "  \"architectures\": [\n",
       "    \"GPT2LMHeadModel\"\n",
       "  ],\n",
       "  \"attn_pdrop\": 0.1,\n",
       "  \"bos_token_id\": 50256,\n",
       "  \"embd_pdrop\": 0.1,\n",
       "  \"eos_token_id\": 50256,\n",
       "  \"initializer_range\": 0.02,\n",
       "  \"layer_norm_epsilon\": 1e-05,\n",
       "  \"model_type\": \"gpt2\",\n",
       "  \"n_ctx\": 1024,\n",
       "  \"n_embd\": 768,\n",
       "  \"n_head\": 12,\n",
       "  \"n_inner\": null,\n",
       "  \"n_layer\": 12,\n",
       "  \"n_positions\": 1024,\n",
       "  \"reorder_and_upcast_attn\": false,\n",
       "  \"resid_pdrop\": 0.1,\n",
       "  \"scale_attn_by_inverse_layer_idx\": false,\n",
       "  \"scale_attn_weights\": true,\n",
       "  \"summary_activation\": null,\n",
       "  \"summary_first_dropout\": 0.1,\n",
       "  \"summary_proj_to_labels\": true,\n",
       "  \"summary_type\": \"cls_index\",\n",
       "  \"summary_use_proj\": true,\n",
       "  \"task_specific_params\": {\n",
       "    \"text-generation\": {\n",
       "      \"do_sample\": true,\n",
       "      \"max_length\": 50\n",
       "    }\n",
       "  },\n",
       "  \"transformers_version\": \"4.45.2\",\n",
       "  \"use_cache\": true,\n",
       "  \"vocab_size\": 50257\n",
       "}"
      ]
     },
     "execution_count": 3,
     "metadata": {},
     "output_type": "execute_result"
    }
   ],
   "source": [
    "model_hf.config\n"
   ]
  },
  {
   "cell_type": "code",
   "execution_count": 4,
   "metadata": {},
   "outputs": [],
   "source": [
    "model = GPT2ForSequenceClassification(GPT2Config.from_dict(model_hf.config.to_dict()))\n"
   ]
  },
  {
   "cell_type": "code",
   "execution_count": 5,
   "metadata": {},
   "outputs": [
    {
     "data": {
      "text/plain": [
       "GPT2ForSequenceClassification(\n",
       "  (transformer): GPT2Model(\n",
       "    (wte): Embedding(50257, 768)\n",
       "    (wpe): Embedding(1024, 768)\n",
       "    (drop): Dropout(p=0.1, inplace=False)\n",
       "    (h): ModuleList(\n",
       "      (0-11): 12 x Block(\n",
       "        (ln_1): LayerNorm((768,), eps=1e-05)\n",
       "        (attn): Attention(\n",
       "          (c_attn): Conv1D(nf=2304, nx=768)\n",
       "          (c_proj): Conv1D(nf=768, nx=768)\n",
       "          (attn_dropout): Dropout(p=0.1, inplace=False)\n",
       "          (resid_dropout): Dropout(p=0.1, inplace=False)\n",
       "        )\n",
       "        (ln_2): LayerNorm((768,), eps=1e-05)\n",
       "        (mlp): MLP(\n",
       "          (c_fc): Conv1D(nf=3072, nx=768)\n",
       "          (c_proj): Conv1D(nf=768, nx=3072)\n",
       "          (dropout): Dropout(p=0.1, inplace=False)\n",
       "        )\n",
       "      )\n",
       "    )\n",
       "    (ln_f): LayerNorm((768,), eps=1e-05)\n",
       "  )\n",
       "  (score): Linear(in_features=768, out_features=2, bias=False)\n",
       ")"
      ]
     },
     "execution_count": 5,
     "metadata": {},
     "output_type": "execute_result"
    }
   ],
   "source": [
    "new_state_dict = OrderedDict()\n",
    "for key, value in model_hf.state_dict().items():\n",
    "    # ref : https://pytorch.org/docs/stable/generated/torch.nn.LayerNorm.html\n",
    "    new_key = key.replace(\"ln_1.weight\", \"ln_1.gamma\").replace(\"ln_1.bias\", \"ln_1.beta\")\n",
    "    new_key = new_key.replace(\"ln_2.weight\", \"ln_2.gamma\").replace(\"ln_2.bias\", \"ln_2.beta\")\n",
    "    new_key = new_key.replace(\"ln_f.weight\", \"ln_f.gamma\").replace(\"ln_f.bias\", \"ln_f.beta\")\n",
    "    new_state_dict[new_key] = value\n",
    "    \n",
    "model.load_state_dict(new_state_dict)\n",
    "model.eval()\n"
   ]
  },
  {
   "cell_type": "code",
   "execution_count": 6,
   "metadata": {},
   "outputs": [],
   "source": [
    "# test equal activation functions\n",
    "\n",
    "f_1 = model_hf.transformer.h[0].mlp.act\n",
    "f_2 = gpt2_model.gelu\n",
    "\n",
    "x = torch.rand((100, 100))\n",
    "assert torch.equal(f_1(x), f_2(x))\n"
   ]
  },
  {
   "cell_type": "code",
   "execution_count": 7,
   "metadata": {},
   "outputs": [],
   "source": [
    "with torch.no_grad():\n",
    "    for i in range(12):\n",
    "        x = torch.rand((100, 768))\n",
    "\n",
    "        # test equal mlp\n",
    "        f_1 = model_hf.transformer.h[0].mlp\n",
    "        f_2 = model.transformer.h[0].mlp\n",
    "        assert torch.allclose(f_1(x), f_2(x), atol=1e-5)\n",
    "\n",
    "        # test equal layernorm\n",
    "        f_1 = model_hf.transformer.h[0].ln_1\n",
    "        f_2 = model.transformer.h[0].ln_1\n",
    "        assert torch.allclose(f_1(x), f_2(x), atol=1e-5)\n",
    "\n",
    "        f_1 = model_hf.transformer.h[0].ln_2\n",
    "        f_2 = model.transformer.h[0].ln_2\n",
    "        assert torch.allclose(f_1(x), f_2(x), atol=1e-5)\n",
    "\n",
    "        x = torch.rand((100, 100, 768))\n",
    "        # test equal attention\n",
    "        f_1 = model_hf.transformer.h[0].attn\n",
    "        f_2 = model.transformer.h[0].attn\n",
    "        assert torch.allclose(f_1(x)[0], f_2(x)[0], atol=1e-3)\n"
   ]
  },
  {
   "cell_type": "code",
   "execution_count": 8,
   "metadata": {},
   "outputs": [
    {
     "data": {
      "text/plain": [
       "tensor([[ 4.1302, -2.2830],\n",
       "        [ 4.1302, -2.2830]])"
      ]
     },
     "execution_count": 8,
     "metadata": {},
     "output_type": "execute_result"
    }
   ],
   "source": [
    "tokenizer.pad_token = tokenizer.eos_token\n",
    "model_hf.config.pad_token_id = tokenizer.convert_tokens_to_ids(tokenizer.pad_token)\n",
    "\n",
    "inputs = tokenizer([\"Hello, my dog is cute\", \"Hello, my dog is cute\"], return_tensors=\"pt\",\n",
    "                   truncation=True, padding=\"max_length\", max_length=128\n",
    "                   )\n",
    "\n",
    "inputs[\"input_ids\"] = inputs[\"input_ids\"]\n",
    "model_hf.eval()\n",
    "\n",
    "with torch.no_grad():\n",
    "    logits_hf = model_hf(**inputs)\n",
    "\n",
    "logits_hf.logits\n"
   ]
  },
  {
   "cell_type": "code",
   "execution_count": 9,
   "metadata": {},
   "outputs": [
    {
     "data": {
      "text/plain": [
       "tensor([[ 4.1302, -2.2830],\n",
       "        [ 4.1302, -2.2830]])"
      ]
     },
     "execution_count": 9,
     "metadata": {},
     "output_type": "execute_result"
    }
   ],
   "source": [
    "with torch.no_grad():\n",
    "    logits = model(**inputs)\n",
    "\n",
    "logits[\"logits\"]\n"
   ]
  },
  {
   "cell_type": "code",
   "execution_count": 12,
   "metadata": {},
   "outputs": [
    {
     "name": "stderr",
     "output_type": "stream",
     "text": [
      "Some weights of GPT2ForSequenceClassification were not initialized from the model checkpoint at gpt2 and are newly initialized: ['score.weight']\n",
      "You should probably TRAIN this model on a down-stream task to be able to use it for predictions and inference.\n"
     ]
    }
   ],
   "source": [
    "model_decomposed = GPT2ForSequenceClassificationDecomposed.from_pretrained(\n",
    "    \"gpt2\",\n",
    "    debug=True, \n",
    "    num_contributions=2,\n",
    "    shapley_include_bias=False\n",
    "    )\n"
   ]
  },
  {
   "cell_type": "code",
   "execution_count": 13,
   "metadata": {},
   "outputs": [
    {
     "name": "stdout",
     "output_type": "stream",
     "text": [
      "torch.Size([2, 2, 128])\n",
      "GPT2 Block Layer 0 error: 3.1943662040110526e-15\n",
      "GPT2 Block Layer 1 error: 3.72321620094784e-15\n",
      "GPT2 Block Layer 2 error: 5.402918807774432e-15\n",
      "GPT2 Block Layer 3 error: 6.624675560782511e-15\n",
      "GPT2 Block Layer 4 error: 8.375004086873984e-15\n",
      "GPT2 Block Layer 5 error: 9.722899297835816e-15\n",
      "GPT2 Block Layer 6 error: 1.0484493767676955e-14\n",
      "GPT2 Block Layer 7 error: 1.1153579231987063e-14\n",
      "GPT2 Block Layer 8 error: 1.2169330210315444e-14\n",
      "GPT2 Block Layer 9 error: 1.3611367102666473e-14\n",
      "GPT2 Block Layer 10 error: 1.6635398838955063e-14\n",
      "GPT2 Block Layer 11 error: 2.2772144047219033e-14\n",
      "GPT2 Classifier logits error:  3.1086244689504383e-15\n"
     ]
    }
   ],
   "source": [
    "beta_mask = (torch.rand(128) > 0.5).to(int)\n",
    "beta_mask = torch.stack([beta_mask, 1 - beta_mask])\n",
    "beta_mask = torch.stack([beta_mask] * 2)\n",
    "print(beta_mask.shape)\n",
    "\n",
    "with torch.no_grad():\n",
    "    model_decomposed.model.eval()\n",
    "    decomposed_logits = model_decomposed(\n",
    "        input_ids = inputs[\"input_ids\"],\n",
    "        attention_mask = inputs[\"attention_mask\"],\n",
    "        beta_mask=beta_mask)\n"
   ]
  },
  {
   "cell_type": "code",
   "execution_count": 14,
   "metadata": {},
   "outputs": [
    {
     "name": "stderr",
     "output_type": "stream",
     "text": [
      "Some weights of GPT2ForSequenceClassification were not initialized from the model checkpoint at gpt2 and are newly initialized: ['score.weight']\n",
      "You should probably TRAIN this model on a down-stream task to be able to use it for predictions and inference.\n"
     ]
    }
   ],
   "source": [
    "model_decomposed = GPT2ForSequenceClassificationDecomposed.from_pretrained(\n",
    "    \"gpt2\",\n",
    "    debug=True, \n",
    "    num_contributions=2,\n",
    "    shapley_include_bias=True\n",
    "    )\n"
   ]
  },
  {
   "cell_type": "code",
   "execution_count": 15,
   "metadata": {},
   "outputs": [
    {
     "name": "stdout",
     "output_type": "stream",
     "text": [
      "torch.Size([2, 2, 128])\n",
      "GPT2 Block Layer 0 error: 3.636919796067302e-15\n",
      "GPT2 Block Layer 1 error: 5.3430141231155455e-15\n",
      "GPT2 Block Layer 2 error: 1.3888991084679685e-14\n",
      "GPT2 Block Layer 3 error: 2.3928438597846576e-14\n",
      "GPT2 Block Layer 4 error: 5.889747758498866e-14\n",
      "GPT2 Block Layer 5 error: 1.3840804799311158e-13\n",
      "GPT2 Block Layer 6 error: 3.164191756937345e-13\n",
      "GPT2 Block Layer 7 error: 6.646665963167283e-13\n",
      "GPT2 Block Layer 8 error: 1.3170356660071007e-12\n",
      "GPT2 Block Layer 9 error: 2.5115868300669534e-12\n",
      "GPT2 Block Layer 10 error: 3.6315302116823175e-12\n",
      "GPT2 Block Layer 11 error: 6.205510303893382e-12\n",
      "GPT2 Classifier logits error:  1.325828336007362e-12\n"
     ]
    }
   ],
   "source": [
    "beta_mask = (torch.rand(128) > 0.5).to(int)\n",
    "beta_mask = torch.stack([beta_mask, 1 - beta_mask])\n",
    "beta_mask = torch.stack([beta_mask] * 2)\n",
    "print(beta_mask.shape)\n",
    "\n",
    "with torch.no_grad():\n",
    "    model_decomposed.model.eval()\n",
    "    decomposed_logits = model_decomposed(\n",
    "        input_ids = inputs[\"input_ids\"],\n",
    "        attention_mask = inputs[\"attention_mask\"],\n",
    "        beta_mask=beta_mask)\n"
   ]
  }
 ],
 "metadata": {
  "kernelspec": {
   "display_name": "metaphor",
   "language": "python",
   "name": "python3"
  },
  "language_info": {
   "codemirror_mode": {
    "name": "ipython",
    "version": 3
   },
   "file_extension": ".py",
   "mimetype": "text/x-python",
   "name": "python",
   "nbconvert_exporter": "python",
   "pygments_lexer": "ipython3",
   "version": "3.11.5"
  }
 },
 "nbformat": 4,
 "nbformat_minor": 2
}
