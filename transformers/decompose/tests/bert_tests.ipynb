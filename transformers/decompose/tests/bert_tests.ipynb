{
 "cells": [
  {
   "cell_type": "code",
   "execution_count": 1,
   "metadata": {},
   "outputs": [],
   "source": [
    "%load_ext autoreload\n",
    "%autoreload 2 \n",
    "\n",
    "import torch\n",
    "import transformers\n",
    "import numpy as np\n",
    "\n",
    "from collections import OrderedDict\n",
    "\n",
    "import sys\n",
    "sys.path.insert(0, '..')\n",
    "\n",
    "from bert_model import BertForSequenceClassification, BertConfig\n",
    "from decompose_bert import BertForSequenceClassificationDecomposed\n"
   ]
  },
  {
   "cell_type": "code",
   "execution_count": 2,
   "metadata": {},
   "outputs": [
    {
     "name": "stderr",
     "output_type": "stream",
     "text": [
      "Some weights of BertForSequenceClassification were not initialized from the model checkpoint at bert-base-uncased and are newly initialized: ['classifier.bias', 'classifier.weight']\n",
      "You should probably TRAIN this model on a down-stream task to be able to use it for predictions and inference.\n"
     ]
    },
    {
     "data": {
      "text/plain": [
       "BertForSequenceClassification(\n",
       "  (bert): BertModel(\n",
       "    (embeddings): BertEmbeddings(\n",
       "      (word_embeddings): Embedding(30522, 768, padding_idx=0)\n",
       "      (position_embeddings): Embedding(512, 768)\n",
       "      (token_type_embeddings): Embedding(2, 768)\n",
       "      (LayerNorm): LayerNorm((768,), eps=1e-12, elementwise_affine=True)\n",
       "      (dropout): Dropout(p=0.1, inplace=False)\n",
       "    )\n",
       "    (encoder): BertEncoder(\n",
       "      (layer): ModuleList(\n",
       "        (0-11): 12 x BertLayer(\n",
       "          (attention): BertAttention(\n",
       "            (self): BertSdpaSelfAttention(\n",
       "              (query): Linear(in_features=768, out_features=768, bias=True)\n",
       "              (key): Linear(in_features=768, out_features=768, bias=True)\n",
       "              (value): Linear(in_features=768, out_features=768, bias=True)\n",
       "              (dropout): Dropout(p=0.1, inplace=False)\n",
       "            )\n",
       "            (output): BertSelfOutput(\n",
       "              (dense): Linear(in_features=768, out_features=768, bias=True)\n",
       "              (LayerNorm): LayerNorm((768,), eps=1e-12, elementwise_affine=True)\n",
       "              (dropout): Dropout(p=0.1, inplace=False)\n",
       "            )\n",
       "          )\n",
       "          (intermediate): BertIntermediate(\n",
       "            (dense): Linear(in_features=768, out_features=3072, bias=True)\n",
       "            (intermediate_act_fn): GELUActivation()\n",
       "          )\n",
       "          (output): BertOutput(\n",
       "            (dense): Linear(in_features=3072, out_features=768, bias=True)\n",
       "            (LayerNorm): LayerNorm((768,), eps=1e-12, elementwise_affine=True)\n",
       "            (dropout): Dropout(p=0.1, inplace=False)\n",
       "          )\n",
       "        )\n",
       "      )\n",
       "    )\n",
       "    (pooler): BertPooler(\n",
       "      (dense): Linear(in_features=768, out_features=768, bias=True)\n",
       "      (activation): Tanh()\n",
       "    )\n",
       "  )\n",
       "  (dropout): Dropout(p=0.1, inplace=False)\n",
       "  (classifier): Linear(in_features=768, out_features=2, bias=True)\n",
       ")"
      ]
     },
     "execution_count": 2,
     "metadata": {},
     "output_type": "execute_result"
    }
   ],
   "source": [
    "model_hf = transformers.AutoModelForSequenceClassification.from_pretrained(\"bert-base-uncased\")\n",
    "tokenizer = transformers.AutoTokenizer.from_pretrained(\"bert-base-uncased\")\n",
    "model_hf.eval()\n"
   ]
  },
  {
   "cell_type": "code",
   "execution_count": 3,
   "metadata": {},
   "outputs": [],
   "source": [
    "model = BertForSequenceClassification(BertConfig.from_dict(model_hf.config.to_dict()))\n"
   ]
  },
  {
   "cell_type": "code",
   "execution_count": 4,
   "metadata": {},
   "outputs": [
    {
     "data": {
      "text/plain": [
       "BertForSequenceClassification(\n",
       "  (bert): BertModel(\n",
       "    (embeddings): BertEmbeddings(\n",
       "      (word_embeddings): Embedding(30522, 768)\n",
       "      (position_embeddings): Embedding(512, 768)\n",
       "      (token_type_embeddings): Embedding(2, 768)\n",
       "      (LayerNorm): LayerNorm((768,), eps=1e-12)\n",
       "      (dropout): Dropout(p=0.1, inplace=False)\n",
       "    )\n",
       "    (encoder): BertEncoder(\n",
       "      (layer): ModuleList(\n",
       "        (0-11): 12 x BertLayer(\n",
       "          (attention): BertAttention(\n",
       "            (self): BertSelfAttention(\n",
       "              (query): Linear(in_features=768, out_features=768, bias=True)\n",
       "              (key): Linear(in_features=768, out_features=768, bias=True)\n",
       "              (value): Linear(in_features=768, out_features=768, bias=True)\n",
       "              (dropout): Dropout(p=0.1, inplace=False)\n",
       "            )\n",
       "            (output): BertSelfOutput(\n",
       "              (dense): Linear(in_features=768, out_features=768, bias=True)\n",
       "              (LayerNorm): LayerNorm((768,), eps=1e-12)\n",
       "              (dropout): Dropout(p=0.1, inplace=False)\n",
       "            )\n",
       "          )\n",
       "          (intermediate): BertIntermediate(\n",
       "            (dense): Linear(in_features=768, out_features=3072, bias=True)\n",
       "          )\n",
       "          (output): BertOutput(\n",
       "            (dense): Linear(in_features=3072, out_features=768, bias=True)\n",
       "            (LayerNorm): LayerNorm((768,), eps=1e-12)\n",
       "            (dropout): Dropout(p=0.1, inplace=False)\n",
       "          )\n",
       "        )\n",
       "      )\n",
       "    )\n",
       "    (pooler): BertPooler(\n",
       "      (dense): Linear(in_features=768, out_features=768, bias=True)\n",
       "      (activation): Tanh()\n",
       "    )\n",
       "  )\n",
       "  (dropout): Dropout(p=0.1, inplace=False)\n",
       "  (classifier): Linear(in_features=768, out_features=2, bias=True)\n",
       ")"
      ]
     },
     "execution_count": 4,
     "metadata": {},
     "output_type": "execute_result"
    }
   ],
   "source": [
    "new_state_dict = OrderedDict()\n",
    "for key, value in model_hf.state_dict().items():\n",
    "    # rename weight values in state_dict from roberta to bert\n",
    "    # new_key = key.replace(\"roberta\", \"bert\")\n",
    "    new_key = key.replace(\n",
    "        \"classifier.dense\", \"bert.pooler.dense\").replace(\n",
    "            \"classifier.out_proj\", \"classifier\")\n",
    "    # ref : https://pytorch.org/docs/stable/generated/torch.nn.LayerNorm.html\n",
    "    new_key = new_key.replace(\"LayerNorm.weight\",\n",
    "                           \"LayerNorm.gamma\").replace(\"LayerNorm.bias\",\n",
    "                                                       \"LayerNorm.beta\")\n",
    "    new_key = new_key.replace(\"lm_head.layer_norm.weight\",\n",
    "                           \"cls.predictions.transform.LayerNorm.gamma\").replace(\"lm_head.layer_norm.bias\",\n",
    "                                                       \"cls.predictions.transform.LayerNorm.beta\")\n",
    "    new_key = new_key.replace(\"lm_head.decoder\", \"cls.predictions.decoder\")\n",
    "    new_key = new_key.replace(\"lm_head.dense\", \"cls.predictions.transform.dense\")\n",
    "    new_key = new_key.replace(\"cls.predictions.decoder.bias\", \"cls.predictions.transform.dense\")\n",
    "    new_key = new_key.replace(\"lm_head.bias\", \"cls.predictions.bias\")\n",
    "    \n",
    "    new_state_dict[new_key] = value\n",
    "    \n",
    "model.load_state_dict(new_state_dict)\n",
    "model.eval()\n"
   ]
  },
  {
   "cell_type": "code",
   "execution_count": 5,
   "metadata": {},
   "outputs": [
    {
     "data": {
      "text/plain": [
       "True"
      ]
     },
     "execution_count": 5,
     "metadata": {},
     "output_type": "execute_result"
    }
   ],
   "source": [
    "torch.allclose(\n",
    "    model_hf.bert.encoder.layer[0].attention.self.query.weight,\n",
    "    model.bert.encoder.layer[0].attention.self.query.weight,\n",
    "    atol=1e-5)\n"
   ]
  },
  {
   "cell_type": "code",
   "execution_count": 6,
   "metadata": {},
   "outputs": [],
   "source": [
    "with torch.no_grad():\n",
    "    for i in range(12):\n",
    "        # test equal encoder layers\n",
    "        x = torch.rand((100, 100, 768))\n",
    "        f_1 = model_hf.bert.encoder.layer[i]\n",
    "        f_2 = model.bert.encoder.layer[i]\n",
    "        assert torch.allclose(f_1(x)[0], f_2(x, 0), atol=1e-5)\n"
   ]
  },
  {
   "cell_type": "code",
   "execution_count": 7,
   "metadata": {},
   "outputs": [
    {
     "data": {
      "text/plain": [
       "tensor([[ 0.0067, -0.0538],\n",
       "        [ 0.0067, -0.0538]])"
      ]
     },
     "execution_count": 7,
     "metadata": {},
     "output_type": "execute_result"
    }
   ],
   "source": [
    "# tokenizer.pad_token = tokenizer.eos_token\n",
    "# model_hf.config.pad_token_id = tokenizer.convert_tokens_to_ids(tokenizer.pad_token)\n",
    "\n",
    "inputs = tokenizer([\"Hello, my dog is cute\", \"Hello, my dog is cute\"], return_tensors=\"pt\",\n",
    "                   truncation=True, padding=\"max_length\", max_length=128\n",
    "                   )\n",
    "\n",
    "inputs[\"input_ids\"] = inputs[\"input_ids\"]\n",
    "model_hf.eval()\n",
    "\n",
    "with torch.no_grad():\n",
    "    logits_hf = model_hf(**inputs)\n",
    "\n",
    "logits_hf.logits\n"
   ]
  },
  {
   "cell_type": "code",
   "execution_count": 8,
   "metadata": {},
   "outputs": [
    {
     "data": {
      "text/plain": [
       "tensor([[ 0.0067, -0.0538],\n",
       "        [ 0.0067, -0.0538]])"
      ]
     },
     "execution_count": 8,
     "metadata": {},
     "output_type": "execute_result"
    }
   ],
   "source": [
    "with torch.no_grad():\n",
    "    logits = model(**inputs)\n",
    "\n",
    "logits\n"
   ]
  },
  {
   "cell_type": "code",
   "execution_count": 9,
   "metadata": {},
   "outputs": [
    {
     "name": "stderr",
     "output_type": "stream",
     "text": [
      "Some weights of BertForSequenceClassification were not initialized from the model checkpoint at bert-base-uncased and are newly initialized: ['classifier.bias', 'classifier.weight']\n",
      "You should probably TRAIN this model on a down-stream task to be able to use it for predictions and inference.\n"
     ]
    }
   ],
   "source": [
    "model_decomposed = BertForSequenceClassificationDecomposed.from_pretrained(\n",
    "    \"bert-base-uncased\", num_labels=2, debug=True, num_contributions=2,\n",
    "    shapley_include_bias=False, generalized=True)\n"
   ]
  },
  {
   "cell_type": "code",
   "execution_count": 10,
   "metadata": {},
   "outputs": [
    {
     "name": "stdout",
     "output_type": "stream",
     "text": [
      "torch.Size([2, 2, 128])\n",
      "Bert Encoder Layer 0 error: 6.989978328607237e-16\n",
      "Bert Encoder Layer 1 error: 1.3262312161643556e-15\n",
      "Bert Encoder Layer 2 error: 1.469668336832308e-15\n",
      "Bert Encoder Layer 3 error: 1.987404278810551e-15\n",
      "Bert Encoder Layer 4 error: 2.269078172395863e-15\n",
      "Bert Encoder Layer 5 error: 2.488831869733019e-15\n",
      "Bert Encoder Layer 6 error: 2.6950499651323467e-15\n",
      "Bert Encoder Layer 7 error: 2.7028122996895306e-15\n",
      "Bert Encoder Layer 8 error: 2.7256980562439067e-15\n",
      "Bert Encoder Layer 9 error: 2.8546187576946783e-15\n",
      "Bert Encoder Layer 10 error: 2.777546592894938e-15\n",
      "Bert Encoder Layer 11 error: 1.409679690032525e-15\n",
      "\n",
      "Pooled output error:  6.996171683522143e-16\n",
      "\n",
      "Bert Classifier logits error:  4.180683577104105e-16\n"
     ]
    }
   ],
   "source": [
    "beta_mask = (torch.rand(128) > 0.5).to(int)\n",
    "beta_mask = torch.stack([beta_mask, 1 - beta_mask])\n",
    "beta_mask = torch.stack([beta_mask] * 2)\n",
    "print(beta_mask.shape)\n",
    "\n",
    "with torch.no_grad():\n",
    "    model_decomposed.model.eval()\n",
    "    decomposed_logits = model_decomposed(\n",
    "        input_ids = inputs[\"input_ids\"],\n",
    "        attention_mask = inputs[\"attention_mask\"],\n",
    "        beta_mask=beta_mask)\n"
   ]
  },
  {
   "cell_type": "code",
   "execution_count": 11,
   "metadata": {},
   "outputs": [
    {
     "name": "stderr",
     "output_type": "stream",
     "text": [
      "Some weights of BertForSequenceClassification were not initialized from the model checkpoint at bert-base-uncased and are newly initialized: ['classifier.bias', 'classifier.weight']\n",
      "You should probably TRAIN this model on a down-stream task to be able to use it for predictions and inference.\n"
     ]
    }
   ],
   "source": [
    "model_decomposed = BertForSequenceClassificationDecomposed.from_pretrained(\n",
    "    \"bert-base-uncased\", num_labels=2, debug=True, num_contributions=2,\n",
    "    shapley_include_bias=True, generalized=True)\n"
   ]
  },
  {
   "cell_type": "code",
   "execution_count": 12,
   "metadata": {},
   "outputs": [
    {
     "name": "stdout",
     "output_type": "stream",
     "text": [
      "torch.Size([2, 2, 128])\n",
      "Bert Encoder Layer 0 error: 8.539088210246059e-16\n",
      "Bert Encoder Layer 1 error: 1.982586159089037e-15\n",
      "Bert Encoder Layer 2 error: 3.1153116672346503e-15\n",
      "Bert Encoder Layer 3 error: 7.47926386656403e-15\n",
      "Bert Encoder Layer 4 error: 2.695628248642653e-14\n",
      "Bert Encoder Layer 5 error: 1.8440875813350766e-13\n",
      "Bert Encoder Layer 6 error: 1.364401917188876e-12\n",
      "Bert Encoder Layer 7 error: 7.79094108507314e-12\n",
      "Bert Encoder Layer 8 error: 2.3997366853811223e-11\n",
      "Bert Encoder Layer 9 error: 6.985405154082852e-11\n",
      "Bert Encoder Layer 10 error: 1.611596716656634e-10\n",
      "Bert Encoder Layer 11 error: 1.4537406219001946e-10\n",
      "\n",
      "Pooled output error:  5.70506828567058e-11\n",
      "\n",
      "Bert Classifier logits error:  2.187477976534069e-11\n"
     ]
    }
   ],
   "source": [
    "beta_mask = (torch.rand(128) > 0.5).to(int)\n",
    "beta_mask = torch.stack([beta_mask, 1 - beta_mask])\n",
    "beta_mask = torch.stack([beta_mask] * 2)\n",
    "print(beta_mask.shape)\n",
    "\n",
    "with torch.no_grad():\n",
    "    model_decomposed.model.eval()\n",
    "    decomposed_logits = model_decomposed(\n",
    "        input_ids = inputs[\"input_ids\"],\n",
    "        attention_mask = inputs[\"attention_mask\"],\n",
    "        beta_mask=beta_mask)\n"
   ]
  },
  {
   "cell_type": "code",
   "execution_count": 36,
   "metadata": {},
   "outputs": [
    {
     "name": "stderr",
     "output_type": "stream",
     "text": [
      "Some weights of BertForSequenceClassification were not initialized from the model checkpoint at bert-base-uncased and are newly initialized: ['classifier.bias', 'classifier.weight']\n",
      "You should probably TRAIN this model on a down-stream task to be able to use it for predictions and inference.\n"
     ]
    }
   ],
   "source": [
    "model_decomposed = BertForSequenceClassificationDecomposed.from_pretrained(\n",
    "    \"bert-base-uncased\", num_labels=2, debug=False, num_contributions=2,\n",
    "    shapley_include_bias=False, generalized=False)\n"
   ]
  },
  {
   "cell_type": "code",
   "execution_count": 42,
   "metadata": {},
   "outputs": [
    {
     "name": "stdout",
     "output_type": "stream",
     "text": [
      "torch.Size([2, 2, 128])\n"
     ]
    }
   ],
   "source": [
    "beta_mask = (torch.rand(128) > 0.5).to(int)\n",
    "beta_mask = torch.stack([beta_mask, 1 - beta_mask])\n",
    "beta_mask = torch.stack([beta_mask] * 2)\n",
    "print(beta_mask.shape)\n",
    "\n",
    "with torch.no_grad():\n",
    "    model_decomposed.model.eval()\n",
    "    decomposed_logits = model_decomposed(\n",
    "        input_ids = inputs[\"input_ids\"],\n",
    "        attention_mask = inputs[\"attention_mask\"],\n",
    "        beta_mask=beta_mask)\n"
   ]
  },
  {
   "cell_type": "code",
   "execution_count": 44,
   "metadata": {},
   "outputs": [
    {
     "data": {
      "text/plain": [
       "tensor([[[ 0.3257,  0.1336],\n",
       "         [ 0.3257,  0.1336]],\n",
       "\n",
       "        [[-0.4999, -0.4101],\n",
       "         [-0.4999, -0.4101]],\n",
       "\n",
       "        [[-0.1630, -0.0822],\n",
       "         [-0.1630, -0.0822]]], dtype=torch.float64)"
      ]
     },
     "execution_count": 44,
     "metadata": {},
     "output_type": "execute_result"
    }
   ],
   "source": [
    "decomposed_logits\n"
   ]
  },
  {
   "cell_type": "code",
   "execution_count": null,
   "metadata": {},
   "outputs": [],
   "source": []
  }
 ],
 "metadata": {
  "kernelspec": {
   "display_name": "metaphor",
   "language": "python",
   "name": "python3"
  },
  "language_info": {
   "codemirror_mode": {
    "name": "ipython",
    "version": 3
   },
   "file_extension": ".py",
   "mimetype": "text/x-python",
   "name": "python",
   "nbconvert_exporter": "python",
   "pygments_lexer": "ipython3",
   "version": "3.11.5"
  }
 },
 "nbformat": 4,
 "nbformat_minor": 2
}
