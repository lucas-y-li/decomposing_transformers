{
 "cells": [
  {
   "cell_type": "code",
   "execution_count": 44,
   "metadata": {},
   "outputs": [],
   "source": [
    "import pandas as pd\n",
    "import transformers \n",
    "import numpy as np\n",
    "import torch\n",
    "from collections import OrderedDict\n",
    "import seaborn as sns\n",
    "\n",
    "import sys\n",
    "\n",
    "sys.path.insert(0, '..')\n",
    "\n",
    "from roberta_model import RobertaConfig\n",
    "from decompose_roberta import RobertaForSequenceClassificationDecomposed, decomp_activation\n"
   ]
  },
  {
   "cell_type": "code",
   "execution_count": 45,
   "metadata": {},
   "outputs": [
    {
     "name": "stderr",
     "output_type": "stream",
     "text": [
      "Some weights of the model checkpoint at cardiffnlp/twitter-roberta-base-sentiment-latest were not used when initializing RobertaForSequenceClassification: ['roberta.pooler.dense.bias', 'roberta.pooler.dense.weight']\n",
      "- This IS expected if you are initializing RobertaForSequenceClassification from the checkpoint of a model trained on another task or with another architecture (e.g. initializing a BertForSequenceClassification model from a BertForPreTraining model).\n",
      "- This IS NOT expected if you are initializing RobertaForSequenceClassification from the checkpoint of a model that you expect to be exactly identical (initializing a BertForSequenceClassification model from a BertForSequenceClassification model).\n"
     ]
    }
   ],
   "source": [
    "tokenizer = transformers.AutoTokenizer.from_pretrained(\"cardiffnlp/twitter-roberta-base-sentiment-latest\")\n",
    "\n",
    "state_dict = transformers.AutoModelForSequenceClassification.from_pretrained(\"cardiffnlp/twitter-roberta-base-sentiment-latest\", num_labels= 3).state_dict()\n",
    "\n",
    "new_state_dict = OrderedDict()\n",
    "for key, value in state_dict.items():\n",
    "    # rename weight values in state_dict from roberta to bert\n",
    "    new_key = key.replace(\"roberta\", \"bert\")\n",
    "    new_key = new_key.replace(\n",
    "        \"classifier.dense\", \"bert.pooler.dense\").replace(\n",
    "            \"classifier.out_proj\", \"classifier\")\n",
    "    # ref : https://pytorch.org/docs/stable/generated/torch.nn.LayerNorm.html\n",
    "    new_key = new_key.replace(\"LayerNorm.weight\",\n",
    "                           \"LayerNorm.gamma\").replace(\"LayerNorm.bias\",\n",
    "                                                       \"LayerNorm.beta\")\n",
    "    new_state_dict[new_key] = value"
   ]
  },
  {
   "cell_type": "code",
   "execution_count": 46,
   "metadata": {},
   "outputs": [
    {
     "data": {
      "text/plain": [
       "RobertaForSequenceClassification(\n",
       "  (bert): RobertaModel(\n",
       "    (embeddings): RobertaEmbeddings(\n",
       "      (word_embeddings): Embedding(50265, 768)\n",
       "      (token_type_embeddings): Embedding(1, 768)\n",
       "      (LayerNorm): RobertaLayerNorm()\n",
       "      (dropout): Dropout(p=0.1, inplace=False)\n",
       "      (position_embeddings): Embedding(514, 768)\n",
       "    )\n",
       "    (encoder): RobertaEncoder(\n",
       "      (layer): ModuleList(\n",
       "        (0-11): 12 x RobertaLayer(\n",
       "          (attention): RobertaAttention(\n",
       "            (self): RobertaSelfAttention(\n",
       "              (query): Linear(in_features=768, out_features=768, bias=True)\n",
       "              (key): Linear(in_features=768, out_features=768, bias=True)\n",
       "              (value): Linear(in_features=768, out_features=768, bias=True)\n",
       "              (dropout): Dropout(p=0.1, inplace=False)\n",
       "            )\n",
       "            (output): RobertaSelfOutput(\n",
       "              (dense): Linear(in_features=768, out_features=768, bias=True)\n",
       "              (LayerNorm): RobertaLayerNorm()\n",
       "              (dropout): Dropout(p=0.1, inplace=False)\n",
       "            )\n",
       "          )\n",
       "          (intermediate): RobertaIntermediate(\n",
       "            (dense): Linear(in_features=768, out_features=3072, bias=True)\n",
       "          )\n",
       "          (output): RobertaOutput(\n",
       "            (dense): Linear(in_features=3072, out_features=768, bias=True)\n",
       "            (LayerNorm): RobertaLayerNorm()\n",
       "            (dropout): Dropout(p=0.1, inplace=False)\n",
       "          )\n",
       "        )\n",
       "      )\n",
       "    )\n",
       "    (pooler): RobertaPooler(\n",
       "      (dense): Linear(in_features=768, out_features=768, bias=True)\n",
       "      (activation): Tanh()\n",
       "    )\n",
       "  )\n",
       "  (dropout): Dropout(p=0.1, inplace=False)\n",
       "  (classifier): Linear(in_features=768, out_features=3, bias=True)\n",
       ")"
      ]
     },
     "execution_count": 46,
     "metadata": {},
     "output_type": "execute_result"
    }
   ],
   "source": [
    "config = RobertaConfig.from_json_file(\"config.json\")\n",
    "decomposed_model = RobertaForSequenceClassificationDecomposed(\n",
    "    config=config,\n",
    "    debug=False, \n",
    "    num_labels=3\n",
    "    )\n",
    "\n",
    "decomposed_model.model.load_state_dict(new_state_dict)\n",
    "decomposed_model.model.eval()"
   ]
  },
  {
   "cell_type": "code",
   "execution_count": 64,
   "metadata": {},
   "outputs": [
    {
     "name": "stdout",
     "output_type": "stream",
     "text": [
      "torch.Size([1, 3])\n"
     ]
    },
    {
     "data": {
      "text/plain": [
       "tensor([[0.2082, 0.5893, 0.2025]], dtype=torch.float64)"
      ]
     },
     "execution_count": 64,
     "metadata": {},
     "output_type": "execute_result"
    }
   ],
   "source": [
    "model = decomposed_model.model\n",
    "\n",
    "# text = \"I was amazed by how boring it was.\"\n",
    "# text = \"It is a very strange film... and I mean that as a compliment.\"\n",
    "# text = \"While the intention is easy to admire, the execution remains disappointing.\"\n",
    "text = \"I respect the visuals, I respect the performances but... nah.\"\n",
    "encoded_input = tokenizer(text, return_tensors='pt')['input_ids']\n",
    "\n",
    "with torch.no_grad():\n",
    "    output = model(encoded_input)\n",
    "    print(output.shape)\n",
    "    scores = torch.softmax(output, 1)\n",
    "scores"
   ]
  },
  {
   "cell_type": "code",
   "execution_count": 65,
   "metadata": {},
   "outputs": [
    {
     "name": "stdout",
     "output_type": "stream",
     "text": [
      "tensor([-0.4527,  0.5879, -0.4806], dtype=torch.float64)\n",
      "tensor([-0.4527,  0.5879, -0.4806], dtype=torch.float64)\n",
      "tensor([-0.4527,  0.5879, -0.4806], dtype=torch.float64)\n",
      "tensor([-0.4527,  0.5879, -0.4806], dtype=torch.float64)\n",
      "tensor([-0.4527,  0.5879, -0.4806], dtype=torch.float64)\n",
      "tensor([-0.4527,  0.5879, -0.4806], dtype=torch.float64)\n",
      "tensor([-0.4527,  0.5879, -0.4806], dtype=torch.float64)\n",
      "tensor([-0.4527,  0.5879, -0.4806], dtype=torch.float64)\n",
      "tensor([-0.4527,  0.5879, -0.4806], dtype=torch.float64)\n",
      "tensor([-0.4527,  0.5879, -0.4806], dtype=torch.float64)\n",
      "tensor([-0.4527,  0.5879, -0.4806], dtype=torch.float64)\n",
      "tensor([-0.4527,  0.5879, -0.4806], dtype=torch.float64)\n",
      "tensor([-0.4527,  0.5879, -0.4806], dtype=torch.float64)\n",
      "tensor([-0.4527,  0.5879, -0.4806], dtype=torch.float64)\n",
      "tensor([-0.4527,  0.5879, -0.4806], dtype=torch.float64)\n",
      "tensor([-0.4527,  0.5879, -0.4806], dtype=torch.float64)\n"
     ]
    },
    {
     "data": {
      "text/plain": [
       "tensor([[0.4107, 0.2592, 0.2867, 0.3111, 0.4848, 0.3166, 0.3258, 0.3194, 0.3274,\n",
       "         0.3092, 0.2956, 0.3642, 0.4340, 0.3814, 0.3198, 0.3326],\n",
       "        [0.3892, 0.2977, 0.3153, 0.3294, 0.0698, 0.3345, 0.3269, 0.3247, 0.3324,\n",
       "         0.3279, 0.3212, 0.3315, 0.3210, 0.3256, 0.3337, 0.0787],\n",
       "        [0.2000, 0.4431, 0.3980, 0.3594, 0.4454, 0.3490, 0.3473, 0.3559, 0.3403,\n",
       "         0.3630, 0.3833, 0.3044, 0.2449, 0.2930, 0.3465, 0.5887]])"
      ]
     },
     "execution_count": 65,
     "metadata": {},
     "output_type": "execute_result"
    }
   ],
   "source": [
    "tokenizer.tokenize(text, add_special_tokens=True)\n",
    "\n",
    "words = []\n",
    "probabilities = torch.zeros(3, len(encoded_input.squeeze()))\n",
    "logits = torch.zeros(3, len(encoded_input.squeeze()))\n",
    "links = []\n",
    "\n",
    "for i in range(len(encoded_input.squeeze())):\n",
    "    span = tokenizer(text, return_tensors='pt').token_to_chars(i)\n",
    "    if span:\n",
    "        words.append(text[span.start: span.end])\n",
    "    else:\n",
    "        words.append(tokenizer.convert_ids_to_tokens(encoded_input[:,i])[0])\n",
    "    mask = torch.zeros_like(encoded_input.squeeze())\n",
    "    mask[i] = 1\n",
    "    \n",
    "    beta_mask = torch.stack([mask, 1 - mask]).unsqueeze(0)\n",
    "\n",
    "    with torch.no_grad():\n",
    "        l = decomposed_model(input_ids=encoded_input,\n",
    "                        beta_mask=beta_mask,\n",
    "                        num_contributions=2).squeeze()\n",
    "        probs = torch.softmax(l[0], 0)\n",
    "        total_probs = torch.softmax(l.sum(0), 0)\n",
    "        print(l.sum(0))\n",
    "\n",
    "    probabilities[:, i] = probs\n",
    "    logits[:, i] = l[0]\n",
    "\n",
    "probabilities"
   ]
  },
  {
   "cell_type": "code",
   "execution_count": 66,
   "metadata": {},
   "outputs": [],
   "source": [
    "links = []\n",
    "labels = [\"negative\", \"neutral\", \"positive\"]\n",
    "colors = {\n",
    "    \"negative\": \"rgba(0, 202, 255, 0.5)\",\n",
    "    \"neutral\": \"rgba(112, 255, 145, 0.5)\",\n",
    "    \"positive\": \"rgba(255, 0, 250, 0.3)\"\n",
    "}\n",
    "\n",
    "for i, a in enumerate(zip(words, logits.T.tolist())):\n",
    "    word, logit = a\n",
    "    for j, b in enumerate(zip(labels, logit)):\n",
    "        label, v = b\n",
    "        links.append(\n",
    "            {\n",
    "                'source': i,\n",
    "                'target': len(words) + j,\n",
    "                'value': v,\n",
    "                'color': colors[label]\n",
    "            }\n",
    "        )"
   ]
  },
  {
   "cell_type": "code",
   "execution_count": 67,
   "metadata": {},
   "outputs": [
    {
     "data": {
      "application/vnd.plotly.v1+json": {
       "config": {
        "plotlyServerURL": "https://plot.ly"
       },
       "data": [
        {
         "link": {
          "color": [
           "rgba(0, 202, 255, 0.5)",
           "rgba(112, 255, 145, 0.5)",
           "rgba(255, 0, 250, 0.3)",
           "rgba(0, 202, 255, 0.5)",
           "rgba(112, 255, 145, 0.5)",
           "rgba(255, 0, 250, 0.3)",
           "rgba(0, 202, 255, 0.5)",
           "rgba(112, 255, 145, 0.5)",
           "rgba(255, 0, 250, 0.3)",
           "rgba(0, 202, 255, 0.5)",
           "rgba(112, 255, 145, 0.5)",
           "rgba(255, 0, 250, 0.3)",
           "rgba(0, 202, 255, 0.5)",
           "rgba(112, 255, 145, 0.5)",
           "rgba(255, 0, 250, 0.3)",
           "rgba(0, 202, 255, 0.5)",
           "rgba(112, 255, 145, 0.5)",
           "rgba(255, 0, 250, 0.3)",
           "rgba(0, 202, 255, 0.5)",
           "rgba(112, 255, 145, 0.5)",
           "rgba(255, 0, 250, 0.3)",
           "rgba(0, 202, 255, 0.5)",
           "rgba(112, 255, 145, 0.5)",
           "rgba(255, 0, 250, 0.3)",
           "rgba(0, 202, 255, 0.5)",
           "rgba(112, 255, 145, 0.5)",
           "rgba(255, 0, 250, 0.3)",
           "rgba(0, 202, 255, 0.5)",
           "rgba(112, 255, 145, 0.5)",
           "rgba(255, 0, 250, 0.3)",
           "rgba(0, 202, 255, 0.5)",
           "rgba(112, 255, 145, 0.5)",
           "rgba(255, 0, 250, 0.3)",
           "rgba(0, 202, 255, 0.5)",
           "rgba(112, 255, 145, 0.5)",
           "rgba(255, 0, 250, 0.3)",
           "rgba(0, 202, 255, 0.5)",
           "rgba(112, 255, 145, 0.5)",
           "rgba(255, 0, 250, 0.3)",
           "rgba(0, 202, 255, 0.5)",
           "rgba(112, 255, 145, 0.5)",
           "rgba(255, 0, 250, 0.3)",
           "rgba(0, 202, 255, 0.5)",
           "rgba(112, 255, 145, 0.5)",
           "rgba(255, 0, 250, 0.3)",
           "rgba(0, 202, 255, 0.5)",
           "rgba(112, 255, 145, 0.5)",
           "rgba(255, 0, 250, 0.3)"
          ],
          "source": [
           0,
           0,
           0,
           1,
           1,
           1,
           2,
           2,
           2,
           3,
           3,
           3,
           4,
           4,
           4,
           5,
           5,
           5,
           6,
           6,
           6,
           7,
           7,
           7,
           8,
           8,
           8,
           9,
           9,
           9,
           10,
           10,
           10,
           11,
           11,
           11,
           12,
           12,
           12,
           13,
           13,
           13,
           14,
           14,
           14,
           15,
           15,
           15
          ],
          "target": [
           16,
           17,
           18,
           16,
           17,
           18,
           16,
           17,
           18,
           16,
           17,
           18,
           16,
           17,
           18,
           16,
           17,
           18,
           16,
           17,
           18,
           16,
           17,
           18,
           16,
           17,
           18,
           16,
           17,
           18,
           16,
           17,
           18,
           16,
           17,
           18,
           16,
           17,
           18,
           16,
           17,
           18,
           16,
           17,
           18,
           16,
           17,
           18
          ],
          "value": [
           0.22970996797084808,
           0.17593684792518616,
           -0.4896540939807892,
           -0.22911080718040466,
           -0.09061645716428757,
           0.30690231919288635,
           -0.15086470544338226,
           -0.0558260977268219,
           0.1770387589931488,
           -0.06996025890111923,
           -0.012923878617584705,
           0.07434942573308945,
           0.3386821150779724,
           -1.5996264219284058,
           0.25378477573394775,
           -0.05732234939932823,
           -0.002223216462880373,
           0.040111325681209564,
           -0.026058102026581764,
           -0.022834844887256622,
           0.03755844756960869,
           -0.05339501053094864,
           -0.03693224862217903,
           0.05493328347802162,
           -0.020533362403512,
           -0.0053976657800376415,
           0.018201366066932678,
           -0.07623540610074997,
           -0.01749797724187374,
           0.08416496962308884,
           -0.11673600971698761,
           -0.03360170125961304,
           0.14307546615600586,
           0.08903809636831284,
           -0.005144255701452494,
           -0.09040120989084244,
           0.29283297061920166,
           -0.008732841350138187,
           -0.2794435918331146,
           0.1438097506761551,
           -0.014414291828870773,
           -0.12005622684955597,
           -0.03804010525345802,
           0.004394555930048227,
           0.04228326305747032,
           -0.1657850742340088,
           -1.6077098846435547,
           0.40510785579681396
          ]
         },
         "node": {
          "color": "grey",
          "label": [
           "<s>",
           "I",
           "respect",
           "the",
           "visuals",
           ",",
           "I",
           "respect",
           "the",
           "performances",
           "but",
           "...",
           "n",
           "ah",
           ".",
           "</s>",
           "negative",
           "neutral",
           "positive"
          ],
          "x": [
           0.1,
           0.1,
           0.1,
           0.1,
           0.1,
           0.1,
           0.1,
           0.1,
           0.1,
           0.1,
           0.1,
           0.1,
           0.1,
           0.1,
           0.1,
           0.1,
           0.5,
           0.5,
           0.5
          ],
          "y": [
           0.01,
           0.07533333333333332,
           0.14066666666666666,
           0.206,
           0.2713333333333333,
           0.33666666666666667,
           0.40199999999999997,
           0.46733333333333327,
           0.5326666666666666,
           0.598,
           0.6633333333333333,
           0.7286666666666666,
           0.7939999999999999,
           0.8593333333333333,
           0.9246666666666665,
           0.99,
           0.01,
           0.5,
           0.99
          ]
         },
         "type": "sankey"
        }
       ],
       "layout": {
        "template": {
         "data": {
          "bar": [
           {
            "error_x": {
             "color": "#2a3f5f"
            },
            "error_y": {
             "color": "#2a3f5f"
            },
            "marker": {
             "line": {
              "color": "#E5ECF6",
              "width": 0.5
             },
             "pattern": {
              "fillmode": "overlay",
              "size": 10,
              "solidity": 0.2
             }
            },
            "type": "bar"
           }
          ],
          "barpolar": [
           {
            "marker": {
             "line": {
              "color": "#E5ECF6",
              "width": 0.5
             },
             "pattern": {
              "fillmode": "overlay",
              "size": 10,
              "solidity": 0.2
             }
            },
            "type": "barpolar"
           }
          ],
          "carpet": [
           {
            "aaxis": {
             "endlinecolor": "#2a3f5f",
             "gridcolor": "white",
             "linecolor": "white",
             "minorgridcolor": "white",
             "startlinecolor": "#2a3f5f"
            },
            "baxis": {
             "endlinecolor": "#2a3f5f",
             "gridcolor": "white",
             "linecolor": "white",
             "minorgridcolor": "white",
             "startlinecolor": "#2a3f5f"
            },
            "type": "carpet"
           }
          ],
          "choropleth": [
           {
            "colorbar": {
             "outlinewidth": 0,
             "ticks": ""
            },
            "type": "choropleth"
           }
          ],
          "contour": [
           {
            "colorbar": {
             "outlinewidth": 0,
             "ticks": ""
            },
            "colorscale": [
             [
              0,
              "#0d0887"
             ],
             [
              0.1111111111111111,
              "#46039f"
             ],
             [
              0.2222222222222222,
              "#7201a8"
             ],
             [
              0.3333333333333333,
              "#9c179e"
             ],
             [
              0.4444444444444444,
              "#bd3786"
             ],
             [
              0.5555555555555556,
              "#d8576b"
             ],
             [
              0.6666666666666666,
              "#ed7953"
             ],
             [
              0.7777777777777778,
              "#fb9f3a"
             ],
             [
              0.8888888888888888,
              "#fdca26"
             ],
             [
              1,
              "#f0f921"
             ]
            ],
            "type": "contour"
           }
          ],
          "contourcarpet": [
           {
            "colorbar": {
             "outlinewidth": 0,
             "ticks": ""
            },
            "type": "contourcarpet"
           }
          ],
          "heatmap": [
           {
            "colorbar": {
             "outlinewidth": 0,
             "ticks": ""
            },
            "colorscale": [
             [
              0,
              "#0d0887"
             ],
             [
              0.1111111111111111,
              "#46039f"
             ],
             [
              0.2222222222222222,
              "#7201a8"
             ],
             [
              0.3333333333333333,
              "#9c179e"
             ],
             [
              0.4444444444444444,
              "#bd3786"
             ],
             [
              0.5555555555555556,
              "#d8576b"
             ],
             [
              0.6666666666666666,
              "#ed7953"
             ],
             [
              0.7777777777777778,
              "#fb9f3a"
             ],
             [
              0.8888888888888888,
              "#fdca26"
             ],
             [
              1,
              "#f0f921"
             ]
            ],
            "type": "heatmap"
           }
          ],
          "heatmapgl": [
           {
            "colorbar": {
             "outlinewidth": 0,
             "ticks": ""
            },
            "colorscale": [
             [
              0,
              "#0d0887"
             ],
             [
              0.1111111111111111,
              "#46039f"
             ],
             [
              0.2222222222222222,
              "#7201a8"
             ],
             [
              0.3333333333333333,
              "#9c179e"
             ],
             [
              0.4444444444444444,
              "#bd3786"
             ],
             [
              0.5555555555555556,
              "#d8576b"
             ],
             [
              0.6666666666666666,
              "#ed7953"
             ],
             [
              0.7777777777777778,
              "#fb9f3a"
             ],
             [
              0.8888888888888888,
              "#fdca26"
             ],
             [
              1,
              "#f0f921"
             ]
            ],
            "type": "heatmapgl"
           }
          ],
          "histogram": [
           {
            "marker": {
             "pattern": {
              "fillmode": "overlay",
              "size": 10,
              "solidity": 0.2
             }
            },
            "type": "histogram"
           }
          ],
          "histogram2d": [
           {
            "colorbar": {
             "outlinewidth": 0,
             "ticks": ""
            },
            "colorscale": [
             [
              0,
              "#0d0887"
             ],
             [
              0.1111111111111111,
              "#46039f"
             ],
             [
              0.2222222222222222,
              "#7201a8"
             ],
             [
              0.3333333333333333,
              "#9c179e"
             ],
             [
              0.4444444444444444,
              "#bd3786"
             ],
             [
              0.5555555555555556,
              "#d8576b"
             ],
             [
              0.6666666666666666,
              "#ed7953"
             ],
             [
              0.7777777777777778,
              "#fb9f3a"
             ],
             [
              0.8888888888888888,
              "#fdca26"
             ],
             [
              1,
              "#f0f921"
             ]
            ],
            "type": "histogram2d"
           }
          ],
          "histogram2dcontour": [
           {
            "colorbar": {
             "outlinewidth": 0,
             "ticks": ""
            },
            "colorscale": [
             [
              0,
              "#0d0887"
             ],
             [
              0.1111111111111111,
              "#46039f"
             ],
             [
              0.2222222222222222,
              "#7201a8"
             ],
             [
              0.3333333333333333,
              "#9c179e"
             ],
             [
              0.4444444444444444,
              "#bd3786"
             ],
             [
              0.5555555555555556,
              "#d8576b"
             ],
             [
              0.6666666666666666,
              "#ed7953"
             ],
             [
              0.7777777777777778,
              "#fb9f3a"
             ],
             [
              0.8888888888888888,
              "#fdca26"
             ],
             [
              1,
              "#f0f921"
             ]
            ],
            "type": "histogram2dcontour"
           }
          ],
          "mesh3d": [
           {
            "colorbar": {
             "outlinewidth": 0,
             "ticks": ""
            },
            "type": "mesh3d"
           }
          ],
          "parcoords": [
           {
            "line": {
             "colorbar": {
              "outlinewidth": 0,
              "ticks": ""
             }
            },
            "type": "parcoords"
           }
          ],
          "pie": [
           {
            "automargin": true,
            "type": "pie"
           }
          ],
          "scatter": [
           {
            "fillpattern": {
             "fillmode": "overlay",
             "size": 10,
             "solidity": 0.2
            },
            "type": "scatter"
           }
          ],
          "scatter3d": [
           {
            "line": {
             "colorbar": {
              "outlinewidth": 0,
              "ticks": ""
             }
            },
            "marker": {
             "colorbar": {
              "outlinewidth": 0,
              "ticks": ""
             }
            },
            "type": "scatter3d"
           }
          ],
          "scattercarpet": [
           {
            "marker": {
             "colorbar": {
              "outlinewidth": 0,
              "ticks": ""
             }
            },
            "type": "scattercarpet"
           }
          ],
          "scattergeo": [
           {
            "marker": {
             "colorbar": {
              "outlinewidth": 0,
              "ticks": ""
             }
            },
            "type": "scattergeo"
           }
          ],
          "scattergl": [
           {
            "marker": {
             "colorbar": {
              "outlinewidth": 0,
              "ticks": ""
             }
            },
            "type": "scattergl"
           }
          ],
          "scattermapbox": [
           {
            "marker": {
             "colorbar": {
              "outlinewidth": 0,
              "ticks": ""
             }
            },
            "type": "scattermapbox"
           }
          ],
          "scatterpolar": [
           {
            "marker": {
             "colorbar": {
              "outlinewidth": 0,
              "ticks": ""
             }
            },
            "type": "scatterpolar"
           }
          ],
          "scatterpolargl": [
           {
            "marker": {
             "colorbar": {
              "outlinewidth": 0,
              "ticks": ""
             }
            },
            "type": "scatterpolargl"
           }
          ],
          "scatterternary": [
           {
            "marker": {
             "colorbar": {
              "outlinewidth": 0,
              "ticks": ""
             }
            },
            "type": "scatterternary"
           }
          ],
          "surface": [
           {
            "colorbar": {
             "outlinewidth": 0,
             "ticks": ""
            },
            "colorscale": [
             [
              0,
              "#0d0887"
             ],
             [
              0.1111111111111111,
              "#46039f"
             ],
             [
              0.2222222222222222,
              "#7201a8"
             ],
             [
              0.3333333333333333,
              "#9c179e"
             ],
             [
              0.4444444444444444,
              "#bd3786"
             ],
             [
              0.5555555555555556,
              "#d8576b"
             ],
             [
              0.6666666666666666,
              "#ed7953"
             ],
             [
              0.7777777777777778,
              "#fb9f3a"
             ],
             [
              0.8888888888888888,
              "#fdca26"
             ],
             [
              1,
              "#f0f921"
             ]
            ],
            "type": "surface"
           }
          ],
          "table": [
           {
            "cells": {
             "fill": {
              "color": "#EBF0F8"
             },
             "line": {
              "color": "white"
             }
            },
            "header": {
             "fill": {
              "color": "#C8D4E3"
             },
             "line": {
              "color": "white"
             }
            },
            "type": "table"
           }
          ]
         },
         "layout": {
          "annotationdefaults": {
           "arrowcolor": "#2a3f5f",
           "arrowhead": 0,
           "arrowwidth": 1
          },
          "autotypenumbers": "strict",
          "coloraxis": {
           "colorbar": {
            "outlinewidth": 0,
            "ticks": ""
           }
          },
          "colorscale": {
           "diverging": [
            [
             0,
             "#8e0152"
            ],
            [
             0.1,
             "#c51b7d"
            ],
            [
             0.2,
             "#de77ae"
            ],
            [
             0.3,
             "#f1b6da"
            ],
            [
             0.4,
             "#fde0ef"
            ],
            [
             0.5,
             "#f7f7f7"
            ],
            [
             0.6,
             "#e6f5d0"
            ],
            [
             0.7,
             "#b8e186"
            ],
            [
             0.8,
             "#7fbc41"
            ],
            [
             0.9,
             "#4d9221"
            ],
            [
             1,
             "#276419"
            ]
           ],
           "sequential": [
            [
             0,
             "#0d0887"
            ],
            [
             0.1111111111111111,
             "#46039f"
            ],
            [
             0.2222222222222222,
             "#7201a8"
            ],
            [
             0.3333333333333333,
             "#9c179e"
            ],
            [
             0.4444444444444444,
             "#bd3786"
            ],
            [
             0.5555555555555556,
             "#d8576b"
            ],
            [
             0.6666666666666666,
             "#ed7953"
            ],
            [
             0.7777777777777778,
             "#fb9f3a"
            ],
            [
             0.8888888888888888,
             "#fdca26"
            ],
            [
             1,
             "#f0f921"
            ]
           ],
           "sequentialminus": [
            [
             0,
             "#0d0887"
            ],
            [
             0.1111111111111111,
             "#46039f"
            ],
            [
             0.2222222222222222,
             "#7201a8"
            ],
            [
             0.3333333333333333,
             "#9c179e"
            ],
            [
             0.4444444444444444,
             "#bd3786"
            ],
            [
             0.5555555555555556,
             "#d8576b"
            ],
            [
             0.6666666666666666,
             "#ed7953"
            ],
            [
             0.7777777777777778,
             "#fb9f3a"
            ],
            [
             0.8888888888888888,
             "#fdca26"
            ],
            [
             1,
             "#f0f921"
            ]
           ]
          },
          "colorway": [
           "#636efa",
           "#EF553B",
           "#00cc96",
           "#ab63fa",
           "#FFA15A",
           "#19d3f3",
           "#FF6692",
           "#B6E880",
           "#FF97FF",
           "#FECB52"
          ],
          "font": {
           "color": "#2a3f5f"
          },
          "geo": {
           "bgcolor": "white",
           "lakecolor": "white",
           "landcolor": "#E5ECF6",
           "showlakes": true,
           "showland": true,
           "subunitcolor": "white"
          },
          "hoverlabel": {
           "align": "left"
          },
          "hovermode": "closest",
          "mapbox": {
           "style": "light"
          },
          "paper_bgcolor": "white",
          "plot_bgcolor": "#E5ECF6",
          "polar": {
           "angularaxis": {
            "gridcolor": "white",
            "linecolor": "white",
            "ticks": ""
           },
           "bgcolor": "#E5ECF6",
           "radialaxis": {
            "gridcolor": "white",
            "linecolor": "white",
            "ticks": ""
           }
          },
          "scene": {
           "xaxis": {
            "backgroundcolor": "#E5ECF6",
            "gridcolor": "white",
            "gridwidth": 2,
            "linecolor": "white",
            "showbackground": true,
            "ticks": "",
            "zerolinecolor": "white"
           },
           "yaxis": {
            "backgroundcolor": "#E5ECF6",
            "gridcolor": "white",
            "gridwidth": 2,
            "linecolor": "white",
            "showbackground": true,
            "ticks": "",
            "zerolinecolor": "white"
           },
           "zaxis": {
            "backgroundcolor": "#E5ECF6",
            "gridcolor": "white",
            "gridwidth": 2,
            "linecolor": "white",
            "showbackground": true,
            "ticks": "",
            "zerolinecolor": "white"
           }
          },
          "shapedefaults": {
           "line": {
            "color": "#2a3f5f"
           }
          },
          "ternary": {
           "aaxis": {
            "gridcolor": "white",
            "linecolor": "white",
            "ticks": ""
           },
           "baxis": {
            "gridcolor": "white",
            "linecolor": "white",
            "ticks": ""
           },
           "bgcolor": "#E5ECF6",
           "caxis": {
            "gridcolor": "white",
            "linecolor": "white",
            "ticks": ""
           }
          },
          "title": {
           "x": 0.05
          },
          "xaxis": {
           "automargin": true,
           "gridcolor": "white",
           "linecolor": "white",
           "ticks": "",
           "title": {
            "standoff": 15
           },
           "zerolinecolor": "white",
           "zerolinewidth": 2
          },
          "yaxis": {
           "automargin": true,
           "gridcolor": "white",
           "linecolor": "white",
           "ticks": "",
           "title": {
            "standoff": 15
           },
           "zerolinecolor": "white",
           "zerolinewidth": 2
          }
         }
        }
       }
      }
     },
     "metadata": {},
     "output_type": "display_data"
    }
   ],
   "source": [
    "import plotly.graph_objects as go\n",
    "df = pd.DataFrame(links)\n",
    "\n",
    "fig = go.Figure(\n",
    "    go.Sankey(\n",
    "        # arrangement = \"snap\", \n",
    "        node={\"label\": words + labels,\n",
    "              'x': [0.1] * len(words) + [0.5] * len(labels),\n",
    "              \"y\": list(np.linspace(0.01,0.99,len(words))) + list(np.linspace(0.01,0.99,len(labels))),\n",
    "              'color': \"grey\",\n",
    "            #   'pad':10\n",
    "              },\n",
    "            #   \"y\": [],\n",
    "        link={\n",
    "            \"source\": df[\"source\"].tolist(),\n",
    "            \"target\": df[\"target\"].tolist(),\n",
    "            \"value\": df[\"value\"].tolist(),\n",
    "            \"color\": df[\"color\"].tolist(),\n",
    "        },\n",
    "    )\n",
    ")\n",
    "\n",
    "fig.show()"
   ]
  },
  {
   "cell_type": "code",
   "execution_count": 68,
   "metadata": {},
   "outputs": [
    {
     "data": {
      "text/html": [
       "<div>\n",
       "<style scoped>\n",
       "    .dataframe tbody tr th:only-of-type {\n",
       "        vertical-align: middle;\n",
       "    }\n",
       "\n",
       "    .dataframe tbody tr th {\n",
       "        vertical-align: top;\n",
       "    }\n",
       "\n",
       "    .dataframe thead th {\n",
       "        text-align: right;\n",
       "    }\n",
       "</style>\n",
       "<table border=\"1\" class=\"dataframe\">\n",
       "  <thead>\n",
       "    <tr style=\"text-align: right;\">\n",
       "      <th>target</th>\n",
       "      <th>negative</th>\n",
       "      <th>neutral</th>\n",
       "      <th>positive</th>\n",
       "    </tr>\n",
       "    <tr>\n",
       "      <th>word</th>\n",
       "      <th></th>\n",
       "      <th></th>\n",
       "      <th></th>\n",
       "    </tr>\n",
       "  </thead>\n",
       "  <tbody>\n",
       "    <tr>\n",
       "      <th>&lt;s&gt;</th>\n",
       "      <td>0.229710</td>\n",
       "      <td>0.175937</td>\n",
       "      <td>-0.489654</td>\n",
       "    </tr>\n",
       "    <tr>\n",
       "      <th>I</th>\n",
       "      <td>-0.229111</td>\n",
       "      <td>-0.090616</td>\n",
       "      <td>0.306902</td>\n",
       "    </tr>\n",
       "    <tr>\n",
       "      <th>respect</th>\n",
       "      <td>-0.150865</td>\n",
       "      <td>-0.055826</td>\n",
       "      <td>0.177039</td>\n",
       "    </tr>\n",
       "    <tr>\n",
       "      <th>the</th>\n",
       "      <td>-0.069960</td>\n",
       "      <td>-0.012924</td>\n",
       "      <td>0.074349</td>\n",
       "    </tr>\n",
       "    <tr>\n",
       "      <th>visuals</th>\n",
       "      <td>0.338682</td>\n",
       "      <td>-1.599626</td>\n",
       "      <td>0.253785</td>\n",
       "    </tr>\n",
       "    <tr>\n",
       "      <th>,</th>\n",
       "      <td>-0.057322</td>\n",
       "      <td>-0.002223</td>\n",
       "      <td>0.040111</td>\n",
       "    </tr>\n",
       "    <tr>\n",
       "      <th>I</th>\n",
       "      <td>-0.026058</td>\n",
       "      <td>-0.022835</td>\n",
       "      <td>0.037558</td>\n",
       "    </tr>\n",
       "    <tr>\n",
       "      <th>respect</th>\n",
       "      <td>-0.053395</td>\n",
       "      <td>-0.036932</td>\n",
       "      <td>0.054933</td>\n",
       "    </tr>\n",
       "    <tr>\n",
       "      <th>the</th>\n",
       "      <td>-0.020533</td>\n",
       "      <td>-0.005398</td>\n",
       "      <td>0.018201</td>\n",
       "    </tr>\n",
       "    <tr>\n",
       "      <th>performances</th>\n",
       "      <td>-0.076235</td>\n",
       "      <td>-0.017498</td>\n",
       "      <td>0.084165</td>\n",
       "    </tr>\n",
       "    <tr>\n",
       "      <th>but</th>\n",
       "      <td>-0.116736</td>\n",
       "      <td>-0.033602</td>\n",
       "      <td>0.143075</td>\n",
       "    </tr>\n",
       "    <tr>\n",
       "      <th>...</th>\n",
       "      <td>0.089038</td>\n",
       "      <td>-0.005144</td>\n",
       "      <td>-0.090401</td>\n",
       "    </tr>\n",
       "    <tr>\n",
       "      <th>n</th>\n",
       "      <td>0.292833</td>\n",
       "      <td>-0.008733</td>\n",
       "      <td>-0.279444</td>\n",
       "    </tr>\n",
       "    <tr>\n",
       "      <th>ah</th>\n",
       "      <td>0.143810</td>\n",
       "      <td>-0.014414</td>\n",
       "      <td>-0.120056</td>\n",
       "    </tr>\n",
       "    <tr>\n",
       "      <th>.</th>\n",
       "      <td>-0.038040</td>\n",
       "      <td>0.004395</td>\n",
       "      <td>0.042283</td>\n",
       "    </tr>\n",
       "    <tr>\n",
       "      <th>&lt;/s&gt;</th>\n",
       "      <td>-0.165785</td>\n",
       "      <td>-1.607710</td>\n",
       "      <td>0.405108</td>\n",
       "    </tr>\n",
       "  </tbody>\n",
       "</table>\n",
       "</div>"
      ],
      "text/plain": [
       "target        negative   neutral  positive\n",
       "word                                      \n",
       "<s>           0.229710  0.175937 -0.489654\n",
       "I            -0.229111 -0.090616  0.306902\n",
       "respect      -0.150865 -0.055826  0.177039\n",
       "the          -0.069960 -0.012924  0.074349\n",
       "visuals       0.338682 -1.599626  0.253785\n",
       ",            -0.057322 -0.002223  0.040111\n",
       "I            -0.026058 -0.022835  0.037558\n",
       "respect      -0.053395 -0.036932  0.054933\n",
       "the          -0.020533 -0.005398  0.018201\n",
       "performances -0.076235 -0.017498  0.084165\n",
       "but          -0.116736 -0.033602  0.143075\n",
       "...           0.089038 -0.005144 -0.090401\n",
       "n             0.292833 -0.008733 -0.279444\n",
       "ah            0.143810 -0.014414 -0.120056\n",
       ".            -0.038040  0.004395  0.042283\n",
       "</s>         -0.165785 -1.607710  0.405108"
      ]
     },
     "execution_count": 68,
     "metadata": {},
     "output_type": "execute_result"
    }
   ],
   "source": [
    "data = df.copy()\n",
    "data[\"word\"] = data[\"source\"].apply(lambda x: words[x])\n",
    "data[\"target\"] = data[\"target\"].apply(lambda x: labels[x - len(words)])\n",
    "\n",
    "data = data.pivot_table(index=[\"source\", \"word\"], columns=\"target\", values=\"value\").reset_index().set_index(\"word\").drop(columns=[\"source\"])\n",
    "\n",
    "# data.loc[\"__TOTAL__\"] = [sum(data[\"negative\"]), sum(data[\"neutral\"]), sum(data[\"positive\"])]\n",
    "data"
   ]
  },
  {
   "cell_type": "code",
   "execution_count": 69,
   "metadata": {},
   "outputs": [
    {
     "data": {
      "text/plain": [
       "<Figure size 1200x600 with 0 Axes>"
      ]
     },
     "metadata": {},
     "output_type": "display_data"
    },
    {
     "data": {
      "image/png": "[encoded data removed]",
      "text/plain": [
       "<Figure size 1100x250 with 3 Axes>"
      ]
     },
     "metadata": {},
     "output_type": "display_data"
    }
   ],
   "source": [
    "import matplotlib.pyplot as plt\n",
    "\n",
    "cm = ['Blues', 'Greens', 'Reds']\n",
    "\n",
    "plt.figure(figsize=(12, 6))\n",
    "f, axs = plt.subplots(3, 1, gridspec_kw={'hspace': 0},  figsize=(11, 2.5))\n",
    "\n",
    "counter = 0\n",
    "for index, row in data.T.iterrows():\n",
    "    ax = sns.heatmap(np.array([row.values]), yticklabels=[labels[counter]], xticklabels=data.T.columns, annot=True, fmt='.2f', ax=axs[counter], cmap=cm[counter], cbar=False, vmin=-0.3, vmax=1, linecolor=\"black\")\n",
    "    ax.axvline(x=1, linewidth=5, color=\"w\")\n",
    "    ax.axvline(x=len(words) - 1, linewidth=5, color=\"w\")\n",
    "    counter += 1\n",
    "\n",
    "plt.show()"
   ]
  },
  {
   "cell_type": "code",
   "execution_count": 70,
   "metadata": {},
   "outputs": [
    {
     "name": "stdout",
     "output_type": "stream",
     "text": [
      "torch.Size([1, 16, 768])\n",
      "torch.Size([3, 1, 16, 768])\n"
     ]
    }
   ],
   "source": [
    "with torch.no_grad():\n",
    "    second_last_embeddings = model.bert(encoded_input, output_all_encoded_layers=True)[0][10]\n",
    "    print(second_last_embeddings.shape)\n",
    "\n",
    "# create component split before the last transformer layer\n",
    "# split each token into a component\n",
    "\n",
    "new_split = torch.stack([second_last_embeddings] * 3)\n",
    "print(new_split.shape)"
   ]
  },
  {
   "cell_type": "code",
   "execution_count": 71,
   "metadata": {},
   "outputs": [],
   "source": [
    "import itertools\n",
    "num_contributions = 2\n",
    "\n",
    "perms = torch.tensor(list(itertools.permutations(torch.arange(num_contributions))))"
   ]
  },
  {
   "cell_type": "code",
   "execution_count": 72,
   "metadata": {},
   "outputs": [
    {
     "data": {
      "text/plain": [
       "torch.Size([1, 1, 1, 16])"
      ]
     },
     "execution_count": 72,
     "metadata": {},
     "output_type": "execute_result"
    }
   ],
   "source": [
    "last_tf_layer = decomposed_model.bert_decomposed.encoder_decomposed.layer_decomposed[-1]\n",
    "pooler_layer = decomposed_model.bert_decomposed.pooler_decomposed\n",
    "clf_layer = decomposed_model.classifier_decomposed\n",
    "\n",
    "attention_mask = torch.zeros_like(encoded_input).unsqueeze(1).unsqueeze(2)\n",
    "attention_mask.shape"
   ]
  },
  {
   "cell_type": "code",
   "execution_count": 73,
   "metadata": {},
   "outputs": [
    {
     "name": "stdout",
     "output_type": "stream",
     "text": [
      "tensor([-0.2302,  0.2239, -0.1130], dtype=torch.float64)\n",
      "tensor([-0.0063,  0.0974, -0.0685], dtype=torch.float64)\n",
      "tensor([-0.0569,  0.0781, -0.0153], dtype=torch.float64)\n",
      "tensor([-0.0119,  0.0593, -0.0358], dtype=torch.float64)\n",
      "tensor([-0.0184,  0.0438, -0.0061], dtype=torch.float64)\n",
      "tensor([-0.0434,  0.0628, -0.0056], dtype=torch.float64)\n",
      "tensor([-0.0387,  0.0445,  0.0048], dtype=torch.float64)\n",
      "tensor([-0.0565,  0.0587, -0.0044], dtype=torch.float64)\n",
      "tensor([-0.0051,  0.0400, -0.0298], dtype=torch.float64)\n",
      "tensor([-0.0008,  0.0254, -0.0161], dtype=torch.float64)\n",
      "tensor([ 0.0850,  0.0320, -0.1031], dtype=torch.float64)\n",
      "tensor([ 0.0364,  0.0154, -0.0437], dtype=torch.float64)\n",
      "tensor([ 0.0214,  0.0149, -0.0301], dtype=torch.float64)\n",
      "tensor([ 0.0315,  0.0057, -0.0304], dtype=torch.float64)\n",
      "tensor([ 7.5992e-05, -3.6118e-03,  2.8482e-04], dtype=torch.float64)\n",
      "tensor([ 0.0804,  0.0372, -0.1135], dtype=torch.float64)\n"
     ]
    }
   ],
   "source": [
    "tokenizer.tokenize(text, add_special_tokens=True)\n",
    "\n",
    "words = []\n",
    "probabilities = torch.zeros(3, len(encoded_input.squeeze()))\n",
    "logits = torch.zeros(3, len(encoded_input.squeeze()))\n",
    "links = []\n",
    "\n",
    "for i in range(len(encoded_input.squeeze())):\n",
    "    span = tokenizer(text, return_tensors='pt').token_to_chars(i)\n",
    "    if span:\n",
    "        words.append(text[span.start: span.end])\n",
    "    else:\n",
    "        words.append(tokenizer.convert_ids_to_tokens(encoded_input[:,i])[0])\n",
    "    mask = torch.zeros_like(encoded_input.squeeze())\n",
    "    mask[i] = 1\n",
    "    \n",
    "    beta_mask = torch.stack([mask, 1 - mask, torch.zeros_like(mask)]).unsqueeze(1).unsqueeze(3)\n",
    "    split_input = new_split * beta_mask\n",
    "\n",
    "    with torch.no_grad():\n",
    "        xs = last_tf_layer(split_input, attention_mask=attention_mask, perms=perms)\n",
    "        xs = pooler_layer(xs, perms=perms)\n",
    "        l = clf_layer(xs).squeeze()\n",
    "        probs = torch.softmax(l[0], 0)\n",
    "        total_probs = torch.softmax(l.sum(0), 0)\n",
    "        print(l[0])\n",
    "\n",
    "    probabilities[:, i] = probs\n",
    "    logits[:, i] = l[0]"
   ]
  },
  {
   "cell_type": "code",
   "execution_count": 74,
   "metadata": {},
   "outputs": [
    {
     "data": {
      "text/plain": [
       "tensor([[0.2703, 0.3280, 0.3138, 0.3278, 0.3251, 0.3174, 0.3194, 0.3149, 0.3309,\n",
       "         0.3321, 0.3601, 0.3446, 0.3397, 0.3431, 0.3337, 0.3595],\n",
       "        [0.4257, 0.3638, 0.3591, 0.3520, 0.3459, 0.3530, 0.3471, 0.3533, 0.3462,\n",
       "         0.3409, 0.3415, 0.3374, 0.3375, 0.3344, 0.3325, 0.3443],\n",
       "        [0.3039, 0.3082, 0.3271, 0.3201, 0.3291, 0.3296, 0.3336, 0.3317, 0.3229,\n",
       "         0.3270, 0.2984, 0.3180, 0.3227, 0.3225, 0.3338, 0.2962]])"
      ]
     },
     "execution_count": 74,
     "metadata": {},
     "output_type": "execute_result"
    }
   ],
   "source": [
    "probabilities"
   ]
  },
  {
   "cell_type": "code",
   "execution_count": 75,
   "metadata": {},
   "outputs": [
    {
     "data": {
      "text/plain": [
       "True"
      ]
     },
     "execution_count": 75,
     "metadata": {},
     "output_type": "execute_result"
    }
   ],
   "source": [
    "torch.allclose((new_split * beta_mask).sum(0), second_last_embeddings)"
   ]
  },
  {
   "cell_type": "code",
   "execution_count": 76,
   "metadata": {},
   "outputs": [
    {
     "data": {
      "text/plain": [
       "tensor([[-2.3017e-01,  2.2386e-01, -1.1303e-01],\n",
       "        [-6.2731e-03,  9.7363e-02, -6.8465e-02],\n",
       "        [-5.6873e-02,  7.8073e-02, -1.5328e-02],\n",
       "        [-1.1911e-02,  5.9257e-02, -3.5769e-02],\n",
       "        [-1.8368e-02,  4.3771e-02, -6.1347e-03],\n",
       "        [-4.3390e-02,  6.2796e-02, -5.5558e-03],\n",
       "        [-3.8674e-02,  4.4496e-02,  4.7724e-03],\n",
       "        [-5.6454e-02,  5.8693e-02, -4.4288e-03],\n",
       "        [-5.0938e-03,  3.9979e-02, -2.9837e-02],\n",
       "        [-7.8906e-04,  2.5420e-02, -1.6085e-02],\n",
       "        [ 8.5006e-02,  3.2040e-02, -1.0307e-01],\n",
       "        [ 3.6376e-02,  1.5403e-02, -4.3656e-02],\n",
       "        [ 2.1358e-02,  1.4869e-02, -3.0096e-02],\n",
       "        [ 3.1486e-02,  5.7002e-03, -3.0407e-02],\n",
       "        [ 7.5992e-05, -3.6118e-03,  2.8482e-04],\n",
       "        [ 8.0439e-02,  3.7198e-02, -1.1346e-01]])"
      ]
     },
     "execution_count": 76,
     "metadata": {},
     "output_type": "execute_result"
    }
   ],
   "source": [
    "logits.T"
   ]
  },
  {
   "cell_type": "code",
   "execution_count": 77,
   "metadata": {},
   "outputs": [],
   "source": [
    "links = []\n",
    "labels = [\"negative\", \"neutral\", \"positive\"]\n",
    "colors = {\n",
    "    \"negative\": \"rgba(0, 202, 255, 0.5)\",\n",
    "    \"neutral\": \"rgba(112, 255, 145, 0.5)\",\n",
    "    \"positive\": \"rgba(255, 0, 250, 0.3)\"\n",
    "}\n",
    "\n",
    "for i, a in enumerate(zip(words, logits.T.tolist())):\n",
    "    word, logit = a\n",
    "    # logit += split_logits[:, -1]\n",
    "    for j, b in enumerate(zip(labels, logit)):\n",
    "        label, v = b\n",
    "        links.append(\n",
    "            {\n",
    "                'source': i,\n",
    "                'target': len(words) + j,\n",
    "                'value': v,\n",
    "                'color': colors[label]\n",
    "            }\n",
    "        )\n",
    "df = pd.DataFrame(links)"
   ]
  },
  {
   "cell_type": "code",
   "execution_count": 78,
   "metadata": {},
   "outputs": [
    {
     "data": {
      "application/vnd.plotly.v1+json": {
       "config": {
        "plotlyServerURL": "https://plot.ly"
       },
       "data": [
        {
         "link": {
          "color": [
           "rgba(0, 202, 255, 0.5)",
           "rgba(112, 255, 145, 0.5)",
           "rgba(255, 0, 250, 0.3)",
           "rgba(0, 202, 255, 0.5)",
           "rgba(112, 255, 145, 0.5)",
           "rgba(255, 0, 250, 0.3)",
           "rgba(0, 202, 255, 0.5)",
           "rgba(112, 255, 145, 0.5)",
           "rgba(255, 0, 250, 0.3)",
           "rgba(0, 202, 255, 0.5)",
           "rgba(112, 255, 145, 0.5)",
           "rgba(255, 0, 250, 0.3)",
           "rgba(0, 202, 255, 0.5)",
           "rgba(112, 255, 145, 0.5)",
           "rgba(255, 0, 250, 0.3)",
           "rgba(0, 202, 255, 0.5)",
           "rgba(112, 255, 145, 0.5)",
           "rgba(255, 0, 250, 0.3)",
           "rgba(0, 202, 255, 0.5)",
           "rgba(112, 255, 145, 0.5)",
           "rgba(255, 0, 250, 0.3)",
           "rgba(0, 202, 255, 0.5)",
           "rgba(112, 255, 145, 0.5)",
           "rgba(255, 0, 250, 0.3)",
           "rgba(0, 202, 255, 0.5)",
           "rgba(112, 255, 145, 0.5)",
           "rgba(255, 0, 250, 0.3)",
           "rgba(0, 202, 255, 0.5)",
           "rgba(112, 255, 145, 0.5)",
           "rgba(255, 0, 250, 0.3)",
           "rgba(0, 202, 255, 0.5)",
           "rgba(112, 255, 145, 0.5)",
           "rgba(255, 0, 250, 0.3)",
           "rgba(0, 202, 255, 0.5)",
           "rgba(112, 255, 145, 0.5)",
           "rgba(255, 0, 250, 0.3)",
           "rgba(0, 202, 255, 0.5)",
           "rgba(112, 255, 145, 0.5)",
           "rgba(255, 0, 250, 0.3)",
           "rgba(0, 202, 255, 0.5)",
           "rgba(112, 255, 145, 0.5)",
           "rgba(255, 0, 250, 0.3)",
           "rgba(0, 202, 255, 0.5)",
           "rgba(112, 255, 145, 0.5)",
           "rgba(255, 0, 250, 0.3)",
           "rgba(0, 202, 255, 0.5)",
           "rgba(112, 255, 145, 0.5)",
           "rgba(255, 0, 250, 0.3)"
          ],
          "source": [
           0,
           0,
           0,
           1,
           1,
           1,
           2,
           2,
           2,
           3,
           3,
           3,
           4,
           4,
           4,
           5,
           5,
           5,
           6,
           6,
           6,
           7,
           7,
           7,
           8,
           8,
           8,
           9,
           9,
           9,
           10,
           10,
           10,
           11,
           11,
           11,
           12,
           12,
           12,
           13,
           13,
           13,
           14,
           14,
           14,
           15,
           15,
           15
          ],
          "target": [
           16,
           17,
           18,
           16,
           17,
           18,
           16,
           17,
           18,
           16,
           17,
           18,
           16,
           17,
           18,
           16,
           17,
           18,
           16,
           17,
           18,
           16,
           17,
           18,
           16,
           17,
           18,
           16,
           17,
           18,
           16,
           17,
           18,
           16,
           17,
           18,
           16,
           17,
           18,
           16,
           17,
           18,
           16,
           17,
           18,
           16,
           17,
           18
          ],
          "value": [
           -0.2301711142063141,
           0.22386212646961212,
           -0.11303264647722244,
           -0.0062731108628213406,
           0.09736289083957672,
           -0.06846502423286438,
           -0.05687292665243149,
           0.07807307690382004,
           -0.015327636152505875,
           -0.011910826899111271,
           0.05925732105970383,
           -0.03576941415667534,
           -0.01836823672056198,
           0.04377126693725586,
           -0.006134711671620607,
           -0.04339001700282097,
           0.06279582530260086,
           -0.005555818323045969,
           -0.0386742427945137,
           0.04449641332030296,
           0.004772385116666555,
           -0.05645428225398064,
           0.05869316682219505,
           -0.004428793676197529,
           -0.005093782674521208,
           0.03997896984219551,
           -0.029837070032954216,
           -0.0007890572305768728,
           0.025420449674129486,
           -0.016085227951407433,
           0.0850062221288681,
           0.03204014524817467,
           -0.10306571424007416,
           0.03637608513236046,
           0.015403343364596367,
           -0.0436558872461319,
           0.02135786972939968,
           0.014868822880089283,
           -0.030095530673861504,
           0.03148616850376129,
           0.005700183566659689,
           -0.030407309532165527,
           0.00007599237142130733,
           -0.003611770924180746,
           0.00028481753543019295,
           0.08043898642063141,
           0.037197716534137726,
           -0.11346191167831421
          ]
         },
         "node": {
          "color": "grey",
          "label": [
           "<s>",
           "I",
           "respect",
           "the",
           "visuals",
           ",",
           "I",
           "respect",
           "the",
           "performances",
           "but",
           "...",
           "n",
           "ah",
           ".",
           "</s>",
           "negative",
           "neutral",
           "positive"
          ],
          "x": [
           0.1,
           0.1,
           0.1,
           0.1,
           0.1,
           0.1,
           0.1,
           0.1,
           0.1,
           0.1,
           0.1,
           0.1,
           0.1,
           0.1,
           0.1,
           0.1,
           0.5,
           0.5,
           0.5
          ],
          "y": [
           0.01,
           0.07533333333333332,
           0.14066666666666666,
           0.206,
           0.2713333333333333,
           0.33666666666666667,
           0.40199999999999997,
           0.46733333333333327,
           0.5326666666666666,
           0.598,
           0.6633333333333333,
           0.7286666666666666,
           0.7939999999999999,
           0.8593333333333333,
           0.9246666666666665,
           0.99,
           0.01,
           0.5,
           0.99
          ]
         },
         "type": "sankey"
        }
       ],
       "layout": {
        "template": {
         "data": {
          "bar": [
           {
            "error_x": {
             "color": "#2a3f5f"
            },
            "error_y": {
             "color": "#2a3f5f"
            },
            "marker": {
             "line": {
              "color": "#E5ECF6",
              "width": 0.5
             },
             "pattern": {
              "fillmode": "overlay",
              "size": 10,
              "solidity": 0.2
             }
            },
            "type": "bar"
           }
          ],
          "barpolar": [
           {
            "marker": {
             "line": {
              "color": "#E5ECF6",
              "width": 0.5
             },
             "pattern": {
              "fillmode": "overlay",
              "size": 10,
              "solidity": 0.2
             }
            },
            "type": "barpolar"
           }
          ],
          "carpet": [
           {
            "aaxis": {
             "endlinecolor": "#2a3f5f",
             "gridcolor": "white",
             "linecolor": "white",
             "minorgridcolor": "white",
             "startlinecolor": "#2a3f5f"
            },
            "baxis": {
             "endlinecolor": "#2a3f5f",
             "gridcolor": "white",
             "linecolor": "white",
             "minorgridcolor": "white",
             "startlinecolor": "#2a3f5f"
            },
            "type": "carpet"
           }
          ],
          "choropleth": [
           {
            "colorbar": {
             "outlinewidth": 0,
             "ticks": ""
            },
            "type": "choropleth"
           }
          ],
          "contour": [
           {
            "colorbar": {
             "outlinewidth": 0,
             "ticks": ""
            },
            "colorscale": [
             [
              0,
              "#0d0887"
             ],
             [
              0.1111111111111111,
              "#46039f"
             ],
             [
              0.2222222222222222,
              "#7201a8"
             ],
             [
              0.3333333333333333,
              "#9c179e"
             ],
             [
              0.4444444444444444,
              "#bd3786"
             ],
             [
              0.5555555555555556,
              "#d8576b"
             ],
             [
              0.6666666666666666,
              "#ed7953"
             ],
             [
              0.7777777777777778,
              "#fb9f3a"
             ],
             [
              0.8888888888888888,
              "#fdca26"
             ],
             [
              1,
              "#f0f921"
             ]
            ],
            "type": "contour"
           }
          ],
          "contourcarpet": [
           {
            "colorbar": {
             "outlinewidth": 0,
             "ticks": ""
            },
            "type": "contourcarpet"
           }
          ],
          "heatmap": [
           {
            "colorbar": {
             "outlinewidth": 0,
             "ticks": ""
            },
            "colorscale": [
             [
              0,
              "#0d0887"
             ],
             [
              0.1111111111111111,
              "#46039f"
             ],
             [
              0.2222222222222222,
              "#7201a8"
             ],
             [
              0.3333333333333333,
              "#9c179e"
             ],
             [
              0.4444444444444444,
              "#bd3786"
             ],
             [
              0.5555555555555556,
              "#d8576b"
             ],
             [
              0.6666666666666666,
              "#ed7953"
             ],
             [
              0.7777777777777778,
              "#fb9f3a"
             ],
             [
              0.8888888888888888,
              "#fdca26"
             ],
             [
              1,
              "#f0f921"
             ]
            ],
            "type": "heatmap"
           }
          ],
          "heatmapgl": [
           {
            "colorbar": {
             "outlinewidth": 0,
             "ticks": ""
            },
            "colorscale": [
             [
              0,
              "#0d0887"
             ],
             [
              0.1111111111111111,
              "#46039f"
             ],
             [
              0.2222222222222222,
              "#7201a8"
             ],
             [
              0.3333333333333333,
              "#9c179e"
             ],
             [
              0.4444444444444444,
              "#bd3786"
             ],
             [
              0.5555555555555556,
              "#d8576b"
             ],
             [
              0.6666666666666666,
              "#ed7953"
             ],
             [
              0.7777777777777778,
              "#fb9f3a"
             ],
             [
              0.8888888888888888,
              "#fdca26"
             ],
             [
              1,
              "#f0f921"
             ]
            ],
            "type": "heatmapgl"
           }
          ],
          "histogram": [
           {
            "marker": {
             "pattern": {
              "fillmode": "overlay",
              "size": 10,
              "solidity": 0.2
             }
            },
            "type": "histogram"
           }
          ],
          "histogram2d": [
           {
            "colorbar": {
             "outlinewidth": 0,
             "ticks": ""
            },
            "colorscale": [
             [
              0,
              "#0d0887"
             ],
             [
              0.1111111111111111,
              "#46039f"
             ],
             [
              0.2222222222222222,
              "#7201a8"
             ],
             [
              0.3333333333333333,
              "#9c179e"
             ],
             [
              0.4444444444444444,
              "#bd3786"
             ],
             [
              0.5555555555555556,
              "#d8576b"
             ],
             [
              0.6666666666666666,
              "#ed7953"
             ],
             [
              0.7777777777777778,
              "#fb9f3a"
             ],
             [
              0.8888888888888888,
              "#fdca26"
             ],
             [
              1,
              "#f0f921"
             ]
            ],
            "type": "histogram2d"
           }
          ],
          "histogram2dcontour": [
           {
            "colorbar": {
             "outlinewidth": 0,
             "ticks": ""
            },
            "colorscale": [
             [
              0,
              "#0d0887"
             ],
             [
              0.1111111111111111,
              "#46039f"
             ],
             [
              0.2222222222222222,
              "#7201a8"
             ],
             [
              0.3333333333333333,
              "#9c179e"
             ],
             [
              0.4444444444444444,
              "#bd3786"
             ],
             [
              0.5555555555555556,
              "#d8576b"
             ],
             [
              0.6666666666666666,
              "#ed7953"
             ],
             [
              0.7777777777777778,
              "#fb9f3a"
             ],
             [
              0.8888888888888888,
              "#fdca26"
             ],
             [
              1,
              "#f0f921"
             ]
            ],
            "type": "histogram2dcontour"
           }
          ],
          "mesh3d": [
           {
            "colorbar": {
             "outlinewidth": 0,
             "ticks": ""
            },
            "type": "mesh3d"
           }
          ],
          "parcoords": [
           {
            "line": {
             "colorbar": {
              "outlinewidth": 0,
              "ticks": ""
             }
            },
            "type": "parcoords"
           }
          ],
          "pie": [
           {
            "automargin": true,
            "type": "pie"
           }
          ],
          "scatter": [
           {
            "fillpattern": {
             "fillmode": "overlay",
             "size": 10,
             "solidity": 0.2
            },
            "type": "scatter"
           }
          ],
          "scatter3d": [
           {
            "line": {
             "colorbar": {
              "outlinewidth": 0,
              "ticks": ""
             }
            },
            "marker": {
             "colorbar": {
              "outlinewidth": 0,
              "ticks": ""
             }
            },
            "type": "scatter3d"
           }
          ],
          "scattercarpet": [
           {
            "marker": {
             "colorbar": {
              "outlinewidth": 0,
              "ticks": ""
             }
            },
            "type": "scattercarpet"
           }
          ],
          "scattergeo": [
           {
            "marker": {
             "colorbar": {
              "outlinewidth": 0,
              "ticks": ""
             }
            },
            "type": "scattergeo"
           }
          ],
          "scattergl": [
           {
            "marker": {
             "colorbar": {
              "outlinewidth": 0,
              "ticks": ""
             }
            },
            "type": "scattergl"
           }
          ],
          "scattermapbox": [
           {
            "marker": {
             "colorbar": {
              "outlinewidth": 0,
              "ticks": ""
             }
            },
            "type": "scattermapbox"
           }
          ],
          "scatterpolar": [
           {
            "marker": {
             "colorbar": {
              "outlinewidth": 0,
              "ticks": ""
             }
            },
            "type": "scatterpolar"
           }
          ],
          "scatterpolargl": [
           {
            "marker": {
             "colorbar": {
              "outlinewidth": 0,
              "ticks": ""
             }
            },
            "type": "scatterpolargl"
           }
          ],
          "scatterternary": [
           {
            "marker": {
             "colorbar": {
              "outlinewidth": 0,
              "ticks": ""
             }
            },
            "type": "scatterternary"
           }
          ],
          "surface": [
           {
            "colorbar": {
             "outlinewidth": 0,
             "ticks": ""
            },
            "colorscale": [
             [
              0,
              "#0d0887"
             ],
             [
              0.1111111111111111,
              "#46039f"
             ],
             [
              0.2222222222222222,
              "#7201a8"
             ],
             [
              0.3333333333333333,
              "#9c179e"
             ],
             [
              0.4444444444444444,
              "#bd3786"
             ],
             [
              0.5555555555555556,
              "#d8576b"
             ],
             [
              0.6666666666666666,
              "#ed7953"
             ],
             [
              0.7777777777777778,
              "#fb9f3a"
             ],
             [
              0.8888888888888888,
              "#fdca26"
             ],
             [
              1,
              "#f0f921"
             ]
            ],
            "type": "surface"
           }
          ],
          "table": [
           {
            "cells": {
             "fill": {
              "color": "#EBF0F8"
             },
             "line": {
              "color": "white"
             }
            },
            "header": {
             "fill": {
              "color": "#C8D4E3"
             },
             "line": {
              "color": "white"
             }
            },
            "type": "table"
           }
          ]
         },
         "layout": {
          "annotationdefaults": {
           "arrowcolor": "#2a3f5f",
           "arrowhead": 0,
           "arrowwidth": 1
          },
          "autotypenumbers": "strict",
          "coloraxis": {
           "colorbar": {
            "outlinewidth": 0,
            "ticks": ""
           }
          },
          "colorscale": {
           "diverging": [
            [
             0,
             "#8e0152"
            ],
            [
             0.1,
             "#c51b7d"
            ],
            [
             0.2,
             "#de77ae"
            ],
            [
             0.3,
             "#f1b6da"
            ],
            [
             0.4,
             "#fde0ef"
            ],
            [
             0.5,
             "#f7f7f7"
            ],
            [
             0.6,
             "#e6f5d0"
            ],
            [
             0.7,
             "#b8e186"
            ],
            [
             0.8,
             "#7fbc41"
            ],
            [
             0.9,
             "#4d9221"
            ],
            [
             1,
             "#276419"
            ]
           ],
           "sequential": [
            [
             0,
             "#0d0887"
            ],
            [
             0.1111111111111111,
             "#46039f"
            ],
            [
             0.2222222222222222,
             "#7201a8"
            ],
            [
             0.3333333333333333,
             "#9c179e"
            ],
            [
             0.4444444444444444,
             "#bd3786"
            ],
            [
             0.5555555555555556,
             "#d8576b"
            ],
            [
             0.6666666666666666,
             "#ed7953"
            ],
            [
             0.7777777777777778,
             "#fb9f3a"
            ],
            [
             0.8888888888888888,
             "#fdca26"
            ],
            [
             1,
             "#f0f921"
            ]
           ],
           "sequentialminus": [
            [
             0,
             "#0d0887"
            ],
            [
             0.1111111111111111,
             "#46039f"
            ],
            [
             0.2222222222222222,
             "#7201a8"
            ],
            [
             0.3333333333333333,
             "#9c179e"
            ],
            [
             0.4444444444444444,
             "#bd3786"
            ],
            [
             0.5555555555555556,
             "#d8576b"
            ],
            [
             0.6666666666666666,
             "#ed7953"
            ],
            [
             0.7777777777777778,
             "#fb9f3a"
            ],
            [
             0.8888888888888888,
             "#fdca26"
            ],
            [
             1,
             "#f0f921"
            ]
           ]
          },
          "colorway": [
           "#636efa",
           "#EF553B",
           "#00cc96",
           "#ab63fa",
           "#FFA15A",
           "#19d3f3",
           "#FF6692",
           "#B6E880",
           "#FF97FF",
           "#FECB52"
          ],
          "font": {
           "color": "#2a3f5f"
          },
          "geo": {
           "bgcolor": "white",
           "lakecolor": "white",
           "landcolor": "#E5ECF6",
           "showlakes": true,
           "showland": true,
           "subunitcolor": "white"
          },
          "hoverlabel": {
           "align": "left"
          },
          "hovermode": "closest",
          "mapbox": {
           "style": "light"
          },
          "paper_bgcolor": "white",
          "plot_bgcolor": "#E5ECF6",
          "polar": {
           "angularaxis": {
            "gridcolor": "white",
            "linecolor": "white",
            "ticks": ""
           },
           "bgcolor": "#E5ECF6",
           "radialaxis": {
            "gridcolor": "white",
            "linecolor": "white",
            "ticks": ""
           }
          },
          "scene": {
           "xaxis": {
            "backgroundcolor": "#E5ECF6",
            "gridcolor": "white",
            "gridwidth": 2,
            "linecolor": "white",
            "showbackground": true,
            "ticks": "",
            "zerolinecolor": "white"
           },
           "yaxis": {
            "backgroundcolor": "#E5ECF6",
            "gridcolor": "white",
            "gridwidth": 2,
            "linecolor": "white",
            "showbackground": true,
            "ticks": "",
            "zerolinecolor": "white"
           },
           "zaxis": {
            "backgroundcolor": "#E5ECF6",
            "gridcolor": "white",
            "gridwidth": 2,
            "linecolor": "white",
            "showbackground": true,
            "ticks": "",
            "zerolinecolor": "white"
           }
          },
          "shapedefaults": {
           "line": {
            "color": "#2a3f5f"
           }
          },
          "ternary": {
           "aaxis": {
            "gridcolor": "white",
            "linecolor": "white",
            "ticks": ""
           },
           "baxis": {
            "gridcolor": "white",
            "linecolor": "white",
            "ticks": ""
           },
           "bgcolor": "#E5ECF6",
           "caxis": {
            "gridcolor": "white",
            "linecolor": "white",
            "ticks": ""
           }
          },
          "title": {
           "x": 0.05
          },
          "xaxis": {
           "automargin": true,
           "gridcolor": "white",
           "linecolor": "white",
           "ticks": "",
           "title": {
            "standoff": 15
           },
           "zerolinecolor": "white",
           "zerolinewidth": 2
          },
          "yaxis": {
           "automargin": true,
           "gridcolor": "white",
           "linecolor": "white",
           "ticks": "",
           "title": {
            "standoff": 15
           },
           "zerolinecolor": "white",
           "zerolinewidth": 2
          }
         }
        }
       }
      }
     },
     "metadata": {},
     "output_type": "display_data"
    }
   ],
   "source": [
    "import plotly.graph_objects as go\n",
    "df = pd.DataFrame(links)\n",
    "\n",
    "fig = go.Figure(\n",
    "    go.Sankey(\n",
    "        # arrangement = \"snap\", \n",
    "        node={\"label\": words + labels,\n",
    "              'x': [0.1] * len(words) + [0.5] * len(labels),\n",
    "              \"y\": list(np.linspace(0.01,0.99,len(words))) + list(np.linspace(0.01,0.99,len(labels))),\n",
    "              'color': \"grey\",\n",
    "            #   'pad':10\n",
    "              },\n",
    "            #   \"y\": [],\n",
    "        link={\n",
    "            \"source\": df[\"source\"].tolist(),\n",
    "            \"target\": df[\"target\"].tolist(),\n",
    "            \"value\": df[\"value\"].tolist(),\n",
    "            \"color\": df[\"color\"].tolist(),\n",
    "        },\n",
    "    )\n",
    ")\n",
    "\n",
    "fig.show()"
   ]
  },
  {
   "cell_type": "code",
   "execution_count": 79,
   "metadata": {},
   "outputs": [
    {
     "data": {
      "text/html": [
       "<div>\n",
       "<style scoped>\n",
       "    .dataframe tbody tr th:only-of-type {\n",
       "        vertical-align: middle;\n",
       "    }\n",
       "\n",
       "    .dataframe tbody tr th {\n",
       "        vertical-align: top;\n",
       "    }\n",
       "\n",
       "    .dataframe thead th {\n",
       "        text-align: right;\n",
       "    }\n",
       "</style>\n",
       "<table border=\"1\" class=\"dataframe\">\n",
       "  <thead>\n",
       "    <tr style=\"text-align: right;\">\n",
       "      <th>target</th>\n",
       "      <th>negative</th>\n",
       "      <th>neutral</th>\n",
       "      <th>positive</th>\n",
       "    </tr>\n",
       "    <tr>\n",
       "      <th>word</th>\n",
       "      <th></th>\n",
       "      <th></th>\n",
       "      <th></th>\n",
       "    </tr>\n",
       "  </thead>\n",
       "  <tbody>\n",
       "    <tr>\n",
       "      <th>&lt;s&gt;</th>\n",
       "      <td>-0.230171</td>\n",
       "      <td>0.223862</td>\n",
       "      <td>-0.113033</td>\n",
       "    </tr>\n",
       "    <tr>\n",
       "      <th>I</th>\n",
       "      <td>-0.006273</td>\n",
       "      <td>0.097363</td>\n",
       "      <td>-0.068465</td>\n",
       "    </tr>\n",
       "    <tr>\n",
       "      <th>respect</th>\n",
       "      <td>-0.056873</td>\n",
       "      <td>0.078073</td>\n",
       "      <td>-0.015328</td>\n",
       "    </tr>\n",
       "    <tr>\n",
       "      <th>the</th>\n",
       "      <td>-0.011911</td>\n",
       "      <td>0.059257</td>\n",
       "      <td>-0.035769</td>\n",
       "    </tr>\n",
       "    <tr>\n",
       "      <th>visuals</th>\n",
       "      <td>-0.018368</td>\n",
       "      <td>0.043771</td>\n",
       "      <td>-0.006135</td>\n",
       "    </tr>\n",
       "    <tr>\n",
       "      <th>,</th>\n",
       "      <td>-0.043390</td>\n",
       "      <td>0.062796</td>\n",
       "      <td>-0.005556</td>\n",
       "    </tr>\n",
       "    <tr>\n",
       "      <th>I</th>\n",
       "      <td>-0.038674</td>\n",
       "      <td>0.044496</td>\n",
       "      <td>0.004772</td>\n",
       "    </tr>\n",
       "    <tr>\n",
       "      <th>respect</th>\n",
       "      <td>-0.056454</td>\n",
       "      <td>0.058693</td>\n",
       "      <td>-0.004429</td>\n",
       "    </tr>\n",
       "    <tr>\n",
       "      <th>the</th>\n",
       "      <td>-0.005094</td>\n",
       "      <td>0.039979</td>\n",
       "      <td>-0.029837</td>\n",
       "    </tr>\n",
       "    <tr>\n",
       "      <th>performances</th>\n",
       "      <td>-0.000789</td>\n",
       "      <td>0.025420</td>\n",
       "      <td>-0.016085</td>\n",
       "    </tr>\n",
       "    <tr>\n",
       "      <th>but</th>\n",
       "      <td>0.085006</td>\n",
       "      <td>0.032040</td>\n",
       "      <td>-0.103066</td>\n",
       "    </tr>\n",
       "    <tr>\n",
       "      <th>...</th>\n",
       "      <td>0.036376</td>\n",
       "      <td>0.015403</td>\n",
       "      <td>-0.043656</td>\n",
       "    </tr>\n",
       "    <tr>\n",
       "      <th>n</th>\n",
       "      <td>0.021358</td>\n",
       "      <td>0.014869</td>\n",
       "      <td>-0.030096</td>\n",
       "    </tr>\n",
       "    <tr>\n",
       "      <th>ah</th>\n",
       "      <td>0.031486</td>\n",
       "      <td>0.005700</td>\n",
       "      <td>-0.030407</td>\n",
       "    </tr>\n",
       "    <tr>\n",
       "      <th>.</th>\n",
       "      <td>0.000076</td>\n",
       "      <td>-0.003612</td>\n",
       "      <td>0.000285</td>\n",
       "    </tr>\n",
       "    <tr>\n",
       "      <th>&lt;/s&gt;</th>\n",
       "      <td>0.080439</td>\n",
       "      <td>0.037198</td>\n",
       "      <td>-0.113462</td>\n",
       "    </tr>\n",
       "  </tbody>\n",
       "</table>\n",
       "</div>"
      ],
      "text/plain": [
       "target        negative   neutral  positive\n",
       "word                                      \n",
       "<s>          -0.230171  0.223862 -0.113033\n",
       "I            -0.006273  0.097363 -0.068465\n",
       "respect      -0.056873  0.078073 -0.015328\n",
       "the          -0.011911  0.059257 -0.035769\n",
       "visuals      -0.018368  0.043771 -0.006135\n",
       ",            -0.043390  0.062796 -0.005556\n",
       "I            -0.038674  0.044496  0.004772\n",
       "respect      -0.056454  0.058693 -0.004429\n",
       "the          -0.005094  0.039979 -0.029837\n",
       "performances -0.000789  0.025420 -0.016085\n",
       "but           0.085006  0.032040 -0.103066\n",
       "...           0.036376  0.015403 -0.043656\n",
       "n             0.021358  0.014869 -0.030096\n",
       "ah            0.031486  0.005700 -0.030407\n",
       ".             0.000076 -0.003612  0.000285\n",
       "</s>          0.080439  0.037198 -0.113462"
      ]
     },
     "execution_count": 79,
     "metadata": {},
     "output_type": "execute_result"
    }
   ],
   "source": [
    "data = df.copy()\n",
    "data[\"word\"] = data[\"source\"].apply(lambda x: words[x])\n",
    "data[\"target\"] = data[\"target\"].apply(lambda x: labels[x - len(words)])\n",
    "\n",
    "data = data.pivot_table(index=[\"source\", \"word\"], columns=\"target\", values=\"value\").reset_index().set_index(\"word\").drop(columns=[\"source\"])\n",
    "\n",
    "# data.loc[\"__TOTAL__\"] = [sum(data[\"negative\"]), sum(data[\"neutral\"]), sum(data[\"positive\"])]\n",
    "data"
   ]
  },
  {
   "cell_type": "code",
   "execution_count": 80,
   "metadata": {},
   "outputs": [
    {
     "data": {
      "image/png": "[encoded data removed]",
      "text/plain": [
       "<Figure size 1100x250 with 3 Axes>"
      ]
     },
     "metadata": {},
     "output_type": "display_data"
    }
   ],
   "source": [
    "cm = ['Blues', 'Greens', 'Reds']\n",
    "\n",
    "# plt.figure(figsize=(12, 6))\n",
    "f, axs = plt.subplots(3, 1, gridspec_kw={'hspace': 0},  figsize=(11, 2.5))\n",
    "\n",
    "counter = 0\n",
    "for index, row in data.T.iterrows():\n",
    "    ax = sns.heatmap(np.array([row.values]), yticklabels=[labels[counter]], xticklabels=data.T.columns, annot=True, fmt='.2f', ax=axs[counter], cmap=cm[counter], cbar=False, vmin=-0.3, vmax=1, linecolor=\"black\")\n",
    "    ax.axvline(x=1, linewidth=5, color=\"w\")\n",
    "    ax.axvline(x=len(words) - 1, linewidth=5, color=\"w\")\n",
    "    counter += 1\n",
    "\n",
    "plt.show()"
   ]
  }
 ],
 "metadata": {
  "kernelspec": {
   "display_name": "metaphor",
   "language": "python",
   "name": "python3"
  },
  "language_info": {
   "codemirror_mode": {
    "name": "ipython",
    "version": 3
   },
   "file_extension": ".py",
   "mimetype": "text/x-python",
   "name": "python",
   "nbconvert_exporter": "python",
   "pygments_lexer": "ipython3",
   "version": "3.11.5"
  }
 },
 "nbformat": 4,
 "nbformat_minor": 2
}
