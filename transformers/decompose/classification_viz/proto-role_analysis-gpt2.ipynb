{
 "cells": [
  {
   "cell_type": "code",
   "execution_count": 3,
   "metadata": {},
   "outputs": [],
   "source": [
    "import pandas as pd\n",
    "import transformers \n",
    "import numpy as np\n",
    "import torch\n",
    "from collections import OrderedDict \n",
    "\n",
    "import sys\n",
    "\n",
    "sys.path.insert(0, '..')\n",
    "\n",
    "from decompose_gpt2 import GPT2ForSequenceClassificationDecomposed, GPT2Config\n",
    "from analysis.preprocess_input import split_pos_neg_contributions\n",
    "\n",
    "import seaborn as sns\n",
    "import matplotlib.pyplot as plt\n"
   ]
  },
  {
   "cell_type": "code",
   "execution_count": 4,
   "metadata": {},
   "outputs": [],
   "source": [
    "labels = ['awareness', 'change_of_location', 'change_of_state',\n",
    "       'change_of_possession', 'existed_after', 'existed_before',\n",
    "       'existed_during', 'instigation', 'sentient', 'volition']\n",
    "# labels = ['awareness',\n",
    "#        'change_of_location', 'change_of_state', 'changes_possession',\n",
    "#        'created', 'destroyed', 'existed_after', 'existed_before',\n",
    "#        'existed_during', 'exists_as_physical', 'instigation',\n",
    "#        'location_of_event', 'makes_physical_contact', 'manipulated_by_another',\n",
    "#        'predicate_changed_argument', 'sentient', 'stationary', 'volition']\n"
   ]
  },
  {
   "cell_type": "code",
   "execution_count": 5,
   "metadata": {},
   "outputs": [],
   "source": [
    "\n",
    "path = \"../../combined_SPRL_gpt2\"\n",
    "model = transformers.AutoModelForSequenceClassification.from_pretrained(path)\n",
    "\n",
    "new_state_dict = OrderedDict()\n",
    "for key, value in model.state_dict().items():\n",
    "    # ref : https://pytorch.org/docs/stable/generated/torch.nn.LayerNorm.html\n",
    "    new_key = key.replace(\"ln_1.weight\", \"ln_1.gamma\").replace(\"ln_1.bias\", \"ln_1.beta\")\n",
    "    new_key = new_key.replace(\"ln_2.weight\", \"ln_2.gamma\").replace(\"ln_2.bias\", \"ln_2.beta\")\n",
    "    new_key = new_key.replace(\"ln_f.weight\", \"ln_f.gamma\").replace(\"ln_f.bias\", \"ln_f.beta\")\n",
    "    new_state_dict[new_key] = value\n"
   ]
  },
  {
   "cell_type": "code",
   "execution_count": 6,
   "metadata": {},
   "outputs": [
    {
     "data": {
      "text/plain": [
       "GPT2ForSequenceClassification(\n",
       "  (transformer): GPT2Model(\n",
       "    (wte): Embedding(50259, 1024)\n",
       "    (wpe): Embedding(1024, 1024)\n",
       "    (drop): Dropout(p=0.1, inplace=False)\n",
       "    (h): ModuleList(\n",
       "      (0-23): 24 x Block(\n",
       "        (ln_1): LayerNorm((1024,), eps=1e-05)\n",
       "        (attn): Attention(\n",
       "          (c_attn): Conv1D(nf=3072, nx=1024)\n",
       "          (c_proj): Conv1D(nf=1024, nx=1024)\n",
       "          (attn_dropout): Dropout(p=0.1, inplace=False)\n",
       "          (resid_dropout): Dropout(p=0.1, inplace=False)\n",
       "        )\n",
       "        (ln_2): LayerNorm((1024,), eps=1e-05)\n",
       "        (mlp): MLP(\n",
       "          (c_fc): Conv1D(nf=4096, nx=1024)\n",
       "          (c_proj): Conv1D(nf=1024, nx=4096)\n",
       "          (dropout): Dropout(p=0.1, inplace=False)\n",
       "        )\n",
       "      )\n",
       "    )\n",
       "    (ln_f): LayerNorm((1024,), eps=1e-05)\n",
       "  )\n",
       "  (score): Linear(in_features=1024, out_features=30, bias=False)\n",
       ")"
      ]
     },
     "execution_count": 6,
     "metadata": {},
     "output_type": "execute_result"
    }
   ],
   "source": [
    "decomposed_model = GPT2ForSequenceClassificationDecomposed(\n",
    "    config= GPT2Config.from_dict(model.config.to_dict()),\n",
    "    debug=False, \n",
    "    num_labels=len(labels) * 3\n",
    "    )\n",
    "\n",
    "tokenizer = transformers.AutoTokenizer.from_pretrained(path + \"/tokenizer\")\n",
    "decomposed_model.model.load_state_dict(new_state_dict)\n",
    "decomposed_model.model.eval()\n"
   ]
  },
  {
   "cell_type": "code",
   "execution_count": 30,
   "metadata": {},
   "outputs": [
    {
     "name": "stdout",
     "output_type": "stream",
     "text": [
      "['<a>', 'The', 'police', 'dog', '<a>', 'tirelessly', '<p>', 'followed', '<p>', 'the', 'ruthless', 'criminal', 'using', 'his', 'scent', '.']\n",
      "awareness 2 tensor([1.4029e-04, 1.6199e-05, 9.9984e-01], dtype=torch.float64)\n",
      "change_of_location 2 tensor([1.3396e-04, 2.1003e-04, 9.9966e-01], dtype=torch.float64)\n",
      "change_of_state 1 tensor([0.3001, 0.4871, 0.2128], dtype=torch.float64)\n",
      "change_of_possession 0 tensor([0.9969, 0.0014, 0.0017], dtype=torch.float64)\n",
      "existed_after 2 tensor([2.2288e-04, 8.2694e-04, 9.9895e-01], dtype=torch.float64)\n",
      "existed_before 2 tensor([5.0662e-07, 2.0484e-07, 1.0000e+00], dtype=torch.float64)\n",
      "existed_during 2 tensor([1.2624e-08, 2.3389e-09, 1.0000e+00], dtype=torch.float64)\n",
      "instigation 2 tensor([3.2157e-04, 8.5407e-05, 9.9959e-01], dtype=torch.float64)\n",
      "sentient 2 tensor([1.3324e-05, 4.9706e-06, 9.9998e-01], dtype=torch.float64)\n",
      "volition 2 tensor([2.9063e-03, 1.5078e-04, 9.9694e-01], dtype=torch.float64)\n"
     ]
    },
    {
     "data": {
      "text/plain": [
       "tensor([[1.4029e-04, 1.3396e-04, 3.0013e-01, 9.9691e-01, 2.2288e-04, 5.0662e-07,\n",
       "         1.2624e-08, 3.2157e-04, 1.3324e-05, 2.9063e-03],\n",
       "        [1.6199e-05, 2.1003e-04, 4.8712e-01, 1.4353e-03, 8.2694e-04, 2.0484e-07,\n",
       "         2.3389e-09, 8.5407e-05, 4.9706e-06, 1.5078e-04],\n",
       "        [9.9984e-01, 9.9966e-01, 2.1276e-01, 1.6537e-03, 9.9895e-01, 1.0000e+00,\n",
       "         1.0000e+00, 9.9959e-01, 9.9998e-01, 9.9694e-01]], dtype=torch.float64)"
      ]
     },
     "execution_count": 30,
     "metadata": {},
     "output_type": "execute_result"
    }
   ],
   "source": [
    "model = decomposed_model.model\n",
    "\n",
    "verb = [\"<p>\", \"followed\"]\n",
    "arg = [\"<a>\", \"The\", \"police\", \"dog\"]\n",
    "encoded_input = tokenizer(\"<a>The police dog<a> tirelessly<p> followed<p> the ruthless criminal using his scent.\", return_tensors='pt')\n",
    "# verb = [\"<p>\", \"followed\"]\n",
    "# arg = [\"<a>\", \"the\", \"ruthless\", \"criminal\"]\n",
    "# encoded_input = tokenizer(\"The police dog tirelessly<p> followed<p><a> the ruthless criminal<a> using his scent.\", return_tensors='pt')\n",
    "\n",
    "text = list(map(lambda x: x.strip(\"Ġ\"), tokenizer.convert_ids_to_tokens(encoded_input['input_ids'][0])))\n",
    "print(text)\n",
    "\n",
    "with torch.no_grad():\n",
    "    logits = model(**encoded_input)[\"logits\"]\n",
    "    logits = torch.Tensor(logits.reshape(logits.shape[0], 3, len(labels)))\n",
    "\n",
    "    # get probabilities using softmax\n",
    "    probs = torch.softmax(logits, axis=1).squeeze()\n",
    "    y_pred = torch.argmax(probs, axis=0)\n",
    "for l, y, p in zip(labels, y_pred, probs.T):\n",
    "    print(l, y.item(), p)\n",
    "\n",
    "probs\n"
   ]
  },
  {
   "cell_type": "code",
   "execution_count": 31,
   "metadata": {},
   "outputs": [
    {
     "name": "stdout",
     "output_type": "stream",
     "text": [
      "(16, 1, 2, 10)\n",
      "(16, 1, 2, 10)\n"
     ]
    }
   ],
   "source": [
    "logits = torch.zeros(len(encoded_input[\"input_ids\"].squeeze()), 3, len(labels))\n",
    "\n",
    "for i in range(len(encoded_input[\"input_ids\"].squeeze())):\n",
    "    mask = torch.zeros_like(encoded_input[\"input_ids\"].squeeze())\n",
    "    mask[i] = 1\n",
    "    \n",
    "    beta_mask = torch.stack([mask, 1 - mask]).unsqueeze(0)\n",
    "\n",
    "    with torch.no_grad():\n",
    "        l = decomposed_model(\n",
    "            input_ids=encoded_input[\"input_ids\"],\n",
    "            attention_mask=encoded_input[\"attention_mask\"],\n",
    "            beta_mask=beta_mask,\n",
    "            num_contributions=2)\n",
    "        l = l['logits'][0].reshape(3, len(labels))\n",
    "\n",
    "    logits[i] = l\n",
    "\n",
    "# logits -= logits.mean(axis=[0, 1], keepdim=True)\n",
    "# logits /= logits.std(axis=[0, 1],  keepdim=True)\n",
    "# logits = torch.clip(logits, min=1e-2)\n",
    "\n",
    "logits = split_pos_neg_contributions(logits.unsqueeze(1).numpy())\n",
    "\n",
    "print(logits.shape)\n"
   ]
  },
  {
   "cell_type": "code",
   "execution_count": 32,
   "metadata": {},
   "outputs": [],
   "source": [
    "#normalize logits by property\n",
    "# logits -= logits.mean((0, 1, 2), keepdims=True)\n",
    "logits_ = logits / logits.sum((0, 1, 2), keepdims=True)\n"
   ]
  },
  {
   "cell_type": "code",
   "execution_count": 33,
   "metadata": {},
   "outputs": [
    {
     "data": {
      "text/html": [
       "<div>\n",
       "<style scoped>\n",
       "    .dataframe tbody tr th:only-of-type {\n",
       "        vertical-align: middle;\n",
       "    }\n",
       "\n",
       "    .dataframe tbody tr th {\n",
       "        vertical-align: top;\n",
       "    }\n",
       "\n",
       "    .dataframe thead th {\n",
       "        text-align: right;\n",
       "    }\n",
       "</style>\n",
       "<table border=\"1\" class=\"dataframe\">\n",
       "  <thead>\n",
       "    <tr style=\"text-align: right;\">\n",
       "      <th></th>\n",
       "      <th></th>\n",
       "      <th>logits</th>\n",
       "    </tr>\n",
       "    <tr>\n",
       "      <th>word</th>\n",
       "      <th>property</th>\n",
       "      <th></th>\n",
       "    </tr>\n",
       "  </thead>\n",
       "  <tbody>\n",
       "    <tr>\n",
       "      <th>&lt;a&gt;</th>\n",
       "      <th>awareness</th>\n",
       "      <td>[-0.0, 0.04061891643271966]</td>\n",
       "    </tr>\n",
       "    <tr>\n",
       "      <th>The</th>\n",
       "      <th>awareness</th>\n",
       "      <td>[0.11146676305496057, -0.0]</td>\n",
       "    </tr>\n",
       "    <tr>\n",
       "      <th>police</th>\n",
       "      <th>awareness</th>\n",
       "      <td>[-0.0, 0.28868752992723096]</td>\n",
       "    </tr>\n",
       "    <tr>\n",
       "      <th>dog</th>\n",
       "      <th>awareness</th>\n",
       "      <td>[0.16600376776789222, -0.0]</td>\n",
       "    </tr>\n",
       "    <tr>\n",
       "      <th>&lt;a&gt;</th>\n",
       "      <th>awareness</th>\n",
       "      <td>[-0.0, 0.03823461067329928]</td>\n",
       "    </tr>\n",
       "    <tr>\n",
       "      <th>...</th>\n",
       "      <th>...</th>\n",
       "      <td>...</td>\n",
       "    </tr>\n",
       "    <tr>\n",
       "      <th>criminal</th>\n",
       "      <th>volition</th>\n",
       "      <td>[0.010559399962435346, 0.0030329535874689764]</td>\n",
       "    </tr>\n",
       "    <tr>\n",
       "      <th>using</th>\n",
       "      <th>volition</th>\n",
       "      <td>[0.009175756953338674, 0.005464462149520575]</td>\n",
       "    </tr>\n",
       "    <tr>\n",
       "      <th>his</th>\n",
       "      <th>volition</th>\n",
       "      <td>[-0.0, 0.014775479244685816]</td>\n",
       "    </tr>\n",
       "    <tr>\n",
       "      <th>scent</th>\n",
       "      <th>volition</th>\n",
       "      <td>[0.032022976169645855, -0.0]</td>\n",
       "    </tr>\n",
       "    <tr>\n",
       "      <th>.</th>\n",
       "      <th>volition</th>\n",
       "      <td>[-0.0, 0.03655125542316704]</td>\n",
       "    </tr>\n",
       "  </tbody>\n",
       "</table>\n",
       "<p>160 rows × 1 columns</p>\n",
       "</div>"
      ],
      "text/plain": [
       "                                                           logits\n",
       "word     property                                                \n",
       "<a>      awareness                    [-0.0, 0.04061891643271966]\n",
       "The      awareness                    [0.11146676305496057, -0.0]\n",
       "police   awareness                    [-0.0, 0.28868752992723096]\n",
       "dog      awareness                    [0.16600376776789222, -0.0]\n",
       "<a>      awareness                    [-0.0, 0.03823461067329928]\n",
       "...                                                           ...\n",
       "criminal volition   [0.010559399962435346, 0.0030329535874689764]\n",
       "using    volition    [0.009175756953338674, 0.005464462149520575]\n",
       "his      volition                    [-0.0, 0.014775479244685816]\n",
       "scent    volition                    [0.032022976169645855, -0.0]\n",
       ".        volition                     [-0.0, 0.03655125542316704]\n",
       "\n",
       "[160 rows x 1 columns]"
      ]
     },
     "execution_count": 33,
     "metadata": {},
     "output_type": "execute_result"
    }
   ],
   "source": [
    "df = pd.DataFrame(logits_.squeeze().transpose(1, 2, 0).T.tolist(), columns=labels)\n",
    "df[\"word\"] = text\n",
    "\n",
    "df = df.melt(id_vars = \"word\", var_name=\"property\", value_name=\"logits\")\n",
    "# df[[\"negative\", \"positive\"]] = df[\"logits\"].tolist()\n",
    "\n",
    "# df = df.drop(columns=\"logits\")\n",
    "df = df.set_index([\"word\", \"property\"])\n",
    "df\n"
   ]
  },
  {
   "cell_type": "code",
   "execution_count": null,
   "metadata": {},
   "outputs": [
    {
     "name": "stderr",
     "output_type": "stream",
     "text": [
      "/var/folders/lq/kd3wh6952vg99n5ppf4srz9w0000gn/T/ipykernel_76544/483185532.py:14: PerformanceWarning:\n",
      "\n",
      "indexing past lexsort depth may impact performance.\n",
      "\n",
      "/var/folders/lq/kd3wh6952vg99n5ppf4srz9w0000gn/T/ipykernel_76544/483185532.py:14: FutureWarning:\n",
      "\n",
      "Series.__getitem__ treating keys as positions is deprecated. In a future version, integer keys will always be treated as labels (consistent with DataFrame behavior). To access a value by position, use `ser.iloc[pos]`\n",
      "\n"
     ]
    },
    {
     "data": {
      "text/plain": [
       "[{'source': 0,\n",
       "  'target': 16,\n",
       "  'value': -0.0,\n",
       "  'color': 'rgba(0, 202, 255, 0.5)',\n",
       "  'word': '<a>'},\n",
       " {'source': 0,\n",
       "  'target': 17,\n",
       "  'value': 0.10040988714432005,\n",
       "  'color': 'rgba(0, 202, 255, 0.5)',\n",
       "  'word': '<a>'},\n",
       " {'source': 1,\n",
       "  'target': 16,\n",
       "  'value': 0.09816063964317807,\n",
       "  'color': 'rgba(0, 202, 255, 0.5)',\n",
       "  'word': 'The'},\n",
       " {'source': 1,\n",
       "  'target': 17,\n",
       "  'value': -0.0,\n",
       "  'color': 'rgba(0, 202, 255, 0.5)',\n",
       "  'word': 'The'},\n",
       " {'source': 2,\n",
       "  'target': 16,\n",
       "  'value': -0.0,\n",
       "  'color': 'rgba(0, 202, 255, 0.5)',\n",
       "  'word': 'police'},\n",
       " {'source': 2,\n",
       "  'target': 17,\n",
       "  'value': 0.11030906275844056,\n",
       "  'color': 'rgba(0, 202, 255, 0.5)',\n",
       "  'word': 'police'},\n",
       " {'source': 3,\n",
       "  'target': 16,\n",
       "  'value': 0.3294746254543954,\n",
       "  'color': 'rgba(0, 202, 255, 0.5)',\n",
       "  'word': 'dog'},\n",
       " {'source': 3,\n",
       "  'target': 17,\n",
       "  'value': -0.0,\n",
       "  'color': 'rgba(0, 202, 255, 0.5)',\n",
       "  'word': 'dog'},\n",
       " {'source': 4,\n",
       "  'target': 16,\n",
       "  'value': -0.0,\n",
       "  'color': 'rgba(0, 202, 255, 0.5)',\n",
       "  'word': '<a>'},\n",
       " {'source': 4,\n",
       "  'target': 17,\n",
       "  'value': 0.10040988714432005,\n",
       "  'color': 'rgba(0, 202, 255, 0.5)',\n",
       "  'word': '<a>'},\n",
       " {'source': 5,\n",
       "  'target': 16,\n",
       "  'value': -0.0,\n",
       "  'color': 'rgba(255, 200, 0, 0.3)',\n",
       "  'word': 'tirelessly'},\n",
       " {'source': 5,\n",
       "  'target': 17,\n",
       "  'value': 0.11871051028446153,\n",
       "  'color': 'rgba(255, 200, 0, 0.3)',\n",
       "  'word': 'tirelessly'},\n",
       " {'source': 6,\n",
       "  'target': 16,\n",
       "  'value': -0.0,\n",
       "  'color': 'rgba(255, 0, 0, 0.5)',\n",
       "  'word': '<p>'},\n",
       " {'source': 6,\n",
       "  'target': 17,\n",
       "  'value': 0.015952846552911928,\n",
       "  'color': 'rgba(255, 0, 0, 0.5)',\n",
       "  'word': '<p>'},\n",
       " {'source': 7,\n",
       "  'target': 16,\n",
       "  'value': 0.010704142326239497,\n",
       "  'color': 'rgba(255, 0, 0, 0.5)',\n",
       "  'word': 'followed'},\n",
       " {'source': 7,\n",
       "  'target': 17,\n",
       "  'value': 0.013265048766458008,\n",
       "  'color': 'rgba(255, 0, 0, 0.5)',\n",
       "  'word': 'followed'},\n",
       " {'source': 8,\n",
       "  'target': 16,\n",
       "  'value': -0.0,\n",
       "  'color': 'rgba(255, 0, 0, 0.5)',\n",
       "  'word': '<p>'},\n",
       " {'source': 8,\n",
       "  'target': 17,\n",
       "  'value': 0.015952846552911928,\n",
       "  'color': 'rgba(255, 0, 0, 0.5)',\n",
       "  'word': '<p>'},\n",
       " {'source': 9,\n",
       "  'target': 16,\n",
       "  'value': -0.0,\n",
       "  'color': 'rgba(255, 200, 0, 0.3)',\n",
       "  'word': 'the'},\n",
       " {'source': 9,\n",
       "  'target': 17,\n",
       "  'value': 0.009408729661010853,\n",
       "  'color': 'rgba(255, 200, 0, 0.3)',\n",
       "  'word': 'the'},\n",
       " {'source': 10,\n",
       "  'target': 16,\n",
       "  'value': 0.0188017605525913,\n",
       "  'color': 'rgba(255, 200, 0, 0.3)',\n",
       "  'word': 'ruthless'},\n",
       " {'source': 10,\n",
       "  'target': 17,\n",
       "  'value': -0.0,\n",
       "  'color': 'rgba(255, 200, 0, 0.3)',\n",
       "  'word': 'ruthless'},\n",
       " {'source': 11,\n",
       "  'target': 16,\n",
       "  'value': 0.023543233065030412,\n",
       "  'color': 'rgba(255, 200, 0, 0.3)',\n",
       "  'word': 'criminal'},\n",
       " {'source': 11,\n",
       "  'target': 17,\n",
       "  'value': -0.0,\n",
       "  'color': 'rgba(255, 200, 0, 0.3)',\n",
       "  'word': 'criminal'},\n",
       " {'source': 12,\n",
       "  'target': 16,\n",
       "  'value': 0.013558792962695921,\n",
       "  'color': 'rgba(255, 200, 0, 0.3)',\n",
       "  'word': 'using'},\n",
       " {'source': 12,\n",
       "  'target': 17,\n",
       "  'value': 0.00011651008661859073,\n",
       "  'color': 'rgba(255, 200, 0, 0.3)',\n",
       "  'word': 'using'},\n",
       " {'source': 13,\n",
       "  'target': 16,\n",
       "  'value': -0.0,\n",
       "  'color': 'rgba(255, 200, 0, 0.3)',\n",
       "  'word': 'his'},\n",
       " {'source': 13,\n",
       "  'target': 17,\n",
       "  'value': 0.014888263534590145,\n",
       "  'color': 'rgba(255, 200, 0, 0.3)',\n",
       "  'word': 'his'},\n",
       " {'source': 14,\n",
       "  'target': 16,\n",
       "  'value': 0.03248983329394863,\n",
       "  'color': 'rgba(255, 200, 0, 0.3)',\n",
       "  'word': 'scent'},\n",
       " {'source': 14,\n",
       "  'target': 17,\n",
       "  'value': -0.0,\n",
       "  'color': 'rgba(255, 200, 0, 0.3)',\n",
       "  'word': 'scent'},\n",
       " {'source': 15,\n",
       "  'target': 16,\n",
       "  'value': -0.0,\n",
       "  'color': 'rgba(255, 200, 0, 0.3)',\n",
       "  'word': '.'},\n",
       " {'source': 15,\n",
       "  'target': 17,\n",
       "  'value': 0.05906915912852064,\n",
       "  'color': 'rgba(255, 200, 0, 0.3)',\n",
       "  'word': '.'}]"
      ]
     },
     "execution_count": 36,
     "metadata": {},
     "output_type": "execute_result"
    }
   ],
   "source": [
    "links = []\n",
    "# colors = {\n",
    "#     \"negative\": \"rgba(0, 202, 255, 0.5)\",\n",
    "#     \"neutral\": \"rgba(112, 255, 145, 0.5)\",\n",
    "#     \"positive\": \"rgba(255, 0, 250, 0.3)\"\n",
    "# }\n",
    "\n",
    "yellow =  \"rgba(255, 200, 0, 0.5)\"\n",
    "red = \"rgba(255, 0, 0, 0.5)\"\n",
    "blue = \"rgba(0, 202, 255, 0.5)\"\n",
    "\n",
    "property = \"instigation\"\n",
    "for i, word in enumerate(text):\n",
    "    for j, value in enumerate(df.loc[(word, property)][\"logits\"][0]):\n",
    "        if word in verb:\n",
    "            # color =  \"rgba(244, 181, 0, 0.5)\"\n",
    "            color = red\n",
    "        elif word in arg:\n",
    "            # color = \"rgba(112, 255, 145, 0.5)\"\n",
    "            color = blue\n",
    "        else:\n",
    "            # color = \"rgba(0, 202, 255, 0.3)\"\n",
    "            color = yellow\n",
    "        links.append(\n",
    "            {\n",
    "                'source': i,\n",
    "                'target': len(text) + j,\n",
    "                'value': value,\n",
    "                'color': color,\n",
    "                \"word\": word\n",
    "            }\n",
    "        )\n",
    "\n",
    "links\n"
   ]
  },
  {
   "cell_type": "code",
   "execution_count": 37,
   "metadata": {},
   "outputs": [
    {
     "data": {
      "application/vnd.plotly.v1+json": {
       "config": {
        "plotlyServerURL": "https://plot.ly"
       },
       "data": [
        {
         "arrangement": "snap",
         "link": {
          "color": [
           "rgba(0, 202, 255, 0.5)",
           "rgba(0, 202, 255, 0.5)",
           "rgba(0, 202, 255, 0.5)",
           "rgba(0, 202, 255, 0.5)",
           "rgba(0, 202, 255, 0.5)",
           "rgba(0, 202, 255, 0.5)",
           "rgba(0, 202, 255, 0.5)",
           "rgba(0, 202, 255, 0.5)",
           "rgba(0, 202, 255, 0.5)",
           "rgba(0, 202, 255, 0.5)",
           "rgba(255, 200, 0, 0.3)",
           "rgba(255, 200, 0, 0.3)",
           "rgba(255, 0, 0, 0.5)",
           "rgba(255, 0, 0, 0.5)",
           "rgba(255, 0, 0, 0.5)",
           "rgba(255, 0, 0, 0.5)",
           "rgba(255, 0, 0, 0.5)",
           "rgba(255, 0, 0, 0.5)",
           "rgba(255, 200, 0, 0.3)",
           "rgba(255, 200, 0, 0.3)",
           "rgba(255, 200, 0, 0.3)",
           "rgba(255, 200, 0, 0.3)",
           "rgba(255, 200, 0, 0.3)",
           "rgba(255, 200, 0, 0.3)",
           "rgba(255, 200, 0, 0.3)",
           "rgba(255, 200, 0, 0.3)",
           "rgba(255, 200, 0, 0.3)",
           "rgba(255, 200, 0, 0.3)",
           "rgba(255, 200, 0, 0.3)",
           "rgba(255, 200, 0, 0.3)",
           "rgba(255, 200, 0, 0.3)",
           "rgba(255, 200, 0, 0.3)"
          ],
          "source": [
           0,
           0,
           1,
           1,
           2,
           2,
           3,
           3,
           4,
           4,
           5,
           5,
           6,
           6,
           7,
           7,
           8,
           8,
           9,
           9,
           10,
           10,
           11,
           11,
           12,
           12,
           13,
           13,
           14,
           14,
           15,
           15
          ],
          "target": [
           16,
           17,
           16,
           17,
           16,
           17,
           16,
           17,
           16,
           17,
           16,
           17,
           16,
           17,
           16,
           17,
           16,
           17,
           16,
           17,
           16,
           17,
           16,
           17,
           16,
           17,
           16,
           17,
           16,
           17,
           16,
           17
          ],
          "value": [
           0,
           0.10040988714432005,
           0.09816063964317807,
           0,
           0,
           0.11030906275844056,
           0.3294746254543954,
           0,
           0,
           0.10040988714432005,
           0,
           0.11871051028446153,
           0,
           0.015952846552911928,
           0.010704142326239497,
           0.013265048766458008,
           0,
           0.015952846552911928,
           0,
           0.009408729661010853,
           0.0188017605525913,
           0,
           0.023543233065030412,
           0,
           0.013558792962695921,
           0.00011651008661859073,
           0,
           0.014888263534590145,
           0.03248983329394863,
           0,
           0,
           0.05906915912852064
          ]
         },
         "node": {
          "color": "grey",
          "label": [
           "<|arg|>",
           "The",
           "police",
           "dog",
           "<|arg|>",
           "tirelessly",
           "<|pred|>",
           "followed",
           "<|pred|>",
           "the",
           "ruthless",
           "criminal",
           "using",
           "his",
           "scent",
           ".",
           "negative",
           "positive"
          ],
          "pad": 10,
          "x": [
           0.1,
           0.1,
           0.1,
           0.1,
           0.1,
           0.1,
           0.1,
           0.1,
           0.1,
           0.1,
           0.1,
           0.1,
           0.1,
           0.1,
           0.1,
           0.1,
           0.5,
           0.5
          ],
          "y": [
           0.01,
           0.07533333333333332,
           0.14066666666666666,
           0.206,
           0.2713333333333333,
           0.33666666666666667,
           0.40199999999999997,
           0.46733333333333327,
           0.5326666666666666,
           0.598,
           0.6633333333333333,
           0.7286666666666666,
           0.7939999999999999,
           0.8593333333333333,
           0.9246666666666665,
           0.99,
           0.01,
           0.99
          ]
         },
         "type": "sankey"
        }
       ],
       "layout": {
        "autosize": false,
        "height": 500,
        "template": {
         "data": {
          "bar": [
           {
            "error_x": {
             "color": "#2a3f5f"
            },
            "error_y": {
             "color": "#2a3f5f"
            },
            "marker": {
             "line": {
              "color": "#E5ECF6",
              "width": 0.5
             },
             "pattern": {
              "fillmode": "overlay",
              "size": 10,
              "solidity": 0.2
             }
            },
            "type": "bar"
           }
          ],
          "barpolar": [
           {
            "marker": {
             "line": {
              "color": "#E5ECF6",
              "width": 0.5
             },
             "pattern": {
              "fillmode": "overlay",
              "size": 10,
              "solidity": 0.2
             }
            },
            "type": "barpolar"
           }
          ],
          "carpet": [
           {
            "aaxis": {
             "endlinecolor": "#2a3f5f",
             "gridcolor": "white",
             "linecolor": "white",
             "minorgridcolor": "white",
             "startlinecolor": "#2a3f5f"
            },
            "baxis": {
             "endlinecolor": "#2a3f5f",
             "gridcolor": "white",
             "linecolor": "white",
             "minorgridcolor": "white",
             "startlinecolor": "#2a3f5f"
            },
            "type": "carpet"
           }
          ],
          "choropleth": [
           {
            "colorbar": {
             "outlinewidth": 0,
             "ticks": ""
            },
            "type": "choropleth"
           }
          ],
          "contour": [
           {
            "colorbar": {
             "outlinewidth": 0,
             "ticks": ""
            },
            "colorscale": [
             [
              0,
              "#0d0887"
             ],
             [
              0.1111111111111111,
              "#46039f"
             ],
             [
              0.2222222222222222,
              "#7201a8"
             ],
             [
              0.3333333333333333,
              "#9c179e"
             ],
             [
              0.4444444444444444,
              "#bd3786"
             ],
             [
              0.5555555555555556,
              "#d8576b"
             ],
             [
              0.6666666666666666,
              "#ed7953"
             ],
             [
              0.7777777777777778,
              "#fb9f3a"
             ],
             [
              0.8888888888888888,
              "#fdca26"
             ],
             [
              1,
              "#f0f921"
             ]
            ],
            "type": "contour"
           }
          ],
          "contourcarpet": [
           {
            "colorbar": {
             "outlinewidth": 0,
             "ticks": ""
            },
            "type": "contourcarpet"
           }
          ],
          "heatmap": [
           {
            "colorbar": {
             "outlinewidth": 0,
             "ticks": ""
            },
            "colorscale": [
             [
              0,
              "#0d0887"
             ],
             [
              0.1111111111111111,
              "#46039f"
             ],
             [
              0.2222222222222222,
              "#7201a8"
             ],
             [
              0.3333333333333333,
              "#9c179e"
             ],
             [
              0.4444444444444444,
              "#bd3786"
             ],
             [
              0.5555555555555556,
              "#d8576b"
             ],
             [
              0.6666666666666666,
              "#ed7953"
             ],
             [
              0.7777777777777778,
              "#fb9f3a"
             ],
             [
              0.8888888888888888,
              "#fdca26"
             ],
             [
              1,
              "#f0f921"
             ]
            ],
            "type": "heatmap"
           }
          ],
          "heatmapgl": [
           {
            "colorbar": {
             "outlinewidth": 0,
             "ticks": ""
            },
            "colorscale": [
             [
              0,
              "#0d0887"
             ],
             [
              0.1111111111111111,
              "#46039f"
             ],
             [
              0.2222222222222222,
              "#7201a8"
             ],
             [
              0.3333333333333333,
              "#9c179e"
             ],
             [
              0.4444444444444444,
              "#bd3786"
             ],
             [
              0.5555555555555556,
              "#d8576b"
             ],
             [
              0.6666666666666666,
              "#ed7953"
             ],
             [
              0.7777777777777778,
              "#fb9f3a"
             ],
             [
              0.8888888888888888,
              "#fdca26"
             ],
             [
              1,
              "#f0f921"
             ]
            ],
            "type": "heatmapgl"
           }
          ],
          "histogram": [
           {
            "marker": {
             "pattern": {
              "fillmode": "overlay",
              "size": 10,
              "solidity": 0.2
             }
            },
            "type": "histogram"
           }
          ],
          "histogram2d": [
           {
            "colorbar": {
             "outlinewidth": 0,
             "ticks": ""
            },
            "colorscale": [
             [
              0,
              "#0d0887"
             ],
             [
              0.1111111111111111,
              "#46039f"
             ],
             [
              0.2222222222222222,
              "#7201a8"
             ],
             [
              0.3333333333333333,
              "#9c179e"
             ],
             [
              0.4444444444444444,
              "#bd3786"
             ],
             [
              0.5555555555555556,
              "#d8576b"
             ],
             [
              0.6666666666666666,
              "#ed7953"
             ],
             [
              0.7777777777777778,
              "#fb9f3a"
             ],
             [
              0.8888888888888888,
              "#fdca26"
             ],
             [
              1,
              "#f0f921"
             ]
            ],
            "type": "histogram2d"
           }
          ],
          "histogram2dcontour": [
           {
            "colorbar": {
             "outlinewidth": 0,
             "ticks": ""
            },
            "colorscale": [
             [
              0,
              "#0d0887"
             ],
             [
              0.1111111111111111,
              "#46039f"
             ],
             [
              0.2222222222222222,
              "#7201a8"
             ],
             [
              0.3333333333333333,
              "#9c179e"
             ],
             [
              0.4444444444444444,
              "#bd3786"
             ],
             [
              0.5555555555555556,
              "#d8576b"
             ],
             [
              0.6666666666666666,
              "#ed7953"
             ],
             [
              0.7777777777777778,
              "#fb9f3a"
             ],
             [
              0.8888888888888888,
              "#fdca26"
             ],
             [
              1,
              "#f0f921"
             ]
            ],
            "type": "histogram2dcontour"
           }
          ],
          "mesh3d": [
           {
            "colorbar": {
             "outlinewidth": 0,
             "ticks": ""
            },
            "type": "mesh3d"
           }
          ],
          "parcoords": [
           {
            "line": {
             "colorbar": {
              "outlinewidth": 0,
              "ticks": ""
             }
            },
            "type": "parcoords"
           }
          ],
          "pie": [
           {
            "automargin": true,
            "type": "pie"
           }
          ],
          "scatter": [
           {
            "fillpattern": {
             "fillmode": "overlay",
             "size": 10,
             "solidity": 0.2
            },
            "type": "scatter"
           }
          ],
          "scatter3d": [
           {
            "line": {
             "colorbar": {
              "outlinewidth": 0,
              "ticks": ""
             }
            },
            "marker": {
             "colorbar": {
              "outlinewidth": 0,
              "ticks": ""
             }
            },
            "type": "scatter3d"
           }
          ],
          "scattercarpet": [
           {
            "marker": {
             "colorbar": {
              "outlinewidth": 0,
              "ticks": ""
             }
            },
            "type": "scattercarpet"
           }
          ],
          "scattergeo": [
           {
            "marker": {
             "colorbar": {
              "outlinewidth": 0,
              "ticks": ""
             }
            },
            "type": "scattergeo"
           }
          ],
          "scattergl": [
           {
            "marker": {
             "colorbar": {
              "outlinewidth": 0,
              "ticks": ""
             }
            },
            "type": "scattergl"
           }
          ],
          "scattermapbox": [
           {
            "marker": {
             "colorbar": {
              "outlinewidth": 0,
              "ticks": ""
             }
            },
            "type": "scattermapbox"
           }
          ],
          "scatterpolar": [
           {
            "marker": {
             "colorbar": {
              "outlinewidth": 0,
              "ticks": ""
             }
            },
            "type": "scatterpolar"
           }
          ],
          "scatterpolargl": [
           {
            "marker": {
             "colorbar": {
              "outlinewidth": 0,
              "ticks": ""
             }
            },
            "type": "scatterpolargl"
           }
          ],
          "scatterternary": [
           {
            "marker": {
             "colorbar": {
              "outlinewidth": 0,
              "ticks": ""
             }
            },
            "type": "scatterternary"
           }
          ],
          "surface": [
           {
            "colorbar": {
             "outlinewidth": 0,
             "ticks": ""
            },
            "colorscale": [
             [
              0,
              "#0d0887"
             ],
             [
              0.1111111111111111,
              "#46039f"
             ],
             [
              0.2222222222222222,
              "#7201a8"
             ],
             [
              0.3333333333333333,
              "#9c179e"
             ],
             [
              0.4444444444444444,
              "#bd3786"
             ],
             [
              0.5555555555555556,
              "#d8576b"
             ],
             [
              0.6666666666666666,
              "#ed7953"
             ],
             [
              0.7777777777777778,
              "#fb9f3a"
             ],
             [
              0.8888888888888888,
              "#fdca26"
             ],
             [
              1,
              "#f0f921"
             ]
            ],
            "type": "surface"
           }
          ],
          "table": [
           {
            "cells": {
             "fill": {
              "color": "#EBF0F8"
             },
             "line": {
              "color": "white"
             }
            },
            "header": {
             "fill": {
              "color": "#C8D4E3"
             },
             "line": {
              "color": "white"
             }
            },
            "type": "table"
           }
          ]
         },
         "layout": {
          "annotationdefaults": {
           "arrowcolor": "#2a3f5f",
           "arrowhead": 0,
           "arrowwidth": 1
          },
          "autotypenumbers": "strict",
          "coloraxis": {
           "colorbar": {
            "outlinewidth": 0,
            "ticks": ""
           }
          },
          "colorscale": {
           "diverging": [
            [
             0,
             "#8e0152"
            ],
            [
             0.1,
             "#c51b7d"
            ],
            [
             0.2,
             "#de77ae"
            ],
            [
             0.3,
             "#f1b6da"
            ],
            [
             0.4,
             "#fde0ef"
            ],
            [
             0.5,
             "#f7f7f7"
            ],
            [
             0.6,
             "#e6f5d0"
            ],
            [
             0.7,
             "#b8e186"
            ],
            [
             0.8,
             "#7fbc41"
            ],
            [
             0.9,
             "#4d9221"
            ],
            [
             1,
             "#276419"
            ]
           ],
           "sequential": [
            [
             0,
             "#0d0887"
            ],
            [
             0.1111111111111111,
             "#46039f"
            ],
            [
             0.2222222222222222,
             "#7201a8"
            ],
            [
             0.3333333333333333,
             "#9c179e"
            ],
            [
             0.4444444444444444,
             "#bd3786"
            ],
            [
             0.5555555555555556,
             "#d8576b"
            ],
            [
             0.6666666666666666,
             "#ed7953"
            ],
            [
             0.7777777777777778,
             "#fb9f3a"
            ],
            [
             0.8888888888888888,
             "#fdca26"
            ],
            [
             1,
             "#f0f921"
            ]
           ],
           "sequentialminus": [
            [
             0,
             "#0d0887"
            ],
            [
             0.1111111111111111,
             "#46039f"
            ],
            [
             0.2222222222222222,
             "#7201a8"
            ],
            [
             0.3333333333333333,
             "#9c179e"
            ],
            [
             0.4444444444444444,
             "#bd3786"
            ],
            [
             0.5555555555555556,
             "#d8576b"
            ],
            [
             0.6666666666666666,
             "#ed7953"
            ],
            [
             0.7777777777777778,
             "#fb9f3a"
            ],
            [
             0.8888888888888888,
             "#fdca26"
            ],
            [
             1,
             "#f0f921"
            ]
           ]
          },
          "colorway": [
           "#636efa",
           "#EF553B",
           "#00cc96",
           "#ab63fa",
           "#FFA15A",
           "#19d3f3",
           "#FF6692",
           "#B6E880",
           "#FF97FF",
           "#FECB52"
          ],
          "font": {
           "color": "#2a3f5f"
          },
          "geo": {
           "bgcolor": "white",
           "lakecolor": "white",
           "landcolor": "#E5ECF6",
           "showlakes": true,
           "showland": true,
           "subunitcolor": "white"
          },
          "hoverlabel": {
           "align": "left"
          },
          "hovermode": "closest",
          "mapbox": {
           "style": "light"
          },
          "paper_bgcolor": "white",
          "plot_bgcolor": "#E5ECF6",
          "polar": {
           "angularaxis": {
            "gridcolor": "white",
            "linecolor": "white",
            "ticks": ""
           },
           "bgcolor": "#E5ECF6",
           "radialaxis": {
            "gridcolor": "white",
            "linecolor": "white",
            "ticks": ""
           }
          },
          "scene": {
           "xaxis": {
            "backgroundcolor": "#E5ECF6",
            "gridcolor": "white",
            "gridwidth": 2,
            "linecolor": "white",
            "showbackground": true,
            "ticks": "",
            "zerolinecolor": "white"
           },
           "yaxis": {
            "backgroundcolor": "#E5ECF6",
            "gridcolor": "white",
            "gridwidth": 2,
            "linecolor": "white",
            "showbackground": true,
            "ticks": "",
            "zerolinecolor": "white"
           },
           "zaxis": {
            "backgroundcolor": "#E5ECF6",
            "gridcolor": "white",
            "gridwidth": 2,
            "linecolor": "white",
            "showbackground": true,
            "ticks": "",
            "zerolinecolor": "white"
           }
          },
          "shapedefaults": {
           "line": {
            "color": "#2a3f5f"
           }
          },
          "ternary": {
           "aaxis": {
            "gridcolor": "white",
            "linecolor": "white",
            "ticks": ""
           },
           "baxis": {
            "gridcolor": "white",
            "linecolor": "white",
            "ticks": ""
           },
           "bgcolor": "#E5ECF6",
           "caxis": {
            "gridcolor": "white",
            "linecolor": "white",
            "ticks": ""
           }
          },
          "title": {
           "x": 0.05
          },
          "xaxis": {
           "automargin": true,
           "gridcolor": "white",
           "linecolor": "white",
           "ticks": "",
           "title": {
            "standoff": 15
           },
           "zerolinecolor": "white",
           "zerolinewidth": 2
          },
          "yaxis": {
           "automargin": true,
           "gridcolor": "white",
           "linecolor": "white",
           "ticks": "",
           "title": {
            "standoff": 15
           },
           "zerolinecolor": "white",
           "zerolinewidth": 2
          }
         }
        }
       }
      }
     },
     "metadata": {},
     "output_type": "display_data"
    }
   ],
   "source": [
    "import plotly.graph_objects as go\n",
    "links = pd.DataFrame(links)\n",
    "\n",
    "replace = {\n",
    "    \"<a>\": \"<|arg|>\",\n",
    "    \"<p>\": \"<|pred|>\"\n",
    "}\n",
    "\n",
    "fig = go.Figure(\n",
    "    go.Sankey(\n",
    "        arrangement = \"snap\", \n",
    "        node={\"label\": [replace[t] if t in replace else t for t in text ] + [\"negative\", \"positive\"],\n",
    "              'x': [0.1] * (len(text)) + [0.5] * 2,\n",
    "              \"y\": list(np.linspace(0.01,0.99,len(text))) + list(np.linspace(0.01,0.99,2)),\n",
    "              'color': \"grey\",\n",
    "              'pad':10\n",
    "              },\n",
    "            #   \"y\": [],\n",
    "        link={\n",
    "            \"source\": links[\"source\"].tolist(),\n",
    "            \"target\": links[\"target\"].tolist(),\n",
    "            \"value\": links[\"value\"].tolist(),\n",
    "            \"color\": links[\"color\"].tolist(),\n",
    "        },\n",
    "    )\n",
    ")\n",
    "\n",
    "# fig.update_xaxes(automargin=True)\n",
    "fig.update_layout(\n",
    "    height=500,\n",
    "    autosize=False,\n",
    "    )\n",
    "\n",
    "fig.show()\n"
   ]
  },
  {
   "cell_type": "code",
   "execution_count": 118,
   "metadata": {},
   "outputs": [
    {
     "data": {
      "text/plain": [
       "(16, 2)"
      ]
     },
     "execution_count": 118,
     "metadata": {},
     "output_type": "execute_result"
    }
   ],
   "source": [
    "instigation_values = logits[:, 0, :, 7]\n",
    "instigation_values.shape\n"
   ]
  },
  {
   "cell_type": "code",
   "execution_count": 119,
   "metadata": {},
   "outputs": [
    {
     "data": {
      "image/png": "[encoded data removed]",
      "text/plain": [
       "<Figure size 1200x500 with 1 Axes>"
      ]
     },
     "metadata": {},
     "output_type": "display_data"
    }
   ],
   "source": [
    "import seaborn as sns\n",
    "import matplotlib.pyplot as plt\n",
    "\n",
    "plt.figure(figsize = (12,5))\n",
    "g = sns.heatmap(instigation_values.T, \n",
    "            xticklabels=text, yticklabels=[\"neg\", \"pos\"],\n",
    "            square=True, cbar=False, annot=True, fmt=\".1f\", cmap=\"crest\")\n",
    "g.tick_params(axis='x', rotation=0)\n"
   ]
  },
  {
   "cell_type": "code",
   "execution_count": 120,
   "metadata": {},
   "outputs": [
    {
     "data": {
      "application/vnd.microsoft.datawrangler.viewer.v0+json": {
       "columns": [
        {
         "name": "index",
         "rawType": "object",
         "type": "string"
        },
        {
         "name": "The",
         "rawType": "float64",
         "type": "float"
        },
        {
         "name": "police",
         "rawType": "float64",
         "type": "float"
        },
        {
         "name": "dog",
         "rawType": "float64",
         "type": "float"
        },
        {
         "name": "tirelessly",
         "rawType": "float64",
         "type": "float"
        },
        {
         "name": "<p>",
         "rawType": "float64",
         "type": "float"
        },
        {
         "name": "followed",
         "rawType": "float64",
         "type": "float"
        },
        {
         "name": "<p>",
         "rawType": "float64",
         "type": "float"
        },
        {
         "name": "<a>",
         "rawType": "float64",
         "type": "float"
        },
        {
         "name": "the",
         "rawType": "float64",
         "type": "float"
        },
        {
         "name": "ruthless",
         "rawType": "float64",
         "type": "float"
        },
        {
         "name": "criminal",
         "rawType": "float64",
         "type": "float"
        },
        {
         "name": "<a>",
         "rawType": "float64",
         "type": "float"
        },
        {
         "name": "using",
         "rawType": "float64",
         "type": "float"
        },
        {
         "name": "his",
         "rawType": "float64",
         "type": "float"
        },
        {
         "name": "scent",
         "rawType": "float64",
         "type": "float"
        },
        {
         "name": ".",
         "rawType": "float64",
         "type": "float"
        }
       ],
       "conversionMethod": "pd.DataFrame",
       "ref": "289cb11f-f2b5-4ad1-9dcd-db9cbdac264c",
       "rows": [
        [
         "-INST",
         "0.5192913301289082",
         "0.7351264357566833",
         "1.4027478694915771",
         "0.482112392783165",
         "-0.0",
         "3.114814877510071",
         "-0.0",
         "-0.0",
         "0.2222636193037033",
         "-0.0",
         "-0.0",
         "0.21143298596143723",
         "0.09465285390615463",
         "-0.0",
         "0.5470672845840454",
         "1.0797030627727509"
        ],
        [
         "+INST",
         "-0.0",
         "-0.0",
         "-0.0",
         "-0.0",
         "0.012797958683222532",
         "-0.0",
         "0.014267078135162592",
         "0.1957700103521347",
         "-0.0",
         "1.5377823114395142",
         "0.29233524529263377",
         "-0.0",
         "0.07742637395858765",
         "0.2190425619482994",
         "-0.0",
         "-0.0"
        ]
       ],
       "shape": {
        "columns": 16,
        "rows": 2
       }
      },
      "text/html": [
       "<div>\n",
       "<style scoped>\n",
       "    .dataframe tbody tr th:only-of-type {\n",
       "        vertical-align: middle;\n",
       "    }\n",
       "\n",
       "    .dataframe tbody tr th {\n",
       "        vertical-align: top;\n",
       "    }\n",
       "\n",
       "    .dataframe thead th {\n",
       "        text-align: right;\n",
       "    }\n",
       "</style>\n",
       "<table border=\"1\" class=\"dataframe\">\n",
       "  <thead>\n",
       "    <tr style=\"text-align: right;\">\n",
       "      <th></th>\n",
       "      <th>The</th>\n",
       "      <th>police</th>\n",
       "      <th>dog</th>\n",
       "      <th>tirelessly</th>\n",
       "      <th>&lt;p&gt;</th>\n",
       "      <th>followed</th>\n",
       "      <th>&lt;p&gt;</th>\n",
       "      <th>&lt;a&gt;</th>\n",
       "      <th>the</th>\n",
       "      <th>ruthless</th>\n",
       "      <th>criminal</th>\n",
       "      <th>&lt;a&gt;</th>\n",
       "      <th>using</th>\n",
       "      <th>his</th>\n",
       "      <th>scent</th>\n",
       "      <th>.</th>\n",
       "    </tr>\n",
       "  </thead>\n",
       "  <tbody>\n",
       "    <tr>\n",
       "      <th>-INST</th>\n",
       "      <td>0.519291</td>\n",
       "      <td>0.735126</td>\n",
       "      <td>1.402748</td>\n",
       "      <td>0.482112</td>\n",
       "      <td>-0.000000</td>\n",
       "      <td>3.114815</td>\n",
       "      <td>-0.000000</td>\n",
       "      <td>-0.00000</td>\n",
       "      <td>0.222264</td>\n",
       "      <td>-0.000000</td>\n",
       "      <td>-0.000000</td>\n",
       "      <td>0.211433</td>\n",
       "      <td>0.094653</td>\n",
       "      <td>-0.000000</td>\n",
       "      <td>0.547067</td>\n",
       "      <td>1.079703</td>\n",
       "    </tr>\n",
       "    <tr>\n",
       "      <th>+INST</th>\n",
       "      <td>-0.000000</td>\n",
       "      <td>-0.000000</td>\n",
       "      <td>-0.000000</td>\n",
       "      <td>-0.000000</td>\n",
       "      <td>0.012798</td>\n",
       "      <td>-0.000000</td>\n",
       "      <td>0.014267</td>\n",
       "      <td>0.19577</td>\n",
       "      <td>-0.000000</td>\n",
       "      <td>1.537782</td>\n",
       "      <td>0.292335</td>\n",
       "      <td>-0.000000</td>\n",
       "      <td>0.077426</td>\n",
       "      <td>0.219043</td>\n",
       "      <td>-0.000000</td>\n",
       "      <td>-0.000000</td>\n",
       "    </tr>\n",
       "  </tbody>\n",
       "</table>\n",
       "</div>"
      ],
      "text/plain": [
       "            The    police       dog  tirelessly       <p>  followed       <p>  \\\n",
       "-INST  0.519291  0.735126  1.402748    0.482112 -0.000000  3.114815 -0.000000   \n",
       "+INST -0.000000 -0.000000 -0.000000   -0.000000  0.012798 -0.000000  0.014267   \n",
       "\n",
       "           <a>       the  ruthless  criminal       <a>     using       his  \\\n",
       "-INST -0.00000  0.222264 -0.000000 -0.000000  0.211433  0.094653 -0.000000   \n",
       "+INST  0.19577 -0.000000  1.537782  0.292335 -0.000000  0.077426  0.219043   \n",
       "\n",
       "          scent         .  \n",
       "-INST  0.547067  1.079703  \n",
       "+INST -0.000000 -0.000000  "
      ]
     },
     "execution_count": 120,
     "metadata": {},
     "output_type": "execute_result"
    }
   ],
   "source": [
    "# text = [t.replace(\"<a>\", \"<|arg|>\").replace(\"<p>\", \"<|pred|>\") for t in text]\n",
    "df = pd.DataFrame(instigation_values.T, columns=text, index=[\"-INST\", \"+INST\"])\n",
    "df\n"
   ]
  },
  {
   "cell_type": "code",
   "execution_count": 121,
   "metadata": {},
   "outputs": [
    {
     "data": {
      "image/png": "[encoded data removed]",
      "text/plain": [
       "<Figure size 1150x150 with 2 Axes>"
      ]
     },
     "metadata": {},
     "output_type": "display_data"
    }
   ],
   "source": [
    "cm = ['Blues', 'Reds', 'Greens', 'Purples']\n",
    "f, axs = plt.subplots(2, 1, gridspec_kw={'hspace': 0}, figsize=(11.5, 1.5))\n",
    "\n",
    "counter = 0\n",
    "for index, row in df.iterrows():\n",
    "    g = sns.heatmap(np.array([row.values]), yticklabels=[df.index[counter]], xticklabels=df.columns, annot=True, fmt='.2f', ax=axs[counter], cmap=cm[counter], cbar=False)\n",
    "    counter += 1\n",
    "    g.tick_params(axis='x', rotation=0)\n",
    "    g.tick_params(axis='y', rotation=0)\n",
    "\n",
    "plt.show()\n"
   ]
  },
  {
   "cell_type": "code",
   "execution_count": 81,
   "metadata": {},
   "outputs": [
    {
     "data": {
      "image/png": "[encoded data removed]",
      "text/plain": [
       "<Figure size 1200x500 with 1 Axes>"
      ]
     },
     "metadata": {},
     "output_type": "display_data"
    }
   ],
   "source": [
    "values = instigation_values.T[1] - instigation_values.T[0]\n",
    "\n",
    "plt.figure(figsize = (12,5))\n",
    "g = sns.heatmap(values.reshape(1, -1), \n",
    "            xticklabels=text, \n",
    "            square=True, cbar=False, annot=True, fmt=\".2f\", cmap=\"vlag\")\n",
    "g.tick_params(axis='x', rotation=0)\n"
   ]
  },
  {
   "cell_type": "code",
   "execution_count": null,
   "metadata": {},
   "outputs": [],
   "source": []
  }
 ],
 "metadata": {
  "kernelspec": {
   "display_name": "metaphor",
   "language": "python",
   "name": "python3"
  },
  "language_info": {
   "codemirror_mode": {
    "name": "ipython",
    "version": 3
   },
   "file_extension": ".py",
   "mimetype": "text/x-python",
   "name": "python",
   "nbconvert_exporter": "python",
   "pygments_lexer": "ipython3",
   "version": "3.11.5"
  }
 },
 "nbformat": 4,
 "nbformat_minor": 2
}
