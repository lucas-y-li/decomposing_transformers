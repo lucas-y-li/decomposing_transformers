{
 "cells": [
  {
   "cell_type": "code",
   "execution_count": 1,
   "metadata": {},
   "outputs": [],
   "source": [
    "import pandas as pd\n",
    "import transformers \n",
    "import numpy as np\n",
    "import torch\n",
    "from collections import OrderedDict \n",
    "\n",
    "import sys\n",
    "\n",
    "sys.path.insert(0, '..')\n",
    "\n",
    "from roberta_model import RobertaConfig\n",
    "from decompose_roberta import RobertaForSequenceClassificationDecomposed, decomp_activation\n",
    "from decompose_roberta_mixed import RobertaForSequenceClassificationMixed\n",
    "from analysis.preprocess_input import split_pos_neg_contributions\n"
   ]
  },
  {
   "cell_type": "code",
   "execution_count": 2,
   "metadata": {},
   "outputs": [],
   "source": [
    "labels = ['awareness', 'change_of_location', 'change_of_state',\n",
    "       'change_of_possession', 'existed_after', 'existed_before',\n",
    "       'existed_during', 'instigation', 'sentient', 'volition']\n",
    "\n",
    "# labels = ['awareness',\n",
    "#        'change_of_location', 'change_of_state', 'changes_possession',\n",
    "#        'created', 'destroyed', 'existed_after', 'existed_before',\n",
    "#        'existed_during', 'exists_as_physical', 'instigation',\n",
    "#        'location_of_event', 'makes_physical_contact', 'manipulated_by_another',\n",
    "#        'predicate_changed_argument', 'sentient', 'stationary', 'volition']\n"
   ]
  },
  {
   "cell_type": "code",
   "execution_count": 3,
   "metadata": {},
   "outputs": [],
   "source": [
    "\n",
    "path = \"../../combined_SPRL_roberta-dropout=0.1\"\n",
    "model = transformers.AutoModelForSequenceClassification.from_pretrained(path)\n",
    "\n",
    "new_state_dict = OrderedDict()\n",
    "for key, value in model.state_dict().items():\n",
    "    # rename weight values in state_dict from roberta to bert\n",
    "    new_key = key.replace(\"roberta\", \"bert\")\n",
    "    new_key = new_key.replace(\n",
    "        \"classifier.dense\", \"bert.pooler.dense\").replace(\n",
    "            \"classifier.out_proj\", \"classifier\")\n",
    "    # ref : https://pytorch.org/docs/stable/generated/torch.nn.LayerNorm.html\n",
    "    new_key = new_key.replace(\"LayerNorm.weight\",\n",
    "                           \"LayerNorm.gamma\").replace(\"LayerNorm.bias\",\n",
    "                                                       \"LayerNorm.beta\")\n",
    "    new_state_dict[new_key] = value\n"
   ]
  },
  {
   "cell_type": "code",
   "execution_count": 4,
   "metadata": {},
   "outputs": [
    {
     "data": {
      "text/plain": [
       "RobertaForSequenceClassification(\n",
       "  (bert): RobertaModel(\n",
       "    (embeddings): RobertaEmbeddings(\n",
       "      (word_embeddings): Embedding(50267, 1024)\n",
       "      (token_type_embeddings): Embedding(1, 1024)\n",
       "      (LayerNorm): LayerNorm((1024,), eps=1e-12)\n",
       "      (dropout): Dropout(p=0.1, inplace=False)\n",
       "      (position_embeddings): Embedding(514, 1024)\n",
       "    )\n",
       "    (encoder): RobertaEncoder(\n",
       "      (layer): ModuleList(\n",
       "        (0-23): 24 x RobertaLayer(\n",
       "          (attention): RobertaAttention(\n",
       "            (self): RobertaSelfAttention(\n",
       "              (query): Linear(in_features=1024, out_features=1024, bias=True)\n",
       "              (key): Linear(in_features=1024, out_features=1024, bias=True)\n",
       "              (value): Linear(in_features=1024, out_features=1024, bias=True)\n",
       "              (dropout): Dropout(p=0.1, inplace=False)\n",
       "            )\n",
       "            (output): RobertaSelfOutput(\n",
       "              (dense): Linear(in_features=1024, out_features=1024, bias=True)\n",
       "              (LayerNorm): LayerNorm((1024,), eps=1e-12)\n",
       "              (dropout): Dropout(p=0.1, inplace=False)\n",
       "            )\n",
       "          )\n",
       "          (intermediate): RobertaIntermediate(\n",
       "            (dense): Linear(in_features=1024, out_features=4096, bias=True)\n",
       "          )\n",
       "          (output): RobertaOutput(\n",
       "            (dense): Linear(in_features=4096, out_features=1024, bias=True)\n",
       "            (LayerNorm): LayerNorm((1024,), eps=1e-12)\n",
       "            (dropout): Dropout(p=0.1, inplace=False)\n",
       "          )\n",
       "        )\n",
       "      )\n",
       "    )\n",
       "    (pooler): RobertaPooler(\n",
       "      (dense): Linear(in_features=1024, out_features=1024, bias=True)\n",
       "      (activation): Tanh()\n",
       "    )\n",
       "  )\n",
       "  (dropout): Dropout(p=0.1, inplace=False)\n",
       "  (classifier): Linear(in_features=1024, out_features=30, bias=True)\n",
       ")"
      ]
     },
     "execution_count": 4,
     "metadata": {},
     "output_type": "execute_result"
    }
   ],
   "source": [
    "decomposed_model = RobertaForSequenceClassificationDecomposed(\n",
    "    config= RobertaConfig.from_dict(model.config.to_dict()),\n",
    "    debug=False, \n",
    "    num_labels=len(labels) * 3\n",
    "    )\n",
    "\n",
    "tokenizer = transformers.AutoTokenizer.from_pretrained(path + \"/tokenizer\")\n",
    "model = decomposed_model.model\n",
    "model.load_state_dict(new_state_dict)\n",
    "model.eval()\n"
   ]
  },
  {
   "cell_type": "code",
   "execution_count": 318,
   "metadata": {},
   "outputs": [
    {
     "name": "stdout",
     "output_type": "stream",
     "text": [
      "['<s>', 'The', 'police', 'dog', '<p>', 'followed', '<p>', '<a>', 'the', 'man', '<a>', 'using', 'his', 'scent', '.', '</s>']\n",
      "awareness 2 tensor([0.0219, 0.0474, 0.9307], dtype=torch.float64)\n",
      "change_of_location 2 tensor([0.0025, 0.0065, 0.9910], dtype=torch.float64)\n",
      "change_of_state 0 tensor([0.6040, 0.3324, 0.0636], dtype=torch.float64)\n",
      "change_of_possession 0 tensor([0.9598, 0.0173, 0.0229], dtype=torch.float64)\n",
      "existed_after 2 tensor([0.0031, 0.0037, 0.9932], dtype=torch.float64)\n",
      "existed_before 2 tensor([1.2367e-04, 1.6266e-04, 9.9971e-01], dtype=torch.float64)\n",
      "existed_during 2 tensor([2.4238e-04, 1.9480e-04, 9.9956e-01], dtype=torch.float64)\n",
      "instigation 0 tensor([0.5514, 0.0779, 0.3707], dtype=torch.float64)\n",
      "sentient 2 tensor([5.6175e-04, 7.0997e-04, 9.9873e-01], dtype=torch.float64)\n",
      "volition 0 tensor([0.5489, 0.0892, 0.3619], dtype=torch.float64)\n"
     ]
    },
    {
     "data": {
      "text/plain": [
       "tensor([[2.1874e-02, 2.5167e-03, 6.0404e-01, 9.5978e-01, 3.1099e-03, 1.2367e-04,\n",
       "         2.4238e-04, 5.5140e-01, 5.6175e-04, 5.4892e-01],\n",
       "        [4.7431e-02, 6.4534e-03, 3.3239e-01, 1.7348e-02, 3.6955e-03, 1.6266e-04,\n",
       "         1.9480e-04, 7.7901e-02, 7.0997e-04, 8.9225e-02],\n",
       "        [9.3069e-01, 9.9103e-01, 6.3569e-02, 2.2871e-02, 9.9319e-01, 9.9971e-01,\n",
       "         9.9956e-01, 3.7070e-01, 9.9873e-01, 3.6186e-01]], dtype=torch.float64)"
      ]
     },
     "execution_count": 318,
     "metadata": {},
     "output_type": "execute_result"
    }
   ],
   "source": [
    "verb = [\"<p>\", \"followed\"]\n",
    "arg = [\"<a>\", \"the\", \"man\",]\n",
    "# arg = [\"<a>\", \"The\", \"police\", \"dog\"]\n",
    "# encoded_input = tokenizer(\"The guide dog<p> helped<p><a> the blind man<a> cross the road\", return_tensors='pt')['input_ids']\n",
    "# encoded_input = tokenizer(\"<a>The police dog<a><p> followed<p> the man.\", return_tensors='pt')['input_ids']\n",
    "encoded_input = tokenizer(\"The police dog<p> followed<p><a> the man<a> using his scent.\", return_tensors='pt')['input_ids']\n",
    "text = list(map(lambda x: x.strip(\"Ġ\"), tokenizer.convert_ids_to_tokens(encoded_input[0])))\n",
    "print(text)\n",
    "\n",
    "with torch.no_grad():\n",
    "    logits = model(encoded_input)\n",
    "    logits = torch.Tensor(logits.reshape(logits.shape[0], 3, len(labels)))\n",
    "\n",
    "    # get probabilities using softmax\n",
    "    probs = torch.softmax(logits, axis=1).squeeze()\n",
    "    y_pred = torch.argmax(probs, axis=0)\n",
    "for l, y, p in zip(labels, y_pred, probs.T):\n",
    "    print(l, y.item(), p)\n",
    "\n",
    "probs\n"
   ]
  },
  {
   "cell_type": "code",
   "execution_count": 319,
   "metadata": {},
   "outputs": [],
   "source": [
    "logits = torch.zeros(len(encoded_input.squeeze()), 3, len(labels))\n",
    "\n",
    "for i in range(len(encoded_input.squeeze())):\n",
    "    mask = torch.zeros_like(encoded_input.squeeze())\n",
    "    mask[i] = 1\n",
    "    \n",
    "    beta_mask = torch.stack([mask, 1 - mask]).unsqueeze(0)\n",
    "\n",
    "    with torch.no_grad():\n",
    "        l = decomposed_model(input_ids=encoded_input,\n",
    "                        beta_mask=beta_mask,\n",
    "                        num_contributions=2).squeeze()\n",
    "        l = l[0].reshape(3, len(labels))\n",
    "\n",
    "    logits[i] = l\n",
    "\n",
    "# logits -= logits.mean(axis=[0, 1], keepdim=True)\n",
    "# logits /= logits.std(axis=[0, 1],  keepdim=True)\n",
    "# logits = torch.clip(logits, min=1e-2)\n"
   ]
  },
  {
   "cell_type": "code",
   "execution_count": null,
   "metadata": {},
   "outputs": [
    {
     "name": "stdout",
     "output_type": "stream",
     "text": [
      "(16, 1, 2, 10)\n",
      "(16, 1, 2, 10)\n"
     ]
    }
   ],
   "source": [
    "# # l = np.maximum(0, logits[:, [0,2], :])\n",
    "# # l[:, 0] += np.maximum(0, logits[:, 1])\n",
    "# # l = np.maximum(1e-2, l.unsqueeze(1).numpy())\n",
    "\n",
    "# # l = split_pos_neg_contributions(torch.tensor(np.copy(logits)).unsqueeze(1).numpy())\n",
    "# # # l = np.maximum(l, 1e-2)\n",
    "# # l = np.maximum(l, 1e-2)\n",
    "# # logits_ = l / l.sum((0, 1), keepdims=True)\n",
    "# # l = np.maximum(l, 1e-2)\n",
    "# print(logits_.shape)\n",
    "\n",
    "# # neg = np.maximum(0, logits[:, 0, :]) - np.minimum(0, logits[:, 2, :])\n",
    "# # pos = np.maximum(0, logits[:, 2, :]) - np.minimum(0, logits[:, 0, :])\n",
    "# # l = torch.stack([neg, pos]).unsqueeze(1)\n",
    "# # l.shape\n"
   ]
  },
  {
   "cell_type": "code",
   "execution_count": 320,
   "metadata": {},
   "outputs": [
    {
     "data": {
      "text/plain": [
       "torch.Size([16, 1, 2, 10])"
      ]
     },
     "execution_count": 320,
     "metadata": {},
     "output_type": "execute_result"
    }
   ],
   "source": [
    "# logits_ = logits / logits.sum((0, 1), keepdims=True)\n",
    "# logits_ = logits / logits.sum((0, 1, 2), keepdims=True)\n",
    "neg = np.maximum(0, logits[:, 0, :]) - np.minimum(0, logits[:, 2, :])\n",
    "pos = np.maximum(0, logits[:, 2, :]) - np.minimum(0, logits[:, 0, :])\n",
    "l = np.maximum(1e-2, torch.stack([neg, pos], axis=1).unsqueeze(1))\n",
    "l.shape\n"
   ]
  },
  {
   "cell_type": "code",
   "execution_count": 321,
   "metadata": {},
   "outputs": [
    {
     "data": {
      "text/html": [
       "<div>\n",
       "<style scoped>\n",
       "    .dataframe tbody tr th:only-of-type {\n",
       "        vertical-align: middle;\n",
       "    }\n",
       "\n",
       "    .dataframe tbody tr th {\n",
       "        vertical-align: top;\n",
       "    }\n",
       "\n",
       "    .dataframe thead th {\n",
       "        text-align: right;\n",
       "    }\n",
       "</style>\n",
       "<table border=\"1\" class=\"dataframe\">\n",
       "  <thead>\n",
       "    <tr style=\"text-align: right;\">\n",
       "      <th></th>\n",
       "      <th></th>\n",
       "      <th>logits</th>\n",
       "    </tr>\n",
       "    <tr>\n",
       "      <th>word</th>\n",
       "      <th>property</th>\n",
       "      <th></th>\n",
       "    </tr>\n",
       "  </thead>\n",
       "  <tbody>\n",
       "    <tr>\n",
       "      <th>&lt;s&gt;</th>\n",
       "      <th>awareness</th>\n",
       "      <td>[0.3133496344089508, 0.009999999776482582]</td>\n",
       "    </tr>\n",
       "    <tr>\n",
       "      <th>The</th>\n",
       "      <th>awareness</th>\n",
       "      <td>[0.3642670214176178, 0.029435209929943085]</td>\n",
       "    </tr>\n",
       "    <tr>\n",
       "      <th>police</th>\n",
       "      <th>awareness</th>\n",
       "      <td>[0.28553956747055054, 0.5853988528251648]</td>\n",
       "    </tr>\n",
       "    <tr>\n",
       "      <th>dog</th>\n",
       "      <th>awareness</th>\n",
       "      <td>[0.009999999776482582, 1.1203675270080566]</td>\n",
       "    </tr>\n",
       "    <tr>\n",
       "      <th>&lt;p&gt;</th>\n",
       "      <th>awareness</th>\n",
       "      <td>[0.009999999776482582, 2.0951318740844727]</td>\n",
       "    </tr>\n",
       "    <tr>\n",
       "      <th>...</th>\n",
       "      <th>...</th>\n",
       "      <td>...</td>\n",
       "    </tr>\n",
       "    <tr>\n",
       "      <th>using</th>\n",
       "      <th>volition</th>\n",
       "      <td>[0.009999999776482582, 0.7409586906433105]</td>\n",
       "    </tr>\n",
       "    <tr>\n",
       "      <th>his</th>\n",
       "      <th>volition</th>\n",
       "      <td>[0.009999999776482582, 1.521207332611084]</td>\n",
       "    </tr>\n",
       "    <tr>\n",
       "      <th>scent</th>\n",
       "      <th>volition</th>\n",
       "      <td>[0.009999999776482582, 0.8599779009819031]</td>\n",
       "    </tr>\n",
       "    <tr>\n",
       "      <th>.</th>\n",
       "      <th>volition</th>\n",
       "      <td>[1.8890135288238525, 0.009999999776482582]</td>\n",
       "    </tr>\n",
       "    <tr>\n",
       "      <th>&lt;/s&gt;</th>\n",
       "      <th>volition</th>\n",
       "      <td>[1.8554646968841553, 0.009999999776482582]</td>\n",
       "    </tr>\n",
       "  </tbody>\n",
       "</table>\n",
       "<p>160 rows × 1 columns</p>\n",
       "</div>"
      ],
      "text/plain": [
       "                                                      logits\n",
       "word   property                                             \n",
       "<s>    awareness  [0.3133496344089508, 0.009999999776482582]\n",
       "The    awareness  [0.3642670214176178, 0.029435209929943085]\n",
       "police awareness   [0.28553956747055054, 0.5853988528251648]\n",
       "dog    awareness  [0.009999999776482582, 1.1203675270080566]\n",
       "<p>    awareness  [0.009999999776482582, 2.0951318740844727]\n",
       "...                                                      ...\n",
       "using  volition   [0.009999999776482582, 0.7409586906433105]\n",
       "his    volition    [0.009999999776482582, 1.521207332611084]\n",
       "scent  volition   [0.009999999776482582, 0.8599779009819031]\n",
       ".      volition   [1.8890135288238525, 0.009999999776482582]\n",
       "</s>   volition   [1.8554646968841553, 0.009999999776482582]\n",
       "\n",
       "[160 rows x 1 columns]"
      ]
     },
     "execution_count": 321,
     "metadata": {},
     "output_type": "execute_result"
    }
   ],
   "source": [
    "df = pd.DataFrame(l.squeeze().permute(1, 2, 0).T.tolist(), columns=labels)\n",
    "df[\"word\"] = text\n",
    "\n",
    "df = df.melt(id_vars = \"word\", var_name=\"property\", value_name=\"logits\")\n",
    "# df[[\"negative\", \"positive\"]] = df[\"logits\"].tolist()\n",
    "\n",
    "# df = df.drop(columns=\"logits\")\n",
    "df = df.set_index([\"word\", \"property\"])\n",
    "df\n"
   ]
  },
  {
   "cell_type": "code",
   "execution_count": 322,
   "metadata": {},
   "outputs": [
    {
     "name": "stderr",
     "output_type": "stream",
     "text": [
      "/var/folders/lq/kd3wh6952vg99n5ppf4srz9w0000gn/T/ipykernel_1166/2963146271.py:10: PerformanceWarning:\n",
      "\n",
      "indexing past lexsort depth may impact performance.\n",
      "\n",
      "/var/folders/lq/kd3wh6952vg99n5ppf4srz9w0000gn/T/ipykernel_1166/2963146271.py:10: FutureWarning:\n",
      "\n",
      "Series.__getitem__ treating keys as positions is deprecated. In a future version, integer keys will always be treated as labels (consistent with DataFrame behavior). To access a value by position, use `ser.iloc[pos]`\n",
      "\n"
     ]
    },
    {
     "data": {
      "text/plain": [
       "[{'source': 0,\n",
       "  'target': 16,\n",
       "  'value': 0.5685617327690125,\n",
       "  'color': 'rgba(0, 202, 255, 0.3)',\n",
       "  'word': '<s>'},\n",
       " {'source': 0,\n",
       "  'target': 17,\n",
       "  'value': 0.009999999776482582,\n",
       "  'color': 'rgba(0, 202, 255, 0.3)',\n",
       "  'word': '<s>'},\n",
       " {'source': 1,\n",
       "  'target': 16,\n",
       "  'value': 0.009999999776482582,\n",
       "  'color': 'rgba(0, 202, 255, 0.3)',\n",
       "  'word': 'The'},\n",
       " {'source': 1,\n",
       "  'target': 17,\n",
       "  'value': 0.2686059772968292,\n",
       "  'color': 'rgba(0, 202, 255, 0.3)',\n",
       "  'word': 'The'},\n",
       " {'source': 2,\n",
       "  'target': 16,\n",
       "  'value': 0.4956572651863098,\n",
       "  'color': 'rgba(0, 202, 255, 0.3)',\n",
       "  'word': 'police'},\n",
       " {'source': 2,\n",
       "  'target': 17,\n",
       "  'value': 0.166993647813797,\n",
       "  'color': 'rgba(0, 202, 255, 0.3)',\n",
       "  'word': 'police'},\n",
       " {'source': 3,\n",
       "  'target': 16,\n",
       "  'value': 0.009999999776482582,\n",
       "  'color': 'rgba(0, 202, 255, 0.3)',\n",
       "  'word': 'dog'},\n",
       " {'source': 3,\n",
       "  'target': 17,\n",
       "  'value': 0.14988034963607788,\n",
       "  'color': 'rgba(0, 202, 255, 0.3)',\n",
       "  'word': 'dog'},\n",
       " {'source': 4,\n",
       "  'target': 16,\n",
       "  'value': 0.30049222707748413,\n",
       "  'color': 'rgba(255, 0, 250, 0.5)',\n",
       "  'word': '<p>'},\n",
       " {'source': 4,\n",
       "  'target': 17,\n",
       "  'value': 0.3066982328891754,\n",
       "  'color': 'rgba(255, 0, 250, 0.5)',\n",
       "  'word': '<p>'},\n",
       " {'source': 5,\n",
       "  'target': 16,\n",
       "  'value': 1.5069785118103027,\n",
       "  'color': 'rgba(255, 0, 250, 0.5)',\n",
       "  'word': 'followed'},\n",
       " {'source': 5,\n",
       "  'target': 17,\n",
       "  'value': 0.009999999776482582,\n",
       "  'color': 'rgba(255, 0, 250, 0.5)',\n",
       "  'word': 'followed'},\n",
       " {'source': 6,\n",
       "  'target': 16,\n",
       "  'value': 0.30049222707748413,\n",
       "  'color': 'rgba(255, 0, 250, 0.5)',\n",
       "  'word': '<p>'},\n",
       " {'source': 6,\n",
       "  'target': 17,\n",
       "  'value': 0.3066982328891754,\n",
       "  'color': 'rgba(255, 0, 250, 0.5)',\n",
       "  'word': '<p>'},\n",
       " {'source': 7,\n",
       "  'target': 16,\n",
       "  'value': 0.9290698766708374,\n",
       "  'color': 'rgba(112, 255, 145, 0.5)',\n",
       "  'word': '<a>'},\n",
       " {'source': 7,\n",
       "  'target': 17,\n",
       "  'value': 0.021993020549416542,\n",
       "  'color': 'rgba(112, 255, 145, 0.5)',\n",
       "  'word': '<a>'},\n",
       " {'source': 8,\n",
       "  'target': 16,\n",
       "  'value': 0.009999999776482582,\n",
       "  'color': 'rgba(112, 255, 145, 0.5)',\n",
       "  'word': 'the'},\n",
       " {'source': 8,\n",
       "  'target': 17,\n",
       "  'value': 2.4452505111694336,\n",
       "  'color': 'rgba(112, 255, 145, 0.5)',\n",
       "  'word': 'the'},\n",
       " {'source': 9,\n",
       "  'target': 16,\n",
       "  'value': 0.009999999776482582,\n",
       "  'color': 'rgba(112, 255, 145, 0.5)',\n",
       "  'word': 'man'},\n",
       " {'source': 9,\n",
       "  'target': 17,\n",
       "  'value': 0.800952672958374,\n",
       "  'color': 'rgba(112, 255, 145, 0.5)',\n",
       "  'word': 'man'},\n",
       " {'source': 10,\n",
       "  'target': 16,\n",
       "  'value': 0.9290698766708374,\n",
       "  'color': 'rgba(112, 255, 145, 0.5)',\n",
       "  'word': '<a>'},\n",
       " {'source': 10,\n",
       "  'target': 17,\n",
       "  'value': 0.021993020549416542,\n",
       "  'color': 'rgba(112, 255, 145, 0.5)',\n",
       "  'word': '<a>'},\n",
       " {'source': 11,\n",
       "  'target': 16,\n",
       "  'value': 0.009999999776482582,\n",
       "  'color': 'rgba(0, 202, 255, 0.3)',\n",
       "  'word': 'using'},\n",
       " {'source': 11,\n",
       "  'target': 17,\n",
       "  'value': 0.6937160491943359,\n",
       "  'color': 'rgba(0, 202, 255, 0.3)',\n",
       "  'word': 'using'},\n",
       " {'source': 12,\n",
       "  'target': 16,\n",
       "  'value': 0.009999999776482582,\n",
       "  'color': 'rgba(0, 202, 255, 0.3)',\n",
       "  'word': 'his'},\n",
       " {'source': 12,\n",
       "  'target': 17,\n",
       "  'value': 1.5338330268859863,\n",
       "  'color': 'rgba(0, 202, 255, 0.3)',\n",
       "  'word': 'his'},\n",
       " {'source': 13,\n",
       "  'target': 16,\n",
       "  'value': 0.2960856258869171,\n",
       "  'color': 'rgba(0, 202, 255, 0.3)',\n",
       "  'word': 'scent'},\n",
       " {'source': 13,\n",
       "  'target': 17,\n",
       "  'value': 0.33599546551704407,\n",
       "  'color': 'rgba(0, 202, 255, 0.3)',\n",
       "  'word': 'scent'},\n",
       " {'source': 14,\n",
       "  'target': 16,\n",
       "  'value': 0.9673400521278381,\n",
       "  'color': 'rgba(0, 202, 255, 0.3)',\n",
       "  'word': '.'},\n",
       " {'source': 14,\n",
       "  'target': 17,\n",
       "  'value': 0.10353982448577881,\n",
       "  'color': 'rgba(0, 202, 255, 0.3)',\n",
       "  'word': '.'},\n",
       " {'source': 15,\n",
       "  'target': 16,\n",
       "  'value': 1.0586342811584473,\n",
       "  'color': 'rgba(0, 202, 255, 0.3)',\n",
       "  'word': '</s>'},\n",
       " {'source': 15,\n",
       "  'target': 17,\n",
       "  'value': 0.009999999776482582,\n",
       "  'color': 'rgba(0, 202, 255, 0.3)',\n",
       "  'word': '</s>'}]"
      ]
     },
     "execution_count": 322,
     "metadata": {},
     "output_type": "execute_result"
    }
   ],
   "source": [
    "links = []\n",
    "# colors = {\n",
    "#     \"negative\": \"rgba(0, 202, 255, 0.5)\",\n",
    "#     \"neutral\": \"rgba(112, 255, 145, 0.5)\",\n",
    "#     \"positive\": \"rgba(255, 0, 250, 0.3)\"\n",
    "# }\n",
    "\n",
    "property = \"instigation\"\n",
    "for i, word in enumerate(text):\n",
    "    for j, value in enumerate(df.loc[(word, property)][\"logits\"][0]):\n",
    "        if word in verb:\n",
    "            color =  \"rgba(255, 0, 250, 0.5)\"\n",
    "        elif word in arg:\n",
    "            color = \"rgba(112, 255, 145, 0.5)\"\n",
    "        else:\n",
    "            color = \"rgba(0, 202, 255, 0.3)\"\n",
    "        # if j == 0:\n",
    "        #     color =  \"rgba(255, 0, 250, 0.3)\"\n",
    "        # else:\n",
    "        #     color = \"rgba(112, 255, 145, 0.5)\"\n",
    "        links.append(\n",
    "            {\n",
    "                'source': i,\n",
    "                'target': len(text) + j,\n",
    "                'value': value,\n",
    "                'color': color,\n",
    "                \"word\": word\n",
    "            }\n",
    "        )\n",
    "\n",
    "links\n"
   ]
  },
  {
   "cell_type": "code",
   "execution_count": 328,
   "metadata": {},
   "outputs": [
    {
     "data": {
      "application/vnd.plotly.v1+json": {
       "config": {
        "plotlyServerURL": "https://plot.ly"
       },
       "data": [
        {
         "arrangement": "snap",
         "link": {
          "color": [
           "rgba(0, 202, 255, 0.3)",
           "rgba(0, 202, 255, 0.3)",
           "rgba(0, 202, 255, 0.3)",
           "rgba(0, 202, 255, 0.3)",
           "rgba(0, 202, 255, 0.3)",
           "rgba(0, 202, 255, 0.3)",
           "rgba(0, 202, 255, 0.3)",
           "rgba(0, 202, 255, 0.3)",
           "rgba(255, 0, 250, 0.5)",
           "rgba(255, 0, 250, 0.5)",
           "rgba(255, 0, 250, 0.5)",
           "rgba(255, 0, 250, 0.5)",
           "rgba(255, 0, 250, 0.5)",
           "rgba(255, 0, 250, 0.5)",
           "rgba(112, 255, 145, 0.5)",
           "rgba(112, 255, 145, 0.5)",
           "rgba(112, 255, 145, 0.5)",
           "rgba(112, 255, 145, 0.5)",
           "rgba(112, 255, 145, 0.5)",
           "rgba(112, 255, 145, 0.5)",
           "rgba(112, 255, 145, 0.5)",
           "rgba(112, 255, 145, 0.5)",
           "rgba(0, 202, 255, 0.3)",
           "rgba(0, 202, 255, 0.3)",
           "rgba(0, 202, 255, 0.3)",
           "rgba(0, 202, 255, 0.3)",
           "rgba(0, 202, 255, 0.3)",
           "rgba(0, 202, 255, 0.3)",
           "rgba(0, 202, 255, 0.3)",
           "rgba(0, 202, 255, 0.3)",
           "rgba(0, 202, 255, 0.3)",
           "rgba(0, 202, 255, 0.3)"
          ],
          "source": [
           0,
           0,
           1,
           1,
           2,
           2,
           3,
           3,
           4,
           4,
           5,
           5,
           6,
           6,
           7,
           7,
           8,
           8,
           9,
           9,
           10,
           10,
           11,
           11,
           12,
           12,
           13,
           13,
           14,
           14,
           15,
           15
          ],
          "target": [
           16,
           17,
           16,
           17,
           16,
           17,
           16,
           17,
           16,
           17,
           16,
           17,
           16,
           17,
           16,
           17,
           16,
           17,
           16,
           17,
           16,
           17,
           16,
           17,
           16,
           17,
           16,
           17,
           16,
           17,
           16,
           17
          ],
          "value": [
           0.5685617327690125,
           0.009999999776482582,
           0.009999999776482582,
           0.2686059772968292,
           0.4956572651863098,
           0.166993647813797,
           0.009999999776482582,
           0.14988034963607788,
           0.30049222707748413,
           0.3066982328891754,
           1.5069785118103027,
           0.009999999776482582,
           0.30049222707748413,
           0.3066982328891754,
           0.9290698766708374,
           0.021993020549416542,
           0.009999999776482582,
           2.4452505111694336,
           0.009999999776482582,
           0.800952672958374,
           0.9290698766708374,
           0.021993020549416542,
           0.009999999776482582,
           0.6937160491943359,
           0.009999999776482582,
           1.5338330268859863,
           0.2960856258869171,
           0.33599546551704407,
           0.9673400521278381,
           0.10353982448577881,
           1.0586342811584473,
           0.009999999776482582
          ]
         },
         "node": {
          "color": "grey",
          "label": [
           "<s>",
           "The",
           "police",
           "dog",
           "<|pred|>",
           "followed",
           "<|pred|>",
           "<|arg|>",
           "the",
           "man",
           "<|arg|>",
           "using",
           "his",
           "scent",
           ".",
           "</s>",
           "negative",
           "positive"
          ],
          "pad": 10,
          "x": [
           0.1,
           0.1,
           0.1,
           0.1,
           0.1,
           0.1,
           0.1,
           0.1,
           0.1,
           0.1,
           0.1,
           0.1,
           0.1,
           0.1,
           0.1,
           0.1,
           0.5,
           0.5
          ],
          "y": [
           0.01,
           0.07533333333333332,
           0.14066666666666666,
           0.206,
           0.2713333333333333,
           0.33666666666666667,
           0.40199999999999997,
           0.46733333333333327,
           0.5326666666666666,
           0.598,
           0.6633333333333333,
           0.7286666666666666,
           0.7939999999999999,
           0.8593333333333333,
           0.9246666666666665,
           0.99,
           0.01,
           0.99
          ]
         },
         "type": "sankey"
        }
       ],
       "layout": {
        "autosize": false,
        "height": 500,
        "template": {
         "data": {
          "bar": [
           {
            "error_x": {
             "color": "#2a3f5f"
            },
            "error_y": {
             "color": "#2a3f5f"
            },
            "marker": {
             "line": {
              "color": "#E5ECF6",
              "width": 0.5
             },
             "pattern": {
              "fillmode": "overlay",
              "size": 10,
              "solidity": 0.2
             }
            },
            "type": "bar"
           }
          ],
          "barpolar": [
           {
            "marker": {
             "line": {
              "color": "#E5ECF6",
              "width": 0.5
             },
             "pattern": {
              "fillmode": "overlay",
              "size": 10,
              "solidity": 0.2
             }
            },
            "type": "barpolar"
           }
          ],
          "carpet": [
           {
            "aaxis": {
             "endlinecolor": "#2a3f5f",
             "gridcolor": "white",
             "linecolor": "white",
             "minorgridcolor": "white",
             "startlinecolor": "#2a3f5f"
            },
            "baxis": {
             "endlinecolor": "#2a3f5f",
             "gridcolor": "white",
             "linecolor": "white",
             "minorgridcolor": "white",
             "startlinecolor": "#2a3f5f"
            },
            "type": "carpet"
           }
          ],
          "choropleth": [
           {
            "colorbar": {
             "outlinewidth": 0,
             "ticks": ""
            },
            "type": "choropleth"
           }
          ],
          "contour": [
           {
            "colorbar": {
             "outlinewidth": 0,
             "ticks": ""
            },
            "colorscale": [
             [
              0,
              "#0d0887"
             ],
             [
              0.1111111111111111,
              "#46039f"
             ],
             [
              0.2222222222222222,
              "#7201a8"
             ],
             [
              0.3333333333333333,
              "#9c179e"
             ],
             [
              0.4444444444444444,
              "#bd3786"
             ],
             [
              0.5555555555555556,
              "#d8576b"
             ],
             [
              0.6666666666666666,
              "#ed7953"
             ],
             [
              0.7777777777777778,
              "#fb9f3a"
             ],
             [
              0.8888888888888888,
              "#fdca26"
             ],
             [
              1,
              "#f0f921"
             ]
            ],
            "type": "contour"
           }
          ],
          "contourcarpet": [
           {
            "colorbar": {
             "outlinewidth": 0,
             "ticks": ""
            },
            "type": "contourcarpet"
           }
          ],
          "heatmap": [
           {
            "colorbar": {
             "outlinewidth": 0,
             "ticks": ""
            },
            "colorscale": [
             [
              0,
              "#0d0887"
             ],
             [
              0.1111111111111111,
              "#46039f"
             ],
             [
              0.2222222222222222,
              "#7201a8"
             ],
             [
              0.3333333333333333,
              "#9c179e"
             ],
             [
              0.4444444444444444,
              "#bd3786"
             ],
             [
              0.5555555555555556,
              "#d8576b"
             ],
             [
              0.6666666666666666,
              "#ed7953"
             ],
             [
              0.7777777777777778,
              "#fb9f3a"
             ],
             [
              0.8888888888888888,
              "#fdca26"
             ],
             [
              1,
              "#f0f921"
             ]
            ],
            "type": "heatmap"
           }
          ],
          "heatmapgl": [
           {
            "colorbar": {
             "outlinewidth": 0,
             "ticks": ""
            },
            "colorscale": [
             [
              0,
              "#0d0887"
             ],
             [
              0.1111111111111111,
              "#46039f"
             ],
             [
              0.2222222222222222,
              "#7201a8"
             ],
             [
              0.3333333333333333,
              "#9c179e"
             ],
             [
              0.4444444444444444,
              "#bd3786"
             ],
             [
              0.5555555555555556,
              "#d8576b"
             ],
             [
              0.6666666666666666,
              "#ed7953"
             ],
             [
              0.7777777777777778,
              "#fb9f3a"
             ],
             [
              0.8888888888888888,
              "#fdca26"
             ],
             [
              1,
              "#f0f921"
             ]
            ],
            "type": "heatmapgl"
           }
          ],
          "histogram": [
           {
            "marker": {
             "pattern": {
              "fillmode": "overlay",
              "size": 10,
              "solidity": 0.2
             }
            },
            "type": "histogram"
           }
          ],
          "histogram2d": [
           {
            "colorbar": {
             "outlinewidth": 0,
             "ticks": ""
            },
            "colorscale": [
             [
              0,
              "#0d0887"
             ],
             [
              0.1111111111111111,
              "#46039f"
             ],
             [
              0.2222222222222222,
              "#7201a8"
             ],
             [
              0.3333333333333333,
              "#9c179e"
             ],
             [
              0.4444444444444444,
              "#bd3786"
             ],
             [
              0.5555555555555556,
              "#d8576b"
             ],
             [
              0.6666666666666666,
              "#ed7953"
             ],
             [
              0.7777777777777778,
              "#fb9f3a"
             ],
             [
              0.8888888888888888,
              "#fdca26"
             ],
             [
              1,
              "#f0f921"
             ]
            ],
            "type": "histogram2d"
           }
          ],
          "histogram2dcontour": [
           {
            "colorbar": {
             "outlinewidth": 0,
             "ticks": ""
            },
            "colorscale": [
             [
              0,
              "#0d0887"
             ],
             [
              0.1111111111111111,
              "#46039f"
             ],
             [
              0.2222222222222222,
              "#7201a8"
             ],
             [
              0.3333333333333333,
              "#9c179e"
             ],
             [
              0.4444444444444444,
              "#bd3786"
             ],
             [
              0.5555555555555556,
              "#d8576b"
             ],
             [
              0.6666666666666666,
              "#ed7953"
             ],
             [
              0.7777777777777778,
              "#fb9f3a"
             ],
             [
              0.8888888888888888,
              "#fdca26"
             ],
             [
              1,
              "#f0f921"
             ]
            ],
            "type": "histogram2dcontour"
           }
          ],
          "mesh3d": [
           {
            "colorbar": {
             "outlinewidth": 0,
             "ticks": ""
            },
            "type": "mesh3d"
           }
          ],
          "parcoords": [
           {
            "line": {
             "colorbar": {
              "outlinewidth": 0,
              "ticks": ""
             }
            },
            "type": "parcoords"
           }
          ],
          "pie": [
           {
            "automargin": true,
            "type": "pie"
           }
          ],
          "scatter": [
           {
            "fillpattern": {
             "fillmode": "overlay",
             "size": 10,
             "solidity": 0.2
            },
            "type": "scatter"
           }
          ],
          "scatter3d": [
           {
            "line": {
             "colorbar": {
              "outlinewidth": 0,
              "ticks": ""
             }
            },
            "marker": {
             "colorbar": {
              "outlinewidth": 0,
              "ticks": ""
             }
            },
            "type": "scatter3d"
           }
          ],
          "scattercarpet": [
           {
            "marker": {
             "colorbar": {
              "outlinewidth": 0,
              "ticks": ""
             }
            },
            "type": "scattercarpet"
           }
          ],
          "scattergeo": [
           {
            "marker": {
             "colorbar": {
              "outlinewidth": 0,
              "ticks": ""
             }
            },
            "type": "scattergeo"
           }
          ],
          "scattergl": [
           {
            "marker": {
             "colorbar": {
              "outlinewidth": 0,
              "ticks": ""
             }
            },
            "type": "scattergl"
           }
          ],
          "scattermapbox": [
           {
            "marker": {
             "colorbar": {
              "outlinewidth": 0,
              "ticks": ""
             }
            },
            "type": "scattermapbox"
           }
          ],
          "scatterpolar": [
           {
            "marker": {
             "colorbar": {
              "outlinewidth": 0,
              "ticks": ""
             }
            },
            "type": "scatterpolar"
           }
          ],
          "scatterpolargl": [
           {
            "marker": {
             "colorbar": {
              "outlinewidth": 0,
              "ticks": ""
             }
            },
            "type": "scatterpolargl"
           }
          ],
          "scatterternary": [
           {
            "marker": {
             "colorbar": {
              "outlinewidth": 0,
              "ticks": ""
             }
            },
            "type": "scatterternary"
           }
          ],
          "surface": [
           {
            "colorbar": {
             "outlinewidth": 0,
             "ticks": ""
            },
            "colorscale": [
             [
              0,
              "#0d0887"
             ],
             [
              0.1111111111111111,
              "#46039f"
             ],
             [
              0.2222222222222222,
              "#7201a8"
             ],
             [
              0.3333333333333333,
              "#9c179e"
             ],
             [
              0.4444444444444444,
              "#bd3786"
             ],
             [
              0.5555555555555556,
              "#d8576b"
             ],
             [
              0.6666666666666666,
              "#ed7953"
             ],
             [
              0.7777777777777778,
              "#fb9f3a"
             ],
             [
              0.8888888888888888,
              "#fdca26"
             ],
             [
              1,
              "#f0f921"
             ]
            ],
            "type": "surface"
           }
          ],
          "table": [
           {
            "cells": {
             "fill": {
              "color": "#EBF0F8"
             },
             "line": {
              "color": "white"
             }
            },
            "header": {
             "fill": {
              "color": "#C8D4E3"
             },
             "line": {
              "color": "white"
             }
            },
            "type": "table"
           }
          ]
         },
         "layout": {
          "annotationdefaults": {
           "arrowcolor": "#2a3f5f",
           "arrowhead": 0,
           "arrowwidth": 1
          },
          "autotypenumbers": "strict",
          "coloraxis": {
           "colorbar": {
            "outlinewidth": 0,
            "ticks": ""
           }
          },
          "colorscale": {
           "diverging": [
            [
             0,
             "#8e0152"
            ],
            [
             0.1,
             "#c51b7d"
            ],
            [
             0.2,
             "#de77ae"
            ],
            [
             0.3,
             "#f1b6da"
            ],
            [
             0.4,
             "#fde0ef"
            ],
            [
             0.5,
             "#f7f7f7"
            ],
            [
             0.6,
             "#e6f5d0"
            ],
            [
             0.7,
             "#b8e186"
            ],
            [
             0.8,
             "#7fbc41"
            ],
            [
             0.9,
             "#4d9221"
            ],
            [
             1,
             "#276419"
            ]
           ],
           "sequential": [
            [
             0,
             "#0d0887"
            ],
            [
             0.1111111111111111,
             "#46039f"
            ],
            [
             0.2222222222222222,
             "#7201a8"
            ],
            [
             0.3333333333333333,
             "#9c179e"
            ],
            [
             0.4444444444444444,
             "#bd3786"
            ],
            [
             0.5555555555555556,
             "#d8576b"
            ],
            [
             0.6666666666666666,
             "#ed7953"
            ],
            [
             0.7777777777777778,
             "#fb9f3a"
            ],
            [
             0.8888888888888888,
             "#fdca26"
            ],
            [
             1,
             "#f0f921"
            ]
           ],
           "sequentialminus": [
            [
             0,
             "#0d0887"
            ],
            [
             0.1111111111111111,
             "#46039f"
            ],
            [
             0.2222222222222222,
             "#7201a8"
            ],
            [
             0.3333333333333333,
             "#9c179e"
            ],
            [
             0.4444444444444444,
             "#bd3786"
            ],
            [
             0.5555555555555556,
             "#d8576b"
            ],
            [
             0.6666666666666666,
             "#ed7953"
            ],
            [
             0.7777777777777778,
             "#fb9f3a"
            ],
            [
             0.8888888888888888,
             "#fdca26"
            ],
            [
             1,
             "#f0f921"
            ]
           ]
          },
          "colorway": [
           "#636efa",
           "#EF553B",
           "#00cc96",
           "#ab63fa",
           "#FFA15A",
           "#19d3f3",
           "#FF6692",
           "#B6E880",
           "#FF97FF",
           "#FECB52"
          ],
          "font": {
           "color": "#2a3f5f"
          },
          "geo": {
           "bgcolor": "white",
           "lakecolor": "white",
           "landcolor": "#E5ECF6",
           "showlakes": true,
           "showland": true,
           "subunitcolor": "white"
          },
          "hoverlabel": {
           "align": "left"
          },
          "hovermode": "closest",
          "mapbox": {
           "style": "light"
          },
          "paper_bgcolor": "white",
          "plot_bgcolor": "#E5ECF6",
          "polar": {
           "angularaxis": {
            "gridcolor": "white",
            "linecolor": "white",
            "ticks": ""
           },
           "bgcolor": "#E5ECF6",
           "radialaxis": {
            "gridcolor": "white",
            "linecolor": "white",
            "ticks": ""
           }
          },
          "scene": {
           "xaxis": {
            "backgroundcolor": "#E5ECF6",
            "gridcolor": "white",
            "gridwidth": 2,
            "linecolor": "white",
            "showbackground": true,
            "ticks": "",
            "zerolinecolor": "white"
           },
           "yaxis": {
            "backgroundcolor": "#E5ECF6",
            "gridcolor": "white",
            "gridwidth": 2,
            "linecolor": "white",
            "showbackground": true,
            "ticks": "",
            "zerolinecolor": "white"
           },
           "zaxis": {
            "backgroundcolor": "#E5ECF6",
            "gridcolor": "white",
            "gridwidth": 2,
            "linecolor": "white",
            "showbackground": true,
            "ticks": "",
            "zerolinecolor": "white"
           }
          },
          "shapedefaults": {
           "line": {
            "color": "#2a3f5f"
           }
          },
          "ternary": {
           "aaxis": {
            "gridcolor": "white",
            "linecolor": "white",
            "ticks": ""
           },
           "baxis": {
            "gridcolor": "white",
            "linecolor": "white",
            "ticks": ""
           },
           "bgcolor": "#E5ECF6",
           "caxis": {
            "gridcolor": "white",
            "linecolor": "white",
            "ticks": ""
           }
          },
          "title": {
           "x": 0.05
          },
          "xaxis": {
           "automargin": true,
           "gridcolor": "white",
           "linecolor": "white",
           "ticks": "",
           "title": {
            "standoff": 15
           },
           "zerolinecolor": "white",
           "zerolinewidth": 2
          },
          "yaxis": {
           "automargin": true,
           "gridcolor": "white",
           "linecolor": "white",
           "ticks": "",
           "title": {
            "standoff": 15
           },
           "zerolinecolor": "white",
           "zerolinewidth": 2
          }
         }
        },
        "width": 1000
       }
      }
     },
     "metadata": {},
     "output_type": "display_data"
    }
   ],
   "source": [
    "import plotly.graph_objects as go\n",
    "links = pd.DataFrame(links)\n",
    "\n",
    "replace = {\n",
    "    \"<a>\": \"<|arg|>\",\n",
    "    \"<p>\": \"<|pred|>\"\n",
    "}\n",
    "\n",
    "fig = go.Figure(\n",
    "    go.Sankey(\n",
    "        arrangement = \"snap\", \n",
    "        node={\"label\": [replace[t] if t in replace else t for t in text ] + [\"negative\", \"positive\"],\n",
    "              'x': [0.1] * (len(text)) + [0.5] * 2,\n",
    "              \"y\": list(np.linspace(0.01,0.99,len(text))) + list(np.linspace(0.01,0.99,2)),\n",
    "              'color': \"grey\",\n",
    "              'pad':10\n",
    "              },\n",
    "            #   \"y\": [],\n",
    "        link={\n",
    "            \"source\": links[\"source\"].tolist(),\n",
    "            \"target\": links[\"target\"].tolist(),\n",
    "            \"value\": links[\"value\"].tolist(),\n",
    "            \"color\": links[\"color\"].tolist(),\n",
    "        },\n",
    "    )\n",
    ")\n",
    "\n",
    "# fig.update_xaxes(automargin=True)\n",
    "fig.update_layout(\n",
    "    height=500,\n",
    "    width=1000,\n",
    "    autosize=False,\n",
    "    )\n",
    "\n",
    "fig.show()\n"
   ]
  },
  {
   "cell_type": "code",
   "execution_count": null,
   "metadata": {},
   "outputs": [],
   "source": [
    "mixed_model = RobertaForSequenceClassificationMixed(\n",
    "    config= RobertaConfig.from_dict(model.config.to_dict()),\n",
    "    state_dict=new_state_dict,\n",
    "    segment_layer=23,\n",
    "    debug=False, \n",
    "    num_labels=len(labels) * 3\n",
    "    )\n"
   ]
  },
  {
   "cell_type": "code",
   "execution_count": null,
   "metadata": {},
   "outputs": [],
   "source": [
    "mixed_model.segment_layer = 24\n",
    "logits = torch.zeros(len(encoded_input.squeeze()), 3, len(labels))\n",
    "\n",
    "for i in range(len(encoded_input.squeeze())):\n",
    "    mask = torch.zeros_like(encoded_input.squeeze())\n",
    "    mask[i] = 1\n",
    "    \n",
    "    beta_mask = torch.stack([mask, 1 - mask]).unsqueeze(1).unsqueeze(3)\n",
    "    with torch.no_grad():\n",
    "        l = mixed_model(input_ids=encoded_input,\n",
    "                        beta_mask=beta_mask, attention_mask=None,\n",
    "                        num_contributions=2)[\"logits\"]\n",
    "        \n",
    "        l = l[0].reshape(3, len(labels))\n",
    "    logits[i] = l\n",
    "\n",
    "logits -= logits.mean(axis=[0, 1], keepdim=True)\n",
    "logits /= logits.std(axis=[0, 1], keepdim=True)\n",
    "logits = torch.clip(logits, min=1e-3)\n"
   ]
  },
  {
   "cell_type": "code",
   "execution_count": null,
   "metadata": {},
   "outputs": [
    {
     "data": {
      "text/html": [
       "<div>\n",
       "<style scoped>\n",
       "    .dataframe tbody tr th:only-of-type {\n",
       "        vertical-align: middle;\n",
       "    }\n",
       "\n",
       "    .dataframe tbody tr th {\n",
       "        vertical-align: top;\n",
       "    }\n",
       "\n",
       "    .dataframe thead th {\n",
       "        text-align: right;\n",
       "    }\n",
       "</style>\n",
       "<table border=\"1\" class=\"dataframe\">\n",
       "  <thead>\n",
       "    <tr style=\"text-align: right;\">\n",
       "      <th></th>\n",
       "      <th>negative</th>\n",
       "      <th>neutral</th>\n",
       "      <th>positive</th>\n",
       "    </tr>\n",
       "    <tr>\n",
       "      <th>word</th>\n",
       "      <th></th>\n",
       "      <th></th>\n",
       "      <th></th>\n",
       "    </tr>\n",
       "  </thead>\n",
       "  <tbody>\n",
       "    <tr>\n",
       "      <th>&lt;s&gt;</th>\n",
       "      <td>2.149695</td>\n",
       "      <td>0.001000</td>\n",
       "      <td>0.001000</td>\n",
       "    </tr>\n",
       "    <tr>\n",
       "      <th>The</th>\n",
       "      <td>0.461468</td>\n",
       "      <td>0.035667</td>\n",
       "      <td>0.183111</td>\n",
       "    </tr>\n",
       "    <tr>\n",
       "      <th>creep</th>\n",
       "      <td>0.479681</td>\n",
       "      <td>0.143030</td>\n",
       "      <td>0.195693</td>\n",
       "    </tr>\n",
       "    <tr>\n",
       "      <th>&lt;p&gt;</th>\n",
       "      <td>0.486195</td>\n",
       "      <td>0.001000</td>\n",
       "      <td>0.175133</td>\n",
       "    </tr>\n",
       "    <tr>\n",
       "      <th>stalk</th>\n",
       "      <td>0.547040</td>\n",
       "      <td>0.001000</td>\n",
       "      <td>0.111457</td>\n",
       "    </tr>\n",
       "    <tr>\n",
       "      <th>ed</th>\n",
       "      <td>0.530680</td>\n",
       "      <td>0.001000</td>\n",
       "      <td>0.138636</td>\n",
       "    </tr>\n",
       "    <tr>\n",
       "      <th>&lt;p&gt;</th>\n",
       "      <td>0.560194</td>\n",
       "      <td>0.001000</td>\n",
       "      <td>0.001000</td>\n",
       "    </tr>\n",
       "    <tr>\n",
       "      <th>&lt;a&gt;</th>\n",
       "      <td>0.557767</td>\n",
       "      <td>0.001000</td>\n",
       "      <td>0.001000</td>\n",
       "    </tr>\n",
       "    <tr>\n",
       "      <th>my</th>\n",
       "      <td>0.521977</td>\n",
       "      <td>0.001000</td>\n",
       "      <td>0.001000</td>\n",
       "    </tr>\n",
       "    <tr>\n",
       "      <th>girlfriend</th>\n",
       "      <td>0.480594</td>\n",
       "      <td>0.001000</td>\n",
       "      <td>0.001000</td>\n",
       "    </tr>\n",
       "    <tr>\n",
       "      <th>&lt;a&gt;</th>\n",
       "      <td>0.564696</td>\n",
       "      <td>0.001000</td>\n",
       "      <td>0.001000</td>\n",
       "    </tr>\n",
       "    <tr>\n",
       "      <th>last</th>\n",
       "      <td>0.558767</td>\n",
       "      <td>0.001000</td>\n",
       "      <td>0.001000</td>\n",
       "    </tr>\n",
       "    <tr>\n",
       "      <th>night</th>\n",
       "      <td>0.537049</td>\n",
       "      <td>0.019421</td>\n",
       "      <td>0.067758</td>\n",
       "    </tr>\n",
       "    <tr>\n",
       "      <th>.</th>\n",
       "      <td>0.464964</td>\n",
       "      <td>0.095964</td>\n",
       "      <td>0.204840</td>\n",
       "    </tr>\n",
       "    <tr>\n",
       "      <th>&lt;/s&gt;</th>\n",
       "      <td>0.496438</td>\n",
       "      <td>0.016794</td>\n",
       "      <td>0.136137</td>\n",
       "    </tr>\n",
       "  </tbody>\n",
       "</table>\n",
       "</div>"
      ],
      "text/plain": [
       "            negative   neutral  positive\n",
       "word                                    \n",
       "<s>         2.149695  0.001000  0.001000\n",
       "The         0.461468  0.035667  0.183111\n",
       "creep       0.479681  0.143030  0.195693\n",
       "<p>         0.486195  0.001000  0.175133\n",
       "stalk       0.547040  0.001000  0.111457\n",
       "ed          0.530680  0.001000  0.138636\n",
       "<p>         0.560194  0.001000  0.001000\n",
       "<a>         0.557767  0.001000  0.001000\n",
       "my          0.521977  0.001000  0.001000\n",
       "girlfriend  0.480594  0.001000  0.001000\n",
       "<a>         0.564696  0.001000  0.001000\n",
       "last        0.558767  0.001000  0.001000\n",
       "night       0.537049  0.019421  0.067758\n",
       ".           0.464964  0.095964  0.204840\n",
       "</s>        0.496438  0.016794  0.136137"
      ]
     },
     "execution_count": 58,
     "metadata": {},
     "output_type": "execute_result"
    }
   ],
   "source": [
    "df = pd.DataFrame(logits.transpose(1,2).tolist(), columns=labels)\n",
    "df[\"word\"] = text\n",
    "\n",
    "role = \"volition\"\n",
    "df = df[[\"word\",role]]\n",
    "df[\"negative\"] = df[role].apply(lambda x: x[0])\n",
    "df[\"neutral\"] = df[role].apply(lambda x: x[1])\n",
    "df[\"positive\"] = df[role].apply(lambda x: x[2])\n",
    "\n",
    "df = df.drop(columns=role).set_index(\"word\")\n",
    "df\n"
   ]
  },
  {
   "cell_type": "code",
   "execution_count": null,
   "metadata": {},
   "outputs": [],
   "source": [
    "links = []\n",
    "# colors = {\n",
    "#     \"negative\": \"rgba(0, 202, 255, 0.5)\",\n",
    "#     \"neutral\": \"rgba(112, 255, 145, 0.5)\",\n",
    "#     \"positive\": \"rgba(255, 0, 250, 0.3)\"\n",
    "# }\n",
    "\n",
    "for i, word in enumerate(text):\n",
    "    for j, value in enumerate(df.loc[word]):\n",
    "        if word in verb:\n",
    "            color =  \"rgba(255, 0, 250, 0.5)\"\n",
    "        elif word in arg:\n",
    "            color = \"rgba(112, 255, 145, 0.5)\"\n",
    "        else:\n",
    "            color = \"rgba(0, 202, 255, 0.3)\"\n",
    "        links.append(\n",
    "            {\n",
    "                'source': i,\n",
    "                'target': len(text) + j,\n",
    "                'value': value,\n",
    "                'color': color\n",
    "            }\n",
    "        )\n"
   ]
  },
  {
   "cell_type": "code",
   "execution_count": null,
   "metadata": {},
   "outputs": [
    {
     "data": {
      "application/vnd.plotly.v1+json": {
       "config": {
        "plotlyServerURL": "https://plot.ly"
       },
       "data": [
        {
         "arrangement": "snap",
         "link": {
          "color": [
           "rgba(0, 202, 255, 0.3)",
           "rgba(0, 202, 255, 0.3)",
           "rgba(0, 202, 255, 0.3)",
           "rgba(0, 202, 255, 0.3)",
           "rgba(0, 202, 255, 0.3)",
           "rgba(0, 202, 255, 0.3)",
           "rgba(0, 202, 255, 0.3)",
           "rgba(0, 202, 255, 0.3)",
           "rgba(0, 202, 255, 0.3)",
           "rgba(255, 0, 250, 0.5)",
           "rgba(255, 0, 250, 0.5)",
           "rgba(255, 0, 250, 0.5)",
           "rgba(0, 202, 255, 0.3)",
           "rgba(0, 202, 255, 0.3)",
           "rgba(0, 202, 255, 0.3)",
           "rgba(0, 202, 255, 0.3)",
           "rgba(0, 202, 255, 0.3)",
           "rgba(0, 202, 255, 0.3)",
           "rgba(255, 0, 250, 0.5)",
           "rgba(255, 0, 250, 0.5)",
           "rgba(255, 0, 250, 0.5)",
           "rgba(112, 255, 145, 0.5)",
           "rgba(112, 255, 145, 0.5)",
           "rgba(112, 255, 145, 0.5)",
           "rgba(112, 255, 145, 0.5)",
           "rgba(112, 255, 145, 0.5)",
           "rgba(112, 255, 145, 0.5)",
           "rgba(112, 255, 145, 0.5)",
           "rgba(112, 255, 145, 0.5)",
           "rgba(112, 255, 145, 0.5)",
           "rgba(112, 255, 145, 0.5)",
           "rgba(112, 255, 145, 0.5)",
           "rgba(112, 255, 145, 0.5)",
           "rgba(0, 202, 255, 0.3)",
           "rgba(0, 202, 255, 0.3)",
           "rgba(0, 202, 255, 0.3)",
           "rgba(0, 202, 255, 0.3)",
           "rgba(0, 202, 255, 0.3)",
           "rgba(0, 202, 255, 0.3)",
           "rgba(0, 202, 255, 0.3)",
           "rgba(0, 202, 255, 0.3)",
           "rgba(0, 202, 255, 0.3)",
           "rgba(0, 202, 255, 0.3)",
           "rgba(0, 202, 255, 0.3)",
           "rgba(0, 202, 255, 0.3)"
          ],
          "source": [
           0,
           0,
           0,
           1,
           1,
           1,
           2,
           2,
           2,
           3,
           3,
           3,
           4,
           4,
           4,
           5,
           5,
           5,
           6,
           6,
           6,
           7,
           7,
           7,
           8,
           8,
           8,
           9,
           9,
           9,
           10,
           10,
           10,
           11,
           11,
           11,
           12,
           12,
           12,
           13,
           13,
           13,
           14,
           14,
           14
          ],
          "target": [
           15,
           16,
           17,
           15,
           16,
           17,
           15,
           16,
           17,
           15,
           16,
           17,
           15,
           16,
           17,
           15,
           16,
           17,
           15,
           16,
           17,
           15,
           16,
           17,
           15,
           16,
           17,
           15,
           16,
           17,
           15,
           16,
           17,
           15,
           16,
           17,
           15,
           16,
           17,
           15,
           16,
           17,
           15,
           16,
           17
          ],
          "value": [
           2.14969539642334,
           0.0010000000474974513,
           0.0010000000474974513,
           0.46146801114082336,
           0.035667069256305695,
           0.18311120569705963,
           0.47968050837516785,
           0.14303044974803925,
           0.1956925243139267,
           "negative",
           "neutral",
           "positive",
           0.5470402836799622,
           0.0010000000474974513,
           0.11145716905593872,
           0.530680239200592,
           0.0010000000474974513,
           0.1386355608701706,
           "negative",
           "neutral",
           "positive",
           "negative",
           "neutral",
           "positive",
           0.5219765305519104,
           0.0010000000474974513,
           0.0010000000474974513,
           0.48059380054473877,
           0.0010000000474974513,
           0.0010000000474974513,
           "negative",
           "neutral",
           "positive",
           0.5587672591209412,
           0.0010000000474974513,
           0.0010000000474974513,
           0.5370485782623291,
           0.019421059638261795,
           0.06775771826505661,
           0.46496403217315674,
           0.09596370905637741,
           0.20483973622322083,
           0.49643757939338684,
           0.01679430529475212,
           0.13613654673099518
          ]
         },
         "node": {
          "color": "grey",
          "label": [
           "<s>",
           "The",
           "creep",
           "<p>",
           "stalk",
           "ed",
           "<p>",
           "<a>",
           "my",
           "girlfriend",
           "<a>",
           "last",
           "night",
           ".",
           "</s>",
           "negative",
           "neutral",
           "positive"
          ],
          "x": [
           0.1,
           0.1,
           0.1,
           0.1,
           0.1,
           0.1,
           0.1,
           0.1,
           0.1,
           0.1,
           0.1,
           0.5,
           0.5,
           0.5
          ],
          "y": [
           0.01,
           0.108,
           0.20600000000000002,
           0.30400000000000005,
           0.402,
           0.5,
           0.5980000000000001,
           0.6960000000000001,
           0.794,
           0.892,
           0.99,
           0.01,
           0.5,
           0.99
          ]
         },
         "type": "sankey"
        }
       ],
       "layout": {
        "height": 600,
        "template": {
         "data": {
          "bar": [
           {
            "error_x": {
             "color": "#2a3f5f"
            },
            "error_y": {
             "color": "#2a3f5f"
            },
            "marker": {
             "line": {
              "color": "#E5ECF6",
              "width": 0.5
             },
             "pattern": {
              "fillmode": "overlay",
              "size": 10,
              "solidity": 0.2
             }
            },
            "type": "bar"
           }
          ],
          "barpolar": [
           {
            "marker": {
             "line": {
              "color": "#E5ECF6",
              "width": 0.5
             },
             "pattern": {
              "fillmode": "overlay",
              "size": 10,
              "solidity": 0.2
             }
            },
            "type": "barpolar"
           }
          ],
          "carpet": [
           {
            "aaxis": {
             "endlinecolor": "#2a3f5f",
             "gridcolor": "white",
             "linecolor": "white",
             "minorgridcolor": "white",
             "startlinecolor": "#2a3f5f"
            },
            "baxis": {
             "endlinecolor": "#2a3f5f",
             "gridcolor": "white",
             "linecolor": "white",
             "minorgridcolor": "white",
             "startlinecolor": "#2a3f5f"
            },
            "type": "carpet"
           }
          ],
          "choropleth": [
           {
            "colorbar": {
             "outlinewidth": 0,
             "ticks": ""
            },
            "type": "choropleth"
           }
          ],
          "contour": [
           {
            "colorbar": {
             "outlinewidth": 0,
             "ticks": ""
            },
            "colorscale": [
             [
              0,
              "#0d0887"
             ],
             [
              0.1111111111111111,
              "#46039f"
             ],
             [
              0.2222222222222222,
              "#7201a8"
             ],
             [
              0.3333333333333333,
              "#9c179e"
             ],
             [
              0.4444444444444444,
              "#bd3786"
             ],
             [
              0.5555555555555556,
              "#d8576b"
             ],
             [
              0.6666666666666666,
              "#ed7953"
             ],
             [
              0.7777777777777778,
              "#fb9f3a"
             ],
             [
              0.8888888888888888,
              "#fdca26"
             ],
             [
              1,
              "#f0f921"
             ]
            ],
            "type": "contour"
           }
          ],
          "contourcarpet": [
           {
            "colorbar": {
             "outlinewidth": 0,
             "ticks": ""
            },
            "type": "contourcarpet"
           }
          ],
          "heatmap": [
           {
            "colorbar": {
             "outlinewidth": 0,
             "ticks": ""
            },
            "colorscale": [
             [
              0,
              "#0d0887"
             ],
             [
              0.1111111111111111,
              "#46039f"
             ],
             [
              0.2222222222222222,
              "#7201a8"
             ],
             [
              0.3333333333333333,
              "#9c179e"
             ],
             [
              0.4444444444444444,
              "#bd3786"
             ],
             [
              0.5555555555555556,
              "#d8576b"
             ],
             [
              0.6666666666666666,
              "#ed7953"
             ],
             [
              0.7777777777777778,
              "#fb9f3a"
             ],
             [
              0.8888888888888888,
              "#fdca26"
             ],
             [
              1,
              "#f0f921"
             ]
            ],
            "type": "heatmap"
           }
          ],
          "heatmapgl": [
           {
            "colorbar": {
             "outlinewidth": 0,
             "ticks": ""
            },
            "colorscale": [
             [
              0,
              "#0d0887"
             ],
             [
              0.1111111111111111,
              "#46039f"
             ],
             [
              0.2222222222222222,
              "#7201a8"
             ],
             [
              0.3333333333333333,
              "#9c179e"
             ],
             [
              0.4444444444444444,
              "#bd3786"
             ],
             [
              0.5555555555555556,
              "#d8576b"
             ],
             [
              0.6666666666666666,
              "#ed7953"
             ],
             [
              0.7777777777777778,
              "#fb9f3a"
             ],
             [
              0.8888888888888888,
              "#fdca26"
             ],
             [
              1,
              "#f0f921"
             ]
            ],
            "type": "heatmapgl"
           }
          ],
          "histogram": [
           {
            "marker": {
             "pattern": {
              "fillmode": "overlay",
              "size": 10,
              "solidity": 0.2
             }
            },
            "type": "histogram"
           }
          ],
          "histogram2d": [
           {
            "colorbar": {
             "outlinewidth": 0,
             "ticks": ""
            },
            "colorscale": [
             [
              0,
              "#0d0887"
             ],
             [
              0.1111111111111111,
              "#46039f"
             ],
             [
              0.2222222222222222,
              "#7201a8"
             ],
             [
              0.3333333333333333,
              "#9c179e"
             ],
             [
              0.4444444444444444,
              "#bd3786"
             ],
             [
              0.5555555555555556,
              "#d8576b"
             ],
             [
              0.6666666666666666,
              "#ed7953"
             ],
             [
              0.7777777777777778,
              "#fb9f3a"
             ],
             [
              0.8888888888888888,
              "#fdca26"
             ],
             [
              1,
              "#f0f921"
             ]
            ],
            "type": "histogram2d"
           }
          ],
          "histogram2dcontour": [
           {
            "colorbar": {
             "outlinewidth": 0,
             "ticks": ""
            },
            "colorscale": [
             [
              0,
              "#0d0887"
             ],
             [
              0.1111111111111111,
              "#46039f"
             ],
             [
              0.2222222222222222,
              "#7201a8"
             ],
             [
              0.3333333333333333,
              "#9c179e"
             ],
             [
              0.4444444444444444,
              "#bd3786"
             ],
             [
              0.5555555555555556,
              "#d8576b"
             ],
             [
              0.6666666666666666,
              "#ed7953"
             ],
             [
              0.7777777777777778,
              "#fb9f3a"
             ],
             [
              0.8888888888888888,
              "#fdca26"
             ],
             [
              1,
              "#f0f921"
             ]
            ],
            "type": "histogram2dcontour"
           }
          ],
          "mesh3d": [
           {
            "colorbar": {
             "outlinewidth": 0,
             "ticks": ""
            },
            "type": "mesh3d"
           }
          ],
          "parcoords": [
           {
            "line": {
             "colorbar": {
              "outlinewidth": 0,
              "ticks": ""
             }
            },
            "type": "parcoords"
           }
          ],
          "pie": [
           {
            "automargin": true,
            "type": "pie"
           }
          ],
          "scatter": [
           {
            "fillpattern": {
             "fillmode": "overlay",
             "size": 10,
             "solidity": 0.2
            },
            "type": "scatter"
           }
          ],
          "scatter3d": [
           {
            "line": {
             "colorbar": {
              "outlinewidth": 0,
              "ticks": ""
             }
            },
            "marker": {
             "colorbar": {
              "outlinewidth": 0,
              "ticks": ""
             }
            },
            "type": "scatter3d"
           }
          ],
          "scattercarpet": [
           {
            "marker": {
             "colorbar": {
              "outlinewidth": 0,
              "ticks": ""
             }
            },
            "type": "scattercarpet"
           }
          ],
          "scattergeo": [
           {
            "marker": {
             "colorbar": {
              "outlinewidth": 0,
              "ticks": ""
             }
            },
            "type": "scattergeo"
           }
          ],
          "scattergl": [
           {
            "marker": {
             "colorbar": {
              "outlinewidth": 0,
              "ticks": ""
             }
            },
            "type": "scattergl"
           }
          ],
          "scattermapbox": [
           {
            "marker": {
             "colorbar": {
              "outlinewidth": 0,
              "ticks": ""
             }
            },
            "type": "scattermapbox"
           }
          ],
          "scatterpolar": [
           {
            "marker": {
             "colorbar": {
              "outlinewidth": 0,
              "ticks": ""
             }
            },
            "type": "scatterpolar"
           }
          ],
          "scatterpolargl": [
           {
            "marker": {
             "colorbar": {
              "outlinewidth": 0,
              "ticks": ""
             }
            },
            "type": "scatterpolargl"
           }
          ],
          "scatterternary": [
           {
            "marker": {
             "colorbar": {
              "outlinewidth": 0,
              "ticks": ""
             }
            },
            "type": "scatterternary"
           }
          ],
          "surface": [
           {
            "colorbar": {
             "outlinewidth": 0,
             "ticks": ""
            },
            "colorscale": [
             [
              0,
              "#0d0887"
             ],
             [
              0.1111111111111111,
              "#46039f"
             ],
             [
              0.2222222222222222,
              "#7201a8"
             ],
             [
              0.3333333333333333,
              "#9c179e"
             ],
             [
              0.4444444444444444,
              "#bd3786"
             ],
             [
              0.5555555555555556,
              "#d8576b"
             ],
             [
              0.6666666666666666,
              "#ed7953"
             ],
             [
              0.7777777777777778,
              "#fb9f3a"
             ],
             [
              0.8888888888888888,
              "#fdca26"
             ],
             [
              1,
              "#f0f921"
             ]
            ],
            "type": "surface"
           }
          ],
          "table": [
           {
            "cells": {
             "fill": {
              "color": "#EBF0F8"
             },
             "line": {
              "color": "white"
             }
            },
            "header": {
             "fill": {
              "color": "#C8D4E3"
             },
             "line": {
              "color": "white"
             }
            },
            "type": "table"
           }
          ]
         },
         "layout": {
          "annotationdefaults": {
           "arrowcolor": "#2a3f5f",
           "arrowhead": 0,
           "arrowwidth": 1
          },
          "autotypenumbers": "strict",
          "coloraxis": {
           "colorbar": {
            "outlinewidth": 0,
            "ticks": ""
           }
          },
          "colorscale": {
           "diverging": [
            [
             0,
             "#8e0152"
            ],
            [
             0.1,
             "#c51b7d"
            ],
            [
             0.2,
             "#de77ae"
            ],
            [
             0.3,
             "#f1b6da"
            ],
            [
             0.4,
             "#fde0ef"
            ],
            [
             0.5,
             "#f7f7f7"
            ],
            [
             0.6,
             "#e6f5d0"
            ],
            [
             0.7,
             "#b8e186"
            ],
            [
             0.8,
             "#7fbc41"
            ],
            [
             0.9,
             "#4d9221"
            ],
            [
             1,
             "#276419"
            ]
           ],
           "sequential": [
            [
             0,
             "#0d0887"
            ],
            [
             0.1111111111111111,
             "#46039f"
            ],
            [
             0.2222222222222222,
             "#7201a8"
            ],
            [
             0.3333333333333333,
             "#9c179e"
            ],
            [
             0.4444444444444444,
             "#bd3786"
            ],
            [
             0.5555555555555556,
             "#d8576b"
            ],
            [
             0.6666666666666666,
             "#ed7953"
            ],
            [
             0.7777777777777778,
             "#fb9f3a"
            ],
            [
             0.8888888888888888,
             "#fdca26"
            ],
            [
             1,
             "#f0f921"
            ]
           ],
           "sequentialminus": [
            [
             0,
             "#0d0887"
            ],
            [
             0.1111111111111111,
             "#46039f"
            ],
            [
             0.2222222222222222,
             "#7201a8"
            ],
            [
             0.3333333333333333,
             "#9c179e"
            ],
            [
             0.4444444444444444,
             "#bd3786"
            ],
            [
             0.5555555555555556,
             "#d8576b"
            ],
            [
             0.6666666666666666,
             "#ed7953"
            ],
            [
             0.7777777777777778,
             "#fb9f3a"
            ],
            [
             0.8888888888888888,
             "#fdca26"
            ],
            [
             1,
             "#f0f921"
            ]
           ]
          },
          "colorway": [
           "#636efa",
           "#EF553B",
           "#00cc96",
           "#ab63fa",
           "#FFA15A",
           "#19d3f3",
           "#FF6692",
           "#B6E880",
           "#FF97FF",
           "#FECB52"
          ],
          "font": {
           "color": "#2a3f5f"
          },
          "geo": {
           "bgcolor": "white",
           "lakecolor": "white",
           "landcolor": "#E5ECF6",
           "showlakes": true,
           "showland": true,
           "subunitcolor": "white"
          },
          "hoverlabel": {
           "align": "left"
          },
          "hovermode": "closest",
          "mapbox": {
           "style": "light"
          },
          "paper_bgcolor": "white",
          "plot_bgcolor": "#E5ECF6",
          "polar": {
           "angularaxis": {
            "gridcolor": "white",
            "linecolor": "white",
            "ticks": ""
           },
           "bgcolor": "#E5ECF6",
           "radialaxis": {
            "gridcolor": "white",
            "linecolor": "white",
            "ticks": ""
           }
          },
          "scene": {
           "xaxis": {
            "backgroundcolor": "#E5ECF6",
            "gridcolor": "white",
            "gridwidth": 2,
            "linecolor": "white",
            "showbackground": true,
            "ticks": "",
            "zerolinecolor": "white"
           },
           "yaxis": {
            "backgroundcolor": "#E5ECF6",
            "gridcolor": "white",
            "gridwidth": 2,
            "linecolor": "white",
            "showbackground": true,
            "ticks": "",
            "zerolinecolor": "white"
           },
           "zaxis": {
            "backgroundcolor": "#E5ECF6",
            "gridcolor": "white",
            "gridwidth": 2,
            "linecolor": "white",
            "showbackground": true,
            "ticks": "",
            "zerolinecolor": "white"
           }
          },
          "shapedefaults": {
           "line": {
            "color": "#2a3f5f"
           }
          },
          "ternary": {
           "aaxis": {
            "gridcolor": "white",
            "linecolor": "white",
            "ticks": ""
           },
           "baxis": {
            "gridcolor": "white",
            "linecolor": "white",
            "ticks": ""
           },
           "bgcolor": "#E5ECF6",
           "caxis": {
            "gridcolor": "white",
            "linecolor": "white",
            "ticks": ""
           }
          },
          "title": {
           "x": 0.05
          },
          "xaxis": {
           "automargin": true,
           "gridcolor": "white",
           "linecolor": "white",
           "ticks": "",
           "title": {
            "standoff": 15
           },
           "zerolinecolor": "white",
           "zerolinewidth": 2
          },
          "yaxis": {
           "automargin": true,
           "gridcolor": "white",
           "linecolor": "white",
           "ticks": "",
           "title": {
            "standoff": 15
           },
           "zerolinecolor": "white",
           "zerolinewidth": 2
          }
         }
        }
       }
      }
     },
     "metadata": {},
     "output_type": "display_data"
    }
   ],
   "source": [
    "import plotly.graph_objects as go\n",
    "links = pd.DataFrame(links)\n",
    "\n",
    "fig = go.Figure(\n",
    "    go.Sankey(\n",
    "        arrangement = \"snap\", \n",
    "        node={\"label\": text + df.columns.tolist(),\n",
    "              'x': [0.1] * (len(text) - 4) + [0.5] * 3,\n",
    "              \"y\": list(np.linspace(0.01,0.99,len(text) - 4)) + list(np.linspace(0.01,0.99,3)),\n",
    "              'color': \"grey\",\n",
    "            #   'pad':5\n",
    "              },\n",
    "            #   \"y\": [],\n",
    "        link={\n",
    "            \"source\": links[\"source\"].tolist(),\n",
    "            \"target\": links[\"target\"].tolist(),\n",
    "            \"value\": links[\"value\"].tolist(),\n",
    "            \"color\": links[\"color\"].tolist(),\n",
    "        },\n",
    "    )\n",
    ")\n",
    "\n",
    "# fig.update_xaxes(automargin=True)\n",
    "fig.update_layout(height=600)\n",
    "\n",
    "fig.show()\n"
   ]
  }
 ],
 "metadata": {
  "kernelspec": {
   "display_name": "metaphor",
   "language": "python",
   "name": "python3"
  },
  "language_info": {
   "codemirror_mode": {
    "name": "ipython",
    "version": 3
   },
   "file_extension": ".py",
   "mimetype": "text/x-python",
   "name": "python",
   "nbconvert_exporter": "python",
   "pygments_lexer": "ipython3",
   "version": "3.11.5"
  }
 },
 "nbformat": 4,
 "nbformat_minor": 2
}
