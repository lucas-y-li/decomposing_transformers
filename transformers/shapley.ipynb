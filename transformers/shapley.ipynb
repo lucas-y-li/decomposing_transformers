{
 "cells": [
  {
   "cell_type": "code",
   "execution_count": 1,
   "id": "81b8b683",
   "metadata": {},
   "outputs": [],
   "source": [
    "import shap\n",
    "import seaborn as sns\n",
    "import plotly.graph_objects as go\n",
    "\n",
    "import pandas as pd\n",
    "import transformers\n",
    "import torch\n",
    "import numpy as np\n"
   ]
  },
  {
   "cell_type": "code",
   "execution_count": 17,
   "id": "5e6dcfbd",
   "metadata": {},
   "outputs": [
    {
     "name": "stderr",
     "output_type": "stream",
     "text": [
      "Some weights of the model checkpoint at cardiffnlp/twitter-roberta-base-sentiment-latest were not used when initializing RobertaForSequenceClassification: ['roberta.pooler.dense.bias', 'roberta.pooler.dense.weight']\n",
      "- This IS expected if you are initializing RobertaForSequenceClassification from the checkpoint of a model trained on another task or with another architecture (e.g. initializing a BertForSequenceClassification model from a BertForPreTraining model).\n",
      "- This IS NOT expected if you are initializing RobertaForSequenceClassification from the checkpoint of a model that you expect to be exactly identical (initializing a BertForSequenceClassification model from a BertForSequenceClassification model).\n"
     ]
    }
   ],
   "source": [
    "tokenizer = transformers.AutoTokenizer.from_pretrained(\"cardiffnlp/twitter-roberta-base-sentiment-latest\")\n",
    "model = transformers.AutoModelForSequenceClassification.from_pretrained(\"cardiffnlp/twitter-roberta-base-sentiment-latest\")\n"
   ]
  },
  {
   "cell_type": "code",
   "execution_count": 18,
   "id": "4d3e4a61",
   "metadata": {},
   "outputs": [
    {
     "name": "stdout",
     "output_type": "stream",
     "text": [
      "torch.Size([1, 3])\n"
     ]
    },
    {
     "data": {
      "text/plain": [
       "tensor([[0.2047, 0.5419, 0.2535]])"
      ]
     },
     "execution_count": 18,
     "metadata": {},
     "output_type": "execute_result"
    }
   ],
   "source": [
    "# text = [\"I respect the visuals, I respect the performances but... nah.\"]\n",
    "text = [\"I was not disappointed with the result.\"]\n",
    "encoded_input = tokenizer(text, return_tensors='pt')['input_ids']\n",
    "words = [tokenizer.convert_tokens_to_string([x]).strip() for x in \n",
    "    tokenizer.convert_ids_to_tokens(encoded_input[0])]\n",
    "\n",
    "with torch.no_grad():\n",
    "    output = model(encoded_input).logits\n",
    "    print(output.shape)\n",
    "    scores = torch.softmax(output, 1)\n",
    "scores\n"
   ]
  },
  {
   "cell_type": "code",
   "execution_count": null,
   "id": "71bca774",
   "metadata": {},
   "outputs": [],
   "source": [
    "# https://shap.readthedocs.io/en/latest/example_notebooks/text_examples/sentiment_analysis/Emotion%20classification%20multiclass%20example.html\n",
    "\n",
    "pred = transformers.pipeline(\n",
    "    \"text-classification\",\n",
    "    model=model,\n",
    "    tokenizer=tokenizer,\n",
    "    device=0,\n",
    "    return_all_scores=True,\n",
    ")\n",
    "\n",
    "explainer = shap.Explainer(pred)\n"
   ]
  },
  {
   "cell_type": "code",
   "execution_count": 13,
   "id": "bd683125",
   "metadata": {},
   "outputs": [
    {
     "data": {
      "text/plain": [
       "shap.explainers._partition.PartitionExplainer"
      ]
     },
     "execution_count": 13,
     "metadata": {},
     "output_type": "execute_result"
    }
   ],
   "source": [
    "explainer.__class__\n"
   ]
  },
  {
   "cell_type": "code",
   "execution_count": 20,
   "id": "a99d8c1f",
   "metadata": {},
   "outputs": [],
   "source": [
    "shap_values = explainer(text)\n"
   ]
  },
  {
   "cell_type": "code",
   "execution_count": 21,
   "id": "5f15cc18",
   "metadata": {},
   "outputs": [
    {
     "data": {
      "text/html": [
       "\n",
       "<br>\n",
       "<hr style=\"height: 1px; background-color: #fff; border: none; margin-top: 18px; margin-bottom: 18px; border-top: 1px dashed #ccc;\"\">\n",
       "<div align=\"center\" style=\"margin-top: -35px;\"><div style=\"display: inline-block; background: #fff; padding: 5px; color: #999; font-family: monospace\">[0]</div>\n",
       "</div>\n",
       "            <div align='center'>\n",
       "<script>\n",
       "    document._hover_wsmkdarudluwerjvfalk = '_tp_wsmkdarudluwerjvfalk_output_0';\n",
       "    document._zoom_wsmkdarudluwerjvfalk = undefined;\n",
       "    function _output_onclick_wsmkdarudluwerjvfalk(i) {\n",
       "        var next_id = undefined;\n",
       "\n",
       "        if (document._zoom_wsmkdarudluwerjvfalk !== undefined) {\n",
       "            document.getElementById(document._zoom_wsmkdarudluwerjvfalk+ '_zoom').style.display = 'none';\n",
       "\n",
       "            if (document._zoom_wsmkdarudluwerjvfalk === '_tp_wsmkdarudluwerjvfalk_output_' + i) {\n",
       "                document.getElementById(document._zoom_wsmkdarudluwerjvfalk).style.display = 'block';\n",
       "                document.getElementById(document._zoom_wsmkdarudluwerjvfalk+'_name').style.borderBottom = '3px solid #000000';\n",
       "            } else {\n",
       "                document.getElementById(document._zoom_wsmkdarudluwerjvfalk).style.display = 'none';\n",
       "                document.getElementById(document._zoom_wsmkdarudluwerjvfalk+'_name').style.borderBottom = 'none';\n",
       "            }\n",
       "        }\n",
       "        if (document._zoom_wsmkdarudluwerjvfalk !== '_tp_wsmkdarudluwerjvfalk_output_' + i) {\n",
       "            next_id = '_tp_wsmkdarudluwerjvfalk_output_' + i;\n",
       "            document.getElementById(next_id).style.display = 'none';\n",
       "            document.getElementById(next_id + '_zoom').style.display = 'block';\n",
       "            document.getElementById(next_id+'_name').style.borderBottom = '3px solid #000000';\n",
       "        }\n",
       "        document._zoom_wsmkdarudluwerjvfalk = next_id;\n",
       "    }\n",
       "    function _output_onmouseover_wsmkdarudluwerjvfalk(i, el) {\n",
       "        if (document._zoom_wsmkdarudluwerjvfalk !== undefined) { return; }\n",
       "        if (document._hover_wsmkdarudluwerjvfalk !== undefined) {\n",
       "            document.getElementById(document._hover_wsmkdarudluwerjvfalk + '_name').style.borderBottom = 'none';\n",
       "            document.getElementById(document._hover_wsmkdarudluwerjvfalk).style.display = 'none';\n",
       "        }\n",
       "        document.getElementById('_tp_wsmkdarudluwerjvfalk_output_' + i).style.display = 'block';\n",
       "        el.style.borderBottom = '3px solid #000000';\n",
       "        document._hover_wsmkdarudluwerjvfalk = '_tp_wsmkdarudluwerjvfalk_output_' + i;\n",
       "    }\n",
       "</script>\n",
       "<div style=\"color: rgb(120,120,120); font-size: 12px;\">outputs</div>\n",
       "<div style=\"display: inline; border-bottom: 3px solid #000000; background: rgba(255.0, 13.0, 87.0, 0.3772628243216479); border-radius: 3px; padding: 0px\" id=\"_tp_wsmkdarudluwerjvfalk_output_0_name\"\n",
       "    onclick=\"_output_onclick_wsmkdarudluwerjvfalk(0)\"\n",
       "    onmouseover=\"_output_onmouseover_wsmkdarudluwerjvfalk(0, this);\">negative</div>\n",
       "<div style=\"display: inline; border-bottom: none; background: rgba(255.0, 13.0, 87.0, 1.0); border-radius: 3px; padding: 0px\" id=\"_tp_wsmkdarudluwerjvfalk_output_1_name\"\n",
       "    onclick=\"_output_onclick_wsmkdarudluwerjvfalk(1)\"\n",
       "    onmouseover=\"_output_onmouseover_wsmkdarudluwerjvfalk(1, this);\">neutral</div>\n",
       "<div style=\"display: inline; border-bottom: none; background: rgba(255.0, 13.0, 87.0, 0.46397306397306415); border-radius: 3px; padding: 0px\" id=\"_tp_wsmkdarudluwerjvfalk_output_2_name\"\n",
       "    onclick=\"_output_onclick_wsmkdarudluwerjvfalk(2)\"\n",
       "    onmouseover=\"_output_onmouseover_wsmkdarudluwerjvfalk(2, this);\">positive</div><br><br><div id='_tp_wsmkdarudluwerjvfalk_output_0' style='display: block';><svg width=\"100%\" height=\"80px\"><line x1=\"0\" y1=\"33\" x2=\"100%\" y2=\"33\" style=\"stroke:rgb(150,150,150);stroke-width:1\" /><line x1=\"47.23331997406635%\" y1=\"33\" x2=\"47.23331997406635%\" y2=\"37\" style=\"stroke:rgb(150,150,150);stroke-width:1\" /><text x=\"47.23331997406635%\" y=\"27\" font-size=\"12px\" fill=\"rgb(120,120,120)\" dominant-baseline=\"bottom\" text-anchor=\"middle\">0.3</text><line x1=\"37.60536168376975%\" y1=\"33\" x2=\"37.60536168376975%\" y2=\"37\" style=\"stroke:rgb(150,150,150);stroke-width:1\" /><text x=\"37.60536168376975%\" y=\"27\" font-size=\"12px\" fill=\"rgb(120,120,120)\" dominant-baseline=\"bottom\" text-anchor=\"middle\">0.2</text><line x1=\"27.977403393473157%\" y1=\"33\" x2=\"27.977403393473157%\" y2=\"37\" style=\"stroke:rgb(150,150,150);stroke-width:1\" /><text x=\"27.977403393473157%\" y=\"27\" font-size=\"12px\" fill=\"rgb(120,120,120)\" dominant-baseline=\"bottom\" text-anchor=\"middle\">0.1</text><line x1=\"18.349445103176564%\" y1=\"33\" x2=\"18.349445103176564%\" y2=\"37\" style=\"stroke:rgb(150,150,150);stroke-width:1\" /><text x=\"18.349445103176564%\" y=\"27\" font-size=\"12px\" fill=\"rgb(120,120,120)\" dominant-baseline=\"bottom\" text-anchor=\"middle\">-5.55112e-17</text><line x1=\"8.721486812879968%\" y1=\"33\" x2=\"8.721486812879968%\" y2=\"37\" style=\"stroke:rgb(150,150,150);stroke-width:1\" /><text x=\"8.721486812879968%\" y=\"27\" font-size=\"12px\" fill=\"rgb(120,120,120)\" dominant-baseline=\"bottom\" text-anchor=\"middle\">-0.1</text><line x1=\"56.861278264362944%\" y1=\"33\" x2=\"56.861278264362944%\" y2=\"37\" style=\"stroke:rgb(150,150,150);stroke-width:1\" /><text x=\"56.861278264362944%\" y=\"27\" font-size=\"12px\" fill=\"rgb(120,120,120)\" dominant-baseline=\"bottom\" text-anchor=\"middle\">0.4</text><line x1=\"66.48923655465954%\" y1=\"33\" x2=\"66.48923655465954%\" y2=\"37\" style=\"stroke:rgb(150,150,150);stroke-width:1\" /><text x=\"66.48923655465954%\" y=\"27\" font-size=\"12px\" fill=\"rgb(120,120,120)\" dominant-baseline=\"bottom\" text-anchor=\"middle\">0.5</text><line x1=\"76.11719484495613%\" y1=\"33\" x2=\"76.11719484495613%\" y2=\"37\" style=\"stroke:rgb(150,150,150);stroke-width:1\" /><text x=\"76.11719484495613%\" y=\"27\" font-size=\"12px\" fill=\"rgb(120,120,120)\" dominant-baseline=\"bottom\" text-anchor=\"middle\">0.6</text><line x1=\"85.74515313525272%\" y1=\"33\" x2=\"85.74515313525272%\" y2=\"37\" style=\"stroke:rgb(150,150,150);stroke-width:1\" /><text x=\"85.74515313525272%\" y=\"27\" font-size=\"12px\" fill=\"rgb(120,120,120)\" dominant-baseline=\"bottom\" text-anchor=\"middle\">0.7</text><line x1=\"28.238666933146334%\" y1=\"33\" x2=\"28.238666933146334%\" y2=\"37\" style=\"stroke:rgb(150,150,150);stroke-width:1\" /><text x=\"28.238666933146334%\" y=\"27\" font-size=\"13px\" style=\"stroke:#ffffff;stroke-width:8px;\" fill=\"rgb(255,255,255)\" dominant-baseline=\"bottom\" text-anchor=\"middle\">0.102714</text><text x=\"28.238666933146334%\" y=\"27\" font-size=\"12px\" fill=\"rgb(120,120,120)\" dominant-baseline=\"bottom\" text-anchor=\"middle\">0.102714</text><text x=\"28.238666933146334%\" y=\"10\" font-size=\"12px\" fill=\"rgb(120,120,120)\" dominant-baseline=\"bottom\" text-anchor=\"middle\">base value</text><line x1=\"38.05362985134169%\" y1=\"33\" x2=\"38.05362985134169%\" y2=\"37\" style=\"stroke:rgb(150,150,150);stroke-width:1\" /><text x=\"38.05362985134169%\" y=\"27\" font-size=\"13px\" style=\"stroke:#ffffff;stroke-width:8px;\" font-weight=\"bold\" fill=\"rgb(255,255,255)\" dominant-baseline=\"bottom\" text-anchor=\"middle\">0.204656</text><text x=\"38.05362985134169%\" y=\"27\" font-size=\"13px\" font-weight=\"bold\" fill=\"rgb(0,0,0)\" dominant-baseline=\"bottom\" text-anchor=\"middle\">0.204656</text><text x=\"38.05362985134169%\" y=\"10\" font-size=\"12px\" fill=\"rgb(120,120,120)\" dominant-baseline=\"bottom\" text-anchor=\"middle\">f<tspan baseline-shift=\"sub\" font-size=\"8px\">negative</tspan>(inputs)</text><rect x=\"5.5243580653740025%\" width=\"32.52927178596769%\" y=\"40\" height=\"18\" style=\"fill:rgb(255.0, 0.0, 81.08083606031792); stroke-width:0; stroke:rgb(0,0,0)\" /><line x1=\"17.947304595151195%\" x2=\"38.05362985134169%\" y1=\"60\" y2=\"60\" id=\"_fb_hbhdpygdmpypasdmyzym_ind_4\" style=\"stroke:rgb(255.0, 0.0, 81.08083606031792);stroke-width:2; opacity: 0\"/><text x=\"28.000467223246442%\" y=\"71\" font-size=\"12px\" id=\"_fs_hbhdpygdmpypasdmyzym_ind_4\" fill=\"rgb(255.0, 0.0, 81.08083606031792)\" style=\"opacity: 0\" dominant-baseline=\"middle\" text-anchor=\"middle\">0.209</text><svg x=\"17.947304595151195%\" y=\"40\" height=\"20\" width=\"20.106325256190495%\">  <svg x=\"0\" y=\"0\" width=\"100%\" height=\"100%\">    <text x=\"50%\" y=\"9\" font-size=\"12px\" fill=\"rgb(255,255,255)\" dominant-baseline=\"middle\" text-anchor=\"middle\">disappointed</text>  </svg></svg><line x1=\"13.459859431181878%\" x2=\"17.947304595151195%\" y1=\"60\" y2=\"60\" id=\"_fb_hbhdpygdmpypasdmyzym_ind_8\" style=\"stroke:rgb(255.0, 0.0, 81.08083606031792);stroke-width:2; opacity: 0\"/><text x=\"15.703582013166535%\" y=\"71\" font-size=\"12px\" id=\"_fs_hbhdpygdmpypasdmyzym_ind_8\" fill=\"rgb(255.0, 0.0, 81.08083606031792)\" style=\"opacity: 0\" dominant-baseline=\"middle\" text-anchor=\"middle\">0.047</text><svg x=\"13.459859431181878%\" y=\"40\" height=\"20\" width=\"4.487445163969317%\">  <svg x=\"0\" y=\"0\" width=\"100%\" height=\"100%\">    <text x=\"50%\" y=\"9\" font-size=\"12px\" fill=\"rgb(255,255,255)\" dominant-baseline=\"middle\" text-anchor=\"middle\">.</text>  </svg></svg><line x1=\"9.700557795692989%\" x2=\"13.459859431181878%\" y1=\"60\" y2=\"60\" id=\"_fb_hbhdpygdmpypasdmyzym_ind_1\" style=\"stroke:rgb(255.0, 0.0, 81.08083606031792);stroke-width:2; opacity: 0\"/><text x=\"11.580208613437433%\" y=\"71\" font-size=\"12px\" id=\"_fs_hbhdpygdmpypasdmyzym_ind_1\" fill=\"rgb(255.0, 0.0, 81.08083606031792)\" style=\"opacity: 0\" dominant-baseline=\"middle\" text-anchor=\"middle\">0.039</text><svg x=\"9.700557795692989%\" y=\"40\" height=\"20\" width=\"3.759301635488889%\">  <svg x=\"0\" y=\"0\" width=\"100%\" height=\"100%\">    <text x=\"50%\" y=\"9\" font-size=\"12px\" fill=\"rgb(255,255,255)\" dominant-baseline=\"middle\" text-anchor=\"middle\">I</text>  </svg></svg><line x1=\"8.005697239279382%\" x2=\"9.700557795692989%\" y1=\"60\" y2=\"60\" id=\"_fb_hbhdpygdmpypasdmyzym_ind_5\" style=\"stroke:rgb(255.0, 0.0, 81.08083606031792);stroke-width:2; opacity: 0\"/><text x=\"8.853127517486186%\" y=\"71\" font-size=\"12px\" id=\"_fs_hbhdpygdmpypasdmyzym_ind_5\" fill=\"rgb(255.0, 0.0, 81.08083606031792)\" style=\"opacity: 0\" dominant-baseline=\"middle\" text-anchor=\"middle\">0.018</text><svg x=\"8.005697239279382%\" y=\"40\" height=\"20\" width=\"1.694860556413607%\">  <svg x=\"0\" y=\"0\" width=\"100%\" height=\"100%\">    <text x=\"50%\" y=\"9\" font-size=\"12px\" fill=\"rgb(255,255,255)\" dominant-baseline=\"middle\" text-anchor=\"middle\">with</text>  </svg></svg><line x1=\"6.356106476950677%\" x2=\"8.005697239279382%\" y1=\"60\" y2=\"60\" id=\"_fb_hbhdpygdmpypasdmyzym_ind_7\" style=\"stroke:rgb(255.0, 0.0, 81.08083606031792);stroke-width:2; opacity: 0\"/><text x=\"7.180901858115029%\" y=\"71\" font-size=\"12px\" id=\"_fs_hbhdpygdmpypasdmyzym_ind_7\" fill=\"rgb(255.0, 0.0, 81.08083606031792)\" style=\"opacity: 0\" dominant-baseline=\"middle\" text-anchor=\"middle\">0.017</text><svg x=\"6.356106476950677%\" y=\"40\" height=\"20\" width=\"1.649590762328705%\">  <svg x=\"0\" y=\"0\" width=\"100%\" height=\"100%\">    <text x=\"50%\" y=\"9\" font-size=\"12px\" fill=\"rgb(255,255,255)\" dominant-baseline=\"middle\" text-anchor=\"middle\">result</text>  </svg></svg><line x1=\"5.5243580653740025%\" x2=\"6.356106476950677%\" y1=\"60\" y2=\"60\" id=\"_fb_hbhdpygdmpypasdmyzym_ind_6\" style=\"stroke:rgb(255.0, 0.0, 81.08083606031792);stroke-width:2; opacity: 0\"/><text x=\"5.94023227116234%\" y=\"71\" font-size=\"12px\" id=\"_fs_hbhdpygdmpypasdmyzym_ind_6\" fill=\"rgb(255.0, 0.0, 81.08083606031792)\" style=\"opacity: 0\" dominant-baseline=\"middle\" text-anchor=\"middle\">0.009</text><svg x=\"5.5243580653740025%\" y=\"40\" height=\"20\" width=\"0.8317484115766742%\">  <svg x=\"0\" y=\"0\" width=\"100%\" height=\"100%\">    <text x=\"50%\" y=\"9\" font-size=\"12px\" fill=\"rgb(255,255,255)\" dominant-baseline=\"middle\" text-anchor=\"middle\">the</text>  </svg></svg><g transform=\"translate(0,0)\">  <svg x=\"17.947304595151195%\" y=\"40\" height=\"18\" overflow=\"visible\" width=\"30\">    <path d=\"M 0 -9 l 6 18 L 0 25\" fill=\"none\" style=\"stroke:rgb(255.0, 0.0, 81.08083606031792);stroke-width:2\" />  </svg></g><g transform=\"translate(2,0)\">  <svg x=\"17.947304595151195%\" y=\"40\" height=\"18\" overflow=\"visible\" width=\"30\">    <path d=\"M 0 -9 l 6 18 L 0 25\" fill=\"none\" style=\"stroke:rgb(255.0, 0.0, 81.08083606031792);stroke-width:2\" />  </svg></g><g transform=\"translate(4,0)\">  <svg x=\"17.947304595151195%\" y=\"40\" height=\"18\" overflow=\"visible\" width=\"30\">    <path d=\"M 0 -9 l 6 18 L 0 25\" fill=\"none\" style=\"stroke:rgb(255.0, 0.0, 81.08083606031792);stroke-width:2\" />  </svg></g><g transform=\"translate(6,0)\">  <svg x=\"17.947304595151195%\" y=\"40\" height=\"18\" overflow=\"visible\" width=\"30\">    <path d=\"M 0 -9 l 6 18 L 0 25\" fill=\"none\" style=\"stroke:rgb(255.0, 0.0, 81.08083606031792);stroke-width:2\" />  </svg></g><g transform=\"translate(-8,0)\">  <svg x=\"17.947304595151195%\" y=\"40\" height=\"18\" overflow=\"visible\" width=\"30\">    <path d=\"M 0 -9 l 6 18 L 0 25\" fill=\"none\" style=\"stroke:rgb(255.0, 0.0, 81.08083606031792);stroke-width:2\" />  </svg></g><g transform=\"translate(-6,0)\">  <svg x=\"17.947304595151195%\" y=\"40\" height=\"18\" overflow=\"visible\" width=\"30\">    <path d=\"M 0 -9 l 6 18 L 0 25\" fill=\"none\" style=\"stroke:rgb(255.0, 0.0, 81.08083606031792);stroke-width:2\" />  </svg></g><g transform=\"translate(-4,0)\">  <svg x=\"17.947304595151195%\" y=\"40\" height=\"18\" overflow=\"visible\" width=\"30\">    <path d=\"M 0 -9 l 6 18 L 0 25\" fill=\"none\" style=\"stroke:rgb(255.0, 0.0, 81.08083606031792);stroke-width:2\" />  </svg></g><g transform=\"translate(-2,0)\">  <svg x=\"17.947304595151195%\" y=\"40\" height=\"18\" overflow=\"visible\" width=\"30\">    <path d=\"M 0 -9 l 6 18 L 0 25\" fill=\"none\" style=\"stroke:rgb(255.0, 0.0, 81.08083606031792);stroke-width:2\" />  </svg></g><g transform=\"translate(0,0)\">  <svg x=\"13.459859431181878%\" y=\"40\" height=\"18\" overflow=\"visible\" width=\"30\">    <path d=\"M 0 -9 l 6 18 L 0 25\" fill=\"none\" style=\"stroke:rgb(255.0, 0.0, 81.08083606031792);stroke-width:2\" />  </svg></g><g transform=\"translate(2,0)\">  <svg x=\"13.459859431181878%\" y=\"40\" height=\"18\" overflow=\"visible\" width=\"30\">    <path d=\"M 0 -9 l 6 18 L 0 25\" fill=\"none\" style=\"stroke:rgb(255.0, 0.0, 81.08083606031792);stroke-width:2\" />  </svg></g><g transform=\"translate(4,0)\">  <svg x=\"13.459859431181878%\" y=\"40\" height=\"18\" overflow=\"visible\" width=\"30\">    <path d=\"M 0 -9 l 6 18 L 0 25\" fill=\"none\" style=\"stroke:rgb(255.0, 0.0, 81.08083606031792);stroke-width:2\" />  </svg></g><g transform=\"translate(6,0)\">  <svg x=\"13.459859431181878%\" y=\"40\" height=\"18\" overflow=\"visible\" width=\"30\">    <path d=\"M 0 -9 l 6 18 L 0 25\" fill=\"none\" style=\"stroke:rgb(255.0, 0.0, 81.08083606031792);stroke-width:2\" />  </svg></g><g transform=\"translate(-8,0)\">  <svg x=\"13.459859431181878%\" y=\"40\" height=\"18\" overflow=\"visible\" width=\"30\">    <path d=\"M 0 -9 l 6 18 L 0 25\" fill=\"none\" style=\"stroke:rgb(255.0, 0.0, 81.08083606031792);stroke-width:2\" />  </svg></g><g transform=\"translate(-6,0)\">  <svg x=\"13.459859431181878%\" y=\"40\" height=\"18\" overflow=\"visible\" width=\"30\">    <path d=\"M 0 -9 l 6 18 L 0 25\" fill=\"none\" style=\"stroke:rgb(255.0, 0.0, 81.08083606031792);stroke-width:2\" />  </svg></g><g transform=\"translate(-4,0)\">  <svg x=\"13.459859431181878%\" y=\"40\" height=\"18\" overflow=\"visible\" width=\"30\">    <path d=\"M 0 -9 l 6 18 L 0 25\" fill=\"none\" style=\"stroke:rgb(255.0, 0.0, 81.08083606031792);stroke-width:2\" />  </svg></g><g transform=\"translate(-2,0)\">  <svg x=\"13.459859431181878%\" y=\"40\" height=\"18\" overflow=\"visible\" width=\"30\">    <path d=\"M 0 -9 l 6 18 L 0 25\" fill=\"none\" style=\"stroke:rgb(255.0, 0.0, 81.08083606031792);stroke-width:2\" />  </svg></g><g transform=\"translate(0,0)\">  <svg x=\"9.700557795692989%\" y=\"40\" height=\"18\" overflow=\"visible\" width=\"30\">    <path d=\"M 0 -9 l 6 18 L 0 25\" fill=\"none\" style=\"stroke:rgb(255.0, 0.0, 81.08083606031792);stroke-width:2\" />  </svg></g><g transform=\"translate(2,0)\">  <svg x=\"9.700557795692989%\" y=\"40\" height=\"18\" overflow=\"visible\" width=\"30\">    <path d=\"M 0 -9 l 6 18 L 0 25\" fill=\"none\" style=\"stroke:rgb(255.0, 0.0, 81.08083606031792);stroke-width:2\" />  </svg></g><g transform=\"translate(4,0)\">  <svg x=\"9.700557795692989%\" y=\"40\" height=\"18\" overflow=\"visible\" width=\"30\">    <path d=\"M 0 -9 l 6 18 L 0 25\" fill=\"none\" style=\"stroke:rgb(255.0, 0.0, 81.08083606031792);stroke-width:2\" />  </svg></g><g transform=\"translate(6,0)\">  <svg x=\"9.700557795692989%\" y=\"40\" height=\"18\" overflow=\"visible\" width=\"30\">    <path d=\"M 0 -9 l 6 18 L 0 25\" fill=\"none\" style=\"stroke:rgb(255.0, 0.0, 81.08083606031792);stroke-width:2\" />  </svg></g><g transform=\"translate(-8,0)\">  <svg x=\"9.700557795692989%\" y=\"40\" height=\"18\" overflow=\"visible\" width=\"30\">    <path d=\"M 0 -9 l 6 18 L 0 25\" fill=\"none\" style=\"stroke:rgb(255.0, 0.0, 81.08083606031792);stroke-width:2\" />  </svg></g><g transform=\"translate(-6,0)\">  <svg x=\"9.700557795692989%\" y=\"40\" height=\"18\" overflow=\"visible\" width=\"30\">    <path d=\"M 0 -9 l 6 18 L 0 25\" fill=\"none\" style=\"stroke:rgb(255.0, 0.0, 81.08083606031792);stroke-width:2\" />  </svg></g><g transform=\"translate(-4,0)\">  <svg x=\"9.700557795692989%\" y=\"40\" height=\"18\" overflow=\"visible\" width=\"30\">    <path d=\"M 0 -9 l 6 18 L 0 25\" fill=\"none\" style=\"stroke:rgb(255.0, 0.0, 81.08083606031792);stroke-width:2\" />  </svg></g><g transform=\"translate(-2,0)\">  <svg x=\"9.700557795692989%\" y=\"40\" height=\"18\" overflow=\"visible\" width=\"30\">    <path d=\"M 0 -9 l 6 18 L 0 25\" fill=\"none\" style=\"stroke:rgb(255.0, 0.0, 81.08083606031792);stroke-width:2\" />  </svg></g><g transform=\"translate(0,0)\">  <svg x=\"8.005697239279382%\" y=\"40\" height=\"18\" overflow=\"visible\" width=\"30\">    <path d=\"M 0 -9 l 6 18 L 0 25\" fill=\"none\" style=\"stroke:rgb(255.0, 0.0, 81.08083606031792);stroke-width:2\" />  </svg></g><g transform=\"translate(2,0)\">  <svg x=\"8.005697239279382%\" y=\"40\" height=\"18\" overflow=\"visible\" width=\"30\">    <path d=\"M 0 -9 l 6 18 L 0 25\" fill=\"none\" style=\"stroke:rgb(255.0, 0.0, 81.08083606031792);stroke-width:2\" />  </svg></g><g transform=\"translate(4,0)\">  <svg x=\"8.005697239279382%\" y=\"40\" height=\"18\" overflow=\"visible\" width=\"30\">    <path d=\"M 0 -9 l 6 18 L 0 25\" fill=\"none\" style=\"stroke:rgb(255.0, 0.0, 81.08083606031792);stroke-width:2\" />  </svg></g><g transform=\"translate(6,0)\">  <svg x=\"8.005697239279382%\" y=\"40\" height=\"18\" overflow=\"visible\" width=\"30\">    <path d=\"M 0 -9 l 6 18 L 0 25\" fill=\"none\" style=\"stroke:rgb(255.0, 0.0, 81.08083606031792);stroke-width:2\" />  </svg></g><g transform=\"translate(-8,0)\">  <svg x=\"8.005697239279382%\" y=\"40\" height=\"18\" overflow=\"visible\" width=\"30\">    <path d=\"M 0 -9 l 6 18 L 0 25\" fill=\"none\" style=\"stroke:rgb(255.0, 0.0, 81.08083606031792);stroke-width:2\" />  </svg></g><g transform=\"translate(-6,0)\">  <svg x=\"8.005697239279382%\" y=\"40\" height=\"18\" overflow=\"visible\" width=\"30\">    <path d=\"M 0 -9 l 6 18 L 0 25\" fill=\"none\" style=\"stroke:rgb(255.0, 0.0, 81.08083606031792);stroke-width:2\" />  </svg></g><g transform=\"translate(-4,0)\">  <svg x=\"8.005697239279382%\" y=\"40\" height=\"18\" overflow=\"visible\" width=\"30\">    <path d=\"M 0 -9 l 6 18 L 0 25\" fill=\"none\" style=\"stroke:rgb(255.0, 0.0, 81.08083606031792);stroke-width:2\" />  </svg></g><g transform=\"translate(-2,0)\">  <svg x=\"8.005697239279382%\" y=\"40\" height=\"18\" overflow=\"visible\" width=\"30\">    <path d=\"M 0 -9 l 6 18 L 0 25\" fill=\"none\" style=\"stroke:rgb(255.0, 0.0, 81.08083606031792);stroke-width:2\" />  </svg></g><g transform=\"translate(0,0)\">  <svg x=\"6.356106476950677%\" y=\"40\" height=\"18\" overflow=\"visible\" width=\"30\">    <path d=\"M 0 -9 l 6 18 L 0 25\" fill=\"none\" style=\"stroke:rgb(255.0, 0.0, 81.08083606031792);stroke-width:2\" />  </svg></g><g transform=\"translate(2,0)\">  <svg x=\"6.356106476950677%\" y=\"40\" height=\"18\" overflow=\"visible\" width=\"30\">    <path d=\"M 0 -9 l 6 18 L 0 25\" fill=\"none\" style=\"stroke:rgb(255.0, 0.0, 81.08083606031792);stroke-width:2\" />  </svg></g><g transform=\"translate(4,0)\">  <svg x=\"6.356106476950677%\" y=\"40\" height=\"18\" overflow=\"visible\" width=\"30\">    <path d=\"M 0 -9 l 6 18 L 0 25\" fill=\"none\" style=\"stroke:rgb(255.0, 0.0, 81.08083606031792);stroke-width:2\" />  </svg></g><g transform=\"translate(6,0)\">  <svg x=\"6.356106476950677%\" y=\"40\" height=\"18\" overflow=\"visible\" width=\"30\">    <path d=\"M 0 -9 l 6 18 L 0 25\" fill=\"none\" style=\"stroke:rgb(255.0, 0.0, 81.08083606031792);stroke-width:2\" />  </svg></g><g transform=\"translate(-8,0)\">  <svg x=\"6.356106476950677%\" y=\"40\" height=\"18\" overflow=\"visible\" width=\"30\">    <path d=\"M 0 -9 l 6 18 L 0 25\" fill=\"none\" style=\"stroke:rgb(255.0, 0.0, 81.08083606031792);stroke-width:2\" />  </svg></g><g transform=\"translate(-6,0)\">  <svg x=\"6.356106476950677%\" y=\"40\" height=\"18\" overflow=\"visible\" width=\"30\">    <path d=\"M 0 -9 l 6 18 L 0 25\" fill=\"none\" style=\"stroke:rgb(255.0, 0.0, 81.08083606031792);stroke-width:2\" />  </svg></g><g transform=\"translate(-4,0)\">  <svg x=\"6.356106476950677%\" y=\"40\" height=\"18\" overflow=\"visible\" width=\"30\">    <path d=\"M 0 -9 l 6 18 L 0 25\" fill=\"none\" style=\"stroke:rgb(255.0, 0.0, 81.08083606031792);stroke-width:2\" />  </svg></g><g transform=\"translate(-2,0)\">  <svg x=\"6.356106476950677%\" y=\"40\" height=\"18\" overflow=\"visible\" width=\"30\">    <path d=\"M 0 -9 l 6 18 L 0 25\" fill=\"none\" style=\"stroke:rgb(255.0, 0.0, 81.08083606031792);stroke-width:2\" />  </svg></g><rect transform=\"translate(-8,0)\" x=\"38.05362985134169%\" y=\"40\" width=\"8\" height=\"18\" style=\"fill:rgb(255.0, 0.0, 81.08083606031792)\"/><g transform=\"translate(-11.5,0)\">  <svg x=\"5.5243580653740025%\" y=\"40\" height=\"18\" overflow=\"visible\" width=\"30\">    <path d=\"M 10 -9 l 6 18 L 10 25 L 0 25 L 0 -9\" fill=\"#ffffff\" style=\"stroke:rgb(255,255,255);stroke-width:2\" />  </svg></g><g transform=\"translate(-1.5,0)\">  <svg x=\"38.05362985134169%\" y=\"40\" height=\"18\" overflow=\"visible\" width=\"30\">    <path d=\"M 0 -9 l 6 18 L 0 25\" fill=\"none\" style=\"stroke:rgb(255, 195, 213);stroke-width:2\" />  </svg></g><rect x=\"17.947304595151195%\" y=\"40\" height=\"20\" width=\"20.106325256190495%\"      onmouseover=\"document.getElementById('_tp_hbhdpygdmpypasdmyzym_ind_4').style.textDecoration = 'underline';document.getElementById('_fs_hbhdpygdmpypasdmyzym_ind_4').style.opacity = 1;document.getElementById('_fb_hbhdpygdmpypasdmyzym_ind_4').style.opacity = 1;\"      onmouseout=\"document.getElementById('_tp_hbhdpygdmpypasdmyzym_ind_4').style.textDecoration = 'none';document.getElementById('_fs_hbhdpygdmpypasdmyzym_ind_4').style.opacity = 0;document.getElementById('_fb_hbhdpygdmpypasdmyzym_ind_4').style.opacity = 0;\" style=\"fill:rgb(0,0,0,0)\" /><g transform=\"translate(-1.5,0)\">  <svg x=\"17.947304595151195%\" y=\"40\" height=\"18\" overflow=\"visible\" width=\"30\">    <path d=\"M 0 -9 l 6 18 L 0 25\" fill=\"none\" style=\"stroke:rgb(255, 195, 213);stroke-width:2\" />  </svg></g><rect x=\"13.459859431181878%\" y=\"40\" height=\"20\" width=\"4.487445163969317%\"      onmouseover=\"document.getElementById('_tp_hbhdpygdmpypasdmyzym_ind_8').style.textDecoration = 'underline';document.getElementById('_fs_hbhdpygdmpypasdmyzym_ind_8').style.opacity = 1;document.getElementById('_fb_hbhdpygdmpypasdmyzym_ind_8').style.opacity = 1;\"      onmouseout=\"document.getElementById('_tp_hbhdpygdmpypasdmyzym_ind_8').style.textDecoration = 'none';document.getElementById('_fs_hbhdpygdmpypasdmyzym_ind_8').style.opacity = 0;document.getElementById('_fb_hbhdpygdmpypasdmyzym_ind_8').style.opacity = 0;\" style=\"fill:rgb(0,0,0,0)\" /><g transform=\"translate(-1.5,0)\">  <svg x=\"13.459859431181878%\" y=\"40\" height=\"18\" overflow=\"visible\" width=\"30\">    <path d=\"M 0 -9 l 6 18 L 0 25\" fill=\"none\" style=\"stroke:rgb(255, 195, 213);stroke-width:2\" />  </svg></g><rect x=\"9.700557795692989%\" y=\"40\" height=\"20\" width=\"3.759301635488889%\"      onmouseover=\"document.getElementById('_tp_hbhdpygdmpypasdmyzym_ind_1').style.textDecoration = 'underline';document.getElementById('_fs_hbhdpygdmpypasdmyzym_ind_1').style.opacity = 1;document.getElementById('_fb_hbhdpygdmpypasdmyzym_ind_1').style.opacity = 1;\"      onmouseout=\"document.getElementById('_tp_hbhdpygdmpypasdmyzym_ind_1').style.textDecoration = 'none';document.getElementById('_fs_hbhdpygdmpypasdmyzym_ind_1').style.opacity = 0;document.getElementById('_fb_hbhdpygdmpypasdmyzym_ind_1').style.opacity = 0;\" style=\"fill:rgb(0,0,0,0)\" /><g transform=\"translate(-1.5,0)\">  <svg x=\"9.700557795692989%\" y=\"40\" height=\"18\" overflow=\"visible\" width=\"30\">    <path d=\"M 0 -9 l 6 18 L 0 25\" fill=\"none\" style=\"stroke:rgb(255, 195, 213);stroke-width:2\" />  </svg></g><rect x=\"8.005697239279382%\" y=\"40\" height=\"20\" width=\"1.694860556413607%\"      onmouseover=\"document.getElementById('_tp_hbhdpygdmpypasdmyzym_ind_5').style.textDecoration = 'underline';document.getElementById('_fs_hbhdpygdmpypasdmyzym_ind_5').style.opacity = 1;document.getElementById('_fb_hbhdpygdmpypasdmyzym_ind_5').style.opacity = 1;\"      onmouseout=\"document.getElementById('_tp_hbhdpygdmpypasdmyzym_ind_5').style.textDecoration = 'none';document.getElementById('_fs_hbhdpygdmpypasdmyzym_ind_5').style.opacity = 0;document.getElementById('_fb_hbhdpygdmpypasdmyzym_ind_5').style.opacity = 0;\" style=\"fill:rgb(0,0,0,0)\" /><g transform=\"translate(-1.5,0)\">  <svg x=\"8.005697239279382%\" y=\"40\" height=\"18\" overflow=\"visible\" width=\"30\">    <path d=\"M 0 -9 l 6 18 L 0 25\" fill=\"none\" style=\"stroke:rgb(255, 195, 213);stroke-width:2\" />  </svg></g><rect x=\"6.356106476950677%\" y=\"40\" height=\"20\" width=\"1.649590762328705%\"      onmouseover=\"document.getElementById('_tp_hbhdpygdmpypasdmyzym_ind_7').style.textDecoration = 'underline';document.getElementById('_fs_hbhdpygdmpypasdmyzym_ind_7').style.opacity = 1;document.getElementById('_fb_hbhdpygdmpypasdmyzym_ind_7').style.opacity = 1;\"      onmouseout=\"document.getElementById('_tp_hbhdpygdmpypasdmyzym_ind_7').style.textDecoration = 'none';document.getElementById('_fs_hbhdpygdmpypasdmyzym_ind_7').style.opacity = 0;document.getElementById('_fb_hbhdpygdmpypasdmyzym_ind_7').style.opacity = 0;\" style=\"fill:rgb(0,0,0,0)\" /><rect x=\"5.5243580653740025%\" y=\"40\" height=\"20\" width=\"0.8317484115766742%\"      onmouseover=\"document.getElementById('_tp_hbhdpygdmpypasdmyzym_ind_6').style.textDecoration = 'underline';document.getElementById('_fs_hbhdpygdmpypasdmyzym_ind_6').style.opacity = 1;document.getElementById('_fb_hbhdpygdmpypasdmyzym_ind_6').style.opacity = 1;\"      onmouseout=\"document.getElementById('_tp_hbhdpygdmpypasdmyzym_ind_6').style.textDecoration = 'none';document.getElementById('_fs_hbhdpygdmpypasdmyzym_ind_6').style.opacity = 0;document.getElementById('_fb_hbhdpygdmpypasdmyzym_ind_6').style.opacity = 0;\" style=\"fill:rgb(0,0,0,0)\" /><rect x=\"38.05362985134169%\" width=\"22.714308867772335%\" y=\"40\" height=\"18\" style=\"fill:rgb(0.0, 138.56128015770724, 250.76166088685727); stroke-width:0; stroke:rgb(0,0,0)\" /><line x1=\"38.05362985134169%\" x2=\"58.80882379998384%\" y1=\"60\" y2=\"60\" id=\"_fb_hbhdpygdmpypasdmyzym_ind_3\" style=\"stroke:rgb(0.0, 138.56128015770724, 250.76166088685727);stroke-width:2; opacity: 0\"/><text x=\"48.43122682566276%\" y=\"71\" font-size=\"12px\" fill=\"rgb(0.0, 138.56128015770724, 250.76166088685727)\" id=\"_fs_hbhdpygdmpypasdmyzym_ind_3\" style=\"opacity: 0\" dominant-baseline=\"middle\" text-anchor=\"middle\">-0.216</text><svg x=\"38.05362985134169%\" y=\"40\" height=\"20\" width=\"20.75519394864215%\">  <svg x=\"0\" y=\"0\" width=\"100%\" height=\"100%\">    <text x=\"50%\" y=\"9\" font-size=\"12px\" fill=\"rgb(255,255,255)\" dominant-baseline=\"middle\" text-anchor=\"middle\">not</text>  </svg></svg><line x1=\"58.80882379998384%\" x2=\"60.76793871911402%\" y1=\"60\" y2=\"60\" id=\"_fb_hbhdpygdmpypasdmyzym_ind_2\" style=\"stroke:rgb(0.0, 138.56128015770724, 250.76166088685727);stroke-width:2; opacity: 0\"/><text x=\"59.78838125954893%\" y=\"71\" font-size=\"12px\" fill=\"rgb(0.0, 138.56128015770724, 250.76166088685727)\" id=\"_fs_hbhdpygdmpypasdmyzym_ind_2\" style=\"opacity: 0\" dominant-baseline=\"middle\" text-anchor=\"middle\">-0.02</text><svg x=\"58.80882379998384%\" y=\"40\" height=\"20\" width=\"1.9591149191301795%\">  <svg x=\"0\" y=\"0\" width=\"100%\" height=\"100%\">    <text x=\"50%\" y=\"9\" font-size=\"12px\" fill=\"rgb(255,255,255)\" dominant-baseline=\"middle\" text-anchor=\"middle\">was</text>  </svg></svg><g transform=\"translate(-8,0)\">  <svg x=\"58.80882379998384%\" y=\"40\" height=\"18\" overflow=\"visible\" width=\"30\">    <path d=\"M 8 -9 l -6 18 L 8 25\" fill=\"none\" style=\"stroke:rgb(0.0, 138.56128015770724, 250.76166088685727);stroke-width:2\" />  </svg></g><g transform=\"translate(-10,0)\">  <svg x=\"58.80882379998384%\" y=\"40\" height=\"18\" overflow=\"visible\" width=\"30\">    <path d=\"M 8 -9 l -6 18 L 8 25\" fill=\"none\" style=\"stroke:rgb(0.0, 138.56128015770724, 250.76166088685727);stroke-width:2\" />  </svg></g><g transform=\"translate(-12,0)\">  <svg x=\"58.80882379998384%\" y=\"40\" height=\"18\" overflow=\"visible\" width=\"30\">    <path d=\"M 8 -9 l -6 18 L 8 25\" fill=\"none\" style=\"stroke:rgb(0.0, 138.56128015770724, 250.76166088685727);stroke-width:2\" />  </svg></g><g transform=\"translate(-14,0)\">  <svg x=\"58.80882379998384%\" y=\"40\" height=\"18\" overflow=\"visible\" width=\"30\">    <path d=\"M 8 -9 l -6 18 L 8 25\" fill=\"none\" style=\"stroke:rgb(0.0, 138.56128015770724, 250.76166088685727);stroke-width:2\" />  </svg></g><g transform=\"translate(2,0)\">  <svg x=\"58.80882379998384%\" y=\"40\" height=\"18\" overflow=\"visible\" width=\"30\">    <path d=\"M 8 -9 l -6 18 L 8 25\" fill=\"none\" style=\"stroke:rgb(0.0, 138.56128015770724, 250.76166088685727);stroke-width:2\" />  </svg></g><g transform=\"translate(0,0)\">  <svg x=\"58.80882379998384%\" y=\"40\" height=\"18\" overflow=\"visible\" width=\"30\">    <path d=\"M 8 -9 l -6 18 L 8 25\" fill=\"none\" style=\"stroke:rgb(0.0, 138.56128015770724, 250.76166088685727);stroke-width:2\" />  </svg></g><g transform=\"translate(-2,0)\">  <svg x=\"58.80882379998384%\" y=\"40\" height=\"18\" overflow=\"visible\" width=\"30\">    <path d=\"M 8 -9 l -6 18 L 8 25\" fill=\"none\" style=\"stroke:rgb(0.0, 138.56128015770724, 250.76166088685727);stroke-width:2\" />  </svg></g><g transform=\"translate(-4,0)\">  <svg x=\"58.80882379998384%\" y=\"40\" height=\"18\" overflow=\"visible\" width=\"30\">    <path d=\"M 8 -9 l -6 18 L 8 25\" fill=\"none\" style=\"stroke:rgb(0.0, 138.56128015770724, 250.76166088685727);stroke-width:2\" />  </svg></g><rect transform=\"translate(0,0)\" x=\"38.05362985134169%\" y=\"40\" width=\"8\" height=\"18\" style=\"fill:rgb(0.0, 138.56128015770724, 250.76166088685727)\"/><g transform=\"translate(-6.0,0)\">  <svg x=\"60.76793871911402%\" y=\"40\" height=\"18\" overflow=\"visible\" width=\"30\">    <path d=\"M 8 -9 l -6 18 L 8 25 L 20 25 L 20 -9\" fill=\"#ffffff\" style=\"stroke:rgb(255,255,255);stroke-width:2\" />  </svg></g><g transform=\"translate(-6.0,0)\">  <svg x=\"58.80882379998384%\" y=\"40\" height=\"18\" overflow=\"visible\" width=\"30\">    <path d=\"M 8 -9 l -6 18 L 8 25\" fill=\"none\" style=\"stroke:rgb(208, 230, 250);stroke-width:2\" />  </svg></g><rect x=\"38.05362985134169%\" y=\"40\" height=\"20\" width=\"20.75519394864215%\"      onmouseover=\"document.getElementById('_tp_hbhdpygdmpypasdmyzym_ind_3').style.textDecoration = 'underline';document.getElementById('_fs_hbhdpygdmpypasdmyzym_ind_3').style.opacity = 1;document.getElementById('_fb_hbhdpygdmpypasdmyzym_ind_3').style.opacity = 1;\"      onmouseout=\"document.getElementById('_tp_hbhdpygdmpypasdmyzym_ind_3').style.textDecoration = 'none';document.getElementById('_fs_hbhdpygdmpypasdmyzym_ind_3').style.opacity = 0;document.getElementById('_fb_hbhdpygdmpypasdmyzym_ind_3').style.opacity = 0;\" style=\"fill:rgb(0,0,0,0)\" /><rect x=\"58.80882379998384%\" y=\"40\" height=\"20\" width=\"1.9591149191301795%\"      onmouseover=\"document.getElementById('_tp_hbhdpygdmpypasdmyzym_ind_2').style.textDecoration = 'underline';document.getElementById('_fs_hbhdpygdmpypasdmyzym_ind_2').style.opacity = 1;document.getElementById('_fb_hbhdpygdmpypasdmyzym_ind_2').style.opacity = 1;\"      onmouseout=\"document.getElementById('_tp_hbhdpygdmpypasdmyzym_ind_2').style.textDecoration = 'none';document.getElementById('_fs_hbhdpygdmpypasdmyzym_ind_2').style.opacity = 0;document.getElementById('_fb_hbhdpygdmpypasdmyzym_ind_2').style.opacity = 0;\" style=\"fill:rgb(0,0,0,0)\" /></svg><div align='center'><div style=\"color: rgb(120,120,120); font-size: 12px; margin-top: -15px;\">inputs</div><div style='display: inline; text-align: center;'\n",
       "    ><div style='display: none; color: #999; padding-top: 0px; font-size: 12px;'>0.0</div\n",
       "        ><div id='_tp_hbhdpygdmpypasdmyzym_ind_0'\n",
       "            style='display: inline; background: rgba(230.2941176470614, 26.505882352939775, 102.59215686274348, 0.0); border-radius: 3px; padding: 0px'\n",
       "            onclick=\"\n",
       "            if (this.previousSibling.style.display == 'none') {\n",
       "                this.previousSibling.style.display = 'block';\n",
       "                this.parentNode.style.display = 'inline-block';\n",
       "            } else {\n",
       "                this.previousSibling.style.display = 'none';\n",
       "                this.parentNode.style.display = 'inline';\n",
       "            }\"\n",
       "            onmouseover=\"document.getElementById('_fb_hbhdpygdmpypasdmyzym_ind_0').style.opacity = 1; document.getElementById('_fs_hbhdpygdmpypasdmyzym_ind_0').style.opacity = 1;\"\n",
       "            onmouseout=\"document.getElementById('_fb_hbhdpygdmpypasdmyzym_ind_0').style.opacity = 0; document.getElementById('_fs_hbhdpygdmpypasdmyzym_ind_0').style.opacity = 0;\"\n",
       "        ></div></div><div style='display: inline; text-align: center;'\n",
       "    ><div style='display: none; color: #999; padding-top: 0px; font-size: 12px;'>0.039</div\n",
       "        ><div id='_tp_hbhdpygdmpypasdmyzym_ind_1'\n",
       "            style='display: inline; background: rgba(255.0, 13.0, 87.0, 0.16442859972271742); border-radius: 3px; padding: 0px'\n",
       "            onclick=\"\n",
       "            if (this.previousSibling.style.display == 'none') {\n",
       "                this.previousSibling.style.display = 'block';\n",
       "                this.parentNode.style.display = 'inline-block';\n",
       "            } else {\n",
       "                this.previousSibling.style.display = 'none';\n",
       "                this.parentNode.style.display = 'inline';\n",
       "            }\"\n",
       "            onmouseover=\"document.getElementById('_fb_hbhdpygdmpypasdmyzym_ind_1').style.opacity = 1; document.getElementById('_fs_hbhdpygdmpypasdmyzym_ind_1').style.opacity = 1;\"\n",
       "            onmouseout=\"document.getElementById('_fb_hbhdpygdmpypasdmyzym_ind_1').style.opacity = 0; document.getElementById('_fs_hbhdpygdmpypasdmyzym_ind_1').style.opacity = 0;\"\n",
       "        >I </div></div><div style='display: inline; text-align: center;'\n",
       "    ><div style='display: none; color: #999; padding-top: 0px; font-size: 12px;'>-0.02</div\n",
       "        ><div id='_tp_hbhdpygdmpypasdmyzym_ind_2'\n",
       "            style='display: inline; background: rgba(30.0, 136.0, 229.0, 0.07771836007130117); border-radius: 3px; padding: 0px'\n",
       "            onclick=\"\n",
       "            if (this.previousSibling.style.display == 'none') {\n",
       "                this.previousSibling.style.display = 'block';\n",
       "                this.parentNode.style.display = 'inline-block';\n",
       "            } else {\n",
       "                this.previousSibling.style.display = 'none';\n",
       "                this.parentNode.style.display = 'inline';\n",
       "            }\"\n",
       "            onmouseover=\"document.getElementById('_fb_hbhdpygdmpypasdmyzym_ind_2').style.opacity = 1; document.getElementById('_fs_hbhdpygdmpypasdmyzym_ind_2').style.opacity = 1;\"\n",
       "            onmouseout=\"document.getElementById('_fb_hbhdpygdmpypasdmyzym_ind_2').style.opacity = 0; document.getElementById('_fs_hbhdpygdmpypasdmyzym_ind_2').style.opacity = 0;\"\n",
       "        >was </div></div><div style='display: inline; text-align: center;'\n",
       "    ><div style='display: none; color: #999; padding-top: 0px; font-size: 12px;'>-0.216</div\n",
       "        ><div id='_tp_hbhdpygdmpypasdmyzym_ind_3'\n",
       "            style='display: inline; background: rgba(30.0, 136.0, 229.0, 0.9132897603485839); border-radius: 3px; padding: 0px'\n",
       "            onclick=\"\n",
       "            if (this.previousSibling.style.display == 'none') {\n",
       "                this.previousSibling.style.display = 'block';\n",
       "                this.parentNode.style.display = 'inline-block';\n",
       "            } else {\n",
       "                this.previousSibling.style.display = 'none';\n",
       "                this.parentNode.style.display = 'inline';\n",
       "            }\"\n",
       "            onmouseover=\"document.getElementById('_fb_hbhdpygdmpypasdmyzym_ind_3').style.opacity = 1; document.getElementById('_fs_hbhdpygdmpypasdmyzym_ind_3').style.opacity = 1;\"\n",
       "            onmouseout=\"document.getElementById('_fb_hbhdpygdmpypasdmyzym_ind_3').style.opacity = 0; document.getElementById('_fs_hbhdpygdmpypasdmyzym_ind_3').style.opacity = 0;\"\n",
       "        >not </div></div><div style='display: inline; text-align: center;'\n",
       "    ><div style='display: none; color: #999; padding-top: 0px; font-size: 12px;'>0.209</div\n",
       "        ><div id='_tp_hbhdpygdmpypasdmyzym_ind_4'\n",
       "            style='display: inline; background: rgba(255.0, 13.0, 87.0, 0.8817587641117054); border-radius: 3px; padding: 0px'\n",
       "            onclick=\"\n",
       "            if (this.previousSibling.style.display == 'none') {\n",
       "                this.previousSibling.style.display = 'block';\n",
       "                this.parentNode.style.display = 'inline-block';\n",
       "            } else {\n",
       "                this.previousSibling.style.display = 'none';\n",
       "                this.parentNode.style.display = 'inline';\n",
       "            }\"\n",
       "            onmouseover=\"document.getElementById('_fb_hbhdpygdmpypasdmyzym_ind_4').style.opacity = 1; document.getElementById('_fs_hbhdpygdmpypasdmyzym_ind_4').style.opacity = 1;\"\n",
       "            onmouseout=\"document.getElementById('_fb_hbhdpygdmpypasdmyzym_ind_4').style.opacity = 0; document.getElementById('_fs_hbhdpygdmpypasdmyzym_ind_4').style.opacity = 0;\"\n",
       "        >disappointed </div></div><div style='display: inline; text-align: center;'\n",
       "    ><div style='display: none; color: #999; padding-top: 0px; font-size: 12px;'>0.018</div\n",
       "        ><div id='_tp_hbhdpygdmpypasdmyzym_ind_5'\n",
       "            style='display: inline; background: rgba(255.0, 13.0, 87.0, 0.06983561101208159); border-radius: 3px; padding: 0px'\n",
       "            onclick=\"\n",
       "            if (this.previousSibling.style.display == 'none') {\n",
       "                this.previousSibling.style.display = 'block';\n",
       "                this.parentNode.style.display = 'inline-block';\n",
       "            } else {\n",
       "                this.previousSibling.style.display = 'none';\n",
       "                this.parentNode.style.display = 'inline';\n",
       "            }\"\n",
       "            onmouseover=\"document.getElementById('_fb_hbhdpygdmpypasdmyzym_ind_5').style.opacity = 1; document.getElementById('_fs_hbhdpygdmpypasdmyzym_ind_5').style.opacity = 1;\"\n",
       "            onmouseout=\"document.getElementById('_fb_hbhdpygdmpypasdmyzym_ind_5').style.opacity = 0; document.getElementById('_fs_hbhdpygdmpypasdmyzym_ind_5').style.opacity = 0;\"\n",
       "        >with </div></div><div style='display: inline; text-align: center;'\n",
       "    ><div style='display: none; color: #999; padding-top: 0px; font-size: 12px;'>0.009</div\n",
       "        ><div id='_tp_hbhdpygdmpypasdmyzym_ind_6'\n",
       "            style='display: inline; background: rgba(255.0, 13.0, 87.0, 0.030421865715983164); border-radius: 3px; padding: 0px'\n",
       "            onclick=\"\n",
       "            if (this.previousSibling.style.display == 'none') {\n",
       "                this.previousSibling.style.display = 'block';\n",
       "                this.parentNode.style.display = 'inline-block';\n",
       "            } else {\n",
       "                this.previousSibling.style.display = 'none';\n",
       "                this.parentNode.style.display = 'inline';\n",
       "            }\"\n",
       "            onmouseover=\"document.getElementById('_fb_hbhdpygdmpypasdmyzym_ind_6').style.opacity = 1; document.getElementById('_fs_hbhdpygdmpypasdmyzym_ind_6').style.opacity = 1;\"\n",
       "            onmouseout=\"document.getElementById('_fb_hbhdpygdmpypasdmyzym_ind_6').style.opacity = 0; document.getElementById('_fs_hbhdpygdmpypasdmyzym_ind_6').style.opacity = 0;\"\n",
       "        >the </div></div><div style='display: inline; text-align: center;'\n",
       "    ><div style='display: none; color: #999; padding-top: 0px; font-size: 12px;'>0.017</div\n",
       "        ><div id='_tp_hbhdpygdmpypasdmyzym_ind_7'\n",
       "            style='display: inline; background: rgba(255.0, 13.0, 87.0, 0.06983561101208159); border-radius: 3px; padding: 0px'\n",
       "            onclick=\"\n",
       "            if (this.previousSibling.style.display == 'none') {\n",
       "                this.previousSibling.style.display = 'block';\n",
       "                this.parentNode.style.display = 'inline-block';\n",
       "            } else {\n",
       "                this.previousSibling.style.display = 'none';\n",
       "                this.parentNode.style.display = 'inline';\n",
       "            }\"\n",
       "            onmouseover=\"document.getElementById('_fb_hbhdpygdmpypasdmyzym_ind_7').style.opacity = 1; document.getElementById('_fs_hbhdpygdmpypasdmyzym_ind_7').style.opacity = 1;\"\n",
       "            onmouseout=\"document.getElementById('_fb_hbhdpygdmpypasdmyzym_ind_7').style.opacity = 0; document.getElementById('_fs_hbhdpygdmpypasdmyzym_ind_7').style.opacity = 0;\"\n",
       "        >result</div></div><div style='display: inline; text-align: center;'\n",
       "    ><div style='display: none; color: #999; padding-top: 0px; font-size: 12px;'>0.047</div\n",
       "        ><div id='_tp_hbhdpygdmpypasdmyzym_ind_8'\n",
       "            style='display: inline; background: rgba(255.0, 13.0, 87.0, 0.1959595959595959); border-radius: 3px; padding: 0px'\n",
       "            onclick=\"\n",
       "            if (this.previousSibling.style.display == 'none') {\n",
       "                this.previousSibling.style.display = 'block';\n",
       "                this.parentNode.style.display = 'inline-block';\n",
       "            } else {\n",
       "                this.previousSibling.style.display = 'none';\n",
       "                this.parentNode.style.display = 'inline';\n",
       "            }\"\n",
       "            onmouseover=\"document.getElementById('_fb_hbhdpygdmpypasdmyzym_ind_8').style.opacity = 1; document.getElementById('_fs_hbhdpygdmpypasdmyzym_ind_8').style.opacity = 1;\"\n",
       "            onmouseout=\"document.getElementById('_fb_hbhdpygdmpypasdmyzym_ind_8').style.opacity = 0; document.getElementById('_fs_hbhdpygdmpypasdmyzym_ind_8').style.opacity = 0;\"\n",
       "        >.</div></div><div style='display: inline; text-align: center;'\n",
       "    ><div style='display: none; color: #999; padding-top: 0px; font-size: 12px;'>0.0</div\n",
       "        ><div id='_tp_hbhdpygdmpypasdmyzym_ind_9'\n",
       "            style='display: inline; background: rgba(230.2941176470614, 26.505882352939775, 102.59215686274348, 0.0); border-radius: 3px; padding: 0px'\n",
       "            onclick=\"\n",
       "            if (this.previousSibling.style.display == 'none') {\n",
       "                this.previousSibling.style.display = 'block';\n",
       "                this.parentNode.style.display = 'inline-block';\n",
       "            } else {\n",
       "                this.previousSibling.style.display = 'none';\n",
       "                this.parentNode.style.display = 'inline';\n",
       "            }\"\n",
       "            onmouseover=\"document.getElementById('_fb_hbhdpygdmpypasdmyzym_ind_9').style.opacity = 1; document.getElementById('_fs_hbhdpygdmpypasdmyzym_ind_9').style.opacity = 1;\"\n",
       "            onmouseout=\"document.getElementById('_fb_hbhdpygdmpypasdmyzym_ind_9').style.opacity = 0; document.getElementById('_fs_hbhdpygdmpypasdmyzym_ind_9').style.opacity = 0;\"\n",
       "        ></div></div></div></div><div id='_tp_wsmkdarudluwerjvfalk_output_0_zoom' style='display: none;'><svg width=\"100%\" height=\"80px\"><line x1=\"0\" y1=\"33\" x2=\"100%\" y2=\"33\" style=\"stroke:rgb(150,150,150);stroke-width:1\" /><line x1=\"56.726592623364816%\" y1=\"33\" x2=\"56.726592623364816%\" y2=\"37\" style=\"stroke:rgb(150,150,150);stroke-width:1\" /><text x=\"56.726592623364816%\" y=\"27\" font-size=\"12px\" fill=\"rgb(120,120,120)\" dominant-baseline=\"bottom\" text-anchor=\"middle\">0.2</text><line x1=\"42.203098013176735%\" y1=\"33\" x2=\"42.203098013176735%\" y2=\"37\" style=\"stroke:rgb(150,150,150);stroke-width:1\" /><text x=\"42.203098013176735%\" y=\"27\" font-size=\"12px\" fill=\"rgb(120,120,120)\" dominant-baseline=\"bottom\" text-anchor=\"middle\">0.1</text><line x1=\"27.679603402988675%\" y1=\"33\" x2=\"27.679603402988675%\" y2=\"37\" style=\"stroke:rgb(150,150,150);stroke-width:1\" /><text x=\"27.679603402988675%\" y=\"27\" font-size=\"12px\" fill=\"rgb(120,120,120)\" dominant-baseline=\"bottom\" text-anchor=\"middle\">0</text><line x1=\"13.156108792800604%\" y1=\"33\" x2=\"13.156108792800604%\" y2=\"37\" style=\"stroke:rgb(150,150,150);stroke-width:1\" /><text x=\"13.156108792800604%\" y=\"27\" font-size=\"12px\" fill=\"rgb(120,120,120)\" dominant-baseline=\"bottom\" text-anchor=\"middle\">-0.1</text><line x1=\"71.25008723355286%\" y1=\"33\" x2=\"71.25008723355286%\" y2=\"37\" style=\"stroke:rgb(150,150,150);stroke-width:1\" /><text x=\"71.25008723355286%\" y=\"27\" font-size=\"12px\" fill=\"rgb(120,120,120)\" dominant-baseline=\"bottom\" text-anchor=\"middle\">0.3</text><line x1=\"85.77358184374093%\" y1=\"33\" x2=\"85.77358184374093%\" y2=\"37\" style=\"stroke:rgb(150,150,150);stroke-width:1\" /><text x=\"85.77358184374093%\" y=\"27\" font-size=\"12px\" fill=\"rgb(120,120,120)\" dominant-baseline=\"bottom\" text-anchor=\"middle\">0.4</text><line x1=\"42.5972064519416%\" y1=\"33\" x2=\"42.5972064519416%\" y2=\"37\" style=\"stroke:rgb(150,150,150);stroke-width:1\" /><text x=\"42.5972064519416%\" y=\"27\" font-size=\"13px\" style=\"stroke:#ffffff;stroke-width:8px;\" fill=\"rgb(255,255,255)\" dominant-baseline=\"bottom\" text-anchor=\"middle\">0.102714</text><text x=\"42.5972064519416%\" y=\"27\" font-size=\"12px\" fill=\"rgb(120,120,120)\" dominant-baseline=\"bottom\" text-anchor=\"middle\">0.102714</text><text x=\"42.5972064519416%\" y=\"10\" font-size=\"12px\" fill=\"rgb(120,120,120)\" dominant-baseline=\"bottom\" text-anchor=\"middle\">base value</text><line x1=\"57.40279209570893%\" y1=\"33\" x2=\"57.40279209570893%\" y2=\"37\" style=\"stroke:rgb(150,150,150);stroke-width:1\" /><text x=\"57.40279209570893%\" y=\"27\" font-size=\"13px\" style=\"stroke:#ffffff;stroke-width:8px;\" font-weight=\"bold\" fill=\"rgb(255,255,255)\" dominant-baseline=\"bottom\" text-anchor=\"middle\">0.204656</text><text x=\"57.40279209570893%\" y=\"27\" font-size=\"13px\" font-weight=\"bold\" fill=\"rgb(0,0,0)\" dominant-baseline=\"bottom\" text-anchor=\"middle\">0.204656</text><text x=\"57.40279209570893%\" y=\"10\" font-size=\"12px\" fill=\"rgb(120,120,120)\" dominant-baseline=\"bottom\" text-anchor=\"middle\">f<tspan baseline-shift=\"sub\" font-size=\"8px\">negative</tspan>(inputs)</text><rect x=\"8.333333212304213%\" width=\"49.06945888340472%\" y=\"40\" height=\"18\" style=\"fill:rgb(255.0, 0.0, 81.08083606031792); stroke-width:0; stroke:rgb(0,0,0)\" /><line x1=\"27.072986161332047%\" x2=\"57.40279209570893%\" y1=\"60\" y2=\"60\" id=\"_fb_ktrmbnnafwblamtarrji_ind_4\" style=\"stroke:rgb(255.0, 0.0, 81.08083606031792);stroke-width:2; opacity: 0\"/><text x=\"42.23788912852049%\" y=\"71\" font-size=\"12px\" id=\"_fs_ktrmbnnafwblamtarrji_ind_4\" fill=\"rgb(255.0, 0.0, 81.08083606031792)\" style=\"opacity: 0\" dominant-baseline=\"middle\" text-anchor=\"middle\">0.209</text><svg x=\"27.072986161332047%\" y=\"40\" height=\"20\" width=\"30.329805934376886%\">  <svg x=\"0\" y=\"0\" width=\"100%\" height=\"100%\">    <text x=\"50%\" y=\"9\" font-size=\"12px\" fill=\"rgb(255,255,255)\" dominant-baseline=\"middle\" text-anchor=\"middle\">disappointed</text>  </svg></svg><line x1=\"20.303805854630163%\" x2=\"27.072986161332047%\" y1=\"60\" y2=\"60\" id=\"_fb_ktrmbnnafwblamtarrji_ind_8\" style=\"stroke:rgb(255.0, 0.0, 81.08083606031792);stroke-width:2; opacity: 0\"/><text x=\"23.688396007981105%\" y=\"71\" font-size=\"12px\" id=\"_fs_ktrmbnnafwblamtarrji_ind_8\" fill=\"rgb(255.0, 0.0, 81.08083606031792)\" style=\"opacity: 0\" dominant-baseline=\"middle\" text-anchor=\"middle\">0.047</text><svg x=\"20.303805854630163%\" y=\"40\" height=\"20\" width=\"6.769180306701884%\">  <svg x=\"0\" y=\"0\" width=\"100%\" height=\"100%\">    <text x=\"50%\" y=\"9\" font-size=\"12px\" fill=\"rgb(255,255,255)\" dominant-baseline=\"middle\" text-anchor=\"middle\">.</text>  </svg></svg><line x1=\"14.633008849192352%\" x2=\"20.303805854630163%\" y1=\"60\" y2=\"60\" id=\"_fb_ktrmbnnafwblamtarrji_ind_1\" style=\"stroke:rgb(255.0, 0.0, 81.08083606031792);stroke-width:2; opacity: 0\"/><text x=\"17.468407351911257%\" y=\"71\" font-size=\"12px\" id=\"_fs_ktrmbnnafwblamtarrji_ind_1\" fill=\"rgb(255.0, 0.0, 81.08083606031792)\" style=\"opacity: 0\" dominant-baseline=\"middle\" text-anchor=\"middle\">0.039</text><svg x=\"14.633008849192352%\" y=\"40\" height=\"20\" width=\"5.6707970054378105%\">  <svg x=\"0\" y=\"0\" width=\"100%\" height=\"100%\">    <text x=\"50%\" y=\"9\" font-size=\"12px\" fill=\"rgb(255,255,255)\" dominant-baseline=\"middle\" text-anchor=\"middle\">I</text>  </svg></svg><line x1=\"12.076361072591412%\" x2=\"14.633008849192352%\" y1=\"60\" y2=\"60\" id=\"_fb_ktrmbnnafwblamtarrji_ind_5\" style=\"stroke:rgb(255.0, 0.0, 81.08083606031792);stroke-width:2; opacity: 0\"/><text x=\"13.354684960891882%\" y=\"71\" font-size=\"12px\" id=\"_fs_ktrmbnnafwblamtarrji_ind_5\" fill=\"rgb(255.0, 0.0, 81.08083606031792)\" style=\"opacity: 0\" dominant-baseline=\"middle\" text-anchor=\"middle\">0.018</text><svg x=\"12.076361072591412%\" y=\"40\" height=\"20\" width=\"2.55664777660094%\">  <svg x=\"0\" y=\"0\" width=\"100%\" height=\"100%\">    <text x=\"50%\" y=\"9\" font-size=\"12px\" fill=\"rgb(255,255,255)\" dominant-baseline=\"middle\" text-anchor=\"middle\">with</text>  </svg></svg><line x1=\"9.588001461619424%\" x2=\"12.076361072591412%\" y1=\"60\" y2=\"60\" id=\"_fb_ktrmbnnafwblamtarrji_ind_7\" style=\"stroke:rgb(255.0, 0.0, 81.08083606031792);stroke-width:2; opacity: 0\"/><text x=\"10.832181267105419%\" y=\"71\" font-size=\"12px\" id=\"_fs_ktrmbnnafwblamtarrji_ind_7\" fill=\"rgb(255.0, 0.0, 81.08083606031792)\" style=\"opacity: 0\" dominant-baseline=\"middle\" text-anchor=\"middle\">0.017</text><svg x=\"9.588001461619424%\" y=\"40\" height=\"20\" width=\"2.4883596109719885%\">  <svg x=\"0\" y=\"0\" width=\"100%\" height=\"100%\">    <text x=\"50%\" y=\"9\" font-size=\"12px\" fill=\"rgb(255,255,255)\" dominant-baseline=\"middle\" text-anchor=\"middle\">result</text>  </svg></svg><line x1=\"8.333333212304213%\" x2=\"9.588001461619424%\" y1=\"60\" y2=\"60\" id=\"_fb_ktrmbnnafwblamtarrji_ind_6\" style=\"stroke:rgb(255.0, 0.0, 81.08083606031792);stroke-width:2; opacity: 0\"/><text x=\"8.96066733696182%\" y=\"71\" font-size=\"12px\" id=\"_fs_ktrmbnnafwblamtarrji_ind_6\" fill=\"rgb(255.0, 0.0, 81.08083606031792)\" style=\"opacity: 0\" dominant-baseline=\"middle\" text-anchor=\"middle\">0.009</text><svg x=\"8.333333212304213%\" y=\"40\" height=\"20\" width=\"1.2546682493152108%\">  <svg x=\"0\" y=\"0\" width=\"100%\" height=\"100%\">    <text x=\"50%\" y=\"9\" font-size=\"12px\" fill=\"rgb(255,255,255)\" dominant-baseline=\"middle\" text-anchor=\"middle\">the</text>  </svg></svg><g transform=\"translate(0,0)\">  <svg x=\"27.072986161332047%\" y=\"40\" height=\"18\" overflow=\"visible\" width=\"30\">    <path d=\"M 0 -9 l 6 18 L 0 25\" fill=\"none\" style=\"stroke:rgb(255.0, 0.0, 81.08083606031792);stroke-width:2\" />  </svg></g><g transform=\"translate(2,0)\">  <svg x=\"27.072986161332047%\" y=\"40\" height=\"18\" overflow=\"visible\" width=\"30\">    <path d=\"M 0 -9 l 6 18 L 0 25\" fill=\"none\" style=\"stroke:rgb(255.0, 0.0, 81.08083606031792);stroke-width:2\" />  </svg></g><g transform=\"translate(4,0)\">  <svg x=\"27.072986161332047%\" y=\"40\" height=\"18\" overflow=\"visible\" width=\"30\">    <path d=\"M 0 -9 l 6 18 L 0 25\" fill=\"none\" style=\"stroke:rgb(255.0, 0.0, 81.08083606031792);stroke-width:2\" />  </svg></g><g transform=\"translate(6,0)\">  <svg x=\"27.072986161332047%\" y=\"40\" height=\"18\" overflow=\"visible\" width=\"30\">    <path d=\"M 0 -9 l 6 18 L 0 25\" fill=\"none\" style=\"stroke:rgb(255.0, 0.0, 81.08083606031792);stroke-width:2\" />  </svg></g><g transform=\"translate(-8,0)\">  <svg x=\"27.072986161332047%\" y=\"40\" height=\"18\" overflow=\"visible\" width=\"30\">    <path d=\"M 0 -9 l 6 18 L 0 25\" fill=\"none\" style=\"stroke:rgb(255.0, 0.0, 81.08083606031792);stroke-width:2\" />  </svg></g><g transform=\"translate(-6,0)\">  <svg x=\"27.072986161332047%\" y=\"40\" height=\"18\" overflow=\"visible\" width=\"30\">    <path d=\"M 0 -9 l 6 18 L 0 25\" fill=\"none\" style=\"stroke:rgb(255.0, 0.0, 81.08083606031792);stroke-width:2\" />  </svg></g><g transform=\"translate(-4,0)\">  <svg x=\"27.072986161332047%\" y=\"40\" height=\"18\" overflow=\"visible\" width=\"30\">    <path d=\"M 0 -9 l 6 18 L 0 25\" fill=\"none\" style=\"stroke:rgb(255.0, 0.0, 81.08083606031792);stroke-width:2\" />  </svg></g><g transform=\"translate(-2,0)\">  <svg x=\"27.072986161332047%\" y=\"40\" height=\"18\" overflow=\"visible\" width=\"30\">    <path d=\"M 0 -9 l 6 18 L 0 25\" fill=\"none\" style=\"stroke:rgb(255.0, 0.0, 81.08083606031792);stroke-width:2\" />  </svg></g><g transform=\"translate(0,0)\">  <svg x=\"20.303805854630163%\" y=\"40\" height=\"18\" overflow=\"visible\" width=\"30\">    <path d=\"M 0 -9 l 6 18 L 0 25\" fill=\"none\" style=\"stroke:rgb(255.0, 0.0, 81.08083606031792);stroke-width:2\" />  </svg></g><g transform=\"translate(2,0)\">  <svg x=\"20.303805854630163%\" y=\"40\" height=\"18\" overflow=\"visible\" width=\"30\">    <path d=\"M 0 -9 l 6 18 L 0 25\" fill=\"none\" style=\"stroke:rgb(255.0, 0.0, 81.08083606031792);stroke-width:2\" />  </svg></g><g transform=\"translate(4,0)\">  <svg x=\"20.303805854630163%\" y=\"40\" height=\"18\" overflow=\"visible\" width=\"30\">    <path d=\"M 0 -9 l 6 18 L 0 25\" fill=\"none\" style=\"stroke:rgb(255.0, 0.0, 81.08083606031792);stroke-width:2\" />  </svg></g><g transform=\"translate(6,0)\">  <svg x=\"20.303805854630163%\" y=\"40\" height=\"18\" overflow=\"visible\" width=\"30\">    <path d=\"M 0 -9 l 6 18 L 0 25\" fill=\"none\" style=\"stroke:rgb(255.0, 0.0, 81.08083606031792);stroke-width:2\" />  </svg></g><g transform=\"translate(-8,0)\">  <svg x=\"20.303805854630163%\" y=\"40\" height=\"18\" overflow=\"visible\" width=\"30\">    <path d=\"M 0 -9 l 6 18 L 0 25\" fill=\"none\" style=\"stroke:rgb(255.0, 0.0, 81.08083606031792);stroke-width:2\" />  </svg></g><g transform=\"translate(-6,0)\">  <svg x=\"20.303805854630163%\" y=\"40\" height=\"18\" overflow=\"visible\" width=\"30\">    <path d=\"M 0 -9 l 6 18 L 0 25\" fill=\"none\" style=\"stroke:rgb(255.0, 0.0, 81.08083606031792);stroke-width:2\" />  </svg></g><g transform=\"translate(-4,0)\">  <svg x=\"20.303805854630163%\" y=\"40\" height=\"18\" overflow=\"visible\" width=\"30\">    <path d=\"M 0 -9 l 6 18 L 0 25\" fill=\"none\" style=\"stroke:rgb(255.0, 0.0, 81.08083606031792);stroke-width:2\" />  </svg></g><g transform=\"translate(-2,0)\">  <svg x=\"20.303805854630163%\" y=\"40\" height=\"18\" overflow=\"visible\" width=\"30\">    <path d=\"M 0 -9 l 6 18 L 0 25\" fill=\"none\" style=\"stroke:rgb(255.0, 0.0, 81.08083606031792);stroke-width:2\" />  </svg></g><g transform=\"translate(0,0)\">  <svg x=\"14.633008849192352%\" y=\"40\" height=\"18\" overflow=\"visible\" width=\"30\">    <path d=\"M 0 -9 l 6 18 L 0 25\" fill=\"none\" style=\"stroke:rgb(255.0, 0.0, 81.08083606031792);stroke-width:2\" />  </svg></g><g transform=\"translate(2,0)\">  <svg x=\"14.633008849192352%\" y=\"40\" height=\"18\" overflow=\"visible\" width=\"30\">    <path d=\"M 0 -9 l 6 18 L 0 25\" fill=\"none\" style=\"stroke:rgb(255.0, 0.0, 81.08083606031792);stroke-width:2\" />  </svg></g><g transform=\"translate(4,0)\">  <svg x=\"14.633008849192352%\" y=\"40\" height=\"18\" overflow=\"visible\" width=\"30\">    <path d=\"M 0 -9 l 6 18 L 0 25\" fill=\"none\" style=\"stroke:rgb(255.0, 0.0, 81.08083606031792);stroke-width:2\" />  </svg></g><g transform=\"translate(6,0)\">  <svg x=\"14.633008849192352%\" y=\"40\" height=\"18\" overflow=\"visible\" width=\"30\">    <path d=\"M 0 -9 l 6 18 L 0 25\" fill=\"none\" style=\"stroke:rgb(255.0, 0.0, 81.08083606031792);stroke-width:2\" />  </svg></g><g transform=\"translate(-8,0)\">  <svg x=\"14.633008849192352%\" y=\"40\" height=\"18\" overflow=\"visible\" width=\"30\">    <path d=\"M 0 -9 l 6 18 L 0 25\" fill=\"none\" style=\"stroke:rgb(255.0, 0.0, 81.08083606031792);stroke-width:2\" />  </svg></g><g transform=\"translate(-6,0)\">  <svg x=\"14.633008849192352%\" y=\"40\" height=\"18\" overflow=\"visible\" width=\"30\">    <path d=\"M 0 -9 l 6 18 L 0 25\" fill=\"none\" style=\"stroke:rgb(255.0, 0.0, 81.08083606031792);stroke-width:2\" />  </svg></g><g transform=\"translate(-4,0)\">  <svg x=\"14.633008849192352%\" y=\"40\" height=\"18\" overflow=\"visible\" width=\"30\">    <path d=\"M 0 -9 l 6 18 L 0 25\" fill=\"none\" style=\"stroke:rgb(255.0, 0.0, 81.08083606031792);stroke-width:2\" />  </svg></g><g transform=\"translate(-2,0)\">  <svg x=\"14.633008849192352%\" y=\"40\" height=\"18\" overflow=\"visible\" width=\"30\">    <path d=\"M 0 -9 l 6 18 L 0 25\" fill=\"none\" style=\"stroke:rgb(255.0, 0.0, 81.08083606031792);stroke-width:2\" />  </svg></g><g transform=\"translate(0,0)\">  <svg x=\"12.076361072591412%\" y=\"40\" height=\"18\" overflow=\"visible\" width=\"30\">    <path d=\"M 0 -9 l 6 18 L 0 25\" fill=\"none\" style=\"stroke:rgb(255.0, 0.0, 81.08083606031792);stroke-width:2\" />  </svg></g><g transform=\"translate(2,0)\">  <svg x=\"12.076361072591412%\" y=\"40\" height=\"18\" overflow=\"visible\" width=\"30\">    <path d=\"M 0 -9 l 6 18 L 0 25\" fill=\"none\" style=\"stroke:rgb(255.0, 0.0, 81.08083606031792);stroke-width:2\" />  </svg></g><g transform=\"translate(4,0)\">  <svg x=\"12.076361072591412%\" y=\"40\" height=\"18\" overflow=\"visible\" width=\"30\">    <path d=\"M 0 -9 l 6 18 L 0 25\" fill=\"none\" style=\"stroke:rgb(255.0, 0.0, 81.08083606031792);stroke-width:2\" />  </svg></g><g transform=\"translate(6,0)\">  <svg x=\"12.076361072591412%\" y=\"40\" height=\"18\" overflow=\"visible\" width=\"30\">    <path d=\"M 0 -9 l 6 18 L 0 25\" fill=\"none\" style=\"stroke:rgb(255.0, 0.0, 81.08083606031792);stroke-width:2\" />  </svg></g><g transform=\"translate(-8,0)\">  <svg x=\"12.076361072591412%\" y=\"40\" height=\"18\" overflow=\"visible\" width=\"30\">    <path d=\"M 0 -9 l 6 18 L 0 25\" fill=\"none\" style=\"stroke:rgb(255.0, 0.0, 81.08083606031792);stroke-width:2\" />  </svg></g><g transform=\"translate(-6,0)\">  <svg x=\"12.076361072591412%\" y=\"40\" height=\"18\" overflow=\"visible\" width=\"30\">    <path d=\"M 0 -9 l 6 18 L 0 25\" fill=\"none\" style=\"stroke:rgb(255.0, 0.0, 81.08083606031792);stroke-width:2\" />  </svg></g><g transform=\"translate(-4,0)\">  <svg x=\"12.076361072591412%\" y=\"40\" height=\"18\" overflow=\"visible\" width=\"30\">    <path d=\"M 0 -9 l 6 18 L 0 25\" fill=\"none\" style=\"stroke:rgb(255.0, 0.0, 81.08083606031792);stroke-width:2\" />  </svg></g><g transform=\"translate(-2,0)\">  <svg x=\"12.076361072591412%\" y=\"40\" height=\"18\" overflow=\"visible\" width=\"30\">    <path d=\"M 0 -9 l 6 18 L 0 25\" fill=\"none\" style=\"stroke:rgb(255.0, 0.0, 81.08083606031792);stroke-width:2\" />  </svg></g><g transform=\"translate(0,0)\">  <svg x=\"9.588001461619424%\" y=\"40\" height=\"18\" overflow=\"visible\" width=\"30\">    <path d=\"M 0 -9 l 6 18 L 0 25\" fill=\"none\" style=\"stroke:rgb(255.0, 0.0, 81.08083606031792);stroke-width:2\" />  </svg></g><g transform=\"translate(2,0)\">  <svg x=\"9.588001461619424%\" y=\"40\" height=\"18\" overflow=\"visible\" width=\"30\">    <path d=\"M 0 -9 l 6 18 L 0 25\" fill=\"none\" style=\"stroke:rgb(255.0, 0.0, 81.08083606031792);stroke-width:2\" />  </svg></g><g transform=\"translate(4,0)\">  <svg x=\"9.588001461619424%\" y=\"40\" height=\"18\" overflow=\"visible\" width=\"30\">    <path d=\"M 0 -9 l 6 18 L 0 25\" fill=\"none\" style=\"stroke:rgb(255.0, 0.0, 81.08083606031792);stroke-width:2\" />  </svg></g><g transform=\"translate(6,0)\">  <svg x=\"9.588001461619424%\" y=\"40\" height=\"18\" overflow=\"visible\" width=\"30\">    <path d=\"M 0 -9 l 6 18 L 0 25\" fill=\"none\" style=\"stroke:rgb(255.0, 0.0, 81.08083606031792);stroke-width:2\" />  </svg></g><g transform=\"translate(-8,0)\">  <svg x=\"9.588001461619424%\" y=\"40\" height=\"18\" overflow=\"visible\" width=\"30\">    <path d=\"M 0 -9 l 6 18 L 0 25\" fill=\"none\" style=\"stroke:rgb(255.0, 0.0, 81.08083606031792);stroke-width:2\" />  </svg></g><g transform=\"translate(-6,0)\">  <svg x=\"9.588001461619424%\" y=\"40\" height=\"18\" overflow=\"visible\" width=\"30\">    <path d=\"M 0 -9 l 6 18 L 0 25\" fill=\"none\" style=\"stroke:rgb(255.0, 0.0, 81.08083606031792);stroke-width:2\" />  </svg></g><g transform=\"translate(-4,0)\">  <svg x=\"9.588001461619424%\" y=\"40\" height=\"18\" overflow=\"visible\" width=\"30\">    <path d=\"M 0 -9 l 6 18 L 0 25\" fill=\"none\" style=\"stroke:rgb(255.0, 0.0, 81.08083606031792);stroke-width:2\" />  </svg></g><g transform=\"translate(-2,0)\">  <svg x=\"9.588001461619424%\" y=\"40\" height=\"18\" overflow=\"visible\" width=\"30\">    <path d=\"M 0 -9 l 6 18 L 0 25\" fill=\"none\" style=\"stroke:rgb(255.0, 0.0, 81.08083606031792);stroke-width:2\" />  </svg></g><rect transform=\"translate(-8,0)\" x=\"57.40279209570893%\" y=\"40\" width=\"8\" height=\"18\" style=\"fill:rgb(255.0, 0.0, 81.08083606031792)\"/><g transform=\"translate(-11.5,0)\">  <svg x=\"8.333333212304213%\" y=\"40\" height=\"18\" overflow=\"visible\" width=\"30\">    <path d=\"M 10 -9 l 6 18 L 10 25 L 0 25 L 0 -9\" fill=\"#ffffff\" style=\"stroke:rgb(255,255,255);stroke-width:2\" />  </svg></g><g transform=\"translate(-1.5,0)\">  <svg x=\"57.40279209570893%\" y=\"40\" height=\"18\" overflow=\"visible\" width=\"30\">    <path d=\"M 0 -9 l 6 18 L 0 25\" fill=\"none\" style=\"stroke:rgb(255, 195, 213);stroke-width:2\" />  </svg></g><rect x=\"27.072986161332047%\" y=\"40\" height=\"20\" width=\"30.329805934376886%\"      onmouseover=\"document.getElementById('_tp_ktrmbnnafwblamtarrji_ind_4').style.textDecoration = 'underline';document.getElementById('_fs_ktrmbnnafwblamtarrji_ind_4').style.opacity = 1;document.getElementById('_fb_ktrmbnnafwblamtarrji_ind_4').style.opacity = 1;\"      onmouseout=\"document.getElementById('_tp_ktrmbnnafwblamtarrji_ind_4').style.textDecoration = 'none';document.getElementById('_fs_ktrmbnnafwblamtarrji_ind_4').style.opacity = 0;document.getElementById('_fb_ktrmbnnafwblamtarrji_ind_4').style.opacity = 0;\" style=\"fill:rgb(0,0,0,0)\" /><g transform=\"translate(-1.5,0)\">  <svg x=\"27.072986161332047%\" y=\"40\" height=\"18\" overflow=\"visible\" width=\"30\">    <path d=\"M 0 -9 l 6 18 L 0 25\" fill=\"none\" style=\"stroke:rgb(255, 195, 213);stroke-width:2\" />  </svg></g><rect x=\"20.303805854630163%\" y=\"40\" height=\"20\" width=\"6.769180306701884%\"      onmouseover=\"document.getElementById('_tp_ktrmbnnafwblamtarrji_ind_8').style.textDecoration = 'underline';document.getElementById('_fs_ktrmbnnafwblamtarrji_ind_8').style.opacity = 1;document.getElementById('_fb_ktrmbnnafwblamtarrji_ind_8').style.opacity = 1;\"      onmouseout=\"document.getElementById('_tp_ktrmbnnafwblamtarrji_ind_8').style.textDecoration = 'none';document.getElementById('_fs_ktrmbnnafwblamtarrji_ind_8').style.opacity = 0;document.getElementById('_fb_ktrmbnnafwblamtarrji_ind_8').style.opacity = 0;\" style=\"fill:rgb(0,0,0,0)\" /><g transform=\"translate(-1.5,0)\">  <svg x=\"20.303805854630163%\" y=\"40\" height=\"18\" overflow=\"visible\" width=\"30\">    <path d=\"M 0 -9 l 6 18 L 0 25\" fill=\"none\" style=\"stroke:rgb(255, 195, 213);stroke-width:2\" />  </svg></g><rect x=\"14.633008849192352%\" y=\"40\" height=\"20\" width=\"5.6707970054378105%\"      onmouseover=\"document.getElementById('_tp_ktrmbnnafwblamtarrji_ind_1').style.textDecoration = 'underline';document.getElementById('_fs_ktrmbnnafwblamtarrji_ind_1').style.opacity = 1;document.getElementById('_fb_ktrmbnnafwblamtarrji_ind_1').style.opacity = 1;\"      onmouseout=\"document.getElementById('_tp_ktrmbnnafwblamtarrji_ind_1').style.textDecoration = 'none';document.getElementById('_fs_ktrmbnnafwblamtarrji_ind_1').style.opacity = 0;document.getElementById('_fb_ktrmbnnafwblamtarrji_ind_1').style.opacity = 0;\" style=\"fill:rgb(0,0,0,0)\" /><g transform=\"translate(-1.5,0)\">  <svg x=\"14.633008849192352%\" y=\"40\" height=\"18\" overflow=\"visible\" width=\"30\">    <path d=\"M 0 -9 l 6 18 L 0 25\" fill=\"none\" style=\"stroke:rgb(255, 195, 213);stroke-width:2\" />  </svg></g><rect x=\"12.076361072591412%\" y=\"40\" height=\"20\" width=\"2.55664777660094%\"      onmouseover=\"document.getElementById('_tp_ktrmbnnafwblamtarrji_ind_5').style.textDecoration = 'underline';document.getElementById('_fs_ktrmbnnafwblamtarrji_ind_5').style.opacity = 1;document.getElementById('_fb_ktrmbnnafwblamtarrji_ind_5').style.opacity = 1;\"      onmouseout=\"document.getElementById('_tp_ktrmbnnafwblamtarrji_ind_5').style.textDecoration = 'none';document.getElementById('_fs_ktrmbnnafwblamtarrji_ind_5').style.opacity = 0;document.getElementById('_fb_ktrmbnnafwblamtarrji_ind_5').style.opacity = 0;\" style=\"fill:rgb(0,0,0,0)\" /><g transform=\"translate(-1.5,0)\">  <svg x=\"12.076361072591412%\" y=\"40\" height=\"18\" overflow=\"visible\" width=\"30\">    <path d=\"M 0 -9 l 6 18 L 0 25\" fill=\"none\" style=\"stroke:rgb(255, 195, 213);stroke-width:2\" />  </svg></g><rect x=\"9.588001461619424%\" y=\"40\" height=\"20\" width=\"2.4883596109719885%\"      onmouseover=\"document.getElementById('_tp_ktrmbnnafwblamtarrji_ind_7').style.textDecoration = 'underline';document.getElementById('_fs_ktrmbnnafwblamtarrji_ind_7').style.opacity = 1;document.getElementById('_fb_ktrmbnnafwblamtarrji_ind_7').style.opacity = 1;\"      onmouseout=\"document.getElementById('_tp_ktrmbnnafwblamtarrji_ind_7').style.textDecoration = 'none';document.getElementById('_fs_ktrmbnnafwblamtarrji_ind_7').style.opacity = 0;document.getElementById('_fb_ktrmbnnafwblamtarrji_ind_7').style.opacity = 0;\" style=\"fill:rgb(0,0,0,0)\" /><rect x=\"8.333333212304213%\" y=\"40\" height=\"20\" width=\"1.2546682493152108%\"      onmouseover=\"document.getElementById('_tp_ktrmbnnafwblamtarrji_ind_6').style.textDecoration = 'underline';document.getElementById('_fs_ktrmbnnafwblamtarrji_ind_6').style.opacity = 1;document.getElementById('_fb_ktrmbnnafwblamtarrji_ind_6').style.opacity = 1;\"      onmouseout=\"document.getElementById('_tp_ktrmbnnafwblamtarrji_ind_6').style.textDecoration = 'none';document.getElementById('_fs_ktrmbnnafwblamtarrji_ind_6').style.opacity = 0;document.getElementById('_fb_ktrmbnnafwblamtarrji_ind_6').style.opacity = 0;\" style=\"fill:rgb(0,0,0,0)\" /><rect x=\"57.40279209570893%\" width=\"34.26387323963739%\" y=\"40\" height=\"18\" style=\"fill:rgb(0.0, 138.56128015770724, 250.76166088685727); stroke-width:0; stroke:rgb(0,0,0)\" /><line x1=\"57.40279209570893%\" x2=\"88.71139755054482%\" y1=\"60\" y2=\"60\" id=\"_fb_ktrmbnnafwblamtarrji_ind_3\" style=\"stroke:rgb(0.0, 138.56128015770724, 250.76166088685727);stroke-width:2; opacity: 0\"/><text x=\"73.05709482312687%\" y=\"71\" font-size=\"12px\" fill=\"rgb(0.0, 138.56128015770724, 250.76166088685727)\" id=\"_fs_ktrmbnnafwblamtarrji_ind_3\" style=\"opacity: 0\" dominant-baseline=\"middle\" text-anchor=\"middle\">-0.216</text><svg x=\"57.40279209570893%\" y=\"40\" height=\"20\" width=\"31.308605454835885%\">  <svg x=\"0\" y=\"0\" width=\"100%\" height=\"100%\">    <text x=\"50%\" y=\"9\" font-size=\"12px\" fill=\"rgb(255,255,255)\" dominant-baseline=\"middle\" text-anchor=\"middle\">not</text>  </svg></svg><line x1=\"88.71139755054482%\" x2=\"91.66666533534632%\" y1=\"60\" y2=\"60\" id=\"_fb_ktrmbnnafwblamtarrji_ind_2\" style=\"stroke:rgb(0.0, 138.56128015770724, 250.76166088685727);stroke-width:2; opacity: 0\"/><text x=\"90.18903144294558%\" y=\"71\" font-size=\"12px\" fill=\"rgb(0.0, 138.56128015770724, 250.76166088685727)\" id=\"_fs_ktrmbnnafwblamtarrji_ind_2\" style=\"opacity: 0\" dominant-baseline=\"middle\" text-anchor=\"middle\">-0.02</text><svg x=\"88.71139755054482%\" y=\"40\" height=\"20\" width=\"2.9552677848015065%\">  <svg x=\"0\" y=\"0\" width=\"100%\" height=\"100%\">    <text x=\"50%\" y=\"9\" font-size=\"12px\" fill=\"rgb(255,255,255)\" dominant-baseline=\"middle\" text-anchor=\"middle\">was</text>  </svg></svg><g transform=\"translate(-8,0)\">  <svg x=\"88.71139755054482%\" y=\"40\" height=\"18\" overflow=\"visible\" width=\"30\">    <path d=\"M 8 -9 l -6 18 L 8 25\" fill=\"none\" style=\"stroke:rgb(0.0, 138.56128015770724, 250.76166088685727);stroke-width:2\" />  </svg></g><g transform=\"translate(-10,0)\">  <svg x=\"88.71139755054482%\" y=\"40\" height=\"18\" overflow=\"visible\" width=\"30\">    <path d=\"M 8 -9 l -6 18 L 8 25\" fill=\"none\" style=\"stroke:rgb(0.0, 138.56128015770724, 250.76166088685727);stroke-width:2\" />  </svg></g><g transform=\"translate(-12,0)\">  <svg x=\"88.71139755054482%\" y=\"40\" height=\"18\" overflow=\"visible\" width=\"30\">    <path d=\"M 8 -9 l -6 18 L 8 25\" fill=\"none\" style=\"stroke:rgb(0.0, 138.56128015770724, 250.76166088685727);stroke-width:2\" />  </svg></g><g transform=\"translate(-14,0)\">  <svg x=\"88.71139755054482%\" y=\"40\" height=\"18\" overflow=\"visible\" width=\"30\">    <path d=\"M 8 -9 l -6 18 L 8 25\" fill=\"none\" style=\"stroke:rgb(0.0, 138.56128015770724, 250.76166088685727);stroke-width:2\" />  </svg></g><g transform=\"translate(2,0)\">  <svg x=\"88.71139755054482%\" y=\"40\" height=\"18\" overflow=\"visible\" width=\"30\">    <path d=\"M 8 -9 l -6 18 L 8 25\" fill=\"none\" style=\"stroke:rgb(0.0, 138.56128015770724, 250.76166088685727);stroke-width:2\" />  </svg></g><g transform=\"translate(0,0)\">  <svg x=\"88.71139755054482%\" y=\"40\" height=\"18\" overflow=\"visible\" width=\"30\">    <path d=\"M 8 -9 l -6 18 L 8 25\" fill=\"none\" style=\"stroke:rgb(0.0, 138.56128015770724, 250.76166088685727);stroke-width:2\" />  </svg></g><g transform=\"translate(-2,0)\">  <svg x=\"88.71139755054482%\" y=\"40\" height=\"18\" overflow=\"visible\" width=\"30\">    <path d=\"M 8 -9 l -6 18 L 8 25\" fill=\"none\" style=\"stroke:rgb(0.0, 138.56128015770724, 250.76166088685727);stroke-width:2\" />  </svg></g><g transform=\"translate(-4,0)\">  <svg x=\"88.71139755054482%\" y=\"40\" height=\"18\" overflow=\"visible\" width=\"30\">    <path d=\"M 8 -9 l -6 18 L 8 25\" fill=\"none\" style=\"stroke:rgb(0.0, 138.56128015770724, 250.76166088685727);stroke-width:2\" />  </svg></g><rect transform=\"translate(0,0)\" x=\"57.40279209570893%\" y=\"40\" width=\"8\" height=\"18\" style=\"fill:rgb(0.0, 138.56128015770724, 250.76166088685727)\"/><g transform=\"translate(-6.0,0)\">  <svg x=\"91.66666533534632%\" y=\"40\" height=\"18\" overflow=\"visible\" width=\"30\">    <path d=\"M 8 -9 l -6 18 L 8 25 L 20 25 L 20 -9\" fill=\"#ffffff\" style=\"stroke:rgb(255,255,255);stroke-width:2\" />  </svg></g><g transform=\"translate(-6.0,0)\">  <svg x=\"88.71139755054482%\" y=\"40\" height=\"18\" overflow=\"visible\" width=\"30\">    <path d=\"M 8 -9 l -6 18 L 8 25\" fill=\"none\" style=\"stroke:rgb(208, 230, 250);stroke-width:2\" />  </svg></g><rect x=\"57.40279209570893%\" y=\"40\" height=\"20\" width=\"31.308605454835885%\"      onmouseover=\"document.getElementById('_tp_ktrmbnnafwblamtarrji_ind_3').style.textDecoration = 'underline';document.getElementById('_fs_ktrmbnnafwblamtarrji_ind_3').style.opacity = 1;document.getElementById('_fb_ktrmbnnafwblamtarrji_ind_3').style.opacity = 1;\"      onmouseout=\"document.getElementById('_tp_ktrmbnnafwblamtarrji_ind_3').style.textDecoration = 'none';document.getElementById('_fs_ktrmbnnafwblamtarrji_ind_3').style.opacity = 0;document.getElementById('_fb_ktrmbnnafwblamtarrji_ind_3').style.opacity = 0;\" style=\"fill:rgb(0,0,0,0)\" /><rect x=\"88.71139755054482%\" y=\"40\" height=\"20\" width=\"2.9552677848015065%\"      onmouseover=\"document.getElementById('_tp_ktrmbnnafwblamtarrji_ind_2').style.textDecoration = 'underline';document.getElementById('_fs_ktrmbnnafwblamtarrji_ind_2').style.opacity = 1;document.getElementById('_fb_ktrmbnnafwblamtarrji_ind_2').style.opacity = 1;\"      onmouseout=\"document.getElementById('_tp_ktrmbnnafwblamtarrji_ind_2').style.textDecoration = 'none';document.getElementById('_fs_ktrmbnnafwblamtarrji_ind_2').style.opacity = 0;document.getElementById('_fb_ktrmbnnafwblamtarrji_ind_2').style.opacity = 0;\" style=\"fill:rgb(0,0,0,0)\" /></svg><div align='center'><div style=\"color: rgb(120,120,120); font-size: 12px; margin-top: -15px;\">inputs</div><div style='display: inline; text-align: center;'\n",
       "    ><div style='display: none; color: #999; padding-top: 0px; font-size: 12px;'>0.0</div\n",
       "        ><div id='_tp_ktrmbnnafwblamtarrji_ind_0'\n",
       "            style='display: inline; background: rgba(230.2941176470614, 26.505882352939775, 102.59215686274348, 0.0); border-radius: 3px; padding: 0px'\n",
       "            onclick=\"\n",
       "            if (this.previousSibling.style.display == 'none') {\n",
       "                this.previousSibling.style.display = 'block';\n",
       "                this.parentNode.style.display = 'inline-block';\n",
       "            } else {\n",
       "                this.previousSibling.style.display = 'none';\n",
       "                this.parentNode.style.display = 'inline';\n",
       "            }\"\n",
       "            onmouseover=\"document.getElementById('_fb_ktrmbnnafwblamtarrji_ind_0').style.opacity = 1; document.getElementById('_fs_ktrmbnnafwblamtarrji_ind_0').style.opacity = 1;\"\n",
       "            onmouseout=\"document.getElementById('_fb_ktrmbnnafwblamtarrji_ind_0').style.opacity = 0; document.getElementById('_fs_ktrmbnnafwblamtarrji_ind_0').style.opacity = 0;\"\n",
       "        ></div></div><div style='display: inline; text-align: center;'\n",
       "    ><div style='display: none; color: #999; padding-top: 0px; font-size: 12px;'>0.039</div\n",
       "        ><div id='_tp_ktrmbnnafwblamtarrji_ind_1'\n",
       "            style='display: inline; background: rgba(255.0, 13.0, 87.0, 0.18019409784115661); border-radius: 3px; padding: 0px'\n",
       "            onclick=\"\n",
       "            if (this.previousSibling.style.display == 'none') {\n",
       "                this.previousSibling.style.display = 'block';\n",
       "                this.parentNode.style.display = 'inline-block';\n",
       "            } else {\n",
       "                this.previousSibling.style.display = 'none';\n",
       "                this.parentNode.style.display = 'inline';\n",
       "            }\"\n",
       "            onmouseover=\"document.getElementById('_fb_ktrmbnnafwblamtarrji_ind_1').style.opacity = 1; document.getElementById('_fs_ktrmbnnafwblamtarrji_ind_1').style.opacity = 1;\"\n",
       "            onmouseout=\"document.getElementById('_fb_ktrmbnnafwblamtarrji_ind_1').style.opacity = 0; document.getElementById('_fs_ktrmbnnafwblamtarrji_ind_1').style.opacity = 0;\"\n",
       "        >I </div></div><div style='display: inline; text-align: center;'\n",
       "    ><div style='display: none; color: #999; padding-top: 0px; font-size: 12px;'>-0.02</div\n",
       "        ><div id='_tp_ktrmbnnafwblamtarrji_ind_2'\n",
       "            style='display: inline; background: rgba(30.0, 136.0, 229.0, 0.09348385818974048); border-radius: 3px; padding: 0px'\n",
       "            onclick=\"\n",
       "            if (this.previousSibling.style.display == 'none') {\n",
       "                this.previousSibling.style.display = 'block';\n",
       "                this.parentNode.style.display = 'inline-block';\n",
       "            } else {\n",
       "                this.previousSibling.style.display = 'none';\n",
       "                this.parentNode.style.display = 'inline';\n",
       "            }\"\n",
       "            onmouseover=\"document.getElementById('_fb_ktrmbnnafwblamtarrji_ind_2').style.opacity = 1; document.getElementById('_fs_ktrmbnnafwblamtarrji_ind_2').style.opacity = 1;\"\n",
       "            onmouseout=\"document.getElementById('_fb_ktrmbnnafwblamtarrji_ind_2').style.opacity = 0; document.getElementById('_fs_ktrmbnnafwblamtarrji_ind_2').style.opacity = 0;\"\n",
       "        >was </div></div><div style='display: inline; text-align: center;'\n",
       "    ><div style='display: none; color: #999; padding-top: 0px; font-size: 12px;'>-0.216</div\n",
       "        ><div id='_tp_ktrmbnnafwblamtarrji_ind_3'\n",
       "            style='display: inline; background: rgba(30.0, 136.0, 229.0, 1.0); border-radius: 3px; padding: 0px'\n",
       "            onclick=\"\n",
       "            if (this.previousSibling.style.display == 'none') {\n",
       "                this.previousSibling.style.display = 'block';\n",
       "                this.parentNode.style.display = 'inline-block';\n",
       "            } else {\n",
       "                this.previousSibling.style.display = 'none';\n",
       "                this.parentNode.style.display = 'inline';\n",
       "            }\"\n",
       "            onmouseover=\"document.getElementById('_fb_ktrmbnnafwblamtarrji_ind_3').style.opacity = 1; document.getElementById('_fs_ktrmbnnafwblamtarrji_ind_3').style.opacity = 1;\"\n",
       "            onmouseout=\"document.getElementById('_fb_ktrmbnnafwblamtarrji_ind_3').style.opacity = 0; document.getElementById('_fs_ktrmbnnafwblamtarrji_ind_3').style.opacity = 0;\"\n",
       "        >not </div></div><div style='display: inline; text-align: center;'\n",
       "    ><div style='display: none; color: #999; padding-top: 0px; font-size: 12px;'>0.209</div\n",
       "        ><div id='_tp_ktrmbnnafwblamtarrji_ind_4'\n",
       "            style='display: inline; background: rgba(255.0, 13.0, 87.0, 0.9684690037631213); border-radius: 3px; padding: 0px'\n",
       "            onclick=\"\n",
       "            if (this.previousSibling.style.display == 'none') {\n",
       "                this.previousSibling.style.display = 'block';\n",
       "                this.parentNode.style.display = 'inline-block';\n",
       "            } else {\n",
       "                this.previousSibling.style.display = 'none';\n",
       "                this.parentNode.style.display = 'inline';\n",
       "            }\"\n",
       "            onmouseover=\"document.getElementById('_fb_ktrmbnnafwblamtarrji_ind_4').style.opacity = 1; document.getElementById('_fs_ktrmbnnafwblamtarrji_ind_4').style.opacity = 1;\"\n",
       "            onmouseout=\"document.getElementById('_fb_ktrmbnnafwblamtarrji_ind_4').style.opacity = 0; document.getElementById('_fs_ktrmbnnafwblamtarrji_ind_4').style.opacity = 0;\"\n",
       "        >disappointed </div></div><div style='display: inline; text-align: center;'\n",
       "    ><div style='display: none; color: #999; padding-top: 0px; font-size: 12px;'>0.018</div\n",
       "        ><div id='_tp_ktrmbnnafwblamtarrji_ind_5'\n",
       "            style='display: inline; background: rgba(255.0, 13.0, 87.0, 0.07771836007130124); border-radius: 3px; padding: 0px'\n",
       "            onclick=\"\n",
       "            if (this.previousSibling.style.display == 'none') {\n",
       "                this.previousSibling.style.display = 'block';\n",
       "                this.parentNode.style.display = 'inline-block';\n",
       "            } else {\n",
       "                this.previousSibling.style.display = 'none';\n",
       "                this.parentNode.style.display = 'inline';\n",
       "            }\"\n",
       "            onmouseover=\"document.getElementById('_fb_ktrmbnnafwblamtarrji_ind_5').style.opacity = 1; document.getElementById('_fs_ktrmbnnafwblamtarrji_ind_5').style.opacity = 1;\"\n",
       "            onmouseout=\"document.getElementById('_fb_ktrmbnnafwblamtarrji_ind_5').style.opacity = 0; document.getElementById('_fs_ktrmbnnafwblamtarrji_ind_5').style.opacity = 0;\"\n",
       "        >with </div></div><div style='display: inline; text-align: center;'\n",
       "    ><div style='display: none; color: #999; padding-top: 0px; font-size: 12px;'>0.009</div\n",
       "        ><div id='_tp_ktrmbnnafwblamtarrji_ind_6'\n",
       "            style='display: inline; background: rgba(255.0, 13.0, 87.0, 0.03830461477520289); border-radius: 3px; padding: 0px'\n",
       "            onclick=\"\n",
       "            if (this.previousSibling.style.display == 'none') {\n",
       "                this.previousSibling.style.display = 'block';\n",
       "                this.parentNode.style.display = 'inline-block';\n",
       "            } else {\n",
       "                this.previousSibling.style.display = 'none';\n",
       "                this.parentNode.style.display = 'inline';\n",
       "            }\"\n",
       "            onmouseover=\"document.getElementById('_fb_ktrmbnnafwblamtarrji_ind_6').style.opacity = 1; document.getElementById('_fs_ktrmbnnafwblamtarrji_ind_6').style.opacity = 1;\"\n",
       "            onmouseout=\"document.getElementById('_fb_ktrmbnnafwblamtarrji_ind_6').style.opacity = 0; document.getElementById('_fs_ktrmbnnafwblamtarrji_ind_6').style.opacity = 0;\"\n",
       "        >the </div></div><div style='display: inline; text-align: center;'\n",
       "    ><div style='display: none; color: #999; padding-top: 0px; font-size: 12px;'>0.017</div\n",
       "        ><div id='_tp_ktrmbnnafwblamtarrji_ind_7'\n",
       "            style='display: inline; background: rgba(255.0, 13.0, 87.0, 0.07771836007130124); border-radius: 3px; padding: 0px'\n",
       "            onclick=\"\n",
       "            if (this.previousSibling.style.display == 'none') {\n",
       "                this.previousSibling.style.display = 'block';\n",
       "                this.parentNode.style.display = 'inline-block';\n",
       "            } else {\n",
       "                this.previousSibling.style.display = 'none';\n",
       "                this.parentNode.style.display = 'inline';\n",
       "            }\"\n",
       "            onmouseover=\"document.getElementById('_fb_ktrmbnnafwblamtarrji_ind_7').style.opacity = 1; document.getElementById('_fs_ktrmbnnafwblamtarrji_ind_7').style.opacity = 1;\"\n",
       "            onmouseout=\"document.getElementById('_fb_ktrmbnnafwblamtarrji_ind_7').style.opacity = 0; document.getElementById('_fs_ktrmbnnafwblamtarrji_ind_7').style.opacity = 0;\"\n",
       "        >result</div></div><div style='display: inline; text-align: center;'\n",
       "    ><div style='display: none; color: #999; padding-top: 0px; font-size: 12px;'>0.047</div\n",
       "        ><div id='_tp_ktrmbnnafwblamtarrji_ind_8'\n",
       "            style='display: inline; background: rgba(255.0, 13.0, 87.0, 0.2117250940780353); border-radius: 3px; padding: 0px'\n",
       "            onclick=\"\n",
       "            if (this.previousSibling.style.display == 'none') {\n",
       "                this.previousSibling.style.display = 'block';\n",
       "                this.parentNode.style.display = 'inline-block';\n",
       "            } else {\n",
       "                this.previousSibling.style.display = 'none';\n",
       "                this.parentNode.style.display = 'inline';\n",
       "            }\"\n",
       "            onmouseover=\"document.getElementById('_fb_ktrmbnnafwblamtarrji_ind_8').style.opacity = 1; document.getElementById('_fs_ktrmbnnafwblamtarrji_ind_8').style.opacity = 1;\"\n",
       "            onmouseout=\"document.getElementById('_fb_ktrmbnnafwblamtarrji_ind_8').style.opacity = 0; document.getElementById('_fs_ktrmbnnafwblamtarrji_ind_8').style.opacity = 0;\"\n",
       "        >.</div></div><div style='display: inline; text-align: center;'\n",
       "    ><div style='display: none; color: #999; padding-top: 0px; font-size: 12px;'>0.0</div\n",
       "        ><div id='_tp_ktrmbnnafwblamtarrji_ind_9'\n",
       "            style='display: inline; background: rgba(230.2941176470614, 26.505882352939775, 102.59215686274348, 0.0); border-radius: 3px; padding: 0px'\n",
       "            onclick=\"\n",
       "            if (this.previousSibling.style.display == 'none') {\n",
       "                this.previousSibling.style.display = 'block';\n",
       "                this.parentNode.style.display = 'inline-block';\n",
       "            } else {\n",
       "                this.previousSibling.style.display = 'none';\n",
       "                this.parentNode.style.display = 'inline';\n",
       "            }\"\n",
       "            onmouseover=\"document.getElementById('_fb_ktrmbnnafwblamtarrji_ind_9').style.opacity = 1; document.getElementById('_fs_ktrmbnnafwblamtarrji_ind_9').style.opacity = 1;\"\n",
       "            onmouseout=\"document.getElementById('_fb_ktrmbnnafwblamtarrji_ind_9').style.opacity = 0; document.getElementById('_fs_ktrmbnnafwblamtarrji_ind_9').style.opacity = 0;\"\n",
       "        ></div></div></div></div><div id='_tp_wsmkdarudluwerjvfalk_output_1' style='display: none';><svg width=\"100%\" height=\"80px\"><line x1=\"0\" y1=\"33\" x2=\"100%\" y2=\"33\" style=\"stroke:rgb(150,150,150);stroke-width:1\" /><line x1=\"47.23331997406635%\" y1=\"33\" x2=\"47.23331997406635%\" y2=\"37\" style=\"stroke:rgb(150,150,150);stroke-width:1\" /><text x=\"47.23331997406635%\" y=\"27\" font-size=\"12px\" fill=\"rgb(120,120,120)\" dominant-baseline=\"bottom\" text-anchor=\"middle\">0.3</text><line x1=\"37.60536168376975%\" y1=\"33\" x2=\"37.60536168376975%\" y2=\"37\" style=\"stroke:rgb(150,150,150);stroke-width:1\" /><text x=\"37.60536168376975%\" y=\"27\" font-size=\"12px\" fill=\"rgb(120,120,120)\" dominant-baseline=\"bottom\" text-anchor=\"middle\">0.2</text><line x1=\"27.977403393473157%\" y1=\"33\" x2=\"27.977403393473157%\" y2=\"37\" style=\"stroke:rgb(150,150,150);stroke-width:1\" /><text x=\"27.977403393473157%\" y=\"27\" font-size=\"12px\" fill=\"rgb(120,120,120)\" dominant-baseline=\"bottom\" text-anchor=\"middle\">0.1</text><line x1=\"18.349445103176564%\" y1=\"33\" x2=\"18.349445103176564%\" y2=\"37\" style=\"stroke:rgb(150,150,150);stroke-width:1\" /><text x=\"18.349445103176564%\" y=\"27\" font-size=\"12px\" fill=\"rgb(120,120,120)\" dominant-baseline=\"bottom\" text-anchor=\"middle\">-5.55112e-17</text><line x1=\"8.721486812879968%\" y1=\"33\" x2=\"8.721486812879968%\" y2=\"37\" style=\"stroke:rgb(150,150,150);stroke-width:1\" /><text x=\"8.721486812879968%\" y=\"27\" font-size=\"12px\" fill=\"rgb(120,120,120)\" dominant-baseline=\"bottom\" text-anchor=\"middle\">-0.1</text><line x1=\"56.861278264362944%\" y1=\"33\" x2=\"56.861278264362944%\" y2=\"37\" style=\"stroke:rgb(150,150,150);stroke-width:1\" /><text x=\"56.861278264362944%\" y=\"27\" font-size=\"12px\" fill=\"rgb(120,120,120)\" dominant-baseline=\"bottom\" text-anchor=\"middle\">0.4</text><line x1=\"66.48923655465954%\" y1=\"33\" x2=\"66.48923655465954%\" y2=\"37\" style=\"stroke:rgb(150,150,150);stroke-width:1\" /><text x=\"66.48923655465954%\" y=\"27\" font-size=\"12px\" fill=\"rgb(120,120,120)\" dominant-baseline=\"bottom\" text-anchor=\"middle\">0.5</text><line x1=\"76.11719484495613%\" y1=\"33\" x2=\"76.11719484495613%\" y2=\"37\" style=\"stroke:rgb(150,150,150);stroke-width:1\" /><text x=\"76.11719484495613%\" y=\"27\" font-size=\"12px\" fill=\"rgb(120,120,120)\" dominant-baseline=\"bottom\" text-anchor=\"middle\">0.6</text><line x1=\"85.74515313525272%\" y1=\"33\" x2=\"85.74515313525272%\" y2=\"37\" style=\"stroke:rgb(150,150,150);stroke-width:1\" /><text x=\"85.74515313525272%\" y=\"27\" font-size=\"12px\" fill=\"rgb(120,120,120)\" dominant-baseline=\"bottom\" text-anchor=\"middle\">0.7</text><line x1=\"62.362948876419544%\" y1=\"33\" x2=\"62.362948876419544%\" y2=\"37\" style=\"stroke:rgb(150,150,150);stroke-width:1\" /><text x=\"62.362948876419544%\" y=\"27\" font-size=\"13px\" style=\"stroke:#ffffff;stroke-width:8px;\" fill=\"rgb(255,255,255)\" dominant-baseline=\"bottom\" text-anchor=\"middle\">0.457143</text><text x=\"62.362948876419544%\" y=\"27\" font-size=\"12px\" fill=\"rgb(120,120,120)\" dominant-baseline=\"bottom\" text-anchor=\"middle\">0.457143</text><text x=\"62.362948876419544%\" y=\"10\" font-size=\"12px\" fill=\"rgb(120,120,120)\" dominant-baseline=\"bottom\" text-anchor=\"middle\">base value</text><line x1=\"70.52104210589381%\" y1=\"33\" x2=\"70.52104210589381%\" y2=\"37\" style=\"stroke:rgb(150,150,150);stroke-width:1\" /><text x=\"70.52104210589381%\" y=\"27\" font-size=\"13px\" style=\"stroke:#ffffff;stroke-width:8px;\" font-weight=\"bold\" fill=\"rgb(255,255,255)\" dominant-baseline=\"bottom\" text-anchor=\"middle\">0.541876</text><text x=\"70.52104210589381%\" y=\"27\" font-size=\"13px\" font-weight=\"bold\" fill=\"rgb(0,0,0)\" dominant-baseline=\"bottom\" text-anchor=\"middle\">0.541876</text><text x=\"70.52104210589381%\" y=\"10\" font-size=\"12px\" fill=\"rgb(120,120,120)\" dominant-baseline=\"bottom\" text-anchor=\"middle\">f<tspan baseline-shift=\"sub\" font-size=\"8px\">neutral</tspan>(inputs)</text><rect x=\"38.47699253611709%\" width=\"32.04404956977672%\" y=\"40\" height=\"18\" style=\"fill:rgb(255.0, 0.0, 81.08083606031792); stroke-width:0; stroke:rgb(0,0,0)\" /><line x1=\"50.732034735564795%\" x2=\"70.52104210589381%\" y1=\"60\" y2=\"60\" id=\"_fb_jxwvarmvbdhbmsxrthxq_ind_3\" style=\"stroke:rgb(255.0, 0.0, 81.08083606031792);stroke-width:2; opacity: 0\"/><text x=\"60.626538420729304%\" y=\"71\" font-size=\"12px\" id=\"_fs_jxwvarmvbdhbmsxrthxq_ind_3\" fill=\"rgb(255.0, 0.0, 81.08083606031792)\" style=\"opacity: 0\" dominant-baseline=\"middle\" text-anchor=\"middle\">0.206</text><svg x=\"50.732034735564795%\" y=\"40\" height=\"20\" width=\"19.789007370329017%\">  <svg x=\"0\" y=\"0\" width=\"100%\" height=\"100%\">    <text x=\"50%\" y=\"9\" font-size=\"12px\" fill=\"rgb(255,255,255)\" dominant-baseline=\"middle\" text-anchor=\"middle\">not</text>  </svg></svg><line x1=\"46.04500036439518%\" x2=\"50.732034735564795%\" y1=\"60\" y2=\"60\" id=\"_fb_jxwvarmvbdhbmsxrthxq_ind_7\" style=\"stroke:rgb(255.0, 0.0, 81.08083606031792);stroke-width:2; opacity: 0\"/><text x=\"48.38851754997999%\" y=\"71\" font-size=\"12px\" id=\"_fs_jxwvarmvbdhbmsxrthxq_ind_7\" fill=\"rgb(255.0, 0.0, 81.08083606031792)\" style=\"opacity: 0\" dominant-baseline=\"middle\" text-anchor=\"middle\">0.049</text><svg x=\"46.04500036439518%\" y=\"40\" height=\"20\" width=\"4.6870343711696165%\">  <svg x=\"0\" y=\"0\" width=\"100%\" height=\"100%\">    <text x=\"50%\" y=\"9\" font-size=\"12px\" fill=\"rgb(255,255,255)\" dominant-baseline=\"middle\" text-anchor=\"middle\">result</text>  </svg></svg><line x1=\"41.965977511505535%\" x2=\"46.04500036439518%\" y1=\"60\" y2=\"60\" id=\"_fb_jxwvarmvbdhbmsxrthxq_ind_6\" style=\"stroke:rgb(255.0, 0.0, 81.08083606031792);stroke-width:2; opacity: 0\"/><text x=\"44.00548893795036%\" y=\"71\" font-size=\"12px\" id=\"_fs_jxwvarmvbdhbmsxrthxq_ind_6\" fill=\"rgb(255.0, 0.0, 81.08083606031792)\" style=\"opacity: 0\" dominant-baseline=\"middle\" text-anchor=\"middle\">0.042</text><svg x=\"41.965977511505535%\" y=\"40\" height=\"20\" width=\"4.0790228528896435%\">  <svg x=\"0\" y=\"0\" width=\"100%\" height=\"100%\">    <text x=\"50%\" y=\"9\" font-size=\"12px\" fill=\"rgb(255,255,255)\" dominant-baseline=\"middle\" text-anchor=\"middle\">the</text>  </svg></svg><line x1=\"39.281665443316776%\" x2=\"41.965977511505535%\" y1=\"60\" y2=\"60\" id=\"_fb_jxwvarmvbdhbmsxrthxq_ind_2\" style=\"stroke:rgb(255.0, 0.0, 81.08083606031792);stroke-width:2; opacity: 0\"/><text x=\"40.623821477411155%\" y=\"71\" font-size=\"12px\" id=\"_fs_jxwvarmvbdhbmsxrthxq_ind_2\" fill=\"rgb(255.0, 0.0, 81.08083606031792)\" style=\"opacity: 0\" dominant-baseline=\"middle\" text-anchor=\"middle\">0.028</text><svg x=\"39.281665443316776%\" y=\"40\" height=\"20\" width=\"2.68431206818876%\">  <svg x=\"0\" y=\"0\" width=\"100%\" height=\"100%\">    <text x=\"50%\" y=\"9\" font-size=\"12px\" fill=\"rgb(255,255,255)\" dominant-baseline=\"middle\" text-anchor=\"middle\">was</text>  </svg></svg><line x1=\"38.60080664633819%\" x2=\"39.281665443316776%\" y1=\"60\" y2=\"60\" id=\"_fb_jxwvarmvbdhbmsxrthxq_ind_5\" style=\"stroke:rgb(255.0, 0.0, 81.08083606031792);stroke-width:2; opacity: 0\"/><text x=\"38.941236044827484%\" y=\"71\" font-size=\"12px\" id=\"_fs_jxwvarmvbdhbmsxrthxq_ind_5\" fill=\"rgb(255.0, 0.0, 81.08083606031792)\" style=\"opacity: 0\" dominant-baseline=\"middle\" text-anchor=\"middle\">0.007</text><svg x=\"38.60080664633819%\" y=\"40\" height=\"20\" width=\"0.6808587969785833%\">  <svg x=\"0\" y=\"0\" width=\"100%\" height=\"100%\">    <text x=\"50%\" y=\"9\" font-size=\"12px\" fill=\"rgb(255,255,255)\" dominant-baseline=\"middle\" text-anchor=\"middle\">with</text>  </svg></svg><line x1=\"38.47699253611709%\" x2=\"38.60080664633819%\" y1=\"60\" y2=\"60\" id=\"_fb_jxwvarmvbdhbmsxrthxq_ind_8\" style=\"stroke:rgb(255.0, 0.0, 81.08083606031792);stroke-width:2; opacity: 0\"/><text x=\"38.53889959122764%\" y=\"71\" font-size=\"12px\" id=\"_fs_jxwvarmvbdhbmsxrthxq_ind_8\" fill=\"rgb(255.0, 0.0, 81.08083606031792)\" style=\"opacity: 0\" dominant-baseline=\"middle\" text-anchor=\"middle\">0.001</text><svg x=\"38.47699253611709%\" y=\"40\" height=\"20\" width=\"0.12381411022110456%\">  <svg x=\"0\" y=\"0\" width=\"100%\" height=\"100%\">    <text x=\"50%\" y=\"9\" font-size=\"12px\" fill=\"rgb(255,255,255)\" dominant-baseline=\"middle\" text-anchor=\"middle\">.</text>  </svg></svg><g transform=\"translate(0,0)\">  <svg x=\"50.732034735564795%\" y=\"40\" height=\"18\" overflow=\"visible\" width=\"30\">    <path d=\"M 0 -9 l 6 18 L 0 25\" fill=\"none\" style=\"stroke:rgb(255.0, 0.0, 81.08083606031792);stroke-width:2\" />  </svg></g><g transform=\"translate(2,0)\">  <svg x=\"50.732034735564795%\" y=\"40\" height=\"18\" overflow=\"visible\" width=\"30\">    <path d=\"M 0 -9 l 6 18 L 0 25\" fill=\"none\" style=\"stroke:rgb(255.0, 0.0, 81.08083606031792);stroke-width:2\" />  </svg></g><g transform=\"translate(4,0)\">  <svg x=\"50.732034735564795%\" y=\"40\" height=\"18\" overflow=\"visible\" width=\"30\">    <path d=\"M 0 -9 l 6 18 L 0 25\" fill=\"none\" style=\"stroke:rgb(255.0, 0.0, 81.08083606031792);stroke-width:2\" />  </svg></g><g transform=\"translate(6,0)\">  <svg x=\"50.732034735564795%\" y=\"40\" height=\"18\" overflow=\"visible\" width=\"30\">    <path d=\"M 0 -9 l 6 18 L 0 25\" fill=\"none\" style=\"stroke:rgb(255.0, 0.0, 81.08083606031792);stroke-width:2\" />  </svg></g><g transform=\"translate(-8,0)\">  <svg x=\"50.732034735564795%\" y=\"40\" height=\"18\" overflow=\"visible\" width=\"30\">    <path d=\"M 0 -9 l 6 18 L 0 25\" fill=\"none\" style=\"stroke:rgb(255.0, 0.0, 81.08083606031792);stroke-width:2\" />  </svg></g><g transform=\"translate(-6,0)\">  <svg x=\"50.732034735564795%\" y=\"40\" height=\"18\" overflow=\"visible\" width=\"30\">    <path d=\"M 0 -9 l 6 18 L 0 25\" fill=\"none\" style=\"stroke:rgb(255.0, 0.0, 81.08083606031792);stroke-width:2\" />  </svg></g><g transform=\"translate(-4,0)\">  <svg x=\"50.732034735564795%\" y=\"40\" height=\"18\" overflow=\"visible\" width=\"30\">    <path d=\"M 0 -9 l 6 18 L 0 25\" fill=\"none\" style=\"stroke:rgb(255.0, 0.0, 81.08083606031792);stroke-width:2\" />  </svg></g><g transform=\"translate(-2,0)\">  <svg x=\"50.732034735564795%\" y=\"40\" height=\"18\" overflow=\"visible\" width=\"30\">    <path d=\"M 0 -9 l 6 18 L 0 25\" fill=\"none\" style=\"stroke:rgb(255.0, 0.0, 81.08083606031792);stroke-width:2\" />  </svg></g><g transform=\"translate(0,0)\">  <svg x=\"46.04500036439518%\" y=\"40\" height=\"18\" overflow=\"visible\" width=\"30\">    <path d=\"M 0 -9 l 6 18 L 0 25\" fill=\"none\" style=\"stroke:rgb(255.0, 0.0, 81.08083606031792);stroke-width:2\" />  </svg></g><g transform=\"translate(2,0)\">  <svg x=\"46.04500036439518%\" y=\"40\" height=\"18\" overflow=\"visible\" width=\"30\">    <path d=\"M 0 -9 l 6 18 L 0 25\" fill=\"none\" style=\"stroke:rgb(255.0, 0.0, 81.08083606031792);stroke-width:2\" />  </svg></g><g transform=\"translate(4,0)\">  <svg x=\"46.04500036439518%\" y=\"40\" height=\"18\" overflow=\"visible\" width=\"30\">    <path d=\"M 0 -9 l 6 18 L 0 25\" fill=\"none\" style=\"stroke:rgb(255.0, 0.0, 81.08083606031792);stroke-width:2\" />  </svg></g><g transform=\"translate(6,0)\">  <svg x=\"46.04500036439518%\" y=\"40\" height=\"18\" overflow=\"visible\" width=\"30\">    <path d=\"M 0 -9 l 6 18 L 0 25\" fill=\"none\" style=\"stroke:rgb(255.0, 0.0, 81.08083606031792);stroke-width:2\" />  </svg></g><g transform=\"translate(-8,0)\">  <svg x=\"46.04500036439518%\" y=\"40\" height=\"18\" overflow=\"visible\" width=\"30\">    <path d=\"M 0 -9 l 6 18 L 0 25\" fill=\"none\" style=\"stroke:rgb(255.0, 0.0, 81.08083606031792);stroke-width:2\" />  </svg></g><g transform=\"translate(-6,0)\">  <svg x=\"46.04500036439518%\" y=\"40\" height=\"18\" overflow=\"visible\" width=\"30\">    <path d=\"M 0 -9 l 6 18 L 0 25\" fill=\"none\" style=\"stroke:rgb(255.0, 0.0, 81.08083606031792);stroke-width:2\" />  </svg></g><g transform=\"translate(-4,0)\">  <svg x=\"46.04500036439518%\" y=\"40\" height=\"18\" overflow=\"visible\" width=\"30\">    <path d=\"M 0 -9 l 6 18 L 0 25\" fill=\"none\" style=\"stroke:rgb(255.0, 0.0, 81.08083606031792);stroke-width:2\" />  </svg></g><g transform=\"translate(-2,0)\">  <svg x=\"46.04500036439518%\" y=\"40\" height=\"18\" overflow=\"visible\" width=\"30\">    <path d=\"M 0 -9 l 6 18 L 0 25\" fill=\"none\" style=\"stroke:rgb(255.0, 0.0, 81.08083606031792);stroke-width:2\" />  </svg></g><g transform=\"translate(0,0)\">  <svg x=\"41.965977511505535%\" y=\"40\" height=\"18\" overflow=\"visible\" width=\"30\">    <path d=\"M 0 -9 l 6 18 L 0 25\" fill=\"none\" style=\"stroke:rgb(255.0, 0.0, 81.08083606031792);stroke-width:2\" />  </svg></g><g transform=\"translate(2,0)\">  <svg x=\"41.965977511505535%\" y=\"40\" height=\"18\" overflow=\"visible\" width=\"30\">    <path d=\"M 0 -9 l 6 18 L 0 25\" fill=\"none\" style=\"stroke:rgb(255.0, 0.0, 81.08083606031792);stroke-width:2\" />  </svg></g><g transform=\"translate(4,0)\">  <svg x=\"41.965977511505535%\" y=\"40\" height=\"18\" overflow=\"visible\" width=\"30\">    <path d=\"M 0 -9 l 6 18 L 0 25\" fill=\"none\" style=\"stroke:rgb(255.0, 0.0, 81.08083606031792);stroke-width:2\" />  </svg></g><g transform=\"translate(6,0)\">  <svg x=\"41.965977511505535%\" y=\"40\" height=\"18\" overflow=\"visible\" width=\"30\">    <path d=\"M 0 -9 l 6 18 L 0 25\" fill=\"none\" style=\"stroke:rgb(255.0, 0.0, 81.08083606031792);stroke-width:2\" />  </svg></g><g transform=\"translate(-8,0)\">  <svg x=\"41.965977511505535%\" y=\"40\" height=\"18\" overflow=\"visible\" width=\"30\">    <path d=\"M 0 -9 l 6 18 L 0 25\" fill=\"none\" style=\"stroke:rgb(255.0, 0.0, 81.08083606031792);stroke-width:2\" />  </svg></g><g transform=\"translate(-6,0)\">  <svg x=\"41.965977511505535%\" y=\"40\" height=\"18\" overflow=\"visible\" width=\"30\">    <path d=\"M 0 -9 l 6 18 L 0 25\" fill=\"none\" style=\"stroke:rgb(255.0, 0.0, 81.08083606031792);stroke-width:2\" />  </svg></g><g transform=\"translate(-4,0)\">  <svg x=\"41.965977511505535%\" y=\"40\" height=\"18\" overflow=\"visible\" width=\"30\">    <path d=\"M 0 -9 l 6 18 L 0 25\" fill=\"none\" style=\"stroke:rgb(255.0, 0.0, 81.08083606031792);stroke-width:2\" />  </svg></g><g transform=\"translate(-2,0)\">  <svg x=\"41.965977511505535%\" y=\"40\" height=\"18\" overflow=\"visible\" width=\"30\">    <path d=\"M 0 -9 l 6 18 L 0 25\" fill=\"none\" style=\"stroke:rgb(255.0, 0.0, 81.08083606031792);stroke-width:2\" />  </svg></g><g transform=\"translate(0,0)\">  <svg x=\"39.281665443316776%\" y=\"40\" height=\"18\" overflow=\"visible\" width=\"30\">    <path d=\"M 0 -9 l 6 18 L 0 25\" fill=\"none\" style=\"stroke:rgb(255.0, 0.0, 81.08083606031792);stroke-width:2\" />  </svg></g><g transform=\"translate(2,0)\">  <svg x=\"39.281665443316776%\" y=\"40\" height=\"18\" overflow=\"visible\" width=\"30\">    <path d=\"M 0 -9 l 6 18 L 0 25\" fill=\"none\" style=\"stroke:rgb(255.0, 0.0, 81.08083606031792);stroke-width:2\" />  </svg></g><g transform=\"translate(4,0)\">  <svg x=\"39.281665443316776%\" y=\"40\" height=\"18\" overflow=\"visible\" width=\"30\">    <path d=\"M 0 -9 l 6 18 L 0 25\" fill=\"none\" style=\"stroke:rgb(255.0, 0.0, 81.08083606031792);stroke-width:2\" />  </svg></g><g transform=\"translate(6,0)\">  <svg x=\"39.281665443316776%\" y=\"40\" height=\"18\" overflow=\"visible\" width=\"30\">    <path d=\"M 0 -9 l 6 18 L 0 25\" fill=\"none\" style=\"stroke:rgb(255.0, 0.0, 81.08083606031792);stroke-width:2\" />  </svg></g><g transform=\"translate(-8,0)\">  <svg x=\"39.281665443316776%\" y=\"40\" height=\"18\" overflow=\"visible\" width=\"30\">    <path d=\"M 0 -9 l 6 18 L 0 25\" fill=\"none\" style=\"stroke:rgb(255.0, 0.0, 81.08083606031792);stroke-width:2\" />  </svg></g><g transform=\"translate(-6,0)\">  <svg x=\"39.281665443316776%\" y=\"40\" height=\"18\" overflow=\"visible\" width=\"30\">    <path d=\"M 0 -9 l 6 18 L 0 25\" fill=\"none\" style=\"stroke:rgb(255.0, 0.0, 81.08083606031792);stroke-width:2\" />  </svg></g><g transform=\"translate(-4,0)\">  <svg x=\"39.281665443316776%\" y=\"40\" height=\"18\" overflow=\"visible\" width=\"30\">    <path d=\"M 0 -9 l 6 18 L 0 25\" fill=\"none\" style=\"stroke:rgb(255.0, 0.0, 81.08083606031792);stroke-width:2\" />  </svg></g><g transform=\"translate(-2,0)\">  <svg x=\"39.281665443316776%\" y=\"40\" height=\"18\" overflow=\"visible\" width=\"30\">    <path d=\"M 0 -9 l 6 18 L 0 25\" fill=\"none\" style=\"stroke:rgb(255.0, 0.0, 81.08083606031792);stroke-width:2\" />  </svg></g><g transform=\"translate(0,0)\">  <svg x=\"38.60080664633819%\" y=\"40\" height=\"18\" overflow=\"visible\" width=\"30\">    <path d=\"M 0 -9 l 6 18 L 0 25\" fill=\"none\" style=\"stroke:rgb(255.0, 0.0, 81.08083606031792);stroke-width:2\" />  </svg></g><g transform=\"translate(2,0)\">  <svg x=\"38.60080664633819%\" y=\"40\" height=\"18\" overflow=\"visible\" width=\"30\">    <path d=\"M 0 -9 l 6 18 L 0 25\" fill=\"none\" style=\"stroke:rgb(255.0, 0.0, 81.08083606031792);stroke-width:2\" />  </svg></g><g transform=\"translate(4,0)\">  <svg x=\"38.60080664633819%\" y=\"40\" height=\"18\" overflow=\"visible\" width=\"30\">    <path d=\"M 0 -9 l 6 18 L 0 25\" fill=\"none\" style=\"stroke:rgb(255.0, 0.0, 81.08083606031792);stroke-width:2\" />  </svg></g><g transform=\"translate(6,0)\">  <svg x=\"38.60080664633819%\" y=\"40\" height=\"18\" overflow=\"visible\" width=\"30\">    <path d=\"M 0 -9 l 6 18 L 0 25\" fill=\"none\" style=\"stroke:rgb(255.0, 0.0, 81.08083606031792);stroke-width:2\" />  </svg></g><g transform=\"translate(-8,0)\">  <svg x=\"38.60080664633819%\" y=\"40\" height=\"18\" overflow=\"visible\" width=\"30\">    <path d=\"M 0 -9 l 6 18 L 0 25\" fill=\"none\" style=\"stroke:rgb(255.0, 0.0, 81.08083606031792);stroke-width:2\" />  </svg></g><g transform=\"translate(-6,0)\">  <svg x=\"38.60080664633819%\" y=\"40\" height=\"18\" overflow=\"visible\" width=\"30\">    <path d=\"M 0 -9 l 6 18 L 0 25\" fill=\"none\" style=\"stroke:rgb(255.0, 0.0, 81.08083606031792);stroke-width:2\" />  </svg></g><g transform=\"translate(-4,0)\">  <svg x=\"38.60080664633819%\" y=\"40\" height=\"18\" overflow=\"visible\" width=\"30\">    <path d=\"M 0 -9 l 6 18 L 0 25\" fill=\"none\" style=\"stroke:rgb(255.0, 0.0, 81.08083606031792);stroke-width:2\" />  </svg></g><g transform=\"translate(-2,0)\">  <svg x=\"38.60080664633819%\" y=\"40\" height=\"18\" overflow=\"visible\" width=\"30\">    <path d=\"M 0 -9 l 6 18 L 0 25\" fill=\"none\" style=\"stroke:rgb(255.0, 0.0, 81.08083606031792);stroke-width:2\" />  </svg></g><rect transform=\"translate(-8,0)\" x=\"70.52104210589381%\" y=\"40\" width=\"8\" height=\"18\" style=\"fill:rgb(255.0, 0.0, 81.08083606031792)\"/><g transform=\"translate(-11.5,0)\">  <svg x=\"38.47699253611709%\" y=\"40\" height=\"18\" overflow=\"visible\" width=\"30\">    <path d=\"M 10 -9 l 6 18 L 10 25 L 0 25 L 0 -9\" fill=\"#ffffff\" style=\"stroke:rgb(255,255,255);stroke-width:2\" />  </svg></g><g transform=\"translate(-1.5,0)\">  <svg x=\"70.52104210589381%\" y=\"40\" height=\"18\" overflow=\"visible\" width=\"30\">    <path d=\"M 0 -9 l 6 18 L 0 25\" fill=\"none\" style=\"stroke:rgb(255, 195, 213);stroke-width:2\" />  </svg></g><rect x=\"50.732034735564795%\" y=\"40\" height=\"20\" width=\"19.789007370329017%\"      onmouseover=\"document.getElementById('_tp_jxwvarmvbdhbmsxrthxq_ind_3').style.textDecoration = 'underline';document.getElementById('_fs_jxwvarmvbdhbmsxrthxq_ind_3').style.opacity = 1;document.getElementById('_fb_jxwvarmvbdhbmsxrthxq_ind_3').style.opacity = 1;\"      onmouseout=\"document.getElementById('_tp_jxwvarmvbdhbmsxrthxq_ind_3').style.textDecoration = 'none';document.getElementById('_fs_jxwvarmvbdhbmsxrthxq_ind_3').style.opacity = 0;document.getElementById('_fb_jxwvarmvbdhbmsxrthxq_ind_3').style.opacity = 0;\" style=\"fill:rgb(0,0,0,0)\" /><g transform=\"translate(-1.5,0)\">  <svg x=\"50.732034735564795%\" y=\"40\" height=\"18\" overflow=\"visible\" width=\"30\">    <path d=\"M 0 -9 l 6 18 L 0 25\" fill=\"none\" style=\"stroke:rgb(255, 195, 213);stroke-width:2\" />  </svg></g><rect x=\"46.04500036439518%\" y=\"40\" height=\"20\" width=\"4.6870343711696165%\"      onmouseover=\"document.getElementById('_tp_jxwvarmvbdhbmsxrthxq_ind_7').style.textDecoration = 'underline';document.getElementById('_fs_jxwvarmvbdhbmsxrthxq_ind_7').style.opacity = 1;document.getElementById('_fb_jxwvarmvbdhbmsxrthxq_ind_7').style.opacity = 1;\"      onmouseout=\"document.getElementById('_tp_jxwvarmvbdhbmsxrthxq_ind_7').style.textDecoration = 'none';document.getElementById('_fs_jxwvarmvbdhbmsxrthxq_ind_7').style.opacity = 0;document.getElementById('_fb_jxwvarmvbdhbmsxrthxq_ind_7').style.opacity = 0;\" style=\"fill:rgb(0,0,0,0)\" /><g transform=\"translate(-1.5,0)\">  <svg x=\"46.04500036439518%\" y=\"40\" height=\"18\" overflow=\"visible\" width=\"30\">    <path d=\"M 0 -9 l 6 18 L 0 25\" fill=\"none\" style=\"stroke:rgb(255, 195, 213);stroke-width:2\" />  </svg></g><rect x=\"41.965977511505535%\" y=\"40\" height=\"20\" width=\"4.0790228528896435%\"      onmouseover=\"document.getElementById('_tp_jxwvarmvbdhbmsxrthxq_ind_6').style.textDecoration = 'underline';document.getElementById('_fs_jxwvarmvbdhbmsxrthxq_ind_6').style.opacity = 1;document.getElementById('_fb_jxwvarmvbdhbmsxrthxq_ind_6').style.opacity = 1;\"      onmouseout=\"document.getElementById('_tp_jxwvarmvbdhbmsxrthxq_ind_6').style.textDecoration = 'none';document.getElementById('_fs_jxwvarmvbdhbmsxrthxq_ind_6').style.opacity = 0;document.getElementById('_fb_jxwvarmvbdhbmsxrthxq_ind_6').style.opacity = 0;\" style=\"fill:rgb(0,0,0,0)\" /><g transform=\"translate(-1.5,0)\">  <svg x=\"41.965977511505535%\" y=\"40\" height=\"18\" overflow=\"visible\" width=\"30\">    <path d=\"M 0 -9 l 6 18 L 0 25\" fill=\"none\" style=\"stroke:rgb(255, 195, 213);stroke-width:2\" />  </svg></g><rect x=\"39.281665443316776%\" y=\"40\" height=\"20\" width=\"2.68431206818876%\"      onmouseover=\"document.getElementById('_tp_jxwvarmvbdhbmsxrthxq_ind_2').style.textDecoration = 'underline';document.getElementById('_fs_jxwvarmvbdhbmsxrthxq_ind_2').style.opacity = 1;document.getElementById('_fb_jxwvarmvbdhbmsxrthxq_ind_2').style.opacity = 1;\"      onmouseout=\"document.getElementById('_tp_jxwvarmvbdhbmsxrthxq_ind_2').style.textDecoration = 'none';document.getElementById('_fs_jxwvarmvbdhbmsxrthxq_ind_2').style.opacity = 0;document.getElementById('_fb_jxwvarmvbdhbmsxrthxq_ind_2').style.opacity = 0;\" style=\"fill:rgb(0,0,0,0)\" /><g transform=\"translate(-1.5,0)\">  <svg x=\"39.281665443316776%\" y=\"40\" height=\"18\" overflow=\"visible\" width=\"30\">    <path d=\"M 0 -9 l 6 18 L 0 25\" fill=\"none\" style=\"stroke:rgb(255, 195, 213);stroke-width:2\" />  </svg></g><rect x=\"38.60080664633819%\" y=\"40\" height=\"20\" width=\"0.6808587969785833%\"      onmouseover=\"document.getElementById('_tp_jxwvarmvbdhbmsxrthxq_ind_5').style.textDecoration = 'underline';document.getElementById('_fs_jxwvarmvbdhbmsxrthxq_ind_5').style.opacity = 1;document.getElementById('_fb_jxwvarmvbdhbmsxrthxq_ind_5').style.opacity = 1;\"      onmouseout=\"document.getElementById('_tp_jxwvarmvbdhbmsxrthxq_ind_5').style.textDecoration = 'none';document.getElementById('_fs_jxwvarmvbdhbmsxrthxq_ind_5').style.opacity = 0;document.getElementById('_fb_jxwvarmvbdhbmsxrthxq_ind_5').style.opacity = 0;\" style=\"fill:rgb(0,0,0,0)\" /><rect x=\"38.47699253611709%\" y=\"40\" height=\"20\" width=\"0.12381411022110456%\"      onmouseover=\"document.getElementById('_tp_jxwvarmvbdhbmsxrthxq_ind_8').style.textDecoration = 'underline';document.getElementById('_fs_jxwvarmvbdhbmsxrthxq_ind_8').style.opacity = 1;document.getElementById('_fb_jxwvarmvbdhbmsxrthxq_ind_8').style.opacity = 1;\"      onmouseout=\"document.getElementById('_tp_jxwvarmvbdhbmsxrthxq_ind_8').style.textDecoration = 'none';document.getElementById('_fs_jxwvarmvbdhbmsxrthxq_ind_8').style.opacity = 0;document.getElementById('_fb_jxwvarmvbdhbmsxrthxq_ind_8').style.opacity = 0;\" style=\"fill:rgb(0,0,0,0)\" /><rect x=\"70.52104210589381%\" width=\"23.88595634030245%\" y=\"40\" height=\"18\" style=\"fill:rgb(0.0, 138.56128015770724, 250.76166088685727); stroke-width:0; stroke:rgb(0,0,0)\" /><line x1=\"70.52104210589381%\" x2=\"93.33051215150608%\" y1=\"60\" y2=\"60\" id=\"_fb_jxwvarmvbdhbmsxrthxq_ind_4\" style=\"stroke:rgb(0.0, 138.56128015770724, 250.76166088685727);stroke-width:2; opacity: 0\"/><text x=\"81.92577712869995%\" y=\"71\" font-size=\"12px\" fill=\"rgb(0.0, 138.56128015770724, 250.76166088685727)\" id=\"_fs_jxwvarmvbdhbmsxrthxq_ind_4\" style=\"opacity: 0\" dominant-baseline=\"middle\" text-anchor=\"middle\">-0.237</text><svg x=\"70.52104210589381%\" y=\"40\" height=\"20\" width=\"22.809470045612272%\">  <svg x=\"0\" y=\"0\" width=\"100%\" height=\"100%\">    <text x=\"50%\" y=\"9\" font-size=\"12px\" fill=\"rgb(255,255,255)\" dominant-baseline=\"middle\" text-anchor=\"middle\">disappointed</text>  </svg></svg><line x1=\"93.33051215150608%\" x2=\"94.40699844619625%\" y1=\"60\" y2=\"60\" id=\"_fb_jxwvarmvbdhbmsxrthxq_ind_1\" style=\"stroke:rgb(0.0, 138.56128015770724, 250.76166088685727);stroke-width:2; opacity: 0\"/><text x=\"93.86875529885117%\" y=\"71\" font-size=\"12px\" fill=\"rgb(0.0, 138.56128015770724, 250.76166088685727)\" id=\"_fs_jxwvarmvbdhbmsxrthxq_ind_1\" style=\"opacity: 0\" dominant-baseline=\"middle\" text-anchor=\"middle\">-0.011</text><svg x=\"93.33051215150608%\" y=\"40\" height=\"20\" width=\"1.07648629469017%\">  <svg x=\"0\" y=\"0\" width=\"100%\" height=\"100%\">    <text x=\"50%\" y=\"9\" font-size=\"12px\" fill=\"rgb(255,255,255)\" dominant-baseline=\"middle\" text-anchor=\"middle\">I</text>  </svg></svg><g transform=\"translate(-8,0)\">  <svg x=\"93.33051215150608%\" y=\"40\" height=\"18\" overflow=\"visible\" width=\"30\">    <path d=\"M 8 -9 l -6 18 L 8 25\" fill=\"none\" style=\"stroke:rgb(0.0, 138.56128015770724, 250.76166088685727);stroke-width:2\" />  </svg></g><g transform=\"translate(-10,0)\">  <svg x=\"93.33051215150608%\" y=\"40\" height=\"18\" overflow=\"visible\" width=\"30\">    <path d=\"M 8 -9 l -6 18 L 8 25\" fill=\"none\" style=\"stroke:rgb(0.0, 138.56128015770724, 250.76166088685727);stroke-width:2\" />  </svg></g><g transform=\"translate(-12,0)\">  <svg x=\"93.33051215150608%\" y=\"40\" height=\"18\" overflow=\"visible\" width=\"30\">    <path d=\"M 8 -9 l -6 18 L 8 25\" fill=\"none\" style=\"stroke:rgb(0.0, 138.56128015770724, 250.76166088685727);stroke-width:2\" />  </svg></g><g transform=\"translate(-14,0)\">  <svg x=\"93.33051215150608%\" y=\"40\" height=\"18\" overflow=\"visible\" width=\"30\">    <path d=\"M 8 -9 l -6 18 L 8 25\" fill=\"none\" style=\"stroke:rgb(0.0, 138.56128015770724, 250.76166088685727);stroke-width:2\" />  </svg></g><g transform=\"translate(2,0)\">  <svg x=\"93.33051215150608%\" y=\"40\" height=\"18\" overflow=\"visible\" width=\"30\">    <path d=\"M 8 -9 l -6 18 L 8 25\" fill=\"none\" style=\"stroke:rgb(0.0, 138.56128015770724, 250.76166088685727);stroke-width:2\" />  </svg></g><g transform=\"translate(0,0)\">  <svg x=\"93.33051215150608%\" y=\"40\" height=\"18\" overflow=\"visible\" width=\"30\">    <path d=\"M 8 -9 l -6 18 L 8 25\" fill=\"none\" style=\"stroke:rgb(0.0, 138.56128015770724, 250.76166088685727);stroke-width:2\" />  </svg></g><g transform=\"translate(-2,0)\">  <svg x=\"93.33051215150608%\" y=\"40\" height=\"18\" overflow=\"visible\" width=\"30\">    <path d=\"M 8 -9 l -6 18 L 8 25\" fill=\"none\" style=\"stroke:rgb(0.0, 138.56128015770724, 250.76166088685727);stroke-width:2\" />  </svg></g><g transform=\"translate(-4,0)\">  <svg x=\"93.33051215150608%\" y=\"40\" height=\"18\" overflow=\"visible\" width=\"30\">    <path d=\"M 8 -9 l -6 18 L 8 25\" fill=\"none\" style=\"stroke:rgb(0.0, 138.56128015770724, 250.76166088685727);stroke-width:2\" />  </svg></g><rect transform=\"translate(0,0)\" x=\"70.52104210589381%\" y=\"40\" width=\"8\" height=\"18\" style=\"fill:rgb(0.0, 138.56128015770724, 250.76166088685727)\"/><g transform=\"translate(-6.0,0)\">  <svg x=\"94.40699844619625%\" y=\"40\" height=\"18\" overflow=\"visible\" width=\"30\">    <path d=\"M 8 -9 l -6 18 L 8 25 L 20 25 L 20 -9\" fill=\"#ffffff\" style=\"stroke:rgb(255,255,255);stroke-width:2\" />  </svg></g><g transform=\"translate(-6.0,0)\">  <svg x=\"93.33051215150608%\" y=\"40\" height=\"18\" overflow=\"visible\" width=\"30\">    <path d=\"M 8 -9 l -6 18 L 8 25\" fill=\"none\" style=\"stroke:rgb(208, 230, 250);stroke-width:2\" />  </svg></g><rect x=\"70.52104210589381%\" y=\"40\" height=\"20\" width=\"22.809470045612272%\"      onmouseover=\"document.getElementById('_tp_jxwvarmvbdhbmsxrthxq_ind_4').style.textDecoration = 'underline';document.getElementById('_fs_jxwvarmvbdhbmsxrthxq_ind_4').style.opacity = 1;document.getElementById('_fb_jxwvarmvbdhbmsxrthxq_ind_4').style.opacity = 1;\"      onmouseout=\"document.getElementById('_tp_jxwvarmvbdhbmsxrthxq_ind_4').style.textDecoration = 'none';document.getElementById('_fs_jxwvarmvbdhbmsxrthxq_ind_4').style.opacity = 0;document.getElementById('_fb_jxwvarmvbdhbmsxrthxq_ind_4').style.opacity = 0;\" style=\"fill:rgb(0,0,0,0)\" /><rect x=\"93.33051215150608%\" y=\"40\" height=\"20\" width=\"1.07648629469017%\"      onmouseover=\"document.getElementById('_tp_jxwvarmvbdhbmsxrthxq_ind_1').style.textDecoration = 'underline';document.getElementById('_fs_jxwvarmvbdhbmsxrthxq_ind_1').style.opacity = 1;document.getElementById('_fb_jxwvarmvbdhbmsxrthxq_ind_1').style.opacity = 1;\"      onmouseout=\"document.getElementById('_tp_jxwvarmvbdhbmsxrthxq_ind_1').style.textDecoration = 'none';document.getElementById('_fs_jxwvarmvbdhbmsxrthxq_ind_1').style.opacity = 0;document.getElementById('_fb_jxwvarmvbdhbmsxrthxq_ind_1').style.opacity = 0;\" style=\"fill:rgb(0,0,0,0)\" /></svg><div align='center'><div style=\"color: rgb(120,120,120); font-size: 12px; margin-top: -15px;\">inputs</div><div style='display: inline; text-align: center;'\n",
       "    ><div style='display: none; color: #999; padding-top: 0px; font-size: 12px;'>0.0</div\n",
       "        ><div id='_tp_jxwvarmvbdhbmsxrthxq_ind_0'\n",
       "            style='display: inline; background: rgba(230.2941176470614, 26.505882352939775, 102.59215686274348, 0.0); border-radius: 3px; padding: 0px'\n",
       "            onclick=\"\n",
       "            if (this.previousSibling.style.display == 'none') {\n",
       "                this.previousSibling.style.display = 'block';\n",
       "                this.parentNode.style.display = 'inline-block';\n",
       "            } else {\n",
       "                this.previousSibling.style.display = 'none';\n",
       "                this.parentNode.style.display = 'inline';\n",
       "            }\"\n",
       "            onmouseover=\"document.getElementById('_fb_jxwvarmvbdhbmsxrthxq_ind_0').style.opacity = 1; document.getElementById('_fs_jxwvarmvbdhbmsxrthxq_ind_0').style.opacity = 1;\"\n",
       "            onmouseout=\"document.getElementById('_fb_jxwvarmvbdhbmsxrthxq_ind_0').style.opacity = 0; document.getElementById('_fs_jxwvarmvbdhbmsxrthxq_ind_0').style.opacity = 0;\"\n",
       "        ></div></div><div style='display: inline; text-align: center;'\n",
       "    ><div style='display: none; color: #999; padding-top: 0px; font-size: 12px;'>-0.011</div\n",
       "        ><div id='_tp_jxwvarmvbdhbmsxrthxq_ind_1'\n",
       "            style='display: inline; background: rgba(30.0, 136.0, 229.0, 0.04618736383442258); border-radius: 3px; padding: 0px'\n",
       "            onclick=\"\n",
       "            if (this.previousSibling.style.display == 'none') {\n",
       "                this.previousSibling.style.display = 'block';\n",
       "                this.parentNode.style.display = 'inline-block';\n",
       "            } else {\n",
       "                this.previousSibling.style.display = 'none';\n",
       "                this.parentNode.style.display = 'inline';\n",
       "            }\"\n",
       "            onmouseover=\"document.getElementById('_fb_jxwvarmvbdhbmsxrthxq_ind_1').style.opacity = 1; document.getElementById('_fs_jxwvarmvbdhbmsxrthxq_ind_1').style.opacity = 1;\"\n",
       "            onmouseout=\"document.getElementById('_fb_jxwvarmvbdhbmsxrthxq_ind_1').style.opacity = 0; document.getElementById('_fs_jxwvarmvbdhbmsxrthxq_ind_1').style.opacity = 0;\"\n",
       "        >I </div></div><div style='display: inline; text-align: center;'\n",
       "    ><div style='display: none; color: #999; padding-top: 0px; font-size: 12px;'>0.028</div\n",
       "        ><div id='_tp_jxwvarmvbdhbmsxrthxq_ind_2'\n",
       "            style='display: inline; background: rgba(255.0, 13.0, 87.0, 0.1171321053673995); border-radius: 3px; padding: 0px'\n",
       "            onclick=\"\n",
       "            if (this.previousSibling.style.display == 'none') {\n",
       "                this.previousSibling.style.display = 'block';\n",
       "                this.parentNode.style.display = 'inline-block';\n",
       "            } else {\n",
       "                this.previousSibling.style.display = 'none';\n",
       "                this.parentNode.style.display = 'inline';\n",
       "            }\"\n",
       "            onmouseover=\"document.getElementById('_fb_jxwvarmvbdhbmsxrthxq_ind_2').style.opacity = 1; document.getElementById('_fs_jxwvarmvbdhbmsxrthxq_ind_2').style.opacity = 1;\"\n",
       "            onmouseout=\"document.getElementById('_fb_jxwvarmvbdhbmsxrthxq_ind_2').style.opacity = 0; document.getElementById('_fs_jxwvarmvbdhbmsxrthxq_ind_2').style.opacity = 0;\"\n",
       "        >was </div></div><div style='display: inline; text-align: center;'\n",
       "    ><div style='display: none; color: #999; padding-top: 0px; font-size: 12px;'>0.206</div\n",
       "        ><div id='_tp_jxwvarmvbdhbmsxrthxq_ind_3'\n",
       "            style='display: inline; background: rgba(255.0, 13.0, 87.0, 0.8738760150524857); border-radius: 3px; padding: 0px'\n",
       "            onclick=\"\n",
       "            if (this.previousSibling.style.display == 'none') {\n",
       "                this.previousSibling.style.display = 'block';\n",
       "                this.parentNode.style.display = 'inline-block';\n",
       "            } else {\n",
       "                this.previousSibling.style.display = 'none';\n",
       "                this.parentNode.style.display = 'inline';\n",
       "            }\"\n",
       "            onmouseover=\"document.getElementById('_fb_jxwvarmvbdhbmsxrthxq_ind_3').style.opacity = 1; document.getElementById('_fs_jxwvarmvbdhbmsxrthxq_ind_3').style.opacity = 1;\"\n",
       "            onmouseout=\"document.getElementById('_fb_jxwvarmvbdhbmsxrthxq_ind_3').style.opacity = 0; document.getElementById('_fs_jxwvarmvbdhbmsxrthxq_ind_3').style.opacity = 0;\"\n",
       "        >not </div></div><div style='display: inline; text-align: center;'\n",
       "    ><div style='display: none; color: #999; padding-top: 0px; font-size: 12px;'>-0.237</div\n",
       "        ><div id='_tp_jxwvarmvbdhbmsxrthxq_ind_4'\n",
       "            style='display: inline; background: rgba(30.0, 136.0, 229.0, 1.0); border-radius: 3px; padding: 0px'\n",
       "            onclick=\"\n",
       "            if (this.previousSibling.style.display == 'none') {\n",
       "                this.previousSibling.style.display = 'block';\n",
       "                this.parentNode.style.display = 'inline-block';\n",
       "            } else {\n",
       "                this.previousSibling.style.display = 'none';\n",
       "                this.parentNode.style.display = 'inline';\n",
       "            }\"\n",
       "            onmouseover=\"document.getElementById('_fb_jxwvarmvbdhbmsxrthxq_ind_4').style.opacity = 1; document.getElementById('_fs_jxwvarmvbdhbmsxrthxq_ind_4').style.opacity = 1;\"\n",
       "            onmouseout=\"document.getElementById('_fb_jxwvarmvbdhbmsxrthxq_ind_4').style.opacity = 0; document.getElementById('_fs_jxwvarmvbdhbmsxrthxq_ind_4').style.opacity = 0;\"\n",
       "        >disappointed </div></div><div style='display: inline; text-align: center;'\n",
       "    ><div style='display: none; color: #999; padding-top: 0px; font-size: 12px;'>0.007</div\n",
       "        ><div id='_tp_jxwvarmvbdhbmsxrthxq_ind_5'\n",
       "            style='display: inline; background: rgba(255.0, 13.0, 87.0, 0.02253911665676371); border-radius: 3px; padding: 0px'\n",
       "            onclick=\"\n",
       "            if (this.previousSibling.style.display == 'none') {\n",
       "                this.previousSibling.style.display = 'block';\n",
       "                this.parentNode.style.display = 'inline-block';\n",
       "            } else {\n",
       "                this.previousSibling.style.display = 'none';\n",
       "                this.parentNode.style.display = 'inline';\n",
       "            }\"\n",
       "            onmouseover=\"document.getElementById('_fb_jxwvarmvbdhbmsxrthxq_ind_5').style.opacity = 1; document.getElementById('_fs_jxwvarmvbdhbmsxrthxq_ind_5').style.opacity = 1;\"\n",
       "            onmouseout=\"document.getElementById('_fb_jxwvarmvbdhbmsxrthxq_ind_5').style.opacity = 0; document.getElementById('_fs_jxwvarmvbdhbmsxrthxq_ind_5').style.opacity = 0;\"\n",
       "        >with </div></div><div style='display: inline; text-align: center;'\n",
       "    ><div style='display: none; color: #999; padding-top: 0px; font-size: 12px;'>0.042</div\n",
       "        ><div id='_tp_jxwvarmvbdhbmsxrthxq_ind_6'\n",
       "            style='display: inline; background: rgba(255.0, 13.0, 87.0, 0.17231134878193693); border-radius: 3px; padding: 0px'\n",
       "            onclick=\"\n",
       "            if (this.previousSibling.style.display == 'none') {\n",
       "                this.previousSibling.style.display = 'block';\n",
       "                this.parentNode.style.display = 'inline-block';\n",
       "            } else {\n",
       "                this.previousSibling.style.display = 'none';\n",
       "                this.parentNode.style.display = 'inline';\n",
       "            }\"\n",
       "            onmouseover=\"document.getElementById('_fb_jxwvarmvbdhbmsxrthxq_ind_6').style.opacity = 1; document.getElementById('_fs_jxwvarmvbdhbmsxrthxq_ind_6').style.opacity = 1;\"\n",
       "            onmouseout=\"document.getElementById('_fb_jxwvarmvbdhbmsxrthxq_ind_6').style.opacity = 0; document.getElementById('_fs_jxwvarmvbdhbmsxrthxq_ind_6').style.opacity = 0;\"\n",
       "        >the </div></div><div style='display: inline; text-align: center;'\n",
       "    ><div style='display: none; color: #999; padding-top: 0px; font-size: 12px;'>0.049</div\n",
       "        ><div id='_tp_jxwvarmvbdhbmsxrthxq_ind_7'\n",
       "            style='display: inline; background: rgba(255.0, 13.0, 87.0, 0.20384234501881549); border-radius: 3px; padding: 0px'\n",
       "            onclick=\"\n",
       "            if (this.previousSibling.style.display == 'none') {\n",
       "                this.previousSibling.style.display = 'block';\n",
       "                this.parentNode.style.display = 'inline-block';\n",
       "            } else {\n",
       "                this.previousSibling.style.display = 'none';\n",
       "                this.parentNode.style.display = 'inline';\n",
       "            }\"\n",
       "            onmouseover=\"document.getElementById('_fb_jxwvarmvbdhbmsxrthxq_ind_7').style.opacity = 1; document.getElementById('_fs_jxwvarmvbdhbmsxrthxq_ind_7').style.opacity = 1;\"\n",
       "            onmouseout=\"document.getElementById('_fb_jxwvarmvbdhbmsxrthxq_ind_7').style.opacity = 0; document.getElementById('_fs_jxwvarmvbdhbmsxrthxq_ind_7').style.opacity = 0;\"\n",
       "        >result</div></div><div style='display: inline; text-align: center;'\n",
       "    ><div style='display: none; color: #999; padding-top: 0px; font-size: 12px;'>0.001</div\n",
       "        ><div id='_tp_jxwvarmvbdhbmsxrthxq_ind_8'\n",
       "            style='display: inline; background: rgba(230.2941176470614, 26.505882352939775, 102.59215686274348, 0.0); border-radius: 3px; padding: 0px'\n",
       "            onclick=\"\n",
       "            if (this.previousSibling.style.display == 'none') {\n",
       "                this.previousSibling.style.display = 'block';\n",
       "                this.parentNode.style.display = 'inline-block';\n",
       "            } else {\n",
       "                this.previousSibling.style.display = 'none';\n",
       "                this.parentNode.style.display = 'inline';\n",
       "            }\"\n",
       "            onmouseover=\"document.getElementById('_fb_jxwvarmvbdhbmsxrthxq_ind_8').style.opacity = 1; document.getElementById('_fs_jxwvarmvbdhbmsxrthxq_ind_8').style.opacity = 1;\"\n",
       "            onmouseout=\"document.getElementById('_fb_jxwvarmvbdhbmsxrthxq_ind_8').style.opacity = 0; document.getElementById('_fs_jxwvarmvbdhbmsxrthxq_ind_8').style.opacity = 0;\"\n",
       "        >.</div></div><div style='display: inline; text-align: center;'\n",
       "    ><div style='display: none; color: #999; padding-top: 0px; font-size: 12px;'>0.0</div\n",
       "        ><div id='_tp_jxwvarmvbdhbmsxrthxq_ind_9'\n",
       "            style='display: inline; background: rgba(230.2941176470614, 26.505882352939775, 102.59215686274348, 0.0); border-radius: 3px; padding: 0px'\n",
       "            onclick=\"\n",
       "            if (this.previousSibling.style.display == 'none') {\n",
       "                this.previousSibling.style.display = 'block';\n",
       "                this.parentNode.style.display = 'inline-block';\n",
       "            } else {\n",
       "                this.previousSibling.style.display = 'none';\n",
       "                this.parentNode.style.display = 'inline';\n",
       "            }\"\n",
       "            onmouseover=\"document.getElementById('_fb_jxwvarmvbdhbmsxrthxq_ind_9').style.opacity = 1; document.getElementById('_fs_jxwvarmvbdhbmsxrthxq_ind_9').style.opacity = 1;\"\n",
       "            onmouseout=\"document.getElementById('_fb_jxwvarmvbdhbmsxrthxq_ind_9').style.opacity = 0; document.getElementById('_fs_jxwvarmvbdhbmsxrthxq_ind_9').style.opacity = 0;\"\n",
       "        ></div></div></div></div><div id='_tp_wsmkdarudluwerjvfalk_output_1_zoom' style='display: none;'><svg width=\"100%\" height=\"80px\"><line x1=\"0\" y1=\"33\" x2=\"100%\" y2=\"33\" style=\"stroke:rgb(150,150,150);stroke-width:1\" /><line x1=\"50.070386459913266%\" y1=\"33\" x2=\"50.070386459913266%\" y2=\"37\" style=\"stroke:rgb(150,150,150);stroke-width:1\" /><text x=\"50.070386459913266%\" y=\"27\" font-size=\"12px\" fill=\"rgb(120,120,120)\" dominant-baseline=\"bottom\" text-anchor=\"middle\">0.5</text><line x1=\"35.725137734121404%\" y1=\"33\" x2=\"35.725137734121404%\" y2=\"37\" style=\"stroke:rgb(150,150,150);stroke-width:1\" /><text x=\"35.725137734121404%\" y=\"27\" font-size=\"12px\" fill=\"rgb(120,120,120)\" dominant-baseline=\"bottom\" text-anchor=\"middle\">0.4</text><line x1=\"21.379889008329535%\" y1=\"33\" x2=\"21.379889008329535%\" y2=\"37\" style=\"stroke:rgb(150,150,150);stroke-width:1\" /><text x=\"21.379889008329535%\" y=\"27\" font-size=\"12px\" fill=\"rgb(120,120,120)\" dominant-baseline=\"bottom\" text-anchor=\"middle\">0.3</text><line x1=\"64.41563518570513%\" y1=\"33\" x2=\"64.41563518570513%\" y2=\"37\" style=\"stroke:rgb(150,150,150);stroke-width:1\" /><text x=\"64.41563518570513%\" y=\"27\" font-size=\"12px\" fill=\"rgb(120,120,120)\" dominant-baseline=\"bottom\" text-anchor=\"middle\">0.6</text><line x1=\"78.760883911497%\" y1=\"33\" x2=\"78.760883911497%\" y2=\"37\" style=\"stroke:rgb(150,150,150);stroke-width:1\" /><text x=\"78.760883911497%\" y=\"27\" font-size=\"12px\" fill=\"rgb(120,120,120)\" dominant-baseline=\"bottom\" text-anchor=\"middle\">0.7</text><line x1=\"43.922393160214476%\" y1=\"33\" x2=\"43.922393160214476%\" y2=\"37\" style=\"stroke:rgb(150,150,150);stroke-width:1\" /><text x=\"43.922393160214476%\" y=\"27\" font-size=\"13px\" style=\"stroke:#ffffff;stroke-width:8px;\" fill=\"rgb(255,255,255)\" dominant-baseline=\"bottom\" text-anchor=\"middle\">0.457143</text><text x=\"43.922393160214476%\" y=\"27\" font-size=\"12px\" fill=\"rgb(120,120,120)\" dominant-baseline=\"bottom\" text-anchor=\"middle\">0.457143</text><text x=\"43.922393160214476%\" y=\"10\" font-size=\"12px\" fill=\"rgb(120,120,120)\" dominant-baseline=\"bottom\" text-anchor=\"middle\">base value</text><line x1=\"56.07760540526064%\" y1=\"33\" x2=\"56.07760540526064%\" y2=\"37\" style=\"stroke:rgb(150,150,150);stroke-width:1\" /><text x=\"56.07760540526064%\" y=\"27\" font-size=\"13px\" style=\"stroke:#ffffff;stroke-width:8px;\" font-weight=\"bold\" fill=\"rgb(255,255,255)\" dominant-baseline=\"bottom\" text-anchor=\"middle\">0.541876</text><text x=\"56.07760540526064%\" y=\"27\" font-size=\"13px\" font-weight=\"bold\" fill=\"rgb(0,0,0)\" dominant-baseline=\"bottom\" text-anchor=\"middle\">0.541876</text><text x=\"56.07760540526064%\" y=\"10\" font-size=\"12px\" fill=\"rgb(120,120,120)\" dominant-baseline=\"bottom\" text-anchor=\"middle\">f<tspan baseline-shift=\"sub\" font-size=\"8px\">neutral</tspan>(inputs)</text><rect x=\"8.333333213789592%\" width=\"47.74427219147105%\" y=\"40\" height=\"18\" style=\"fill:rgb(255.0, 0.0, 81.08083606031792); stroke-width:0; stroke:rgb(0,0,0)\" /><line x1=\"26.592825329925162%\" x2=\"56.07760540526064%\" y1=\"60\" y2=\"60\" id=\"_fb_acowxrbentjtrgmycxaq_ind_3\" style=\"stroke:rgb(255.0, 0.0, 81.08083606031792);stroke-width:2; opacity: 0\"/><text x=\"41.3352153675929%\" y=\"71\" font-size=\"12px\" id=\"_fs_acowxrbentjtrgmycxaq_ind_3\" fill=\"rgb(255.0, 0.0, 81.08083606031792)\" style=\"opacity: 0\" dominant-baseline=\"middle\" text-anchor=\"middle\">0.206</text><svg x=\"26.592825329925162%\" y=\"40\" height=\"20\" width=\"29.48478007533548%\">  <svg x=\"0\" y=\"0\" width=\"100%\" height=\"100%\">    <text x=\"50%\" y=\"9\" font-size=\"12px\" fill=\"rgb(255,255,255)\" dominant-baseline=\"middle\" text-anchor=\"middle\">not</text>  </svg></svg><line x1=\"19.60934328591514%\" x2=\"26.592825329925162%\" y1=\"60\" y2=\"60\" id=\"_fb_acowxrbentjtrgmycxaq_ind_7\" style=\"stroke:rgb(255.0, 0.0, 81.08083606031792);stroke-width:2; opacity: 0\"/><text x=\"23.101084307920154%\" y=\"71\" font-size=\"12px\" id=\"_fs_acowxrbentjtrgmycxaq_ind_7\" fill=\"rgb(255.0, 0.0, 81.08083606031792)\" style=\"opacity: 0\" dominant-baseline=\"middle\" text-anchor=\"middle\">0.049</text><svg x=\"19.60934328591514%\" y=\"40\" height=\"20\" width=\"6.983482044010021%\">  <svg x=\"0\" y=\"0\" width=\"100%\" height=\"100%\">    <text x=\"50%\" y=\"9\" font-size=\"12px\" fill=\"rgb(255,255,255)\" dominant-baseline=\"middle\" text-anchor=\"middle\">result</text>  </svg></svg><line x1=\"13.531772567535095%\" x2=\"19.60934328591514%\" y1=\"60\" y2=\"60\" id=\"_fb_acowxrbentjtrgmycxaq_ind_6\" style=\"stroke:rgb(255.0, 0.0, 81.08083606031792);stroke-width:2; opacity: 0\"/><text x=\"16.57055792672512%\" y=\"71\" font-size=\"12px\" id=\"_fs_acowxrbentjtrgmycxaq_ind_6\" fill=\"rgb(255.0, 0.0, 81.08083606031792)\" style=\"opacity: 0\" dominant-baseline=\"middle\" text-anchor=\"middle\">0.042</text><svg x=\"13.531772567535095%\" y=\"40\" height=\"20\" width=\"6.077570718380047%\">  <svg x=\"0\" y=\"0\" width=\"100%\" height=\"100%\">    <text x=\"50%\" y=\"9\" font-size=\"12px\" fill=\"rgb(255,255,255)\" dominant-baseline=\"middle\" text-anchor=\"middle\">the</text>  </svg></svg><line x1=\"9.532261652056638%\" x2=\"13.531772567535095%\" y1=\"60\" y2=\"60\" id=\"_fb_acowxrbentjtrgmycxaq_ind_2\" style=\"stroke:rgb(255.0, 0.0, 81.08083606031792);stroke-width:2; opacity: 0\"/><text x=\"11.532017109795866%\" y=\"71\" font-size=\"12px\" id=\"_fs_acowxrbentjtrgmycxaq_ind_2\" fill=\"rgb(255.0, 0.0, 81.08083606031792)\" style=\"opacity: 0\" dominant-baseline=\"middle\" text-anchor=\"middle\">0.028</text><svg x=\"9.532261652056638%\" y=\"40\" height=\"20\" width=\"3.9995109154784565%\">  <svg x=\"0\" y=\"0\" width=\"100%\" height=\"100%\">    <text x=\"50%\" y=\"9\" font-size=\"12px\" fill=\"rgb(255,255,255)\" dominant-baseline=\"middle\" text-anchor=\"middle\">was</text>  </svg></svg><line x1=\"8.517810976709937%\" x2=\"9.532261652056638%\" y1=\"60\" y2=\"60\" id=\"_fb_acowxrbentjtrgmycxaq_ind_5\" style=\"stroke:rgb(255.0, 0.0, 81.08083606031792);stroke-width:2; opacity: 0\"/><text x=\"9.025036314383287%\" y=\"71\" font-size=\"12px\" id=\"_fs_acowxrbentjtrgmycxaq_ind_5\" fill=\"rgb(255.0, 0.0, 81.08083606031792)\" style=\"opacity: 0\" dominant-baseline=\"middle\" text-anchor=\"middle\">0.007</text><svg x=\"8.517810976709937%\" y=\"40\" height=\"20\" width=\"1.0144506753467013%\">  <svg x=\"0\" y=\"0\" width=\"100%\" height=\"100%\">    <text x=\"50%\" y=\"9\" font-size=\"12px\" fill=\"rgb(255,255,255)\" dominant-baseline=\"middle\" text-anchor=\"middle\">with</text>  </svg></svg><line x1=\"8.333333213789592%\" x2=\"8.517810976709937%\" y1=\"60\" y2=\"60\" id=\"_fb_acowxrbentjtrgmycxaq_ind_8\" style=\"stroke:rgb(255.0, 0.0, 81.08083606031792);stroke-width:2; opacity: 0\"/><text x=\"8.425572095249764%\" y=\"71\" font-size=\"12px\" id=\"_fs_acowxrbentjtrgmycxaq_ind_8\" fill=\"rgb(255.0, 0.0, 81.08083606031792)\" style=\"opacity: 0\" dominant-baseline=\"middle\" text-anchor=\"middle\">0.001</text><svg x=\"8.333333213789592%\" y=\"40\" height=\"20\" width=\"0.1844777629203449%\">  <svg x=\"0\" y=\"0\" width=\"100%\" height=\"100%\">    <text x=\"50%\" y=\"9\" font-size=\"12px\" fill=\"rgb(255,255,255)\" dominant-baseline=\"middle\" text-anchor=\"middle\">.</text>  </svg></svg><g transform=\"translate(0,0)\">  <svg x=\"26.592825329925162%\" y=\"40\" height=\"18\" overflow=\"visible\" width=\"30\">    <path d=\"M 0 -9 l 6 18 L 0 25\" fill=\"none\" style=\"stroke:rgb(255.0, 0.0, 81.08083606031792);stroke-width:2\" />  </svg></g><g transform=\"translate(2,0)\">  <svg x=\"26.592825329925162%\" y=\"40\" height=\"18\" overflow=\"visible\" width=\"30\">    <path d=\"M 0 -9 l 6 18 L 0 25\" fill=\"none\" style=\"stroke:rgb(255.0, 0.0, 81.08083606031792);stroke-width:2\" />  </svg></g><g transform=\"translate(4,0)\">  <svg x=\"26.592825329925162%\" y=\"40\" height=\"18\" overflow=\"visible\" width=\"30\">    <path d=\"M 0 -9 l 6 18 L 0 25\" fill=\"none\" style=\"stroke:rgb(255.0, 0.0, 81.08083606031792);stroke-width:2\" />  </svg></g><g transform=\"translate(6,0)\">  <svg x=\"26.592825329925162%\" y=\"40\" height=\"18\" overflow=\"visible\" width=\"30\">    <path d=\"M 0 -9 l 6 18 L 0 25\" fill=\"none\" style=\"stroke:rgb(255.0, 0.0, 81.08083606031792);stroke-width:2\" />  </svg></g><g transform=\"translate(-8,0)\">  <svg x=\"26.592825329925162%\" y=\"40\" height=\"18\" overflow=\"visible\" width=\"30\">    <path d=\"M 0 -9 l 6 18 L 0 25\" fill=\"none\" style=\"stroke:rgb(255.0, 0.0, 81.08083606031792);stroke-width:2\" />  </svg></g><g transform=\"translate(-6,0)\">  <svg x=\"26.592825329925162%\" y=\"40\" height=\"18\" overflow=\"visible\" width=\"30\">    <path d=\"M 0 -9 l 6 18 L 0 25\" fill=\"none\" style=\"stroke:rgb(255.0, 0.0, 81.08083606031792);stroke-width:2\" />  </svg></g><g transform=\"translate(-4,0)\">  <svg x=\"26.592825329925162%\" y=\"40\" height=\"18\" overflow=\"visible\" width=\"30\">    <path d=\"M 0 -9 l 6 18 L 0 25\" fill=\"none\" style=\"stroke:rgb(255.0, 0.0, 81.08083606031792);stroke-width:2\" />  </svg></g><g transform=\"translate(-2,0)\">  <svg x=\"26.592825329925162%\" y=\"40\" height=\"18\" overflow=\"visible\" width=\"30\">    <path d=\"M 0 -9 l 6 18 L 0 25\" fill=\"none\" style=\"stroke:rgb(255.0, 0.0, 81.08083606031792);stroke-width:2\" />  </svg></g><g transform=\"translate(0,0)\">  <svg x=\"19.60934328591514%\" y=\"40\" height=\"18\" overflow=\"visible\" width=\"30\">    <path d=\"M 0 -9 l 6 18 L 0 25\" fill=\"none\" style=\"stroke:rgb(255.0, 0.0, 81.08083606031792);stroke-width:2\" />  </svg></g><g transform=\"translate(2,0)\">  <svg x=\"19.60934328591514%\" y=\"40\" height=\"18\" overflow=\"visible\" width=\"30\">    <path d=\"M 0 -9 l 6 18 L 0 25\" fill=\"none\" style=\"stroke:rgb(255.0, 0.0, 81.08083606031792);stroke-width:2\" />  </svg></g><g transform=\"translate(4,0)\">  <svg x=\"19.60934328591514%\" y=\"40\" height=\"18\" overflow=\"visible\" width=\"30\">    <path d=\"M 0 -9 l 6 18 L 0 25\" fill=\"none\" style=\"stroke:rgb(255.0, 0.0, 81.08083606031792);stroke-width:2\" />  </svg></g><g transform=\"translate(6,0)\">  <svg x=\"19.60934328591514%\" y=\"40\" height=\"18\" overflow=\"visible\" width=\"30\">    <path d=\"M 0 -9 l 6 18 L 0 25\" fill=\"none\" style=\"stroke:rgb(255.0, 0.0, 81.08083606031792);stroke-width:2\" />  </svg></g><g transform=\"translate(-8,0)\">  <svg x=\"19.60934328591514%\" y=\"40\" height=\"18\" overflow=\"visible\" width=\"30\">    <path d=\"M 0 -9 l 6 18 L 0 25\" fill=\"none\" style=\"stroke:rgb(255.0, 0.0, 81.08083606031792);stroke-width:2\" />  </svg></g><g transform=\"translate(-6,0)\">  <svg x=\"19.60934328591514%\" y=\"40\" height=\"18\" overflow=\"visible\" width=\"30\">    <path d=\"M 0 -9 l 6 18 L 0 25\" fill=\"none\" style=\"stroke:rgb(255.0, 0.0, 81.08083606031792);stroke-width:2\" />  </svg></g><g transform=\"translate(-4,0)\">  <svg x=\"19.60934328591514%\" y=\"40\" height=\"18\" overflow=\"visible\" width=\"30\">    <path d=\"M 0 -9 l 6 18 L 0 25\" fill=\"none\" style=\"stroke:rgb(255.0, 0.0, 81.08083606031792);stroke-width:2\" />  </svg></g><g transform=\"translate(-2,0)\">  <svg x=\"19.60934328591514%\" y=\"40\" height=\"18\" overflow=\"visible\" width=\"30\">    <path d=\"M 0 -9 l 6 18 L 0 25\" fill=\"none\" style=\"stroke:rgb(255.0, 0.0, 81.08083606031792);stroke-width:2\" />  </svg></g><g transform=\"translate(0,0)\">  <svg x=\"13.531772567535095%\" y=\"40\" height=\"18\" overflow=\"visible\" width=\"30\">    <path d=\"M 0 -9 l 6 18 L 0 25\" fill=\"none\" style=\"stroke:rgb(255.0, 0.0, 81.08083606031792);stroke-width:2\" />  </svg></g><g transform=\"translate(2,0)\">  <svg x=\"13.531772567535095%\" y=\"40\" height=\"18\" overflow=\"visible\" width=\"30\">    <path d=\"M 0 -9 l 6 18 L 0 25\" fill=\"none\" style=\"stroke:rgb(255.0, 0.0, 81.08083606031792);stroke-width:2\" />  </svg></g><g transform=\"translate(4,0)\">  <svg x=\"13.531772567535095%\" y=\"40\" height=\"18\" overflow=\"visible\" width=\"30\">    <path d=\"M 0 -9 l 6 18 L 0 25\" fill=\"none\" style=\"stroke:rgb(255.0, 0.0, 81.08083606031792);stroke-width:2\" />  </svg></g><g transform=\"translate(6,0)\">  <svg x=\"13.531772567535095%\" y=\"40\" height=\"18\" overflow=\"visible\" width=\"30\">    <path d=\"M 0 -9 l 6 18 L 0 25\" fill=\"none\" style=\"stroke:rgb(255.0, 0.0, 81.08083606031792);stroke-width:2\" />  </svg></g><g transform=\"translate(-8,0)\">  <svg x=\"13.531772567535095%\" y=\"40\" height=\"18\" overflow=\"visible\" width=\"30\">    <path d=\"M 0 -9 l 6 18 L 0 25\" fill=\"none\" style=\"stroke:rgb(255.0, 0.0, 81.08083606031792);stroke-width:2\" />  </svg></g><g transform=\"translate(-6,0)\">  <svg x=\"13.531772567535095%\" y=\"40\" height=\"18\" overflow=\"visible\" width=\"30\">    <path d=\"M 0 -9 l 6 18 L 0 25\" fill=\"none\" style=\"stroke:rgb(255.0, 0.0, 81.08083606031792);stroke-width:2\" />  </svg></g><g transform=\"translate(-4,0)\">  <svg x=\"13.531772567535095%\" y=\"40\" height=\"18\" overflow=\"visible\" width=\"30\">    <path d=\"M 0 -9 l 6 18 L 0 25\" fill=\"none\" style=\"stroke:rgb(255.0, 0.0, 81.08083606031792);stroke-width:2\" />  </svg></g><g transform=\"translate(-2,0)\">  <svg x=\"13.531772567535095%\" y=\"40\" height=\"18\" overflow=\"visible\" width=\"30\">    <path d=\"M 0 -9 l 6 18 L 0 25\" fill=\"none\" style=\"stroke:rgb(255.0, 0.0, 81.08083606031792);stroke-width:2\" />  </svg></g><g transform=\"translate(0,0)\">  <svg x=\"9.532261652056638%\" y=\"40\" height=\"18\" overflow=\"visible\" width=\"30\">    <path d=\"M 0 -9 l 6 18 L 0 25\" fill=\"none\" style=\"stroke:rgb(255.0, 0.0, 81.08083606031792);stroke-width:2\" />  </svg></g><g transform=\"translate(2,0)\">  <svg x=\"9.532261652056638%\" y=\"40\" height=\"18\" overflow=\"visible\" width=\"30\">    <path d=\"M 0 -9 l 6 18 L 0 25\" fill=\"none\" style=\"stroke:rgb(255.0, 0.0, 81.08083606031792);stroke-width:2\" />  </svg></g><g transform=\"translate(4,0)\">  <svg x=\"9.532261652056638%\" y=\"40\" height=\"18\" overflow=\"visible\" width=\"30\">    <path d=\"M 0 -9 l 6 18 L 0 25\" fill=\"none\" style=\"stroke:rgb(255.0, 0.0, 81.08083606031792);stroke-width:2\" />  </svg></g><g transform=\"translate(6,0)\">  <svg x=\"9.532261652056638%\" y=\"40\" height=\"18\" overflow=\"visible\" width=\"30\">    <path d=\"M 0 -9 l 6 18 L 0 25\" fill=\"none\" style=\"stroke:rgb(255.0, 0.0, 81.08083606031792);stroke-width:2\" />  </svg></g><g transform=\"translate(-8,0)\">  <svg x=\"9.532261652056638%\" y=\"40\" height=\"18\" overflow=\"visible\" width=\"30\">    <path d=\"M 0 -9 l 6 18 L 0 25\" fill=\"none\" style=\"stroke:rgb(255.0, 0.0, 81.08083606031792);stroke-width:2\" />  </svg></g><g transform=\"translate(-6,0)\">  <svg x=\"9.532261652056638%\" y=\"40\" height=\"18\" overflow=\"visible\" width=\"30\">    <path d=\"M 0 -9 l 6 18 L 0 25\" fill=\"none\" style=\"stroke:rgb(255.0, 0.0, 81.08083606031792);stroke-width:2\" />  </svg></g><g transform=\"translate(-4,0)\">  <svg x=\"9.532261652056638%\" y=\"40\" height=\"18\" overflow=\"visible\" width=\"30\">    <path d=\"M 0 -9 l 6 18 L 0 25\" fill=\"none\" style=\"stroke:rgb(255.0, 0.0, 81.08083606031792);stroke-width:2\" />  </svg></g><g transform=\"translate(-2,0)\">  <svg x=\"9.532261652056638%\" y=\"40\" height=\"18\" overflow=\"visible\" width=\"30\">    <path d=\"M 0 -9 l 6 18 L 0 25\" fill=\"none\" style=\"stroke:rgb(255.0, 0.0, 81.08083606031792);stroke-width:2\" />  </svg></g><g transform=\"translate(0,0)\">  <svg x=\"8.517810976709937%\" y=\"40\" height=\"18\" overflow=\"visible\" width=\"30\">    <path d=\"M 0 -9 l 6 18 L 0 25\" fill=\"none\" style=\"stroke:rgb(255.0, 0.0, 81.08083606031792);stroke-width:2\" />  </svg></g><g transform=\"translate(2,0)\">  <svg x=\"8.517810976709937%\" y=\"40\" height=\"18\" overflow=\"visible\" width=\"30\">    <path d=\"M 0 -9 l 6 18 L 0 25\" fill=\"none\" style=\"stroke:rgb(255.0, 0.0, 81.08083606031792);stroke-width:2\" />  </svg></g><g transform=\"translate(4,0)\">  <svg x=\"8.517810976709937%\" y=\"40\" height=\"18\" overflow=\"visible\" width=\"30\">    <path d=\"M 0 -9 l 6 18 L 0 25\" fill=\"none\" style=\"stroke:rgb(255.0, 0.0, 81.08083606031792);stroke-width:2\" />  </svg></g><g transform=\"translate(6,0)\">  <svg x=\"8.517810976709937%\" y=\"40\" height=\"18\" overflow=\"visible\" width=\"30\">    <path d=\"M 0 -9 l 6 18 L 0 25\" fill=\"none\" style=\"stroke:rgb(255.0, 0.0, 81.08083606031792);stroke-width:2\" />  </svg></g><g transform=\"translate(-8,0)\">  <svg x=\"8.517810976709937%\" y=\"40\" height=\"18\" overflow=\"visible\" width=\"30\">    <path d=\"M 0 -9 l 6 18 L 0 25\" fill=\"none\" style=\"stroke:rgb(255.0, 0.0, 81.08083606031792);stroke-width:2\" />  </svg></g><g transform=\"translate(-6,0)\">  <svg x=\"8.517810976709937%\" y=\"40\" height=\"18\" overflow=\"visible\" width=\"30\">    <path d=\"M 0 -9 l 6 18 L 0 25\" fill=\"none\" style=\"stroke:rgb(255.0, 0.0, 81.08083606031792);stroke-width:2\" />  </svg></g><g transform=\"translate(-4,0)\">  <svg x=\"8.517810976709937%\" y=\"40\" height=\"18\" overflow=\"visible\" width=\"30\">    <path d=\"M 0 -9 l 6 18 L 0 25\" fill=\"none\" style=\"stroke:rgb(255.0, 0.0, 81.08083606031792);stroke-width:2\" />  </svg></g><g transform=\"translate(-2,0)\">  <svg x=\"8.517810976709937%\" y=\"40\" height=\"18\" overflow=\"visible\" width=\"30\">    <path d=\"M 0 -9 l 6 18 L 0 25\" fill=\"none\" style=\"stroke:rgb(255.0, 0.0, 81.08083606031792);stroke-width:2\" />  </svg></g><rect transform=\"translate(-8,0)\" x=\"56.07760540526064%\" y=\"40\" width=\"8\" height=\"18\" style=\"fill:rgb(255.0, 0.0, 81.08083606031792)\"/><g transform=\"translate(-11.5,0)\">  <svg x=\"8.333333213789592%\" y=\"40\" height=\"18\" overflow=\"visible\" width=\"30\">    <path d=\"M 10 -9 l 6 18 L 10 25 L 0 25 L 0 -9\" fill=\"#ffffff\" style=\"stroke:rgb(255,255,255);stroke-width:2\" />  </svg></g><g transform=\"translate(-1.5,0)\">  <svg x=\"56.07760540526064%\" y=\"40\" height=\"18\" overflow=\"visible\" width=\"30\">    <path d=\"M 0 -9 l 6 18 L 0 25\" fill=\"none\" style=\"stroke:rgb(255, 195, 213);stroke-width:2\" />  </svg></g><rect x=\"26.592825329925162%\" y=\"40\" height=\"20\" width=\"29.48478007533548%\"      onmouseover=\"document.getElementById('_tp_acowxrbentjtrgmycxaq_ind_3').style.textDecoration = 'underline';document.getElementById('_fs_acowxrbentjtrgmycxaq_ind_3').style.opacity = 1;document.getElementById('_fb_acowxrbentjtrgmycxaq_ind_3').style.opacity = 1;\"      onmouseout=\"document.getElementById('_tp_acowxrbentjtrgmycxaq_ind_3').style.textDecoration = 'none';document.getElementById('_fs_acowxrbentjtrgmycxaq_ind_3').style.opacity = 0;document.getElementById('_fb_acowxrbentjtrgmycxaq_ind_3').style.opacity = 0;\" style=\"fill:rgb(0,0,0,0)\" /><g transform=\"translate(-1.5,0)\">  <svg x=\"26.592825329925162%\" y=\"40\" height=\"18\" overflow=\"visible\" width=\"30\">    <path d=\"M 0 -9 l 6 18 L 0 25\" fill=\"none\" style=\"stroke:rgb(255, 195, 213);stroke-width:2\" />  </svg></g><rect x=\"19.60934328591514%\" y=\"40\" height=\"20\" width=\"6.983482044010021%\"      onmouseover=\"document.getElementById('_tp_acowxrbentjtrgmycxaq_ind_7').style.textDecoration = 'underline';document.getElementById('_fs_acowxrbentjtrgmycxaq_ind_7').style.opacity = 1;document.getElementById('_fb_acowxrbentjtrgmycxaq_ind_7').style.opacity = 1;\"      onmouseout=\"document.getElementById('_tp_acowxrbentjtrgmycxaq_ind_7').style.textDecoration = 'none';document.getElementById('_fs_acowxrbentjtrgmycxaq_ind_7').style.opacity = 0;document.getElementById('_fb_acowxrbentjtrgmycxaq_ind_7').style.opacity = 0;\" style=\"fill:rgb(0,0,0,0)\" /><g transform=\"translate(-1.5,0)\">  <svg x=\"19.60934328591514%\" y=\"40\" height=\"18\" overflow=\"visible\" width=\"30\">    <path d=\"M 0 -9 l 6 18 L 0 25\" fill=\"none\" style=\"stroke:rgb(255, 195, 213);stroke-width:2\" />  </svg></g><rect x=\"13.531772567535095%\" y=\"40\" height=\"20\" width=\"6.077570718380047%\"      onmouseover=\"document.getElementById('_tp_acowxrbentjtrgmycxaq_ind_6').style.textDecoration = 'underline';document.getElementById('_fs_acowxrbentjtrgmycxaq_ind_6').style.opacity = 1;document.getElementById('_fb_acowxrbentjtrgmycxaq_ind_6').style.opacity = 1;\"      onmouseout=\"document.getElementById('_tp_acowxrbentjtrgmycxaq_ind_6').style.textDecoration = 'none';document.getElementById('_fs_acowxrbentjtrgmycxaq_ind_6').style.opacity = 0;document.getElementById('_fb_acowxrbentjtrgmycxaq_ind_6').style.opacity = 0;\" style=\"fill:rgb(0,0,0,0)\" /><g transform=\"translate(-1.5,0)\">  <svg x=\"13.531772567535095%\" y=\"40\" height=\"18\" overflow=\"visible\" width=\"30\">    <path d=\"M 0 -9 l 6 18 L 0 25\" fill=\"none\" style=\"stroke:rgb(255, 195, 213);stroke-width:2\" />  </svg></g><rect x=\"9.532261652056638%\" y=\"40\" height=\"20\" width=\"3.9995109154784565%\"      onmouseover=\"document.getElementById('_tp_acowxrbentjtrgmycxaq_ind_2').style.textDecoration = 'underline';document.getElementById('_fs_acowxrbentjtrgmycxaq_ind_2').style.opacity = 1;document.getElementById('_fb_acowxrbentjtrgmycxaq_ind_2').style.opacity = 1;\"      onmouseout=\"document.getElementById('_tp_acowxrbentjtrgmycxaq_ind_2').style.textDecoration = 'none';document.getElementById('_fs_acowxrbentjtrgmycxaq_ind_2').style.opacity = 0;document.getElementById('_fb_acowxrbentjtrgmycxaq_ind_2').style.opacity = 0;\" style=\"fill:rgb(0,0,0,0)\" /><g transform=\"translate(-1.5,0)\">  <svg x=\"9.532261652056638%\" y=\"40\" height=\"18\" overflow=\"visible\" width=\"30\">    <path d=\"M 0 -9 l 6 18 L 0 25\" fill=\"none\" style=\"stroke:rgb(255, 195, 213);stroke-width:2\" />  </svg></g><rect x=\"8.517810976709937%\" y=\"40\" height=\"20\" width=\"1.0144506753467013%\"      onmouseover=\"document.getElementById('_tp_acowxrbentjtrgmycxaq_ind_5').style.textDecoration = 'underline';document.getElementById('_fs_acowxrbentjtrgmycxaq_ind_5').style.opacity = 1;document.getElementById('_fb_acowxrbentjtrgmycxaq_ind_5').style.opacity = 1;\"      onmouseout=\"document.getElementById('_tp_acowxrbentjtrgmycxaq_ind_5').style.textDecoration = 'none';document.getElementById('_fs_acowxrbentjtrgmycxaq_ind_5').style.opacity = 0;document.getElementById('_fb_acowxrbentjtrgmycxaq_ind_5').style.opacity = 0;\" style=\"fill:rgb(0,0,0,0)\" /><rect x=\"8.333333213789592%\" y=\"40\" height=\"20\" width=\"0.1844777629203449%\"      onmouseover=\"document.getElementById('_tp_acowxrbentjtrgmycxaq_ind_8').style.textDecoration = 'underline';document.getElementById('_fs_acowxrbentjtrgmycxaq_ind_8').style.opacity = 1;document.getElementById('_fb_acowxrbentjtrgmycxaq_ind_8').style.opacity = 1;\"      onmouseout=\"document.getElementById('_tp_acowxrbentjtrgmycxaq_ind_8').style.textDecoration = 'none';document.getElementById('_fs_acowxrbentjtrgmycxaq_ind_8').style.opacity = 0;document.getElementById('_fb_acowxrbentjtrgmycxaq_ind_8').style.opacity = 0;\" style=\"fill:rgb(0,0,0,0)\" /><rect x=\"56.07760540526064%\" width=\"35.589059946424875%\" y=\"40\" height=\"18\" style=\"fill:rgb(0.0, 138.56128015770724, 250.76166088685727); stroke-width:0; stroke:rgb(0,0,0)\" /><line x1=\"56.07760540526064%\" x2=\"90.06274651639102%\" y1=\"60\" y2=\"60\" id=\"_fb_acowxrbentjtrgmycxaq_ind_4\" style=\"stroke:rgb(0.0, 138.56128015770724, 250.76166088685727);stroke-width:2; opacity: 0\"/><text x=\"73.07017596082582%\" y=\"71\" font-size=\"12px\" fill=\"rgb(0.0, 138.56128015770724, 250.76166088685727)\" id=\"_fs_acowxrbentjtrgmycxaq_ind_4\" style=\"opacity: 0\" dominant-baseline=\"middle\" text-anchor=\"middle\">-0.237</text><svg x=\"56.07760540526064%\" y=\"40\" height=\"20\" width=\"33.985141111130375%\">  <svg x=\"0\" y=\"0\" width=\"100%\" height=\"100%\">    <text x=\"50%\" y=\"9\" font-size=\"12px\" fill=\"rgb(255,255,255)\" dominant-baseline=\"middle\" text-anchor=\"middle\">disappointed</text>  </svg></svg><line x1=\"90.06274651639102%\" x2=\"91.66666535168552%\" y1=\"60\" y2=\"60\" id=\"_fb_acowxrbentjtrgmycxaq_ind_1\" style=\"stroke:rgb(0.0, 138.56128015770724, 250.76166088685727);stroke-width:2; opacity: 0\"/><text x=\"90.86470593403827%\" y=\"71\" font-size=\"12px\" fill=\"rgb(0.0, 138.56128015770724, 250.76166088685727)\" id=\"_fs_acowxrbentjtrgmycxaq_ind_1\" style=\"opacity: 0\" dominant-baseline=\"middle\" text-anchor=\"middle\">-0.011</text><svg x=\"90.06274651639102%\" y=\"40\" height=\"20\" width=\"1.6039188352945075%\">  <svg x=\"0\" y=\"0\" width=\"100%\" height=\"100%\">    <text x=\"50%\" y=\"9\" font-size=\"12px\" fill=\"rgb(255,255,255)\" dominant-baseline=\"middle\" text-anchor=\"middle\">I</text>  </svg></svg><g transform=\"translate(-8,0)\">  <svg x=\"90.06274651639102%\" y=\"40\" height=\"18\" overflow=\"visible\" width=\"30\">    <path d=\"M 8 -9 l -6 18 L 8 25\" fill=\"none\" style=\"stroke:rgb(0.0, 138.56128015770724, 250.76166088685727);stroke-width:2\" />  </svg></g><g transform=\"translate(-10,0)\">  <svg x=\"90.06274651639102%\" y=\"40\" height=\"18\" overflow=\"visible\" width=\"30\">    <path d=\"M 8 -9 l -6 18 L 8 25\" fill=\"none\" style=\"stroke:rgb(0.0, 138.56128015770724, 250.76166088685727);stroke-width:2\" />  </svg></g><g transform=\"translate(-12,0)\">  <svg x=\"90.06274651639102%\" y=\"40\" height=\"18\" overflow=\"visible\" width=\"30\">    <path d=\"M 8 -9 l -6 18 L 8 25\" fill=\"none\" style=\"stroke:rgb(0.0, 138.56128015770724, 250.76166088685727);stroke-width:2\" />  </svg></g><g transform=\"translate(-14,0)\">  <svg x=\"90.06274651639102%\" y=\"40\" height=\"18\" overflow=\"visible\" width=\"30\">    <path d=\"M 8 -9 l -6 18 L 8 25\" fill=\"none\" style=\"stroke:rgb(0.0, 138.56128015770724, 250.76166088685727);stroke-width:2\" />  </svg></g><g transform=\"translate(2,0)\">  <svg x=\"90.06274651639102%\" y=\"40\" height=\"18\" overflow=\"visible\" width=\"30\">    <path d=\"M 8 -9 l -6 18 L 8 25\" fill=\"none\" style=\"stroke:rgb(0.0, 138.56128015770724, 250.76166088685727);stroke-width:2\" />  </svg></g><g transform=\"translate(0,0)\">  <svg x=\"90.06274651639102%\" y=\"40\" height=\"18\" overflow=\"visible\" width=\"30\">    <path d=\"M 8 -9 l -6 18 L 8 25\" fill=\"none\" style=\"stroke:rgb(0.0, 138.56128015770724, 250.76166088685727);stroke-width:2\" />  </svg></g><g transform=\"translate(-2,0)\">  <svg x=\"90.06274651639102%\" y=\"40\" height=\"18\" overflow=\"visible\" width=\"30\">    <path d=\"M 8 -9 l -6 18 L 8 25\" fill=\"none\" style=\"stroke:rgb(0.0, 138.56128015770724, 250.76166088685727);stroke-width:2\" />  </svg></g><g transform=\"translate(-4,0)\">  <svg x=\"90.06274651639102%\" y=\"40\" height=\"18\" overflow=\"visible\" width=\"30\">    <path d=\"M 8 -9 l -6 18 L 8 25\" fill=\"none\" style=\"stroke:rgb(0.0, 138.56128015770724, 250.76166088685727);stroke-width:2\" />  </svg></g><rect transform=\"translate(0,0)\" x=\"56.07760540526064%\" y=\"40\" width=\"8\" height=\"18\" style=\"fill:rgb(0.0, 138.56128015770724, 250.76166088685727)\"/><g transform=\"translate(-6.0,0)\">  <svg x=\"91.66666535168552%\" y=\"40\" height=\"18\" overflow=\"visible\" width=\"30\">    <path d=\"M 8 -9 l -6 18 L 8 25 L 20 25 L 20 -9\" fill=\"#ffffff\" style=\"stroke:rgb(255,255,255);stroke-width:2\" />  </svg></g><g transform=\"translate(-6.0,0)\">  <svg x=\"90.06274651639102%\" y=\"40\" height=\"18\" overflow=\"visible\" width=\"30\">    <path d=\"M 8 -9 l -6 18 L 8 25\" fill=\"none\" style=\"stroke:rgb(208, 230, 250);stroke-width:2\" />  </svg></g><rect x=\"56.07760540526064%\" y=\"40\" height=\"20\" width=\"33.985141111130375%\"      onmouseover=\"document.getElementById('_tp_acowxrbentjtrgmycxaq_ind_4').style.textDecoration = 'underline';document.getElementById('_fs_acowxrbentjtrgmycxaq_ind_4').style.opacity = 1;document.getElementById('_fb_acowxrbentjtrgmycxaq_ind_4').style.opacity = 1;\"      onmouseout=\"document.getElementById('_tp_acowxrbentjtrgmycxaq_ind_4').style.textDecoration = 'none';document.getElementById('_fs_acowxrbentjtrgmycxaq_ind_4').style.opacity = 0;document.getElementById('_fb_acowxrbentjtrgmycxaq_ind_4').style.opacity = 0;\" style=\"fill:rgb(0,0,0,0)\" /><rect x=\"90.06274651639102%\" y=\"40\" height=\"20\" width=\"1.6039188352945075%\"      onmouseover=\"document.getElementById('_tp_acowxrbentjtrgmycxaq_ind_1').style.textDecoration = 'underline';document.getElementById('_fs_acowxrbentjtrgmycxaq_ind_1').style.opacity = 1;document.getElementById('_fb_acowxrbentjtrgmycxaq_ind_1').style.opacity = 1;\"      onmouseout=\"document.getElementById('_tp_acowxrbentjtrgmycxaq_ind_1').style.textDecoration = 'none';document.getElementById('_fs_acowxrbentjtrgmycxaq_ind_1').style.opacity = 0;document.getElementById('_fb_acowxrbentjtrgmycxaq_ind_1').style.opacity = 0;\" style=\"fill:rgb(0,0,0,0)\" /></svg><div align='center'><div style=\"color: rgb(120,120,120); font-size: 12px; margin-top: -15px;\">inputs</div><div style='display: inline; text-align: center;'\n",
       "    ><div style='display: none; color: #999; padding-top: 0px; font-size: 12px;'>0.0</div\n",
       "        ><div id='_tp_acowxrbentjtrgmycxaq_ind_0'\n",
       "            style='display: inline; background: rgba(230.2941176470614, 26.505882352939775, 102.59215686274348, 0.0); border-radius: 3px; padding: 0px'\n",
       "            onclick=\"\n",
       "            if (this.previousSibling.style.display == 'none') {\n",
       "                this.previousSibling.style.display = 'block';\n",
       "                this.parentNode.style.display = 'inline-block';\n",
       "            } else {\n",
       "                this.previousSibling.style.display = 'none';\n",
       "                this.parentNode.style.display = 'inline';\n",
       "            }\"\n",
       "            onmouseover=\"document.getElementById('_fb_acowxrbentjtrgmycxaq_ind_0').style.opacity = 1; document.getElementById('_fs_acowxrbentjtrgmycxaq_ind_0').style.opacity = 1;\"\n",
       "            onmouseout=\"document.getElementById('_fb_acowxrbentjtrgmycxaq_ind_0').style.opacity = 0; document.getElementById('_fs_acowxrbentjtrgmycxaq_ind_0').style.opacity = 0;\"\n",
       "        ></div></div><div style='display: inline; text-align: center;'\n",
       "    ><div style='display: none; color: #999; padding-top: 0px; font-size: 12px;'>-0.011</div\n",
       "        ><div id='_tp_acowxrbentjtrgmycxaq_ind_1'\n",
       "            style='display: inline; background: rgba(30.0, 136.0, 229.0, 0.04618736383442258); border-radius: 3px; padding: 0px'\n",
       "            onclick=\"\n",
       "            if (this.previousSibling.style.display == 'none') {\n",
       "                this.previousSibling.style.display = 'block';\n",
       "                this.parentNode.style.display = 'inline-block';\n",
       "            } else {\n",
       "                this.previousSibling.style.display = 'none';\n",
       "                this.parentNode.style.display = 'inline';\n",
       "            }\"\n",
       "            onmouseover=\"document.getElementById('_fb_acowxrbentjtrgmycxaq_ind_1').style.opacity = 1; document.getElementById('_fs_acowxrbentjtrgmycxaq_ind_1').style.opacity = 1;\"\n",
       "            onmouseout=\"document.getElementById('_fb_acowxrbentjtrgmycxaq_ind_1').style.opacity = 0; document.getElementById('_fs_acowxrbentjtrgmycxaq_ind_1').style.opacity = 0;\"\n",
       "        >I </div></div><div style='display: inline; text-align: center;'\n",
       "    ><div style='display: none; color: #999; padding-top: 0px; font-size: 12px;'>0.028</div\n",
       "        ><div id='_tp_acowxrbentjtrgmycxaq_ind_2'\n",
       "            style='display: inline; background: rgba(255.0, 13.0, 87.0, 0.1171321053673995); border-radius: 3px; padding: 0px'\n",
       "            onclick=\"\n",
       "            if (this.previousSibling.style.display == 'none') {\n",
       "                this.previousSibling.style.display = 'block';\n",
       "                this.parentNode.style.display = 'inline-block';\n",
       "            } else {\n",
       "                this.previousSibling.style.display = 'none';\n",
       "                this.parentNode.style.display = 'inline';\n",
       "            }\"\n",
       "            onmouseover=\"document.getElementById('_fb_acowxrbentjtrgmycxaq_ind_2').style.opacity = 1; document.getElementById('_fs_acowxrbentjtrgmycxaq_ind_2').style.opacity = 1;\"\n",
       "            onmouseout=\"document.getElementById('_fb_acowxrbentjtrgmycxaq_ind_2').style.opacity = 0; document.getElementById('_fs_acowxrbentjtrgmycxaq_ind_2').style.opacity = 0;\"\n",
       "        >was </div></div><div style='display: inline; text-align: center;'\n",
       "    ><div style='display: none; color: #999; padding-top: 0px; font-size: 12px;'>0.206</div\n",
       "        ><div id='_tp_acowxrbentjtrgmycxaq_ind_3'\n",
       "            style='display: inline; background: rgba(255.0, 13.0, 87.0, 0.8738760150524857); border-radius: 3px; padding: 0px'\n",
       "            onclick=\"\n",
       "            if (this.previousSibling.style.display == 'none') {\n",
       "                this.previousSibling.style.display = 'block';\n",
       "                this.parentNode.style.display = 'inline-block';\n",
       "            } else {\n",
       "                this.previousSibling.style.display = 'none';\n",
       "                this.parentNode.style.display = 'inline';\n",
       "            }\"\n",
       "            onmouseover=\"document.getElementById('_fb_acowxrbentjtrgmycxaq_ind_3').style.opacity = 1; document.getElementById('_fs_acowxrbentjtrgmycxaq_ind_3').style.opacity = 1;\"\n",
       "            onmouseout=\"document.getElementById('_fb_acowxrbentjtrgmycxaq_ind_3').style.opacity = 0; document.getElementById('_fs_acowxrbentjtrgmycxaq_ind_3').style.opacity = 0;\"\n",
       "        >not </div></div><div style='display: inline; text-align: center;'\n",
       "    ><div style='display: none; color: #999; padding-top: 0px; font-size: 12px;'>-0.237</div\n",
       "        ><div id='_tp_acowxrbentjtrgmycxaq_ind_4'\n",
       "            style='display: inline; background: rgba(30.0, 136.0, 229.0, 1.0); border-radius: 3px; padding: 0px'\n",
       "            onclick=\"\n",
       "            if (this.previousSibling.style.display == 'none') {\n",
       "                this.previousSibling.style.display = 'block';\n",
       "                this.parentNode.style.display = 'inline-block';\n",
       "            } else {\n",
       "                this.previousSibling.style.display = 'none';\n",
       "                this.parentNode.style.display = 'inline';\n",
       "            }\"\n",
       "            onmouseover=\"document.getElementById('_fb_acowxrbentjtrgmycxaq_ind_4').style.opacity = 1; document.getElementById('_fs_acowxrbentjtrgmycxaq_ind_4').style.opacity = 1;\"\n",
       "            onmouseout=\"document.getElementById('_fb_acowxrbentjtrgmycxaq_ind_4').style.opacity = 0; document.getElementById('_fs_acowxrbentjtrgmycxaq_ind_4').style.opacity = 0;\"\n",
       "        >disappointed </div></div><div style='display: inline; text-align: center;'\n",
       "    ><div style='display: none; color: #999; padding-top: 0px; font-size: 12px;'>0.007</div\n",
       "        ><div id='_tp_acowxrbentjtrgmycxaq_ind_5'\n",
       "            style='display: inline; background: rgba(255.0, 13.0, 87.0, 0.02253911665676371); border-radius: 3px; padding: 0px'\n",
       "            onclick=\"\n",
       "            if (this.previousSibling.style.display == 'none') {\n",
       "                this.previousSibling.style.display = 'block';\n",
       "                this.parentNode.style.display = 'inline-block';\n",
       "            } else {\n",
       "                this.previousSibling.style.display = 'none';\n",
       "                this.parentNode.style.display = 'inline';\n",
       "            }\"\n",
       "            onmouseover=\"document.getElementById('_fb_acowxrbentjtrgmycxaq_ind_5').style.opacity = 1; document.getElementById('_fs_acowxrbentjtrgmycxaq_ind_5').style.opacity = 1;\"\n",
       "            onmouseout=\"document.getElementById('_fb_acowxrbentjtrgmycxaq_ind_5').style.opacity = 0; document.getElementById('_fs_acowxrbentjtrgmycxaq_ind_5').style.opacity = 0;\"\n",
       "        >with </div></div><div style='display: inline; text-align: center;'\n",
       "    ><div style='display: none; color: #999; padding-top: 0px; font-size: 12px;'>0.042</div\n",
       "        ><div id='_tp_acowxrbentjtrgmycxaq_ind_6'\n",
       "            style='display: inline; background: rgba(255.0, 13.0, 87.0, 0.17231134878193693); border-radius: 3px; padding: 0px'\n",
       "            onclick=\"\n",
       "            if (this.previousSibling.style.display == 'none') {\n",
       "                this.previousSibling.style.display = 'block';\n",
       "                this.parentNode.style.display = 'inline-block';\n",
       "            } else {\n",
       "                this.previousSibling.style.display = 'none';\n",
       "                this.parentNode.style.display = 'inline';\n",
       "            }\"\n",
       "            onmouseover=\"document.getElementById('_fb_acowxrbentjtrgmycxaq_ind_6').style.opacity = 1; document.getElementById('_fs_acowxrbentjtrgmycxaq_ind_6').style.opacity = 1;\"\n",
       "            onmouseout=\"document.getElementById('_fb_acowxrbentjtrgmycxaq_ind_6').style.opacity = 0; document.getElementById('_fs_acowxrbentjtrgmycxaq_ind_6').style.opacity = 0;\"\n",
       "        >the </div></div><div style='display: inline; text-align: center;'\n",
       "    ><div style='display: none; color: #999; padding-top: 0px; font-size: 12px;'>0.049</div\n",
       "        ><div id='_tp_acowxrbentjtrgmycxaq_ind_7'\n",
       "            style='display: inline; background: rgba(255.0, 13.0, 87.0, 0.20384234501881549); border-radius: 3px; padding: 0px'\n",
       "            onclick=\"\n",
       "            if (this.previousSibling.style.display == 'none') {\n",
       "                this.previousSibling.style.display = 'block';\n",
       "                this.parentNode.style.display = 'inline-block';\n",
       "            } else {\n",
       "                this.previousSibling.style.display = 'none';\n",
       "                this.parentNode.style.display = 'inline';\n",
       "            }\"\n",
       "            onmouseover=\"document.getElementById('_fb_acowxrbentjtrgmycxaq_ind_7').style.opacity = 1; document.getElementById('_fs_acowxrbentjtrgmycxaq_ind_7').style.opacity = 1;\"\n",
       "            onmouseout=\"document.getElementById('_fb_acowxrbentjtrgmycxaq_ind_7').style.opacity = 0; document.getElementById('_fs_acowxrbentjtrgmycxaq_ind_7').style.opacity = 0;\"\n",
       "        >result</div></div><div style='display: inline; text-align: center;'\n",
       "    ><div style='display: none; color: #999; padding-top: 0px; font-size: 12px;'>0.001</div\n",
       "        ><div id='_tp_acowxrbentjtrgmycxaq_ind_8'\n",
       "            style='display: inline; background: rgba(230.2941176470614, 26.505882352939775, 102.59215686274348, 0.0); border-radius: 3px; padding: 0px'\n",
       "            onclick=\"\n",
       "            if (this.previousSibling.style.display == 'none') {\n",
       "                this.previousSibling.style.display = 'block';\n",
       "                this.parentNode.style.display = 'inline-block';\n",
       "            } else {\n",
       "                this.previousSibling.style.display = 'none';\n",
       "                this.parentNode.style.display = 'inline';\n",
       "            }\"\n",
       "            onmouseover=\"document.getElementById('_fb_acowxrbentjtrgmycxaq_ind_8').style.opacity = 1; document.getElementById('_fs_acowxrbentjtrgmycxaq_ind_8').style.opacity = 1;\"\n",
       "            onmouseout=\"document.getElementById('_fb_acowxrbentjtrgmycxaq_ind_8').style.opacity = 0; document.getElementById('_fs_acowxrbentjtrgmycxaq_ind_8').style.opacity = 0;\"\n",
       "        >.</div></div><div style='display: inline; text-align: center;'\n",
       "    ><div style='display: none; color: #999; padding-top: 0px; font-size: 12px;'>0.0</div\n",
       "        ><div id='_tp_acowxrbentjtrgmycxaq_ind_9'\n",
       "            style='display: inline; background: rgba(230.2941176470614, 26.505882352939775, 102.59215686274348, 0.0); border-radius: 3px; padding: 0px'\n",
       "            onclick=\"\n",
       "            if (this.previousSibling.style.display == 'none') {\n",
       "                this.previousSibling.style.display = 'block';\n",
       "                this.parentNode.style.display = 'inline-block';\n",
       "            } else {\n",
       "                this.previousSibling.style.display = 'none';\n",
       "                this.parentNode.style.display = 'inline';\n",
       "            }\"\n",
       "            onmouseover=\"document.getElementById('_fb_acowxrbentjtrgmycxaq_ind_9').style.opacity = 1; document.getElementById('_fs_acowxrbentjtrgmycxaq_ind_9').style.opacity = 1;\"\n",
       "            onmouseout=\"document.getElementById('_fb_acowxrbentjtrgmycxaq_ind_9').style.opacity = 0; document.getElementById('_fs_acowxrbentjtrgmycxaq_ind_9').style.opacity = 0;\"\n",
       "        ></div></div></div></div><div id='_tp_wsmkdarudluwerjvfalk_output_2' style='display: none';><svg width=\"100%\" height=\"80px\"><line x1=\"0\" y1=\"33\" x2=\"100%\" y2=\"33\" style=\"stroke:rgb(150,150,150);stroke-width:1\" /><line x1=\"47.23331997406635%\" y1=\"33\" x2=\"47.23331997406635%\" y2=\"37\" style=\"stroke:rgb(150,150,150);stroke-width:1\" /><text x=\"47.23331997406635%\" y=\"27\" font-size=\"12px\" fill=\"rgb(120,120,120)\" dominant-baseline=\"bottom\" text-anchor=\"middle\">0.3</text><line x1=\"37.60536168376975%\" y1=\"33\" x2=\"37.60536168376975%\" y2=\"37\" style=\"stroke:rgb(150,150,150);stroke-width:1\" /><text x=\"37.60536168376975%\" y=\"27\" font-size=\"12px\" fill=\"rgb(120,120,120)\" dominant-baseline=\"bottom\" text-anchor=\"middle\">0.2</text><line x1=\"27.977403393473157%\" y1=\"33\" x2=\"27.977403393473157%\" y2=\"37\" style=\"stroke:rgb(150,150,150);stroke-width:1\" /><text x=\"27.977403393473157%\" y=\"27\" font-size=\"12px\" fill=\"rgb(120,120,120)\" dominant-baseline=\"bottom\" text-anchor=\"middle\">0.1</text><line x1=\"18.349445103176564%\" y1=\"33\" x2=\"18.349445103176564%\" y2=\"37\" style=\"stroke:rgb(150,150,150);stroke-width:1\" /><text x=\"18.349445103176564%\" y=\"27\" font-size=\"12px\" fill=\"rgb(120,120,120)\" dominant-baseline=\"bottom\" text-anchor=\"middle\">-5.55112e-17</text><line x1=\"8.721486812879968%\" y1=\"33\" x2=\"8.721486812879968%\" y2=\"37\" style=\"stroke:rgb(150,150,150);stroke-width:1\" /><text x=\"8.721486812879968%\" y=\"27\" font-size=\"12px\" fill=\"rgb(120,120,120)\" dominant-baseline=\"bottom\" text-anchor=\"middle\">-0.1</text><line x1=\"56.861278264362944%\" y1=\"33\" x2=\"56.861278264362944%\" y2=\"37\" style=\"stroke:rgb(150,150,150);stroke-width:1\" /><text x=\"56.861278264362944%\" y=\"27\" font-size=\"12px\" fill=\"rgb(120,120,120)\" dominant-baseline=\"bottom\" text-anchor=\"middle\">0.4</text><line x1=\"66.48923655465954%\" y1=\"33\" x2=\"66.48923655465954%\" y2=\"37\" style=\"stroke:rgb(150,150,150);stroke-width:1\" /><text x=\"66.48923655465954%\" y=\"27\" font-size=\"12px\" fill=\"rgb(120,120,120)\" dominant-baseline=\"bottom\" text-anchor=\"middle\">0.5</text><line x1=\"76.11719484495613%\" y1=\"33\" x2=\"76.11719484495613%\" y2=\"37\" style=\"stroke:rgb(150,150,150);stroke-width:1\" /><text x=\"76.11719484495613%\" y=\"27\" font-size=\"12px\" fill=\"rgb(120,120,120)\" dominant-baseline=\"bottom\" text-anchor=\"middle\">0.6</text><line x1=\"85.74515313525272%\" y1=\"33\" x2=\"85.74515313525272%\" y2=\"37\" style=\"stroke:rgb(150,150,150);stroke-width:1\" /><text x=\"85.74515313525272%\" y=\"27\" font-size=\"12px\" fill=\"rgb(120,120,120)\" dominant-baseline=\"bottom\" text-anchor=\"middle\">0.7</text><line x1=\"60.72630025091338%\" y1=\"33\" x2=\"60.72630025091338%\" y2=\"37\" style=\"stroke:rgb(150,150,150);stroke-width:1\" /><text x=\"60.72630025091338%\" y=\"27\" font-size=\"13px\" style=\"stroke:#ffffff;stroke-width:8px;\" fill=\"rgb(255,255,255)\" dominant-baseline=\"bottom\" text-anchor=\"middle\">0.440144</text><text x=\"60.72630025091338%\" y=\"27\" font-size=\"12px\" fill=\"rgb(120,120,120)\" dominant-baseline=\"bottom\" text-anchor=\"middle\">0.440144</text><text x=\"60.72630025091338%\" y=\"10\" font-size=\"12px\" fill=\"rgb(120,120,120)\" dominant-baseline=\"bottom\" text-anchor=\"middle\">base value</text><line x1=\"42.75324482058256%\" y1=\"33\" x2=\"42.75324482058256%\" y2=\"37\" style=\"stroke:rgb(150,150,150);stroke-width:1\" /><text x=\"42.75324482058256%\" y=\"27\" font-size=\"13px\" style=\"stroke:#ffffff;stroke-width:8px;\" font-weight=\"bold\" fill=\"rgb(255,255,255)\" dominant-baseline=\"bottom\" text-anchor=\"middle\">0.253468</text><text x=\"42.75324482058256%\" y=\"27\" font-size=\"13px\" font-weight=\"bold\" fill=\"rgb(0,0,0)\" dominant-baseline=\"bottom\" text-anchor=\"middle\">0.253468</text><text x=\"42.75324482058256%\" y=\"10\" font-size=\"12px\" fill=\"rgb(120,120,120)\" dominant-baseline=\"bottom\" text-anchor=\"middle\">f<tspan baseline-shift=\"sub\" font-size=\"8px\">positive</tspan>(inputs)</text><rect x=\"39.083913015719304%\" width=\"3.6693318048632535%\" y=\"40\" height=\"18\" style=\"fill:rgb(255.0, 0.0, 81.08083606031792); stroke-width:0; stroke:rgb(0,0,0)\" /><line x1=\"40.05009936986408%\" x2=\"42.75324482058256%\" y1=\"60\" y2=\"60\" id=\"_fb_qugxvotowbsuoqgmpwap_ind_4\" style=\"stroke:rgb(255.0, 0.0, 81.08083606031792);stroke-width:2; opacity: 0\"/><text x=\"41.40167209522332%\" y=\"71\" font-size=\"12px\" id=\"_fs_qugxvotowbsuoqgmpwap_ind_4\" fill=\"rgb(255.0, 0.0, 81.08083606031792)\" style=\"opacity: 0\" dominant-baseline=\"middle\" text-anchor=\"middle\">0.028</text><svg x=\"40.05009936986408%\" y=\"40\" height=\"20\" width=\"2.7031454507184804%\">  <svg x=\"0\" y=\"0\" width=\"100%\" height=\"100%\">    <text x=\"50%\" y=\"9\" font-size=\"12px\" fill=\"rgb(255,255,255)\" dominant-baseline=\"middle\" text-anchor=\"middle\">disappointed</text>  </svg></svg><line x1=\"39.083913015719304%\" x2=\"40.05009936986408%\" y1=\"60\" y2=\"60\" id=\"_fb_qugxvotowbsuoqgmpwap_ind_3\" style=\"stroke:rgb(255.0, 0.0, 81.08083606031792);stroke-width:2; opacity: 0\"/><text x=\"39.567006192791695%\" y=\"71\" font-size=\"12px\" id=\"_fs_qugxvotowbsuoqgmpwap_ind_3\" fill=\"rgb(255.0, 0.0, 81.08083606031792)\" style=\"opacity: 0\" dominant-baseline=\"middle\" text-anchor=\"middle\">0.01</text><svg x=\"39.083913015719304%\" y=\"40\" height=\"20\" width=\"0.9661863541447744%\">  <svg x=\"0\" y=\"0\" width=\"100%\" height=\"100%\">    <text x=\"50%\" y=\"9\" font-size=\"12px\" fill=\"rgb(255,255,255)\" dominant-baseline=\"middle\" text-anchor=\"middle\">not</text>  </svg></svg><g transform=\"translate(0,0)\">  <svg x=\"40.05009936986408%\" y=\"40\" height=\"18\" overflow=\"visible\" width=\"30\">    <path d=\"M 0 -9 l 6 18 L 0 25\" fill=\"none\" style=\"stroke:rgb(255.0, 0.0, 81.08083606031792);stroke-width:2\" />  </svg></g><g transform=\"translate(2,0)\">  <svg x=\"40.05009936986408%\" y=\"40\" height=\"18\" overflow=\"visible\" width=\"30\">    <path d=\"M 0 -9 l 6 18 L 0 25\" fill=\"none\" style=\"stroke:rgb(255.0, 0.0, 81.08083606031792);stroke-width:2\" />  </svg></g><g transform=\"translate(4,0)\">  <svg x=\"40.05009936986408%\" y=\"40\" height=\"18\" overflow=\"visible\" width=\"30\">    <path d=\"M 0 -9 l 6 18 L 0 25\" fill=\"none\" style=\"stroke:rgb(255.0, 0.0, 81.08083606031792);stroke-width:2\" />  </svg></g><g transform=\"translate(6,0)\">  <svg x=\"40.05009936986408%\" y=\"40\" height=\"18\" overflow=\"visible\" width=\"30\">    <path d=\"M 0 -9 l 6 18 L 0 25\" fill=\"none\" style=\"stroke:rgb(255.0, 0.0, 81.08083606031792);stroke-width:2\" />  </svg></g><g transform=\"translate(-8,0)\">  <svg x=\"40.05009936986408%\" y=\"40\" height=\"18\" overflow=\"visible\" width=\"30\">    <path d=\"M 0 -9 l 6 18 L 0 25\" fill=\"none\" style=\"stroke:rgb(255.0, 0.0, 81.08083606031792);stroke-width:2\" />  </svg></g><g transform=\"translate(-6,0)\">  <svg x=\"40.05009936986408%\" y=\"40\" height=\"18\" overflow=\"visible\" width=\"30\">    <path d=\"M 0 -9 l 6 18 L 0 25\" fill=\"none\" style=\"stroke:rgb(255.0, 0.0, 81.08083606031792);stroke-width:2\" />  </svg></g><g transform=\"translate(-4,0)\">  <svg x=\"40.05009936986408%\" y=\"40\" height=\"18\" overflow=\"visible\" width=\"30\">    <path d=\"M 0 -9 l 6 18 L 0 25\" fill=\"none\" style=\"stroke:rgb(255.0, 0.0, 81.08083606031792);stroke-width:2\" />  </svg></g><g transform=\"translate(-2,0)\">  <svg x=\"40.05009936986408%\" y=\"40\" height=\"18\" overflow=\"visible\" width=\"30\">    <path d=\"M 0 -9 l 6 18 L 0 25\" fill=\"none\" style=\"stroke:rgb(255.0, 0.0, 81.08083606031792);stroke-width:2\" />  </svg></g><rect transform=\"translate(-8,0)\" x=\"42.75324482058256%\" y=\"40\" width=\"8\" height=\"18\" style=\"fill:rgb(255.0, 0.0, 81.08083606031792)\"/><g transform=\"translate(-11.5,0)\">  <svg x=\"39.083913015719304%\" y=\"40\" height=\"18\" overflow=\"visible\" width=\"30\">    <path d=\"M 10 -9 l 6 18 L 10 25 L 0 25 L 0 -9\" fill=\"#ffffff\" style=\"stroke:rgb(255,255,255);stroke-width:2\" />  </svg></g><g transform=\"translate(-1.5,0)\">  <svg x=\"42.75324482058256%\" y=\"40\" height=\"18\" overflow=\"visible\" width=\"30\">    <path d=\"M 0 -9 l 6 18 L 0 25\" fill=\"none\" style=\"stroke:rgb(255, 195, 213);stroke-width:2\" />  </svg></g><rect x=\"40.05009936986408%\" y=\"40\" height=\"20\" width=\"2.7031454507184804%\"      onmouseover=\"document.getElementById('_tp_qugxvotowbsuoqgmpwap_ind_4').style.textDecoration = 'underline';document.getElementById('_fs_qugxvotowbsuoqgmpwap_ind_4').style.opacity = 1;document.getElementById('_fb_qugxvotowbsuoqgmpwap_ind_4').style.opacity = 1;\"      onmouseout=\"document.getElementById('_tp_qugxvotowbsuoqgmpwap_ind_4').style.textDecoration = 'none';document.getElementById('_fs_qugxvotowbsuoqgmpwap_ind_4').style.opacity = 0;document.getElementById('_fb_qugxvotowbsuoqgmpwap_ind_4').style.opacity = 0;\" style=\"fill:rgb(0,0,0,0)\" /><rect x=\"39.083913015719304%\" y=\"40\" height=\"20\" width=\"0.9661863541447744%\"      onmouseover=\"document.getElementById('_tp_qugxvotowbsuoqgmpwap_ind_3').style.textDecoration = 'underline';document.getElementById('_fs_qugxvotowbsuoqgmpwap_ind_3').style.opacity = 1;document.getElementById('_fb_qugxvotowbsuoqgmpwap_ind_3').style.opacity = 1;\"      onmouseout=\"document.getElementById('_tp_qugxvotowbsuoqgmpwap_ind_3').style.textDecoration = 'none';document.getElementById('_fs_qugxvotowbsuoqgmpwap_ind_3').style.opacity = 0;document.getElementById('_fb_qugxvotowbsuoqgmpwap_ind_3').style.opacity = 0;\" style=\"fill:rgb(0,0,0,0)\" /><rect x=\"42.75324482058256%\" width=\"21.64238723519408%\" y=\"40\" height=\"18\" style=\"fill:rgb(0.0, 138.56128015770724, 250.76166088685727); stroke-width:0; stroke:rgb(0,0,0)\" /><line x1=\"42.75324482058256%\" x2=\"49.08987115338167%\" y1=\"60\" y2=\"60\" id=\"_fb_qugxvotowbsuoqgmpwap_ind_7\" style=\"stroke:rgb(0.0, 138.56128015770724, 250.76166088685727);stroke-width:2; opacity: 0\"/><text x=\"45.921557986982116%\" y=\"71\" font-size=\"12px\" fill=\"rgb(0.0, 138.56128015770724, 250.76166088685727)\" id=\"_fs_qugxvotowbsuoqgmpwap_ind_7\" style=\"opacity: 0\" dominant-baseline=\"middle\" text-anchor=\"middle\">-0.066</text><svg x=\"42.75324482058256%\" y=\"40\" height=\"20\" width=\"6.3366263327991135%\">  <svg x=\"0\" y=\"0\" width=\"100%\" height=\"100%\">    <text x=\"50%\" y=\"9\" font-size=\"12px\" fill=\"rgb(255,255,255)\" dominant-baseline=\"middle\" text-anchor=\"middle\">result</text>  </svg></svg><line x1=\"49.08987115338167%\" x2=\"54.000640097705336%\" y1=\"60\" y2=\"60\" id=\"_fb_qugxvotowbsuoqgmpwap_ind_6\" style=\"stroke:rgb(0.0, 138.56128015770724, 250.76166088685727);stroke-width:2; opacity: 0\"/><text x=\"51.545255625543504%\" y=\"71\" font-size=\"12px\" fill=\"rgb(0.0, 138.56128015770724, 250.76166088685727)\" id=\"_fs_qugxvotowbsuoqgmpwap_ind_6\" style=\"opacity: 0\" dominant-baseline=\"middle\" text-anchor=\"middle\">-0.051</text><svg x=\"49.08987115338167%\" y=\"40\" height=\"20\" width=\"4.910768944323664%\">  <svg x=\"0\" y=\"0\" width=\"100%\" height=\"100%\">    <text x=\"50%\" y=\"9\" font-size=\"12px\" fill=\"rgb(255,255,255)\" dominant-baseline=\"middle\" text-anchor=\"middle\">the</text>  </svg></svg><line x1=\"54.000640097705336%\" x2=\"58.611901479078455%\" y1=\"60\" y2=\"60\" id=\"_fb_qugxvotowbsuoqgmpwap_ind_8\" style=\"stroke:rgb(0.0, 138.56128015770724, 250.76166088685727);stroke-width:2; opacity: 0\"/><text x=\"56.3062707883919%\" y=\"71\" font-size=\"12px\" fill=\"rgb(0.0, 138.56128015770724, 250.76166088685727)\" id=\"_fs_qugxvotowbsuoqgmpwap_ind_8\" style=\"opacity: 0\" dominant-baseline=\"middle\" text-anchor=\"middle\">-0.048</text><svg x=\"54.000640097705336%\" y=\"40\" height=\"20\" width=\"4.611261381373119%\">  <svg x=\"0\" y=\"0\" width=\"100%\" height=\"100%\">    <text x=\"50%\" y=\"9\" font-size=\"12px\" fill=\"rgb(255,255,255)\" dominant-baseline=\"middle\" text-anchor=\"middle\">.</text>  </svg></svg><line x1=\"58.611901479078455%\" x2=\"61.294716931961354%\" y1=\"60\" y2=\"60\" id=\"_fb_qugxvotowbsuoqgmpwap_ind_1\" style=\"stroke:rgb(0.0, 138.56128015770724, 250.76166088685727);stroke-width:2; opacity: 0\"/><text x=\"59.9533092055199%\" y=\"71\" font-size=\"12px\" fill=\"rgb(0.0, 138.56128015770724, 250.76166088685727)\" id=\"_fs_qugxvotowbsuoqgmpwap_ind_1\" style=\"opacity: 0\" dominant-baseline=\"middle\" text-anchor=\"middle\">-0.028</text><svg x=\"58.611901479078455%\" y=\"40\" height=\"20\" width=\"2.682815452882899%\">  <svg x=\"0\" y=\"0\" width=\"100%\" height=\"100%\">    <text x=\"50%\" y=\"9\" font-size=\"12px\" fill=\"rgb(255,255,255)\" dominant-baseline=\"middle\" text-anchor=\"middle\">I</text>  </svg></svg><line x1=\"61.294716931961354%\" x2=\"63.67043497396857%\" y1=\"60\" y2=\"60\" id=\"_fb_qugxvotowbsuoqgmpwap_ind_5\" style=\"stroke:rgb(0.0, 138.56128015770724, 250.76166088685727);stroke-width:2; opacity: 0\"/><text x=\"62.482575952964964%\" y=\"71\" font-size=\"12px\" fill=\"rgb(0.0, 138.56128015770724, 250.76166088685727)\" id=\"_fs_qugxvotowbsuoqgmpwap_ind_5\" style=\"opacity: 0\" dominant-baseline=\"middle\" text-anchor=\"middle\">-0.025</text><svg x=\"61.294716931961354%\" y=\"40\" height=\"20\" width=\"2.3757180420072146%\">  <svg x=\"0\" y=\"0\" width=\"100%\" height=\"100%\">    <text x=\"50%\" y=\"9\" font-size=\"12px\" fill=\"rgb(255,255,255)\" dominant-baseline=\"middle\" text-anchor=\"middle\">with</text>  </svg></svg><line x1=\"63.67043497396857%\" x2=\"64.39563205577663%\" y1=\"60\" y2=\"60\" id=\"_fb_qugxvotowbsuoqgmpwap_ind_2\" style=\"stroke:rgb(0.0, 138.56128015770724, 250.76166088685727);stroke-width:2; opacity: 0\"/><text x=\"64.0330335148726%\" y=\"71\" font-size=\"12px\" fill=\"rgb(0.0, 138.56128015770724, 250.76166088685727)\" id=\"_fs_qugxvotowbsuoqgmpwap_ind_2\" style=\"opacity: 0\" dominant-baseline=\"middle\" text-anchor=\"middle\">-0.008</text><svg x=\"63.67043497396857%\" y=\"40\" height=\"20\" width=\"0.7251970818080622%\">  <svg x=\"0\" y=\"0\" width=\"100%\" height=\"100%\">    <text x=\"50%\" y=\"9\" font-size=\"12px\" fill=\"rgb(255,255,255)\" dominant-baseline=\"middle\" text-anchor=\"middle\">was</text>  </svg></svg><g transform=\"translate(-8,0)\">  <svg x=\"49.08987115338167%\" y=\"40\" height=\"18\" overflow=\"visible\" width=\"30\">    <path d=\"M 8 -9 l -6 18 L 8 25\" fill=\"none\" style=\"stroke:rgb(0.0, 138.56128015770724, 250.76166088685727);stroke-width:2\" />  </svg></g><g transform=\"translate(-10,0)\">  <svg x=\"49.08987115338167%\" y=\"40\" height=\"18\" overflow=\"visible\" width=\"30\">    <path d=\"M 8 -9 l -6 18 L 8 25\" fill=\"none\" style=\"stroke:rgb(0.0, 138.56128015770724, 250.76166088685727);stroke-width:2\" />  </svg></g><g transform=\"translate(-12,0)\">  <svg x=\"49.08987115338167%\" y=\"40\" height=\"18\" overflow=\"visible\" width=\"30\">    <path d=\"M 8 -9 l -6 18 L 8 25\" fill=\"none\" style=\"stroke:rgb(0.0, 138.56128015770724, 250.76166088685727);stroke-width:2\" />  </svg></g><g transform=\"translate(-14,0)\">  <svg x=\"49.08987115338167%\" y=\"40\" height=\"18\" overflow=\"visible\" width=\"30\">    <path d=\"M 8 -9 l -6 18 L 8 25\" fill=\"none\" style=\"stroke:rgb(0.0, 138.56128015770724, 250.76166088685727);stroke-width:2\" />  </svg></g><g transform=\"translate(2,0)\">  <svg x=\"49.08987115338167%\" y=\"40\" height=\"18\" overflow=\"visible\" width=\"30\">    <path d=\"M 8 -9 l -6 18 L 8 25\" fill=\"none\" style=\"stroke:rgb(0.0, 138.56128015770724, 250.76166088685727);stroke-width:2\" />  </svg></g><g transform=\"translate(0,0)\">  <svg x=\"49.08987115338167%\" y=\"40\" height=\"18\" overflow=\"visible\" width=\"30\">    <path d=\"M 8 -9 l -6 18 L 8 25\" fill=\"none\" style=\"stroke:rgb(0.0, 138.56128015770724, 250.76166088685727);stroke-width:2\" />  </svg></g><g transform=\"translate(-2,0)\">  <svg x=\"49.08987115338167%\" y=\"40\" height=\"18\" overflow=\"visible\" width=\"30\">    <path d=\"M 8 -9 l -6 18 L 8 25\" fill=\"none\" style=\"stroke:rgb(0.0, 138.56128015770724, 250.76166088685727);stroke-width:2\" />  </svg></g><g transform=\"translate(-4,0)\">  <svg x=\"49.08987115338167%\" y=\"40\" height=\"18\" overflow=\"visible\" width=\"30\">    <path d=\"M 8 -9 l -6 18 L 8 25\" fill=\"none\" style=\"stroke:rgb(0.0, 138.56128015770724, 250.76166088685727);stroke-width:2\" />  </svg></g><g transform=\"translate(-8,0)\">  <svg x=\"54.000640097705336%\" y=\"40\" height=\"18\" overflow=\"visible\" width=\"30\">    <path d=\"M 8 -9 l -6 18 L 8 25\" fill=\"none\" style=\"stroke:rgb(0.0, 138.56128015770724, 250.76166088685727);stroke-width:2\" />  </svg></g><g transform=\"translate(-10,0)\">  <svg x=\"54.000640097705336%\" y=\"40\" height=\"18\" overflow=\"visible\" width=\"30\">    <path d=\"M 8 -9 l -6 18 L 8 25\" fill=\"none\" style=\"stroke:rgb(0.0, 138.56128015770724, 250.76166088685727);stroke-width:2\" />  </svg></g><g transform=\"translate(-12,0)\">  <svg x=\"54.000640097705336%\" y=\"40\" height=\"18\" overflow=\"visible\" width=\"30\">    <path d=\"M 8 -9 l -6 18 L 8 25\" fill=\"none\" style=\"stroke:rgb(0.0, 138.56128015770724, 250.76166088685727);stroke-width:2\" />  </svg></g><g transform=\"translate(-14,0)\">  <svg x=\"54.000640097705336%\" y=\"40\" height=\"18\" overflow=\"visible\" width=\"30\">    <path d=\"M 8 -9 l -6 18 L 8 25\" fill=\"none\" style=\"stroke:rgb(0.0, 138.56128015770724, 250.76166088685727);stroke-width:2\" />  </svg></g><g transform=\"translate(2,0)\">  <svg x=\"54.000640097705336%\" y=\"40\" height=\"18\" overflow=\"visible\" width=\"30\">    <path d=\"M 8 -9 l -6 18 L 8 25\" fill=\"none\" style=\"stroke:rgb(0.0, 138.56128015770724, 250.76166088685727);stroke-width:2\" />  </svg></g><g transform=\"translate(0,0)\">  <svg x=\"54.000640097705336%\" y=\"40\" height=\"18\" overflow=\"visible\" width=\"30\">    <path d=\"M 8 -9 l -6 18 L 8 25\" fill=\"none\" style=\"stroke:rgb(0.0, 138.56128015770724, 250.76166088685727);stroke-width:2\" />  </svg></g><g transform=\"translate(-2,0)\">  <svg x=\"54.000640097705336%\" y=\"40\" height=\"18\" overflow=\"visible\" width=\"30\">    <path d=\"M 8 -9 l -6 18 L 8 25\" fill=\"none\" style=\"stroke:rgb(0.0, 138.56128015770724, 250.76166088685727);stroke-width:2\" />  </svg></g><g transform=\"translate(-4,0)\">  <svg x=\"54.000640097705336%\" y=\"40\" height=\"18\" overflow=\"visible\" width=\"30\">    <path d=\"M 8 -9 l -6 18 L 8 25\" fill=\"none\" style=\"stroke:rgb(0.0, 138.56128015770724, 250.76166088685727);stroke-width:2\" />  </svg></g><g transform=\"translate(-8,0)\">  <svg x=\"58.611901479078455%\" y=\"40\" height=\"18\" overflow=\"visible\" width=\"30\">    <path d=\"M 8 -9 l -6 18 L 8 25\" fill=\"none\" style=\"stroke:rgb(0.0, 138.56128015770724, 250.76166088685727);stroke-width:2\" />  </svg></g><g transform=\"translate(-10,0)\">  <svg x=\"58.611901479078455%\" y=\"40\" height=\"18\" overflow=\"visible\" width=\"30\">    <path d=\"M 8 -9 l -6 18 L 8 25\" fill=\"none\" style=\"stroke:rgb(0.0, 138.56128015770724, 250.76166088685727);stroke-width:2\" />  </svg></g><g transform=\"translate(-12,0)\">  <svg x=\"58.611901479078455%\" y=\"40\" height=\"18\" overflow=\"visible\" width=\"30\">    <path d=\"M 8 -9 l -6 18 L 8 25\" fill=\"none\" style=\"stroke:rgb(0.0, 138.56128015770724, 250.76166088685727);stroke-width:2\" />  </svg></g><g transform=\"translate(-14,0)\">  <svg x=\"58.611901479078455%\" y=\"40\" height=\"18\" overflow=\"visible\" width=\"30\">    <path d=\"M 8 -9 l -6 18 L 8 25\" fill=\"none\" style=\"stroke:rgb(0.0, 138.56128015770724, 250.76166088685727);stroke-width:2\" />  </svg></g><g transform=\"translate(2,0)\">  <svg x=\"58.611901479078455%\" y=\"40\" height=\"18\" overflow=\"visible\" width=\"30\">    <path d=\"M 8 -9 l -6 18 L 8 25\" fill=\"none\" style=\"stroke:rgb(0.0, 138.56128015770724, 250.76166088685727);stroke-width:2\" />  </svg></g><g transform=\"translate(0,0)\">  <svg x=\"58.611901479078455%\" y=\"40\" height=\"18\" overflow=\"visible\" width=\"30\">    <path d=\"M 8 -9 l -6 18 L 8 25\" fill=\"none\" style=\"stroke:rgb(0.0, 138.56128015770724, 250.76166088685727);stroke-width:2\" />  </svg></g><g transform=\"translate(-2,0)\">  <svg x=\"58.611901479078455%\" y=\"40\" height=\"18\" overflow=\"visible\" width=\"30\">    <path d=\"M 8 -9 l -6 18 L 8 25\" fill=\"none\" style=\"stroke:rgb(0.0, 138.56128015770724, 250.76166088685727);stroke-width:2\" />  </svg></g><g transform=\"translate(-4,0)\">  <svg x=\"58.611901479078455%\" y=\"40\" height=\"18\" overflow=\"visible\" width=\"30\">    <path d=\"M 8 -9 l -6 18 L 8 25\" fill=\"none\" style=\"stroke:rgb(0.0, 138.56128015770724, 250.76166088685727);stroke-width:2\" />  </svg></g><g transform=\"translate(-8,0)\">  <svg x=\"61.294716931961354%\" y=\"40\" height=\"18\" overflow=\"visible\" width=\"30\">    <path d=\"M 8 -9 l -6 18 L 8 25\" fill=\"none\" style=\"stroke:rgb(0.0, 138.56128015770724, 250.76166088685727);stroke-width:2\" />  </svg></g><g transform=\"translate(-10,0)\">  <svg x=\"61.294716931961354%\" y=\"40\" height=\"18\" overflow=\"visible\" width=\"30\">    <path d=\"M 8 -9 l -6 18 L 8 25\" fill=\"none\" style=\"stroke:rgb(0.0, 138.56128015770724, 250.76166088685727);stroke-width:2\" />  </svg></g><g transform=\"translate(-12,0)\">  <svg x=\"61.294716931961354%\" y=\"40\" height=\"18\" overflow=\"visible\" width=\"30\">    <path d=\"M 8 -9 l -6 18 L 8 25\" fill=\"none\" style=\"stroke:rgb(0.0, 138.56128015770724, 250.76166088685727);stroke-width:2\" />  </svg></g><g transform=\"translate(-14,0)\">  <svg x=\"61.294716931961354%\" y=\"40\" height=\"18\" overflow=\"visible\" width=\"30\">    <path d=\"M 8 -9 l -6 18 L 8 25\" fill=\"none\" style=\"stroke:rgb(0.0, 138.56128015770724, 250.76166088685727);stroke-width:2\" />  </svg></g><g transform=\"translate(2,0)\">  <svg x=\"61.294716931961354%\" y=\"40\" height=\"18\" overflow=\"visible\" width=\"30\">    <path d=\"M 8 -9 l -6 18 L 8 25\" fill=\"none\" style=\"stroke:rgb(0.0, 138.56128015770724, 250.76166088685727);stroke-width:2\" />  </svg></g><g transform=\"translate(0,0)\">  <svg x=\"61.294716931961354%\" y=\"40\" height=\"18\" overflow=\"visible\" width=\"30\">    <path d=\"M 8 -9 l -6 18 L 8 25\" fill=\"none\" style=\"stroke:rgb(0.0, 138.56128015770724, 250.76166088685727);stroke-width:2\" />  </svg></g><g transform=\"translate(-2,0)\">  <svg x=\"61.294716931961354%\" y=\"40\" height=\"18\" overflow=\"visible\" width=\"30\">    <path d=\"M 8 -9 l -6 18 L 8 25\" fill=\"none\" style=\"stroke:rgb(0.0, 138.56128015770724, 250.76166088685727);stroke-width:2\" />  </svg></g><g transform=\"translate(-4,0)\">  <svg x=\"61.294716931961354%\" y=\"40\" height=\"18\" overflow=\"visible\" width=\"30\">    <path d=\"M 8 -9 l -6 18 L 8 25\" fill=\"none\" style=\"stroke:rgb(0.0, 138.56128015770724, 250.76166088685727);stroke-width:2\" />  </svg></g><g transform=\"translate(-8,0)\">  <svg x=\"63.67043497396857%\" y=\"40\" height=\"18\" overflow=\"visible\" width=\"30\">    <path d=\"M 8 -9 l -6 18 L 8 25\" fill=\"none\" style=\"stroke:rgb(0.0, 138.56128015770724, 250.76166088685727);stroke-width:2\" />  </svg></g><g transform=\"translate(-10,0)\">  <svg x=\"63.67043497396857%\" y=\"40\" height=\"18\" overflow=\"visible\" width=\"30\">    <path d=\"M 8 -9 l -6 18 L 8 25\" fill=\"none\" style=\"stroke:rgb(0.0, 138.56128015770724, 250.76166088685727);stroke-width:2\" />  </svg></g><g transform=\"translate(-12,0)\">  <svg x=\"63.67043497396857%\" y=\"40\" height=\"18\" overflow=\"visible\" width=\"30\">    <path d=\"M 8 -9 l -6 18 L 8 25\" fill=\"none\" style=\"stroke:rgb(0.0, 138.56128015770724, 250.76166088685727);stroke-width:2\" />  </svg></g><g transform=\"translate(-14,0)\">  <svg x=\"63.67043497396857%\" y=\"40\" height=\"18\" overflow=\"visible\" width=\"30\">    <path d=\"M 8 -9 l -6 18 L 8 25\" fill=\"none\" style=\"stroke:rgb(0.0, 138.56128015770724, 250.76166088685727);stroke-width:2\" />  </svg></g><g transform=\"translate(2,0)\">  <svg x=\"63.67043497396857%\" y=\"40\" height=\"18\" overflow=\"visible\" width=\"30\">    <path d=\"M 8 -9 l -6 18 L 8 25\" fill=\"none\" style=\"stroke:rgb(0.0, 138.56128015770724, 250.76166088685727);stroke-width:2\" />  </svg></g><g transform=\"translate(0,0)\">  <svg x=\"63.67043497396857%\" y=\"40\" height=\"18\" overflow=\"visible\" width=\"30\">    <path d=\"M 8 -9 l -6 18 L 8 25\" fill=\"none\" style=\"stroke:rgb(0.0, 138.56128015770724, 250.76166088685727);stroke-width:2\" />  </svg></g><g transform=\"translate(-2,0)\">  <svg x=\"63.67043497396857%\" y=\"40\" height=\"18\" overflow=\"visible\" width=\"30\">    <path d=\"M 8 -9 l -6 18 L 8 25\" fill=\"none\" style=\"stroke:rgb(0.0, 138.56128015770724, 250.76166088685727);stroke-width:2\" />  </svg></g><g transform=\"translate(-4,0)\">  <svg x=\"63.67043497396857%\" y=\"40\" height=\"18\" overflow=\"visible\" width=\"30\">    <path d=\"M 8 -9 l -6 18 L 8 25\" fill=\"none\" style=\"stroke:rgb(0.0, 138.56128015770724, 250.76166088685727);stroke-width:2\" />  </svg></g><rect transform=\"translate(0,0)\" x=\"42.75324482058256%\" y=\"40\" width=\"8\" height=\"18\" style=\"fill:rgb(0.0, 138.56128015770724, 250.76166088685727)\"/><g transform=\"translate(-6.0,0)\">  <svg x=\"64.39563205577663%\" y=\"40\" height=\"18\" overflow=\"visible\" width=\"30\">    <path d=\"M 8 -9 l -6 18 L 8 25 L 20 25 L 20 -9\" fill=\"#ffffff\" style=\"stroke:rgb(255,255,255);stroke-width:2\" />  </svg></g><g transform=\"translate(-6.0,0)\">  <svg x=\"49.08987115338167%\" y=\"40\" height=\"18\" overflow=\"visible\" width=\"30\">    <path d=\"M 8 -9 l -6 18 L 8 25\" fill=\"none\" style=\"stroke:rgb(208, 230, 250);stroke-width:2\" />  </svg></g><rect x=\"42.75324482058256%\" y=\"40\" height=\"20\" width=\"6.3366263327991135%\"      onmouseover=\"document.getElementById('_tp_qugxvotowbsuoqgmpwap_ind_7').style.textDecoration = 'underline';document.getElementById('_fs_qugxvotowbsuoqgmpwap_ind_7').style.opacity = 1;document.getElementById('_fb_qugxvotowbsuoqgmpwap_ind_7').style.opacity = 1;\"      onmouseout=\"document.getElementById('_tp_qugxvotowbsuoqgmpwap_ind_7').style.textDecoration = 'none';document.getElementById('_fs_qugxvotowbsuoqgmpwap_ind_7').style.opacity = 0;document.getElementById('_fb_qugxvotowbsuoqgmpwap_ind_7').style.opacity = 0;\" style=\"fill:rgb(0,0,0,0)\" /><g transform=\"translate(-6.0,0)\">  <svg x=\"54.000640097705336%\" y=\"40\" height=\"18\" overflow=\"visible\" width=\"30\">    <path d=\"M 8 -9 l -6 18 L 8 25\" fill=\"none\" style=\"stroke:rgb(208, 230, 250);stroke-width:2\" />  </svg></g><rect x=\"49.08987115338167%\" y=\"40\" height=\"20\" width=\"4.910768944323664%\"      onmouseover=\"document.getElementById('_tp_qugxvotowbsuoqgmpwap_ind_6').style.textDecoration = 'underline';document.getElementById('_fs_qugxvotowbsuoqgmpwap_ind_6').style.opacity = 1;document.getElementById('_fb_qugxvotowbsuoqgmpwap_ind_6').style.opacity = 1;\"      onmouseout=\"document.getElementById('_tp_qugxvotowbsuoqgmpwap_ind_6').style.textDecoration = 'none';document.getElementById('_fs_qugxvotowbsuoqgmpwap_ind_6').style.opacity = 0;document.getElementById('_fb_qugxvotowbsuoqgmpwap_ind_6').style.opacity = 0;\" style=\"fill:rgb(0,0,0,0)\" /><g transform=\"translate(-6.0,0)\">  <svg x=\"58.611901479078455%\" y=\"40\" height=\"18\" overflow=\"visible\" width=\"30\">    <path d=\"M 8 -9 l -6 18 L 8 25\" fill=\"none\" style=\"stroke:rgb(208, 230, 250);stroke-width:2\" />  </svg></g><rect x=\"54.000640097705336%\" y=\"40\" height=\"20\" width=\"4.611261381373119%\"      onmouseover=\"document.getElementById('_tp_qugxvotowbsuoqgmpwap_ind_8').style.textDecoration = 'underline';document.getElementById('_fs_qugxvotowbsuoqgmpwap_ind_8').style.opacity = 1;document.getElementById('_fb_qugxvotowbsuoqgmpwap_ind_8').style.opacity = 1;\"      onmouseout=\"document.getElementById('_tp_qugxvotowbsuoqgmpwap_ind_8').style.textDecoration = 'none';document.getElementById('_fs_qugxvotowbsuoqgmpwap_ind_8').style.opacity = 0;document.getElementById('_fb_qugxvotowbsuoqgmpwap_ind_8').style.opacity = 0;\" style=\"fill:rgb(0,0,0,0)\" /><g transform=\"translate(-6.0,0)\">  <svg x=\"61.294716931961354%\" y=\"40\" height=\"18\" overflow=\"visible\" width=\"30\">    <path d=\"M 8 -9 l -6 18 L 8 25\" fill=\"none\" style=\"stroke:rgb(208, 230, 250);stroke-width:2\" />  </svg></g><rect x=\"58.611901479078455%\" y=\"40\" height=\"20\" width=\"2.682815452882899%\"      onmouseover=\"document.getElementById('_tp_qugxvotowbsuoqgmpwap_ind_1').style.textDecoration = 'underline';document.getElementById('_fs_qugxvotowbsuoqgmpwap_ind_1').style.opacity = 1;document.getElementById('_fb_qugxvotowbsuoqgmpwap_ind_1').style.opacity = 1;\"      onmouseout=\"document.getElementById('_tp_qugxvotowbsuoqgmpwap_ind_1').style.textDecoration = 'none';document.getElementById('_fs_qugxvotowbsuoqgmpwap_ind_1').style.opacity = 0;document.getElementById('_fb_qugxvotowbsuoqgmpwap_ind_1').style.opacity = 0;\" style=\"fill:rgb(0,0,0,0)\" /><g transform=\"translate(-6.0,0)\">  <svg x=\"63.67043497396857%\" y=\"40\" height=\"18\" overflow=\"visible\" width=\"30\">    <path d=\"M 8 -9 l -6 18 L 8 25\" fill=\"none\" style=\"stroke:rgb(208, 230, 250);stroke-width:2\" />  </svg></g><rect x=\"61.294716931961354%\" y=\"40\" height=\"20\" width=\"2.3757180420072146%\"      onmouseover=\"document.getElementById('_tp_qugxvotowbsuoqgmpwap_ind_5').style.textDecoration = 'underline';document.getElementById('_fs_qugxvotowbsuoqgmpwap_ind_5').style.opacity = 1;document.getElementById('_fb_qugxvotowbsuoqgmpwap_ind_5').style.opacity = 1;\"      onmouseout=\"document.getElementById('_tp_qugxvotowbsuoqgmpwap_ind_5').style.textDecoration = 'none';document.getElementById('_fs_qugxvotowbsuoqgmpwap_ind_5').style.opacity = 0;document.getElementById('_fb_qugxvotowbsuoqgmpwap_ind_5').style.opacity = 0;\" style=\"fill:rgb(0,0,0,0)\" /><rect x=\"63.67043497396857%\" y=\"40\" height=\"20\" width=\"0.7251970818080622%\"      onmouseover=\"document.getElementById('_tp_qugxvotowbsuoqgmpwap_ind_2').style.textDecoration = 'underline';document.getElementById('_fs_qugxvotowbsuoqgmpwap_ind_2').style.opacity = 1;document.getElementById('_fb_qugxvotowbsuoqgmpwap_ind_2').style.opacity = 1;\"      onmouseout=\"document.getElementById('_tp_qugxvotowbsuoqgmpwap_ind_2').style.textDecoration = 'none';document.getElementById('_fs_qugxvotowbsuoqgmpwap_ind_2').style.opacity = 0;document.getElementById('_fb_qugxvotowbsuoqgmpwap_ind_2').style.opacity = 0;\" style=\"fill:rgb(0,0,0,0)\" /></svg><div align='center'><div style=\"color: rgb(120,120,120); font-size: 12px; margin-top: -15px;\">inputs</div><div style='display: inline; text-align: center;'\n",
       "    ><div style='display: none; color: #999; padding-top: 0px; font-size: 12px;'>0.0</div\n",
       "        ><div id='_tp_qugxvotowbsuoqgmpwap_ind_0'\n",
       "            style='display: inline; background: rgba(230.2941176470614, 26.505882352939775, 102.59215686274348, 0.0); border-radius: 3px; padding: 0px'\n",
       "            onclick=\"\n",
       "            if (this.previousSibling.style.display == 'none') {\n",
       "                this.previousSibling.style.display = 'block';\n",
       "                this.parentNode.style.display = 'inline-block';\n",
       "            } else {\n",
       "                this.previousSibling.style.display = 'none';\n",
       "                this.parentNode.style.display = 'inline';\n",
       "            }\"\n",
       "            onmouseover=\"document.getElementById('_fb_qugxvotowbsuoqgmpwap_ind_0').style.opacity = 1; document.getElementById('_fs_qugxvotowbsuoqgmpwap_ind_0').style.opacity = 1;\"\n",
       "            onmouseout=\"document.getElementById('_fb_qugxvotowbsuoqgmpwap_ind_0').style.opacity = 0; document.getElementById('_fs_qugxvotowbsuoqgmpwap_ind_0').style.opacity = 0;\"\n",
       "        ></div></div><div style='display: inline; text-align: center;'\n",
       "    ><div style='display: none; color: #999; padding-top: 0px; font-size: 12px;'>-0.028</div\n",
       "        ><div id='_tp_qugxvotowbsuoqgmpwap_ind_1'\n",
       "            style='display: inline; background: rgba(30.0, 136.0, 229.0, 0.11713210536739943); border-radius: 3px; padding: 0px'\n",
       "            onclick=\"\n",
       "            if (this.previousSibling.style.display == 'none') {\n",
       "                this.previousSibling.style.display = 'block';\n",
       "                this.parentNode.style.display = 'inline-block';\n",
       "            } else {\n",
       "                this.previousSibling.style.display = 'none';\n",
       "                this.parentNode.style.display = 'inline';\n",
       "            }\"\n",
       "            onmouseover=\"document.getElementById('_fb_qugxvotowbsuoqgmpwap_ind_1').style.opacity = 1; document.getElementById('_fs_qugxvotowbsuoqgmpwap_ind_1').style.opacity = 1;\"\n",
       "            onmouseout=\"document.getElementById('_fb_qugxvotowbsuoqgmpwap_ind_1').style.opacity = 0; document.getElementById('_fs_qugxvotowbsuoqgmpwap_ind_1').style.opacity = 0;\"\n",
       "        >I </div></div><div style='display: inline; text-align: center;'\n",
       "    ><div style='display: none; color: #999; padding-top: 0px; font-size: 12px;'>-0.008</div\n",
       "        ><div id='_tp_qugxvotowbsuoqgmpwap_ind_2'\n",
       "            style='display: inline; background: rgba(30.0, 136.0, 229.0, 0.03042186571598325); border-radius: 3px; padding: 0px'\n",
       "            onclick=\"\n",
       "            if (this.previousSibling.style.display == 'none') {\n",
       "                this.previousSibling.style.display = 'block';\n",
       "                this.parentNode.style.display = 'inline-block';\n",
       "            } else {\n",
       "                this.previousSibling.style.display = 'none';\n",
       "                this.parentNode.style.display = 'inline';\n",
       "            }\"\n",
       "            onmouseover=\"document.getElementById('_fb_qugxvotowbsuoqgmpwap_ind_2').style.opacity = 1; document.getElementById('_fs_qugxvotowbsuoqgmpwap_ind_2').style.opacity = 1;\"\n",
       "            onmouseout=\"document.getElementById('_fb_qugxvotowbsuoqgmpwap_ind_2').style.opacity = 0; document.getElementById('_fs_qugxvotowbsuoqgmpwap_ind_2').style.opacity = 0;\"\n",
       "        >was </div></div><div style='display: inline; text-align: center;'\n",
       "    ><div style='display: none; color: #999; padding-top: 0px; font-size: 12px;'>0.01</div\n",
       "        ><div id='_tp_qugxvotowbsuoqgmpwap_ind_3'\n",
       "            style='display: inline; background: rgba(255.0, 13.0, 87.0, 0.03830461477520289); border-radius: 3px; padding: 0px'\n",
       "            onclick=\"\n",
       "            if (this.previousSibling.style.display == 'none') {\n",
       "                this.previousSibling.style.display = 'block';\n",
       "                this.parentNode.style.display = 'inline-block';\n",
       "            } else {\n",
       "                this.previousSibling.style.display = 'none';\n",
       "                this.parentNode.style.display = 'inline';\n",
       "            }\"\n",
       "            onmouseover=\"document.getElementById('_fb_qugxvotowbsuoqgmpwap_ind_3').style.opacity = 1; document.getElementById('_fs_qugxvotowbsuoqgmpwap_ind_3').style.opacity = 1;\"\n",
       "            onmouseout=\"document.getElementById('_fb_qugxvotowbsuoqgmpwap_ind_3').style.opacity = 0; document.getElementById('_fs_qugxvotowbsuoqgmpwap_ind_3').style.opacity = 0;\"\n",
       "        >not </div></div><div style='display: inline; text-align: center;'\n",
       "    ><div style='display: none; color: #999; padding-top: 0px; font-size: 12px;'>0.028</div\n",
       "        ><div id='_tp_qugxvotowbsuoqgmpwap_ind_4'\n",
       "            style='display: inline; background: rgba(255.0, 13.0, 87.0, 0.1171321053673995); border-radius: 3px; padding: 0px'\n",
       "            onclick=\"\n",
       "            if (this.previousSibling.style.display == 'none') {\n",
       "                this.previousSibling.style.display = 'block';\n",
       "                this.parentNode.style.display = 'inline-block';\n",
       "            } else {\n",
       "                this.previousSibling.style.display = 'none';\n",
       "                this.parentNode.style.display = 'inline';\n",
       "            }\"\n",
       "            onmouseover=\"document.getElementById('_fb_qugxvotowbsuoqgmpwap_ind_4').style.opacity = 1; document.getElementById('_fs_qugxvotowbsuoqgmpwap_ind_4').style.opacity = 1;\"\n",
       "            onmouseout=\"document.getElementById('_fb_qugxvotowbsuoqgmpwap_ind_4').style.opacity = 0; document.getElementById('_fs_qugxvotowbsuoqgmpwap_ind_4').style.opacity = 0;\"\n",
       "        >disappointed </div></div><div style='display: inline; text-align: center;'\n",
       "    ><div style='display: none; color: #999; padding-top: 0px; font-size: 12px;'>-0.025</div\n",
       "        ><div id='_tp_qugxvotowbsuoqgmpwap_ind_5'\n",
       "            style='display: inline; background: rgba(30.0, 136.0, 229.0, 0.10136660724896014); border-radius: 3px; padding: 0px'\n",
       "            onclick=\"\n",
       "            if (this.previousSibling.style.display == 'none') {\n",
       "                this.previousSibling.style.display = 'block';\n",
       "                this.parentNode.style.display = 'inline-block';\n",
       "            } else {\n",
       "                this.previousSibling.style.display = 'none';\n",
       "                this.parentNode.style.display = 'inline';\n",
       "            }\"\n",
       "            onmouseover=\"document.getElementById('_fb_qugxvotowbsuoqgmpwap_ind_5').style.opacity = 1; document.getElementById('_fs_qugxvotowbsuoqgmpwap_ind_5').style.opacity = 1;\"\n",
       "            onmouseout=\"document.getElementById('_fb_qugxvotowbsuoqgmpwap_ind_5').style.opacity = 0; document.getElementById('_fs_qugxvotowbsuoqgmpwap_ind_5').style.opacity = 0;\"\n",
       "        >with </div></div><div style='display: inline; text-align: center;'\n",
       "    ><div style='display: none; color: #999; padding-top: 0px; font-size: 12px;'>-0.051</div\n",
       "        ><div id='_tp_qugxvotowbsuoqgmpwap_ind_6'\n",
       "            style='display: inline; background: rgba(30.0, 136.0, 229.0, 0.21172509407803525); border-radius: 3px; padding: 0px'\n",
       "            onclick=\"\n",
       "            if (this.previousSibling.style.display == 'none') {\n",
       "                this.previousSibling.style.display = 'block';\n",
       "                this.parentNode.style.display = 'inline-block';\n",
       "            } else {\n",
       "                this.previousSibling.style.display = 'none';\n",
       "                this.parentNode.style.display = 'inline';\n",
       "            }\"\n",
       "            onmouseover=\"document.getElementById('_fb_qugxvotowbsuoqgmpwap_ind_6').style.opacity = 1; document.getElementById('_fs_qugxvotowbsuoqgmpwap_ind_6').style.opacity = 1;\"\n",
       "            onmouseout=\"document.getElementById('_fb_qugxvotowbsuoqgmpwap_ind_6').style.opacity = 0; document.getElementById('_fs_qugxvotowbsuoqgmpwap_ind_6').style.opacity = 0;\"\n",
       "        >the </div></div><div style='display: inline; text-align: center;'\n",
       "    ><div style='display: none; color: #999; padding-top: 0px; font-size: 12px;'>-0.066</div\n",
       "        ><div id='_tp_qugxvotowbsuoqgmpwap_ind_7'\n",
       "            style='display: inline; background: rgba(30.0, 136.0, 229.0, 0.27478708655179246); border-radius: 3px; padding: 0px'\n",
       "            onclick=\"\n",
       "            if (this.previousSibling.style.display == 'none') {\n",
       "                this.previousSibling.style.display = 'block';\n",
       "                this.parentNode.style.display = 'inline-block';\n",
       "            } else {\n",
       "                this.previousSibling.style.display = 'none';\n",
       "                this.parentNode.style.display = 'inline';\n",
       "            }\"\n",
       "            onmouseover=\"document.getElementById('_fb_qugxvotowbsuoqgmpwap_ind_7').style.opacity = 1; document.getElementById('_fs_qugxvotowbsuoqgmpwap_ind_7').style.opacity = 1;\"\n",
       "            onmouseout=\"document.getElementById('_fb_qugxvotowbsuoqgmpwap_ind_7').style.opacity = 0; document.getElementById('_fs_qugxvotowbsuoqgmpwap_ind_7').style.opacity = 0;\"\n",
       "        >result</div></div><div style='display: inline; text-align: center;'\n",
       "    ><div style='display: none; color: #999; padding-top: 0px; font-size: 12px;'>-0.048</div\n",
       "        ><div id='_tp_qugxvotowbsuoqgmpwap_ind_8'\n",
       "            style='display: inline; background: rgba(30.0, 136.0, 229.0, 0.1959595959595959); border-radius: 3px; padding: 0px'\n",
       "            onclick=\"\n",
       "            if (this.previousSibling.style.display == 'none') {\n",
       "                this.previousSibling.style.display = 'block';\n",
       "                this.parentNode.style.display = 'inline-block';\n",
       "            } else {\n",
       "                this.previousSibling.style.display = 'none';\n",
       "                this.parentNode.style.display = 'inline';\n",
       "            }\"\n",
       "            onmouseover=\"document.getElementById('_fb_qugxvotowbsuoqgmpwap_ind_8').style.opacity = 1; document.getElementById('_fs_qugxvotowbsuoqgmpwap_ind_8').style.opacity = 1;\"\n",
       "            onmouseout=\"document.getElementById('_fb_qugxvotowbsuoqgmpwap_ind_8').style.opacity = 0; document.getElementById('_fs_qugxvotowbsuoqgmpwap_ind_8').style.opacity = 0;\"\n",
       "        >.</div></div><div style='display: inline; text-align: center;'\n",
       "    ><div style='display: none; color: #999; padding-top: 0px; font-size: 12px;'>0.0</div\n",
       "        ><div id='_tp_qugxvotowbsuoqgmpwap_ind_9'\n",
       "            style='display: inline; background: rgba(230.2941176470614, 26.505882352939775, 102.59215686274348, 0.0); border-radius: 3px; padding: 0px'\n",
       "            onclick=\"\n",
       "            if (this.previousSibling.style.display == 'none') {\n",
       "                this.previousSibling.style.display = 'block';\n",
       "                this.parentNode.style.display = 'inline-block';\n",
       "            } else {\n",
       "                this.previousSibling.style.display = 'none';\n",
       "                this.parentNode.style.display = 'inline';\n",
       "            }\"\n",
       "            onmouseover=\"document.getElementById('_fb_qugxvotowbsuoqgmpwap_ind_9').style.opacity = 1; document.getElementById('_fs_qugxvotowbsuoqgmpwap_ind_9').style.opacity = 1;\"\n",
       "            onmouseout=\"document.getElementById('_fb_qugxvotowbsuoqgmpwap_ind_9').style.opacity = 0; document.getElementById('_fs_qugxvotowbsuoqgmpwap_ind_9').style.opacity = 0;\"\n",
       "        ></div></div></div></div><div id='_tp_wsmkdarudluwerjvfalk_output_2_zoom' style='display: none;'><svg width=\"100%\" height=\"80px\"><line x1=\"0\" y1=\"33\" x2=\"100%\" y2=\"33\" style=\"stroke:rgb(150,150,150);stroke-width:1\" /><line x1=\"51.01246281690749%\" y1=\"33\" x2=\"51.01246281690749%\" y2=\"37\" style=\"stroke:rgb(150,150,150);stroke-width:1\" /><text x=\"51.01246281690749%\" y=\"27\" font-size=\"12px\" fill=\"rgb(120,120,120)\" dominant-baseline=\"bottom\" text-anchor=\"middle\">0.35</text><line x1=\"35.16348332201895%\" y1=\"33\" x2=\"35.16348332201895%\" y2=\"37\" style=\"stroke:rgb(150,150,150);stroke-width:1\" /><text x=\"35.16348332201895%\" y=\"27\" font-size=\"12px\" fill=\"rgb(120,120,120)\" dominant-baseline=\"bottom\" text-anchor=\"middle\">0.3</text><line x1=\"19.314503827130398%\" y1=\"33\" x2=\"19.314503827130398%\" y2=\"37\" style=\"stroke:rgb(150,150,150);stroke-width:1\" /><text x=\"19.314503827130398%\" y=\"27\" font-size=\"12px\" fill=\"rgb(120,120,120)\" dominant-baseline=\"bottom\" text-anchor=\"middle\">0.25</text><line x1=\"66.86144231179603%\" y1=\"33\" x2=\"66.86144231179603%\" y2=\"37\" style=\"stroke:rgb(150,150,150);stroke-width:1\" /><text x=\"66.86144231179603%\" y=\"27\" font-size=\"12px\" fill=\"rgb(120,120,120)\" dominant-baseline=\"bottom\" text-anchor=\"middle\">0.4</text><line x1=\"82.71042180668458%\" y1=\"33\" x2=\"82.71042180668458%\" y2=\"37\" style=\"stroke:rgb(150,150,150);stroke-width:1\" /><text x=\"82.71042180668458%\" y=\"27\" font-size=\"12px\" fill=\"rgb(120,120,120)\" dominant-baseline=\"bottom\" text-anchor=\"middle\">0.45</text><line x1=\"79.58618672076757%\" y1=\"33\" x2=\"79.58618672076757%\" y2=\"37\" style=\"stroke:rgb(150,150,150);stroke-width:1\" /><text x=\"79.58618672076757%\" y=\"27\" font-size=\"13px\" style=\"stroke:#ffffff;stroke-width:8px;\" fill=\"rgb(255,255,255)\" dominant-baseline=\"bottom\" text-anchor=\"middle\">0.440144</text><text x=\"79.58618672076757%\" y=\"27\" font-size=\"12px\" fill=\"rgb(120,120,120)\" dominant-baseline=\"bottom\" text-anchor=\"middle\">0.440144</text><text x=\"79.58618672076757%\" y=\"10\" font-size=\"12px\" fill=\"rgb(120,120,120)\" dominant-baseline=\"bottom\" text-anchor=\"middle\">base value</text><line x1=\"20.413810109436533%\" y1=\"33\" x2=\"20.413810109436533%\" y2=\"37\" style=\"stroke:rgb(150,150,150);stroke-width:1\" /><text x=\"20.413810109436533%\" y=\"27\" font-size=\"13px\" style=\"stroke:#ffffff;stroke-width:8px;\" font-weight=\"bold\" fill=\"rgb(255,255,255)\" dominant-baseline=\"bottom\" text-anchor=\"middle\">0.253468</text><text x=\"20.413810109436533%\" y=\"27\" font-size=\"13px\" font-weight=\"bold\" fill=\"rgb(0,0,0)\" dominant-baseline=\"bottom\" text-anchor=\"middle\">0.253468</text><text x=\"20.413810109436533%\" y=\"10\" font-size=\"12px\" fill=\"rgb(120,120,120)\" dominant-baseline=\"bottom\" text-anchor=\"middle\">f<tspan baseline-shift=\"sub\" font-size=\"8px\">positive</tspan>(inputs)</text><rect x=\"8.333333069183675%\" width=\"12.080477040252857%\" y=\"40\" height=\"18\" style=\"fill:rgb(255.0, 0.0, 81.08083606031792); stroke-width:0; stroke:rgb(0,0,0)\" /><line x1=\"11.514291534804507%\" x2=\"20.413810109436533%\" y1=\"60\" y2=\"60\" id=\"_fb_lhrqvpchrdyassqumpxu_ind_4\" style=\"stroke:rgb(255.0, 0.0, 81.08083606031792);stroke-width:2; opacity: 0\"/><text x=\"15.96405082212052%\" y=\"71\" font-size=\"12px\" id=\"_fs_lhrqvpchrdyassqumpxu_ind_4\" fill=\"rgb(255.0, 0.0, 81.08083606031792)\" style=\"opacity: 0\" dominant-baseline=\"middle\" text-anchor=\"middle\">0.028</text><svg x=\"11.514291534804507%\" y=\"40\" height=\"20\" width=\"8.899518574632026%\">  <svg x=\"0\" y=\"0\" width=\"100%\" height=\"100%\">    <text x=\"50%\" y=\"9\" font-size=\"12px\" fill=\"rgb(255,255,255)\" dominant-baseline=\"middle\" text-anchor=\"middle\">disappointed</text>  </svg></svg><line x1=\"8.333333069183675%\" x2=\"11.514291534804507%\" y1=\"60\" y2=\"60\" id=\"_fb_lhrqvpchrdyassqumpxu_ind_3\" style=\"stroke:rgb(255.0, 0.0, 81.08083606031792);stroke-width:2; opacity: 0\"/><text x=\"9.92381230199409%\" y=\"71\" font-size=\"12px\" id=\"_fs_lhrqvpchrdyassqumpxu_ind_3\" fill=\"rgb(255.0, 0.0, 81.08083606031792)\" style=\"opacity: 0\" dominant-baseline=\"middle\" text-anchor=\"middle\">0.01</text><svg x=\"8.333333069183675%\" y=\"40\" height=\"20\" width=\"3.180958465620831%\">  <svg x=\"0\" y=\"0\" width=\"100%\" height=\"100%\">    <text x=\"50%\" y=\"9\" font-size=\"12px\" fill=\"rgb(255,255,255)\" dominant-baseline=\"middle\" text-anchor=\"middle\">not</text>  </svg></svg><g transform=\"translate(0,0)\">  <svg x=\"11.514291534804507%\" y=\"40\" height=\"18\" overflow=\"visible\" width=\"30\">    <path d=\"M 0 -9 l 6 18 L 0 25\" fill=\"none\" style=\"stroke:rgb(255.0, 0.0, 81.08083606031792);stroke-width:2\" />  </svg></g><g transform=\"translate(2,0)\">  <svg x=\"11.514291534804507%\" y=\"40\" height=\"18\" overflow=\"visible\" width=\"30\">    <path d=\"M 0 -9 l 6 18 L 0 25\" fill=\"none\" style=\"stroke:rgb(255.0, 0.0, 81.08083606031792);stroke-width:2\" />  </svg></g><g transform=\"translate(4,0)\">  <svg x=\"11.514291534804507%\" y=\"40\" height=\"18\" overflow=\"visible\" width=\"30\">    <path d=\"M 0 -9 l 6 18 L 0 25\" fill=\"none\" style=\"stroke:rgb(255.0, 0.0, 81.08083606031792);stroke-width:2\" />  </svg></g><g transform=\"translate(6,0)\">  <svg x=\"11.514291534804507%\" y=\"40\" height=\"18\" overflow=\"visible\" width=\"30\">    <path d=\"M 0 -9 l 6 18 L 0 25\" fill=\"none\" style=\"stroke:rgb(255.0, 0.0, 81.08083606031792);stroke-width:2\" />  </svg></g><g transform=\"translate(-8,0)\">  <svg x=\"11.514291534804507%\" y=\"40\" height=\"18\" overflow=\"visible\" width=\"30\">    <path d=\"M 0 -9 l 6 18 L 0 25\" fill=\"none\" style=\"stroke:rgb(255.0, 0.0, 81.08083606031792);stroke-width:2\" />  </svg></g><g transform=\"translate(-6,0)\">  <svg x=\"11.514291534804507%\" y=\"40\" height=\"18\" overflow=\"visible\" width=\"30\">    <path d=\"M 0 -9 l 6 18 L 0 25\" fill=\"none\" style=\"stroke:rgb(255.0, 0.0, 81.08083606031792);stroke-width:2\" />  </svg></g><g transform=\"translate(-4,0)\">  <svg x=\"11.514291534804507%\" y=\"40\" height=\"18\" overflow=\"visible\" width=\"30\">    <path d=\"M 0 -9 l 6 18 L 0 25\" fill=\"none\" style=\"stroke:rgb(255.0, 0.0, 81.08083606031792);stroke-width:2\" />  </svg></g><g transform=\"translate(-2,0)\">  <svg x=\"11.514291534804507%\" y=\"40\" height=\"18\" overflow=\"visible\" width=\"30\">    <path d=\"M 0 -9 l 6 18 L 0 25\" fill=\"none\" style=\"stroke:rgb(255.0, 0.0, 81.08083606031792);stroke-width:2\" />  </svg></g><rect transform=\"translate(-8,0)\" x=\"20.413810109436533%\" y=\"40\" width=\"8\" height=\"18\" style=\"fill:rgb(255.0, 0.0, 81.08083606031792)\"/><g transform=\"translate(-11.5,0)\">  <svg x=\"8.333333069183675%\" y=\"40\" height=\"18\" overflow=\"visible\" width=\"30\">    <path d=\"M 10 -9 l 6 18 L 10 25 L 0 25 L 0 -9\" fill=\"#ffffff\" style=\"stroke:rgb(255,255,255);stroke-width:2\" />  </svg></g><g transform=\"translate(-1.5,0)\">  <svg x=\"20.413810109436533%\" y=\"40\" height=\"18\" overflow=\"visible\" width=\"30\">    <path d=\"M 0 -9 l 6 18 L 0 25\" fill=\"none\" style=\"stroke:rgb(255, 195, 213);stroke-width:2\" />  </svg></g><rect x=\"11.514291534804507%\" y=\"40\" height=\"20\" width=\"8.899518574632026%\"      onmouseover=\"document.getElementById('_tp_lhrqvpchrdyassqumpxu_ind_4').style.textDecoration = 'underline';document.getElementById('_fs_lhrqvpchrdyassqumpxu_ind_4').style.opacity = 1;document.getElementById('_fb_lhrqvpchrdyassqumpxu_ind_4').style.opacity = 1;\"      onmouseout=\"document.getElementById('_tp_lhrqvpchrdyassqumpxu_ind_4').style.textDecoration = 'none';document.getElementById('_fs_lhrqvpchrdyassqumpxu_ind_4').style.opacity = 0;document.getElementById('_fb_lhrqvpchrdyassqumpxu_ind_4').style.opacity = 0;\" style=\"fill:rgb(0,0,0,0)\" /><rect x=\"8.333333069183675%\" y=\"40\" height=\"20\" width=\"3.180958465620831%\"      onmouseover=\"document.getElementById('_tp_lhrqvpchrdyassqumpxu_ind_3').style.textDecoration = 'underline';document.getElementById('_fs_lhrqvpchrdyassqumpxu_ind_3').style.opacity = 1;document.getElementById('_fb_lhrqvpchrdyassqumpxu_ind_3').style.opacity = 1;\"      onmouseout=\"document.getElementById('_tp_lhrqvpchrdyassqumpxu_ind_3').style.textDecoration = 'none';document.getElementById('_fs_lhrqvpchrdyassqumpxu_ind_3').style.opacity = 0;document.getElementById('_fb_lhrqvpchrdyassqumpxu_ind_3').style.opacity = 0;\" style=\"fill:rgb(0,0,0,0)\" /><rect x=\"20.413810109436533%\" width=\"71.25285365158389%\" y=\"40\" height=\"18\" style=\"fill:rgb(0.0, 138.56128015770724, 250.76166088685727); stroke-width:0; stroke:rgb(0,0,0)\" /><line x1=\"20.413810109436533%\" x2=\"41.27577435714626%\" y1=\"60\" y2=\"60\" id=\"_fb_lhrqvpchrdyassqumpxu_ind_7\" style=\"stroke:rgb(0.0, 138.56128015770724, 250.76166088685727);stroke-width:2; opacity: 0\"/><text x=\"30.844792233291397%\" y=\"71\" font-size=\"12px\" fill=\"rgb(0.0, 138.56128015770724, 250.76166088685727)\" id=\"_fs_lhrqvpchrdyassqumpxu_ind_7\" style=\"opacity: 0\" dominant-baseline=\"middle\" text-anchor=\"middle\">-0.066</text><svg x=\"20.413810109436533%\" y=\"40\" height=\"20\" width=\"20.86196424770973%\">  <svg x=\"0\" y=\"0\" width=\"100%\" height=\"100%\">    <text x=\"50%\" y=\"9\" font-size=\"12px\" fill=\"rgb(255,255,255)\" dominant-baseline=\"middle\" text-anchor=\"middle\">result</text>  </svg></svg><line x1=\"41.27577435714626%\" x2=\"57.443413218058595%\" y1=\"60\" y2=\"60\" id=\"_fb_lhrqvpchrdyassqumpxu_ind_6\" style=\"stroke:rgb(0.0, 138.56128015770724, 250.76166088685727);stroke-width:2; opacity: 0\"/><text x=\"49.35959378760243%\" y=\"71\" font-size=\"12px\" fill=\"rgb(0.0, 138.56128015770724, 250.76166088685727)\" id=\"_fs_lhrqvpchrdyassqumpxu_ind_6\" style=\"opacity: 0\" dominant-baseline=\"middle\" text-anchor=\"middle\">-0.051</text><svg x=\"41.27577435714626%\" y=\"40\" height=\"20\" width=\"16.167638860912334%\">  <svg x=\"0\" y=\"0\" width=\"100%\" height=\"100%\">    <text x=\"50%\" y=\"9\" font-size=\"12px\" fill=\"rgb(255,255,255)\" dominant-baseline=\"middle\" text-anchor=\"middle\">the</text>  </svg></svg><line x1=\"57.443413218058595%\" x2=\"72.62498855841096%\" y1=\"60\" y2=\"60\" id=\"_fb_lhrqvpchrdyassqumpxu_ind_8\" style=\"stroke:rgb(0.0, 138.56128015770724, 250.76166088685727);stroke-width:2; opacity: 0\"/><text x=\"65.03420088823478%\" y=\"71\" font-size=\"12px\" fill=\"rgb(0.0, 138.56128015770724, 250.76166088685727)\" id=\"_fs_lhrqvpchrdyassqumpxu_ind_8\" style=\"opacity: 0\" dominant-baseline=\"middle\" text-anchor=\"middle\">-0.048</text><svg x=\"57.443413218058595%\" y=\"40\" height=\"20\" width=\"15.181575340352367%\">  <svg x=\"0\" y=\"0\" width=\"100%\" height=\"100%\">    <text x=\"50%\" y=\"9\" font-size=\"12px\" fill=\"rgb(255,255,255)\" dominant-baseline=\"middle\" text-anchor=\"middle\">.</text>  </svg></svg><line x1=\"72.62498855841096%\" x2=\"81.45757503609946%\" y1=\"60\" y2=\"60\" id=\"_fb_lhrqvpchrdyassqumpxu_ind_1\" style=\"stroke:rgb(0.0, 138.56128015770724, 250.76166088685727);stroke-width:2; opacity: 0\"/><text x=\"77.04128179725521%\" y=\"71\" font-size=\"12px\" fill=\"rgb(0.0, 138.56128015770724, 250.76166088685727)\" id=\"_fs_lhrqvpchrdyassqumpxu_ind_1\" style=\"opacity: 0\" dominant-baseline=\"middle\" text-anchor=\"middle\">-0.028</text><svg x=\"72.62498855841096%\" y=\"40\" height=\"20\" width=\"8.832586477688494%\">  <svg x=\"0\" y=\"0\" width=\"100%\" height=\"100%\">    <text x=\"50%\" y=\"9\" font-size=\"12px\" fill=\"rgb(255,255,255)\" dominant-baseline=\"middle\" text-anchor=\"middle\">I</text>  </svg></svg><line x1=\"81.45757503609946%\" x2=\"89.2791100694111%\" y1=\"60\" y2=\"60\" id=\"_fb_lhrqvpchrdyassqumpxu_ind_5\" style=\"stroke:rgb(0.0, 138.56128015770724, 250.76166088685727);stroke-width:2; opacity: 0\"/><text x=\"85.36834255275528%\" y=\"71\" font-size=\"12px\" fill=\"rgb(0.0, 138.56128015770724, 250.76166088685727)\" id=\"_fs_lhrqvpchrdyassqumpxu_ind_5\" style=\"opacity: 0\" dominant-baseline=\"middle\" text-anchor=\"middle\">-0.025</text><svg x=\"81.45757503609946%\" y=\"40\" height=\"20\" width=\"7.821535033311648%\">  <svg x=\"0\" y=\"0\" width=\"100%\" height=\"100%\">    <text x=\"50%\" y=\"9\" font-size=\"12px\" fill=\"rgb(255,255,255)\" dominant-baseline=\"middle\" text-anchor=\"middle\">with</text>  </svg></svg><line x1=\"89.2791100694111%\" x2=\"91.66666376102043%\" y1=\"60\" y2=\"60\" id=\"_fb_lhrqvpchrdyassqumpxu_ind_2\" style=\"stroke:rgb(0.0, 138.56128015770724, 250.76166088685727);stroke-width:2; opacity: 0\"/><text x=\"90.47288691521577%\" y=\"71\" font-size=\"12px\" fill=\"rgb(0.0, 138.56128015770724, 250.76166088685727)\" id=\"_fs_lhrqvpchrdyassqumpxu_ind_2\" style=\"opacity: 0\" dominant-baseline=\"middle\" text-anchor=\"middle\">-0.008</text><svg x=\"89.2791100694111%\" y=\"40\" height=\"20\" width=\"2.3875536916093267%\">  <svg x=\"0\" y=\"0\" width=\"100%\" height=\"100%\">    <text x=\"50%\" y=\"9\" font-size=\"12px\" fill=\"rgb(255,255,255)\" dominant-baseline=\"middle\" text-anchor=\"middle\">was</text>  </svg></svg><g transform=\"translate(-8,0)\">  <svg x=\"41.27577435714626%\" y=\"40\" height=\"18\" overflow=\"visible\" width=\"30\">    <path d=\"M 8 -9 l -6 18 L 8 25\" fill=\"none\" style=\"stroke:rgb(0.0, 138.56128015770724, 250.76166088685727);stroke-width:2\" />  </svg></g><g transform=\"translate(-10,0)\">  <svg x=\"41.27577435714626%\" y=\"40\" height=\"18\" overflow=\"visible\" width=\"30\">    <path d=\"M 8 -9 l -6 18 L 8 25\" fill=\"none\" style=\"stroke:rgb(0.0, 138.56128015770724, 250.76166088685727);stroke-width:2\" />  </svg></g><g transform=\"translate(-12,0)\">  <svg x=\"41.27577435714626%\" y=\"40\" height=\"18\" overflow=\"visible\" width=\"30\">    <path d=\"M 8 -9 l -6 18 L 8 25\" fill=\"none\" style=\"stroke:rgb(0.0, 138.56128015770724, 250.76166088685727);stroke-width:2\" />  </svg></g><g transform=\"translate(-14,0)\">  <svg x=\"41.27577435714626%\" y=\"40\" height=\"18\" overflow=\"visible\" width=\"30\">    <path d=\"M 8 -9 l -6 18 L 8 25\" fill=\"none\" style=\"stroke:rgb(0.0, 138.56128015770724, 250.76166088685727);stroke-width:2\" />  </svg></g><g transform=\"translate(2,0)\">  <svg x=\"41.27577435714626%\" y=\"40\" height=\"18\" overflow=\"visible\" width=\"30\">    <path d=\"M 8 -9 l -6 18 L 8 25\" fill=\"none\" style=\"stroke:rgb(0.0, 138.56128015770724, 250.76166088685727);stroke-width:2\" />  </svg></g><g transform=\"translate(0,0)\">  <svg x=\"41.27577435714626%\" y=\"40\" height=\"18\" overflow=\"visible\" width=\"30\">    <path d=\"M 8 -9 l -6 18 L 8 25\" fill=\"none\" style=\"stroke:rgb(0.0, 138.56128015770724, 250.76166088685727);stroke-width:2\" />  </svg></g><g transform=\"translate(-2,0)\">  <svg x=\"41.27577435714626%\" y=\"40\" height=\"18\" overflow=\"visible\" width=\"30\">    <path d=\"M 8 -9 l -6 18 L 8 25\" fill=\"none\" style=\"stroke:rgb(0.0, 138.56128015770724, 250.76166088685727);stroke-width:2\" />  </svg></g><g transform=\"translate(-4,0)\">  <svg x=\"41.27577435714626%\" y=\"40\" height=\"18\" overflow=\"visible\" width=\"30\">    <path d=\"M 8 -9 l -6 18 L 8 25\" fill=\"none\" style=\"stroke:rgb(0.0, 138.56128015770724, 250.76166088685727);stroke-width:2\" />  </svg></g><g transform=\"translate(-8,0)\">  <svg x=\"57.443413218058595%\" y=\"40\" height=\"18\" overflow=\"visible\" width=\"30\">    <path d=\"M 8 -9 l -6 18 L 8 25\" fill=\"none\" style=\"stroke:rgb(0.0, 138.56128015770724, 250.76166088685727);stroke-width:2\" />  </svg></g><g transform=\"translate(-10,0)\">  <svg x=\"57.443413218058595%\" y=\"40\" height=\"18\" overflow=\"visible\" width=\"30\">    <path d=\"M 8 -9 l -6 18 L 8 25\" fill=\"none\" style=\"stroke:rgb(0.0, 138.56128015770724, 250.76166088685727);stroke-width:2\" />  </svg></g><g transform=\"translate(-12,0)\">  <svg x=\"57.443413218058595%\" y=\"40\" height=\"18\" overflow=\"visible\" width=\"30\">    <path d=\"M 8 -9 l -6 18 L 8 25\" fill=\"none\" style=\"stroke:rgb(0.0, 138.56128015770724, 250.76166088685727);stroke-width:2\" />  </svg></g><g transform=\"translate(-14,0)\">  <svg x=\"57.443413218058595%\" y=\"40\" height=\"18\" overflow=\"visible\" width=\"30\">    <path d=\"M 8 -9 l -6 18 L 8 25\" fill=\"none\" style=\"stroke:rgb(0.0, 138.56128015770724, 250.76166088685727);stroke-width:2\" />  </svg></g><g transform=\"translate(2,0)\">  <svg x=\"57.443413218058595%\" y=\"40\" height=\"18\" overflow=\"visible\" width=\"30\">    <path d=\"M 8 -9 l -6 18 L 8 25\" fill=\"none\" style=\"stroke:rgb(0.0, 138.56128015770724, 250.76166088685727);stroke-width:2\" />  </svg></g><g transform=\"translate(0,0)\">  <svg x=\"57.443413218058595%\" y=\"40\" height=\"18\" overflow=\"visible\" width=\"30\">    <path d=\"M 8 -9 l -6 18 L 8 25\" fill=\"none\" style=\"stroke:rgb(0.0, 138.56128015770724, 250.76166088685727);stroke-width:2\" />  </svg></g><g transform=\"translate(-2,0)\">  <svg x=\"57.443413218058595%\" y=\"40\" height=\"18\" overflow=\"visible\" width=\"30\">    <path d=\"M 8 -9 l -6 18 L 8 25\" fill=\"none\" style=\"stroke:rgb(0.0, 138.56128015770724, 250.76166088685727);stroke-width:2\" />  </svg></g><g transform=\"translate(-4,0)\">  <svg x=\"57.443413218058595%\" y=\"40\" height=\"18\" overflow=\"visible\" width=\"30\">    <path d=\"M 8 -9 l -6 18 L 8 25\" fill=\"none\" style=\"stroke:rgb(0.0, 138.56128015770724, 250.76166088685727);stroke-width:2\" />  </svg></g><g transform=\"translate(-8,0)\">  <svg x=\"72.62498855841096%\" y=\"40\" height=\"18\" overflow=\"visible\" width=\"30\">    <path d=\"M 8 -9 l -6 18 L 8 25\" fill=\"none\" style=\"stroke:rgb(0.0, 138.56128015770724, 250.76166088685727);stroke-width:2\" />  </svg></g><g transform=\"translate(-10,0)\">  <svg x=\"72.62498855841096%\" y=\"40\" height=\"18\" overflow=\"visible\" width=\"30\">    <path d=\"M 8 -9 l -6 18 L 8 25\" fill=\"none\" style=\"stroke:rgb(0.0, 138.56128015770724, 250.76166088685727);stroke-width:2\" />  </svg></g><g transform=\"translate(-12,0)\">  <svg x=\"72.62498855841096%\" y=\"40\" height=\"18\" overflow=\"visible\" width=\"30\">    <path d=\"M 8 -9 l -6 18 L 8 25\" fill=\"none\" style=\"stroke:rgb(0.0, 138.56128015770724, 250.76166088685727);stroke-width:2\" />  </svg></g><g transform=\"translate(-14,0)\">  <svg x=\"72.62498855841096%\" y=\"40\" height=\"18\" overflow=\"visible\" width=\"30\">    <path d=\"M 8 -9 l -6 18 L 8 25\" fill=\"none\" style=\"stroke:rgb(0.0, 138.56128015770724, 250.76166088685727);stroke-width:2\" />  </svg></g><g transform=\"translate(2,0)\">  <svg x=\"72.62498855841096%\" y=\"40\" height=\"18\" overflow=\"visible\" width=\"30\">    <path d=\"M 8 -9 l -6 18 L 8 25\" fill=\"none\" style=\"stroke:rgb(0.0, 138.56128015770724, 250.76166088685727);stroke-width:2\" />  </svg></g><g transform=\"translate(0,0)\">  <svg x=\"72.62498855841096%\" y=\"40\" height=\"18\" overflow=\"visible\" width=\"30\">    <path d=\"M 8 -9 l -6 18 L 8 25\" fill=\"none\" style=\"stroke:rgb(0.0, 138.56128015770724, 250.76166088685727);stroke-width:2\" />  </svg></g><g transform=\"translate(-2,0)\">  <svg x=\"72.62498855841096%\" y=\"40\" height=\"18\" overflow=\"visible\" width=\"30\">    <path d=\"M 8 -9 l -6 18 L 8 25\" fill=\"none\" style=\"stroke:rgb(0.0, 138.56128015770724, 250.76166088685727);stroke-width:2\" />  </svg></g><g transform=\"translate(-4,0)\">  <svg x=\"72.62498855841096%\" y=\"40\" height=\"18\" overflow=\"visible\" width=\"30\">    <path d=\"M 8 -9 l -6 18 L 8 25\" fill=\"none\" style=\"stroke:rgb(0.0, 138.56128015770724, 250.76166088685727);stroke-width:2\" />  </svg></g><g transform=\"translate(-8,0)\">  <svg x=\"81.45757503609946%\" y=\"40\" height=\"18\" overflow=\"visible\" width=\"30\">    <path d=\"M 8 -9 l -6 18 L 8 25\" fill=\"none\" style=\"stroke:rgb(0.0, 138.56128015770724, 250.76166088685727);stroke-width:2\" />  </svg></g><g transform=\"translate(-10,0)\">  <svg x=\"81.45757503609946%\" y=\"40\" height=\"18\" overflow=\"visible\" width=\"30\">    <path d=\"M 8 -9 l -6 18 L 8 25\" fill=\"none\" style=\"stroke:rgb(0.0, 138.56128015770724, 250.76166088685727);stroke-width:2\" />  </svg></g><g transform=\"translate(-12,0)\">  <svg x=\"81.45757503609946%\" y=\"40\" height=\"18\" overflow=\"visible\" width=\"30\">    <path d=\"M 8 -9 l -6 18 L 8 25\" fill=\"none\" style=\"stroke:rgb(0.0, 138.56128015770724, 250.76166088685727);stroke-width:2\" />  </svg></g><g transform=\"translate(-14,0)\">  <svg x=\"81.45757503609946%\" y=\"40\" height=\"18\" overflow=\"visible\" width=\"30\">    <path d=\"M 8 -9 l -6 18 L 8 25\" fill=\"none\" style=\"stroke:rgb(0.0, 138.56128015770724, 250.76166088685727);stroke-width:2\" />  </svg></g><g transform=\"translate(2,0)\">  <svg x=\"81.45757503609946%\" y=\"40\" height=\"18\" overflow=\"visible\" width=\"30\">    <path d=\"M 8 -9 l -6 18 L 8 25\" fill=\"none\" style=\"stroke:rgb(0.0, 138.56128015770724, 250.76166088685727);stroke-width:2\" />  </svg></g><g transform=\"translate(0,0)\">  <svg x=\"81.45757503609946%\" y=\"40\" height=\"18\" overflow=\"visible\" width=\"30\">    <path d=\"M 8 -9 l -6 18 L 8 25\" fill=\"none\" style=\"stroke:rgb(0.0, 138.56128015770724, 250.76166088685727);stroke-width:2\" />  </svg></g><g transform=\"translate(-2,0)\">  <svg x=\"81.45757503609946%\" y=\"40\" height=\"18\" overflow=\"visible\" width=\"30\">    <path d=\"M 8 -9 l -6 18 L 8 25\" fill=\"none\" style=\"stroke:rgb(0.0, 138.56128015770724, 250.76166088685727);stroke-width:2\" />  </svg></g><g transform=\"translate(-4,0)\">  <svg x=\"81.45757503609946%\" y=\"40\" height=\"18\" overflow=\"visible\" width=\"30\">    <path d=\"M 8 -9 l -6 18 L 8 25\" fill=\"none\" style=\"stroke:rgb(0.0, 138.56128015770724, 250.76166088685727);stroke-width:2\" />  </svg></g><g transform=\"translate(-8,0)\">  <svg x=\"89.2791100694111%\" y=\"40\" height=\"18\" overflow=\"visible\" width=\"30\">    <path d=\"M 8 -9 l -6 18 L 8 25\" fill=\"none\" style=\"stroke:rgb(0.0, 138.56128015770724, 250.76166088685727);stroke-width:2\" />  </svg></g><g transform=\"translate(-10,0)\">  <svg x=\"89.2791100694111%\" y=\"40\" height=\"18\" overflow=\"visible\" width=\"30\">    <path d=\"M 8 -9 l -6 18 L 8 25\" fill=\"none\" style=\"stroke:rgb(0.0, 138.56128015770724, 250.76166088685727);stroke-width:2\" />  </svg></g><g transform=\"translate(-12,0)\">  <svg x=\"89.2791100694111%\" y=\"40\" height=\"18\" overflow=\"visible\" width=\"30\">    <path d=\"M 8 -9 l -6 18 L 8 25\" fill=\"none\" style=\"stroke:rgb(0.0, 138.56128015770724, 250.76166088685727);stroke-width:2\" />  </svg></g><g transform=\"translate(-14,0)\">  <svg x=\"89.2791100694111%\" y=\"40\" height=\"18\" overflow=\"visible\" width=\"30\">    <path d=\"M 8 -9 l -6 18 L 8 25\" fill=\"none\" style=\"stroke:rgb(0.0, 138.56128015770724, 250.76166088685727);stroke-width:2\" />  </svg></g><g transform=\"translate(2,0)\">  <svg x=\"89.2791100694111%\" y=\"40\" height=\"18\" overflow=\"visible\" width=\"30\">    <path d=\"M 8 -9 l -6 18 L 8 25\" fill=\"none\" style=\"stroke:rgb(0.0, 138.56128015770724, 250.76166088685727);stroke-width:2\" />  </svg></g><g transform=\"translate(0,0)\">  <svg x=\"89.2791100694111%\" y=\"40\" height=\"18\" overflow=\"visible\" width=\"30\">    <path d=\"M 8 -9 l -6 18 L 8 25\" fill=\"none\" style=\"stroke:rgb(0.0, 138.56128015770724, 250.76166088685727);stroke-width:2\" />  </svg></g><g transform=\"translate(-2,0)\">  <svg x=\"89.2791100694111%\" y=\"40\" height=\"18\" overflow=\"visible\" width=\"30\">    <path d=\"M 8 -9 l -6 18 L 8 25\" fill=\"none\" style=\"stroke:rgb(0.0, 138.56128015770724, 250.76166088685727);stroke-width:2\" />  </svg></g><g transform=\"translate(-4,0)\">  <svg x=\"89.2791100694111%\" y=\"40\" height=\"18\" overflow=\"visible\" width=\"30\">    <path d=\"M 8 -9 l -6 18 L 8 25\" fill=\"none\" style=\"stroke:rgb(0.0, 138.56128015770724, 250.76166088685727);stroke-width:2\" />  </svg></g><rect transform=\"translate(0,0)\" x=\"20.413810109436533%\" y=\"40\" width=\"8\" height=\"18\" style=\"fill:rgb(0.0, 138.56128015770724, 250.76166088685727)\"/><g transform=\"translate(-6.0,0)\">  <svg x=\"91.66666376102043%\" y=\"40\" height=\"18\" overflow=\"visible\" width=\"30\">    <path d=\"M 8 -9 l -6 18 L 8 25 L 20 25 L 20 -9\" fill=\"#ffffff\" style=\"stroke:rgb(255,255,255);stroke-width:2\" />  </svg></g><g transform=\"translate(-6.0,0)\">  <svg x=\"41.27577435714626%\" y=\"40\" height=\"18\" overflow=\"visible\" width=\"30\">    <path d=\"M 8 -9 l -6 18 L 8 25\" fill=\"none\" style=\"stroke:rgb(208, 230, 250);stroke-width:2\" />  </svg></g><rect x=\"20.413810109436533%\" y=\"40\" height=\"20\" width=\"20.86196424770973%\"      onmouseover=\"document.getElementById('_tp_lhrqvpchrdyassqumpxu_ind_7').style.textDecoration = 'underline';document.getElementById('_fs_lhrqvpchrdyassqumpxu_ind_7').style.opacity = 1;document.getElementById('_fb_lhrqvpchrdyassqumpxu_ind_7').style.opacity = 1;\"      onmouseout=\"document.getElementById('_tp_lhrqvpchrdyassqumpxu_ind_7').style.textDecoration = 'none';document.getElementById('_fs_lhrqvpchrdyassqumpxu_ind_7').style.opacity = 0;document.getElementById('_fb_lhrqvpchrdyassqumpxu_ind_7').style.opacity = 0;\" style=\"fill:rgb(0,0,0,0)\" /><g transform=\"translate(-6.0,0)\">  <svg x=\"57.443413218058595%\" y=\"40\" height=\"18\" overflow=\"visible\" width=\"30\">    <path d=\"M 8 -9 l -6 18 L 8 25\" fill=\"none\" style=\"stroke:rgb(208, 230, 250);stroke-width:2\" />  </svg></g><rect x=\"41.27577435714626%\" y=\"40\" height=\"20\" width=\"16.167638860912334%\"      onmouseover=\"document.getElementById('_tp_lhrqvpchrdyassqumpxu_ind_6').style.textDecoration = 'underline';document.getElementById('_fs_lhrqvpchrdyassqumpxu_ind_6').style.opacity = 1;document.getElementById('_fb_lhrqvpchrdyassqumpxu_ind_6').style.opacity = 1;\"      onmouseout=\"document.getElementById('_tp_lhrqvpchrdyassqumpxu_ind_6').style.textDecoration = 'none';document.getElementById('_fs_lhrqvpchrdyassqumpxu_ind_6').style.opacity = 0;document.getElementById('_fb_lhrqvpchrdyassqumpxu_ind_6').style.opacity = 0;\" style=\"fill:rgb(0,0,0,0)\" /><g transform=\"translate(-6.0,0)\">  <svg x=\"72.62498855841096%\" y=\"40\" height=\"18\" overflow=\"visible\" width=\"30\">    <path d=\"M 8 -9 l -6 18 L 8 25\" fill=\"none\" style=\"stroke:rgb(208, 230, 250);stroke-width:2\" />  </svg></g><rect x=\"57.443413218058595%\" y=\"40\" height=\"20\" width=\"15.181575340352367%\"      onmouseover=\"document.getElementById('_tp_lhrqvpchrdyassqumpxu_ind_8').style.textDecoration = 'underline';document.getElementById('_fs_lhrqvpchrdyassqumpxu_ind_8').style.opacity = 1;document.getElementById('_fb_lhrqvpchrdyassqumpxu_ind_8').style.opacity = 1;\"      onmouseout=\"document.getElementById('_tp_lhrqvpchrdyassqumpxu_ind_8').style.textDecoration = 'none';document.getElementById('_fs_lhrqvpchrdyassqumpxu_ind_8').style.opacity = 0;document.getElementById('_fb_lhrqvpchrdyassqumpxu_ind_8').style.opacity = 0;\" style=\"fill:rgb(0,0,0,0)\" /><g transform=\"translate(-6.0,0)\">  <svg x=\"81.45757503609946%\" y=\"40\" height=\"18\" overflow=\"visible\" width=\"30\">    <path d=\"M 8 -9 l -6 18 L 8 25\" fill=\"none\" style=\"stroke:rgb(208, 230, 250);stroke-width:2\" />  </svg></g><rect x=\"72.62498855841096%\" y=\"40\" height=\"20\" width=\"8.832586477688494%\"      onmouseover=\"document.getElementById('_tp_lhrqvpchrdyassqumpxu_ind_1').style.textDecoration = 'underline';document.getElementById('_fs_lhrqvpchrdyassqumpxu_ind_1').style.opacity = 1;document.getElementById('_fb_lhrqvpchrdyassqumpxu_ind_1').style.opacity = 1;\"      onmouseout=\"document.getElementById('_tp_lhrqvpchrdyassqumpxu_ind_1').style.textDecoration = 'none';document.getElementById('_fs_lhrqvpchrdyassqumpxu_ind_1').style.opacity = 0;document.getElementById('_fb_lhrqvpchrdyassqumpxu_ind_1').style.opacity = 0;\" style=\"fill:rgb(0,0,0,0)\" /><g transform=\"translate(-6.0,0)\">  <svg x=\"89.2791100694111%\" y=\"40\" height=\"18\" overflow=\"visible\" width=\"30\">    <path d=\"M 8 -9 l -6 18 L 8 25\" fill=\"none\" style=\"stroke:rgb(208, 230, 250);stroke-width:2\" />  </svg></g><rect x=\"81.45757503609946%\" y=\"40\" height=\"20\" width=\"7.821535033311648%\"      onmouseover=\"document.getElementById('_tp_lhrqvpchrdyassqumpxu_ind_5').style.textDecoration = 'underline';document.getElementById('_fs_lhrqvpchrdyassqumpxu_ind_5').style.opacity = 1;document.getElementById('_fb_lhrqvpchrdyassqumpxu_ind_5').style.opacity = 1;\"      onmouseout=\"document.getElementById('_tp_lhrqvpchrdyassqumpxu_ind_5').style.textDecoration = 'none';document.getElementById('_fs_lhrqvpchrdyassqumpxu_ind_5').style.opacity = 0;document.getElementById('_fb_lhrqvpchrdyassqumpxu_ind_5').style.opacity = 0;\" style=\"fill:rgb(0,0,0,0)\" /><rect x=\"89.2791100694111%\" y=\"40\" height=\"20\" width=\"2.3875536916093267%\"      onmouseover=\"document.getElementById('_tp_lhrqvpchrdyassqumpxu_ind_2').style.textDecoration = 'underline';document.getElementById('_fs_lhrqvpchrdyassqumpxu_ind_2').style.opacity = 1;document.getElementById('_fb_lhrqvpchrdyassqumpxu_ind_2').style.opacity = 1;\"      onmouseout=\"document.getElementById('_tp_lhrqvpchrdyassqumpxu_ind_2').style.textDecoration = 'none';document.getElementById('_fs_lhrqvpchrdyassqumpxu_ind_2').style.opacity = 0;document.getElementById('_fb_lhrqvpchrdyassqumpxu_ind_2').style.opacity = 0;\" style=\"fill:rgb(0,0,0,0)\" /></svg><div align='center'><div style=\"color: rgb(120,120,120); font-size: 12px; margin-top: -15px;\">inputs</div><div style='display: inline; text-align: center;'\n",
       "    ><div style='display: none; color: #999; padding-top: 0px; font-size: 12px;'>0.0</div\n",
       "        ><div id='_tp_lhrqvpchrdyassqumpxu_ind_0'\n",
       "            style='display: inline; background: rgba(230.2941176470614, 26.505882352939775, 102.59215686274348, 0.0); border-radius: 3px; padding: 0px'\n",
       "            onclick=\"\n",
       "            if (this.previousSibling.style.display == 'none') {\n",
       "                this.previousSibling.style.display = 'block';\n",
       "                this.parentNode.style.display = 'inline-block';\n",
       "            } else {\n",
       "                this.previousSibling.style.display = 'none';\n",
       "                this.parentNode.style.display = 'inline';\n",
       "            }\"\n",
       "            onmouseover=\"document.getElementById('_fb_lhrqvpchrdyassqumpxu_ind_0').style.opacity = 1; document.getElementById('_fs_lhrqvpchrdyassqumpxu_ind_0').style.opacity = 1;\"\n",
       "            onmouseout=\"document.getElementById('_fb_lhrqvpchrdyassqumpxu_ind_0').style.opacity = 0; document.getElementById('_fs_lhrqvpchrdyassqumpxu_ind_0').style.opacity = 0;\"\n",
       "        ></div></div><div style='display: inline; text-align: center;'\n",
       "    ><div style='display: none; color: #999; padding-top: 0px; font-size: 12px;'>-0.028</div\n",
       "        ><div id='_tp_lhrqvpchrdyassqumpxu_ind_1'\n",
       "            style='display: inline; background: rgba(30.0, 136.0, 229.0, 0.42455931867696567); border-radius: 3px; padding: 0px'\n",
       "            onclick=\"\n",
       "            if (this.previousSibling.style.display == 'none') {\n",
       "                this.previousSibling.style.display = 'block';\n",
       "                this.parentNode.style.display = 'inline-block';\n",
       "            } else {\n",
       "                this.previousSibling.style.display = 'none';\n",
       "                this.parentNode.style.display = 'inline';\n",
       "            }\"\n",
       "            onmouseover=\"document.getElementById('_fb_lhrqvpchrdyassqumpxu_ind_1').style.opacity = 1; document.getElementById('_fs_lhrqvpchrdyassqumpxu_ind_1').style.opacity = 1;\"\n",
       "            onmouseout=\"document.getElementById('_fb_lhrqvpchrdyassqumpxu_ind_1').style.opacity = 0; document.getElementById('_fs_lhrqvpchrdyassqumpxu_ind_1').style.opacity = 0;\"\n",
       "        >I </div></div><div style='display: inline; text-align: center;'\n",
       "    ><div style='display: none; color: #999; padding-top: 0px; font-size: 12px;'>-0.008</div\n",
       "        ><div id='_tp_lhrqvpchrdyassqumpxu_ind_2'\n",
       "            style='display: inline; background: rgba(30.0, 136.0, 229.0, 0.10924935630817977); border-radius: 3px; padding: 0px'\n",
       "            onclick=\"\n",
       "            if (this.previousSibling.style.display == 'none') {\n",
       "                this.previousSibling.style.display = 'block';\n",
       "                this.parentNode.style.display = 'inline-block';\n",
       "            } else {\n",
       "                this.previousSibling.style.display = 'none';\n",
       "                this.parentNode.style.display = 'inline';\n",
       "            }\"\n",
       "            onmouseover=\"document.getElementById('_fb_lhrqvpchrdyassqumpxu_ind_2').style.opacity = 1; document.getElementById('_fs_lhrqvpchrdyassqumpxu_ind_2').style.opacity = 1;\"\n",
       "            onmouseout=\"document.getElementById('_fb_lhrqvpchrdyassqumpxu_ind_2').style.opacity = 0; document.getElementById('_fs_lhrqvpchrdyassqumpxu_ind_2').style.opacity = 0;\"\n",
       "        >was </div></div><div style='display: inline; text-align: center;'\n",
       "    ><div style='display: none; color: #999; padding-top: 0px; font-size: 12px;'>0.01</div\n",
       "        ><div id='_tp_lhrqvpchrdyassqumpxu_ind_3'\n",
       "            style='display: inline; background: rgba(255.0, 13.0, 87.0, 0.14866310160427795); border-radius: 3px; padding: 0px'\n",
       "            onclick=\"\n",
       "            if (this.previousSibling.style.display == 'none') {\n",
       "                this.previousSibling.style.display = 'block';\n",
       "                this.parentNode.style.display = 'inline-block';\n",
       "            } else {\n",
       "                this.previousSibling.style.display = 'none';\n",
       "                this.parentNode.style.display = 'inline';\n",
       "            }\"\n",
       "            onmouseover=\"document.getElementById('_fb_lhrqvpchrdyassqumpxu_ind_3').style.opacity = 1; document.getElementById('_fs_lhrqvpchrdyassqumpxu_ind_3').style.opacity = 1;\"\n",
       "            onmouseout=\"document.getElementById('_fb_lhrqvpchrdyassqumpxu_ind_3').style.opacity = 0; document.getElementById('_fs_lhrqvpchrdyassqumpxu_ind_3').style.opacity = 0;\"\n",
       "        >not </div></div><div style='display: inline; text-align: center;'\n",
       "    ><div style='display: none; color: #999; padding-top: 0px; font-size: 12px;'>0.028</div\n",
       "        ><div id='_tp_lhrqvpchrdyassqumpxu_ind_4'\n",
       "            style='display: inline; background: rgba(255.0, 13.0, 87.0, 0.4245593186769657); border-radius: 3px; padding: 0px'\n",
       "            onclick=\"\n",
       "            if (this.previousSibling.style.display == 'none') {\n",
       "                this.previousSibling.style.display = 'block';\n",
       "                this.parentNode.style.display = 'inline-block';\n",
       "            } else {\n",
       "                this.previousSibling.style.display = 'none';\n",
       "                this.parentNode.style.display = 'inline';\n",
       "            }\"\n",
       "            onmouseover=\"document.getElementById('_fb_lhrqvpchrdyassqumpxu_ind_4').style.opacity = 1; document.getElementById('_fs_lhrqvpchrdyassqumpxu_ind_4').style.opacity = 1;\"\n",
       "            onmouseout=\"document.getElementById('_fb_lhrqvpchrdyassqumpxu_ind_4').style.opacity = 0; document.getElementById('_fs_lhrqvpchrdyassqumpxu_ind_4').style.opacity = 0;\"\n",
       "        >disappointed </div></div><div style='display: inline; text-align: center;'\n",
       "    ><div style='display: none; color: #999; padding-top: 0px; font-size: 12px;'>-0.025</div\n",
       "        ><div id='_tp_lhrqvpchrdyassqumpxu_ind_5'\n",
       "            style='display: inline; background: rgba(30.0, 136.0, 229.0, 0.36938007526242816); border-radius: 3px; padding: 0px'\n",
       "            onclick=\"\n",
       "            if (this.previousSibling.style.display == 'none') {\n",
       "                this.previousSibling.style.display = 'block';\n",
       "                this.parentNode.style.display = 'inline-block';\n",
       "            } else {\n",
       "                this.previousSibling.style.display = 'none';\n",
       "                this.parentNode.style.display = 'inline';\n",
       "            }\"\n",
       "            onmouseover=\"document.getElementById('_fb_lhrqvpchrdyassqumpxu_ind_5').style.opacity = 1; document.getElementById('_fs_lhrqvpchrdyassqumpxu_ind_5').style.opacity = 1;\"\n",
       "            onmouseout=\"document.getElementById('_fb_lhrqvpchrdyassqumpxu_ind_5').style.opacity = 0; document.getElementById('_fs_lhrqvpchrdyassqumpxu_ind_5').style.opacity = 0;\"\n",
       "        >with </div></div><div style='display: inline; text-align: center;'\n",
       "    ><div style='display: none; color: #999; padding-top: 0px; font-size: 12px;'>-0.051</div\n",
       "        ><div id='_tp_lhrqvpchrdyassqumpxu_ind_6'\n",
       "            style='display: inline; background: rgba(30.0, 136.0, 229.0, 0.7792830263418499); border-radius: 3px; padding: 0px'\n",
       "            onclick=\"\n",
       "            if (this.previousSibling.style.display == 'none') {\n",
       "                this.previousSibling.style.display = 'block';\n",
       "                this.parentNode.style.display = 'inline-block';\n",
       "            } else {\n",
       "                this.previousSibling.style.display = 'none';\n",
       "                this.parentNode.style.display = 'inline';\n",
       "            }\"\n",
       "            onmouseover=\"document.getElementById('_fb_lhrqvpchrdyassqumpxu_ind_6').style.opacity = 1; document.getElementById('_fs_lhrqvpchrdyassqumpxu_ind_6').style.opacity = 1;\"\n",
       "            onmouseout=\"document.getElementById('_fb_lhrqvpchrdyassqumpxu_ind_6').style.opacity = 0; document.getElementById('_fs_lhrqvpchrdyassqumpxu_ind_6').style.opacity = 0;\"\n",
       "        >the </div></div><div style='display: inline; text-align: center;'\n",
       "    ><div style='display: none; color: #999; padding-top: 0px; font-size: 12px;'>-0.066</div\n",
       "        ><div id='_tp_lhrqvpchrdyassqumpxu_ind_7'\n",
       "            style='display: inline; background: rgba(30.0, 136.0, 229.0, 1.0); border-radius: 3px; padding: 0px'\n",
       "            onclick=\"\n",
       "            if (this.previousSibling.style.display == 'none') {\n",
       "                this.previousSibling.style.display = 'block';\n",
       "                this.parentNode.style.display = 'inline-block';\n",
       "            } else {\n",
       "                this.previousSibling.style.display = 'none';\n",
       "                this.parentNode.style.display = 'inline';\n",
       "            }\"\n",
       "            onmouseover=\"document.getElementById('_fb_lhrqvpchrdyassqumpxu_ind_7').style.opacity = 1; document.getElementById('_fs_lhrqvpchrdyassqumpxu_ind_7').style.opacity = 1;\"\n",
       "            onmouseout=\"document.getElementById('_fb_lhrqvpchrdyassqumpxu_ind_7').style.opacity = 0; document.getElementById('_fs_lhrqvpchrdyassqumpxu_ind_7').style.opacity = 0;\"\n",
       "        >result</div></div><div style='display: inline; text-align: center;'\n",
       "    ><div style='display: none; color: #999; padding-top: 0px; font-size: 12px;'>-0.048</div\n",
       "        ><div id='_tp_lhrqvpchrdyassqumpxu_ind_8'\n",
       "            style='display: inline; background: rgba(30.0, 136.0, 229.0, 0.731986531986532); border-radius: 3px; padding: 0px'\n",
       "            onclick=\"\n",
       "            if (this.previousSibling.style.display == 'none') {\n",
       "                this.previousSibling.style.display = 'block';\n",
       "                this.parentNode.style.display = 'inline-block';\n",
       "            } else {\n",
       "                this.previousSibling.style.display = 'none';\n",
       "                this.parentNode.style.display = 'inline';\n",
       "            }\"\n",
       "            onmouseover=\"document.getElementById('_fb_lhrqvpchrdyassqumpxu_ind_8').style.opacity = 1; document.getElementById('_fs_lhrqvpchrdyassqumpxu_ind_8').style.opacity = 1;\"\n",
       "            onmouseout=\"document.getElementById('_fb_lhrqvpchrdyassqumpxu_ind_8').style.opacity = 0; document.getElementById('_fs_lhrqvpchrdyassqumpxu_ind_8').style.opacity = 0;\"\n",
       "        >.</div></div><div style='display: inline; text-align: center;'\n",
       "    ><div style='display: none; color: #999; padding-top: 0px; font-size: 12px;'>0.0</div\n",
       "        ><div id='_tp_lhrqvpchrdyassqumpxu_ind_9'\n",
       "            style='display: inline; background: rgba(230.2941176470614, 26.505882352939775, 102.59215686274348, 0.0); border-radius: 3px; padding: 0px'\n",
       "            onclick=\"\n",
       "            if (this.previousSibling.style.display == 'none') {\n",
       "                this.previousSibling.style.display = 'block';\n",
       "                this.parentNode.style.display = 'inline-block';\n",
       "            } else {\n",
       "                this.previousSibling.style.display = 'none';\n",
       "                this.parentNode.style.display = 'inline';\n",
       "            }\"\n",
       "            onmouseover=\"document.getElementById('_fb_lhrqvpchrdyassqumpxu_ind_9').style.opacity = 1; document.getElementById('_fs_lhrqvpchrdyassqumpxu_ind_9').style.opacity = 1;\"\n",
       "            onmouseout=\"document.getElementById('_fb_lhrqvpchrdyassqumpxu_ind_9').style.opacity = 0; document.getElementById('_fs_lhrqvpchrdyassqumpxu_ind_9').style.opacity = 0;\"\n",
       "        ></div></div></div></div></div>"
      ],
      "text/plain": [
       "<IPython.core.display.HTML object>"
      ]
     },
     "metadata": {},
     "output_type": "display_data"
    }
   ],
   "source": [
    "shap.plots.text(shap_values)\n"
   ]
  },
  {
   "cell_type": "code",
   "execution_count": 109,
   "id": "39925b45",
   "metadata": {},
   "outputs": [],
   "source": [
    "links = []\n",
    "labels = [\"negative\", \"neutral\", \"positive\"]\n",
    "colors = {\n",
    "    \"negative\": \"rgba(0, 202, 255, 0.5)\",\n",
    "    \"neutral\": \"rgba(112, 255, 145, 0.5)\",\n",
    "    \"positive\": \"rgba(255, 0, 250, 0.3)\"\n",
    "}\n",
    "# logits = np.clip(shap_values.values.squeeze(), a_min=1e-10, a_max=None)\n",
    "logits = shap_values.values.squeeze()\n",
    "\n",
    "for i, a in enumerate(zip(words, logits.tolist())):\n",
    "    word, logit = a\n",
    "    for j, b in enumerate(zip(labels, logit)):\n",
    "        label, v = b\n",
    "        if word == \"<s>\" or word == \"</s>\":\n",
    "            v = 1e-5\n",
    "        links.append(\n",
    "            {\n",
    "                'source': i,\n",
    "                'target': len(words) + j,\n",
    "                'value': v,\n",
    "                'color': colors[label]\n",
    "            }\n",
    "        )\n"
   ]
  },
  {
   "cell_type": "code",
   "execution_count": null,
   "id": "1b156708",
   "metadata": {},
   "outputs": [
    {
     "data": {
      "text/plain": [
       "['<s>',\n",
       " 'I',\n",
       " 'respect',\n",
       " 'the',\n",
       " 'visuals',\n",
       " ',',\n",
       " 'I',\n",
       " 'respect',\n",
       " 'the',\n",
       " 'performances',\n",
       " 'but',\n",
       " '...',\n",
       " 'n',\n",
       " 'ah',\n",
       " '.',\n",
       " '</s>']"
      ]
     },
     "execution_count": 103,
     "metadata": {},
     "output_type": "execute_result"
    }
   ],
   "source": [
    "words\n"
   ]
  },
  {
   "cell_type": "code",
   "execution_count": 108,
   "id": "24664288",
   "metadata": {},
   "outputs": [
    {
     "data": {
      "text/plain": [
       "array([[ 0.        ,  0.        ,  0.        ],\n",
       "       [-0.15133477,  0.0132775 ,  0.13805727],\n",
       "       [ 0.06220398, -0.01353531, -0.04866867],\n",
       "       [ 0.00905484, -0.01270499,  0.00365016],\n",
       "       [ 0.04431918, -0.0186793 , -0.02563988],\n",
       "       [-0.02031578, -0.02319141,  0.04350719],\n",
       "       [-0.06339632, -0.01112055,  0.07451687],\n",
       "       [ 0.06425602,  0.02058847, -0.08484448],\n",
       "       [-0.01260841, -0.01619044,  0.02879884],\n",
       "       [ 0.00299603, -0.01694284,  0.01394681],\n",
       "       [ 0.0768812 ,  0.10103078, -0.17791197],\n",
       "       [ 0.04006428,  0.00111538, -0.04117968],\n",
       "       [ 0.03348455,  0.05938965, -0.0928742 ],\n",
       "       [-0.0062831 ,  0.0081635 , -0.00188039],\n",
       "       [ 0.04356562,  0.04611192, -0.08967755],\n",
       "       [ 0.        ,  0.        ,  0.        ]])"
      ]
     },
     "execution_count": 108,
     "metadata": {},
     "output_type": "execute_result"
    }
   ],
   "source": [
    "logits\n"
   ]
  },
  {
   "cell_type": "code",
   "execution_count": 110,
   "id": "0f392323",
   "metadata": {},
   "outputs": [
    {
     "data": {
      "application/vnd.plotly.v1+json": {
       "config": {
        "plotlyServerURL": "https://plot.ly"
       },
       "data": [
        {
         "link": {
          "color": [
           "rgba(0, 202, 255, 0.5)",
           "rgba(112, 255, 145, 0.5)",
           "rgba(255, 0, 250, 0.3)",
           "rgba(0, 202, 255, 0.5)",
           "rgba(112, 255, 145, 0.5)",
           "rgba(255, 0, 250, 0.3)",
           "rgba(0, 202, 255, 0.5)",
           "rgba(112, 255, 145, 0.5)",
           "rgba(255, 0, 250, 0.3)",
           "rgba(0, 202, 255, 0.5)",
           "rgba(112, 255, 145, 0.5)",
           "rgba(255, 0, 250, 0.3)",
           "rgba(0, 202, 255, 0.5)",
           "rgba(112, 255, 145, 0.5)",
           "rgba(255, 0, 250, 0.3)",
           "rgba(0, 202, 255, 0.5)",
           "rgba(112, 255, 145, 0.5)",
           "rgba(255, 0, 250, 0.3)",
           "rgba(0, 202, 255, 0.5)",
           "rgba(112, 255, 145, 0.5)",
           "rgba(255, 0, 250, 0.3)",
           "rgba(0, 202, 255, 0.5)",
           "rgba(112, 255, 145, 0.5)",
           "rgba(255, 0, 250, 0.3)",
           "rgba(0, 202, 255, 0.5)",
           "rgba(112, 255, 145, 0.5)",
           "rgba(255, 0, 250, 0.3)",
           "rgba(0, 202, 255, 0.5)",
           "rgba(112, 255, 145, 0.5)",
           "rgba(255, 0, 250, 0.3)",
           "rgba(0, 202, 255, 0.5)",
           "rgba(112, 255, 145, 0.5)",
           "rgba(255, 0, 250, 0.3)",
           "rgba(0, 202, 255, 0.5)",
           "rgba(112, 255, 145, 0.5)",
           "rgba(255, 0, 250, 0.3)",
           "rgba(0, 202, 255, 0.5)",
           "rgba(112, 255, 145, 0.5)",
           "rgba(255, 0, 250, 0.3)",
           "rgba(0, 202, 255, 0.5)",
           "rgba(112, 255, 145, 0.5)",
           "rgba(255, 0, 250, 0.3)",
           "rgba(0, 202, 255, 0.5)",
           "rgba(112, 255, 145, 0.5)",
           "rgba(255, 0, 250, 0.3)",
           "rgba(0, 202, 255, 0.5)",
           "rgba(112, 255, 145, 0.5)",
           "rgba(255, 0, 250, 0.3)"
          ],
          "source": [
           0,
           0,
           0,
           1,
           1,
           1,
           2,
           2,
           2,
           3,
           3,
           3,
           4,
           4,
           4,
           5,
           5,
           5,
           6,
           6,
           6,
           7,
           7,
           7,
           8,
           8,
           8,
           9,
           9,
           9,
           10,
           10,
           10,
           11,
           11,
           11,
           12,
           12,
           12,
           13,
           13,
           13,
           14,
           14,
           14,
           15,
           15,
           15
          ],
          "target": [
           16,
           17,
           18,
           16,
           17,
           18,
           16,
           17,
           18,
           16,
           17,
           18,
           16,
           17,
           18,
           16,
           17,
           18,
           16,
           17,
           18,
           16,
           17,
           18,
           16,
           17,
           18,
           16,
           17,
           18,
           16,
           17,
           18,
           16,
           17,
           18,
           16,
           17,
           18,
           16,
           17,
           18,
           16,
           17,
           18,
           16,
           17,
           18
          ],
          "value": [
           0.00001,
           0.00001,
           0.00001,
           -0.15133476862683892,
           0.01327749714255333,
           0.13805726869031787,
           0.06220398342702538,
           -0.01353530865162611,
           -0.04866867256350815,
           0.009054839727468789,
           -0.012704986147582531,
           0.0036501572467386723,
           0.04431918147020042,
           -0.018679304048419,
           -0.02563988114707172,
           -0.02031578030437231,
           -0.023191414773464203,
           0.04350719228386879,
           -0.06339631794253364,
           -0.011120551265776157,
           0.0745168742723763,
           0.06425601587397978,
           0.020588465966284275,
           -0.08484447794035077,
           -0.01260841463226825,
           -0.016190435737371445,
           0.02879884233698249,
           0.002996028633788228,
           -0.016942840069532394,
           0.013946813065558672,
           0.0768811956513673,
           0.10103078186511993,
           -0.17791196517646313,
           0.040064282482489944,
           0.001115383580327034,
           -0.04117967840284109,
           0.03348454786464572,
           0.05938964709639549,
           -0.09287419775500894,
           -0.006283100927248597,
           0.00816350243985653,
           -0.0018803873099386692,
           0.04356562066823244,
           0.04611191526055336,
           -0.08967755362391472,
           0.00001,
           0.00001,
           0.00001
          ]
         },
         "node": {
          "color": "grey",
          "label": [
           "<s>",
           "I",
           "respect",
           "the",
           "visuals",
           ",",
           "I",
           "respect",
           "the",
           "performances",
           "but",
           "...",
           "n",
           "ah",
           ".",
           "</s>",
           "negative",
           "neutral",
           "positive"
          ],
          "pad": 500,
          "x": [
           0.1,
           0.1,
           0.1,
           0.1,
           0.1,
           0.1,
           0.1,
           0.1,
           0.1,
           0.1,
           0.1,
           0.1,
           0.1,
           0.1,
           0.1,
           0.1,
           0.5,
           0.5,
           0.5
          ],
          "y": [
           0.01,
           0.07533333333333332,
           0.14066666666666666,
           0.206,
           0.2713333333333333,
           0.33666666666666667,
           0.40199999999999997,
           0.46733333333333327,
           0.5326666666666666,
           0.598,
           0.6633333333333333,
           0.7286666666666666,
           0.7939999999999999,
           0.8593333333333333,
           0.9246666666666665,
           0.99,
           0.01,
           0.5,
           0.99
          ]
         },
         "type": "sankey"
        }
       ],
       "layout": {
        "template": {
         "data": {
          "bar": [
           {
            "error_x": {
             "color": "#2a3f5f"
            },
            "error_y": {
             "color": "#2a3f5f"
            },
            "marker": {
             "line": {
              "color": "#E5ECF6",
              "width": 0.5
             },
             "pattern": {
              "fillmode": "overlay",
              "size": 10,
              "solidity": 0.2
             }
            },
            "type": "bar"
           }
          ],
          "barpolar": [
           {
            "marker": {
             "line": {
              "color": "#E5ECF6",
              "width": 0.5
             },
             "pattern": {
              "fillmode": "overlay",
              "size": 10,
              "solidity": 0.2
             }
            },
            "type": "barpolar"
           }
          ],
          "carpet": [
           {
            "aaxis": {
             "endlinecolor": "#2a3f5f",
             "gridcolor": "white",
             "linecolor": "white",
             "minorgridcolor": "white",
             "startlinecolor": "#2a3f5f"
            },
            "baxis": {
             "endlinecolor": "#2a3f5f",
             "gridcolor": "white",
             "linecolor": "white",
             "minorgridcolor": "white",
             "startlinecolor": "#2a3f5f"
            },
            "type": "carpet"
           }
          ],
          "choropleth": [
           {
            "colorbar": {
             "outlinewidth": 0,
             "ticks": ""
            },
            "type": "choropleth"
           }
          ],
          "contour": [
           {
            "colorbar": {
             "outlinewidth": 0,
             "ticks": ""
            },
            "colorscale": [
             [
              0,
              "#0d0887"
             ],
             [
              0.1111111111111111,
              "#46039f"
             ],
             [
              0.2222222222222222,
              "#7201a8"
             ],
             [
              0.3333333333333333,
              "#9c179e"
             ],
             [
              0.4444444444444444,
              "#bd3786"
             ],
             [
              0.5555555555555556,
              "#d8576b"
             ],
             [
              0.6666666666666666,
              "#ed7953"
             ],
             [
              0.7777777777777778,
              "#fb9f3a"
             ],
             [
              0.8888888888888888,
              "#fdca26"
             ],
             [
              1,
              "#f0f921"
             ]
            ],
            "type": "contour"
           }
          ],
          "contourcarpet": [
           {
            "colorbar": {
             "outlinewidth": 0,
             "ticks": ""
            },
            "type": "contourcarpet"
           }
          ],
          "heatmap": [
           {
            "colorbar": {
             "outlinewidth": 0,
             "ticks": ""
            },
            "colorscale": [
             [
              0,
              "#0d0887"
             ],
             [
              0.1111111111111111,
              "#46039f"
             ],
             [
              0.2222222222222222,
              "#7201a8"
             ],
             [
              0.3333333333333333,
              "#9c179e"
             ],
             [
              0.4444444444444444,
              "#bd3786"
             ],
             [
              0.5555555555555556,
              "#d8576b"
             ],
             [
              0.6666666666666666,
              "#ed7953"
             ],
             [
              0.7777777777777778,
              "#fb9f3a"
             ],
             [
              0.8888888888888888,
              "#fdca26"
             ],
             [
              1,
              "#f0f921"
             ]
            ],
            "type": "heatmap"
           }
          ],
          "heatmapgl": [
           {
            "colorbar": {
             "outlinewidth": 0,
             "ticks": ""
            },
            "colorscale": [
             [
              0,
              "#0d0887"
             ],
             [
              0.1111111111111111,
              "#46039f"
             ],
             [
              0.2222222222222222,
              "#7201a8"
             ],
             [
              0.3333333333333333,
              "#9c179e"
             ],
             [
              0.4444444444444444,
              "#bd3786"
             ],
             [
              0.5555555555555556,
              "#d8576b"
             ],
             [
              0.6666666666666666,
              "#ed7953"
             ],
             [
              0.7777777777777778,
              "#fb9f3a"
             ],
             [
              0.8888888888888888,
              "#fdca26"
             ],
             [
              1,
              "#f0f921"
             ]
            ],
            "type": "heatmapgl"
           }
          ],
          "histogram": [
           {
            "marker": {
             "pattern": {
              "fillmode": "overlay",
              "size": 10,
              "solidity": 0.2
             }
            },
            "type": "histogram"
           }
          ],
          "histogram2d": [
           {
            "colorbar": {
             "outlinewidth": 0,
             "ticks": ""
            },
            "colorscale": [
             [
              0,
              "#0d0887"
             ],
             [
              0.1111111111111111,
              "#46039f"
             ],
             [
              0.2222222222222222,
              "#7201a8"
             ],
             [
              0.3333333333333333,
              "#9c179e"
             ],
             [
              0.4444444444444444,
              "#bd3786"
             ],
             [
              0.5555555555555556,
              "#d8576b"
             ],
             [
              0.6666666666666666,
              "#ed7953"
             ],
             [
              0.7777777777777778,
              "#fb9f3a"
             ],
             [
              0.8888888888888888,
              "#fdca26"
             ],
             [
              1,
              "#f0f921"
             ]
            ],
            "type": "histogram2d"
           }
          ],
          "histogram2dcontour": [
           {
            "colorbar": {
             "outlinewidth": 0,
             "ticks": ""
            },
            "colorscale": [
             [
              0,
              "#0d0887"
             ],
             [
              0.1111111111111111,
              "#46039f"
             ],
             [
              0.2222222222222222,
              "#7201a8"
             ],
             [
              0.3333333333333333,
              "#9c179e"
             ],
             [
              0.4444444444444444,
              "#bd3786"
             ],
             [
              0.5555555555555556,
              "#d8576b"
             ],
             [
              0.6666666666666666,
              "#ed7953"
             ],
             [
              0.7777777777777778,
              "#fb9f3a"
             ],
             [
              0.8888888888888888,
              "#fdca26"
             ],
             [
              1,
              "#f0f921"
             ]
            ],
            "type": "histogram2dcontour"
           }
          ],
          "mesh3d": [
           {
            "colorbar": {
             "outlinewidth": 0,
             "ticks": ""
            },
            "type": "mesh3d"
           }
          ],
          "parcoords": [
           {
            "line": {
             "colorbar": {
              "outlinewidth": 0,
              "ticks": ""
             }
            },
            "type": "parcoords"
           }
          ],
          "pie": [
           {
            "automargin": true,
            "type": "pie"
           }
          ],
          "scatter": [
           {
            "fillpattern": {
             "fillmode": "overlay",
             "size": 10,
             "solidity": 0.2
            },
            "type": "scatter"
           }
          ],
          "scatter3d": [
           {
            "line": {
             "colorbar": {
              "outlinewidth": 0,
              "ticks": ""
             }
            },
            "marker": {
             "colorbar": {
              "outlinewidth": 0,
              "ticks": ""
             }
            },
            "type": "scatter3d"
           }
          ],
          "scattercarpet": [
           {
            "marker": {
             "colorbar": {
              "outlinewidth": 0,
              "ticks": ""
             }
            },
            "type": "scattercarpet"
           }
          ],
          "scattergeo": [
           {
            "marker": {
             "colorbar": {
              "outlinewidth": 0,
              "ticks": ""
             }
            },
            "type": "scattergeo"
           }
          ],
          "scattergl": [
           {
            "marker": {
             "colorbar": {
              "outlinewidth": 0,
              "ticks": ""
             }
            },
            "type": "scattergl"
           }
          ],
          "scattermapbox": [
           {
            "marker": {
             "colorbar": {
              "outlinewidth": 0,
              "ticks": ""
             }
            },
            "type": "scattermapbox"
           }
          ],
          "scatterpolar": [
           {
            "marker": {
             "colorbar": {
              "outlinewidth": 0,
              "ticks": ""
             }
            },
            "type": "scatterpolar"
           }
          ],
          "scatterpolargl": [
           {
            "marker": {
             "colorbar": {
              "outlinewidth": 0,
              "ticks": ""
             }
            },
            "type": "scatterpolargl"
           }
          ],
          "scatterternary": [
           {
            "marker": {
             "colorbar": {
              "outlinewidth": 0,
              "ticks": ""
             }
            },
            "type": "scatterternary"
           }
          ],
          "surface": [
           {
            "colorbar": {
             "outlinewidth": 0,
             "ticks": ""
            },
            "colorscale": [
             [
              0,
              "#0d0887"
             ],
             [
              0.1111111111111111,
              "#46039f"
             ],
             [
              0.2222222222222222,
              "#7201a8"
             ],
             [
              0.3333333333333333,
              "#9c179e"
             ],
             [
              0.4444444444444444,
              "#bd3786"
             ],
             [
              0.5555555555555556,
              "#d8576b"
             ],
             [
              0.6666666666666666,
              "#ed7953"
             ],
             [
              0.7777777777777778,
              "#fb9f3a"
             ],
             [
              0.8888888888888888,
              "#fdca26"
             ],
             [
              1,
              "#f0f921"
             ]
            ],
            "type": "surface"
           }
          ],
          "table": [
           {
            "cells": {
             "fill": {
              "color": "#EBF0F8"
             },
             "line": {
              "color": "white"
             }
            },
            "header": {
             "fill": {
              "color": "#C8D4E3"
             },
             "line": {
              "color": "white"
             }
            },
            "type": "table"
           }
          ]
         },
         "layout": {
          "annotationdefaults": {
           "arrowcolor": "#2a3f5f",
           "arrowhead": 0,
           "arrowwidth": 1
          },
          "autotypenumbers": "strict",
          "coloraxis": {
           "colorbar": {
            "outlinewidth": 0,
            "ticks": ""
           }
          },
          "colorscale": {
           "diverging": [
            [
             0,
             "#8e0152"
            ],
            [
             0.1,
             "#c51b7d"
            ],
            [
             0.2,
             "#de77ae"
            ],
            [
             0.3,
             "#f1b6da"
            ],
            [
             0.4,
             "#fde0ef"
            ],
            [
             0.5,
             "#f7f7f7"
            ],
            [
             0.6,
             "#e6f5d0"
            ],
            [
             0.7,
             "#b8e186"
            ],
            [
             0.8,
             "#7fbc41"
            ],
            [
             0.9,
             "#4d9221"
            ],
            [
             1,
             "#276419"
            ]
           ],
           "sequential": [
            [
             0,
             "#0d0887"
            ],
            [
             0.1111111111111111,
             "#46039f"
            ],
            [
             0.2222222222222222,
             "#7201a8"
            ],
            [
             0.3333333333333333,
             "#9c179e"
            ],
            [
             0.4444444444444444,
             "#bd3786"
            ],
            [
             0.5555555555555556,
             "#d8576b"
            ],
            [
             0.6666666666666666,
             "#ed7953"
            ],
            [
             0.7777777777777778,
             "#fb9f3a"
            ],
            [
             0.8888888888888888,
             "#fdca26"
            ],
            [
             1,
             "#f0f921"
            ]
           ],
           "sequentialminus": [
            [
             0,
             "#0d0887"
            ],
            [
             0.1111111111111111,
             "#46039f"
            ],
            [
             0.2222222222222222,
             "#7201a8"
            ],
            [
             0.3333333333333333,
             "#9c179e"
            ],
            [
             0.4444444444444444,
             "#bd3786"
            ],
            [
             0.5555555555555556,
             "#d8576b"
            ],
            [
             0.6666666666666666,
             "#ed7953"
            ],
            [
             0.7777777777777778,
             "#fb9f3a"
            ],
            [
             0.8888888888888888,
             "#fdca26"
            ],
            [
             1,
             "#f0f921"
            ]
           ]
          },
          "colorway": [
           "#636efa",
           "#EF553B",
           "#00cc96",
           "#ab63fa",
           "#FFA15A",
           "#19d3f3",
           "#FF6692",
           "#B6E880",
           "#FF97FF",
           "#FECB52"
          ],
          "font": {
           "color": "#2a3f5f"
          },
          "geo": {
           "bgcolor": "white",
           "lakecolor": "white",
           "landcolor": "#E5ECF6",
           "showlakes": true,
           "showland": true,
           "subunitcolor": "white"
          },
          "hoverlabel": {
           "align": "left"
          },
          "hovermode": "closest",
          "mapbox": {
           "style": "light"
          },
          "paper_bgcolor": "white",
          "plot_bgcolor": "#E5ECF6",
          "polar": {
           "angularaxis": {
            "gridcolor": "white",
            "linecolor": "white",
            "ticks": ""
           },
           "bgcolor": "#E5ECF6",
           "radialaxis": {
            "gridcolor": "white",
            "linecolor": "white",
            "ticks": ""
           }
          },
          "scene": {
           "xaxis": {
            "backgroundcolor": "#E5ECF6",
            "gridcolor": "white",
            "gridwidth": 2,
            "linecolor": "white",
            "showbackground": true,
            "ticks": "",
            "zerolinecolor": "white"
           },
           "yaxis": {
            "backgroundcolor": "#E5ECF6",
            "gridcolor": "white",
            "gridwidth": 2,
            "linecolor": "white",
            "showbackground": true,
            "ticks": "",
            "zerolinecolor": "white"
           },
           "zaxis": {
            "backgroundcolor": "#E5ECF6",
            "gridcolor": "white",
            "gridwidth": 2,
            "linecolor": "white",
            "showbackground": true,
            "ticks": "",
            "zerolinecolor": "white"
           }
          },
          "shapedefaults": {
           "line": {
            "color": "#2a3f5f"
           }
          },
          "ternary": {
           "aaxis": {
            "gridcolor": "white",
            "linecolor": "white",
            "ticks": ""
           },
           "baxis": {
            "gridcolor": "white",
            "linecolor": "white",
            "ticks": ""
           },
           "bgcolor": "#E5ECF6",
           "caxis": {
            "gridcolor": "white",
            "linecolor": "white",
            "ticks": ""
           }
          },
          "title": {
           "x": 0.05
          },
          "xaxis": {
           "automargin": true,
           "gridcolor": "white",
           "linecolor": "white",
           "ticks": "",
           "title": {
            "standoff": 15
           },
           "zerolinecolor": "white",
           "zerolinewidth": 2
          },
          "yaxis": {
           "automargin": true,
           "gridcolor": "white",
           "linecolor": "white",
           "ticks": "",
           "title": {
            "standoff": 15
           },
           "zerolinecolor": "white",
           "zerolinewidth": 2
          }
         }
        }
       }
      }
     },
     "metadata": {},
     "output_type": "display_data"
    }
   ],
   "source": [
    "df = pd.DataFrame(links)\n",
    "\n",
    "fig = go.Figure(\n",
    "    go.Sankey(\n",
    "        # arrangement = \"snap\", \n",
    "        node={\"label\": words + labels,\n",
    "              'x': [0.1] * len(words) + [0.5] * len(labels),\n",
    "              \"y\": list(np.linspace(0.01,0.99,len(words))) + list(np.linspace(0.01,0.99,len(labels))),\n",
    "              'color': \"grey\",\n",
    "              'pad': 500\n",
    "              },\n",
    "            #   \"y\": [],\n",
    "        link={\n",
    "            \"source\": df[\"source\"].tolist(),\n",
    "            \"target\": df[\"target\"].tolist(),\n",
    "            \"value\": df[\"value\"].tolist(),\n",
    "            \"color\": df[\"color\"].tolist(),\n",
    "        },\n",
    "    )\n",
    ")\n",
    "\n",
    "fig.show()\n"
   ]
  },
  {
   "cell_type": "code",
   "execution_count": null,
   "id": "4474cb9d",
   "metadata": {},
   "outputs": [],
   "source": []
  }
 ],
 "metadata": {
  "kernelspec": {
   "display_name": "metaphor",
   "language": "python",
   "name": "python3"
  },
  "language_info": {
   "codemirror_mode": {
    "name": "ipython",
    "version": 3
   },
   "file_extension": ".py",
   "mimetype": "text/x-python",
   "name": "python",
   "nbconvert_exporter": "python",
   "pygments_lexer": "ipython3",
   "version": "3.11.5"
  }
 },
 "nbformat": 4,
 "nbformat_minor": 5
}
