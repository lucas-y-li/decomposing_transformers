{
 "cells": [
  {
   "cell_type": "code",
   "execution_count": 1,
   "metadata": {},
   "outputs": [],
   "source": [
    "import pandas as pd\n",
    "import numpy as np\n",
    "import scipy.stats\n",
    "import sklearn.preprocessing\n",
    "import sklearn.metrics\n",
    "from pymer4.models import Lmer\n",
    "import json\n"
   ]
  },
  {
   "cell_type": "markdown",
   "metadata": {},
   "source": [
    "### Variability explained by verbs"
   ]
  },
  {
   "cell_type": "code",
   "execution_count": 2,
   "metadata": {},
   "outputs": [
    {
     "data": {
      "text/html": [
       "<div>\n",
       "<style scoped>\n",
       "    .dataframe tbody tr th:only-of-type {\n",
       "        vertical-align: middle;\n",
       "    }\n",
       "\n",
       "    .dataframe tbody tr th {\n",
       "        vertical-align: top;\n",
       "    }\n",
       "\n",
       "    .dataframe thead th {\n",
       "        text-align: right;\n",
       "    }\n",
       "</style>\n",
       "<table border=\"1\" class=\"dataframe\">\n",
       "  <thead>\n",
       "    <tr style=\"text-align: right;\">\n",
       "      <th></th>\n",
       "      <th>Sentence.ID</th>\n",
       "      <th>Roleset</th>\n",
       "      <th>Pred.Token</th>\n",
       "      <th>Arg.Pos</th>\n",
       "      <th>Gram.Func</th>\n",
       "      <th>Split</th>\n",
       "      <th>awareness</th>\n",
       "      <th>change_of_location</th>\n",
       "      <th>change_of_state</th>\n",
       "      <th>changes_possession</th>\n",
       "      <th>...</th>\n",
       "      <th>predicate_changed_argument</th>\n",
       "      <th>sentient</th>\n",
       "      <th>stationary</th>\n",
       "      <th>volition</th>\n",
       "      <th>Sentence</th>\n",
       "      <th>Arg.Phrase</th>\n",
       "      <th>Arg.Stripped</th>\n",
       "      <th>Sentence.Stripped</th>\n",
       "      <th>Predicate</th>\n",
       "      <th>verb</th>\n",
       "    </tr>\n",
       "  </thead>\n",
       "  <tbody>\n",
       "    <tr>\n",
       "      <th>0</th>\n",
       "      <td>0003_21</td>\n",
       "      <td>impose.01</td>\n",
       "      <td>7</td>\n",
       "      <td>11:1</td>\n",
       "      <td>other</td>\n",
       "      <td>train</td>\n",
       "      <td>1</td>\n",
       "      <td>1</td>\n",
       "      <td>4</td>\n",
       "      <td>1</td>\n",
       "      <td>...</td>\n",
       "      <td>5</td>\n",
       "      <td>1</td>\n",
       "      <td>1</td>\n",
       "      <td>1</td>\n",
       "      <td>In July , the Environmental Protection Agency ...</td>\n",
       "      <td>on virtually all uses of asbestos</td>\n",
       "      <td>on all uses</td>\n",
       "      <td>In July , the Environmental Protection Agency ...</td>\n",
       "      <td>imposed</td>\n",
       "      <td>impose</td>\n",
       "    </tr>\n",
       "    <tr>\n",
       "      <th>1</th>\n",
       "      <td>0003_21</td>\n",
       "      <td>impose.01</td>\n",
       "      <td>7</td>\n",
       "      <td>3:1</td>\n",
       "      <td>subj</td>\n",
       "      <td>train</td>\n",
       "      <td>5</td>\n",
       "      <td>1</td>\n",
       "      <td>3</td>\n",
       "      <td>1</td>\n",
       "      <td>...</td>\n",
       "      <td>3</td>\n",
       "      <td>1</td>\n",
       "      <td>1</td>\n",
       "      <td>5</td>\n",
       "      <td>In July , the Environmental Protection Agency ...</td>\n",
       "      <td>the Environmental Protection Agency</td>\n",
       "      <td>the Environmental Protection Agency</td>\n",
       "      <td>In July , the Environmental Protection Agency ...</td>\n",
       "      <td>imposed</td>\n",
       "      <td>impose</td>\n",
       "    </tr>\n",
       "    <tr>\n",
       "      <th>2</th>\n",
       "      <td>0003_21</td>\n",
       "      <td>impose.01</td>\n",
       "      <td>7</td>\n",
       "      <td>8:1</td>\n",
       "      <td>obj</td>\n",
       "      <td>test</td>\n",
       "      <td>1</td>\n",
       "      <td>1</td>\n",
       "      <td>3</td>\n",
       "      <td>1</td>\n",
       "      <td>...</td>\n",
       "      <td>5</td>\n",
       "      <td>1</td>\n",
       "      <td>1</td>\n",
       "      <td>1</td>\n",
       "      <td>In July , the Environmental Protection Agency ...</td>\n",
       "      <td>a gradual ban</td>\n",
       "      <td>a ban</td>\n",
       "      <td>In July , the Environmental Protection Agency ...</td>\n",
       "      <td>imposed</td>\n",
       "      <td>impose</td>\n",
       "    </tr>\n",
       "    <tr>\n",
       "      <th>3</th>\n",
       "      <td>0003_25</td>\n",
       "      <td>dump.01</td>\n",
       "      <td>1</td>\n",
       "      <td>0:1</td>\n",
       "      <td>subj</td>\n",
       "      <td>train</td>\n",
       "      <td>5</td>\n",
       "      <td>3</td>\n",
       "      <td>3</td>\n",
       "      <td>1</td>\n",
       "      <td>...</td>\n",
       "      <td>1</td>\n",
       "      <td>5</td>\n",
       "      <td>3</td>\n",
       "      <td>5</td>\n",
       "      <td>Workers dumped large burlap sacks of the impor...</td>\n",
       "      <td>Workers</td>\n",
       "      <td>Workers</td>\n",
       "      <td>Workers dumped burlap sacks into a huge bin , ...</td>\n",
       "      <td>dumped</td>\n",
       "      <td>dump</td>\n",
       "    </tr>\n",
       "    <tr>\n",
       "      <th>4</th>\n",
       "      <td>0003_25</td>\n",
       "      <td>dump.01</td>\n",
       "      <td>1</td>\n",
       "      <td>2:2</td>\n",
       "      <td>obj</td>\n",
       "      <td>train</td>\n",
       "      <td>1</td>\n",
       "      <td>5</td>\n",
       "      <td>5</td>\n",
       "      <td>3</td>\n",
       "      <td>...</td>\n",
       "      <td>5</td>\n",
       "      <td>1</td>\n",
       "      <td>1</td>\n",
       "      <td>1</td>\n",
       "      <td>Workers dumped large burlap sacks of the impor...</td>\n",
       "      <td>large burlap sacks of the imported material</td>\n",
       "      <td>burlap sacks</td>\n",
       "      <td>Workers dumped burlap sacks into a huge bin , ...</td>\n",
       "      <td>dumped</td>\n",
       "      <td>dump</td>\n",
       "    </tr>\n",
       "  </tbody>\n",
       "</table>\n",
       "<p>5 rows × 30 columns</p>\n",
       "</div>"
      ],
      "text/plain": [
       "  Sentence.ID    Roleset  Pred.Token Arg.Pos Gram.Func  Split  awareness  \\\n",
       "0     0003_21  impose.01           7    11:1     other  train          1   \n",
       "1     0003_21  impose.01           7     3:1      subj  train          5   \n",
       "2     0003_21  impose.01           7     8:1       obj   test          1   \n",
       "3     0003_25    dump.01           1     0:1      subj  train          5   \n",
       "4     0003_25    dump.01           1     2:2       obj  train          1   \n",
       "\n",
       "   change_of_location  change_of_state  changes_possession  ...  \\\n",
       "0                   1                4                   1  ...   \n",
       "1                   1                3                   1  ...   \n",
       "2                   1                3                   1  ...   \n",
       "3                   3                3                   1  ...   \n",
       "4                   5                5                   3  ...   \n",
       "\n",
       "   predicate_changed_argument  sentient  stationary  volition  \\\n",
       "0                           5         1           1         1   \n",
       "1                           3         1           1         5   \n",
       "2                           5         1           1         1   \n",
       "3                           1         5           3         5   \n",
       "4                           5         1           1         1   \n",
       "\n",
       "                                            Sentence  \\\n",
       "0  In July , the Environmental Protection Agency ...   \n",
       "1  In July , the Environmental Protection Agency ...   \n",
       "2  In July , the Environmental Protection Agency ...   \n",
       "3  Workers dumped large burlap sacks of the impor...   \n",
       "4  Workers dumped large burlap sacks of the impor...   \n",
       "\n",
       "                                    Arg.Phrase  \\\n",
       "0            on virtually all uses of asbestos   \n",
       "1          the Environmental Protection Agency   \n",
       "2                                a gradual ban   \n",
       "3                                      Workers   \n",
       "4  large burlap sacks of the imported material   \n",
       "\n",
       "                          Arg.Stripped  \\\n",
       "0                          on all uses   \n",
       "1  the Environmental Protection Agency   \n",
       "2                                a ban   \n",
       "3                              Workers   \n",
       "4                         burlap sacks   \n",
       "\n",
       "                                   Sentence.Stripped  Predicate    verb  \n",
       "0  In July , the Environmental Protection Agency ...    imposed  impose  \n",
       "1  In July , the Environmental Protection Agency ...    imposed  impose  \n",
       "2  In July , the Environmental Protection Agency ...    imposed  impose  \n",
       "3  Workers dumped burlap sacks into a huge bin , ...     dumped    dump  \n",
       "4  Workers dumped burlap sacks into a huge bin , ...     dumped    dump  \n",
       "\n",
       "[5 rows x 30 columns]"
      ]
     },
     "execution_count": 2,
     "metadata": {},
     "output_type": "execute_result"
    }
   ],
   "source": [
    "properties_list = ['awareness',\n",
    "       'change_of_location', 'change_of_state', 'changes_possession',\n",
    "       'created', 'destroyed', 'existed_after', 'existed_before',\n",
    "       'existed_during', 'exists_as_physical', 'instigation',\n",
    "       'location_of_event', 'makes_physical_contact', 'manipulated_by_another',\n",
    "       'predicate_changed_argument', 'sentient', 'stationary', 'volition']\n",
    "\n",
    "roles_wide = pd.read_csv(\"decomp_pb_modified_sentences.csv\", na_filter=False, index_col=0)\n",
    "roles_wide[\"verb\"] = roles_wide[\"Roleset\"].apply(lambda x: x.split(\".\")[0])\n",
    "\n",
    "roles_wide.head()\n"
   ]
  },
  {
   "cell_type": "code",
   "execution_count": 3,
   "metadata": {},
   "outputs": [],
   "source": [
    "roles_wide[\"pair_id\"] = roles_wide[\"Sentence.ID\"] + \"_\" + roles_wide[\"Arg.Pos\"] + \"_\" + roles_wide[\"Predicate\"]\n"
   ]
  },
  {
   "cell_type": "code",
   "execution_count": 8,
   "metadata": {},
   "outputs": [],
   "source": [
    "def find_verb_var(property, verb_name, family):\n",
    "    t = roles_wide.loc[roles_wide[\"Gram.Func\"].isin([\"subj\", \"obj\"])][[\"pair_id\", property, verb_name, \"Gram.Func\"]]\n",
    "    t.columns = [\"pair_id\", \"rating\", \"predicate\", \"position\"]\n",
    "\n",
    "    if family == \"binomial\":\n",
    "        t[\"rating\"] = (t[\"rating\"] > 3).astype(int)\n",
    "    else:\n",
    "        t[\"rating\"] = t[\"rating\"].astype(int)\n",
    "\n",
    "    model = Lmer(\n",
    "        formula=\"rating ~ 1 + position * (1|predicate/pair_id)\",\n",
    "        data=t,\n",
    "        family=family,\n",
    "    )\n",
    "    model.fit(optimizer='bobyqa')\n",
    "    # model.fit(optimizer=\"Nelder_Mead\")\n",
    "\n",
    "    null_model = Lmer(\n",
    "        formula=\"rating ~ 1 + position + (1|pair_id)\",\n",
    "        data=t,\n",
    "        family=family,\n",
    "    )\n",
    "    null_model.fit(optimizer='bobyqa')\n",
    "    # null_model.fit(optimizer=\"Nelder_Mead\")\n",
    "\n",
    "    # Extract variance components for sentence from both models\n",
    "    var_pair_id_full = null_model.ranef_var.loc['pair_id'][\"Var\"]\n",
    "    var_pair_id_reduced = model.ranef_var.loc['pair_id:predicate'][\"Var\"]\n",
    "\n",
    "    # Compute the difference in variance explained by sentence not captured by verb\n",
    "    var_from_verb = var_pair_id_full - var_pair_id_reduced\n",
    "\n",
    "    verb_sentence_var = var_from_verb / var_pair_id_full\n",
    "    return {\n",
    "        \"property\": property,\n",
    "        \"sentence var from verb\": verb_sentence_var,\n",
    "    }\n",
    "\n"
   ]
  },
  {
   "cell_type": "code",
   "execution_count": 9,
   "metadata": {},
   "outputs": [
    {
     "name": "stdout",
     "output_type": "stream",
     "text": [
      "[1] \"Model failed to converge with max|grad| = 0.0137962 (tol = 0.002, component 1)\"\n",
      "[2] \" \\n\"                                                                           \n",
      "\n",
      "[1] \"Model is nearly unidentifiable: very large eigenvalue\\n - Rescale variables?\"\n",
      "[2] \" \\n\"                                                                         \n",
      "\n"
     ]
    },
    {
     "name": "stderr",
     "output_type": "stream",
     "text": [
      "/Users/lli/anaconda3/envs/metaphor/lib/python3.11/site-packages/pymer4/models/Lmer.py:733: FutureWarning: DataFrame.applymap has been deprecated. Use DataFrame.map instead.\n",
      "  ran_vars = ran_vars.applymap(\n"
     ]
    },
    {
     "name": "stdout",
     "output_type": "stream",
     "text": [
      "Linear mixed model fit by REML [’lmerMod’]\n",
      "Formula: rating~1+position*(1|predicate/pair_id)\n",
      "\n",
      "Family: gaussian\t Inference: parametric\n",
      "\n",
      "Number of observations: 7752\t Groups: {'pair_id:predicate': 7751.0, 'predicate': 1297.0}\n",
      "\n",
      "Log-likelihood: -14660.169 \t AIC: 29330.338\n",
      "\n",
      "Random effects:\n",
      "\n",
      "                          Name    Var    Std\n",
      "pair_id:predicate  (Intercept)  2.166  1.472\n",
      "predicate          (Intercept)  0.943  0.971\n",
      "Residual                        0.000  0.000\n",
      "\n",
      "No random effect correlations specified\n",
      "\n",
      "Fixed effects:\n",
      "\n",
      "unable to evaluate scaled gradient \n",
      "\n",
      "Model failed to converge: degenerate  Hessian with 1 negative eigenvalues \n",
      "\n"
     ]
    },
    {
     "name": "stderr",
     "output_type": "stream",
     "text": [
      "/Users/lli/anaconda3/envs/metaphor/lib/python3.11/site-packages/pymer4/models/Lmer.py:733: FutureWarning: DataFrame.applymap has been deprecated. Use DataFrame.map instead.\n",
      "  ran_vars = ran_vars.applymap(\n"
     ]
    },
    {
     "name": "stdout",
     "output_type": "stream",
     "text": [
      "Linear mixed model fit by REML [’lmerMod’]\n",
      "Formula: rating~1+position+(1|pair_id)\n",
      "\n",
      "Family: gaussian\t Inference: parametric\n",
      "\n",
      "Number of observations: 7752\t Groups: {'pair_id': 7751.0}\n",
      "\n",
      "Log-likelihood: -15252.454 \t AIC: 30512.908\n",
      "\n",
      "Random effects:\n",
      "\n",
      "                 Name  Var    Std\n",
      "pair_id   (Intercept)  3.0  1.732\n",
      "Residual               0.0  0.000\n",
      "\n",
      "No random effect correlations specified\n",
      "\n",
      "Fixed effects:\n",
      "\n",
      "unable to evaluate scaled gradient \n",
      "\n",
      "Model failed to converge: degenerate  Hessian with 1 negative eigenvalues \n",
      "\n"
     ]
    },
    {
     "name": "stderr",
     "output_type": "stream",
     "text": [
      "/Users/lli/anaconda3/envs/metaphor/lib/python3.11/site-packages/pymer4/models/Lmer.py:733: FutureWarning: DataFrame.applymap has been deprecated. Use DataFrame.map instead.\n",
      "  ran_vars = ran_vars.applymap(\n"
     ]
    },
    {
     "name": "stdout",
     "output_type": "stream",
     "text": [
      "Linear mixed model fit by REML [’lmerMod’]\n",
      "Formula: rating~1+position*(1|predicate/pair_id)\n",
      "\n",
      "Family: gaussian\t Inference: parametric\n",
      "\n",
      "Number of observations: 7752\t Groups: {'pair_id:predicate': 7751.0, 'predicate': 1297.0}\n",
      "\n",
      "Log-likelihood: -12425.966 \t AIC: 24861.932\n",
      "\n",
      "Random effects:\n",
      "\n",
      "                          Name    Var    Std\n",
      "pair_id:predicate  (Intercept)  1.258  1.122\n",
      "predicate          (Intercept)  0.379  0.616\n",
      "Residual                        0.000  0.000\n",
      "\n",
      "No random effect correlations specified\n",
      "\n",
      "Fixed effects:\n",
      "\n"
     ]
    },
    {
     "name": "stderr",
     "output_type": "stream",
     "text": [
      "/Users/lli/anaconda3/envs/metaphor/lib/python3.11/site-packages/pymer4/models/Lmer.py:733: FutureWarning: DataFrame.applymap has been deprecated. Use DataFrame.map instead.\n",
      "  ran_vars = ran_vars.applymap(\n"
     ]
    },
    {
     "name": "stdout",
     "output_type": "stream",
     "text": [
      "Linear mixed model fit by REML [’lmerMod’]\n",
      "Formula: rating~1+position+(1|pair_id)\n",
      "\n",
      "Family: gaussian\t Inference: parametric\n",
      "\n",
      "Number of observations: 7752\t Groups: {'pair_id': 7751.0}\n",
      "\n",
      "Log-likelihood: -12749.139 \t AIC: 25506.278\n",
      "\n",
      "Random effects:\n",
      "\n",
      "                 Name    Var    Std\n",
      "pair_id   (Intercept)  1.573  1.254\n",
      "Residual               0.000  0.000\n",
      "\n",
      "No random effect correlations specified\n",
      "\n",
      "Fixed effects:\n",
      "\n",
      "boundary (singular) fit: see help('isSingular') \n",
      "\n"
     ]
    },
    {
     "name": "stderr",
     "output_type": "stream",
     "text": [
      "/Users/lli/anaconda3/envs/metaphor/lib/python3.11/site-packages/pymer4/models/Lmer.py:733: FutureWarning: DataFrame.applymap has been deprecated. Use DataFrame.map instead.\n",
      "  ran_vars = ran_vars.applymap(\n"
     ]
    },
    {
     "name": "stdout",
     "output_type": "stream",
     "text": [
      "Linear mixed model fit by REML [’lmerMod’]\n",
      "Formula: rating~1+position*(1|predicate/pair_id)\n",
      "\n",
      "Family: gaussian\t Inference: parametric\n",
      "\n",
      "Number of observations: 7752\t Groups: {'pair_id:predicate': 7751.0, 'predicate': 1297.0}\n",
      "\n",
      "Log-likelihood: -11738.590 \t AIC: 23487.180\n",
      "\n",
      "Random effects:\n",
      "\n",
      "                          Name    Var    Std\n",
      "pair_id:predicate  (Intercept)  0.000  0.000\n",
      "predicate          (Intercept)  0.399  0.632\n",
      "Residual                        1.027  1.013\n",
      "\n",
      "No random effect correlations specified\n",
      "\n",
      "Fixed effects:\n",
      "\n",
      "boundary (singular) fit: see help('isSingular') \n",
      "\n"
     ]
    },
    {
     "name": "stderr",
     "output_type": "stream",
     "text": [
      "/Users/lli/anaconda3/envs/metaphor/lib/python3.11/site-packages/pymer4/models/Lmer.py:733: FutureWarning: DataFrame.applymap has been deprecated. Use DataFrame.map instead.\n",
      "  ran_vars = ran_vars.applymap(\n"
     ]
    },
    {
     "name": "stdout",
     "output_type": "stream",
     "text": [
      "Linear mixed model fit by REML [’lmerMod’]\n",
      "Formula: rating~1+position+(1|pair_id)\n",
      "\n",
      "Family: gaussian\t Inference: parametric\n",
      "\n",
      "Number of observations: 7752\t Groups: {'pair_id': 7751.0}\n",
      "\n",
      "Log-likelihood: -12394.824 \t AIC: 24797.647\n",
      "\n",
      "Random effects:\n",
      "\n",
      "                 Name    Var    Std\n",
      "pair_id   (Intercept)  0.000  0.000\n",
      "Residual               1.431  1.196\n",
      "\n",
      "No random effect correlations specified\n",
      "\n",
      "Fixed effects:\n",
      "\n"
     ]
    },
    {
     "name": "stderr",
     "output_type": "stream",
     "text": [
      "/var/folders/lq/kd3wh6952vg99n5ppf4srz9w0000gn/T/ipykernel_12678/3807035338.py:33: RuntimeWarning: invalid value encountered in scalar divide\n",
      "  verb_sentence_var = var_from_verb / var_pair_id_full\n"
     ]
    },
    {
     "name": "stdout",
     "output_type": "stream",
     "text": [
      "Model failed to converge with max|grad| = 0.00530096 (tol = 0.002, component 1) \n",
      "\n"
     ]
    },
    {
     "name": "stderr",
     "output_type": "stream",
     "text": [
      "/Users/lli/anaconda3/envs/metaphor/lib/python3.11/site-packages/pymer4/models/Lmer.py:733: FutureWarning: DataFrame.applymap has been deprecated. Use DataFrame.map instead.\n",
      "  ran_vars = ran_vars.applymap(\n"
     ]
    },
    {
     "name": "stdout",
     "output_type": "stream",
     "text": [
      "Linear mixed model fit by REML [’lmerMod’]\n",
      "Formula: rating~1+position*(1|predicate/pair_id)\n",
      "\n",
      "Family: gaussian\t Inference: parametric\n",
      "\n",
      "Number of observations: 7752\t Groups: {'pair_id:predicate': 7751.0, 'predicate': 1297.0}\n",
      "\n",
      "Log-likelihood: -11278.411 \t AIC: 22566.822\n",
      "\n",
      "Random effects:\n",
      "\n",
      "                          Name    Var    Std\n",
      "pair_id:predicate  (Intercept)  0.970  0.985\n",
      "predicate          (Intercept)  0.183  0.428\n",
      "Residual                        0.000  0.000\n",
      "\n",
      "No random effect correlations specified\n",
      "\n",
      "Fixed effects:\n",
      "\n",
      "unable to evaluate scaled gradient \n",
      "\n",
      "Model failed to converge: degenerate  Hessian with 1 negative eigenvalues \n",
      "\n"
     ]
    },
    {
     "name": "stderr",
     "output_type": "stream",
     "text": [
      "/Users/lli/anaconda3/envs/metaphor/lib/python3.11/site-packages/pymer4/models/Lmer.py:733: FutureWarning: DataFrame.applymap has been deprecated. Use DataFrame.map instead.\n",
      "  ran_vars = ran_vars.applymap(\n"
     ]
    },
    {
     "name": "stdout",
     "output_type": "stream",
     "text": [
      "Linear mixed model fit by REML [’lmerMod’]\n",
      "Formula: rating~1+position+(1|pair_id)\n",
      "\n",
      "Family: gaussian\t Inference: parametric\n",
      "\n",
      "Number of observations: 7752\t Groups: {'pair_id': 7751.0}\n",
      "\n",
      "Log-likelihood: -11555.029 \t AIC: 23118.058\n",
      "\n",
      "Random effects:\n",
      "\n",
      "                 Name    Var    Std\n",
      "pair_id   (Intercept)  1.156  1.075\n",
      "Residual               0.000  0.000\n",
      "\n",
      "No random effect correlations specified\n",
      "\n",
      "Fixed effects:\n",
      "\n"
     ]
    },
    {
     "name": "stderr",
     "output_type": "stream",
     "text": [
      "/Users/lli/anaconda3/envs/metaphor/lib/python3.11/site-packages/pymer4/models/Lmer.py:733: FutureWarning: DataFrame.applymap has been deprecated. Use DataFrame.map instead.\n",
      "  ran_vars = ran_vars.applymap(\n"
     ]
    },
    {
     "name": "stdout",
     "output_type": "stream",
     "text": [
      "Linear mixed model fit by REML [’lmerMod’]\n",
      "Formula: rating~1+position*(1|predicate/pair_id)\n",
      "\n",
      "Family: gaussian\t Inference: parametric\n",
      "\n",
      "Number of observations: 7752\t Groups: {'pair_id:predicate': 7751.0, 'predicate': 1297.0}\n",
      "\n",
      "Log-likelihood: -10867.959 \t AIC: 21745.917\n",
      "\n",
      "Random effects:\n",
      "\n",
      "                          Name    Var    Std\n",
      "pair_id:predicate  (Intercept)  0.882  0.939\n",
      "predicate          (Intercept)  0.140  0.374\n",
      "Residual                        0.000  0.000\n",
      "\n",
      "No random effect correlations specified\n",
      "\n",
      "Fixed effects:\n",
      "\n"
     ]
    },
    {
     "name": "stderr",
     "output_type": "stream",
     "text": [
      "/Users/lli/anaconda3/envs/metaphor/lib/python3.11/site-packages/pymer4/models/Lmer.py:733: FutureWarning: DataFrame.applymap has been deprecated. Use DataFrame.map instead.\n",
      "  ran_vars = ran_vars.applymap(\n"
     ]
    },
    {
     "name": "stdout",
     "output_type": "stream",
     "text": [
      "Linear mixed model fit by REML [’lmerMod’]\n",
      "Formula: rating~1+position+(1|pair_id)\n",
      "\n",
      "Family: gaussian\t Inference: parametric\n",
      "\n",
      "Number of observations: 7752\t Groups: {'pair_id': 7751.0}\n",
      "\n",
      "Log-likelihood: -11139.539 \t AIC: 22287.078\n",
      "\n",
      "Random effects:\n",
      "\n",
      "                 Name    Var    Std\n",
      "pair_id   (Intercept)  1.038  1.019\n",
      "Residual               0.000  0.000\n",
      "\n",
      "No random effect correlations specified\n",
      "\n",
      "Fixed effects:\n",
      "\n",
      "Model failed to converge with max|grad| = 0.00685209 (tol = 0.002, component 1) \n",
      "\n"
     ]
    },
    {
     "name": "stderr",
     "output_type": "stream",
     "text": [
      "/Users/lli/anaconda3/envs/metaphor/lib/python3.11/site-packages/pymer4/models/Lmer.py:733: FutureWarning: DataFrame.applymap has been deprecated. Use DataFrame.map instead.\n",
      "  ran_vars = ran_vars.applymap(\n"
     ]
    },
    {
     "name": "stdout",
     "output_type": "stream",
     "text": [
      "Linear mixed model fit by REML [’lmerMod’]\n",
      "Formula: rating~1+position*(1|predicate/pair_id)\n",
      "\n",
      "Family: gaussian\t Inference: parametric\n",
      "\n",
      "Number of observations: 7752\t Groups: {'pair_id:predicate': 7751.0, 'predicate': 1297.0}\n",
      "\n",
      "Log-likelihood: -8950.688 \t AIC: 17911.377\n",
      "\n",
      "Random effects:\n",
      "\n",
      "                          Name    Var    Std\n",
      "pair_id:predicate  (Intercept)  0.522  0.722\n",
      "predicate          (Intercept)  0.129  0.359\n",
      "Residual                        0.000  0.000\n",
      "\n",
      "No random effect correlations specified\n",
      "\n",
      "Fixed effects:\n",
      "\n",
      "unable to evaluate scaled gradient \n",
      "\n",
      "Model failed to converge: degenerate  Hessian with 1 negative eigenvalues \n",
      "\n"
     ]
    },
    {
     "name": "stderr",
     "output_type": "stream",
     "text": [
      "/Users/lli/anaconda3/envs/metaphor/lib/python3.11/site-packages/pymer4/models/Lmer.py:733: FutureWarning: DataFrame.applymap has been deprecated. Use DataFrame.map instead.\n",
      "  ran_vars = ran_vars.applymap(\n"
     ]
    },
    {
     "name": "stdout",
     "output_type": "stream",
     "text": [
      "Linear mixed model fit by REML [’lmerMod’]\n",
      "Formula: rating~1+position+(1|pair_id)\n",
      "\n",
      "Family: gaussian\t Inference: parametric\n",
      "\n",
      "Number of observations: 7752\t Groups: {'pair_id': 7751.0}\n",
      "\n",
      "Log-likelihood: -9247.701 \t AIC: 18503.401\n",
      "\n",
      "Random effects:\n",
      "\n",
      "                 Name    Var    Std\n",
      "pair_id   (Intercept)  0.637  0.798\n",
      "Residual               0.000  0.000\n",
      "\n",
      "No random effect correlations specified\n",
      "\n",
      "Fixed effects:\n",
      "\n",
      "unable to evaluate scaled gradient \n",
      "\n",
      "Model failed to converge: degenerate  Hessian with 1 negative eigenvalues \n",
      "\n"
     ]
    },
    {
     "name": "stderr",
     "output_type": "stream",
     "text": [
      "/Users/lli/anaconda3/envs/metaphor/lib/python3.11/site-packages/pymer4/models/Lmer.py:733: FutureWarning: DataFrame.applymap has been deprecated. Use DataFrame.map instead.\n",
      "  ran_vars = ran_vars.applymap(\n"
     ]
    },
    {
     "name": "stdout",
     "output_type": "stream",
     "text": [
      "Linear mixed model fit by REML [’lmerMod’]\n",
      "Formula: rating~1+position*(1|predicate/pair_id)\n",
      "\n",
      "Family: gaussian\t Inference: parametric\n",
      "\n",
      "Number of observations: 7752\t Groups: {'pair_id:predicate': 7751.0, 'predicate': 1297.0}\n",
      "\n",
      "Log-likelihood: -13648.241 \t AIC: 27306.482\n",
      "\n",
      "Random effects:\n",
      "\n",
      "                          Name    Var    Std\n",
      "pair_id:predicate  (Intercept)  1.752  1.323\n",
      "predicate          (Intercept)  0.433  0.658\n",
      "Residual                        0.000  0.000\n",
      "\n",
      "No random effect correlations specified\n",
      "\n",
      "Fixed effects:\n",
      "\n"
     ]
    },
    {
     "name": "stderr",
     "output_type": "stream",
     "text": [
      "/Users/lli/anaconda3/envs/metaphor/lib/python3.11/site-packages/pymer4/models/Lmer.py:733: FutureWarning: DataFrame.applymap has been deprecated. Use DataFrame.map instead.\n",
      "  ran_vars = ran_vars.applymap(\n"
     ]
    },
    {
     "name": "stdout",
     "output_type": "stream",
     "text": [
      "Linear mixed model fit by REML [’lmerMod’]\n",
      "Formula: rating~1+position+(1|pair_id)\n",
      "\n",
      "Family: gaussian\t Inference: parametric\n",
      "\n",
      "Number of observations: 7752\t Groups: {'pair_id': 7751.0}\n",
      "\n",
      "Log-likelihood: -14002.365 \t AIC: 28012.731\n",
      "\n",
      "Random effects:\n",
      "\n",
      "                 Name    Var    Std\n",
      "pair_id   (Intercept)  2.174  1.474\n",
      "Residual               0.000  0.000\n",
      "\n",
      "No random effect correlations specified\n",
      "\n",
      "Fixed effects:\n",
      "\n",
      "Model failed to converge with max|grad| = 0.00222591 (tol = 0.002, component 1) \n",
      "\n"
     ]
    },
    {
     "name": "stderr",
     "output_type": "stream",
     "text": [
      "/Users/lli/anaconda3/envs/metaphor/lib/python3.11/site-packages/pymer4/models/Lmer.py:733: FutureWarning: DataFrame.applymap has been deprecated. Use DataFrame.map instead.\n",
      "  ran_vars = ran_vars.applymap(\n"
     ]
    },
    {
     "name": "stdout",
     "output_type": "stream",
     "text": [
      "Linear mixed model fit by REML [’lmerMod’]\n",
      "Formula: rating~1+position*(1|predicate/pair_id)\n",
      "\n",
      "Family: gaussian\t Inference: parametric\n",
      "\n",
      "Number of observations: 7752\t Groups: {'pair_id:predicate': 7751.0, 'predicate': 1297.0}\n",
      "\n",
      "Log-likelihood: -13885.686 \t AIC: 27781.372\n",
      "\n",
      "Random effects:\n",
      "\n",
      "                          Name    Var    Std\n",
      "pair_id:predicate  (Intercept)  1.878  1.370\n",
      "predicate          (Intercept)  0.420  0.648\n",
      "Residual                        0.000  0.000\n",
      "\n",
      "No random effect correlations specified\n",
      "\n",
      "Fixed effects:\n",
      "\n"
     ]
    },
    {
     "name": "stderr",
     "output_type": "stream",
     "text": [
      "/Users/lli/anaconda3/envs/metaphor/lib/python3.11/site-packages/pymer4/models/Lmer.py:733: FutureWarning: DataFrame.applymap has been deprecated. Use DataFrame.map instead.\n",
      "  ran_vars = ran_vars.applymap(\n"
     ]
    },
    {
     "name": "stdout",
     "output_type": "stream",
     "text": [
      "Linear mixed model fit by REML [’lmerMod’]\n",
      "Formula: rating~1+position+(1|pair_id)\n",
      "\n",
      "Family: gaussian\t Inference: parametric\n",
      "\n",
      "Number of observations: 7752\t Groups: {'pair_id': 7751.0}\n",
      "\n",
      "Log-likelihood: -14241.742 \t AIC: 28491.483\n",
      "\n",
      "Random effects:\n",
      "\n",
      "                 Name    Var   Std\n",
      "pair_id   (Intercept)  2.312  1.52\n",
      "Residual               0.000  0.00\n",
      "\n",
      "No random effect correlations specified\n",
      "\n",
      "Fixed effects:\n",
      "\n",
      "Model failed to converge with max|grad| = 0.00834061 (tol = 0.002, component 1) \n",
      "\n"
     ]
    },
    {
     "name": "stderr",
     "output_type": "stream",
     "text": [
      "/Users/lli/anaconda3/envs/metaphor/lib/python3.11/site-packages/pymer4/models/Lmer.py:733: FutureWarning: DataFrame.applymap has been deprecated. Use DataFrame.map instead.\n",
      "  ran_vars = ran_vars.applymap(\n"
     ]
    },
    {
     "name": "stdout",
     "output_type": "stream",
     "text": [
      "Linear mixed model fit by REML [’lmerMod’]\n",
      "Formula: rating~1+position*(1|predicate/pair_id)\n",
      "\n",
      "Family: gaussian\t Inference: parametric\n",
      "\n",
      "Number of observations: 7752\t Groups: {'pair_id:predicate': 7751.0, 'predicate': 1297.0}\n",
      "\n",
      "Log-likelihood: -10644.099 \t AIC: 21298.199\n",
      "\n",
      "Random effects:\n",
      "\n",
      "                          Name    Var    Std\n",
      "pair_id:predicate  (Intercept)  0.844  0.919\n",
      "predicate          (Intercept)  0.107  0.327\n",
      "Residual                        0.000  0.000\n",
      "\n",
      "No random effect correlations specified\n",
      "\n",
      "Fixed effects:\n",
      "\n",
      "unable to evaluate scaled gradient \n",
      "\n",
      "Model failed to converge: degenerate  Hessian with 1 negative eigenvalues \n",
      "\n"
     ]
    },
    {
     "name": "stderr",
     "output_type": "stream",
     "text": [
      "/Users/lli/anaconda3/envs/metaphor/lib/python3.11/site-packages/pymer4/models/Lmer.py:733: FutureWarning: DataFrame.applymap has been deprecated. Use DataFrame.map instead.\n",
      "  ran_vars = ran_vars.applymap(\n"
     ]
    },
    {
     "name": "stdout",
     "output_type": "stream",
     "text": [
      "Linear mixed model fit by REML [’lmerMod’]\n",
      "Formula: rating~1+position+(1|pair_id)\n",
      "\n",
      "Family: gaussian\t Inference: parametric\n",
      "\n",
      "Number of observations: 7752\t Groups: {'pair_id': 7751.0}\n",
      "\n",
      "Log-likelihood: -10821.527 \t AIC: 21651.054\n",
      "\n",
      "Random effects:\n",
      "\n",
      "                 Name    Var    Std\n",
      "pair_id   (Intercept)  0.956  0.978\n",
      "Residual               0.000  0.000\n",
      "\n",
      "No random effect correlations specified\n",
      "\n",
      "Fixed effects:\n",
      "\n",
      "[1] \"Model failed to converge with max|grad| = 0.0476922 (tol = 0.002, component 1)\"\n",
      "[2] \" \\n\"                                                                           \n",
      "\n",
      "[1] \"Model is nearly unidentifiable: very large eigenvalue\\n - Rescale variables?\"\n",
      "[2] \" \\n\"                                                                         \n",
      "\n"
     ]
    },
    {
     "name": "stderr",
     "output_type": "stream",
     "text": [
      "/Users/lli/anaconda3/envs/metaphor/lib/python3.11/site-packages/pymer4/models/Lmer.py:733: FutureWarning: DataFrame.applymap has been deprecated. Use DataFrame.map instead.\n",
      "  ran_vars = ran_vars.applymap(\n"
     ]
    },
    {
     "name": "stdout",
     "output_type": "stream",
     "text": [
      "Linear mixed model fit by REML [’lmerMod’]\n",
      "Formula: rating~1+position*(1|predicate/pair_id)\n",
      "\n",
      "Family: gaussian\t Inference: parametric\n",
      "\n",
      "Number of observations: 7752\t Groups: {'pair_id:predicate': 7751.0, 'predicate': 1297.0}\n",
      "\n",
      "Log-likelihood: -15470.585 \t AIC: 30951.169\n",
      "\n",
      "Random effects:\n",
      "\n",
      "                          Name    Var    Std\n",
      "pair_id:predicate  (Intercept)  2.780  1.667\n",
      "predicate          (Intercept)  0.773  0.879\n",
      "Residual                        0.000  0.000\n",
      "\n",
      "No random effect correlations specified\n",
      "\n",
      "Fixed effects:\n",
      "\n"
     ]
    },
    {
     "name": "stderr",
     "output_type": "stream",
     "text": [
      "/Users/lli/anaconda3/envs/metaphor/lib/python3.11/site-packages/pymer4/models/Lmer.py:733: FutureWarning: DataFrame.applymap has been deprecated. Use DataFrame.map instead.\n",
      "  ran_vars = ran_vars.applymap(\n"
     ]
    },
    {
     "name": "stdout",
     "output_type": "stream",
     "text": [
      "Linear mixed model fit by REML [’lmerMod’]\n",
      "Formula: rating~1+position+(1|pair_id)\n",
      "\n",
      "Family: gaussian\t Inference: parametric\n",
      "\n",
      "Number of observations: 7752\t Groups: {'pair_id': 7751.0}\n",
      "\n",
      "Log-likelihood: -15804.082 \t AIC: 31616.164\n",
      "\n",
      "Random effects:\n",
      "\n",
      "                 Name    Var   Std\n",
      "pair_id   (Intercept)  3.461  1.86\n",
      "Residual               0.000  0.00\n",
      "\n",
      "No random effect correlations specified\n",
      "\n",
      "Fixed effects:\n",
      "\n",
      "[1] \"Model failed to converge with max|grad| = 0.00660123 (tol = 0.002, component 1)\"\n",
      "[2] \" \\n\"                                                                            \n",
      "\n",
      "[1] \"Model is nearly unidentifiable: very large eigenvalue\\n - Rescale variables?\"\n",
      "[2] \" \\n\"                                                                         \n",
      "\n"
     ]
    },
    {
     "name": "stderr",
     "output_type": "stream",
     "text": [
      "/Users/lli/anaconda3/envs/metaphor/lib/python3.11/site-packages/pymer4/models/Lmer.py:733: FutureWarning: DataFrame.applymap has been deprecated. Use DataFrame.map instead.\n",
      "  ran_vars = ran_vars.applymap(\n"
     ]
    },
    {
     "name": "stdout",
     "output_type": "stream",
     "text": [
      "Linear mixed model fit by REML [’lmerMod’]\n",
      "Formula: rating~1+position*(1|predicate/pair_id)\n",
      "\n",
      "Family: gaussian\t Inference: parametric\n",
      "\n",
      "Number of observations: 7752\t Groups: {'pair_id:predicate': 7751.0, 'predicate': 1297.0}\n",
      "\n",
      "Log-likelihood: -13487.061 \t AIC: 26984.123\n",
      "\n",
      "Random effects:\n",
      "\n",
      "                          Name    Var    Std\n",
      "pair_id:predicate  (Intercept)  1.598  1.264\n",
      "predicate          (Intercept)  0.702  0.838\n",
      "Residual                        0.000  0.000\n",
      "\n",
      "No random effect correlations specified\n",
      "\n",
      "Fixed effects:\n",
      "\n",
      "unable to evaluate scaled gradient \n",
      "\n",
      "Model failed to converge: degenerate  Hessian with 1 negative eigenvalues \n",
      "\n"
     ]
    },
    {
     "name": "stderr",
     "output_type": "stream",
     "text": [
      "/Users/lli/anaconda3/envs/metaphor/lib/python3.11/site-packages/pymer4/models/Lmer.py:733: FutureWarning: DataFrame.applymap has been deprecated. Use DataFrame.map instead.\n",
      "  ran_vars = ran_vars.applymap(\n"
     ]
    },
    {
     "name": "stdout",
     "output_type": "stream",
     "text": [
      "Linear mixed model fit by REML [’lmerMod’]\n",
      "Formula: rating~1+position+(1|pair_id)\n",
      "\n",
      "Family: gaussian\t Inference: parametric\n",
      "\n",
      "Number of observations: 7752\t Groups: {'pair_id': 7751.0}\n",
      "\n",
      "Log-likelihood: -14091.489 \t AIC: 28190.978\n",
      "\n",
      "Random effects:\n",
      "\n",
      "                 Name    Var    Std\n",
      "pair_id   (Intercept)  2.224  1.491\n",
      "Residual               0.000  0.000\n",
      "\n",
      "No random effect correlations specified\n",
      "\n",
      "Fixed effects:\n",
      "\n",
      "unable to evaluate scaled gradient \n",
      "\n",
      "Model failed to converge: degenerate  Hessian with 1 negative eigenvalues \n",
      "\n"
     ]
    },
    {
     "name": "stderr",
     "output_type": "stream",
     "text": [
      "/Users/lli/anaconda3/envs/metaphor/lib/python3.11/site-packages/pymer4/models/Lmer.py:733: FutureWarning: DataFrame.applymap has been deprecated. Use DataFrame.map instead.\n",
      "  ran_vars = ran_vars.applymap(\n"
     ]
    },
    {
     "name": "stdout",
     "output_type": "stream",
     "text": [
      "Linear mixed model fit by REML [’lmerMod’]\n",
      "Formula: rating~1+position*(1|predicate/pair_id)\n",
      "\n",
      "Family: gaussian\t Inference: parametric\n",
      "\n",
      "Number of observations: 7752\t Groups: {'pair_id:predicate': 7751.0, 'predicate': 1297.0}\n",
      "\n",
      "Log-likelihood: -11724.398 \t AIC: 23458.796\n",
      "\n",
      "Random effects:\n",
      "\n",
      "                          Name    Var    Std\n",
      "pair_id:predicate  (Intercept)  1.182  1.087\n",
      "predicate          (Intercept)  0.029  0.171\n",
      "Residual                        0.000  0.000\n",
      "\n",
      "No random effect correlations specified\n",
      "\n",
      "Fixed effects:\n",
      "\n"
     ]
    },
    {
     "name": "stderr",
     "output_type": "stream",
     "text": [
      "/Users/lli/anaconda3/envs/metaphor/lib/python3.11/site-packages/pymer4/models/Lmer.py:733: FutureWarning: DataFrame.applymap has been deprecated. Use DataFrame.map instead.\n",
      "  ran_vars = ran_vars.applymap(\n"
     ]
    },
    {
     "name": "stdout",
     "output_type": "stream",
     "text": [
      "Linear mixed model fit by REML [’lmerMod’]\n",
      "Formula: rating~1+position+(1|pair_id)\n",
      "\n",
      "Family: gaussian\t Inference: parametric\n",
      "\n",
      "Number of observations: 7752\t Groups: {'pair_id': 7751.0}\n",
      "\n",
      "Log-likelihood: -11733.656 \t AIC: 23475.312\n",
      "\n",
      "Random effects:\n",
      "\n",
      "                 Name   Var  Std\n",
      "pair_id   (Intercept)  1.21  1.1\n",
      "Residual               0.00  0.0\n",
      "\n",
      "No random effect correlations specified\n",
      "\n",
      "Fixed effects:\n",
      "\n"
     ]
    },
    {
     "name": "stderr",
     "output_type": "stream",
     "text": [
      "/Users/lli/anaconda3/envs/metaphor/lib/python3.11/site-packages/pymer4/models/Lmer.py:733: FutureWarning: DataFrame.applymap has been deprecated. Use DataFrame.map instead.\n",
      "  ran_vars = ran_vars.applymap(\n"
     ]
    },
    {
     "name": "stdout",
     "output_type": "stream",
     "text": [
      "Linear mixed model fit by REML [’lmerMod’]\n",
      "Formula: rating~1+position*(1|predicate/pair_id)\n",
      "\n",
      "Family: gaussian\t Inference: parametric\n",
      "\n",
      "Number of observations: 7752\t Groups: {'pair_id:predicate': 7751.0, 'predicate': 1297.0}\n",
      "\n",
      "Log-likelihood: -13505.715 \t AIC: 27021.430\n",
      "\n",
      "Random effects:\n",
      "\n",
      "                          Name    Var    Std\n",
      "pair_id:predicate  (Intercept)  1.636  1.279\n",
      "predicate          (Intercept)  0.591  0.769\n",
      "Residual                        0.000  0.000\n",
      "\n",
      "No random effect correlations specified\n",
      "\n",
      "Fixed effects:\n",
      "\n",
      "unable to evaluate scaled gradient \n",
      "\n",
      "Model failed to converge: degenerate  Hessian with 1 negative eigenvalues \n",
      "\n"
     ]
    },
    {
     "name": "stderr",
     "output_type": "stream",
     "text": [
      "/Users/lli/anaconda3/envs/metaphor/lib/python3.11/site-packages/pymer4/models/Lmer.py:733: FutureWarning: DataFrame.applymap has been deprecated. Use DataFrame.map instead.\n",
      "  ran_vars = ran_vars.applymap(\n"
     ]
    },
    {
     "name": "stdout",
     "output_type": "stream",
     "text": [
      "Linear mixed model fit by REML [’lmerMod’]\n",
      "Formula: rating~1+position+(1|pair_id)\n",
      "\n",
      "Family: gaussian\t Inference: parametric\n",
      "\n",
      "Number of observations: 7752\t Groups: {'pair_id': 7751.0}\n",
      "\n",
      "Log-likelihood: -13887.620 \t AIC: 27783.239\n",
      "\n",
      "Random effects:\n",
      "\n",
      "                 Name    Var    Std\n",
      "pair_id   (Intercept)  2.111  1.453\n",
      "Residual               0.000  0.000\n",
      "\n",
      "No random effect correlations specified\n",
      "\n",
      "Fixed effects:\n",
      "\n"
     ]
    },
    {
     "name": "stderr",
     "output_type": "stream",
     "text": [
      "/Users/lli/anaconda3/envs/metaphor/lib/python3.11/site-packages/pymer4/models/Lmer.py:733: FutureWarning: DataFrame.applymap has been deprecated. Use DataFrame.map instead.\n",
      "  ran_vars = ran_vars.applymap(\n"
     ]
    },
    {
     "name": "stdout",
     "output_type": "stream",
     "text": [
      "Linear mixed model fit by REML [’lmerMod’]\n",
      "Formula: rating~1+position*(1|predicate/pair_id)\n",
      "\n",
      "Family: gaussian\t Inference: parametric\n",
      "\n",
      "Number of observations: 7752\t Groups: {'pair_id:predicate': 7751.0, 'predicate': 1297.0}\n",
      "\n",
      "Log-likelihood: -14779.837 \t AIC: 29569.675\n",
      "\n",
      "Random effects:\n",
      "\n",
      "                          Name    Var    Std\n",
      "pair_id:predicate  (Intercept)  2.313  1.521\n",
      "predicate          (Intercept)  0.684  0.827\n",
      "Residual                        0.000  0.000\n",
      "\n",
      "No random effect correlations specified\n",
      "\n",
      "Fixed effects:\n",
      "\n"
     ]
    },
    {
     "name": "stderr",
     "output_type": "stream",
     "text": [
      "/Users/lli/anaconda3/envs/metaphor/lib/python3.11/site-packages/pymer4/models/Lmer.py:733: FutureWarning: DataFrame.applymap has been deprecated. Use DataFrame.map instead.\n",
      "  ran_vars = ran_vars.applymap(\n"
     ]
    },
    {
     "name": "stdout",
     "output_type": "stream",
     "text": [
      "Linear mixed model fit by REML [’lmerMod’]\n",
      "Formula: rating~1+position+(1|pair_id)\n",
      "\n",
      "Family: gaussian\t Inference: parametric\n",
      "\n",
      "Number of observations: 7752\t Groups: {'pair_id': 7751.0}\n",
      "\n",
      "Log-likelihood: -15157.518 \t AIC: 30323.037\n",
      "\n",
      "Random effects:\n",
      "\n",
      "                 Name    Var    Std\n",
      "pair_id   (Intercept)  2.928  1.711\n",
      "Residual               0.000  0.000\n",
      "\n",
      "No random effect correlations specified\n",
      "\n",
      "Fixed effects:\n",
      "\n"
     ]
    },
    {
     "name": "stderr",
     "output_type": "stream",
     "text": [
      "/Users/lli/anaconda3/envs/metaphor/lib/python3.11/site-packages/pymer4/models/Lmer.py:733: FutureWarning: DataFrame.applymap has been deprecated. Use DataFrame.map instead.\n",
      "  ran_vars = ran_vars.applymap(\n"
     ]
    },
    {
     "name": "stdout",
     "output_type": "stream",
     "text": [
      "Linear mixed model fit by REML [’lmerMod’]\n",
      "Formula: rating~1+position*(1|predicate/pair_id)\n",
      "\n",
      "Family: gaussian\t Inference: parametric\n",
      "\n",
      "Number of observations: 7752\t Groups: {'pair_id:predicate': 7751.0, 'predicate': 1297.0}\n",
      "\n",
      "Log-likelihood: -13674.841 \t AIC: 27359.683\n",
      "\n",
      "Random effects:\n",
      "\n",
      "                          Name    Var    Std\n",
      "pair_id:predicate  (Intercept)  0.384  0.620\n",
      "predicate          (Intercept)  0.788  0.887\n",
      "Residual                        1.276  1.130\n",
      "\n",
      "No random effect correlations specified\n",
      "\n",
      "Fixed effects:\n",
      "\n"
     ]
    },
    {
     "name": "stderr",
     "output_type": "stream",
     "text": [
      "/Users/lli/anaconda3/envs/metaphor/lib/python3.11/site-packages/pymer4/models/Lmer.py:733: FutureWarning: DataFrame.applymap has been deprecated. Use DataFrame.map instead.\n",
      "  ran_vars = ran_vars.applymap(\n"
     ]
    },
    {
     "name": "stdout",
     "output_type": "stream",
     "text": [
      "Linear mixed model fit by REML [’lmerMod’]\n",
      "Formula: rating~1+position+(1|pair_id)\n",
      "\n",
      "Family: gaussian\t Inference: parametric\n",
      "\n",
      "Number of observations: 7752\t Groups: {'pair_id': 7751.0}\n",
      "\n",
      "Log-likelihood: -14507.554 \t AIC: 29023.109\n",
      "\n",
      "Random effects:\n",
      "\n",
      "                 Name    Var    Std\n",
      "pair_id   (Intercept)  0.289  0.537\n",
      "Residual               2.181  1.477\n",
      "\n",
      "No random effect correlations specified\n",
      "\n",
      "Fixed effects:\n",
      "\n",
      "Model failed to converge with max|grad| = 0.00220479 (tol = 0.002, component 1) \n",
      "\n"
     ]
    },
    {
     "name": "stderr",
     "output_type": "stream",
     "text": [
      "/Users/lli/anaconda3/envs/metaphor/lib/python3.11/site-packages/pymer4/models/Lmer.py:733: FutureWarning: DataFrame.applymap has been deprecated. Use DataFrame.map instead.\n",
      "  ran_vars = ran_vars.applymap(\n"
     ]
    },
    {
     "name": "stdout",
     "output_type": "stream",
     "text": [
      "Linear mixed model fit by REML [’lmerMod’]\n",
      "Formula: rating~1+position*(1|predicate/pair_id)\n",
      "\n",
      "Family: gaussian\t Inference: parametric\n",
      "\n",
      "Number of observations: 7752\t Groups: {'pair_id:predicate': 7751.0, 'predicate': 1297.0}\n",
      "\n",
      "Log-likelihood: -14685.477 \t AIC: 29380.954\n",
      "\n",
      "Random effects:\n",
      "\n",
      "                          Name    Var    Std\n",
      "pair_id:predicate  (Intercept)  2.249  1.500\n",
      "predicate          (Intercept)  0.692  0.832\n",
      "Residual                        0.000  0.000\n",
      "\n",
      "No random effect correlations specified\n",
      "\n",
      "Fixed effects:\n",
      "\n",
      "unable to evaluate scaled gradient \n",
      "\n",
      "Model failed to converge: degenerate  Hessian with 1 negative eigenvalues \n",
      "\n"
     ]
    },
    {
     "name": "stderr",
     "output_type": "stream",
     "text": [
      "/Users/lli/anaconda3/envs/metaphor/lib/python3.11/site-packages/pymer4/models/Lmer.py:733: FutureWarning: DataFrame.applymap has been deprecated. Use DataFrame.map instead.\n",
      "  ran_vars = ran_vars.applymap(\n"
     ]
    },
    {
     "name": "stdout",
     "output_type": "stream",
     "text": [
      "Linear mixed model fit by REML [’lmerMod’]\n",
      "Formula: rating~1+position+(1|pair_id)\n",
      "\n",
      "Family: gaussian\t Inference: parametric\n",
      "\n",
      "Number of observations: 7752\t Groups: {'pair_id': 7751.0}\n",
      "\n",
      "Log-likelihood: -15061.835 \t AIC: 30131.670\n",
      "\n",
      "Random effects:\n",
      "\n",
      "                 Name    Var   Std\n",
      "pair_id   (Intercept)  2.857  1.69\n",
      "Residual               0.000  0.00\n",
      "\n",
      "No random effect correlations specified\n",
      "\n",
      "Fixed effects:\n",
      "\n",
      "Model failed to converge with max|grad| = 0.002179 (tol = 0.002, component 1) \n",
      "\n"
     ]
    },
    {
     "name": "stderr",
     "output_type": "stream",
     "text": [
      "/Users/lli/anaconda3/envs/metaphor/lib/python3.11/site-packages/pymer4/models/Lmer.py:733: FutureWarning: DataFrame.applymap has been deprecated. Use DataFrame.map instead.\n",
      "  ran_vars = ran_vars.applymap(\n"
     ]
    },
    {
     "name": "stdout",
     "output_type": "stream",
     "text": [
      "Linear mixed model fit by REML [’lmerMod’]\n",
      "Formula: rating~1+position*(1|predicate/pair_id)\n",
      "\n",
      "Family: gaussian\t Inference: parametric\n",
      "\n",
      "Number of observations: 7752\t Groups: {'pair_id:predicate': 7751.0, 'predicate': 1297.0}\n",
      "\n",
      "Log-likelihood: -11067.860 \t AIC: 22145.720\n",
      "\n",
      "Random effects:\n",
      "\n",
      "                          Name    Var    Std\n",
      "pair_id:predicate  (Intercept)  0.902  0.950\n",
      "predicate          (Intercept)  0.217  0.466\n",
      "Residual                        0.000  0.000\n",
      "\n",
      "No random effect correlations specified\n",
      "\n",
      "Fixed effects:\n",
      "\n"
     ]
    },
    {
     "name": "stderr",
     "output_type": "stream",
     "text": [
      "/Users/lli/anaconda3/envs/metaphor/lib/python3.11/site-packages/pymer4/models/Lmer.py:733: FutureWarning: DataFrame.applymap has been deprecated. Use DataFrame.map instead.\n",
      "  ran_vars = ran_vars.applymap(\n"
     ]
    },
    {
     "name": "stdout",
     "output_type": "stream",
     "text": [
      "Linear mixed model fit by REML [’lmerMod’]\n",
      "Formula: rating~1+position+(1|pair_id)\n",
      "\n",
      "Family: gaussian\t Inference: parametric\n",
      "\n",
      "Number of observations: 7752\t Groups: {'pair_id': 7751.0}\n",
      "\n",
      "Log-likelihood: -11334.202 \t AIC: 22676.405\n",
      "\n",
      "Random effects:\n",
      "\n",
      "                 Name    Var    Std\n",
      "pair_id   (Intercept)  1.092  1.045\n",
      "Residual               0.000  0.000\n",
      "\n",
      "No random effect correlations specified\n",
      "\n",
      "Fixed effects:\n",
      "\n",
      "Model failed to converge with max|grad| = 0.00581003 (tol = 0.002, component 1) \n",
      "\n"
     ]
    },
    {
     "name": "stderr",
     "output_type": "stream",
     "text": [
      "/Users/lli/anaconda3/envs/metaphor/lib/python3.11/site-packages/pymer4/models/Lmer.py:733: FutureWarning: DataFrame.applymap has been deprecated. Use DataFrame.map instead.\n",
      "  ran_vars = ran_vars.applymap(\n"
     ]
    },
    {
     "name": "stdout",
     "output_type": "stream",
     "text": [
      "Linear mixed model fit by REML [’lmerMod’]\n",
      "Formula: rating~1+position*(1|predicate/pair_id)\n",
      "\n",
      "Family: gaussian\t Inference: parametric\n",
      "\n",
      "Number of observations: 7752\t Groups: {'pair_id:predicate': 7751.0, 'predicate': 1297.0}\n",
      "\n",
      "Log-likelihood: -14248.753 \t AIC: 28507.505\n",
      "\n",
      "Random effects:\n",
      "\n",
      "                          Name    Var    Std\n",
      "pair_id:predicate  (Intercept)  1.936  1.391\n",
      "predicate          (Intercept)  0.893  0.945\n",
      "Residual                        0.000  0.000\n",
      "\n",
      "No random effect correlations specified\n",
      "\n",
      "Fixed effects:\n",
      "\n",
      "unable to evaluate scaled gradient \n",
      "\n",
      "Model failed to converge: degenerate  Hessian with 1 negative eigenvalues \n",
      "\n"
     ]
    },
    {
     "name": "stderr",
     "output_type": "stream",
     "text": [
      "/Users/lli/anaconda3/envs/metaphor/lib/python3.11/site-packages/pymer4/models/Lmer.py:733: FutureWarning: DataFrame.applymap has been deprecated. Use DataFrame.map instead.\n",
      "  ran_vars = ran_vars.applymap(\n"
     ]
    },
    {
     "name": "stdout",
     "output_type": "stream",
     "text": [
      "Linear mixed model fit by REML [’lmerMod’]\n",
      "Formula: rating~1+position+(1|pair_id)\n",
      "\n",
      "Family: gaussian\t Inference: parametric\n",
      "\n",
      "Number of observations: 7752\t Groups: {'pair_id': 7751.0}\n",
      "\n",
      "Log-likelihood: -14909.955 \t AIC: 29827.910\n",
      "\n",
      "Random effects:\n",
      "\n",
      "                 Name    Var    Std\n",
      "pair_id   (Intercept)  2.747  1.657\n",
      "Residual               0.000  0.000\n",
      "\n",
      "No random effect correlations specified\n",
      "\n",
      "Fixed effects:\n",
      "\n"
     ]
    },
    {
     "data": {
      "text/html": [
       "<div>\n",
       "<style scoped>\n",
       "    .dataframe tbody tr th:only-of-type {\n",
       "        vertical-align: middle;\n",
       "    }\n",
       "\n",
       "    .dataframe tbody tr th {\n",
       "        vertical-align: top;\n",
       "    }\n",
       "\n",
       "    .dataframe thead th {\n",
       "        text-align: right;\n",
       "    }\n",
       "</style>\n",
       "<table border=\"1\" class=\"dataframe\">\n",
       "  <thead>\n",
       "    <tr style=\"text-align: right;\">\n",
       "      <th></th>\n",
       "      <th>property</th>\n",
       "      <th>sentence var from verb</th>\n",
       "    </tr>\n",
       "  </thead>\n",
       "  <tbody>\n",
       "    <tr>\n",
       "      <th>0</th>\n",
       "      <td>awareness</td>\n",
       "      <td>0.278184</td>\n",
       "    </tr>\n",
       "    <tr>\n",
       "      <th>1</th>\n",
       "      <td>change_of_location</td>\n",
       "      <td>0.200113</td>\n",
       "    </tr>\n",
       "    <tr>\n",
       "      <th>2</th>\n",
       "      <td>change_of_state</td>\n",
       "      <td>NaN</td>\n",
       "    </tr>\n",
       "    <tr>\n",
       "      <th>3</th>\n",
       "      <td>changes_possession</td>\n",
       "      <td>0.160660</td>\n",
       "    </tr>\n",
       "    <tr>\n",
       "      <th>4</th>\n",
       "      <td>created</td>\n",
       "      <td>0.150489</td>\n",
       "    </tr>\n",
       "    <tr>\n",
       "      <th>5</th>\n",
       "      <td>destroyed</td>\n",
       "      <td>0.181374</td>\n",
       "    </tr>\n",
       "    <tr>\n",
       "      <th>6</th>\n",
       "      <td>existed_after</td>\n",
       "      <td>0.194198</td>\n",
       "    </tr>\n",
       "    <tr>\n",
       "      <th>7</th>\n",
       "      <td>existed_before</td>\n",
       "      <td>0.187719</td>\n",
       "    </tr>\n",
       "    <tr>\n",
       "      <th>8</th>\n",
       "      <td>existed_during</td>\n",
       "      <td>0.117347</td>\n",
       "    </tr>\n",
       "    <tr>\n",
       "      <th>9</th>\n",
       "      <td>exists_as_physical</td>\n",
       "      <td>0.196838</td>\n",
       "    </tr>\n",
       "    <tr>\n",
       "      <th>10</th>\n",
       "      <td>instigation</td>\n",
       "      <td>0.281200</td>\n",
       "    </tr>\n",
       "    <tr>\n",
       "      <th>11</th>\n",
       "      <td>location_of_event</td>\n",
       "      <td>0.023017</td>\n",
       "    </tr>\n",
       "    <tr>\n",
       "      <th>12</th>\n",
       "      <td>makes_physical_contact</td>\n",
       "      <td>0.224997</td>\n",
       "    </tr>\n",
       "    <tr>\n",
       "      <th>13</th>\n",
       "      <td>manipulated_by_another</td>\n",
       "      <td>0.210057</td>\n",
       "    </tr>\n",
       "    <tr>\n",
       "      <th>14</th>\n",
       "      <td>predicate_changed_argument</td>\n",
       "      <td>-0.331732</td>\n",
       "    </tr>\n",
       "    <tr>\n",
       "      <th>15</th>\n",
       "      <td>sentient</td>\n",
       "      <td>0.212815</td>\n",
       "    </tr>\n",
       "    <tr>\n",
       "      <th>16</th>\n",
       "      <td>stationary</td>\n",
       "      <td>0.173690</td>\n",
       "    </tr>\n",
       "    <tr>\n",
       "      <th>17</th>\n",
       "      <td>volition</td>\n",
       "      <td>0.295172</td>\n",
       "    </tr>\n",
       "  </tbody>\n",
       "</table>\n",
       "</div>"
      ],
      "text/plain": [
       "                      property  sentence var from verb\n",
       "0                    awareness                0.278184\n",
       "1           change_of_location                0.200113\n",
       "2              change_of_state                     NaN\n",
       "3           changes_possession                0.160660\n",
       "4                      created                0.150489\n",
       "5                    destroyed                0.181374\n",
       "6                existed_after                0.194198\n",
       "7               existed_before                0.187719\n",
       "8               existed_during                0.117347\n",
       "9           exists_as_physical                0.196838\n",
       "10                 instigation                0.281200\n",
       "11           location_of_event                0.023017\n",
       "12      makes_physical_contact                0.224997\n",
       "13      manipulated_by_another                0.210057\n",
       "14  predicate_changed_argument               -0.331732\n",
       "15                    sentient                0.212815\n",
       "16                  stationary                0.173690\n",
       "17                    volition                0.295172"
      ]
     },
     "execution_count": 9,
     "metadata": {},
     "output_type": "execute_result"
    }
   ],
   "source": [
    "verb_vars = []\n",
    "for property in properties_list:\n",
    "    verb_vars.append(find_verb_var(property, verb_name=\"verb\", family=\"gaussian\"))\n",
    "\n",
    "verb_vars = pd.DataFrame(verb_vars)\n",
    "verb_vars\n"
   ]
  },
  {
   "cell_type": "code",
   "execution_count": 10,
   "metadata": {},
   "outputs": [
    {
     "name": "stdout",
     "output_type": "stream",
     "text": [
      "boundary (singular) fit: see help('isSingular') \n",
      "\n"
     ]
    },
    {
     "name": "stderr",
     "output_type": "stream",
     "text": [
      "/Users/lli/anaconda3/envs/metaphor/lib/python3.11/site-packages/pymer4/models/Lmer.py:733: FutureWarning: DataFrame.applymap has been deprecated. Use DataFrame.map instead.\n",
      "  ran_vars = ran_vars.applymap(\n"
     ]
    },
    {
     "name": "stdout",
     "output_type": "stream",
     "text": [
      "Linear mixed model fit by maximum likelihood  ['lmerMod']\n",
      "Formula: rating~1+position*(1|predicate/pair_id)\n",
      "\n",
      "Family: binomial\t Inference: parametric\n",
      "\n",
      "Number of observations: 7752\t Groups: {'pair_id:predicate': 7751.0, 'predicate': 1297.0}\n",
      "\n",
      "Log-likelihood: -3930.593 \t AIC: 7869.186\n",
      "\n",
      "Random effects:\n",
      "\n",
      "                          Name    Var    Std\n",
      "pair_id:predicate  (Intercept)  0.000  0.000\n",
      "predicate          (Intercept)  2.758  1.661\n",
      "\n",
      "No random effect correlations specified\n",
      "\n",
      "Fixed effects:\n",
      "\n"
     ]
    },
    {
     "name": "stderr",
     "output_type": "stream",
     "text": [
      "/Users/lli/anaconda3/envs/metaphor/lib/python3.11/site-packages/pymer4/models/Lmer.py:733: FutureWarning: DataFrame.applymap has been deprecated. Use DataFrame.map instead.\n",
      "  ran_vars = ran_vars.applymap(\n"
     ]
    },
    {
     "name": "stdout",
     "output_type": "stream",
     "text": [
      "Linear mixed model fit by maximum likelihood  ['lmerMod']\n",
      "Formula: rating~1+position+(1|pair_id)\n",
      "\n",
      "Family: binomial\t Inference: parametric\n",
      "\n",
      "Number of observations: 7752\t Groups: {'pair_id': 7751.0}\n",
      "\n",
      "Log-likelihood: -4444.274 \t AIC: 8894.548\n",
      "\n",
      "Random effects:\n",
      "\n",
      "                Name    Var    Std\n",
      "pair_id  (Intercept)  0.001  0.038\n",
      "\n",
      "No random effect correlations specified\n",
      "\n",
      "Fixed effects:\n",
      "\n",
      "boundary (singular) fit: see help('isSingular') \n",
      "\n"
     ]
    },
    {
     "name": "stderr",
     "output_type": "stream",
     "text": [
      "/Users/lli/anaconda3/envs/metaphor/lib/python3.11/site-packages/pymer4/models/Lmer.py:733: FutureWarning: DataFrame.applymap has been deprecated. Use DataFrame.map instead.\n",
      "  ran_vars = ran_vars.applymap(\n"
     ]
    },
    {
     "name": "stdout",
     "output_type": "stream",
     "text": [
      "Linear mixed model fit by maximum likelihood  ['lmerMod']\n",
      "Formula: rating~1+position*(1|predicate/pair_id)\n",
      "\n",
      "Family: binomial\t Inference: parametric\n",
      "\n",
      "Number of observations: 7752\t Groups: {'pair_id:predicate': 7751.0, 'predicate': 1297.0}\n",
      "\n",
      "Log-likelihood: -996.749 \t AIC: 2001.497\n",
      "\n",
      "Random effects:\n",
      "\n",
      "                          Name       Var     Std\n",
      "pair_id:predicate  (Intercept)  2772.427  52.654\n",
      "predicate          (Intercept)     0.000   0.000\n",
      "\n",
      "No random effect correlations specified\n",
      "\n",
      "Fixed effects:\n",
      "\n"
     ]
    },
    {
     "name": "stderr",
     "output_type": "stream",
     "text": [
      "/Users/lli/anaconda3/envs/metaphor/lib/python3.11/site-packages/pymer4/models/Lmer.py:733: FutureWarning: DataFrame.applymap has been deprecated. Use DataFrame.map instead.\n",
      "  ran_vars = ran_vars.applymap(\n"
     ]
    },
    {
     "name": "stdout",
     "output_type": "stream",
     "text": [
      "Linear mixed model fit by maximum likelihood  ['lmerMod']\n",
      "Formula: rating~1+position+(1|pair_id)\n",
      "\n",
      "Family: binomial\t Inference: parametric\n",
      "\n",
      "Number of observations: 7752\t Groups: {'pair_id': 7751.0}\n",
      "\n",
      "Log-likelihood: -996.747 \t AIC: 1999.493\n",
      "\n",
      "Random effects:\n",
      "\n",
      "                Name       Var    Std\n",
      "pair_id  (Intercept)  2797.323  52.89\n",
      "\n",
      "No random effect correlations specified\n",
      "\n",
      "Fixed effects:\n",
      "\n",
      "[1] \"Model failed to converge with max|grad| = 0.273219 (tol = 0.002, component 1)\"\n",
      "[2] \" \\n\"                                                                          \n",
      "\n",
      "[1] \"Model is nearly unidentifiable: very large eigenvalue\\n - Rescale variables?\"\n",
      "[2] \" \\n\"                                                                         \n",
      "\n"
     ]
    },
    {
     "name": "stderr",
     "output_type": "stream",
     "text": [
      "/Users/lli/anaconda3/envs/metaphor/lib/python3.11/site-packages/pymer4/models/Lmer.py:733: FutureWarning: DataFrame.applymap has been deprecated. Use DataFrame.map instead.\n",
      "  ran_vars = ran_vars.applymap(\n"
     ]
    },
    {
     "name": "stdout",
     "output_type": "stream",
     "text": [
      "Linear mixed model fit by maximum likelihood  ['lmerMod']\n",
      "Formula: rating~1+position*(1|predicate/pair_id)\n",
      "\n",
      "Family: binomial\t Inference: parametric\n",
      "\n",
      "Number of observations: 7752\t Groups: {'pair_id:predicate': 7751.0, 'predicate': 1297.0}\n",
      "\n",
      "Log-likelihood: -4241.670 \t AIC: 8491.340\n",
      "\n",
      "Random effects:\n",
      "\n",
      "                          Name    Var    Std\n",
      "pair_id:predicate  (Intercept)  0.000  0.002\n",
      "predicate          (Intercept)  3.403  1.845\n",
      "\n",
      "No random effect correlations specified\n",
      "\n",
      "Fixed effects:\n",
      "\n",
      "boundary (singular) fit: see help('isSingular') \n",
      "\n"
     ]
    },
    {
     "name": "stderr",
     "output_type": "stream",
     "text": [
      "/Users/lli/anaconda3/envs/metaphor/lib/python3.11/site-packages/pymer4/models/Lmer.py:733: FutureWarning: DataFrame.applymap has been deprecated. Use DataFrame.map instead.\n",
      "  ran_vars = ran_vars.applymap(\n"
     ]
    },
    {
     "name": "stdout",
     "output_type": "stream",
     "text": [
      "Linear mixed model fit by maximum likelihood  ['lmerMod']\n",
      "Formula: rating~1+position+(1|pair_id)\n",
      "\n",
      "Family: binomial\t Inference: parametric\n",
      "\n",
      "Number of observations: 7752\t Groups: {'pair_id': 7751.0}\n",
      "\n",
      "Log-likelihood: -5132.358 \t AIC: 10270.717\n",
      "\n",
      "Random effects:\n",
      "\n",
      "                Name  Var  Std\n",
      "pair_id  (Intercept)  0.0  0.0\n",
      "\n",
      "No random effect correlations specified\n",
      "\n",
      "Fixed effects:\n",
      "\n"
     ]
    },
    {
     "name": "stderr",
     "output_type": "stream",
     "text": [
      "/Users/lli/anaconda3/envs/metaphor/lib/python3.11/site-packages/pymer4/models/Lmer.py:733: FutureWarning: DataFrame.applymap has been deprecated. Use DataFrame.map instead.\n",
      "  ran_vars = ran_vars.applymap(\n"
     ]
    },
    {
     "name": "stdout",
     "output_type": "stream",
     "text": [
      "Linear mixed model fit by maximum likelihood  ['lmerMod']\n",
      "Formula: rating~1+position*(1|predicate/pair_id)\n",
      "\n",
      "Family: binomial\t Inference: parametric\n",
      "\n",
      "Number of observations: 7752\t Groups: {'pair_id:predicate': 7751.0, 'predicate': 1297.0}\n",
      "\n",
      "Log-likelihood: -836.330 \t AIC: 1680.660\n",
      "\n",
      "Random effects:\n",
      "\n",
      "                          Name       Var     Std\n",
      "pair_id:predicate  (Intercept)  2794.426  52.862\n",
      "predicate          (Intercept)    39.719   6.302\n",
      "\n",
      "No random effect correlations specified\n",
      "\n",
      "Fixed effects:\n",
      "\n"
     ]
    },
    {
     "name": "stderr",
     "output_type": "stream",
     "text": [
      "/Users/lli/anaconda3/envs/metaphor/lib/python3.11/site-packages/pymer4/models/Lmer.py:733: FutureWarning: DataFrame.applymap has been deprecated. Use DataFrame.map instead.\n",
      "  ran_vars = ran_vars.applymap(\n"
     ]
    },
    {
     "name": "stdout",
     "output_type": "stream",
     "text": [
      "Linear mixed model fit by maximum likelihood  ['lmerMod']\n",
      "Formula: rating~1+position+(1|pair_id)\n",
      "\n",
      "Family: binomial\t Inference: parametric\n",
      "\n",
      "Number of observations: 7752\t Groups: {'pair_id': 7751.0}\n",
      "\n",
      "Log-likelihood: -840.812 \t AIC: 1687.623\n",
      "\n",
      "Random effects:\n",
      "\n",
      "                Name       Var     Std\n",
      "pair_id  (Intercept)  2903.566  53.885\n",
      "\n",
      "No random effect correlations specified\n",
      "\n",
      "Fixed effects:\n",
      "\n"
     ]
    },
    {
     "name": "stderr",
     "output_type": "stream",
     "text": [
      "/Users/lli/anaconda3/envs/metaphor/lib/python3.11/site-packages/pymer4/models/Lmer.py:733: FutureWarning: DataFrame.applymap has been deprecated. Use DataFrame.map instead.\n",
      "  ran_vars = ran_vars.applymap(\n"
     ]
    },
    {
     "name": "stdout",
     "output_type": "stream",
     "text": [
      "Linear mixed model fit by maximum likelihood  ['lmerMod']\n",
      "Formula: rating~1+position*(1|predicate/pair_id)\n",
      "\n",
      "Family: binomial\t Inference: parametric\n",
      "\n",
      "Number of observations: 7752\t Groups: {'pair_id:predicate': 7751.0, 'predicate': 1297.0}\n",
      "\n",
      "Log-likelihood: -806.900 \t AIC: 1621.800\n",
      "\n",
      "Random effects:\n",
      "\n",
      "                          Name       Var     Std\n",
      "pair_id:predicate  (Intercept)  2574.556  50.740\n",
      "predicate          (Intercept)    22.538   4.747\n",
      "\n",
      "No random effect correlations specified\n",
      "\n",
      "Fixed effects:\n",
      "\n"
     ]
    },
    {
     "name": "stderr",
     "output_type": "stream",
     "text": [
      "/Users/lli/anaconda3/envs/metaphor/lib/python3.11/site-packages/pymer4/models/Lmer.py:733: FutureWarning: DataFrame.applymap has been deprecated. Use DataFrame.map instead.\n",
      "  ran_vars = ran_vars.applymap(\n"
     ]
    },
    {
     "name": "stdout",
     "output_type": "stream",
     "text": [
      "Linear mixed model fit by maximum likelihood  ['lmerMod']\n",
      "Formula: rating~1+position+(1|pair_id)\n",
      "\n",
      "Family: binomial\t Inference: parametric\n",
      "\n",
      "Number of observations: 7752\t Groups: {'pair_id': 7751.0}\n",
      "\n",
      "Log-likelihood: -810.924 \t AIC: 1627.847\n",
      "\n",
      "Random effects:\n",
      "\n",
      "                Name       Var     Std\n",
      "pair_id  (Intercept)  2711.552  52.073\n",
      "\n",
      "No random effect correlations specified\n",
      "\n",
      "Fixed effects:\n",
      "\n"
     ]
    },
    {
     "name": "stderr",
     "output_type": "stream",
     "text": [
      "/Users/lli/anaconda3/envs/metaphor/lib/python3.11/site-packages/pymer4/models/Lmer.py:733: FutureWarning: DataFrame.applymap has been deprecated. Use DataFrame.map instead.\n",
      "  ran_vars = ran_vars.applymap(\n"
     ]
    },
    {
     "name": "stdout",
     "output_type": "stream",
     "text": [
      "Linear mixed model fit by maximum likelihood  ['lmerMod']\n",
      "Formula: rating~1+position*(1|predicate/pair_id)\n",
      "\n",
      "Family: binomial\t Inference: parametric\n",
      "\n",
      "Number of observations: 7752\t Groups: {'pair_id:predicate': 7751.0, 'predicate': 1297.0}\n",
      "\n",
      "Log-likelihood: -404.083 \t AIC: 816.167\n",
      "\n",
      "Random effects:\n",
      "\n",
      "                          Name       Var     Std\n",
      "pair_id:predicate  (Intercept)  3235.312  56.880\n",
      "predicate          (Intercept)    93.576   9.673\n",
      "\n",
      "No random effect correlations specified\n",
      "\n",
      "Fixed effects:\n",
      "\n"
     ]
    },
    {
     "name": "stderr",
     "output_type": "stream",
     "text": [
      "/Users/lli/anaconda3/envs/metaphor/lib/python3.11/site-packages/pymer4/models/Lmer.py:733: FutureWarning: DataFrame.applymap has been deprecated. Use DataFrame.map instead.\n",
      "  ran_vars = ran_vars.applymap(\n"
     ]
    },
    {
     "name": "stdout",
     "output_type": "stream",
     "text": [
      "Linear mixed model fit by maximum likelihood  ['lmerMod']\n",
      "Formula: rating~1+position+(1|pair_id)\n",
      "\n",
      "Family: binomial\t Inference: parametric\n",
      "\n",
      "Number of observations: 7752\t Groups: {'pair_id': 7751.0}\n",
      "\n",
      "Log-likelihood: -406.769 \t AIC: 819.539\n",
      "\n",
      "Random effects:\n",
      "\n",
      "                Name       Var     Std\n",
      "pair_id  (Intercept)  3343.725  57.825\n",
      "\n",
      "No random effect correlations specified\n",
      "\n",
      "Fixed effects:\n",
      "\n",
      "boundary (singular) fit: see help('isSingular') \n",
      "\n"
     ]
    },
    {
     "name": "stderr",
     "output_type": "stream",
     "text": [
      "/Users/lli/anaconda3/envs/metaphor/lib/python3.11/site-packages/pymer4/models/Lmer.py:733: FutureWarning: DataFrame.applymap has been deprecated. Use DataFrame.map instead.\n",
      "  ran_vars = ran_vars.applymap(\n"
     ]
    },
    {
     "name": "stdout",
     "output_type": "stream",
     "text": [
      "Linear mixed model fit by maximum likelihood  ['lmerMod']\n",
      "Formula: rating~1+position*(1|predicate/pair_id)\n",
      "\n",
      "Family: binomial\t Inference: parametric\n",
      "\n",
      "Number of observations: 7752\t Groups: {'pair_id:predicate': 7751.0, 'predicate': 1297.0}\n",
      "\n",
      "Log-likelihood: -3971.957 \t AIC: 7951.915\n",
      "\n",
      "Random effects:\n",
      "\n",
      "                          Name    Var    Std\n",
      "pair_id:predicate  (Intercept)  0.000  0.000\n",
      "predicate          (Intercept)  1.449  1.204\n",
      "\n",
      "No random effect correlations specified\n",
      "\n",
      "Fixed effects:\n",
      "\n"
     ]
    },
    {
     "name": "stderr",
     "output_type": "stream",
     "text": [
      "/Users/lli/anaconda3/envs/metaphor/lib/python3.11/site-packages/pymer4/models/Lmer.py:733: FutureWarning: DataFrame.applymap has been deprecated. Use DataFrame.map instead.\n",
      "  ran_vars = ran_vars.applymap(\n"
     ]
    },
    {
     "name": "stdout",
     "output_type": "stream",
     "text": [
      "Linear mixed model fit by maximum likelihood  ['lmerMod']\n",
      "Formula: rating~1+position+(1|pair_id)\n",
      "\n",
      "Family: binomial\t Inference: parametric\n",
      "\n",
      "Number of observations: 7752\t Groups: {'pair_id': 7751.0}\n",
      "\n",
      "Log-likelihood: -4260.915 \t AIC: 8527.831\n",
      "\n",
      "Random effects:\n",
      "\n",
      "                Name    Var    Std\n",
      "pair_id  (Intercept)  0.001  0.031\n",
      "\n",
      "No random effect correlations specified\n",
      "\n",
      "Fixed effects:\n",
      "\n",
      "Model failed to converge with max|grad| = 0.00276249 (tol = 0.002, component 1) \n",
      "\n"
     ]
    },
    {
     "name": "stderr",
     "output_type": "stream",
     "text": [
      "/Users/lli/anaconda3/envs/metaphor/lib/python3.11/site-packages/pymer4/models/Lmer.py:733: FutureWarning: DataFrame.applymap has been deprecated. Use DataFrame.map instead.\n",
      "  ran_vars = ran_vars.applymap(\n"
     ]
    },
    {
     "name": "stdout",
     "output_type": "stream",
     "text": [
      "Linear mixed model fit by maximum likelihood  ['lmerMod']\n",
      "Formula: rating~1+position*(1|predicate/pair_id)\n",
      "\n",
      "Family: binomial\t Inference: parametric\n",
      "\n",
      "Number of observations: 7752\t Groups: {'pair_id:predicate': 7751.0, 'predicate': 1297.0}\n",
      "\n",
      "Log-likelihood: -4162.280 \t AIC: 8332.559\n",
      "\n",
      "Random effects:\n",
      "\n",
      "                          Name    Var    Std\n",
      "pair_id:predicate  (Intercept)  0.000  0.000\n",
      "predicate          (Intercept)  1.357  1.165\n",
      "\n",
      "No random effect correlations specified\n",
      "\n",
      "Fixed effects:\n",
      "\n"
     ]
    },
    {
     "name": "stderr",
     "output_type": "stream",
     "text": [
      "/Users/lli/anaconda3/envs/metaphor/lib/python3.11/site-packages/pymer4/models/Lmer.py:733: FutureWarning: DataFrame.applymap has been deprecated. Use DataFrame.map instead.\n",
      "  ran_vars = ran_vars.applymap(\n"
     ]
    },
    {
     "name": "stdout",
     "output_type": "stream",
     "text": [
      "Linear mixed model fit by maximum likelihood  ['lmerMod']\n",
      "Formula: rating~1+position+(1|pair_id)\n",
      "\n",
      "Family: binomial\t Inference: parametric\n",
      "\n",
      "Number of observations: 7752\t Groups: {'pair_id': 7751.0}\n",
      "\n",
      "Log-likelihood: -4467.315 \t AIC: 8940.631\n",
      "\n",
      "Random effects:\n",
      "\n",
      "                Name    Var    Std\n",
      "pair_id  (Intercept)  0.001  0.024\n",
      "\n",
      "No random effect correlations specified\n",
      "\n",
      "Fixed effects:\n",
      "\n",
      "unable to evaluate scaled gradient \n",
      "\n",
      "Model failed to converge: degenerate  Hessian with 1 negative eigenvalues \n",
      "\n"
     ]
    },
    {
     "name": "stderr",
     "output_type": "stream",
     "text": [
      "/Users/lli/anaconda3/envs/metaphor/lib/python3.11/site-packages/pymer4/models/Lmer.py:733: FutureWarning: DataFrame.applymap has been deprecated. Use DataFrame.map instead.\n",
      "  ran_vars = ran_vars.applymap(\n"
     ]
    },
    {
     "name": "stdout",
     "output_type": "stream",
     "text": [
      "Linear mixed model fit by maximum likelihood  ['lmerMod']\n",
      "Formula: rating~1+position*(1|predicate/pair_id)\n",
      "\n",
      "Family: binomial\t Inference: parametric\n",
      "\n",
      "Number of observations: 7752\t Groups: {'pair_id:predicate': 7751.0, 'predicate': 1297.0}\n",
      "\n",
      "Log-likelihood: -1784.059 \t AIC: 3576.117\n",
      "\n",
      "Random effects:\n",
      "\n",
      "                          Name    Var    Std\n",
      "pair_id:predicate  (Intercept)  0.000  0.001\n",
      "predicate          (Intercept)  3.343  1.828\n",
      "\n",
      "No random effect correlations specified\n",
      "\n",
      "Fixed effects:\n",
      "\n"
     ]
    },
    {
     "name": "stderr",
     "output_type": "stream",
     "text": [
      "/Users/lli/anaconda3/envs/metaphor/lib/python3.11/site-packages/pymer4/models/Lmer.py:733: FutureWarning: DataFrame.applymap has been deprecated. Use DataFrame.map instead.\n",
      "  ran_vars = ran_vars.applymap(\n"
     ]
    },
    {
     "name": "stdout",
     "output_type": "stream",
     "text": [
      "Linear mixed model fit by maximum likelihood  ['lmerMod']\n",
      "Formula: rating~1+position+(1|pair_id)\n",
      "\n",
      "Family: binomial\t Inference: parametric\n",
      "\n",
      "Number of observations: 7752\t Groups: {'pair_id': 7751.0}\n",
      "\n",
      "Log-likelihood: -952.405 \t AIC: 1910.810\n",
      "\n",
      "Random effects:\n",
      "\n",
      "                Name       Var     Std\n",
      "pair_id  (Intercept)  2609.013  51.079\n",
      "\n",
      "No random effect correlations specified\n",
      "\n",
      "Fixed effects:\n",
      "\n",
      "boundary (singular) fit: see help('isSingular') \n",
      "\n"
     ]
    },
    {
     "name": "stderr",
     "output_type": "stream",
     "text": [
      "/Users/lli/anaconda3/envs/metaphor/lib/python3.11/site-packages/pymer4/models/Lmer.py:733: FutureWarning: DataFrame.applymap has been deprecated. Use DataFrame.map instead.\n",
      "  ran_vars = ran_vars.applymap(\n"
     ]
    },
    {
     "name": "stdout",
     "output_type": "stream",
     "text": [
      "Linear mixed model fit by maximum likelihood  ['lmerMod']\n",
      "Formula: rating~1+position*(1|predicate/pair_id)\n",
      "\n",
      "Family: binomial\t Inference: parametric\n",
      "\n",
      "Number of observations: 7752\t Groups: {'pair_id:predicate': 7751.0, 'predicate': 1297.0}\n",
      "\n",
      "Log-likelihood: -4716.327 \t AIC: 9440.655\n",
      "\n",
      "Random effects:\n",
      "\n",
      "                          Name    Var    Std\n",
      "pair_id:predicate  (Intercept)  0.000  0.000\n",
      "predicate          (Intercept)  1.236  1.112\n",
      "\n",
      "No random effect correlations specified\n",
      "\n",
      "Fixed effects:\n",
      "\n"
     ]
    },
    {
     "name": "stderr",
     "output_type": "stream",
     "text": [
      "/Users/lli/anaconda3/envs/metaphor/lib/python3.11/site-packages/pymer4/models/Lmer.py:733: FutureWarning: DataFrame.applymap has been deprecated. Use DataFrame.map instead.\n",
      "  ran_vars = ran_vars.applymap(\n"
     ]
    },
    {
     "name": "stdout",
     "output_type": "stream",
     "text": [
      "Linear mixed model fit by maximum likelihood  ['lmerMod']\n",
      "Formula: rating~1+position+(1|pair_id)\n",
      "\n",
      "Family: binomial\t Inference: parametric\n",
      "\n",
      "Number of observations: 7752\t Groups: {'pair_id': 7751.0}\n",
      "\n",
      "Log-likelihood: -4994.529 \t AIC: 9995.059\n",
      "\n",
      "Random effects:\n",
      "\n",
      "                Name    Var    Std\n",
      "pair_id  (Intercept)  0.001  0.035\n",
      "\n",
      "No random effect correlations specified\n",
      "\n",
      "Fixed effects:\n",
      "\n",
      "boundary (singular) fit: see help('isSingular') \n",
      "\n"
     ]
    },
    {
     "name": "stderr",
     "output_type": "stream",
     "text": [
      "/Users/lli/anaconda3/envs/metaphor/lib/python3.11/site-packages/pymer4/models/Lmer.py:733: FutureWarning: DataFrame.applymap has been deprecated. Use DataFrame.map instead.\n",
      "  ran_vars = ran_vars.applymap(\n"
     ]
    },
    {
     "name": "stdout",
     "output_type": "stream",
     "text": [
      "Linear mixed model fit by maximum likelihood  ['lmerMod']\n",
      "Formula: rating~1+position*(1|predicate/pair_id)\n",
      "\n",
      "Family: binomial\t Inference: parametric\n",
      "\n",
      "Number of observations: 7752\t Groups: {'pair_id:predicate': 7751.0, 'predicate': 1297.0}\n",
      "\n",
      "Log-likelihood: -2979.868 \t AIC: 5967.737\n",
      "\n",
      "Random effects:\n",
      "\n",
      "                          Name    Var    Std\n",
      "pair_id:predicate  (Intercept)  0.000  0.000\n",
      "predicate          (Intercept)  3.462  1.861\n",
      "\n",
      "No random effect correlations specified\n",
      "\n",
      "Fixed effects:\n",
      "\n"
     ]
    },
    {
     "name": "stderr",
     "output_type": "stream",
     "text": [
      "/Users/lli/anaconda3/envs/metaphor/lib/python3.11/site-packages/pymer4/models/Lmer.py:733: FutureWarning: DataFrame.applymap has been deprecated. Use DataFrame.map instead.\n",
      "  ran_vars = ran_vars.applymap(\n"
     ]
    },
    {
     "name": "stdout",
     "output_type": "stream",
     "text": [
      "Linear mixed model fit by maximum likelihood  ['lmerMod']\n",
      "Formula: rating~1+position+(1|pair_id)\n",
      "\n",
      "Family: binomial\t Inference: parametric\n",
      "\n",
      "Number of observations: 7752\t Groups: {'pair_id': 7751.0}\n",
      "\n",
      "Log-likelihood: -3459.442 \t AIC: 6924.885\n",
      "\n",
      "Random effects:\n",
      "\n",
      "                Name    Var    Std\n",
      "pair_id  (Intercept)  0.001  0.037\n",
      "\n",
      "No random effect correlations specified\n",
      "\n",
      "Fixed effects:\n",
      "\n",
      "[1] \"Model failed to converge with max|grad| = 0.119628 (tol = 0.002, component 1)\"\n",
      "[2] \" \\n\"                                                                          \n",
      "\n",
      "[1] \"Model is nearly unidentifiable: very large eigenvalue\\n - Rescale variables?\"\n",
      "[2] \" \\n\"                                                                         \n",
      "\n"
     ]
    },
    {
     "name": "stderr",
     "output_type": "stream",
     "text": [
      "/Users/lli/anaconda3/envs/metaphor/lib/python3.11/site-packages/pymer4/models/Lmer.py:733: FutureWarning: DataFrame.applymap has been deprecated. Use DataFrame.map instead.\n",
      "  ran_vars = ran_vars.applymap(\n"
     ]
    },
    {
     "name": "stdout",
     "output_type": "stream",
     "text": [
      "Linear mixed model fit by maximum likelihood  ['lmerMod']\n",
      "Formula: rating~1+position*(1|predicate/pair_id)\n",
      "\n",
      "Family: binomial\t Inference: parametric\n",
      "\n",
      "Number of observations: 7752\t Groups: {'pair_id:predicate': 7751.0, 'predicate': 1297.0}\n",
      "\n",
      "Log-likelihood: -1002.688 \t AIC: 2013.377\n",
      "\n",
      "Random effects:\n",
      "\n",
      "                          Name       Var     Std\n",
      "pair_id:predicate  (Intercept)  2772.307  52.653\n",
      "predicate          (Intercept)     0.701   0.837\n",
      "\n",
      "No random effect correlations specified\n",
      "\n",
      "Fixed effects:\n",
      "\n"
     ]
    },
    {
     "name": "stderr",
     "output_type": "stream",
     "text": [
      "/Users/lli/anaconda3/envs/metaphor/lib/python3.11/site-packages/pymer4/models/Lmer.py:733: FutureWarning: DataFrame.applymap has been deprecated. Use DataFrame.map instead.\n",
      "  ran_vars = ran_vars.applymap(\n"
     ]
    },
    {
     "name": "stdout",
     "output_type": "stream",
     "text": [
      "Linear mixed model fit by maximum likelihood  ['lmerMod']\n",
      "Formula: rating~1+position+(1|pair_id)\n",
      "\n",
      "Family: binomial\t Inference: parametric\n",
      "\n",
      "Number of observations: 7752\t Groups: {'pair_id': 7751.0}\n",
      "\n",
      "Log-likelihood: -1002.688 \t AIC: 2011.377\n",
      "\n",
      "Random effects:\n",
      "\n",
      "                Name       Var     Std\n",
      "pair_id  (Intercept)  2785.043  52.774\n",
      "\n",
      "No random effect correlations specified\n",
      "\n",
      "Fixed effects:\n",
      "\n"
     ]
    },
    {
     "name": "stderr",
     "output_type": "stream",
     "text": [
      "/Users/lli/anaconda3/envs/metaphor/lib/python3.11/site-packages/pymer4/models/Lmer.py:733: FutureWarning: DataFrame.applymap has been deprecated. Use DataFrame.map instead.\n",
      "  ran_vars = ran_vars.applymap(\n"
     ]
    },
    {
     "name": "stdout",
     "output_type": "stream",
     "text": [
      "Linear mixed model fit by maximum likelihood  ['lmerMod']\n",
      "Formula: rating~1+position*(1|predicate/pair_id)\n",
      "\n",
      "Family: binomial\t Inference: parametric\n",
      "\n",
      "Number of observations: 7752\t Groups: {'pair_id:predicate': 7751.0, 'predicate': 1297.0}\n",
      "\n",
      "Log-likelihood: -2948.992 \t AIC: 5905.984\n",
      "\n",
      "Random effects:\n",
      "\n",
      "                          Name    Var    Std\n",
      "pair_id:predicate  (Intercept)  0.001  0.035\n",
      "predicate          (Intercept)  4.246  2.061\n",
      "\n",
      "No random effect correlations specified\n",
      "\n",
      "Fixed effects:\n",
      "\n"
     ]
    },
    {
     "name": "stderr",
     "output_type": "stream",
     "text": [
      "/Users/lli/anaconda3/envs/metaphor/lib/python3.11/site-packages/pymer4/models/Lmer.py:733: FutureWarning: DataFrame.applymap has been deprecated. Use DataFrame.map instead.\n",
      "  ran_vars = ran_vars.applymap(\n"
     ]
    },
    {
     "name": "stdout",
     "output_type": "stream",
     "text": [
      "Linear mixed model fit by maximum likelihood  ['lmerMod']\n",
      "Formula: rating~1+position+(1|pair_id)\n",
      "\n",
      "Family: binomial\t Inference: parametric\n",
      "\n",
      "Number of observations: 7752\t Groups: {'pair_id': 7751.0}\n",
      "\n",
      "Log-likelihood: -1850.936 \t AIC: 3707.872\n",
      "\n",
      "Random effects:\n",
      "\n",
      "                Name       Var    Std\n",
      "pair_id  (Intercept)  2286.729  47.82\n",
      "\n",
      "No random effect correlations specified\n",
      "\n",
      "Fixed effects:\n",
      "\n",
      "boundary (singular) fit: see help('isSingular') \n",
      "\n"
     ]
    },
    {
     "name": "stderr",
     "output_type": "stream",
     "text": [
      "/Users/lli/anaconda3/envs/metaphor/lib/python3.11/site-packages/pymer4/models/Lmer.py:733: FutureWarning: DataFrame.applymap has been deprecated. Use DataFrame.map instead.\n",
      "  ran_vars = ran_vars.applymap(\n"
     ]
    },
    {
     "name": "stdout",
     "output_type": "stream",
     "text": [
      "Linear mixed model fit by maximum likelihood  ['lmerMod']\n",
      "Formula: rating~1+position*(1|predicate/pair_id)\n",
      "\n",
      "Family: binomial\t Inference: parametric\n",
      "\n",
      "Number of observations: 7752\t Groups: {'pair_id:predicate': 7751.0, 'predicate': 1297.0}\n",
      "\n",
      "Log-likelihood: -3950.688 \t AIC: 7909.376\n",
      "\n",
      "Random effects:\n",
      "\n",
      "                          Name    Var    Std\n",
      "pair_id:predicate  (Intercept)  0.000  0.000\n",
      "predicate          (Intercept)  1.773  1.332\n",
      "\n",
      "No random effect correlations specified\n",
      "\n",
      "Fixed effects:\n",
      "\n"
     ]
    },
    {
     "name": "stderr",
     "output_type": "stream",
     "text": [
      "/Users/lli/anaconda3/envs/metaphor/lib/python3.11/site-packages/pymer4/models/Lmer.py:733: FutureWarning: DataFrame.applymap has been deprecated. Use DataFrame.map instead.\n",
      "  ran_vars = ran_vars.applymap(\n"
     ]
    },
    {
     "name": "stdout",
     "output_type": "stream",
     "text": [
      "Linear mixed model fit by maximum likelihood  ['lmerMod']\n",
      "Formula: rating~1+position+(1|pair_id)\n",
      "\n",
      "Family: binomial\t Inference: parametric\n",
      "\n",
      "Number of observations: 7752\t Groups: {'pair_id': 7751.0}\n",
      "\n",
      "Log-likelihood: -4289.076 \t AIC: 8584.153\n",
      "\n",
      "Random effects:\n",
      "\n",
      "                Name    Var    Std\n",
      "pair_id  (Intercept)  0.002  0.041\n",
      "\n",
      "No random effect correlations specified\n",
      "\n",
      "Fixed effects:\n",
      "\n",
      "[1] \"Model failed to converge with max|grad| = 0.267285 (tol = 0.002, component 1)\"\n",
      "[2] \" \\n\"                                                                          \n",
      "\n",
      "[1] \"Model is nearly unidentifiable: very large eigenvalue\\n - Rescale variables?\"\n",
      "[2] \" \\n\"                                                                         \n",
      "\n"
     ]
    },
    {
     "name": "stderr",
     "output_type": "stream",
     "text": [
      "/Users/lli/anaconda3/envs/metaphor/lib/python3.11/site-packages/pymer4/models/Lmer.py:733: FutureWarning: DataFrame.applymap has been deprecated. Use DataFrame.map instead.\n",
      "  ran_vars = ran_vars.applymap(\n"
     ]
    },
    {
     "name": "stdout",
     "output_type": "stream",
     "text": [
      "Linear mixed model fit by maximum likelihood  ['lmerMod']\n",
      "Formula: rating~1+position*(1|predicate/pair_id)\n",
      "\n",
      "Family: binomial\t Inference: parametric\n",
      "\n",
      "Number of observations: 7752\t Groups: {'pair_id:predicate': 7751.0, 'predicate': 1297.0}\n",
      "\n",
      "Log-likelihood: -4254.283 \t AIC: 8516.566\n",
      "\n",
      "Random effects:\n",
      "\n",
      "                          Name    Var    Std\n",
      "pair_id:predicate  (Intercept)  0.000  0.000\n",
      "predicate          (Intercept)  3.355  1.832\n",
      "\n",
      "No random effect correlations specified\n",
      "\n",
      "Fixed effects:\n",
      "\n",
      "boundary (singular) fit: see help('isSingular') \n",
      "\n"
     ]
    },
    {
     "name": "stderr",
     "output_type": "stream",
     "text": [
      "/Users/lli/anaconda3/envs/metaphor/lib/python3.11/site-packages/pymer4/models/Lmer.py:733: FutureWarning: DataFrame.applymap has been deprecated. Use DataFrame.map instead.\n",
      "  ran_vars = ran_vars.applymap(\n"
     ]
    },
    {
     "name": "stdout",
     "output_type": "stream",
     "text": [
      "Linear mixed model fit by maximum likelihood  ['lmerMod']\n",
      "Formula: rating~1+position+(1|pair_id)\n",
      "\n",
      "Family: binomial\t Inference: parametric\n",
      "\n",
      "Number of observations: 7752\t Groups: {'pair_id': 7751.0}\n",
      "\n",
      "Log-likelihood: -5130.112 \t AIC: 10266.224\n",
      "\n",
      "Random effects:\n",
      "\n",
      "                Name  Var  Std\n",
      "pair_id  (Intercept)  0.0  0.0\n",
      "\n",
      "No random effect correlations specified\n",
      "\n",
      "Fixed effects:\n",
      "\n"
     ]
    },
    {
     "name": "stderr",
     "output_type": "stream",
     "text": [
      "/var/folders/lq/kd3wh6952vg99n5ppf4srz9w0000gn/T/ipykernel_12678/3807035338.py:33: RuntimeWarning: divide by zero encountered in scalar divide\n",
      "  verb_sentence_var = var_from_verb / var_pair_id_full\n",
      "/Users/lli/anaconda3/envs/metaphor/lib/python3.11/site-packages/pymer4/models/Lmer.py:733: FutureWarning: DataFrame.applymap has been deprecated. Use DataFrame.map instead.\n",
      "  ran_vars = ran_vars.applymap(\n"
     ]
    },
    {
     "name": "stdout",
     "output_type": "stream",
     "text": [
      "Linear mixed model fit by maximum likelihood  ['lmerMod']\n",
      "Formula: rating~1+position*(1|predicate/pair_id)\n",
      "\n",
      "Family: binomial\t Inference: parametric\n",
      "\n",
      "Number of observations: 7752\t Groups: {'pair_id:predicate': 7751.0, 'predicate': 1297.0}\n",
      "\n",
      "Log-likelihood: -3859.860 \t AIC: 7727.721\n",
      "\n",
      "Random effects:\n",
      "\n",
      "                          Name    Var    Std\n",
      "pair_id:predicate  (Intercept)  0.000  0.000\n",
      "predicate          (Intercept)  1.671  1.293\n",
      "\n",
      "No random effect correlations specified\n",
      "\n",
      "Fixed effects:\n",
      "\n"
     ]
    },
    {
     "name": "stderr",
     "output_type": "stream",
     "text": [
      "/Users/lli/anaconda3/envs/metaphor/lib/python3.11/site-packages/pymer4/models/Lmer.py:733: FutureWarning: DataFrame.applymap has been deprecated. Use DataFrame.map instead.\n",
      "  ran_vars = ran_vars.applymap(\n"
     ]
    },
    {
     "name": "stdout",
     "output_type": "stream",
     "text": [
      "Linear mixed model fit by maximum likelihood  ['lmerMod']\n",
      "Formula: rating~1+position+(1|pair_id)\n",
      "\n",
      "Family: binomial\t Inference: parametric\n",
      "\n",
      "Number of observations: 7752\t Groups: {'pair_id': 7751.0}\n",
      "\n",
      "Log-likelihood: -4160.642 \t AIC: 8327.283\n",
      "\n",
      "Random effects:\n",
      "\n",
      "                Name    Var    Std\n",
      "pair_id  (Intercept)  0.002  0.039\n",
      "\n",
      "No random effect correlations specified\n",
      "\n",
      "Fixed effects:\n",
      "\n",
      "[1] \"Model failed to converge with max|grad| = 0.0717215 (tol = 0.002, component 1)\"\n",
      "[2] \" \\n\"                                                                           \n",
      "\n",
      "[1] \"Model is nearly unidentifiable: very large eigenvalue\\n - Rescale variables?\"\n",
      "[2] \" \\n\"                                                                         \n",
      "\n"
     ]
    },
    {
     "name": "stderr",
     "output_type": "stream",
     "text": [
      "/Users/lli/anaconda3/envs/metaphor/lib/python3.11/site-packages/pymer4/models/Lmer.py:733: FutureWarning: DataFrame.applymap has been deprecated. Use DataFrame.map instead.\n",
      "  ran_vars = ran_vars.applymap(\n"
     ]
    },
    {
     "name": "stdout",
     "output_type": "stream",
     "text": [
      "Linear mixed model fit by maximum likelihood  ['lmerMod']\n",
      "Formula: rating~1+position*(1|predicate/pair_id)\n",
      "\n",
      "Family: binomial\t Inference: parametric\n",
      "\n",
      "Number of observations: 7752\t Groups: {'pair_id:predicate': 7751.0, 'predicate': 1297.0}\n",
      "\n",
      "Log-likelihood: -391.949 \t AIC: 791.899\n",
      "\n",
      "Random effects:\n",
      "\n",
      "                          Name       Var     Std\n",
      "pair_id:predicate  (Intercept)  3497.202  59.137\n",
      "predicate          (Intercept)    92.046   9.594\n",
      "\n",
      "No random effect correlations specified\n",
      "\n",
      "Fixed effects:\n",
      "\n"
     ]
    },
    {
     "name": "stderr",
     "output_type": "stream",
     "text": [
      "/Users/lli/anaconda3/envs/metaphor/lib/python3.11/site-packages/pymer4/models/Lmer.py:733: FutureWarning: DataFrame.applymap has been deprecated. Use DataFrame.map instead.\n",
      "  ran_vars = ran_vars.applymap(\n"
     ]
    },
    {
     "name": "stdout",
     "output_type": "stream",
     "text": [
      "Linear mixed model fit by maximum likelihood  ['lmerMod']\n",
      "Formula: rating~1+position+(1|pair_id)\n",
      "\n",
      "Family: binomial\t Inference: parametric\n",
      "\n",
      "Number of observations: 7752\t Groups: {'pair_id': 7751.0}\n",
      "\n",
      "Log-likelihood: -393.185 \t AIC: 792.370\n",
      "\n",
      "Random effects:\n",
      "\n",
      "                Name       Var     Std\n",
      "pair_id  (Intercept)  3531.387  59.425\n",
      "\n",
      "No random effect correlations specified\n",
      "\n",
      "Fixed effects:\n",
      "\n",
      "boundary (singular) fit: see help('isSingular') \n",
      "\n"
     ]
    },
    {
     "name": "stderr",
     "output_type": "stream",
     "text": [
      "/Users/lli/anaconda3/envs/metaphor/lib/python3.11/site-packages/pymer4/models/Lmer.py:733: FutureWarning: DataFrame.applymap has been deprecated. Use DataFrame.map instead.\n",
      "  ran_vars = ran_vars.applymap(\n"
     ]
    },
    {
     "name": "stdout",
     "output_type": "stream",
     "text": [
      "Linear mixed model fit by maximum likelihood  ['lmerMod']\n",
      "Formula: rating~1+position*(1|predicate/pair_id)\n",
      "\n",
      "Family: binomial\t Inference: parametric\n",
      "\n",
      "Number of observations: 7752\t Groups: {'pair_id:predicate': 7751.0, 'predicate': 1297.0}\n",
      "\n",
      "Log-likelihood: -3520.317 \t AIC: 7048.635\n",
      "\n",
      "Random effects:\n",
      "\n",
      "                          Name    Var    Std\n",
      "pair_id:predicate  (Intercept)  0.000  0.000\n",
      "predicate          (Intercept)  3.447  1.857\n",
      "\n",
      "No random effect correlations specified\n",
      "\n",
      "Fixed effects:\n",
      "\n"
     ]
    },
    {
     "name": "stderr",
     "output_type": "stream",
     "text": [
      "/Users/lli/anaconda3/envs/metaphor/lib/python3.11/site-packages/pymer4/models/Lmer.py:733: FutureWarning: DataFrame.applymap has been deprecated. Use DataFrame.map instead.\n",
      "  ran_vars = ran_vars.applymap(\n"
     ]
    },
    {
     "name": "stdout",
     "output_type": "stream",
     "text": [
      "Linear mixed model fit by maximum likelihood  ['lmerMod']\n",
      "Formula: rating~1+position+(1|pair_id)\n",
      "\n",
      "Family: binomial\t Inference: parametric\n",
      "\n",
      "Number of observations: 7752\t Groups: {'pair_id': 7751.0}\n",
      "\n",
      "Log-likelihood: -4098.774 \t AIC: 8203.548\n",
      "\n",
      "Random effects:\n",
      "\n",
      "                Name    Var    Std\n",
      "pair_id  (Intercept)  0.001  0.039\n",
      "\n",
      "No random effect correlations specified\n",
      "\n",
      "Fixed effects:\n",
      "\n"
     ]
    },
    {
     "data": {
      "text/html": [
       "<div>\n",
       "<style scoped>\n",
       "    .dataframe tbody tr th:only-of-type {\n",
       "        vertical-align: middle;\n",
       "    }\n",
       "\n",
       "    .dataframe tbody tr th {\n",
       "        vertical-align: top;\n",
       "    }\n",
       "\n",
       "    .dataframe thead th {\n",
       "        text-align: right;\n",
       "    }\n",
       "</style>\n",
       "<table border=\"1\" class=\"dataframe\">\n",
       "  <thead>\n",
       "    <tr style=\"text-align: right;\">\n",
       "      <th></th>\n",
       "      <th>property</th>\n",
       "      <th>sentence var from verb</th>\n",
       "    </tr>\n",
       "  </thead>\n",
       "  <tbody>\n",
       "    <tr>\n",
       "      <th>0</th>\n",
       "      <td>awareness</td>\n",
       "      <td>1.000000</td>\n",
       "    </tr>\n",
       "    <tr>\n",
       "      <th>1</th>\n",
       "      <td>change_of_location</td>\n",
       "      <td>0.008900</td>\n",
       "    </tr>\n",
       "    <tr>\n",
       "      <th>2</th>\n",
       "      <td>change_of_state</td>\n",
       "      <td>-5949.402561</td>\n",
       "    </tr>\n",
       "    <tr>\n",
       "      <th>3</th>\n",
       "      <td>changes_possession</td>\n",
       "      <td>0.037588</td>\n",
       "    </tr>\n",
       "    <tr>\n",
       "      <th>4</th>\n",
       "      <td>created</td>\n",
       "      <td>0.050523</td>\n",
       "    </tr>\n",
       "    <tr>\n",
       "      <th>5</th>\n",
       "      <td>destroyed</td>\n",
       "      <td>0.032423</td>\n",
       "    </tr>\n",
       "    <tr>\n",
       "      <th>6</th>\n",
       "      <td>existed_after</td>\n",
       "      <td>1.000000</td>\n",
       "    </tr>\n",
       "    <tr>\n",
       "      <th>7</th>\n",
       "      <td>existed_before</td>\n",
       "      <td>0.999867</td>\n",
       "    </tr>\n",
       "    <tr>\n",
       "      <th>8</th>\n",
       "      <td>existed_during</td>\n",
       "      <td>1.000000</td>\n",
       "    </tr>\n",
       "    <tr>\n",
       "      <th>9</th>\n",
       "      <td>exists_as_physical</td>\n",
       "      <td>1.000000</td>\n",
       "    </tr>\n",
       "    <tr>\n",
       "      <th>10</th>\n",
       "      <td>instigation</td>\n",
       "      <td>1.000000</td>\n",
       "    </tr>\n",
       "    <tr>\n",
       "      <th>11</th>\n",
       "      <td>location_of_event</td>\n",
       "      <td>0.004573</td>\n",
       "    </tr>\n",
       "    <tr>\n",
       "      <th>12</th>\n",
       "      <td>makes_physical_contact</td>\n",
       "      <td>0.999999</td>\n",
       "    </tr>\n",
       "    <tr>\n",
       "      <th>13</th>\n",
       "      <td>manipulated_by_another</td>\n",
       "      <td>1.000000</td>\n",
       "    </tr>\n",
       "    <tr>\n",
       "      <th>14</th>\n",
       "      <td>predicate_changed_argument</td>\n",
       "      <td>-inf</td>\n",
       "    </tr>\n",
       "    <tr>\n",
       "      <th>15</th>\n",
       "      <td>sentient</td>\n",
       "      <td>0.999993</td>\n",
       "    </tr>\n",
       "    <tr>\n",
       "      <th>16</th>\n",
       "      <td>stationary</td>\n",
       "      <td>0.009680</td>\n",
       "    </tr>\n",
       "    <tr>\n",
       "      <th>17</th>\n",
       "      <td>volition</td>\n",
       "      <td>1.000000</td>\n",
       "    </tr>\n",
       "  </tbody>\n",
       "</table>\n",
       "</div>"
      ],
      "text/plain": [
       "                      property  sentence var from verb\n",
       "0                    awareness                1.000000\n",
       "1           change_of_location                0.008900\n",
       "2              change_of_state            -5949.402561\n",
       "3           changes_possession                0.037588\n",
       "4                      created                0.050523\n",
       "5                    destroyed                0.032423\n",
       "6                existed_after                1.000000\n",
       "7               existed_before                0.999867\n",
       "8               existed_during                1.000000\n",
       "9           exists_as_physical                1.000000\n",
       "10                 instigation                1.000000\n",
       "11           location_of_event                0.004573\n",
       "12      makes_physical_contact                0.999999\n",
       "13      manipulated_by_another                1.000000\n",
       "14  predicate_changed_argument                    -inf\n",
       "15                    sentient                0.999993\n",
       "16                  stationary                0.009680\n",
       "17                    volition                1.000000"
      ]
     },
     "execution_count": 10,
     "metadata": {},
     "output_type": "execute_result"
    }
   ],
   "source": [
    "verb_vars = []\n",
    "for property in properties_list:\n",
    "    verb_vars.append(find_verb_var(property, verb_name=\"verb\", family=\"binomial\"))\n",
    "\n",
    "verb_vars = pd.DataFrame(verb_vars)\n",
    "verb_vars\n"
   ]
  },
  {
   "cell_type": "markdown",
   "metadata": {},
   "source": [
    "### Using Propbank for verb\n"
   ]
  },
  {
   "cell_type": "code",
   "execution_count": 11,
   "metadata": {},
   "outputs": [
    {
     "name": "stdout",
     "output_type": "stream",
     "text": [
      "Model failed to converge with max|grad| = 0.0210164 (tol = 0.002, component 1) \n",
      "\n"
     ]
    },
    {
     "name": "stderr",
     "output_type": "stream",
     "text": [
      "/Users/lli/anaconda3/envs/metaphor/lib/python3.11/site-packages/pymer4/models/Lmer.py:733: FutureWarning: DataFrame.applymap has been deprecated. Use DataFrame.map instead.\n",
      "  ran_vars = ran_vars.applymap(\n"
     ]
    },
    {
     "name": "stdout",
     "output_type": "stream",
     "text": [
      "Linear mixed model fit by REML [’lmerMod’]\n",
      "Formula: rating~1+position*(1|predicate/pair_id)\n",
      "\n",
      "Family: gaussian\t Inference: parametric\n",
      "\n",
      "Number of observations: 7752\t Groups: {'pair_id:predicate': 7751.0, 'predicate': 1626.0}\n",
      "\n",
      "Log-likelihood: -14486.972 \t AIC: 28983.944\n",
      "\n",
      "Random effects:\n",
      "\n",
      "                          Name    Var    Std\n",
      "pair_id:predicate  (Intercept)  1.957  1.399\n",
      "predicate          (Intercept)  1.100  1.049\n",
      "Residual                        0.000  0.000\n",
      "\n",
      "No random effect correlations specified\n",
      "\n",
      "Fixed effects:\n",
      "\n",
      "unable to evaluate scaled gradient \n",
      "\n",
      "Model failed to converge: degenerate  Hessian with 1 negative eigenvalues \n",
      "\n"
     ]
    },
    {
     "name": "stderr",
     "output_type": "stream",
     "text": [
      "/Users/lli/anaconda3/envs/metaphor/lib/python3.11/site-packages/pymer4/models/Lmer.py:733: FutureWarning: DataFrame.applymap has been deprecated. Use DataFrame.map instead.\n",
      "  ran_vars = ran_vars.applymap(\n"
     ]
    },
    {
     "name": "stdout",
     "output_type": "stream",
     "text": [
      "Linear mixed model fit by REML [’lmerMod’]\n",
      "Formula: rating~1+position+(1|pair_id)\n",
      "\n",
      "Family: gaussian\t Inference: parametric\n",
      "\n",
      "Number of observations: 7752\t Groups: {'pair_id': 7751.0}\n",
      "\n",
      "Log-likelihood: -15252.454 \t AIC: 30512.908\n",
      "\n",
      "Random effects:\n",
      "\n",
      "                 Name  Var    Std\n",
      "pair_id   (Intercept)  3.0  1.732\n",
      "Residual               0.0  0.000\n",
      "\n",
      "No random effect correlations specified\n",
      "\n",
      "Fixed effects:\n",
      "\n",
      "Model failed to converge with max|grad| = 0.0192257 (tol = 0.002, component 1) \n",
      "\n"
     ]
    },
    {
     "name": "stderr",
     "output_type": "stream",
     "text": [
      "/Users/lli/anaconda3/envs/metaphor/lib/python3.11/site-packages/pymer4/models/Lmer.py:733: FutureWarning: DataFrame.applymap has been deprecated. Use DataFrame.map instead.\n",
      "  ran_vars = ran_vars.applymap(\n"
     ]
    },
    {
     "name": "stdout",
     "output_type": "stream",
     "text": [
      "Linear mixed model fit by REML [’lmerMod’]\n",
      "Formula: rating~1+position*(1|predicate/pair_id)\n",
      "\n",
      "Family: gaussian\t Inference: parametric\n",
      "\n",
      "Number of observations: 7752\t Groups: {'pair_id:predicate': 7751.0, 'predicate': 1626.0}\n",
      "\n",
      "Log-likelihood: -12304.758 \t AIC: 24619.515\n",
      "\n",
      "Random effects:\n",
      "\n",
      "                          Name    Var    Std\n",
      "pair_id:predicate  (Intercept)  1.160  1.077\n",
      "predicate          (Intercept)  0.468  0.684\n",
      "Residual                        0.000  0.000\n",
      "\n",
      "No random effect correlations specified\n",
      "\n",
      "Fixed effects:\n",
      "\n"
     ]
    },
    {
     "name": "stderr",
     "output_type": "stream",
     "text": [
      "/Users/lli/anaconda3/envs/metaphor/lib/python3.11/site-packages/pymer4/models/Lmer.py:733: FutureWarning: DataFrame.applymap has been deprecated. Use DataFrame.map instead.\n",
      "  ran_vars = ran_vars.applymap(\n"
     ]
    },
    {
     "name": "stdout",
     "output_type": "stream",
     "text": [
      "Linear mixed model fit by REML [’lmerMod’]\n",
      "Formula: rating~1+position+(1|pair_id)\n",
      "\n",
      "Family: gaussian\t Inference: parametric\n",
      "\n",
      "Number of observations: 7752\t Groups: {'pair_id': 7751.0}\n",
      "\n",
      "Log-likelihood: -12749.139 \t AIC: 25506.278\n",
      "\n",
      "Random effects:\n",
      "\n",
      "                 Name    Var    Std\n",
      "pair_id   (Intercept)  1.573  1.254\n",
      "Residual               0.000  0.000\n",
      "\n",
      "No random effect correlations specified\n",
      "\n",
      "Fixed effects:\n",
      "\n"
     ]
    },
    {
     "name": "stderr",
     "output_type": "stream",
     "text": [
      "/Users/lli/anaconda3/envs/metaphor/lib/python3.11/site-packages/pymer4/models/Lmer.py:733: FutureWarning: DataFrame.applymap has been deprecated. Use DataFrame.map instead.\n",
      "  ran_vars = ran_vars.applymap(\n"
     ]
    },
    {
     "name": "stdout",
     "output_type": "stream",
     "text": [
      "Linear mixed model fit by REML [’lmerMod’]\n",
      "Formula: rating~1+position*(1|predicate/pair_id)\n",
      "\n",
      "Family: gaussian\t Inference: parametric\n",
      "\n",
      "Number of observations: 7752\t Groups: {'pair_id:predicate': 7751.0, 'predicate': 1626.0}\n",
      "\n",
      "Log-likelihood: -11708.565 \t AIC: 23427.131\n",
      "\n",
      "Random effects:\n",
      "\n",
      "                          Name    Var    Std\n",
      "pair_id:predicate  (Intercept)  0.000  0.001\n",
      "predicate          (Intercept)  0.444  0.666\n",
      "Residual                        0.978  0.989\n",
      "\n",
      "No random effect correlations specified\n",
      "\n",
      "Fixed effects:\n",
      "\n",
      "boundary (singular) fit: see help('isSingular') \n",
      "\n"
     ]
    },
    {
     "name": "stderr",
     "output_type": "stream",
     "text": [
      "/Users/lli/anaconda3/envs/metaphor/lib/python3.11/site-packages/pymer4/models/Lmer.py:733: FutureWarning: DataFrame.applymap has been deprecated. Use DataFrame.map instead.\n",
      "  ran_vars = ran_vars.applymap(\n"
     ]
    },
    {
     "name": "stdout",
     "output_type": "stream",
     "text": [
      "Linear mixed model fit by REML [’lmerMod’]\n",
      "Formula: rating~1+position+(1|pair_id)\n",
      "\n",
      "Family: gaussian\t Inference: parametric\n",
      "\n",
      "Number of observations: 7752\t Groups: {'pair_id': 7751.0}\n",
      "\n",
      "Log-likelihood: -12394.824 \t AIC: 24797.647\n",
      "\n",
      "Random effects:\n",
      "\n",
      "                 Name    Var    Std\n",
      "pair_id   (Intercept)  0.000  0.000\n",
      "Residual               1.431  1.196\n",
      "\n",
      "No random effect correlations specified\n",
      "\n",
      "Fixed effects:\n",
      "\n"
     ]
    },
    {
     "name": "stderr",
     "output_type": "stream",
     "text": [
      "/var/folders/lq/kd3wh6952vg99n5ppf4srz9w0000gn/T/ipykernel_12678/3807035338.py:33: RuntimeWarning: divide by zero encountered in scalar divide\n",
      "  verb_sentence_var = var_from_verb / var_pair_id_full\n"
     ]
    },
    {
     "name": "stdout",
     "output_type": "stream",
     "text": [
      "unable to evaluate scaled gradient \n",
      "\n",
      "Model failed to converge: degenerate  Hessian with 1 negative eigenvalues \n",
      "\n"
     ]
    },
    {
     "name": "stderr",
     "output_type": "stream",
     "text": [
      "/Users/lli/anaconda3/envs/metaphor/lib/python3.11/site-packages/pymer4/models/Lmer.py:733: FutureWarning: DataFrame.applymap has been deprecated. Use DataFrame.map instead.\n",
      "  ran_vars = ran_vars.applymap(\n"
     ]
    },
    {
     "name": "stdout",
     "output_type": "stream",
     "text": [
      "Linear mixed model fit by REML [’lmerMod’]\n",
      "Formula: rating~1+position*(1|predicate/pair_id)\n",
      "\n",
      "Family: gaussian\t Inference: parametric\n",
      "\n",
      "Number of observations: 7752\t Groups: {'pair_id:predicate': 7751.0, 'predicate': 1626.0}\n",
      "\n",
      "Log-likelihood: -11247.759 \t AIC: 22505.518\n",
      "\n",
      "Random effects:\n",
      "\n",
      "                          Name    Var    Std\n",
      "pair_id:predicate  (Intercept)  0.943  0.971\n",
      "predicate          (Intercept)  0.196  0.443\n",
      "Residual                        0.000  0.000\n",
      "\n",
      "No random effect correlations specified\n",
      "\n",
      "Fixed effects:\n",
      "\n",
      "unable to evaluate scaled gradient \n",
      "\n",
      "Model failed to converge: degenerate  Hessian with 1 negative eigenvalues \n",
      "\n"
     ]
    },
    {
     "name": "stderr",
     "output_type": "stream",
     "text": [
      "/Users/lli/anaconda3/envs/metaphor/lib/python3.11/site-packages/pymer4/models/Lmer.py:733: FutureWarning: DataFrame.applymap has been deprecated. Use DataFrame.map instead.\n",
      "  ran_vars = ran_vars.applymap(\n"
     ]
    },
    {
     "name": "stdout",
     "output_type": "stream",
     "text": [
      "Linear mixed model fit by REML [’lmerMod’]\n",
      "Formula: rating~1+position+(1|pair_id)\n",
      "\n",
      "Family: gaussian\t Inference: parametric\n",
      "\n",
      "Number of observations: 7752\t Groups: {'pair_id': 7751.0}\n",
      "\n",
      "Log-likelihood: -11555.029 \t AIC: 23118.058\n",
      "\n",
      "Random effects:\n",
      "\n",
      "                 Name    Var    Std\n",
      "pair_id   (Intercept)  1.156  1.075\n",
      "Residual               0.000  0.000\n",
      "\n",
      "No random effect correlations specified\n",
      "\n",
      "Fixed effects:\n",
      "\n",
      "Model failed to converge with max|grad| = 0.00710423 (tol = 0.002, component 1) \n",
      "\n"
     ]
    },
    {
     "name": "stderr",
     "output_type": "stream",
     "text": [
      "/Users/lli/anaconda3/envs/metaphor/lib/python3.11/site-packages/pymer4/models/Lmer.py:733: FutureWarning: DataFrame.applymap has been deprecated. Use DataFrame.map instead.\n",
      "  ran_vars = ran_vars.applymap(\n"
     ]
    },
    {
     "name": "stdout",
     "output_type": "stream",
     "text": [
      "Linear mixed model fit by REML [’lmerMod’]\n",
      "Formula: rating~1+position*(1|predicate/pair_id)\n",
      "\n",
      "Family: gaussian\t Inference: parametric\n",
      "\n",
      "Number of observations: 7752\t Groups: {'pair_id:predicate': 7751.0, 'predicate': 1626.0}\n",
      "\n",
      "Log-likelihood: -10835.923 \t AIC: 21681.846\n",
      "\n",
      "Random effects:\n",
      "\n",
      "                          Name    Var    Std\n",
      "pair_id:predicate  (Intercept)  0.855  0.925\n",
      "predicate          (Intercept)  0.161  0.401\n",
      "Residual                        0.000  0.000\n",
      "\n",
      "No random effect correlations specified\n",
      "\n",
      "Fixed effects:\n",
      "\n"
     ]
    },
    {
     "name": "stderr",
     "output_type": "stream",
     "text": [
      "/Users/lli/anaconda3/envs/metaphor/lib/python3.11/site-packages/pymer4/models/Lmer.py:733: FutureWarning: DataFrame.applymap has been deprecated. Use DataFrame.map instead.\n",
      "  ran_vars = ran_vars.applymap(\n"
     ]
    },
    {
     "name": "stdout",
     "output_type": "stream",
     "text": [
      "Linear mixed model fit by REML [’lmerMod’]\n",
      "Formula: rating~1+position+(1|pair_id)\n",
      "\n",
      "Family: gaussian\t Inference: parametric\n",
      "\n",
      "Number of observations: 7752\t Groups: {'pair_id': 7751.0}\n",
      "\n",
      "Log-likelihood: -11139.539 \t AIC: 22287.078\n",
      "\n",
      "Random effects:\n",
      "\n",
      "                 Name    Var    Std\n",
      "pair_id   (Intercept)  1.038  1.019\n",
      "Residual               0.000  0.000\n",
      "\n",
      "No random effect correlations specified\n",
      "\n",
      "Fixed effects:\n",
      "\n",
      "Model failed to converge with max|grad| = 0.0175225 (tol = 0.002, component 1) \n",
      "\n"
     ]
    },
    {
     "name": "stderr",
     "output_type": "stream",
     "text": [
      "/Users/lli/anaconda3/envs/metaphor/lib/python3.11/site-packages/pymer4/models/Lmer.py:733: FutureWarning: DataFrame.applymap has been deprecated. Use DataFrame.map instead.\n",
      "  ran_vars = ran_vars.applymap(\n"
     ]
    },
    {
     "name": "stdout",
     "output_type": "stream",
     "text": [
      "Linear mixed model fit by REML [’lmerMod’]\n",
      "Formula: rating~1+position*(1|predicate/pair_id)\n",
      "\n",
      "Family: gaussian\t Inference: parametric\n",
      "\n",
      "Number of observations: 7752\t Groups: {'pair_id:predicate': 7751.0, 'predicate': 1626.0}\n",
      "\n",
      "Log-likelihood: -8932.678 \t AIC: 17875.356\n",
      "\n",
      "Random effects:\n",
      "\n",
      "                          Name    Var    Std\n",
      "pair_id:predicate  (Intercept)  0.512  0.715\n",
      "predicate          (Intercept)  0.125  0.353\n",
      "Residual                        0.000  0.000\n",
      "\n",
      "No random effect correlations specified\n",
      "\n",
      "Fixed effects:\n",
      "\n",
      "unable to evaluate scaled gradient \n",
      "\n",
      "Model failed to converge: degenerate  Hessian with 1 negative eigenvalues \n",
      "\n"
     ]
    },
    {
     "name": "stderr",
     "output_type": "stream",
     "text": [
      "/Users/lli/anaconda3/envs/metaphor/lib/python3.11/site-packages/pymer4/models/Lmer.py:733: FutureWarning: DataFrame.applymap has been deprecated. Use DataFrame.map instead.\n",
      "  ran_vars = ran_vars.applymap(\n"
     ]
    },
    {
     "name": "stdout",
     "output_type": "stream",
     "text": [
      "Linear mixed model fit by REML [’lmerMod’]\n",
      "Formula: rating~1+position+(1|pair_id)\n",
      "\n",
      "Family: gaussian\t Inference: parametric\n",
      "\n",
      "Number of observations: 7752\t Groups: {'pair_id': 7751.0}\n",
      "\n",
      "Log-likelihood: -9247.701 \t AIC: 18503.401\n",
      "\n",
      "Random effects:\n",
      "\n",
      "                 Name    Var    Std\n",
      "pair_id   (Intercept)  0.637  0.798\n",
      "Residual               0.000  0.000\n",
      "\n",
      "No random effect correlations specified\n",
      "\n",
      "Fixed effects:\n",
      "\n",
      "Model failed to converge with max|grad| = 0.0162455 (tol = 0.002, component 1) \n",
      "\n"
     ]
    },
    {
     "name": "stderr",
     "output_type": "stream",
     "text": [
      "/Users/lli/anaconda3/envs/metaphor/lib/python3.11/site-packages/pymer4/models/Lmer.py:733: FutureWarning: DataFrame.applymap has been deprecated. Use DataFrame.map instead.\n",
      "  ran_vars = ran_vars.applymap(\n"
     ]
    },
    {
     "name": "stdout",
     "output_type": "stream",
     "text": [
      "Linear mixed model fit by REML [’lmerMod’]\n",
      "Formula: rating~1+position*(1|predicate/pair_id)\n",
      "\n",
      "Family: gaussian\t Inference: parametric\n",
      "\n",
      "Number of observations: 7752\t Groups: {'pair_id:predicate': 7751.0, 'predicate': 1626.0}\n",
      "\n",
      "Log-likelihood: -13573.492 \t AIC: 27156.983\n",
      "\n",
      "Random effects:\n",
      "\n",
      "                          Name    Var    Std\n",
      "pair_id:predicate  (Intercept)  1.666  1.291\n",
      "predicate          (Intercept)  0.485  0.696\n",
      "Residual                        0.000  0.000\n",
      "\n",
      "No random effect correlations specified\n",
      "\n",
      "Fixed effects:\n",
      "\n"
     ]
    },
    {
     "name": "stderr",
     "output_type": "stream",
     "text": [
      "/Users/lli/anaconda3/envs/metaphor/lib/python3.11/site-packages/pymer4/models/Lmer.py:733: FutureWarning: DataFrame.applymap has been deprecated. Use DataFrame.map instead.\n",
      "  ran_vars = ran_vars.applymap(\n"
     ]
    },
    {
     "name": "stdout",
     "output_type": "stream",
     "text": [
      "Linear mixed model fit by REML [’lmerMod’]\n",
      "Formula: rating~1+position+(1|pair_id)\n",
      "\n",
      "Family: gaussian\t Inference: parametric\n",
      "\n",
      "Number of observations: 7752\t Groups: {'pair_id': 7751.0}\n",
      "\n",
      "Log-likelihood: -14002.365 \t AIC: 28012.731\n",
      "\n",
      "Random effects:\n",
      "\n",
      "                 Name    Var    Std\n",
      "pair_id   (Intercept)  2.174  1.474\n",
      "Residual               0.000  0.000\n",
      "\n",
      "No random effect correlations specified\n",
      "\n",
      "Fixed effects:\n",
      "\n"
     ]
    },
    {
     "name": "stderr",
     "output_type": "stream",
     "text": [
      "/Users/lli/anaconda3/envs/metaphor/lib/python3.11/site-packages/pymer4/models/Lmer.py:733: FutureWarning: DataFrame.applymap has been deprecated. Use DataFrame.map instead.\n",
      "  ran_vars = ran_vars.applymap(\n"
     ]
    },
    {
     "name": "stdout",
     "output_type": "stream",
     "text": [
      "Linear mixed model fit by REML [’lmerMod’]\n",
      "Formula: rating~1+position*(1|predicate/pair_id)\n",
      "\n",
      "Family: gaussian\t Inference: parametric\n",
      "\n",
      "Number of observations: 7752\t Groups: {'pair_id:predicate': 7751.0, 'predicate': 1626.0}\n",
      "\n",
      "Log-likelihood: -13832.199 \t AIC: 27674.398\n",
      "\n",
      "Random effects:\n",
      "\n",
      "                          Name    Var    Std\n",
      "pair_id:predicate  (Intercept)  1.792  1.339\n",
      "predicate          (Intercept)  0.489  0.699\n",
      "Residual                        0.000  0.000\n",
      "\n",
      "No random effect correlations specified\n",
      "\n",
      "Fixed effects:\n",
      "\n"
     ]
    },
    {
     "name": "stderr",
     "output_type": "stream",
     "text": [
      "/Users/lli/anaconda3/envs/metaphor/lib/python3.11/site-packages/pymer4/models/Lmer.py:733: FutureWarning: DataFrame.applymap has been deprecated. Use DataFrame.map instead.\n",
      "  ran_vars = ran_vars.applymap(\n"
     ]
    },
    {
     "name": "stdout",
     "output_type": "stream",
     "text": [
      "Linear mixed model fit by REML [’lmerMod’]\n",
      "Formula: rating~1+position+(1|pair_id)\n",
      "\n",
      "Family: gaussian\t Inference: parametric\n",
      "\n",
      "Number of observations: 7752\t Groups: {'pair_id': 7751.0}\n",
      "\n",
      "Log-likelihood: -14241.742 \t AIC: 28491.483\n",
      "\n",
      "Random effects:\n",
      "\n",
      "                 Name    Var   Std\n",
      "pair_id   (Intercept)  2.312  1.52\n",
      "Residual               0.000  0.00\n",
      "\n",
      "No random effect correlations specified\n",
      "\n",
      "Fixed effects:\n",
      "\n"
     ]
    },
    {
     "name": "stderr",
     "output_type": "stream",
     "text": [
      "/Users/lli/anaconda3/envs/metaphor/lib/python3.11/site-packages/pymer4/models/Lmer.py:733: FutureWarning: DataFrame.applymap has been deprecated. Use DataFrame.map instead.\n",
      "  ran_vars = ran_vars.applymap(\n"
     ]
    },
    {
     "name": "stdout",
     "output_type": "stream",
     "text": [
      "Linear mixed model fit by REML [’lmerMod’]\n",
      "Formula: rating~1+position*(1|predicate/pair_id)\n",
      "\n",
      "Family: gaussian\t Inference: parametric\n",
      "\n",
      "Number of observations: 7752\t Groups: {'pair_id:predicate': 7751.0, 'predicate': 1626.0}\n",
      "\n",
      "Log-likelihood: -10606.882 \t AIC: 21223.765\n",
      "\n",
      "Random effects:\n",
      "\n",
      "                          Name    Var    Std\n",
      "pair_id:predicate  (Intercept)  0.808  0.899\n",
      "predicate          (Intercept)  0.147  0.384\n",
      "Residual                        0.000  0.000\n",
      "\n",
      "No random effect correlations specified\n",
      "\n",
      "Fixed effects:\n",
      "\n",
      "unable to evaluate scaled gradient \n",
      "\n",
      "Model failed to converge: degenerate  Hessian with 1 negative eigenvalues \n",
      "\n"
     ]
    },
    {
     "name": "stderr",
     "output_type": "stream",
     "text": [
      "/Users/lli/anaconda3/envs/metaphor/lib/python3.11/site-packages/pymer4/models/Lmer.py:733: FutureWarning: DataFrame.applymap has been deprecated. Use DataFrame.map instead.\n",
      "  ran_vars = ran_vars.applymap(\n"
     ]
    },
    {
     "name": "stdout",
     "output_type": "stream",
     "text": [
      "Linear mixed model fit by REML [’lmerMod’]\n",
      "Formula: rating~1+position+(1|pair_id)\n",
      "\n",
      "Family: gaussian\t Inference: parametric\n",
      "\n",
      "Number of observations: 7752\t Groups: {'pair_id': 7751.0}\n",
      "\n",
      "Log-likelihood: -10821.527 \t AIC: 21651.054\n",
      "\n",
      "Random effects:\n",
      "\n",
      "                 Name    Var    Std\n",
      "pair_id   (Intercept)  0.956  0.978\n",
      "Residual               0.000  0.000\n",
      "\n",
      "No random effect correlations specified\n",
      "\n",
      "Fixed effects:\n",
      "\n",
      "Model failed to converge with max|grad| = 0.0220177 (tol = 0.002, component 1) \n",
      "\n"
     ]
    },
    {
     "name": "stderr",
     "output_type": "stream",
     "text": [
      "/Users/lli/anaconda3/envs/metaphor/lib/python3.11/site-packages/pymer4/models/Lmer.py:733: FutureWarning: DataFrame.applymap has been deprecated. Use DataFrame.map instead.\n",
      "  ran_vars = ran_vars.applymap(\n"
     ]
    },
    {
     "name": "stdout",
     "output_type": "stream",
     "text": [
      "Linear mixed model fit by REML [’lmerMod’]\n",
      "Formula: rating~1+position*(1|predicate/pair_id)\n",
      "\n",
      "Family: gaussian\t Inference: parametric\n",
      "\n",
      "Number of observations: 7752\t Groups: {'pair_id:predicate': 7751.0, 'predicate': 1626.0}\n",
      "\n",
      "Log-likelihood: -15389.497 \t AIC: 30788.995\n",
      "\n",
      "Random effects:\n",
      "\n",
      "                          Name    Var    Std\n",
      "pair_id:predicate  (Intercept)  2.615  1.617\n",
      "predicate          (Intercept)  0.907  0.952\n",
      "Residual                        0.000  0.000\n",
      "\n",
      "No random effect correlations specified\n",
      "\n",
      "Fixed effects:\n",
      "\n"
     ]
    },
    {
     "name": "stderr",
     "output_type": "stream",
     "text": [
      "/Users/lli/anaconda3/envs/metaphor/lib/python3.11/site-packages/pymer4/models/Lmer.py:733: FutureWarning: DataFrame.applymap has been deprecated. Use DataFrame.map instead.\n",
      "  ran_vars = ran_vars.applymap(\n"
     ]
    },
    {
     "name": "stdout",
     "output_type": "stream",
     "text": [
      "Linear mixed model fit by REML [’lmerMod’]\n",
      "Formula: rating~1+position+(1|pair_id)\n",
      "\n",
      "Family: gaussian\t Inference: parametric\n",
      "\n",
      "Number of observations: 7752\t Groups: {'pair_id': 7751.0}\n",
      "\n",
      "Log-likelihood: -15804.082 \t AIC: 31616.164\n",
      "\n",
      "Random effects:\n",
      "\n",
      "                 Name    Var   Std\n",
      "pair_id   (Intercept)  3.461  1.86\n",
      "Residual               0.000  0.00\n",
      "\n",
      "No random effect correlations specified\n",
      "\n",
      "Fixed effects:\n",
      "\n",
      "Model failed to converge with max|grad| = 0.0315455 (tol = 0.002, component 1) \n",
      "\n"
     ]
    },
    {
     "name": "stderr",
     "output_type": "stream",
     "text": [
      "/Users/lli/anaconda3/envs/metaphor/lib/python3.11/site-packages/pymer4/models/Lmer.py:733: FutureWarning: DataFrame.applymap has been deprecated. Use DataFrame.map instead.\n",
      "  ran_vars = ran_vars.applymap(\n"
     ]
    },
    {
     "name": "stdout",
     "output_type": "stream",
     "text": [
      "Linear mixed model fit by REML [’lmerMod’]\n",
      "Formula: rating~1+position*(1|predicate/pair_id)\n",
      "\n",
      "Family: gaussian\t Inference: parametric\n",
      "\n",
      "Number of observations: 7752\t Groups: {'pair_id:predicate': 7751.0, 'predicate': 1626.0}\n",
      "\n",
      "Log-likelihood: -13320.115 \t AIC: 26650.231\n",
      "\n",
      "Random effects:\n",
      "\n",
      "                          Name    Var    Std\n",
      "pair_id:predicate  (Intercept)  1.438  1.199\n",
      "predicate          (Intercept)  0.854  0.924\n",
      "Residual                        0.000  0.000\n",
      "\n",
      "No random effect correlations specified\n",
      "\n",
      "Fixed effects:\n",
      "\n",
      "unable to evaluate scaled gradient \n",
      "\n",
      "Model failed to converge: degenerate  Hessian with 1 negative eigenvalues \n",
      "\n"
     ]
    },
    {
     "name": "stderr",
     "output_type": "stream",
     "text": [
      "/Users/lli/anaconda3/envs/metaphor/lib/python3.11/site-packages/pymer4/models/Lmer.py:733: FutureWarning: DataFrame.applymap has been deprecated. Use DataFrame.map instead.\n",
      "  ran_vars = ran_vars.applymap(\n"
     ]
    },
    {
     "name": "stdout",
     "output_type": "stream",
     "text": [
      "Linear mixed model fit by REML [’lmerMod’]\n",
      "Formula: rating~1+position+(1|pair_id)\n",
      "\n",
      "Family: gaussian\t Inference: parametric\n",
      "\n",
      "Number of observations: 7752\t Groups: {'pair_id': 7751.0}\n",
      "\n",
      "Log-likelihood: -14091.489 \t AIC: 28190.978\n",
      "\n",
      "Random effects:\n",
      "\n",
      "                 Name    Var    Std\n",
      "pair_id   (Intercept)  2.224  1.491\n",
      "Residual               0.000  0.000\n",
      "\n",
      "No random effect correlations specified\n",
      "\n",
      "Fixed effects:\n",
      "\n",
      "Model failed to converge with max|grad| = 0.00973637 (tol = 0.002, component 1) \n",
      "\n"
     ]
    },
    {
     "name": "stderr",
     "output_type": "stream",
     "text": [
      "/Users/lli/anaconda3/envs/metaphor/lib/python3.11/site-packages/pymer4/models/Lmer.py:733: FutureWarning: DataFrame.applymap has been deprecated. Use DataFrame.map instead.\n",
      "  ran_vars = ran_vars.applymap(\n"
     ]
    },
    {
     "name": "stdout",
     "output_type": "stream",
     "text": [
      "Linear mixed model fit by REML [’lmerMod’]\n",
      "Formula: rating~1+position*(1|predicate/pair_id)\n",
      "\n",
      "Family: gaussian\t Inference: parametric\n",
      "\n",
      "Number of observations: 7752\t Groups: {'pair_id:predicate': 7751.0, 'predicate': 1626.0}\n",
      "\n",
      "Log-likelihood: -11721.305 \t AIC: 23452.609\n",
      "\n",
      "Random effects:\n",
      "\n",
      "                          Name    Var    Std\n",
      "pair_id:predicate  (Intercept)  1.173  1.083\n",
      "predicate          (Intercept)  0.038  0.195\n",
      "Residual                        0.000  0.000\n",
      "\n",
      "No random effect correlations specified\n",
      "\n",
      "Fixed effects:\n",
      "\n"
     ]
    },
    {
     "name": "stderr",
     "output_type": "stream",
     "text": [
      "/Users/lli/anaconda3/envs/metaphor/lib/python3.11/site-packages/pymer4/models/Lmer.py:733: FutureWarning: DataFrame.applymap has been deprecated. Use DataFrame.map instead.\n",
      "  ran_vars = ran_vars.applymap(\n"
     ]
    },
    {
     "name": "stdout",
     "output_type": "stream",
     "text": [
      "Linear mixed model fit by REML [’lmerMod’]\n",
      "Formula: rating~1+position+(1|pair_id)\n",
      "\n",
      "Family: gaussian\t Inference: parametric\n",
      "\n",
      "Number of observations: 7752\t Groups: {'pair_id': 7751.0}\n",
      "\n",
      "Log-likelihood: -11733.656 \t AIC: 23475.312\n",
      "\n",
      "Random effects:\n",
      "\n",
      "                 Name   Var  Std\n",
      "pair_id   (Intercept)  1.21  1.1\n",
      "Residual               0.00  0.0\n",
      "\n",
      "No random effect correlations specified\n",
      "\n",
      "Fixed effects:\n",
      "\n",
      "Model failed to converge with max|grad| = 0.00913491 (tol = 0.002, component 1) \n",
      "\n"
     ]
    },
    {
     "name": "stderr",
     "output_type": "stream",
     "text": [
      "/Users/lli/anaconda3/envs/metaphor/lib/python3.11/site-packages/pymer4/models/Lmer.py:733: FutureWarning: DataFrame.applymap has been deprecated. Use DataFrame.map instead.\n",
      "  ran_vars = ran_vars.applymap(\n"
     ]
    },
    {
     "name": "stdout",
     "output_type": "stream",
     "text": [
      "Linear mixed model fit by REML [’lmerMod’]\n",
      "Formula: rating~1+position*(1|predicate/pair_id)\n",
      "\n",
      "Family: gaussian\t Inference: parametric\n",
      "\n",
      "Number of observations: 7752\t Groups: {'pair_id:predicate': 7751.0, 'predicate': 1626.0}\n",
      "\n",
      "Log-likelihood: -13380.105 \t AIC: 26770.210\n",
      "\n",
      "Random effects:\n",
      "\n",
      "                          Name    Var    Std\n",
      "pair_id:predicate  (Intercept)  1.495  1.223\n",
      "predicate          (Intercept)  0.737  0.858\n",
      "Residual                        0.000  0.000\n",
      "\n",
      "No random effect correlations specified\n",
      "\n",
      "Fixed effects:\n",
      "\n",
      "unable to evaluate scaled gradient \n",
      "\n",
      "Model failed to converge: degenerate  Hessian with 1 negative eigenvalues \n",
      "\n"
     ]
    },
    {
     "name": "stderr",
     "output_type": "stream",
     "text": [
      "/Users/lli/anaconda3/envs/metaphor/lib/python3.11/site-packages/pymer4/models/Lmer.py:733: FutureWarning: DataFrame.applymap has been deprecated. Use DataFrame.map instead.\n",
      "  ran_vars = ran_vars.applymap(\n"
     ]
    },
    {
     "name": "stdout",
     "output_type": "stream",
     "text": [
      "Linear mixed model fit by REML [’lmerMod’]\n",
      "Formula: rating~1+position+(1|pair_id)\n",
      "\n",
      "Family: gaussian\t Inference: parametric\n",
      "\n",
      "Number of observations: 7752\t Groups: {'pair_id': 7751.0}\n",
      "\n",
      "Log-likelihood: -13887.620 \t AIC: 27783.239\n",
      "\n",
      "Random effects:\n",
      "\n",
      "                 Name    Var    Std\n",
      "pair_id   (Intercept)  2.111  1.453\n",
      "Residual               0.000  0.000\n",
      "\n",
      "No random effect correlations specified\n",
      "\n",
      "Fixed effects:\n",
      "\n",
      "[1] \"Model failed to converge with max|grad| = 0.0524715 (tol = 0.002, component 1)\"\n",
      "[2] \" \\n\"                                                                           \n",
      "\n",
      "[1] \"Model is nearly unidentifiable: very large eigenvalue\\n - Rescale variables?\"\n",
      "[2] \" \\n\"                                                                         \n",
      "\n"
     ]
    },
    {
     "name": "stderr",
     "output_type": "stream",
     "text": [
      "/Users/lli/anaconda3/envs/metaphor/lib/python3.11/site-packages/pymer4/models/Lmer.py:733: FutureWarning: DataFrame.applymap has been deprecated. Use DataFrame.map instead.\n",
      "  ran_vars = ran_vars.applymap(\n"
     ]
    },
    {
     "name": "stdout",
     "output_type": "stream",
     "text": [
      "Linear mixed model fit by REML [’lmerMod’]\n",
      "Formula: rating~1+position*(1|predicate/pair_id)\n",
      "\n",
      "Family: gaussian\t Inference: parametric\n",
      "\n",
      "Number of observations: 7752\t Groups: {'pair_id:predicate': 7751.0, 'predicate': 1626.0}\n",
      "\n",
      "Log-likelihood: -14677.341 \t AIC: 29364.682\n",
      "\n",
      "Random effects:\n",
      "\n",
      "                          Name    Var    Std\n",
      "pair_id:predicate  (Intercept)  2.166  1.472\n",
      "predicate          (Intercept)  0.784  0.885\n",
      "Residual                        0.000  0.000\n",
      "\n",
      "No random effect correlations specified\n",
      "\n",
      "Fixed effects:\n",
      "\n"
     ]
    },
    {
     "name": "stderr",
     "output_type": "stream",
     "text": [
      "/Users/lli/anaconda3/envs/metaphor/lib/python3.11/site-packages/pymer4/models/Lmer.py:733: FutureWarning: DataFrame.applymap has been deprecated. Use DataFrame.map instead.\n",
      "  ran_vars = ran_vars.applymap(\n"
     ]
    },
    {
     "name": "stdout",
     "output_type": "stream",
     "text": [
      "Linear mixed model fit by REML [’lmerMod’]\n",
      "Formula: rating~1+position+(1|pair_id)\n",
      "\n",
      "Family: gaussian\t Inference: parametric\n",
      "\n",
      "Number of observations: 7752\t Groups: {'pair_id': 7751.0}\n",
      "\n",
      "Log-likelihood: -15157.518 \t AIC: 30323.037\n",
      "\n",
      "Random effects:\n",
      "\n",
      "                 Name    Var    Std\n",
      "pair_id   (Intercept)  2.928  1.711\n",
      "Residual               0.000  0.000\n",
      "\n",
      "No random effect correlations specified\n",
      "\n",
      "Fixed effects:\n",
      "\n",
      "boundary (singular) fit: see help('isSingular') \n",
      "\n"
     ]
    },
    {
     "name": "stderr",
     "output_type": "stream",
     "text": [
      "/Users/lli/anaconda3/envs/metaphor/lib/python3.11/site-packages/pymer4/models/Lmer.py:733: FutureWarning: DataFrame.applymap has been deprecated. Use DataFrame.map instead.\n",
      "  ran_vars = ran_vars.applymap(\n"
     ]
    },
    {
     "name": "stdout",
     "output_type": "stream",
     "text": [
      "Linear mixed model fit by REML [’lmerMod’]\n",
      "Formula: rating~1+position*(1|predicate/pair_id)\n",
      "\n",
      "Family: gaussian\t Inference: parametric\n",
      "\n",
      "Number of observations: 7752\t Groups: {'pair_id:predicate': 7751.0, 'predicate': 1626.0}\n",
      "\n",
      "Log-likelihood: -13627.352 \t AIC: 27264.704\n",
      "\n",
      "Random effects:\n",
      "\n",
      "                          Name    Var    Std\n",
      "pair_id:predicate  (Intercept)  0.000  0.000\n",
      "predicate          (Intercept)  0.848  0.921\n",
      "Residual                        1.571  1.254\n",
      "\n",
      "No random effect correlations specified\n",
      "\n",
      "Fixed effects:\n",
      "\n"
     ]
    },
    {
     "name": "stderr",
     "output_type": "stream",
     "text": [
      "/Users/lli/anaconda3/envs/metaphor/lib/python3.11/site-packages/pymer4/models/Lmer.py:733: FutureWarning: DataFrame.applymap has been deprecated. Use DataFrame.map instead.\n",
      "  ran_vars = ran_vars.applymap(\n"
     ]
    },
    {
     "name": "stdout",
     "output_type": "stream",
     "text": [
      "Linear mixed model fit by REML [’lmerMod’]\n",
      "Formula: rating~1+position+(1|pair_id)\n",
      "\n",
      "Family: gaussian\t Inference: parametric\n",
      "\n",
      "Number of observations: 7752\t Groups: {'pair_id': 7751.0}\n",
      "\n",
      "Log-likelihood: -14507.554 \t AIC: 29023.109\n",
      "\n",
      "Random effects:\n",
      "\n",
      "                 Name    Var    Std\n",
      "pair_id   (Intercept)  0.289  0.537\n",
      "Residual               2.181  1.477\n",
      "\n",
      "No random effect correlations specified\n",
      "\n",
      "Fixed effects:\n",
      "\n",
      "[1] \"Model failed to converge with max|grad| = 0.0230549 (tol = 0.002, component 1)\"\n",
      "[2] \" \\n\"                                                                           \n",
      "\n",
      "[1] \"Model is nearly unidentifiable: very large eigenvalue\\n - Rescale variables?\"\n",
      "[2] \" \\n\"                                                                         \n",
      "\n"
     ]
    },
    {
     "name": "stderr",
     "output_type": "stream",
     "text": [
      "/Users/lli/anaconda3/envs/metaphor/lib/python3.11/site-packages/pymer4/models/Lmer.py:733: FutureWarning: DataFrame.applymap has been deprecated. Use DataFrame.map instead.\n",
      "  ran_vars = ran_vars.applymap(\n"
     ]
    },
    {
     "name": "stdout",
     "output_type": "stream",
     "text": [
      "Linear mixed model fit by REML [’lmerMod’]\n",
      "Formula: rating~1+position*(1|predicate/pair_id)\n",
      "\n",
      "Family: gaussian\t Inference: parametric\n",
      "\n",
      "Number of observations: 7752\t Groups: {'pair_id:predicate': 7751.0, 'predicate': 1626.0}\n",
      "\n",
      "Log-likelihood: -14577.826 \t AIC: 29165.653\n",
      "\n",
      "Random effects:\n",
      "\n",
      "                          Name    Var    Std\n",
      "pair_id:predicate  (Intercept)  2.096  1.448\n",
      "predicate          (Intercept)  0.808  0.899\n",
      "Residual                        0.000  0.000\n",
      "\n",
      "No random effect correlations specified\n",
      "\n",
      "Fixed effects:\n",
      "\n",
      "unable to evaluate scaled gradient \n",
      "\n",
      "Model failed to converge: degenerate  Hessian with 1 negative eigenvalues \n",
      "\n"
     ]
    },
    {
     "name": "stderr",
     "output_type": "stream",
     "text": [
      "/Users/lli/anaconda3/envs/metaphor/lib/python3.11/site-packages/pymer4/models/Lmer.py:733: FutureWarning: DataFrame.applymap has been deprecated. Use DataFrame.map instead.\n",
      "  ran_vars = ran_vars.applymap(\n"
     ]
    },
    {
     "name": "stdout",
     "output_type": "stream",
     "text": [
      "Linear mixed model fit by REML [’lmerMod’]\n",
      "Formula: rating~1+position+(1|pair_id)\n",
      "\n",
      "Family: gaussian\t Inference: parametric\n",
      "\n",
      "Number of observations: 7752\t Groups: {'pair_id': 7751.0}\n",
      "\n",
      "Log-likelihood: -15061.835 \t AIC: 30131.670\n",
      "\n",
      "Random effects:\n",
      "\n",
      "                 Name    Var   Std\n",
      "pair_id   (Intercept)  2.857  1.69\n",
      "Residual               0.000  0.00\n",
      "\n",
      "No random effect correlations specified\n",
      "\n",
      "Fixed effects:\n",
      "\n",
      "Model failed to converge with max|grad| = 0.00920886 (tol = 0.002, component 1) \n",
      "\n"
     ]
    },
    {
     "name": "stderr",
     "output_type": "stream",
     "text": [
      "/Users/lli/anaconda3/envs/metaphor/lib/python3.11/site-packages/pymer4/models/Lmer.py:733: FutureWarning: DataFrame.applymap has been deprecated. Use DataFrame.map instead.\n",
      "  ran_vars = ran_vars.applymap(\n"
     ]
    },
    {
     "name": "stdout",
     "output_type": "stream",
     "text": [
      "Linear mixed model fit by REML [’lmerMod’]\n",
      "Formula: rating~1+position*(1|predicate/pair_id)\n",
      "\n",
      "Family: gaussian\t Inference: parametric\n",
      "\n",
      "Number of observations: 7752\t Groups: {'pair_id:predicate': 7751.0, 'predicate': 1626.0}\n",
      "\n",
      "Log-likelihood: -11024.387 \t AIC: 22058.775\n",
      "\n",
      "Random effects:\n",
      "\n",
      "                          Name    Var    Std\n",
      "pair_id:predicate  (Intercept)  0.868  0.931\n",
      "predicate          (Intercept)  0.240  0.489\n",
      "Residual                        0.000  0.000\n",
      "\n",
      "No random effect correlations specified\n",
      "\n",
      "Fixed effects:\n",
      "\n"
     ]
    },
    {
     "name": "stderr",
     "output_type": "stream",
     "text": [
      "/Users/lli/anaconda3/envs/metaphor/lib/python3.11/site-packages/pymer4/models/Lmer.py:733: FutureWarning: DataFrame.applymap has been deprecated. Use DataFrame.map instead.\n",
      "  ran_vars = ran_vars.applymap(\n"
     ]
    },
    {
     "name": "stdout",
     "output_type": "stream",
     "text": [
      "Linear mixed model fit by REML [’lmerMod’]\n",
      "Formula: rating~1+position+(1|pair_id)\n",
      "\n",
      "Family: gaussian\t Inference: parametric\n",
      "\n",
      "Number of observations: 7752\t Groups: {'pair_id': 7751.0}\n",
      "\n",
      "Log-likelihood: -11334.202 \t AIC: 22676.405\n",
      "\n",
      "Random effects:\n",
      "\n",
      "                 Name    Var    Std\n",
      "pair_id   (Intercept)  1.092  1.045\n",
      "Residual               0.000  0.000\n",
      "\n",
      "No random effect correlations specified\n",
      "\n",
      "Fixed effects:\n",
      "\n"
     ]
    },
    {
     "name": "stderr",
     "output_type": "stream",
     "text": [
      "/Users/lli/anaconda3/envs/metaphor/lib/python3.11/site-packages/pymer4/models/Lmer.py:733: FutureWarning: DataFrame.applymap has been deprecated. Use DataFrame.map instead.\n",
      "  ran_vars = ran_vars.applymap(\n"
     ]
    },
    {
     "name": "stdout",
     "output_type": "stream",
     "text": [
      "Linear mixed model fit by REML [’lmerMod’]\n",
      "Formula: rating~1+position*(1|predicate/pair_id)\n",
      "\n",
      "Family: gaussian\t Inference: parametric\n",
      "\n",
      "Number of observations: 7752\t Groups: {'pair_id:predicate': 7751.0, 'predicate': 1626.0}\n",
      "\n",
      "Log-likelihood: -14068.351 \t AIC: 28146.702\n",
      "\n",
      "Random effects:\n",
      "\n",
      "                          Name    Var    Std\n",
      "pair_id:predicate  (Intercept)  1.736  1.318\n",
      "predicate          (Intercept)  1.061  1.030\n",
      "Residual                        0.000  0.000\n",
      "\n",
      "No random effect correlations specified\n",
      "\n",
      "Fixed effects:\n",
      "\n",
      "unable to evaluate scaled gradient \n",
      "\n",
      "Model failed to converge: degenerate  Hessian with 1 negative eigenvalues \n",
      "\n"
     ]
    },
    {
     "name": "stderr",
     "output_type": "stream",
     "text": [
      "/Users/lli/anaconda3/envs/metaphor/lib/python3.11/site-packages/pymer4/models/Lmer.py:733: FutureWarning: DataFrame.applymap has been deprecated. Use DataFrame.map instead.\n",
      "  ran_vars = ran_vars.applymap(\n"
     ]
    },
    {
     "name": "stdout",
     "output_type": "stream",
     "text": [
      "Linear mixed model fit by REML [’lmerMod’]\n",
      "Formula: rating~1+position+(1|pair_id)\n",
      "\n",
      "Family: gaussian\t Inference: parametric\n",
      "\n",
      "Number of observations: 7752\t Groups: {'pair_id': 7751.0}\n",
      "\n",
      "Log-likelihood: -14909.955 \t AIC: 29827.910\n",
      "\n",
      "Random effects:\n",
      "\n",
      "                 Name    Var    Std\n",
      "pair_id   (Intercept)  2.747  1.657\n",
      "Residual               0.000  0.000\n",
      "\n",
      "No random effect correlations specified\n",
      "\n",
      "Fixed effects:\n",
      "\n"
     ]
    },
    {
     "data": {
      "text/html": [
       "<div>\n",
       "<style scoped>\n",
       "    .dataframe tbody tr th:only-of-type {\n",
       "        vertical-align: middle;\n",
       "    }\n",
       "\n",
       "    .dataframe tbody tr th {\n",
       "        vertical-align: top;\n",
       "    }\n",
       "\n",
       "    .dataframe thead th {\n",
       "        text-align: right;\n",
       "    }\n",
       "</style>\n",
       "<table border=\"1\" class=\"dataframe\">\n",
       "  <thead>\n",
       "    <tr style=\"text-align: right;\">\n",
       "      <th></th>\n",
       "      <th>property</th>\n",
       "      <th>sentence var from verb</th>\n",
       "    </tr>\n",
       "  </thead>\n",
       "  <tbody>\n",
       "    <tr>\n",
       "      <th>0</th>\n",
       "      <td>awareness</td>\n",
       "      <td>0.347771</td>\n",
       "    </tr>\n",
       "    <tr>\n",
       "      <th>1</th>\n",
       "      <td>change_of_location</td>\n",
       "      <td>0.262527</td>\n",
       "    </tr>\n",
       "    <tr>\n",
       "      <th>2</th>\n",
       "      <td>change_of_state</td>\n",
       "      <td>-inf</td>\n",
       "    </tr>\n",
       "    <tr>\n",
       "      <th>3</th>\n",
       "      <td>changes_possession</td>\n",
       "      <td>0.184105</td>\n",
       "    </tr>\n",
       "    <tr>\n",
       "      <th>4</th>\n",
       "      <td>created</td>\n",
       "      <td>0.176439</td>\n",
       "    </tr>\n",
       "    <tr>\n",
       "      <th>5</th>\n",
       "      <td>destroyed</td>\n",
       "      <td>0.196990</td>\n",
       "    </tr>\n",
       "    <tr>\n",
       "      <th>6</th>\n",
       "      <td>existed_after</td>\n",
       "      <td>0.233426</td>\n",
       "    </tr>\n",
       "    <tr>\n",
       "      <th>7</th>\n",
       "      <td>existed_before</td>\n",
       "      <td>0.224745</td>\n",
       "    </tr>\n",
       "    <tr>\n",
       "      <th>8</th>\n",
       "      <td>existed_during</td>\n",
       "      <td>0.155579</td>\n",
       "    </tr>\n",
       "    <tr>\n",
       "      <th>9</th>\n",
       "      <td>exists_as_physical</td>\n",
       "      <td>0.244427</td>\n",
       "    </tr>\n",
       "    <tr>\n",
       "      <th>10</th>\n",
       "      <td>instigation</td>\n",
       "      <td>0.353481</td>\n",
       "    </tr>\n",
       "    <tr>\n",
       "      <th>11</th>\n",
       "      <td>location_of_event</td>\n",
       "      <td>0.030963</td>\n",
       "    </tr>\n",
       "    <tr>\n",
       "      <th>12</th>\n",
       "      <td>makes_physical_contact</td>\n",
       "      <td>0.291723</td>\n",
       "    </tr>\n",
       "    <tr>\n",
       "      <th>13</th>\n",
       "      <td>manipulated_by_another</td>\n",
       "      <td>0.260225</td>\n",
       "    </tr>\n",
       "    <tr>\n",
       "      <th>14</th>\n",
       "      <td>predicate_changed_argument</td>\n",
       "      <td>1.000000</td>\n",
       "    </tr>\n",
       "    <tr>\n",
       "      <th>15</th>\n",
       "      <td>sentient</td>\n",
       "      <td>0.266122</td>\n",
       "    </tr>\n",
       "    <tr>\n",
       "      <th>16</th>\n",
       "      <td>stationary</td>\n",
       "      <td>0.205431</td>\n",
       "    </tr>\n",
       "    <tr>\n",
       "      <th>17</th>\n",
       "      <td>volition</td>\n",
       "      <td>0.367817</td>\n",
       "    </tr>\n",
       "  </tbody>\n",
       "</table>\n",
       "</div>"
      ],
      "text/plain": [
       "                      property  sentence var from verb\n",
       "0                    awareness                0.347771\n",
       "1           change_of_location                0.262527\n",
       "2              change_of_state                    -inf\n",
       "3           changes_possession                0.184105\n",
       "4                      created                0.176439\n",
       "5                    destroyed                0.196990\n",
       "6                existed_after                0.233426\n",
       "7               existed_before                0.224745\n",
       "8               existed_during                0.155579\n",
       "9           exists_as_physical                0.244427\n",
       "10                 instigation                0.353481\n",
       "11           location_of_event                0.030963\n",
       "12      makes_physical_contact                0.291723\n",
       "13      manipulated_by_another                0.260225\n",
       "14  predicate_changed_argument                1.000000\n",
       "15                    sentient                0.266122\n",
       "16                  stationary                0.205431\n",
       "17                    volition                0.367817"
      ]
     },
     "execution_count": 11,
     "metadata": {},
     "output_type": "execute_result"
    }
   ],
   "source": [
    "verb_vars = []\n",
    "for property in properties_list:\n",
    "    verb_vars.append(find_verb_var(property, verb_name=\"Roleset\", family=\"gaussian\"))\n",
    "\n",
    "verb_vars = pd.DataFrame(verb_vars)\n",
    "verb_vars\n"
   ]
  },
  {
   "cell_type": "code",
   "execution_count": 12,
   "metadata": {},
   "outputs": [
    {
     "name": "stdout",
     "output_type": "stream",
     "text": [
      "boundary (singular) fit: see help('isSingular') \n",
      "\n"
     ]
    },
    {
     "name": "stderr",
     "output_type": "stream",
     "text": [
      "/Users/lli/anaconda3/envs/metaphor/lib/python3.11/site-packages/pymer4/models/Lmer.py:733: FutureWarning: DataFrame.applymap has been deprecated. Use DataFrame.map instead.\n",
      "  ran_vars = ran_vars.applymap(\n"
     ]
    },
    {
     "name": "stdout",
     "output_type": "stream",
     "text": [
      "Linear mixed model fit by maximum likelihood  ['lmerMod']\n",
      "Formula: rating~1+position*(1|predicate/pair_id)\n",
      "\n",
      "Family: binomial\t Inference: parametric\n",
      "\n",
      "Number of observations: 7752\t Groups: {'pair_id:predicate': 7751.0, 'predicate': 1626.0}\n",
      "\n",
      "Log-likelihood: -3791.489 \t AIC: 7590.978\n",
      "\n",
      "Random effects:\n",
      "\n",
      "                          Name    Var    Std\n",
      "pair_id:predicate  (Intercept)  0.000  0.000\n",
      "predicate          (Intercept)  3.737  1.933\n",
      "\n",
      "No random effect correlations specified\n",
      "\n",
      "Fixed effects:\n",
      "\n"
     ]
    },
    {
     "name": "stderr",
     "output_type": "stream",
     "text": [
      "/Users/lli/anaconda3/envs/metaphor/lib/python3.11/site-packages/pymer4/models/Lmer.py:733: FutureWarning: DataFrame.applymap has been deprecated. Use DataFrame.map instead.\n",
      "  ran_vars = ran_vars.applymap(\n"
     ]
    },
    {
     "name": "stdout",
     "output_type": "stream",
     "text": [
      "Linear mixed model fit by maximum likelihood  ['lmerMod']\n",
      "Formula: rating~1+position+(1|pair_id)\n",
      "\n",
      "Family: binomial\t Inference: parametric\n",
      "\n",
      "Number of observations: 7752\t Groups: {'pair_id': 7751.0}\n",
      "\n",
      "Log-likelihood: -4444.274 \t AIC: 8894.548\n",
      "\n",
      "Random effects:\n",
      "\n",
      "                Name    Var    Std\n",
      "pair_id  (Intercept)  0.001  0.038\n",
      "\n",
      "No random effect correlations specified\n",
      "\n",
      "Fixed effects:\n",
      "\n",
      "boundary (singular) fit: see help('isSingular') \n",
      "\n"
     ]
    },
    {
     "name": "stderr",
     "output_type": "stream",
     "text": [
      "/Users/lli/anaconda3/envs/metaphor/lib/python3.11/site-packages/pymer4/models/Lmer.py:733: FutureWarning: DataFrame.applymap has been deprecated. Use DataFrame.map instead.\n",
      "  ran_vars = ran_vars.applymap(\n"
     ]
    },
    {
     "name": "stdout",
     "output_type": "stream",
     "text": [
      "Linear mixed model fit by maximum likelihood  ['lmerMod']\n",
      "Formula: rating~1+position*(1|predicate/pair_id)\n",
      "\n",
      "Family: binomial\t Inference: parametric\n",
      "\n",
      "Number of observations: 7752\t Groups: {'pair_id:predicate': 7751.0, 'predicate': 1626.0}\n",
      "\n",
      "Log-likelihood: -996.747 \t AIC: 2001.493\n",
      "\n",
      "Random effects:\n",
      "\n",
      "                          Name      Var    Std\n",
      "pair_id:predicate  (Intercept)  2797.36  52.89\n",
      "predicate          (Intercept)     0.00   0.00\n",
      "\n",
      "No random effect correlations specified\n",
      "\n",
      "Fixed effects:\n",
      "\n"
     ]
    },
    {
     "name": "stderr",
     "output_type": "stream",
     "text": [
      "/Users/lli/anaconda3/envs/metaphor/lib/python3.11/site-packages/pymer4/models/Lmer.py:733: FutureWarning: DataFrame.applymap has been deprecated. Use DataFrame.map instead.\n",
      "  ran_vars = ran_vars.applymap(\n"
     ]
    },
    {
     "name": "stdout",
     "output_type": "stream",
     "text": [
      "Linear mixed model fit by maximum likelihood  ['lmerMod']\n",
      "Formula: rating~1+position+(1|pair_id)\n",
      "\n",
      "Family: binomial\t Inference: parametric\n",
      "\n",
      "Number of observations: 7752\t Groups: {'pair_id': 7751.0}\n",
      "\n",
      "Log-likelihood: -996.747 \t AIC: 1999.493\n",
      "\n",
      "Random effects:\n",
      "\n",
      "                Name       Var    Std\n",
      "pair_id  (Intercept)  2797.323  52.89\n",
      "\n",
      "No random effect correlations specified\n",
      "\n",
      "Fixed effects:\n",
      "\n",
      "Model failed to converge with max|grad| = 0.00331053 (tol = 0.002, component 1) \n",
      "\n"
     ]
    },
    {
     "name": "stderr",
     "output_type": "stream",
     "text": [
      "/Users/lli/anaconda3/envs/metaphor/lib/python3.11/site-packages/pymer4/models/Lmer.py:733: FutureWarning: DataFrame.applymap has been deprecated. Use DataFrame.map instead.\n",
      "  ran_vars = ran_vars.applymap(\n"
     ]
    },
    {
     "name": "stdout",
     "output_type": "stream",
     "text": [
      "Linear mixed model fit by maximum likelihood  ['lmerMod']\n",
      "Formula: rating~1+position*(1|predicate/pair_id)\n",
      "\n",
      "Family: binomial\t Inference: parametric\n",
      "\n",
      "Number of observations: 7752\t Groups: {'pair_id:predicate': 7751.0, 'predicate': 1626.0}\n",
      "\n",
      "Log-likelihood: -4246.248 \t AIC: 8500.496\n",
      "\n",
      "Random effects:\n",
      "\n",
      "                          Name    Var    Std\n",
      "pair_id:predicate  (Intercept)  0.000  0.000\n",
      "predicate          (Intercept)  3.742  1.934\n",
      "\n",
      "No random effect correlations specified\n",
      "\n",
      "Fixed effects:\n",
      "\n",
      "boundary (singular) fit: see help('isSingular') \n",
      "\n"
     ]
    },
    {
     "name": "stderr",
     "output_type": "stream",
     "text": [
      "/Users/lli/anaconda3/envs/metaphor/lib/python3.11/site-packages/pymer4/models/Lmer.py:733: FutureWarning: DataFrame.applymap has been deprecated. Use DataFrame.map instead.\n",
      "  ran_vars = ran_vars.applymap(\n"
     ]
    },
    {
     "name": "stdout",
     "output_type": "stream",
     "text": [
      "Linear mixed model fit by maximum likelihood  ['lmerMod']\n",
      "Formula: rating~1+position+(1|pair_id)\n",
      "\n",
      "Family: binomial\t Inference: parametric\n",
      "\n",
      "Number of observations: 7752\t Groups: {'pair_id': 7751.0}\n",
      "\n",
      "Log-likelihood: -5132.358 \t AIC: 10270.717\n",
      "\n",
      "Random effects:\n",
      "\n",
      "                Name  Var  Std\n",
      "pair_id  (Intercept)  0.0  0.0\n",
      "\n",
      "No random effect correlations specified\n",
      "\n",
      "Fixed effects:\n",
      "\n"
     ]
    },
    {
     "name": "stderr",
     "output_type": "stream",
     "text": [
      "/Users/lli/anaconda3/envs/metaphor/lib/python3.11/site-packages/pymer4/models/Lmer.py:733: FutureWarning: DataFrame.applymap has been deprecated. Use DataFrame.map instead.\n",
      "  ran_vars = ran_vars.applymap(\n"
     ]
    },
    {
     "name": "stdout",
     "output_type": "stream",
     "text": [
      "Linear mixed model fit by maximum likelihood  ['lmerMod']\n",
      "Formula: rating~1+position*(1|predicate/pair_id)\n",
      "\n",
      "Family: binomial\t Inference: parametric\n",
      "\n",
      "Number of observations: 7752\t Groups: {'pair_id:predicate': 7751.0, 'predicate': 1626.0}\n",
      "\n",
      "Log-likelihood: -831.625 \t AIC: 1671.250\n",
      "\n",
      "Random effects:\n",
      "\n",
      "                          Name       Var     Std\n",
      "pair_id:predicate  (Intercept)  2633.902  51.322\n",
      "predicate          (Intercept)    80.713   8.984\n",
      "\n",
      "No random effect correlations specified\n",
      "\n",
      "Fixed effects:\n",
      "\n"
     ]
    },
    {
     "name": "stderr",
     "output_type": "stream",
     "text": [
      "/Users/lli/anaconda3/envs/metaphor/lib/python3.11/site-packages/pymer4/models/Lmer.py:733: FutureWarning: DataFrame.applymap has been deprecated. Use DataFrame.map instead.\n",
      "  ran_vars = ran_vars.applymap(\n"
     ]
    },
    {
     "name": "stdout",
     "output_type": "stream",
     "text": [
      "Linear mixed model fit by maximum likelihood  ['lmerMod']\n",
      "Formula: rating~1+position+(1|pair_id)\n",
      "\n",
      "Family: binomial\t Inference: parametric\n",
      "\n",
      "Number of observations: 7752\t Groups: {'pair_id': 7751.0}\n",
      "\n",
      "Log-likelihood: -840.812 \t AIC: 1687.623\n",
      "\n",
      "Random effects:\n",
      "\n",
      "                Name       Var     Std\n",
      "pair_id  (Intercept)  2903.566  53.885\n",
      "\n",
      "No random effect correlations specified\n",
      "\n",
      "Fixed effects:\n",
      "\n",
      "boundary (singular) fit: see help('isSingular') \n",
      "\n"
     ]
    },
    {
     "name": "stderr",
     "output_type": "stream",
     "text": [
      "/Users/lli/anaconda3/envs/metaphor/lib/python3.11/site-packages/pymer4/models/Lmer.py:733: FutureWarning: DataFrame.applymap has been deprecated. Use DataFrame.map instead.\n",
      "  ran_vars = ran_vars.applymap(\n"
     ]
    },
    {
     "name": "stdout",
     "output_type": "stream",
     "text": [
      "Linear mixed model fit by maximum likelihood  ['lmerMod']\n",
      "Formula: rating~1+position*(1|predicate/pair_id)\n",
      "\n",
      "Family: binomial\t Inference: parametric\n",
      "\n",
      "Number of observations: 7752\t Groups: {'pair_id:predicate': 7751.0, 'predicate': 1626.0}\n",
      "\n",
      "Log-likelihood: -810.927 \t AIC: 1629.853\n",
      "\n",
      "Random effects:\n",
      "\n",
      "                          Name       Var     Std\n",
      "pair_id:predicate  (Intercept)  2700.219  51.964\n",
      "predicate          (Intercept)     0.000   0.000\n",
      "\n",
      "No random effect correlations specified\n",
      "\n",
      "Fixed effects:\n",
      "\n"
     ]
    },
    {
     "name": "stderr",
     "output_type": "stream",
     "text": [
      "/Users/lli/anaconda3/envs/metaphor/lib/python3.11/site-packages/pymer4/models/Lmer.py:733: FutureWarning: DataFrame.applymap has been deprecated. Use DataFrame.map instead.\n",
      "  ran_vars = ran_vars.applymap(\n"
     ]
    },
    {
     "name": "stdout",
     "output_type": "stream",
     "text": [
      "Linear mixed model fit by maximum likelihood  ['lmerMod']\n",
      "Formula: rating~1+position+(1|pair_id)\n",
      "\n",
      "Family: binomial\t Inference: parametric\n",
      "\n",
      "Number of observations: 7752\t Groups: {'pair_id': 7751.0}\n",
      "\n",
      "Log-likelihood: -810.924 \t AIC: 1627.847\n",
      "\n",
      "Random effects:\n",
      "\n",
      "                Name       Var     Std\n",
      "pair_id  (Intercept)  2711.552  52.073\n",
      "\n",
      "No random effect correlations specified\n",
      "\n",
      "Fixed effects:\n",
      "\n",
      "boundary (singular) fit: see help('isSingular') \n",
      "\n"
     ]
    },
    {
     "name": "stderr",
     "output_type": "stream",
     "text": [
      "/Users/lli/anaconda3/envs/metaphor/lib/python3.11/site-packages/pymer4/models/Lmer.py:733: FutureWarning: DataFrame.applymap has been deprecated. Use DataFrame.map instead.\n",
      "  ran_vars = ran_vars.applymap(\n"
     ]
    },
    {
     "name": "stdout",
     "output_type": "stream",
     "text": [
      "Linear mixed model fit by maximum likelihood  ['lmerMod']\n",
      "Formula: rating~1+position*(1|predicate/pair_id)\n",
      "\n",
      "Family: binomial\t Inference: parametric\n",
      "\n",
      "Number of observations: 7752\t Groups: {'pair_id:predicate': 7751.0, 'predicate': 1626.0}\n",
      "\n",
      "Log-likelihood: -406.749 \t AIC: 821.498\n",
      "\n",
      "Random effects:\n",
      "\n",
      "                          Name      Var     Std\n",
      "pair_id:predicate  (Intercept)  3418.08  58.464\n",
      "predicate          (Intercept)     0.00   0.000\n",
      "\n",
      "No random effect correlations specified\n",
      "\n",
      "Fixed effects:\n",
      "\n"
     ]
    },
    {
     "name": "stderr",
     "output_type": "stream",
     "text": [
      "/Users/lli/anaconda3/envs/metaphor/lib/python3.11/site-packages/pymer4/models/Lmer.py:733: FutureWarning: DataFrame.applymap has been deprecated. Use DataFrame.map instead.\n",
      "  ran_vars = ran_vars.applymap(\n"
     ]
    },
    {
     "name": "stdout",
     "output_type": "stream",
     "text": [
      "Linear mixed model fit by maximum likelihood  ['lmerMod']\n",
      "Formula: rating~1+position+(1|pair_id)\n",
      "\n",
      "Family: binomial\t Inference: parametric\n",
      "\n",
      "Number of observations: 7752\t Groups: {'pair_id': 7751.0}\n",
      "\n",
      "Log-likelihood: -406.769 \t AIC: 819.539\n",
      "\n",
      "Random effects:\n",
      "\n",
      "                Name       Var     Std\n",
      "pair_id  (Intercept)  3343.725  57.825\n",
      "\n",
      "No random effect correlations specified\n",
      "\n",
      "Fixed effects:\n",
      "\n",
      "boundary (singular) fit: see help('isSingular') \n",
      "\n"
     ]
    },
    {
     "name": "stderr",
     "output_type": "stream",
     "text": [
      "/Users/lli/anaconda3/envs/metaphor/lib/python3.11/site-packages/pymer4/models/Lmer.py:733: FutureWarning: DataFrame.applymap has been deprecated. Use DataFrame.map instead.\n",
      "  ran_vars = ran_vars.applymap(\n"
     ]
    },
    {
     "name": "stdout",
     "output_type": "stream",
     "text": [
      "Linear mixed model fit by maximum likelihood  ['lmerMod']\n",
      "Formula: rating~1+position*(1|predicate/pair_id)\n",
      "\n",
      "Family: binomial\t Inference: parametric\n",
      "\n",
      "Number of observations: 7752\t Groups: {'pair_id:predicate': 7751.0, 'predicate': 1626.0}\n",
      "\n",
      "Log-likelihood: -3930.316 \t AIC: 7868.632\n",
      "\n",
      "Random effects:\n",
      "\n",
      "                          Name    Var    Std\n",
      "pair_id:predicate  (Intercept)  0.000  0.000\n",
      "predicate          (Intercept)  1.659  1.288\n",
      "\n",
      "No random effect correlations specified\n",
      "\n",
      "Fixed effects:\n",
      "\n"
     ]
    },
    {
     "name": "stderr",
     "output_type": "stream",
     "text": [
      "/Users/lli/anaconda3/envs/metaphor/lib/python3.11/site-packages/pymer4/models/Lmer.py:733: FutureWarning: DataFrame.applymap has been deprecated. Use DataFrame.map instead.\n",
      "  ran_vars = ran_vars.applymap(\n"
     ]
    },
    {
     "name": "stdout",
     "output_type": "stream",
     "text": [
      "Linear mixed model fit by maximum likelihood  ['lmerMod']\n",
      "Formula: rating~1+position+(1|pair_id)\n",
      "\n",
      "Family: binomial\t Inference: parametric\n",
      "\n",
      "Number of observations: 7752\t Groups: {'pair_id': 7751.0}\n",
      "\n",
      "Log-likelihood: -4260.915 \t AIC: 8527.831\n",
      "\n",
      "Random effects:\n",
      "\n",
      "                Name    Var    Std\n",
      "pair_id  (Intercept)  0.001  0.031\n",
      "\n",
      "No random effect correlations specified\n",
      "\n",
      "Fixed effects:\n",
      "\n"
     ]
    },
    {
     "name": "stderr",
     "output_type": "stream",
     "text": [
      "/Users/lli/anaconda3/envs/metaphor/lib/python3.11/site-packages/pymer4/models/Lmer.py:733: FutureWarning: DataFrame.applymap has been deprecated. Use DataFrame.map instead.\n",
      "  ran_vars = ran_vars.applymap(\n"
     ]
    },
    {
     "name": "stdout",
     "output_type": "stream",
     "text": [
      "Linear mixed model fit by maximum likelihood  ['lmerMod']\n",
      "Formula: rating~1+position*(1|predicate/pair_id)\n",
      "\n",
      "Family: binomial\t Inference: parametric\n",
      "\n",
      "Number of observations: 7752\t Groups: {'pair_id:predicate': 7751.0, 'predicate': 1626.0}\n",
      "\n",
      "Log-likelihood: -4131.178 \t AIC: 8270.356\n",
      "\n",
      "Random effects:\n",
      "\n",
      "                          Name    Var    Std\n",
      "pair_id:predicate  (Intercept)  0.000  0.000\n",
      "predicate          (Intercept)  1.534  1.239\n",
      "\n",
      "No random effect correlations specified\n",
      "\n",
      "Fixed effects:\n",
      "\n"
     ]
    },
    {
     "name": "stderr",
     "output_type": "stream",
     "text": [
      "/Users/lli/anaconda3/envs/metaphor/lib/python3.11/site-packages/pymer4/models/Lmer.py:733: FutureWarning: DataFrame.applymap has been deprecated. Use DataFrame.map instead.\n",
      "  ran_vars = ran_vars.applymap(\n"
     ]
    },
    {
     "name": "stdout",
     "output_type": "stream",
     "text": [
      "Linear mixed model fit by maximum likelihood  ['lmerMod']\n",
      "Formula: rating~1+position+(1|pair_id)\n",
      "\n",
      "Family: binomial\t Inference: parametric\n",
      "\n",
      "Number of observations: 7752\t Groups: {'pair_id': 7751.0}\n",
      "\n",
      "Log-likelihood: -4467.315 \t AIC: 8940.631\n",
      "\n",
      "Random effects:\n",
      "\n",
      "                Name    Var    Std\n",
      "pair_id  (Intercept)  0.001  0.024\n",
      "\n",
      "No random effect correlations specified\n",
      "\n",
      "Fixed effects:\n",
      "\n"
     ]
    },
    {
     "name": "stderr",
     "output_type": "stream",
     "text": [
      "/Users/lli/anaconda3/envs/metaphor/lib/python3.11/site-packages/pymer4/models/Lmer.py:733: FutureWarning: DataFrame.applymap has been deprecated. Use DataFrame.map instead.\n",
      "  ran_vars = ran_vars.applymap(\n"
     ]
    },
    {
     "name": "stdout",
     "output_type": "stream",
     "text": [
      "Linear mixed model fit by maximum likelihood  ['lmerMod']\n",
      "Formula: rating~1+position*(1|predicate/pair_id)\n",
      "\n",
      "Family: binomial\t Inference: parametric\n",
      "\n",
      "Number of observations: 7752\t Groups: {'pair_id:predicate': 7751.0, 'predicate': 1626.0}\n",
      "\n",
      "Log-likelihood: -945.789 \t AIC: 1899.578\n",
      "\n",
      "Random effects:\n",
      "\n",
      "                          Name       Var     Std\n",
      "pair_id:predicate  (Intercept)  2431.271  49.308\n",
      "predicate          (Intercept)    74.847   8.651\n",
      "\n",
      "No random effect correlations specified\n",
      "\n",
      "Fixed effects:\n",
      "\n"
     ]
    },
    {
     "name": "stderr",
     "output_type": "stream",
     "text": [
      "/Users/lli/anaconda3/envs/metaphor/lib/python3.11/site-packages/pymer4/models/Lmer.py:733: FutureWarning: DataFrame.applymap has been deprecated. Use DataFrame.map instead.\n",
      "  ran_vars = ran_vars.applymap(\n"
     ]
    },
    {
     "name": "stdout",
     "output_type": "stream",
     "text": [
      "Linear mixed model fit by maximum likelihood  ['lmerMod']\n",
      "Formula: rating~1+position+(1|pair_id)\n",
      "\n",
      "Family: binomial\t Inference: parametric\n",
      "\n",
      "Number of observations: 7752\t Groups: {'pair_id': 7751.0}\n",
      "\n",
      "Log-likelihood: -952.405 \t AIC: 1910.810\n",
      "\n",
      "Random effects:\n",
      "\n",
      "                Name       Var     Std\n",
      "pair_id  (Intercept)  2609.013  51.079\n",
      "\n",
      "No random effect correlations specified\n",
      "\n",
      "Fixed effects:\n",
      "\n",
      "boundary (singular) fit: see help('isSingular') \n",
      "\n"
     ]
    },
    {
     "name": "stderr",
     "output_type": "stream",
     "text": [
      "/Users/lli/anaconda3/envs/metaphor/lib/python3.11/site-packages/pymer4/models/Lmer.py:733: FutureWarning: DataFrame.applymap has been deprecated. Use DataFrame.map instead.\n",
      "  ran_vars = ran_vars.applymap(\n"
     ]
    },
    {
     "name": "stdout",
     "output_type": "stream",
     "text": [
      "Linear mixed model fit by maximum likelihood  ['lmerMod']\n",
      "Formula: rating~1+position*(1|predicate/pair_id)\n",
      "\n",
      "Family: binomial\t Inference: parametric\n",
      "\n",
      "Number of observations: 7752\t Groups: {'pair_id:predicate': 7751.0, 'predicate': 1626.0}\n",
      "\n",
      "Log-likelihood: -4660.039 \t AIC: 9328.078\n",
      "\n",
      "Random effects:\n",
      "\n",
      "                          Name    Var    Std\n",
      "pair_id:predicate  (Intercept)  0.000  0.000\n",
      "predicate          (Intercept)  1.497  1.224\n",
      "\n",
      "No random effect correlations specified\n",
      "\n",
      "Fixed effects:\n",
      "\n"
     ]
    },
    {
     "name": "stderr",
     "output_type": "stream",
     "text": [
      "/Users/lli/anaconda3/envs/metaphor/lib/python3.11/site-packages/pymer4/models/Lmer.py:733: FutureWarning: DataFrame.applymap has been deprecated. Use DataFrame.map instead.\n",
      "  ran_vars = ran_vars.applymap(\n"
     ]
    },
    {
     "name": "stdout",
     "output_type": "stream",
     "text": [
      "Linear mixed model fit by maximum likelihood  ['lmerMod']\n",
      "Formula: rating~1+position+(1|pair_id)\n",
      "\n",
      "Family: binomial\t Inference: parametric\n",
      "\n",
      "Number of observations: 7752\t Groups: {'pair_id': 7751.0}\n",
      "\n",
      "Log-likelihood: -4994.529 \t AIC: 9995.059\n",
      "\n",
      "Random effects:\n",
      "\n",
      "                Name    Var    Std\n",
      "pair_id  (Intercept)  0.001  0.035\n",
      "\n",
      "No random effect correlations specified\n",
      "\n",
      "Fixed effects:\n",
      "\n"
     ]
    },
    {
     "name": "stderr",
     "output_type": "stream",
     "text": [
      "/Users/lli/anaconda3/envs/metaphor/lib/python3.11/site-packages/pymer4/models/Lmer.py:733: FutureWarning: DataFrame.applymap has been deprecated. Use DataFrame.map instead.\n",
      "  ran_vars = ran_vars.applymap(\n"
     ]
    },
    {
     "name": "stdout",
     "output_type": "stream",
     "text": [
      "Linear mixed model fit by maximum likelihood  ['lmerMod']\n",
      "Formula: rating~1+position*(1|predicate/pair_id)\n",
      "\n",
      "Family: binomial\t Inference: parametric\n",
      "\n",
      "Number of observations: 7752\t Groups: {'pair_id:predicate': 7751.0, 'predicate': 1626.0}\n",
      "\n",
      "Log-likelihood: -2897.512 \t AIC: 5803.025\n",
      "\n",
      "Random effects:\n",
      "\n",
      "                          Name    Var    Std\n",
      "pair_id:predicate  (Intercept)  0.000  0.000\n",
      "predicate          (Intercept)  4.701  2.168\n",
      "\n",
      "No random effect correlations specified\n",
      "\n",
      "Fixed effects:\n",
      "\n"
     ]
    },
    {
     "name": "stderr",
     "output_type": "stream",
     "text": [
      "/Users/lli/anaconda3/envs/metaphor/lib/python3.11/site-packages/pymer4/models/Lmer.py:733: FutureWarning: DataFrame.applymap has been deprecated. Use DataFrame.map instead.\n",
      "  ran_vars = ran_vars.applymap(\n"
     ]
    },
    {
     "name": "stdout",
     "output_type": "stream",
     "text": [
      "Linear mixed model fit by maximum likelihood  ['lmerMod']\n",
      "Formula: rating~1+position+(1|pair_id)\n",
      "\n",
      "Family: binomial\t Inference: parametric\n",
      "\n",
      "Number of observations: 7752\t Groups: {'pair_id': 7751.0}\n",
      "\n",
      "Log-likelihood: -3459.442 \t AIC: 6924.885\n",
      "\n",
      "Random effects:\n",
      "\n",
      "                Name    Var    Std\n",
      "pair_id  (Intercept)  0.001  0.037\n",
      "\n",
      "No random effect correlations specified\n",
      "\n",
      "Fixed effects:\n",
      "\n"
     ]
    },
    {
     "name": "stderr",
     "output_type": "stream",
     "text": [
      "/Users/lli/anaconda3/envs/metaphor/lib/python3.11/site-packages/pymer4/models/Lmer.py:733: FutureWarning: DataFrame.applymap has been deprecated. Use DataFrame.map instead.\n",
      "  ran_vars = ran_vars.applymap(\n"
     ]
    },
    {
     "name": "stdout",
     "output_type": "stream",
     "text": [
      "Linear mixed model fit by maximum likelihood  ['lmerMod']\n",
      "Formula: rating~1+position*(1|predicate/pair_id)\n",
      "\n",
      "Family: binomial\t Inference: parametric\n",
      "\n",
      "Number of observations: 7752\t Groups: {'pair_id:predicate': 7751.0, 'predicate': 1626.0}\n",
      "\n",
      "Log-likelihood: -1002.573 \t AIC: 2013.146\n",
      "\n",
      "Random effects:\n",
      "\n",
      "                          Name       Var     Std\n",
      "pair_id:predicate  (Intercept)  2780.987  52.735\n",
      "predicate          (Intercept)    16.211   4.026\n",
      "\n",
      "No random effect correlations specified\n",
      "\n",
      "Fixed effects:\n",
      "\n"
     ]
    },
    {
     "name": "stderr",
     "output_type": "stream",
     "text": [
      "/Users/lli/anaconda3/envs/metaphor/lib/python3.11/site-packages/pymer4/models/Lmer.py:733: FutureWarning: DataFrame.applymap has been deprecated. Use DataFrame.map instead.\n",
      "  ran_vars = ran_vars.applymap(\n"
     ]
    },
    {
     "name": "stdout",
     "output_type": "stream",
     "text": [
      "Linear mixed model fit by maximum likelihood  ['lmerMod']\n",
      "Formula: rating~1+position+(1|pair_id)\n",
      "\n",
      "Family: binomial\t Inference: parametric\n",
      "\n",
      "Number of observations: 7752\t Groups: {'pair_id': 7751.0}\n",
      "\n",
      "Log-likelihood: -1002.688 \t AIC: 2011.377\n",
      "\n",
      "Random effects:\n",
      "\n",
      "                Name       Var     Std\n",
      "pair_id  (Intercept)  2785.043  52.774\n",
      "\n",
      "No random effect correlations specified\n",
      "\n",
      "Fixed effects:\n",
      "\n"
     ]
    },
    {
     "name": "stderr",
     "output_type": "stream",
     "text": [
      "/Users/lli/anaconda3/envs/metaphor/lib/python3.11/site-packages/pymer4/models/Lmer.py:733: FutureWarning: DataFrame.applymap has been deprecated. Use DataFrame.map instead.\n",
      "  ran_vars = ran_vars.applymap(\n"
     ]
    },
    {
     "name": "stdout",
     "output_type": "stream",
     "text": [
      "Linear mixed model fit by maximum likelihood  ['lmerMod']\n",
      "Formula: rating~1+position*(1|predicate/pair_id)\n",
      "\n",
      "Family: binomial\t Inference: parametric\n",
      "\n",
      "Number of observations: 7752\t Groups: {'pair_id:predicate': 7751.0, 'predicate': 1626.0}\n",
      "\n",
      "Log-likelihood: -2878.636 \t AIC: 5765.272\n",
      "\n",
      "Random effects:\n",
      "\n",
      "                          Name    Var    Std\n",
      "pair_id:predicate  (Intercept)  0.241  0.491\n",
      "predicate          (Intercept)  6.411  2.532\n",
      "\n",
      "No random effect correlations specified\n",
      "\n",
      "Fixed effects:\n",
      "\n"
     ]
    },
    {
     "name": "stderr",
     "output_type": "stream",
     "text": [
      "/Users/lli/anaconda3/envs/metaphor/lib/python3.11/site-packages/pymer4/models/Lmer.py:733: FutureWarning: DataFrame.applymap has been deprecated. Use DataFrame.map instead.\n",
      "  ran_vars = ran_vars.applymap(\n"
     ]
    },
    {
     "name": "stdout",
     "output_type": "stream",
     "text": [
      "Linear mixed model fit by maximum likelihood  ['lmerMod']\n",
      "Formula: rating~1+position+(1|pair_id)\n",
      "\n",
      "Family: binomial\t Inference: parametric\n",
      "\n",
      "Number of observations: 7752\t Groups: {'pair_id': 7751.0}\n",
      "\n",
      "Log-likelihood: -1850.936 \t AIC: 3707.872\n",
      "\n",
      "Random effects:\n",
      "\n",
      "                Name       Var    Std\n",
      "pair_id  (Intercept)  2286.729  47.82\n",
      "\n",
      "No random effect correlations specified\n",
      "\n",
      "Fixed effects:\n",
      "\n",
      "boundary (singular) fit: see help('isSingular') \n",
      "\n"
     ]
    },
    {
     "name": "stderr",
     "output_type": "stream",
     "text": [
      "/Users/lli/anaconda3/envs/metaphor/lib/python3.11/site-packages/pymer4/models/Lmer.py:733: FutureWarning: DataFrame.applymap has been deprecated. Use DataFrame.map instead.\n",
      "  ran_vars = ran_vars.applymap(\n"
     ]
    },
    {
     "name": "stdout",
     "output_type": "stream",
     "text": [
      "Linear mixed model fit by maximum likelihood  ['lmerMod']\n",
      "Formula: rating~1+position*(1|predicate/pair_id)\n",
      "\n",
      "Family: binomial\t Inference: parametric\n",
      "\n",
      "Number of observations: 7752\t Groups: {'pair_id:predicate': 7751.0, 'predicate': 1626.0}\n",
      "\n",
      "Log-likelihood: -3874.482 \t AIC: 7756.964\n",
      "\n",
      "Random effects:\n",
      "\n",
      "                          Name    Var    Std\n",
      "pair_id:predicate  (Intercept)  0.000  0.000\n",
      "predicate          (Intercept)  2.215  1.488\n",
      "\n",
      "No random effect correlations specified\n",
      "\n",
      "Fixed effects:\n",
      "\n"
     ]
    },
    {
     "name": "stderr",
     "output_type": "stream",
     "text": [
      "/Users/lli/anaconda3/envs/metaphor/lib/python3.11/site-packages/pymer4/models/Lmer.py:733: FutureWarning: DataFrame.applymap has been deprecated. Use DataFrame.map instead.\n",
      "  ran_vars = ran_vars.applymap(\n"
     ]
    },
    {
     "name": "stdout",
     "output_type": "stream",
     "text": [
      "Linear mixed model fit by maximum likelihood  ['lmerMod']\n",
      "Formula: rating~1+position+(1|pair_id)\n",
      "\n",
      "Family: binomial\t Inference: parametric\n",
      "\n",
      "Number of observations: 7752\t Groups: {'pair_id': 7751.0}\n",
      "\n",
      "Log-likelihood: -4289.076 \t AIC: 8584.153\n",
      "\n",
      "Random effects:\n",
      "\n",
      "                Name    Var    Std\n",
      "pair_id  (Intercept)  0.002  0.041\n",
      "\n",
      "No random effect correlations specified\n",
      "\n",
      "Fixed effects:\n",
      "\n",
      "boundary (singular) fit: see help('isSingular') \n",
      "\n"
     ]
    },
    {
     "name": "stderr",
     "output_type": "stream",
     "text": [
      "/Users/lli/anaconda3/envs/metaphor/lib/python3.11/site-packages/pymer4/models/Lmer.py:733: FutureWarning: DataFrame.applymap has been deprecated. Use DataFrame.map instead.\n",
      "  ran_vars = ran_vars.applymap(\n"
     ]
    },
    {
     "name": "stdout",
     "output_type": "stream",
     "text": [
      "Linear mixed model fit by maximum likelihood  ['lmerMod']\n",
      "Formula: rating~1+position*(1|predicate/pair_id)\n",
      "\n",
      "Family: binomial\t Inference: parametric\n",
      "\n",
      "Number of observations: 7752\t Groups: {'pair_id:predicate': 7751.0, 'predicate': 1626.0}\n",
      "\n",
      "Log-likelihood: -4255.824 \t AIC: 8519.649\n",
      "\n",
      "Random effects:\n",
      "\n",
      "                          Name    Var    Std\n",
      "pair_id:predicate  (Intercept)  0.000  0.000\n",
      "predicate          (Intercept)  3.658  1.913\n",
      "\n",
      "No random effect correlations specified\n",
      "\n",
      "Fixed effects:\n",
      "\n",
      "boundary (singular) fit: see help('isSingular') \n",
      "\n"
     ]
    },
    {
     "name": "stderr",
     "output_type": "stream",
     "text": [
      "/Users/lli/anaconda3/envs/metaphor/lib/python3.11/site-packages/pymer4/models/Lmer.py:733: FutureWarning: DataFrame.applymap has been deprecated. Use DataFrame.map instead.\n",
      "  ran_vars = ran_vars.applymap(\n"
     ]
    },
    {
     "name": "stdout",
     "output_type": "stream",
     "text": [
      "Linear mixed model fit by maximum likelihood  ['lmerMod']\n",
      "Formula: rating~1+position+(1|pair_id)\n",
      "\n",
      "Family: binomial\t Inference: parametric\n",
      "\n",
      "Number of observations: 7752\t Groups: {'pair_id': 7751.0}\n",
      "\n",
      "Log-likelihood: -5130.112 \t AIC: 10266.224\n",
      "\n",
      "Random effects:\n",
      "\n",
      "                Name  Var  Std\n",
      "pair_id  (Intercept)  0.0  0.0\n",
      "\n",
      "No random effect correlations specified\n",
      "\n",
      "Fixed effects:\n",
      "\n"
     ]
    },
    {
     "name": "stderr",
     "output_type": "stream",
     "text": [
      "/var/folders/lq/kd3wh6952vg99n5ppf4srz9w0000gn/T/ipykernel_12678/3807035338.py:33: RuntimeWarning: divide by zero encountered in scalar divide\n",
      "  verb_sentence_var = var_from_verb / var_pair_id_full\n"
     ]
    },
    {
     "name": "stdout",
     "output_type": "stream",
     "text": [
      "boundary (singular) fit: see help('isSingular') \n",
      "\n"
     ]
    },
    {
     "name": "stderr",
     "output_type": "stream",
     "text": [
      "/Users/lli/anaconda3/envs/metaphor/lib/python3.11/site-packages/pymer4/models/Lmer.py:733: FutureWarning: DataFrame.applymap has been deprecated. Use DataFrame.map instead.\n",
      "  ran_vars = ran_vars.applymap(\n"
     ]
    },
    {
     "name": "stdout",
     "output_type": "stream",
     "text": [
      "Linear mixed model fit by maximum likelihood  ['lmerMod']\n",
      "Formula: rating~1+position*(1|predicate/pair_id)\n",
      "\n",
      "Family: binomial\t Inference: parametric\n",
      "\n",
      "Number of observations: 7752\t Groups: {'pair_id:predicate': 7751.0, 'predicate': 1626.0}\n",
      "\n",
      "Log-likelihood: -3789.408 \t AIC: 7586.816\n",
      "\n",
      "Random effects:\n",
      "\n",
      "                          Name    Var   Std\n",
      "pair_id:predicate  (Intercept)  0.000  0.00\n",
      "predicate          (Intercept)  2.074  1.44\n",
      "\n",
      "No random effect correlations specified\n",
      "\n",
      "Fixed effects:\n",
      "\n"
     ]
    },
    {
     "name": "stderr",
     "output_type": "stream",
     "text": [
      "/Users/lli/anaconda3/envs/metaphor/lib/python3.11/site-packages/pymer4/models/Lmer.py:733: FutureWarning: DataFrame.applymap has been deprecated. Use DataFrame.map instead.\n",
      "  ran_vars = ran_vars.applymap(\n"
     ]
    },
    {
     "name": "stdout",
     "output_type": "stream",
     "text": [
      "Linear mixed model fit by maximum likelihood  ['lmerMod']\n",
      "Formula: rating~1+position+(1|pair_id)\n",
      "\n",
      "Family: binomial\t Inference: parametric\n",
      "\n",
      "Number of observations: 7752\t Groups: {'pair_id': 7751.0}\n",
      "\n",
      "Log-likelihood: -4160.642 \t AIC: 8327.283\n",
      "\n",
      "Random effects:\n",
      "\n",
      "                Name    Var    Std\n",
      "pair_id  (Intercept)  0.002  0.039\n",
      "\n",
      "No random effect correlations specified\n",
      "\n",
      "Fixed effects:\n",
      "\n"
     ]
    },
    {
     "name": "stderr",
     "output_type": "stream",
     "text": [
      "/Users/lli/anaconda3/envs/metaphor/lib/python3.11/site-packages/pymer4/models/Lmer.py:733: FutureWarning: DataFrame.applymap has been deprecated. Use DataFrame.map instead.\n",
      "  ran_vars = ran_vars.applymap(\n"
     ]
    },
    {
     "name": "stdout",
     "output_type": "stream",
     "text": [
      "Linear mixed model fit by maximum likelihood  ['lmerMod']\n",
      "Formula: rating~1+position*(1|predicate/pair_id)\n",
      "\n",
      "Family: binomial\t Inference: parametric\n",
      "\n",
      "Number of observations: 7752\t Groups: {'pair_id:predicate': 7751.0, 'predicate': 1626.0}\n",
      "\n",
      "Log-likelihood: -391.427 \t AIC: 790.854\n",
      "\n",
      "Random effects:\n",
      "\n",
      "                          Name       Var     Std\n",
      "pair_id:predicate  (Intercept)  3364.798  58.007\n",
      "predicate          (Intercept)   125.309  11.194\n",
      "\n",
      "No random effect correlations specified\n",
      "\n",
      "Fixed effects:\n",
      "\n"
     ]
    },
    {
     "name": "stderr",
     "output_type": "stream",
     "text": [
      "/Users/lli/anaconda3/envs/metaphor/lib/python3.11/site-packages/pymer4/models/Lmer.py:733: FutureWarning: DataFrame.applymap has been deprecated. Use DataFrame.map instead.\n",
      "  ran_vars = ran_vars.applymap(\n"
     ]
    },
    {
     "name": "stdout",
     "output_type": "stream",
     "text": [
      "Linear mixed model fit by maximum likelihood  ['lmerMod']\n",
      "Formula: rating~1+position+(1|pair_id)\n",
      "\n",
      "Family: binomial\t Inference: parametric\n",
      "\n",
      "Number of observations: 7752\t Groups: {'pair_id': 7751.0}\n",
      "\n",
      "Log-likelihood: -393.185 \t AIC: 792.370\n",
      "\n",
      "Random effects:\n",
      "\n",
      "                Name       Var     Std\n",
      "pair_id  (Intercept)  3531.387  59.425\n",
      "\n",
      "No random effect correlations specified\n",
      "\n",
      "Fixed effects:\n",
      "\n",
      "Model failed to converge with max|grad| = 0.0128567 (tol = 0.002, component 1) \n",
      "\n"
     ]
    },
    {
     "name": "stderr",
     "output_type": "stream",
     "text": [
      "/Users/lli/anaconda3/envs/metaphor/lib/python3.11/site-packages/pymer4/models/Lmer.py:733: FutureWarning: DataFrame.applymap has been deprecated. Use DataFrame.map instead.\n",
      "  ran_vars = ran_vars.applymap(\n"
     ]
    },
    {
     "name": "stdout",
     "output_type": "stream",
     "text": [
      "Linear mixed model fit by maximum likelihood  ['lmerMod']\n",
      "Formula: rating~1+position*(1|predicate/pair_id)\n",
      "\n",
      "Family: binomial\t Inference: parametric\n",
      "\n",
      "Number of observations: 7752\t Groups: {'pair_id:predicate': 7751.0, 'predicate': 1626.0}\n",
      "\n",
      "Log-likelihood: -3396.519 \t AIC: 6801.038\n",
      "\n",
      "Random effects:\n",
      "\n",
      "                          Name    Var    Std\n",
      "pair_id:predicate  (Intercept)  0.000  0.001\n",
      "predicate          (Intercept)  4.678  2.163\n",
      "\n",
      "No random effect correlations specified\n",
      "\n",
      "Fixed effects:\n",
      "\n"
     ]
    },
    {
     "name": "stderr",
     "output_type": "stream",
     "text": [
      "/Users/lli/anaconda3/envs/metaphor/lib/python3.11/site-packages/pymer4/models/Lmer.py:733: FutureWarning: DataFrame.applymap has been deprecated. Use DataFrame.map instead.\n",
      "  ran_vars = ran_vars.applymap(\n"
     ]
    },
    {
     "name": "stdout",
     "output_type": "stream",
     "text": [
      "Linear mixed model fit by maximum likelihood  ['lmerMod']\n",
      "Formula: rating~1+position+(1|pair_id)\n",
      "\n",
      "Family: binomial\t Inference: parametric\n",
      "\n",
      "Number of observations: 7752\t Groups: {'pair_id': 7751.0}\n",
      "\n",
      "Log-likelihood: -4098.774 \t AIC: 8203.548\n",
      "\n",
      "Random effects:\n",
      "\n",
      "                Name    Var    Std\n",
      "pair_id  (Intercept)  0.001  0.039\n",
      "\n",
      "No random effect correlations specified\n",
      "\n",
      "Fixed effects:\n",
      "\n"
     ]
    },
    {
     "data": {
      "text/html": [
       "<div>\n",
       "<style scoped>\n",
       "    .dataframe tbody tr th:only-of-type {\n",
       "        vertical-align: middle;\n",
       "    }\n",
       "\n",
       "    .dataframe tbody tr th {\n",
       "        vertical-align: top;\n",
       "    }\n",
       "\n",
       "    .dataframe thead th {\n",
       "        text-align: right;\n",
       "    }\n",
       "</style>\n",
       "<table border=\"1\" class=\"dataframe\">\n",
       "  <thead>\n",
       "    <tr style=\"text-align: right;\">\n",
       "      <th></th>\n",
       "      <th>property</th>\n",
       "      <th>sentence var from verb</th>\n",
       "    </tr>\n",
       "  </thead>\n",
       "  <tbody>\n",
       "    <tr>\n",
       "      <th>0</th>\n",
       "      <td>awareness</td>\n",
       "      <td>1.000000</td>\n",
       "    </tr>\n",
       "    <tr>\n",
       "      <th>1</th>\n",
       "      <td>change_of_location</td>\n",
       "      <td>-0.000013</td>\n",
       "    </tr>\n",
       "    <tr>\n",
       "      <th>2</th>\n",
       "      <td>change_of_state</td>\n",
       "      <td>-165.006313</td>\n",
       "    </tr>\n",
       "    <tr>\n",
       "      <th>3</th>\n",
       "      <td>changes_possession</td>\n",
       "      <td>0.092873</td>\n",
       "    </tr>\n",
       "    <tr>\n",
       "      <th>4</th>\n",
       "      <td>created</td>\n",
       "      <td>0.004179</td>\n",
       "    </tr>\n",
       "    <tr>\n",
       "      <th>5</th>\n",
       "      <td>destroyed</td>\n",
       "      <td>-0.022237</td>\n",
       "    </tr>\n",
       "    <tr>\n",
       "      <th>6</th>\n",
       "      <td>existed_after</td>\n",
       "      <td>1.000000</td>\n",
       "    </tr>\n",
       "    <tr>\n",
       "      <th>7</th>\n",
       "      <td>existed_before</td>\n",
       "      <td>0.999945</td>\n",
       "    </tr>\n",
       "    <tr>\n",
       "      <th>8</th>\n",
       "      <td>existed_during</td>\n",
       "      <td>0.068126</td>\n",
       "    </tr>\n",
       "    <tr>\n",
       "      <th>9</th>\n",
       "      <td>exists_as_physical</td>\n",
       "      <td>0.999999</td>\n",
       "    </tr>\n",
       "    <tr>\n",
       "      <th>10</th>\n",
       "      <td>instigation</td>\n",
       "      <td>0.999973</td>\n",
       "    </tr>\n",
       "    <tr>\n",
       "      <th>11</th>\n",
       "      <td>location_of_event</td>\n",
       "      <td>0.001457</td>\n",
       "    </tr>\n",
       "    <tr>\n",
       "      <th>12</th>\n",
       "      <td>makes_physical_contact</td>\n",
       "      <td>0.999895</td>\n",
       "    </tr>\n",
       "    <tr>\n",
       "      <th>13</th>\n",
       "      <td>manipulated_by_another</td>\n",
       "      <td>1.000000</td>\n",
       "    </tr>\n",
       "    <tr>\n",
       "      <th>14</th>\n",
       "      <td>predicate_changed_argument</td>\n",
       "      <td>-inf</td>\n",
       "    </tr>\n",
       "    <tr>\n",
       "      <th>15</th>\n",
       "      <td>sentient</td>\n",
       "      <td>1.000000</td>\n",
       "    </tr>\n",
       "    <tr>\n",
       "      <th>16</th>\n",
       "      <td>stationary</td>\n",
       "      <td>0.047174</td>\n",
       "    </tr>\n",
       "    <tr>\n",
       "      <th>17</th>\n",
       "      <td>volition</td>\n",
       "      <td>0.998909</td>\n",
       "    </tr>\n",
       "  </tbody>\n",
       "</table>\n",
       "</div>"
      ],
      "text/plain": [
       "                      property  sentence var from verb\n",
       "0                    awareness                1.000000\n",
       "1           change_of_location               -0.000013\n",
       "2              change_of_state             -165.006313\n",
       "3           changes_possession                0.092873\n",
       "4                      created                0.004179\n",
       "5                    destroyed               -0.022237\n",
       "6                existed_after                1.000000\n",
       "7               existed_before                0.999945\n",
       "8               existed_during                0.068126\n",
       "9           exists_as_physical                0.999999\n",
       "10                 instigation                0.999973\n",
       "11           location_of_event                0.001457\n",
       "12      makes_physical_contact                0.999895\n",
       "13      manipulated_by_another                1.000000\n",
       "14  predicate_changed_argument                    -inf\n",
       "15                    sentient                1.000000\n",
       "16                  stationary                0.047174\n",
       "17                    volition                0.998909"
      ]
     },
     "execution_count": 12,
     "metadata": {},
     "output_type": "execute_result"
    }
   ],
   "source": [
    "verb_vars = []\n",
    "for property in properties_list:\n",
    "    verb_vars.append(find_verb_var(property, verb_name=\"Roleset\", family=\"binomial\"))\n",
    "\n",
    "verb_vars = pd.DataFrame(verb_vars)\n",
    "verb_vars\n"
   ]
  },
  {
   "cell_type": "markdown",
   "metadata": {},
   "source": [
    "### Using word senses for verb"
   ]
  },
  {
   "cell_type": "code",
   "execution_count": 13,
   "metadata": {},
   "outputs": [
    {
     "data": {
      "text/html": [
       "<div>\n",
       "<style scoped>\n",
       "    .dataframe tbody tr th:only-of-type {\n",
       "        vertical-align: middle;\n",
       "    }\n",
       "\n",
       "    .dataframe tbody tr th {\n",
       "        vertical-align: top;\n",
       "    }\n",
       "\n",
       "    .dataframe thead th {\n",
       "        text-align: right;\n",
       "    }\n",
       "</style>\n",
       "<table border=\"1\" class=\"dataframe\">\n",
       "  <thead>\n",
       "    <tr style=\"text-align: right;\">\n",
       "      <th></th>\n",
       "      <th>Sentence</th>\n",
       "      <th>Sentence.Disambiguated</th>\n",
       "      <th>disambiguated_dict</th>\n",
       "    </tr>\n",
       "    <tr>\n",
       "      <th>Sentence.ID</th>\n",
       "      <th></th>\n",
       "      <th></th>\n",
       "      <th></th>\n",
       "    </tr>\n",
       "  </thead>\n",
       "  <tbody>\n",
       "    <tr>\n",
       "      <th>0003_21</th>\n",
       "      <td>In July , the Environmental Protection Agency ...</td>\n",
       "      <td>In July|july%1:28:00:: , the Environmental Pro...</td>\n",
       "      <td>{'July': 'july.n.01', 'Protection': 'protectio...</td>\n",
       "    </tr>\n",
       "    <tr>\n",
       "      <th>0003_25</th>\n",
       "      <td>Workers dumped large burlap sacks of the impor...</td>\n",
       "      <td>Workers|worker%1:18:00:: dumped|dump%2:40:00::...</td>\n",
       "      <td>{'Workers': 'worker.n.01', 'dumped': 'dump.v.0...</td>\n",
       "    </tr>\n",
       "    <tr>\n",
       "      <th>0003_29</th>\n",
       "      <td>It has no bearing on our work force today .</td>\n",
       "      <td>It has|have%2:40:00:: no bearing|bearing%1:24:...</td>\n",
       "      <td>{'has': 'have.v.01', 'bearing': 'bearing.n.01'...</td>\n",
       "    </tr>\n",
       "    <tr>\n",
       "      <th>0003_3</th>\n",
       "      <td>Although preliminary findings were reported *-...</td>\n",
       "      <td>Although preliminary|preliminary%3:00:00:explo...</td>\n",
       "      <td>{'preliminary': 'preliminary.s.01', 'findings'...</td>\n",
       "    </tr>\n",
       "    <tr>\n",
       "      <th>0003_9</th>\n",
       "      <td>Dr. Talcott led a team of researchers from the...</td>\n",
       "      <td>Dr.|dr.%1:18:00:: Talcott led|lead%2:38:01:: a...</td>\n",
       "      <td>{'Dr.': 'doctor.n.01', 'led': 'lead.v.01', 'te...</td>\n",
       "    </tr>\n",
       "  </tbody>\n",
       "</table>\n",
       "</div>"
      ],
      "text/plain": [
       "                                                      Sentence  \\\n",
       "Sentence.ID                                                      \n",
       "0003_21      In July , the Environmental Protection Agency ...   \n",
       "0003_25      Workers dumped large burlap sacks of the impor...   \n",
       "0003_29            It has no bearing on our work force today .   \n",
       "0003_3       Although preliminary findings were reported *-...   \n",
       "0003_9       Dr. Talcott led a team of researchers from the...   \n",
       "\n",
       "                                        Sentence.Disambiguated  \\\n",
       "Sentence.ID                                                      \n",
       "0003_21      In July|july%1:28:00:: , the Environmental Pro...   \n",
       "0003_25      Workers|worker%1:18:00:: dumped|dump%2:40:00::...   \n",
       "0003_29      It has|have%2:40:00:: no bearing|bearing%1:24:...   \n",
       "0003_3       Although preliminary|preliminary%3:00:00:explo...   \n",
       "0003_9       Dr.|dr.%1:18:00:: Talcott led|lead%2:38:01:: a...   \n",
       "\n",
       "                                            disambiguated_dict  \n",
       "Sentence.ID                                                     \n",
       "0003_21      {'July': 'july.n.01', 'Protection': 'protectio...  \n",
       "0003_25      {'Workers': 'worker.n.01', 'dumped': 'dump.v.0...  \n",
       "0003_29      {'has': 'have.v.01', 'bearing': 'bearing.n.01'...  \n",
       "0003_3       {'preliminary': 'preliminary.s.01', 'findings'...  \n",
       "0003_9       {'Dr.': 'doctor.n.01', 'led': 'lead.v.01', 'te...  "
      ]
     },
     "execution_count": 13,
     "metadata": {},
     "output_type": "execute_result"
    }
   ],
   "source": [
    "disambiguated = pd.read_csv(\"../wordnet/disambiguated_sentencesV1.csv\", index_col=0).set_index(\"Sentence.ID\")\n",
    "disambiguated.head()\n"
   ]
  },
  {
   "cell_type": "code",
   "execution_count": 15,
   "metadata": {},
   "outputs": [
    {
     "name": "stdout",
     "output_type": "stream",
     "text": [
      "sense {'active': 'active.a.05', 'suspension': 'suspension.n.05', 'systems': 'system.n.01', 'electronically': 'electronically.r.01', 'road': 'road.n.01', 'conditions': 'weather.n.01', 'adjust': 'adjust.v.01', 'car': 'car.n.01', 'ride': 'ride.n.02'}\n",
      "These `` active|active%3:00:01:: suspension|suspension%1:06:00:: systems|system%1:06:00:: '' electronically|electronically%4:02:00:: sense road|road%1:06:00:: conditions|conditions%1:19:00:: and adjust|adjust%2:30:00:: a car|car%1:06:00:: 's ride|ride%1:06:00:: . \n",
      "\n",
      "sense {'active': 'active.a.05', 'suspension': 'suspension.n.05', 'systems': 'system.n.01', 'electronically': 'electronically.r.01', 'road': 'road.n.01', 'conditions': 'weather.n.01', 'adjust': 'adjust.v.01', 'car': 'car.n.01', 'ride': 'ride.n.02'}\n",
      "These `` active|active%3:00:01:: suspension|suspension%1:06:00:: systems|system%1:06:00:: '' electronically|electronically%4:02:00:: sense road|road%1:06:00:: conditions|conditions%1:19:00:: and adjust|adjust%2:30:00:: a car|car%1:06:00:: 's ride|ride%1:06:00:: . \n",
      "\n",
      "refunding {'Hills': 'mound.n.01', 'Calif.': 'california.n.01', 'certificates': 'security.n.04', 'participation': 'engagement.n.07', 'civic': 'civic.a.01', 'center': 'center.n.03', 'improvements': 'improvement.n.02', 'project': 'undertaking.n.01', 'due': 'due.a.01', 'tentatively': 'tentatively.r.01', 'priced': 'price.v.01', 'Goldman': 'goldman.n.01', 'group': 'group.n.01', 'yield': 'render.v.04'}\n",
      "Beverly Hills|hill%1:06:00:: , Calif.|calif.%1:15:00:: -- $ 116,385,000 *U* of refunding certificates|certificate%1:21:00:: of participation|participation%1:04:00:: -LRB- civic|civic%3:01:00:: center|center%1:06:00:: improvements|improvement%1:04:00:: project|project%1:04:00:: -RRB- , due|due%3:00:00:: 1990-2004 , 2007 , 2016 and 2019 , tentatively|tentatively%4:02:00:: priced|price%2:40:00:: * by a Goldman|goldman%1:18:00:: , Sachs & Co. group|group%1:03:00:: *-1 to yield|yield%2:36:00:: from 6 % in 1990 to 7.19 % in 2016 . \n",
      "\n",
      "rebounded {'plummeting': 'plummet.v.01', 'point': 'degree.n.02', 'day': 'day.n.01', 'composite': 'composite.s.01', 'little': 'little.a.02', 'finished': 'end.v.01', 'down': 'down.r.01'}\n",
      "After * plummeting|plummet%2:38:00:: 1.8 % at one point|point%1:26:00:: during the day|day%1:28:00:: , the composite|composite%3:00:00:complex:00 rebounded a little|little%3:00:03:: , but finished|finish%2:42:00:: down|down%4:02:00:: 5.52 , at 461.70 . \n",
      "\n",
      "rebounded {'plummeting': 'plummet.v.01', 'point': 'degree.n.02', 'day': 'day.n.01', 'composite': 'composite.s.01', 'little': 'little.a.02', 'finished': 'end.v.01', 'down': 'down.r.01'}\n",
      "After * plummeting|plummet%2:38:00:: 1.8 % at one point|point%1:26:00:: during the day|day%1:28:00:: , the composite|composite%3:00:00:complex:00 rebounded a little|little%3:00:03:: , but finished|finish%2:42:00:: down|down%4:02:00:: 5.52 , at 461.70 . \n",
      "\n",
      "like {'Adults': 'adult.n.01', 'age': 'age.n.03', 'sports': 'sport.n.01', 'cars': 'car.n.01', 'luxury': 'luxury.n.01', 'convertibles': 'convertible.n.01', 'imports': 'import.n.01', 'far': 'far.r.01', 'more': 'more.r.01', 'elders': 'elder.n.01', 'do': 'do.v.04'}\n",
      "Adults|adult%1:18:00:: under age|age%1:28:00:: 30 like sports|sport%1:04:00:: cars|car%1:06:00:: , luxury|luxury%1:07:00:: cars|car%1:06:00:: , convertibles|convertible%1:06:00:: and imports|import%1:06:00:: far|far%4:02:02:: more|more%4:02:00:: than their elders|elder%1:18:00:: do|do%2:42:00:: . \n",
      "\n",
      "like {'Adults': 'adult.n.01', 'age': 'age.n.03', 'sports': 'sport.n.01', 'cars': 'car.n.01', 'luxury': 'luxury.n.01', 'convertibles': 'convertible.n.01', 'imports': 'import.n.01', 'far': 'far.r.01', 'more': 'more.r.01', 'elders': 'elder.n.01', 'do': 'do.v.04'}\n",
      "Adults|adult%1:18:00:: under age|age%1:28:00:: 30 like sports|sport%1:04:00:: cars|car%1:06:00:: , luxury|luxury%1:07:00:: cars|car%1:06:00:: , convertibles|convertible%1:06:00:: and imports|import%1:06:00:: far|far%4:02:02:: more|more%4:02:00:: than their elders|elder%1:18:00:: do|do%2:42:00:: . \n",
      "\n",
      "swears {'Anthony': 'antony.n.01', 'company': 'company.n.01', 'chairman': 'president.n.04', 'firm': 'firm.s.01', 'touch': 'touch.n.05', 'saying': 'state.v.01', 'regular': 'regular.a.01', 'massages': 'massage.n.01', 'are': 'be.v.01', 'balm': 'ointment.n.01', 'old': 'old.a.02', 'football': 'football.n.01', 'injuries': 'injury.n.01'}\n",
      "Anthony|anthony%1:18:00:: J.F. O'Reilly , the company|company%1:14:01:: 's chairman|chairman%1:18:01:: , swears by her firm|firm%3:00:00:resolute:00 touch|touch%1:04:00:: , *-1 saying|say%2:32:00:: 0 regular|regular%3:00:00:: massages|massage%1:04:00:: are|be%2:42:03:: a balm|balm%1:06:00:: for his old|old%3:00:01:: football|football%1:04:00:: injuries|injury%1:26:00:: . \n",
      "\n",
      "swears {'Anthony': 'antony.n.01', 'company': 'company.n.01', 'chairman': 'president.n.04', 'firm': 'firm.s.01', 'touch': 'touch.n.05', 'saying': 'state.v.01', 'regular': 'regular.a.01', 'massages': 'massage.n.01', 'are': 'be.v.01', 'balm': 'ointment.n.01', 'old': 'old.a.02', 'football': 'football.n.01', 'injuries': 'injury.n.01'}\n",
      "Anthony|anthony%1:18:00:: J.F. O'Reilly , the company|company%1:14:01:: 's chairman|chairman%1:18:01:: , swears by her firm|firm%3:00:00:resolute:00 touch|touch%1:04:00:: , *-1 saying|say%2:32:00:: 0 regular|regular%3:00:00:: massages|massage%1:04:00:: are|be%2:42:03:: a balm|balm%1:06:00:: for his old|old%3:00:01:: football|football%1:04:00:: injuries|injury%1:26:00:: . \n",
      "\n",
      "watched {'program': 'plan.n.01', 'traders': 'trader.n.01', 'seemingly': 'apparently.r.01', 'charge': 'commission.n.06', 'buyers': 'buyer.n.01', 'backed': 'back.v.02', 'away': 'away.r.01', 'market': 'market.n.01', 'stocks': 'stocks.n.03', 'fall': 'descend.v.01'}\n",
      "With program|program%1:09:00:: traders|trader%1:18:00:: seemingly|seemingly%4:02:00:: in charge|charge%1:10:01:: , buyers|buyer%1:18:00:: backed|back%2:38:00:: away|away%4:02:00:: from the market|market%1:04:00:: and watched stocks|stocks%1:06:00:: fall|fall%2:38:00:: . \n",
      "\n",
      "rebounded {'Once': 'once.r.02', 'metropolitan': 'metropolitan.a.01', 'Detroit': 'detroit.n.01', 'economy': 'economy.n.01', 'rallied': 'rally.v.04', 'real': 'real.s.08', 'estate': 'estate.n.01'}\n",
      "Once|once%4:02:02:: metropolitan|metropolitan%3:01:00:: Detroit|detroit%1:15:00:: 's economy|economy%1:14:00:: rallied|rally%2:30:00:: in the mid-1980s , real|real%3:00:00:tangible:02 estate|estate%1:21:02:: rebounded . \n",
      "\n"
     ]
    },
    {
     "data": {
      "text/html": [
       "<div>\n",
       "<style scoped>\n",
       "    .dataframe tbody tr th:only-of-type {\n",
       "        vertical-align: middle;\n",
       "    }\n",
       "\n",
       "    .dataframe tbody tr th {\n",
       "        vertical-align: top;\n",
       "    }\n",
       "\n",
       "    .dataframe thead th {\n",
       "        text-align: right;\n",
       "    }\n",
       "</style>\n",
       "<table border=\"1\" class=\"dataframe\">\n",
       "  <thead>\n",
       "    <tr style=\"text-align: right;\">\n",
       "      <th></th>\n",
       "      <th>Sentence.ID</th>\n",
       "      <th>Roleset</th>\n",
       "      <th>Pred.Token</th>\n",
       "      <th>Arg.Pos</th>\n",
       "      <th>Gram.Func</th>\n",
       "      <th>Split</th>\n",
       "      <th>awareness</th>\n",
       "      <th>change_of_location</th>\n",
       "      <th>change_of_state</th>\n",
       "      <th>changes_possession</th>\n",
       "      <th>...</th>\n",
       "      <th>stationary</th>\n",
       "      <th>volition</th>\n",
       "      <th>Sentence</th>\n",
       "      <th>Arg.Phrase</th>\n",
       "      <th>Arg.Stripped</th>\n",
       "      <th>Sentence.Stripped</th>\n",
       "      <th>Predicate</th>\n",
       "      <th>verb</th>\n",
       "      <th>pair_id</th>\n",
       "      <th>verb_sense</th>\n",
       "    </tr>\n",
       "  </thead>\n",
       "  <tbody>\n",
       "    <tr>\n",
       "      <th>0</th>\n",
       "      <td>0003_21</td>\n",
       "      <td>impose.01</td>\n",
       "      <td>7</td>\n",
       "      <td>11:1</td>\n",
       "      <td>other</td>\n",
       "      <td>train</td>\n",
       "      <td>1</td>\n",
       "      <td>1</td>\n",
       "      <td>4</td>\n",
       "      <td>1</td>\n",
       "      <td>...</td>\n",
       "      <td>1</td>\n",
       "      <td>1</td>\n",
       "      <td>In July , the Environmental Protection Agency ...</td>\n",
       "      <td>on virtually all uses of asbestos</td>\n",
       "      <td>on all uses</td>\n",
       "      <td>In July , the Environmental Protection Agency ...</td>\n",
       "      <td>imposed</td>\n",
       "      <td>impose</td>\n",
       "      <td>0003_21_11:1_imposed</td>\n",
       "      <td>inflict.v.01</td>\n",
       "    </tr>\n",
       "    <tr>\n",
       "      <th>1</th>\n",
       "      <td>0003_21</td>\n",
       "      <td>impose.01</td>\n",
       "      <td>7</td>\n",
       "      <td>3:1</td>\n",
       "      <td>subj</td>\n",
       "      <td>train</td>\n",
       "      <td>5</td>\n",
       "      <td>1</td>\n",
       "      <td>3</td>\n",
       "      <td>1</td>\n",
       "      <td>...</td>\n",
       "      <td>1</td>\n",
       "      <td>5</td>\n",
       "      <td>In July , the Environmental Protection Agency ...</td>\n",
       "      <td>the Environmental Protection Agency</td>\n",
       "      <td>the Environmental Protection Agency</td>\n",
       "      <td>In July , the Environmental Protection Agency ...</td>\n",
       "      <td>imposed</td>\n",
       "      <td>impose</td>\n",
       "      <td>0003_21_3:1_imposed</td>\n",
       "      <td>inflict.v.01</td>\n",
       "    </tr>\n",
       "    <tr>\n",
       "      <th>2</th>\n",
       "      <td>0003_21</td>\n",
       "      <td>impose.01</td>\n",
       "      <td>7</td>\n",
       "      <td>8:1</td>\n",
       "      <td>obj</td>\n",
       "      <td>test</td>\n",
       "      <td>1</td>\n",
       "      <td>1</td>\n",
       "      <td>3</td>\n",
       "      <td>1</td>\n",
       "      <td>...</td>\n",
       "      <td>1</td>\n",
       "      <td>1</td>\n",
       "      <td>In July , the Environmental Protection Agency ...</td>\n",
       "      <td>a gradual ban</td>\n",
       "      <td>a ban</td>\n",
       "      <td>In July , the Environmental Protection Agency ...</td>\n",
       "      <td>imposed</td>\n",
       "      <td>impose</td>\n",
       "      <td>0003_21_8:1_imposed</td>\n",
       "      <td>inflict.v.01</td>\n",
       "    </tr>\n",
       "    <tr>\n",
       "      <th>3</th>\n",
       "      <td>0003_25</td>\n",
       "      <td>dump.01</td>\n",
       "      <td>1</td>\n",
       "      <td>0:1</td>\n",
       "      <td>subj</td>\n",
       "      <td>train</td>\n",
       "      <td>5</td>\n",
       "      <td>3</td>\n",
       "      <td>3</td>\n",
       "      <td>1</td>\n",
       "      <td>...</td>\n",
       "      <td>3</td>\n",
       "      <td>5</td>\n",
       "      <td>Workers dumped large burlap sacks of the impor...</td>\n",
       "      <td>Workers</td>\n",
       "      <td>Workers</td>\n",
       "      <td>Workers dumped burlap sacks into a huge bin , ...</td>\n",
       "      <td>dumped</td>\n",
       "      <td>dump</td>\n",
       "      <td>0003_25_0:1_dumped</td>\n",
       "      <td>dump.v.01</td>\n",
       "    </tr>\n",
       "    <tr>\n",
       "      <th>4</th>\n",
       "      <td>0003_25</td>\n",
       "      <td>dump.01</td>\n",
       "      <td>1</td>\n",
       "      <td>2:2</td>\n",
       "      <td>obj</td>\n",
       "      <td>train</td>\n",
       "      <td>1</td>\n",
       "      <td>5</td>\n",
       "      <td>5</td>\n",
       "      <td>3</td>\n",
       "      <td>...</td>\n",
       "      <td>1</td>\n",
       "      <td>1</td>\n",
       "      <td>Workers dumped large burlap sacks of the impor...</td>\n",
       "      <td>large burlap sacks of the imported material</td>\n",
       "      <td>burlap sacks</td>\n",
       "      <td>Workers dumped burlap sacks into a huge bin , ...</td>\n",
       "      <td>dumped</td>\n",
       "      <td>dump</td>\n",
       "      <td>0003_25_2:2_dumped</td>\n",
       "      <td>dump.v.01</td>\n",
       "    </tr>\n",
       "  </tbody>\n",
       "</table>\n",
       "<p>5 rows × 32 columns</p>\n",
       "</div>"
      ],
      "text/plain": [
       "  Sentence.ID    Roleset  Pred.Token Arg.Pos Gram.Func  Split  awareness  \\\n",
       "0     0003_21  impose.01           7    11:1     other  train          1   \n",
       "1     0003_21  impose.01           7     3:1      subj  train          5   \n",
       "2     0003_21  impose.01           7     8:1       obj   test          1   \n",
       "3     0003_25    dump.01           1     0:1      subj  train          5   \n",
       "4     0003_25    dump.01           1     2:2       obj  train          1   \n",
       "\n",
       "   change_of_location  change_of_state  changes_possession  ...  stationary  \\\n",
       "0                   1                4                   1  ...           1   \n",
       "1                   1                3                   1  ...           1   \n",
       "2                   1                3                   1  ...           1   \n",
       "3                   3                3                   1  ...           3   \n",
       "4                   5                5                   3  ...           1   \n",
       "\n",
       "   volition                                           Sentence  \\\n",
       "0         1  In July , the Environmental Protection Agency ...   \n",
       "1         5  In July , the Environmental Protection Agency ...   \n",
       "2         1  In July , the Environmental Protection Agency ...   \n",
       "3         5  Workers dumped large burlap sacks of the impor...   \n",
       "4         1  Workers dumped large burlap sacks of the impor...   \n",
       "\n",
       "                                    Arg.Phrase  \\\n",
       "0            on virtually all uses of asbestos   \n",
       "1          the Environmental Protection Agency   \n",
       "2                                a gradual ban   \n",
       "3                                      Workers   \n",
       "4  large burlap sacks of the imported material   \n",
       "\n",
       "                          Arg.Stripped  \\\n",
       "0                          on all uses   \n",
       "1  the Environmental Protection Agency   \n",
       "2                                a ban   \n",
       "3                              Workers   \n",
       "4                         burlap sacks   \n",
       "\n",
       "                                   Sentence.Stripped  Predicate    verb  \\\n",
       "0  In July , the Environmental Protection Agency ...    imposed  impose   \n",
       "1  In July , the Environmental Protection Agency ...    imposed  impose   \n",
       "2  In July , the Environmental Protection Agency ...    imposed  impose   \n",
       "3  Workers dumped burlap sacks into a huge bin , ...     dumped    dump   \n",
       "4  Workers dumped burlap sacks into a huge bin , ...     dumped    dump   \n",
       "\n",
       "                pair_id    verb_sense  \n",
       "0  0003_21_11:1_imposed  inflict.v.01  \n",
       "1   0003_21_3:1_imposed  inflict.v.01  \n",
       "2   0003_21_8:1_imposed  inflict.v.01  \n",
       "3    0003_25_0:1_dumped     dump.v.01  \n",
       "4    0003_25_2:2_dumped     dump.v.01  \n",
       "\n",
       "[5 rows x 32 columns]"
      ]
     },
     "execution_count": 15,
     "metadata": {},
     "output_type": "execute_result"
    }
   ],
   "source": [
    "def get_verb_sense(row):\n",
    "    predicate = row[\"Predicate\"]\n",
    "    sid = row[\"Sentence.ID\"]\n",
    "    d = disambiguated.loc[sid][\"disambiguated_dict\"]\n",
    "    # replace single with double quotes so json can parse\n",
    "    d = d.replace(\" '\", ' \"').replace(\"':\", '\":').replace(\"',\", '\",').replace(\"{'\", '{\"').replace(\"'}\", '\"}')\n",
    "    try:\n",
    "        d = json.loads(d)\n",
    "    except:\n",
    "        print(d)\n",
    "    if predicate in d:\n",
    "        return d[predicate]\n",
    "    else:\n",
    "        print(predicate, d)\n",
    "        print(disambiguated.loc[sid][\"Sentence.Disambiguated\"])\n",
    "        return np.nan\n",
    "\n",
    "roles_wide[\"verb_sense\"] = roles_wide.apply(get_verb_sense, axis=1)\n",
    "roles_wide.dropna(subset=\"verb_sense\", inplace=True)\n",
    "roles_wide.head()\n"
   ]
  },
  {
   "cell_type": "code",
   "execution_count": 16,
   "metadata": {},
   "outputs": [
    {
     "name": "stdout",
     "output_type": "stream",
     "text": [
      "[1] \"Model failed to converge with max|grad| = 0.00344168 (tol = 0.002, component 1)\"\n",
      "[2] \" \\n\"                                                                            \n",
      "\n",
      "[1] \"Model is nearly unidentifiable: very large eigenvalue\\n - Rescale variables?\"\n",
      "[2] \" \\n\"                                                                         \n",
      "\n"
     ]
    },
    {
     "name": "stderr",
     "output_type": "stream",
     "text": [
      "/Users/lli/anaconda3/envs/metaphor/lib/python3.11/site-packages/pymer4/models/Lmer.py:733: FutureWarning: DataFrame.applymap has been deprecated. Use DataFrame.map instead.\n",
      "  ran_vars = ran_vars.applymap(\n"
     ]
    },
    {
     "name": "stdout",
     "output_type": "stream",
     "text": [
      "Linear mixed model fit by REML [’lmerMod’]\n",
      "Formula: rating~1+position*(1|predicate/pair_id)\n",
      "\n",
      "Family: gaussian\t Inference: parametric\n",
      "\n",
      "Number of observations: 7744\t Groups: {'pair_id:predicate': 7743.0, 'predicate': 1760.0}\n",
      "\n",
      "Log-likelihood: -14527.083 \t AIC: 29064.165\n",
      "\n",
      "Random effects:\n",
      "\n",
      "                          Name    Var    Std\n",
      "pair_id:predicate  (Intercept)  1.990  1.411\n",
      "predicate          (Intercept)  1.036  1.018\n",
      "Residual                        0.000  0.000\n",
      "\n",
      "No random effect correlations specified\n",
      "\n",
      "Fixed effects:\n",
      "\n",
      "unable to evaluate scaled gradient \n",
      "\n",
      "Model failed to converge: degenerate  Hessian with 1 negative eigenvalues \n",
      "\n"
     ]
    },
    {
     "name": "stderr",
     "output_type": "stream",
     "text": [
      "/Users/lli/anaconda3/envs/metaphor/lib/python3.11/site-packages/pymer4/models/Lmer.py:733: FutureWarning: DataFrame.applymap has been deprecated. Use DataFrame.map instead.\n",
      "  ran_vars = ran_vars.applymap(\n"
     ]
    },
    {
     "name": "stdout",
     "output_type": "stream",
     "text": [
      "Linear mixed model fit by REML [’lmerMod’]\n",
      "Formula: rating~1+position+(1|pair_id)\n",
      "\n",
      "Family: gaussian\t Inference: parametric\n",
      "\n",
      "Number of observations: 7744\t Groups: {'pair_id': 7743.0}\n",
      "\n",
      "Log-likelihood: -15236.028 \t AIC: 30480.056\n",
      "\n",
      "Random effects:\n",
      "\n",
      "                 Name  Var    Std\n",
      "pair_id   (Intercept)  3.0  1.732\n",
      "Residual               0.0  0.000\n",
      "\n",
      "No random effect correlations specified\n",
      "\n",
      "Fixed effects:\n",
      "\n",
      "Model failed to converge with max|grad| = 0.0223185 (tol = 0.002, component 1) \n",
      "\n"
     ]
    },
    {
     "name": "stderr",
     "output_type": "stream",
     "text": [
      "/Users/lli/anaconda3/envs/metaphor/lib/python3.11/site-packages/pymer4/models/Lmer.py:733: FutureWarning: DataFrame.applymap has been deprecated. Use DataFrame.map instead.\n",
      "  ran_vars = ran_vars.applymap(\n"
     ]
    },
    {
     "name": "stdout",
     "output_type": "stream",
     "text": [
      "Linear mixed model fit by REML [’lmerMod’]\n",
      "Formula: rating~1+position*(1|predicate/pair_id)\n",
      "\n",
      "Family: gaussian\t Inference: parametric\n",
      "\n",
      "Number of observations: 7744\t Groups: {'pair_id:predicate': 7743.0, 'predicate': 1760.0}\n",
      "\n",
      "Log-likelihood: -12333.483 \t AIC: 24676.965\n",
      "\n",
      "Random effects:\n",
      "\n",
      "                          Name    Var    Std\n",
      "pair_id:predicate  (Intercept)  1.175  1.084\n",
      "predicate          (Intercept)  0.447  0.668\n",
      "Residual                        0.000  0.000\n",
      "\n",
      "No random effect correlations specified\n",
      "\n",
      "Fixed effects:\n",
      "\n",
      "unable to evaluate scaled gradient \n",
      "\n",
      "Model failed to converge: degenerate  Hessian with 1 negative eigenvalues \n",
      "\n"
     ]
    },
    {
     "name": "stderr",
     "output_type": "stream",
     "text": [
      "/Users/lli/anaconda3/envs/metaphor/lib/python3.11/site-packages/pymer4/models/Lmer.py:733: FutureWarning: DataFrame.applymap has been deprecated. Use DataFrame.map instead.\n",
      "  ran_vars = ran_vars.applymap(\n"
     ]
    },
    {
     "name": "stdout",
     "output_type": "stream",
     "text": [
      "Linear mixed model fit by REML [’lmerMod’]\n",
      "Formula: rating~1+position+(1|pair_id)\n",
      "\n",
      "Family: gaussian\t Inference: parametric\n",
      "\n",
      "Number of observations: 7744\t Groups: {'pair_id': 7743.0}\n",
      "\n",
      "Log-likelihood: -12735.449 \t AIC: 25478.898\n",
      "\n",
      "Random effects:\n",
      "\n",
      "                 Name    Var    Std\n",
      "pair_id   (Intercept)  1.572  1.254\n",
      "Residual               0.000  0.000\n",
      "\n",
      "No random effect correlations specified\n",
      "\n",
      "Fixed effects:\n",
      "\n",
      "boundary (singular) fit: see help('isSingular') \n",
      "\n"
     ]
    },
    {
     "name": "stderr",
     "output_type": "stream",
     "text": [
      "/Users/lli/anaconda3/envs/metaphor/lib/python3.11/site-packages/pymer4/models/Lmer.py:733: FutureWarning: DataFrame.applymap has been deprecated. Use DataFrame.map instead.\n",
      "  ran_vars = ran_vars.applymap(\n"
     ]
    },
    {
     "name": "stdout",
     "output_type": "stream",
     "text": [
      "Linear mixed model fit by REML [’lmerMod’]\n",
      "Formula: rating~1+position*(1|predicate/pair_id)\n",
      "\n",
      "Family: gaussian\t Inference: parametric\n",
      "\n",
      "Number of observations: 7744\t Groups: {'pair_id:predicate': 7743.0, 'predicate': 1760.0}\n",
      "\n",
      "Log-likelihood: -11773.883 \t AIC: 23557.765\n",
      "\n",
      "Random effects:\n",
      "\n",
      "                          Name    Var    Std\n",
      "pair_id:predicate  (Intercept)  0.000  0.000\n",
      "predicate          (Intercept)  0.428  0.654\n",
      "Residual                        0.999  1.000\n",
      "\n",
      "No random effect correlations specified\n",
      "\n",
      "Fixed effects:\n",
      "\n",
      "boundary (singular) fit: see help('isSingular') \n",
      "\n"
     ]
    },
    {
     "name": "stderr",
     "output_type": "stream",
     "text": [
      "/Users/lli/anaconda3/envs/metaphor/lib/python3.11/site-packages/pymer4/models/Lmer.py:733: FutureWarning: DataFrame.applymap has been deprecated. Use DataFrame.map instead.\n",
      "  ran_vars = ran_vars.applymap(\n"
     ]
    },
    {
     "name": "stdout",
     "output_type": "stream",
     "text": [
      "Linear mixed model fit by REML [’lmerMod’]\n",
      "Formula: rating~1+position+(1|pair_id)\n",
      "\n",
      "Family: gaussian\t Inference: parametric\n",
      "\n",
      "Number of observations: 7744\t Groups: {'pair_id': 7743.0}\n",
      "\n",
      "Log-likelihood: -12381.067 \t AIC: 24770.134\n",
      "\n",
      "Random effects:\n",
      "\n",
      "                 Name    Var    Std\n",
      "pair_id   (Intercept)  0.000  0.000\n",
      "Residual               1.431  1.196\n",
      "\n",
      "No random effect correlations specified\n",
      "\n",
      "Fixed effects:\n",
      "\n",
      "Model failed to converge with max|grad| = 0.043985 (tol = 0.002, component 1) \n",
      "\n"
     ]
    },
    {
     "name": "stderr",
     "output_type": "stream",
     "text": [
      "/Users/lli/anaconda3/envs/metaphor/lib/python3.11/site-packages/pymer4/models/Lmer.py:733: FutureWarning: DataFrame.applymap has been deprecated. Use DataFrame.map instead.\n",
      "  ran_vars = ran_vars.applymap(\n"
     ]
    },
    {
     "name": "stdout",
     "output_type": "stream",
     "text": [
      "Linear mixed model fit by REML [’lmerMod’]\n",
      "Formula: rating~1+position*(1|predicate/pair_id)\n",
      "\n",
      "Family: gaussian\t Inference: parametric\n",
      "\n",
      "Number of observations: 7744\t Groups: {'pair_id:predicate': 7743.0, 'predicate': 1760.0}\n",
      "\n",
      "Log-likelihood: -11304.920 \t AIC: 22619.839\n",
      "\n",
      "Random effects:\n",
      "\n",
      "                          Name    Var    Std\n",
      "pair_id:predicate  (Intercept)  0.976  0.988\n",
      "predicate          (Intercept)  0.162  0.403\n",
      "Residual                        0.000  0.000\n",
      "\n",
      "No random effect correlations specified\n",
      "\n",
      "Fixed effects:\n",
      "\n",
      "unable to evaluate scaled gradient \n",
      "\n",
      "Model failed to converge: degenerate  Hessian with 1 negative eigenvalues \n",
      "\n"
     ]
    },
    {
     "name": "stderr",
     "output_type": "stream",
     "text": [
      "/Users/lli/anaconda3/envs/metaphor/lib/python3.11/site-packages/pymer4/models/Lmer.py:733: FutureWarning: DataFrame.applymap has been deprecated. Use DataFrame.map instead.\n",
      "  ran_vars = ran_vars.applymap(\n"
     ]
    },
    {
     "name": "stdout",
     "output_type": "stream",
     "text": [
      "Linear mixed model fit by REML [’lmerMod’]\n",
      "Formula: rating~1+position+(1|pair_id)\n",
      "\n",
      "Family: gaussian\t Inference: parametric\n",
      "\n",
      "Number of observations: 7744\t Groups: {'pair_id': 7743.0}\n",
      "\n",
      "Log-likelihood: -11535.302 \t AIC: 23078.604\n",
      "\n",
      "Random effects:\n",
      "\n",
      "                 Name    Var    Std\n",
      "pair_id   (Intercept)  1.153  1.074\n",
      "Residual               0.000  0.000\n",
      "\n",
      "No random effect correlations specified\n",
      "\n",
      "Fixed effects:\n",
      "\n",
      "Model failed to converge with max|grad| = 0.0224378 (tol = 0.002, component 1) \n",
      "\n"
     ]
    },
    {
     "name": "stderr",
     "output_type": "stream",
     "text": [
      "/Users/lli/anaconda3/envs/metaphor/lib/python3.11/site-packages/pymer4/models/Lmer.py:733: FutureWarning: DataFrame.applymap has been deprecated. Use DataFrame.map instead.\n",
      "  ran_vars = ran_vars.applymap(\n"
     ]
    },
    {
     "name": "stdout",
     "output_type": "stream",
     "text": [
      "Linear mixed model fit by REML [’lmerMod’]\n",
      "Formula: rating~1+position*(1|predicate/pair_id)\n",
      "\n",
      "Family: gaussian\t Inference: parametric\n",
      "\n",
      "Number of observations: 7744\t Groups: {'pair_id:predicate': 7743.0, 'predicate': 1760.0}\n",
      "\n",
      "Log-likelihood: -10854.781 \t AIC: 21719.562\n",
      "\n",
      "Random effects:\n",
      "\n",
      "                          Name    Var    Std\n",
      "pair_id:predicate  (Intercept)  0.864  0.930\n",
      "predicate          (Intercept)  0.154  0.392\n",
      "Residual                        0.000  0.000\n",
      "\n",
      "No random effect correlations specified\n",
      "\n",
      "Fixed effects:\n",
      "\n"
     ]
    },
    {
     "name": "stderr",
     "output_type": "stream",
     "text": [
      "/Users/lli/anaconda3/envs/metaphor/lib/python3.11/site-packages/pymer4/models/Lmer.py:733: FutureWarning: DataFrame.applymap has been deprecated. Use DataFrame.map instead.\n",
      "  ran_vars = ran_vars.applymap(\n"
     ]
    },
    {
     "name": "stdout",
     "output_type": "stream",
     "text": [
      "Linear mixed model fit by REML [’lmerMod’]\n",
      "Formula: rating~1+position+(1|pair_id)\n",
      "\n",
      "Family: gaussian\t Inference: parametric\n",
      "\n",
      "Number of observations: 7744\t Groups: {'pair_id': 7743.0}\n",
      "\n",
      "Log-likelihood: -11124.206 \t AIC: 22256.412\n",
      "\n",
      "Random effects:\n",
      "\n",
      "                 Name    Var    Std\n",
      "pair_id   (Intercept)  1.037  1.018\n",
      "Residual               0.000  0.000\n",
      "\n",
      "No random effect correlations specified\n",
      "\n",
      "Fixed effects:\n",
      "\n",
      "Model failed to converge with max|grad| = 0.0184366 (tol = 0.002, component 1) \n",
      "\n"
     ]
    },
    {
     "name": "stderr",
     "output_type": "stream",
     "text": [
      "/Users/lli/anaconda3/envs/metaphor/lib/python3.11/site-packages/pymer4/models/Lmer.py:733: FutureWarning: DataFrame.applymap has been deprecated. Use DataFrame.map instead.\n",
      "  ran_vars = ran_vars.applymap(\n"
     ]
    },
    {
     "name": "stdout",
     "output_type": "stream",
     "text": [
      "Linear mixed model fit by REML [’lmerMod’]\n",
      "Formula: rating~1+position*(1|predicate/pair_id)\n",
      "\n",
      "Family: gaussian\t Inference: parametric\n",
      "\n",
      "Number of observations: 7744\t Groups: {'pair_id:predicate': 7743.0, 'predicate': 1760.0}\n",
      "\n",
      "Log-likelihood: -8946.859 \t AIC: 17903.718\n",
      "\n",
      "Random effects:\n",
      "\n",
      "                          Name    Var    Std\n",
      "pair_id:predicate  (Intercept)  0.514  0.717\n",
      "predicate          (Intercept)  0.125  0.353\n",
      "Residual                        0.000  0.000\n",
      "\n",
      "No random effect correlations specified\n",
      "\n",
      "Fixed effects:\n",
      "\n"
     ]
    },
    {
     "name": "stderr",
     "output_type": "stream",
     "text": [
      "/Users/lli/anaconda3/envs/metaphor/lib/python3.11/site-packages/pymer4/models/Lmer.py:733: FutureWarning: DataFrame.applymap has been deprecated. Use DataFrame.map instead.\n",
      "  ran_vars = ran_vars.applymap(\n"
     ]
    },
    {
     "name": "stdout",
     "output_type": "stream",
     "text": [
      "Linear mixed model fit by REML [’lmerMod’]\n",
      "Formula: rating~1+position+(1|pair_id)\n",
      "\n",
      "Family: gaussian\t Inference: parametric\n",
      "\n",
      "Number of observations: 7744\t Groups: {'pair_id': 7743.0}\n",
      "\n",
      "Log-likelihood: -9241.815 \t AIC: 18491.630\n",
      "\n",
      "Random effects:\n",
      "\n",
      "                 Name    Var    Std\n",
      "pair_id   (Intercept)  0.638  0.799\n",
      "Residual               0.000  0.000\n",
      "\n",
      "No random effect correlations specified\n",
      "\n",
      "Fixed effects:\n",
      "\n",
      "unable to evaluate scaled gradient \n",
      "\n",
      "Model failed to converge: degenerate  Hessian with 1 negative eigenvalues \n",
      "\n"
     ]
    },
    {
     "name": "stderr",
     "output_type": "stream",
     "text": [
      "/Users/lli/anaconda3/envs/metaphor/lib/python3.11/site-packages/pymer4/models/Lmer.py:733: FutureWarning: DataFrame.applymap has been deprecated. Use DataFrame.map instead.\n",
      "  ran_vars = ran_vars.applymap(\n"
     ]
    },
    {
     "name": "stdout",
     "output_type": "stream",
     "text": [
      "Linear mixed model fit by REML [’lmerMod’]\n",
      "Formula: rating~1+position*(1|predicate/pair_id)\n",
      "\n",
      "Family: gaussian\t Inference: parametric\n",
      "\n",
      "Number of observations: 7744\t Groups: {'pair_id:predicate': 7743.0, 'predicate': 1760.0}\n",
      "\n",
      "Log-likelihood: -13589.989 \t AIC: 27189.979\n",
      "\n",
      "Random effects:\n",
      "\n",
      "                          Name    Var    Std\n",
      "pair_id:predicate  (Intercept)  1.673  1.293\n",
      "predicate          (Intercept)  0.489  0.699\n",
      "Residual                        0.000  0.000\n",
      "\n",
      "No random effect correlations specified\n",
      "\n",
      "Fixed effects:\n",
      "\n"
     ]
    },
    {
     "name": "stderr",
     "output_type": "stream",
     "text": [
      "/Users/lli/anaconda3/envs/metaphor/lib/python3.11/site-packages/pymer4/models/Lmer.py:733: FutureWarning: DataFrame.applymap has been deprecated. Use DataFrame.map instead.\n",
      "  ran_vars = ran_vars.applymap(\n"
     ]
    },
    {
     "name": "stdout",
     "output_type": "stream",
     "text": [
      "Linear mixed model fit by REML [’lmerMod’]\n",
      "Formula: rating~1+position+(1|pair_id)\n",
      "\n",
      "Family: gaussian\t Inference: parametric\n",
      "\n",
      "Number of observations: 7744\t Groups: {'pair_id': 7743.0}\n",
      "\n",
      "Log-likelihood: -13990.784 \t AIC: 27989.567\n",
      "\n",
      "Random effects:\n",
      "\n",
      "                 Name    Var    Std\n",
      "pair_id   (Intercept)  2.175  1.475\n",
      "Residual               0.000  0.000\n",
      "\n",
      "No random effect correlations specified\n",
      "\n",
      "Fixed effects:\n",
      "\n"
     ]
    },
    {
     "name": "stderr",
     "output_type": "stream",
     "text": [
      "/Users/lli/anaconda3/envs/metaphor/lib/python3.11/site-packages/pymer4/models/Lmer.py:733: FutureWarning: DataFrame.applymap has been deprecated. Use DataFrame.map instead.\n",
      "  ran_vars = ran_vars.applymap(\n"
     ]
    },
    {
     "name": "stdout",
     "output_type": "stream",
     "text": [
      "Linear mixed model fit by REML [’lmerMod’]\n",
      "Formula: rating~1+position*(1|predicate/pair_id)\n",
      "\n",
      "Family: gaussian\t Inference: parametric\n",
      "\n",
      "Number of observations: 7744\t Groups: {'pair_id:predicate': 7743.0, 'predicate': 1760.0}\n",
      "\n",
      "Log-likelihood: -13819.842 \t AIC: 27649.685\n",
      "\n",
      "Random effects:\n",
      "\n",
      "                          Name    Var    Std\n",
      "pair_id:predicate  (Intercept)  1.782  1.335\n",
      "predicate          (Intercept)  0.498  0.706\n",
      "Residual                        0.000  0.001\n",
      "\n",
      "No random effect correlations specified\n",
      "\n",
      "Fixed effects:\n",
      "\n"
     ]
    },
    {
     "name": "stderr",
     "output_type": "stream",
     "text": [
      "/Users/lli/anaconda3/envs/metaphor/lib/python3.11/site-packages/pymer4/models/Lmer.py:733: FutureWarning: DataFrame.applymap has been deprecated. Use DataFrame.map instead.\n",
      "  ran_vars = ran_vars.applymap(\n"
     ]
    },
    {
     "name": "stdout",
     "output_type": "stream",
     "text": [
      "Linear mixed model fit by REML [’lmerMod’]\n",
      "Formula: rating~1+position+(1|pair_id)\n",
      "\n",
      "Family: gaussian\t Inference: parametric\n",
      "\n",
      "Number of observations: 7744\t Groups: {'pair_id': 7743.0}\n",
      "\n",
      "Log-likelihood: -14227.265 \t AIC: 28462.531\n",
      "\n",
      "Random effects:\n",
      "\n",
      "                 Name    Var   Std\n",
      "pair_id   (Intercept)  2.312  1.52\n",
      "Residual               0.000  0.00\n",
      "\n",
      "No random effect correlations specified\n",
      "\n",
      "Fixed effects:\n",
      "\n",
      "Model failed to converge with max|grad| = 0.0268293 (tol = 0.002, component 1) \n",
      "\n"
     ]
    },
    {
     "name": "stderr",
     "output_type": "stream",
     "text": [
      "/Users/lli/anaconda3/envs/metaphor/lib/python3.11/site-packages/pymer4/models/Lmer.py:733: FutureWarning: DataFrame.applymap has been deprecated. Use DataFrame.map instead.\n",
      "  ran_vars = ran_vars.applymap(\n"
     ]
    },
    {
     "name": "stdout",
     "output_type": "stream",
     "text": [
      "Linear mixed model fit by REML [’lmerMod’]\n",
      "Formula: rating~1+position*(1|predicate/pair_id)\n",
      "\n",
      "Family: gaussian\t Inference: parametric\n",
      "\n",
      "Number of observations: 7744\t Groups: {'pair_id:predicate': 7743.0, 'predicate': 1760.0}\n",
      "\n",
      "Log-likelihood: -10624.459 \t AIC: 21258.918\n",
      "\n",
      "Random effects:\n",
      "\n",
      "                          Name    Var    Std\n",
      "pair_id:predicate  (Intercept)  0.817  0.904\n",
      "predicate          (Intercept)  0.138  0.372\n",
      "Residual                        0.000  0.000\n",
      "\n",
      "No random effect correlations specified\n",
      "\n",
      "Fixed effects:\n",
      "\n"
     ]
    },
    {
     "name": "stderr",
     "output_type": "stream",
     "text": [
      "/Users/lli/anaconda3/envs/metaphor/lib/python3.11/site-packages/pymer4/models/Lmer.py:733: FutureWarning: DataFrame.applymap has been deprecated. Use DataFrame.map instead.\n",
      "  ran_vars = ran_vars.applymap(\n"
     ]
    },
    {
     "name": "stdout",
     "output_type": "stream",
     "text": [
      "Linear mixed model fit by REML [’lmerMod’]\n",
      "Formula: rating~1+position+(1|pair_id)\n",
      "\n",
      "Family: gaussian\t Inference: parametric\n",
      "\n",
      "Number of observations: 7744\t Groups: {'pair_id': 7743.0}\n",
      "\n",
      "Log-likelihood: -10814.006 \t AIC: 21636.013\n",
      "\n",
      "Random effects:\n",
      "\n",
      "                 Name    Var    Std\n",
      "pair_id   (Intercept)  0.957  0.978\n",
      "Residual               0.000  0.000\n",
      "\n",
      "No random effect correlations specified\n",
      "\n",
      "Fixed effects:\n",
      "\n",
      "Model failed to converge with max|grad| = 0.0078247 (tol = 0.002, component 1) \n",
      "\n"
     ]
    },
    {
     "name": "stderr",
     "output_type": "stream",
     "text": [
      "/Users/lli/anaconda3/envs/metaphor/lib/python3.11/site-packages/pymer4/models/Lmer.py:733: FutureWarning: DataFrame.applymap has been deprecated. Use DataFrame.map instead.\n",
      "  ran_vars = ran_vars.applymap(\n"
     ]
    },
    {
     "name": "stdout",
     "output_type": "stream",
     "text": [
      "Linear mixed model fit by REML [’lmerMod’]\n",
      "Formula: rating~1+position*(1|predicate/pair_id)\n",
      "\n",
      "Family: gaussian\t Inference: parametric\n",
      "\n",
      "Number of observations: 7744\t Groups: {'pair_id:predicate': 7743.0, 'predicate': 1760.0}\n",
      "\n",
      "Log-likelihood: -15408.321 \t AIC: 30826.641\n",
      "\n",
      "Random effects:\n",
      "\n",
      "                          Name    Var    Std\n",
      "pair_id:predicate  (Intercept)  2.637  1.624\n",
      "predicate          (Intercept)  0.883  0.940\n",
      "Residual                        0.000  0.000\n",
      "\n",
      "No random effect correlations specified\n",
      "\n",
      "Fixed effects:\n",
      "\n"
     ]
    },
    {
     "name": "stderr",
     "output_type": "stream",
     "text": [
      "/Users/lli/anaconda3/envs/metaphor/lib/python3.11/site-packages/pymer4/models/Lmer.py:733: FutureWarning: DataFrame.applymap has been deprecated. Use DataFrame.map instead.\n",
      "  ran_vars = ran_vars.applymap(\n"
     ]
    },
    {
     "name": "stdout",
     "output_type": "stream",
     "text": [
      "Linear mixed model fit by REML [’lmerMod’]\n",
      "Formula: rating~1+position+(1|pair_id)\n",
      "\n",
      "Family: gaussian\t Inference: parametric\n",
      "\n",
      "Number of observations: 7744\t Groups: {'pair_id': 7743.0}\n",
      "\n",
      "Log-likelihood: -15788.252 \t AIC: 31584.504\n",
      "\n",
      "Random effects:\n",
      "\n",
      "                 Name   Var   Std\n",
      "pair_id   (Intercept)  3.46  1.86\n",
      "Residual               0.00  0.00\n",
      "\n",
      "No random effect correlations specified\n",
      "\n",
      "Fixed effects:\n",
      "\n"
     ]
    },
    {
     "name": "stderr",
     "output_type": "stream",
     "text": [
      "/Users/lli/anaconda3/envs/metaphor/lib/python3.11/site-packages/pymer4/models/Lmer.py:733: FutureWarning: DataFrame.applymap has been deprecated. Use DataFrame.map instead.\n",
      "  ran_vars = ran_vars.applymap(\n"
     ]
    },
    {
     "name": "stdout",
     "output_type": "stream",
     "text": [
      "Linear mixed model fit by REML [’lmerMod’]\n",
      "Formula: rating~1+position*(1|predicate/pair_id)\n",
      "\n",
      "Family: gaussian\t Inference: parametric\n",
      "\n",
      "Number of observations: 7744\t Groups: {'pair_id:predicate': 7743.0, 'predicate': 1760.0}\n",
      "\n",
      "Log-likelihood: -13371.761 \t AIC: 26753.522\n",
      "\n",
      "Random effects:\n",
      "\n",
      "                          Name    Var    Std\n",
      "pair_id:predicate  (Intercept)  1.462  1.209\n",
      "predicate          (Intercept)  0.815  0.903\n",
      "Residual                        0.000  0.000\n",
      "\n",
      "No random effect correlations specified\n",
      "\n",
      "Fixed effects:\n",
      "\n",
      "unable to evaluate scaled gradient \n",
      "\n",
      "Model failed to converge: degenerate  Hessian with 1 negative eigenvalues \n",
      "\n"
     ]
    },
    {
     "name": "stderr",
     "output_type": "stream",
     "text": [
      "/Users/lli/anaconda3/envs/metaphor/lib/python3.11/site-packages/pymer4/models/Lmer.py:733: FutureWarning: DataFrame.applymap has been deprecated. Use DataFrame.map instead.\n",
      "  ran_vars = ran_vars.applymap(\n"
     ]
    },
    {
     "name": "stdout",
     "output_type": "stream",
     "text": [
      "Linear mixed model fit by REML [’lmerMod’]\n",
      "Formula: rating~1+position+(1|pair_id)\n",
      "\n",
      "Family: gaussian\t Inference: parametric\n",
      "\n",
      "Number of observations: 7744\t Groups: {'pair_id': 7743.0}\n",
      "\n",
      "Log-likelihood: -14076.481 \t AIC: 28160.963\n",
      "\n",
      "Random effects:\n",
      "\n",
      "                 Name    Var    Std\n",
      "pair_id   (Intercept)  2.223  1.491\n",
      "Residual               0.000  0.000\n",
      "\n",
      "No random effect correlations specified\n",
      "\n",
      "Fixed effects:\n",
      "\n",
      "Model failed to converge with max|grad| = 0.00725961 (tol = 0.002, component 1) \n",
      "\n"
     ]
    },
    {
     "name": "stderr",
     "output_type": "stream",
     "text": [
      "/Users/lli/anaconda3/envs/metaphor/lib/python3.11/site-packages/pymer4/models/Lmer.py:733: FutureWarning: DataFrame.applymap has been deprecated. Use DataFrame.map instead.\n",
      "  ran_vars = ran_vars.applymap(\n"
     ]
    },
    {
     "name": "stdout",
     "output_type": "stream",
     "text": [
      "Linear mixed model fit by REML [’lmerMod’]\n",
      "Formula: rating~1+position*(1|predicate/pair_id)\n",
      "\n",
      "Family: gaussian\t Inference: parametric\n",
      "\n",
      "Number of observations: 7744\t Groups: {'pair_id:predicate': 7743.0, 'predicate': 1760.0}\n",
      "\n",
      "Log-likelihood: -11712.392 \t AIC: 23434.784\n",
      "\n",
      "Random effects:\n",
      "\n",
      "                          Name    Var    Std\n",
      "pair_id:predicate  (Intercept)  1.171  1.082\n",
      "predicate          (Intercept)  0.041  0.203\n",
      "Residual                        0.000  0.000\n",
      "\n",
      "No random effect correlations specified\n",
      "\n",
      "Fixed effects:\n",
      "\n",
      "unable to evaluate scaled gradient \n",
      "\n",
      "Model failed to converge: degenerate  Hessian with 1 negative eigenvalues \n",
      "\n"
     ]
    },
    {
     "name": "stderr",
     "output_type": "stream",
     "text": [
      "/Users/lli/anaconda3/envs/metaphor/lib/python3.11/site-packages/pymer4/models/Lmer.py:733: FutureWarning: DataFrame.applymap has been deprecated. Use DataFrame.map instead.\n",
      "  ran_vars = ran_vars.applymap(\n"
     ]
    },
    {
     "name": "stdout",
     "output_type": "stream",
     "text": [
      "Linear mixed model fit by REML [’lmerMod’]\n",
      "Formula: rating~1+position+(1|pair_id)\n",
      "\n",
      "Family: gaussian\t Inference: parametric\n",
      "\n",
      "Number of observations: 7744\t Groups: {'pair_id': 7743.0}\n",
      "\n",
      "Log-likelihood: -11724.769 \t AIC: 23457.538\n",
      "\n",
      "Random effects:\n",
      "\n",
      "                 Name    Var    Std\n",
      "pair_id   (Intercept)  1.211  1.101\n",
      "Residual               0.000  0.000\n",
      "\n",
      "No random effect correlations specified\n",
      "\n",
      "Fixed effects:\n",
      "\n",
      "Model failed to converge with max|grad| = 0.00543376 (tol = 0.002, component 1) \n",
      "\n"
     ]
    },
    {
     "name": "stderr",
     "output_type": "stream",
     "text": [
      "/Users/lli/anaconda3/envs/metaphor/lib/python3.11/site-packages/pymer4/models/Lmer.py:733: FutureWarning: DataFrame.applymap has been deprecated. Use DataFrame.map instead.\n",
      "  ran_vars = ran_vars.applymap(\n"
     ]
    },
    {
     "name": "stdout",
     "output_type": "stream",
     "text": [
      "Linear mixed model fit by REML [’lmerMod’]\n",
      "Formula: rating~1+position*(1|predicate/pair_id)\n",
      "\n",
      "Family: gaussian\t Inference: parametric\n",
      "\n",
      "Number of observations: 7744\t Groups: {'pair_id:predicate': 7743.0, 'predicate': 1760.0}\n",
      "\n",
      "Log-likelihood: -13377.152 \t AIC: 26764.303\n",
      "\n",
      "Random effects:\n",
      "\n",
      "                          Name    Var    Std\n",
      "pair_id:predicate  (Intercept)  1.482  1.217\n",
      "predicate          (Intercept)  0.758  0.871\n",
      "Residual                        0.000  0.000\n",
      "\n",
      "No random effect correlations specified\n",
      "\n",
      "Fixed effects:\n",
      "\n"
     ]
    },
    {
     "name": "stderr",
     "output_type": "stream",
     "text": [
      "/Users/lli/anaconda3/envs/metaphor/lib/python3.11/site-packages/pymer4/models/Lmer.py:733: FutureWarning: DataFrame.applymap has been deprecated. Use DataFrame.map instead.\n",
      "  ran_vars = ran_vars.applymap(\n"
     ]
    },
    {
     "name": "stdout",
     "output_type": "stream",
     "text": [
      "Linear mixed model fit by REML [’lmerMod’]\n",
      "Formula: rating~1+position+(1|pair_id)\n",
      "\n",
      "Family: gaussian\t Inference: parametric\n",
      "\n",
      "Number of observations: 7744\t Groups: {'pair_id': 7743.0}\n",
      "\n",
      "Log-likelihood: -13872.149 \t AIC: 27752.298\n",
      "\n",
      "Random effects:\n",
      "\n",
      "                 Name    Var    Std\n",
      "pair_id   (Intercept)  2.109  1.452\n",
      "Residual               0.000  0.000\n",
      "\n",
      "No random effect correlations specified\n",
      "\n",
      "Fixed effects:\n",
      "\n",
      "Model failed to converge with max|grad| = 0.0133409 (tol = 0.002, component 1) \n",
      "\n"
     ]
    },
    {
     "name": "stderr",
     "output_type": "stream",
     "text": [
      "/Users/lli/anaconda3/envs/metaphor/lib/python3.11/site-packages/pymer4/models/Lmer.py:733: FutureWarning: DataFrame.applymap has been deprecated. Use DataFrame.map instead.\n",
      "  ran_vars = ran_vars.applymap(\n"
     ]
    },
    {
     "name": "stdout",
     "output_type": "stream",
     "text": [
      "Linear mixed model fit by REML [’lmerMod’]\n",
      "Formula: rating~1+position*(1|predicate/pair_id)\n",
      "\n",
      "Family: gaussian\t Inference: parametric\n",
      "\n",
      "Number of observations: 7744\t Groups: {'pair_id:predicate': 7743.0, 'predicate': 1760.0}\n",
      "\n",
      "Log-likelihood: -14717.787 \t AIC: 29445.574\n",
      "\n",
      "Random effects:\n",
      "\n",
      "                          Name    Var    Std\n",
      "pair_id:predicate  (Intercept)  2.205  1.485\n",
      "predicate          (Intercept)  0.742  0.861\n",
      "Residual                        0.000  0.000\n",
      "\n",
      "No random effect correlations specified\n",
      "\n",
      "Fixed effects:\n",
      "\n"
     ]
    },
    {
     "name": "stderr",
     "output_type": "stream",
     "text": [
      "/Users/lli/anaconda3/envs/metaphor/lib/python3.11/site-packages/pymer4/models/Lmer.py:733: FutureWarning: DataFrame.applymap has been deprecated. Use DataFrame.map instead.\n",
      "  ran_vars = ran_vars.applymap(\n"
     ]
    },
    {
     "name": "stdout",
     "output_type": "stream",
     "text": [
      "Linear mixed model fit by REML [’lmerMod’]\n",
      "Formula: rating~1+position+(1|pair_id)\n",
      "\n",
      "Family: gaussian\t Inference: parametric\n",
      "\n",
      "Number of observations: 7744\t Groups: {'pair_id': 7743.0}\n",
      "\n",
      "Log-likelihood: -15139.775 \t AIC: 30287.551\n",
      "\n",
      "Random effects:\n",
      "\n",
      "                 Name    Var    Std\n",
      "pair_id   (Intercept)  2.927  1.711\n",
      "Residual               0.000  0.000\n",
      "\n",
      "No random effect correlations specified\n",
      "\n",
      "Fixed effects:\n",
      "\n",
      "boundary (singular) fit: see help('isSingular') \n",
      "\n"
     ]
    },
    {
     "name": "stderr",
     "output_type": "stream",
     "text": [
      "/Users/lli/anaconda3/envs/metaphor/lib/python3.11/site-packages/pymer4/models/Lmer.py:733: FutureWarning: DataFrame.applymap has been deprecated. Use DataFrame.map instead.\n",
      "  ran_vars = ran_vars.applymap(\n"
     ]
    },
    {
     "name": "stdout",
     "output_type": "stream",
     "text": [
      "Linear mixed model fit by REML [’lmerMod’]\n",
      "Formula: rating~1+position*(1|predicate/pair_id)\n",
      "\n",
      "Family: gaussian\t Inference: parametric\n",
      "\n",
      "Number of observations: 7744\t Groups: {'pair_id:predicate': 7743.0, 'predicate': 1760.0}\n",
      "\n",
      "Log-likelihood: -13718.793 \t AIC: 27447.586\n",
      "\n",
      "Random effects:\n",
      "\n",
      "                          Name    Var    Std\n",
      "pair_id:predicate  (Intercept)  0.000  0.000\n",
      "predicate          (Intercept)  0.814  0.902\n",
      "Residual                        1.618  1.272\n",
      "\n",
      "No random effect correlations specified\n",
      "\n",
      "Fixed effects:\n",
      "\n"
     ]
    },
    {
     "name": "stderr",
     "output_type": "stream",
     "text": [
      "/Users/lli/anaconda3/envs/metaphor/lib/python3.11/site-packages/pymer4/models/Lmer.py:733: FutureWarning: DataFrame.applymap has been deprecated. Use DataFrame.map instead.\n",
      "  ran_vars = ran_vars.applymap(\n"
     ]
    },
    {
     "name": "stdout",
     "output_type": "stream",
     "text": [
      "Linear mixed model fit by REML [’lmerMod’]\n",
      "Formula: rating~1+position+(1|pair_id)\n",
      "\n",
      "Family: gaussian\t Inference: parametric\n",
      "\n",
      "Number of observations: 7744\t Groups: {'pair_id': 7743.0}\n",
      "\n",
      "Log-likelihood: -14492.545 \t AIC: 28993.090\n",
      "\n",
      "Random effects:\n",
      "\n",
      "                 Name    Var    Std\n",
      "pair_id   (Intercept)  0.290  0.538\n",
      "Residual               2.179  1.476\n",
      "\n",
      "No random effect correlations specified\n",
      "\n",
      "Fixed effects:\n",
      "\n",
      "Model failed to converge with max|grad| = 0.00333773 (tol = 0.002, component 1) \n",
      "\n"
     ]
    },
    {
     "name": "stderr",
     "output_type": "stream",
     "text": [
      "/Users/lli/anaconda3/envs/metaphor/lib/python3.11/site-packages/pymer4/models/Lmer.py:733: FutureWarning: DataFrame.applymap has been deprecated. Use DataFrame.map instead.\n",
      "  ran_vars = ran_vars.applymap(\n"
     ]
    },
    {
     "name": "stdout",
     "output_type": "stream",
     "text": [
      "Linear mixed model fit by REML [’lmerMod’]\n",
      "Formula: rating~1+position*(1|predicate/pair_id)\n",
      "\n",
      "Family: gaussian\t Inference: parametric\n",
      "\n",
      "Number of observations: 7744\t Groups: {'pair_id:predicate': 7743.0, 'predicate': 1760.0}\n",
      "\n",
      "Log-likelihood: -14580.973 \t AIC: 29171.946\n",
      "\n",
      "Random effects:\n",
      "\n",
      "                          Name    Var    Std\n",
      "pair_id:predicate  (Intercept)  2.103  1.450\n",
      "predicate          (Intercept)  0.785  0.886\n",
      "Residual                        0.000  0.000\n",
      "\n",
      "No random effect correlations specified\n",
      "\n",
      "Fixed effects:\n",
      "\n"
     ]
    },
    {
     "name": "stderr",
     "output_type": "stream",
     "text": [
      "/Users/lli/anaconda3/envs/metaphor/lib/python3.11/site-packages/pymer4/models/Lmer.py:733: FutureWarning: DataFrame.applymap has been deprecated. Use DataFrame.map instead.\n",
      "  ran_vars = ran_vars.applymap(\n"
     ]
    },
    {
     "name": "stdout",
     "output_type": "stream",
     "text": [
      "Linear mixed model fit by REML [’lmerMod’]\n",
      "Formula: rating~1+position+(1|pair_id)\n",
      "\n",
      "Family: gaussian\t Inference: parametric\n",
      "\n",
      "Number of observations: 7744\t Groups: {'pair_id': 7743.0}\n",
      "\n",
      "Log-likelihood: -15046.846 \t AIC: 30101.692\n",
      "\n",
      "Random effects:\n",
      "\n",
      "                 Name    Var   Std\n",
      "pair_id   (Intercept)  2.857  1.69\n",
      "Residual               0.000  0.00\n",
      "\n",
      "No random effect correlations specified\n",
      "\n",
      "Fixed effects:\n",
      "\n",
      "Model failed to converge with max|grad| = 0.00419952 (tol = 0.002, component 1) \n",
      "\n"
     ]
    },
    {
     "name": "stderr",
     "output_type": "stream",
     "text": [
      "/Users/lli/anaconda3/envs/metaphor/lib/python3.11/site-packages/pymer4/models/Lmer.py:733: FutureWarning: DataFrame.applymap has been deprecated. Use DataFrame.map instead.\n",
      "  ran_vars = ran_vars.applymap(\n"
     ]
    },
    {
     "name": "stdout",
     "output_type": "stream",
     "text": [
      "Linear mixed model fit by REML [’lmerMod’]\n",
      "Formula: rating~1+position*(1|predicate/pair_id)\n",
      "\n",
      "Family: gaussian\t Inference: parametric\n",
      "\n",
      "Number of observations: 7744\t Groups: {'pair_id:predicate': 7743.0, 'predicate': 1760.0}\n",
      "\n",
      "Log-likelihood: -11051.436 \t AIC: 22112.872\n",
      "\n",
      "Random effects:\n",
      "\n",
      "                          Name    Var    Std\n",
      "pair_id:predicate  (Intercept)  0.879  0.937\n",
      "predicate          (Intercept)  0.228  0.477\n",
      "Residual                        0.000  0.000\n",
      "\n",
      "No random effect correlations specified\n",
      "\n",
      "Fixed effects:\n",
      "\n"
     ]
    },
    {
     "name": "stderr",
     "output_type": "stream",
     "text": [
      "/Users/lli/anaconda3/envs/metaphor/lib/python3.11/site-packages/pymer4/models/Lmer.py:733: FutureWarning: DataFrame.applymap has been deprecated. Use DataFrame.map instead.\n",
      "  ran_vars = ran_vars.applymap(\n"
     ]
    },
    {
     "name": "stdout",
     "output_type": "stream",
     "text": [
      "Linear mixed model fit by REML [’lmerMod’]\n",
      "Formula: rating~1+position+(1|pair_id)\n",
      "\n",
      "Family: gaussian\t Inference: parametric\n",
      "\n",
      "Number of observations: 7744\t Groups: {'pair_id': 7743.0}\n",
      "\n",
      "Log-likelihood: -11320.014 \t AIC: 22648.029\n",
      "\n",
      "Random effects:\n",
      "\n",
      "                 Name    Var    Std\n",
      "pair_id   (Intercept)  1.091  1.044\n",
      "Residual               0.000  0.000\n",
      "\n",
      "No random effect correlations specified\n",
      "\n",
      "Fixed effects:\n",
      "\n"
     ]
    },
    {
     "name": "stderr",
     "output_type": "stream",
     "text": [
      "/Users/lli/anaconda3/envs/metaphor/lib/python3.11/site-packages/pymer4/models/Lmer.py:733: FutureWarning: DataFrame.applymap has been deprecated. Use DataFrame.map instead.\n",
      "  ran_vars = ran_vars.applymap(\n"
     ]
    },
    {
     "name": "stdout",
     "output_type": "stream",
     "text": [
      "Linear mixed model fit by REML [’lmerMod’]\n",
      "Formula: rating~1+position*(1|predicate/pair_id)\n",
      "\n",
      "Family: gaussian\t Inference: parametric\n",
      "\n",
      "Number of observations: 7744\t Groups: {'pair_id:predicate': 7743.0, 'predicate': 1760.0}\n",
      "\n",
      "Log-likelihood: -14086.392 \t AIC: 28182.784\n",
      "\n",
      "Random effects:\n",
      "\n",
      "                          Name    Var    Std\n",
      "pair_id:predicate  (Intercept)  1.746  1.321\n",
      "predicate          (Intercept)  1.032  1.016\n",
      "Residual                        0.000  0.000\n",
      "\n",
      "No random effect correlations specified\n",
      "\n",
      "Fixed effects:\n",
      "\n"
     ]
    },
    {
     "name": "stderr",
     "output_type": "stream",
     "text": [
      "/Users/lli/anaconda3/envs/metaphor/lib/python3.11/site-packages/pymer4/models/Lmer.py:733: FutureWarning: DataFrame.applymap has been deprecated. Use DataFrame.map instead.\n",
      "  ran_vars = ran_vars.applymap(\n"
     ]
    },
    {
     "name": "stdout",
     "output_type": "stream",
     "text": [
      "Linear mixed model fit by REML [’lmerMod’]\n",
      "Formula: rating~1+position+(1|pair_id)\n",
      "\n",
      "Family: gaussian\t Inference: parametric\n",
      "\n",
      "Number of observations: 7744\t Groups: {'pair_id': 7743.0}\n",
      "\n",
      "Log-likelihood: -14893.895 \t AIC: 29795.791\n",
      "\n",
      "Random effects:\n",
      "\n",
      "                 Name    Var    Std\n",
      "pair_id   (Intercept)  2.746  1.657\n",
      "Residual               0.000  0.000\n",
      "\n",
      "No random effect correlations specified\n",
      "\n",
      "Fixed effects:\n",
      "\n"
     ]
    },
    {
     "data": {
      "text/html": [
       "<div>\n",
       "<style scoped>\n",
       "    .dataframe tbody tr th:only-of-type {\n",
       "        vertical-align: middle;\n",
       "    }\n",
       "\n",
       "    .dataframe tbody tr th {\n",
       "        vertical-align: top;\n",
       "    }\n",
       "\n",
       "    .dataframe thead th {\n",
       "        text-align: right;\n",
       "    }\n",
       "</style>\n",
       "<table border=\"1\" class=\"dataframe\">\n",
       "  <thead>\n",
       "    <tr style=\"text-align: right;\">\n",
       "      <th></th>\n",
       "      <th>property</th>\n",
       "      <th>sentence var from verb</th>\n",
       "    </tr>\n",
       "  </thead>\n",
       "  <tbody>\n",
       "    <tr>\n",
       "      <th>0</th>\n",
       "      <td>awareness</td>\n",
       "      <td>0.336549</td>\n",
       "    </tr>\n",
       "    <tr>\n",
       "      <th>1</th>\n",
       "      <td>change_of_location</td>\n",
       "      <td>0.253065</td>\n",
       "    </tr>\n",
       "    <tr>\n",
       "      <th>2</th>\n",
       "      <td>change_of_state</td>\n",
       "      <td>1.000000</td>\n",
       "    </tr>\n",
       "    <tr>\n",
       "      <th>3</th>\n",
       "      <td>changes_possession</td>\n",
       "      <td>0.153559</td>\n",
       "    </tr>\n",
       "    <tr>\n",
       "      <th>4</th>\n",
       "      <td>created</td>\n",
       "      <td>0.166658</td>\n",
       "    </tr>\n",
       "    <tr>\n",
       "      <th>5</th>\n",
       "      <td>destroyed</td>\n",
       "      <td>0.194514</td>\n",
       "    </tr>\n",
       "    <tr>\n",
       "      <th>6</th>\n",
       "      <td>existed_after</td>\n",
       "      <td>0.230920</td>\n",
       "    </tr>\n",
       "    <tr>\n",
       "      <th>7</th>\n",
       "      <td>existed_before</td>\n",
       "      <td>0.229316</td>\n",
       "    </tr>\n",
       "    <tr>\n",
       "      <th>8</th>\n",
       "      <td>existed_during</td>\n",
       "      <td>0.145940</td>\n",
       "    </tr>\n",
       "    <tr>\n",
       "      <th>9</th>\n",
       "      <td>exists_as_physical</td>\n",
       "      <td>0.237984</td>\n",
       "    </tr>\n",
       "    <tr>\n",
       "      <th>10</th>\n",
       "      <td>instigation</td>\n",
       "      <td>0.342404</td>\n",
       "    </tr>\n",
       "    <tr>\n",
       "      <th>11</th>\n",
       "      <td>location_of_event</td>\n",
       "      <td>0.032913</td>\n",
       "    </tr>\n",
       "    <tr>\n",
       "      <th>12</th>\n",
       "      <td>makes_physical_contact</td>\n",
       "      <td>0.297616</td>\n",
       "    </tr>\n",
       "    <tr>\n",
       "      <th>13</th>\n",
       "      <td>manipulated_by_another</td>\n",
       "      <td>0.246649</td>\n",
       "    </tr>\n",
       "    <tr>\n",
       "      <th>14</th>\n",
       "      <td>predicate_changed_argument</td>\n",
       "      <td>1.000000</td>\n",
       "    </tr>\n",
       "    <tr>\n",
       "      <th>15</th>\n",
       "      <td>sentient</td>\n",
       "      <td>0.263860</td>\n",
       "    </tr>\n",
       "    <tr>\n",
       "      <th>16</th>\n",
       "      <td>stationary</td>\n",
       "      <td>0.194598</td>\n",
       "    </tr>\n",
       "    <tr>\n",
       "      <th>17</th>\n",
       "      <td>volition</td>\n",
       "      <td>0.364378</td>\n",
       "    </tr>\n",
       "  </tbody>\n",
       "</table>\n",
       "</div>"
      ],
      "text/plain": [
       "                      property  sentence var from verb\n",
       "0                    awareness                0.336549\n",
       "1           change_of_location                0.253065\n",
       "2              change_of_state                1.000000\n",
       "3           changes_possession                0.153559\n",
       "4                      created                0.166658\n",
       "5                    destroyed                0.194514\n",
       "6                existed_after                0.230920\n",
       "7               existed_before                0.229316\n",
       "8               existed_during                0.145940\n",
       "9           exists_as_physical                0.237984\n",
       "10                 instigation                0.342404\n",
       "11           location_of_event                0.032913\n",
       "12      makes_physical_contact                0.297616\n",
       "13      manipulated_by_another                0.246649\n",
       "14  predicate_changed_argument                1.000000\n",
       "15                    sentient                0.263860\n",
       "16                  stationary                0.194598\n",
       "17                    volition                0.364378"
      ]
     },
     "execution_count": 16,
     "metadata": {},
     "output_type": "execute_result"
    }
   ],
   "source": [
    "verb_vars = []\n",
    "for property in properties_list:\n",
    "    verb_vars.append(find_verb_var(property, verb_name=\"verb_sense\", family=\"gaussian\"))\n",
    "\n",
    "verb_vars = pd.DataFrame(verb_vars)\n",
    "verb_vars\n"
   ]
  },
  {
   "cell_type": "code",
   "execution_count": 17,
   "metadata": {},
   "outputs": [
    {
     "name": "stdout",
     "output_type": "stream",
     "text": [
      "boundary (singular) fit: see help('isSingular') \n",
      "\n"
     ]
    },
    {
     "name": "stderr",
     "output_type": "stream",
     "text": [
      "/Users/lli/anaconda3/envs/metaphor/lib/python3.11/site-packages/pymer4/models/Lmer.py:733: FutureWarning: DataFrame.applymap has been deprecated. Use DataFrame.map instead.\n",
      "  ran_vars = ran_vars.applymap(\n"
     ]
    },
    {
     "name": "stdout",
     "output_type": "stream",
     "text": [
      "Linear mixed model fit by maximum likelihood  ['lmerMod']\n",
      "Formula: rating~1+position*(1|predicate/pair_id)\n",
      "\n",
      "Family: binomial\t Inference: parametric\n",
      "\n",
      "Number of observations: 7744\t Groups: {'pair_id:predicate': 7743.0, 'predicate': 1760.0}\n",
      "\n",
      "Log-likelihood: -3830.457 \t AIC: 7668.915\n",
      "\n",
      "Random effects:\n",
      "\n",
      "                          Name    Var    Std\n",
      "pair_id:predicate  (Intercept)  0.000  0.000\n",
      "predicate          (Intercept)  3.544  1.883\n",
      "\n",
      "No random effect correlations specified\n",
      "\n",
      "Fixed effects:\n",
      "\n"
     ]
    },
    {
     "name": "stderr",
     "output_type": "stream",
     "text": [
      "/Users/lli/anaconda3/envs/metaphor/lib/python3.11/site-packages/pymer4/models/Lmer.py:733: FutureWarning: DataFrame.applymap has been deprecated. Use DataFrame.map instead.\n",
      "  ran_vars = ran_vars.applymap(\n"
     ]
    },
    {
     "name": "stdout",
     "output_type": "stream",
     "text": [
      "Linear mixed model fit by maximum likelihood  ['lmerMod']\n",
      "Formula: rating~1+position+(1|pair_id)\n",
      "\n",
      "Family: binomial\t Inference: parametric\n",
      "\n",
      "Number of observations: 7744\t Groups: {'pair_id': 7743.0}\n",
      "\n",
      "Log-likelihood: -4439.642 \t AIC: 8885.285\n",
      "\n",
      "Random effects:\n",
      "\n",
      "                Name    Var    Std\n",
      "pair_id  (Intercept)  0.001  0.038\n",
      "\n",
      "No random effect correlations specified\n",
      "\n",
      "Fixed effects:\n",
      "\n"
     ]
    },
    {
     "name": "stderr",
     "output_type": "stream",
     "text": [
      "/Users/lli/anaconda3/envs/metaphor/lib/python3.11/site-packages/pymer4/models/Lmer.py:733: FutureWarning: DataFrame.applymap has been deprecated. Use DataFrame.map instead.\n",
      "  ran_vars = ran_vars.applymap(\n"
     ]
    },
    {
     "name": "stdout",
     "output_type": "stream",
     "text": [
      "Linear mixed model fit by maximum likelihood  ['lmerMod']\n",
      "Formula: rating~1+position*(1|predicate/pair_id)\n",
      "\n",
      "Family: binomial\t Inference: parametric\n",
      "\n",
      "Number of observations: 7744\t Groups: {'pair_id:predicate': 7743.0, 'predicate': 1760.0}\n",
      "\n",
      "Log-likelihood: -990.273 \t AIC: 1988.546\n",
      "\n",
      "Random effects:\n",
      "\n",
      "                          Name       Var     Std\n",
      "pair_id:predicate  (Intercept)  2662.375  51.598\n",
      "predicate          (Intercept)    48.586   6.970\n",
      "\n",
      "No random effect correlations specified\n",
      "\n",
      "Fixed effects:\n",
      "\n"
     ]
    },
    {
     "name": "stderr",
     "output_type": "stream",
     "text": [
      "/Users/lli/anaconda3/envs/metaphor/lib/python3.11/site-packages/pymer4/models/Lmer.py:733: FutureWarning: DataFrame.applymap has been deprecated. Use DataFrame.map instead.\n",
      "  ran_vars = ran_vars.applymap(\n"
     ]
    },
    {
     "name": "stdout",
     "output_type": "stream",
     "text": [
      "Linear mixed model fit by maximum likelihood  ['lmerMod']\n",
      "Formula: rating~1+position+(1|pair_id)\n",
      "\n",
      "Family: binomial\t Inference: parametric\n",
      "\n",
      "Number of observations: 7744\t Groups: {'pair_id': 7743.0}\n",
      "\n",
      "Log-likelihood: -995.189 \t AIC: 1996.378\n",
      "\n",
      "Random effects:\n",
      "\n",
      "                Name       Var     Std\n",
      "pair_id  (Intercept)  2797.773  52.894\n",
      "\n",
      "No random effect correlations specified\n",
      "\n",
      "Fixed effects:\n",
      "\n",
      "boundary (singular) fit: see help('isSingular') \n",
      "\n"
     ]
    },
    {
     "name": "stderr",
     "output_type": "stream",
     "text": [
      "/Users/lli/anaconda3/envs/metaphor/lib/python3.11/site-packages/pymer4/models/Lmer.py:733: FutureWarning: DataFrame.applymap has been deprecated. Use DataFrame.map instead.\n",
      "  ran_vars = ran_vars.applymap(\n"
     ]
    },
    {
     "name": "stdout",
     "output_type": "stream",
     "text": [
      "Linear mixed model fit by maximum likelihood  ['lmerMod']\n",
      "Formula: rating~1+position*(1|predicate/pair_id)\n",
      "\n",
      "Family: binomial\t Inference: parametric\n",
      "\n",
      "Number of observations: 7744\t Groups: {'pair_id:predicate': 7743.0, 'predicate': 1760.0}\n",
      "\n",
      "Log-likelihood: -4360.655 \t AIC: 8729.311\n",
      "\n",
      "Random effects:\n",
      "\n",
      "                          Name   Var    Std\n",
      "pair_id:predicate  (Intercept)  0.00  0.000\n",
      "predicate          (Intercept)  3.23  1.797\n",
      "\n",
      "No random effect correlations specified\n",
      "\n",
      "Fixed effects:\n",
      "\n",
      "boundary (singular) fit: see help('isSingular') \n",
      "\n"
     ]
    },
    {
     "name": "stderr",
     "output_type": "stream",
     "text": [
      "/Users/lli/anaconda3/envs/metaphor/lib/python3.11/site-packages/pymer4/models/Lmer.py:733: FutureWarning: DataFrame.applymap has been deprecated. Use DataFrame.map instead.\n",
      "  ran_vars = ran_vars.applymap(\n"
     ]
    },
    {
     "name": "stdout",
     "output_type": "stream",
     "text": [
      "Linear mixed model fit by maximum likelihood  ['lmerMod']\n",
      "Formula: rating~1+position+(1|pair_id)\n",
      "\n",
      "Family: binomial\t Inference: parametric\n",
      "\n",
      "Number of observations: 7744\t Groups: {'pair_id': 7743.0}\n",
      "\n",
      "Log-likelihood: -5126.692 \t AIC: 10259.383\n",
      "\n",
      "Random effects:\n",
      "\n",
      "                Name  Var  Std\n",
      "pair_id  (Intercept)  0.0  0.0\n",
      "\n",
      "No random effect correlations specified\n",
      "\n",
      "Fixed effects:\n",
      "\n"
     ]
    },
    {
     "name": "stderr",
     "output_type": "stream",
     "text": [
      "/var/folders/lq/kd3wh6952vg99n5ppf4srz9w0000gn/T/ipykernel_12678/3807035338.py:33: RuntimeWarning: divide by zero encountered in scalar divide\n",
      "  verb_sentence_var = var_from_verb / var_pair_id_full\n"
     ]
    },
    {
     "name": "stdout",
     "output_type": "stream",
     "text": [
      "boundary (singular) fit: see help('isSingular') \n",
      "\n"
     ]
    },
    {
     "name": "stderr",
     "output_type": "stream",
     "text": [
      "/Users/lli/anaconda3/envs/metaphor/lib/python3.11/site-packages/pymer4/models/Lmer.py:733: FutureWarning: DataFrame.applymap has been deprecated. Use DataFrame.map instead.\n",
      "  ran_vars = ran_vars.applymap(\n"
     ]
    },
    {
     "name": "stdout",
     "output_type": "stream",
     "text": [
      "Linear mixed model fit by maximum likelihood  ['lmerMod']\n",
      "Formula: rating~1+position*(1|predicate/pair_id)\n",
      "\n",
      "Family: binomial\t Inference: parametric\n",
      "\n",
      "Number of observations: 7744\t Groups: {'pair_id:predicate': 7743.0, 'predicate': 1760.0}\n",
      "\n",
      "Log-likelihood: -837.688 \t AIC: 1683.375\n",
      "\n",
      "Random effects:\n",
      "\n",
      "                          Name       Var     Std\n",
      "pair_id:predicate  (Intercept)  2916.317  54.003\n",
      "predicate          (Intercept)     0.000   0.000\n",
      "\n",
      "No random effect correlations specified\n",
      "\n",
      "Fixed effects:\n",
      "\n"
     ]
    },
    {
     "name": "stderr",
     "output_type": "stream",
     "text": [
      "/Users/lli/anaconda3/envs/metaphor/lib/python3.11/site-packages/pymer4/models/Lmer.py:733: FutureWarning: DataFrame.applymap has been deprecated. Use DataFrame.map instead.\n",
      "  ran_vars = ran_vars.applymap(\n"
     ]
    },
    {
     "name": "stdout",
     "output_type": "stream",
     "text": [
      "Linear mixed model fit by maximum likelihood  ['lmerMod']\n",
      "Formula: rating~1+position+(1|pair_id)\n",
      "\n",
      "Family: binomial\t Inference: parametric\n",
      "\n",
      "Number of observations: 7744\t Groups: {'pair_id': 7743.0}\n",
      "\n",
      "Log-likelihood: -837.696 \t AIC: 1681.392\n",
      "\n",
      "Random effects:\n",
      "\n",
      "                Name       Var     Std\n",
      "pair_id  (Intercept)  2904.961  53.898\n",
      "\n",
      "No random effect correlations specified\n",
      "\n",
      "Fixed effects:\n",
      "\n",
      "[1] \"Model failed to converge with max|grad| = 0.0904252 (tol = 0.002, component 1)\"\n",
      "[2] \" \\n\"                                                                           \n",
      "\n",
      "[1] \"Model is nearly unidentifiable: very large eigenvalue\\n - Rescale variables?\"\n",
      "[2] \" \\n\"                                                                         \n",
      "\n"
     ]
    },
    {
     "name": "stderr",
     "output_type": "stream",
     "text": [
      "/Users/lli/anaconda3/envs/metaphor/lib/python3.11/site-packages/pymer4/models/Lmer.py:733: FutureWarning: DataFrame.applymap has been deprecated. Use DataFrame.map instead.\n",
      "  ran_vars = ran_vars.applymap(\n"
     ]
    },
    {
     "name": "stdout",
     "output_type": "stream",
     "text": [
      "Linear mixed model fit by maximum likelihood  ['lmerMod']\n",
      "Formula: rating~1+position*(1|predicate/pair_id)\n",
      "\n",
      "Family: binomial\t Inference: parametric\n",
      "\n",
      "Number of observations: 7744\t Groups: {'pair_id:predicate': 7743.0, 'predicate': 1760.0}\n",
      "\n",
      "Log-likelihood: -802.888 \t AIC: 1613.776\n",
      "\n",
      "Random effects:\n",
      "\n",
      "                          Name       Var     Std\n",
      "pair_id:predicate  (Intercept)  2519.894  50.199\n",
      "predicate          (Intercept)    59.141   7.690\n",
      "\n",
      "No random effect correlations specified\n",
      "\n",
      "Fixed effects:\n",
      "\n"
     ]
    },
    {
     "name": "stderr",
     "output_type": "stream",
     "text": [
      "/Users/lli/anaconda3/envs/metaphor/lib/python3.11/site-packages/pymer4/models/Lmer.py:733: FutureWarning: DataFrame.applymap has been deprecated. Use DataFrame.map instead.\n",
      "  ran_vars = ran_vars.applymap(\n"
     ]
    },
    {
     "name": "stdout",
     "output_type": "stream",
     "text": [
      "Linear mixed model fit by maximum likelihood  ['lmerMod']\n",
      "Formula: rating~1+position+(1|pair_id)\n",
      "\n",
      "Family: binomial\t Inference: parametric\n",
      "\n",
      "Number of observations: 7744\t Groups: {'pair_id': 7743.0}\n",
      "\n",
      "Log-likelihood: -809.339 \t AIC: 1624.679\n",
      "\n",
      "Random effects:\n",
      "\n",
      "                Name       Var     Std\n",
      "pair_id  (Intercept)  2713.614  52.092\n",
      "\n",
      "No random effect correlations specified\n",
      "\n",
      "Fixed effects:\n",
      "\n",
      "[1] \"Model failed to converge with max|grad| = 0.0723928 (tol = 0.002, component 1)\"\n",
      "[2] \" \\n\"                                                                           \n",
      "\n",
      "[1] \"Model is nearly unidentifiable: very large eigenvalue\\n - Rescale variables?\"\n",
      "[2] \" \\n\"                                                                         \n",
      "\n"
     ]
    },
    {
     "name": "stderr",
     "output_type": "stream",
     "text": [
      "/Users/lli/anaconda3/envs/metaphor/lib/python3.11/site-packages/pymer4/models/Lmer.py:733: FutureWarning: DataFrame.applymap has been deprecated. Use DataFrame.map instead.\n",
      "  ran_vars = ran_vars.applymap(\n"
     ]
    },
    {
     "name": "stdout",
     "output_type": "stream",
     "text": [
      "Linear mixed model fit by maximum likelihood  ['lmerMod']\n",
      "Formula: rating~1+position*(1|predicate/pair_id)\n",
      "\n",
      "Family: binomial\t Inference: parametric\n",
      "\n",
      "Number of observations: 7744\t Groups: {'pair_id:predicate': 7743.0, 'predicate': 1760.0}\n",
      "\n",
      "Log-likelihood: -406.720 \t AIC: 821.440\n",
      "\n",
      "Random effects:\n",
      "\n",
      "                          Name       Var     Std\n",
      "pair_id:predicate  (Intercept)  3429.151  58.559\n",
      "predicate          (Intercept)     0.002   0.040\n",
      "\n",
      "No random effect correlations specified\n",
      "\n",
      "Fixed effects:\n",
      "\n"
     ]
    },
    {
     "name": "stderr",
     "output_type": "stream",
     "text": [
      "/Users/lli/anaconda3/envs/metaphor/lib/python3.11/site-packages/pymer4/models/Lmer.py:733: FutureWarning: DataFrame.applymap has been deprecated. Use DataFrame.map instead.\n",
      "  ran_vars = ran_vars.applymap(\n"
     ]
    },
    {
     "name": "stdout",
     "output_type": "stream",
     "text": [
      "Linear mixed model fit by maximum likelihood  ['lmerMod']\n",
      "Formula: rating~1+position+(1|pair_id)\n",
      "\n",
      "Family: binomial\t Inference: parametric\n",
      "\n",
      "Number of observations: 7744\t Groups: {'pair_id': 7743.0}\n",
      "\n",
      "Log-likelihood: -406.763 \t AIC: 819.526\n",
      "\n",
      "Random effects:\n",
      "\n",
      "                Name       Var     Std\n",
      "pair_id  (Intercept)  3341.785  57.808\n",
      "\n",
      "No random effect correlations specified\n",
      "\n",
      "Fixed effects:\n",
      "\n",
      "boundary (singular) fit: see help('isSingular') \n",
      "\n"
     ]
    },
    {
     "name": "stderr",
     "output_type": "stream",
     "text": [
      "/Users/lli/anaconda3/envs/metaphor/lib/python3.11/site-packages/pymer4/models/Lmer.py:733: FutureWarning: DataFrame.applymap has been deprecated. Use DataFrame.map instead.\n",
      "  ran_vars = ran_vars.applymap(\n"
     ]
    },
    {
     "name": "stdout",
     "output_type": "stream",
     "text": [
      "Linear mixed model fit by maximum likelihood  ['lmerMod']\n",
      "Formula: rating~1+position*(1|predicate/pair_id)\n",
      "\n",
      "Family: binomial\t Inference: parametric\n",
      "\n",
      "Number of observations: 7744\t Groups: {'pair_id:predicate': 7743.0, 'predicate': 1760.0}\n",
      "\n",
      "Log-likelihood: -3952.552 \t AIC: 7913.105\n",
      "\n",
      "Random effects:\n",
      "\n",
      "                          Name    Var    Std\n",
      "pair_id:predicate  (Intercept)  0.000  0.000\n",
      "predicate          (Intercept)  1.618  1.272\n",
      "\n",
      "No random effect correlations specified\n",
      "\n",
      "Fixed effects:\n",
      "\n"
     ]
    },
    {
     "name": "stderr",
     "output_type": "stream",
     "text": [
      "/Users/lli/anaconda3/envs/metaphor/lib/python3.11/site-packages/pymer4/models/Lmer.py:733: FutureWarning: DataFrame.applymap has been deprecated. Use DataFrame.map instead.\n",
      "  ran_vars = ran_vars.applymap(\n"
     ]
    },
    {
     "name": "stdout",
     "output_type": "stream",
     "text": [
      "Linear mixed model fit by maximum likelihood  ['lmerMod']\n",
      "Formula: rating~1+position+(1|pair_id)\n",
      "\n",
      "Family: binomial\t Inference: parametric\n",
      "\n",
      "Number of observations: 7744\t Groups: {'pair_id': 7743.0}\n",
      "\n",
      "Log-likelihood: -4258.748 \t AIC: 8523.496\n",
      "\n",
      "Random effects:\n",
      "\n",
      "                Name    Var    Std\n",
      "pair_id  (Intercept)  0.001  0.031\n",
      "\n",
      "No random effect correlations specified\n",
      "\n",
      "Fixed effects:\n",
      "\n",
      "boundary (singular) fit: see help('isSingular') \n",
      "\n"
     ]
    },
    {
     "name": "stderr",
     "output_type": "stream",
     "text": [
      "/Users/lli/anaconda3/envs/metaphor/lib/python3.11/site-packages/pymer4/models/Lmer.py:733: FutureWarning: DataFrame.applymap has been deprecated. Use DataFrame.map instead.\n",
      "  ran_vars = ran_vars.applymap(\n"
     ]
    },
    {
     "name": "stdout",
     "output_type": "stream",
     "text": [
      "Linear mixed model fit by maximum likelihood  ['lmerMod']\n",
      "Formula: rating~1+position*(1|predicate/pair_id)\n",
      "\n",
      "Family: binomial\t Inference: parametric\n",
      "\n",
      "Number of observations: 7744\t Groups: {'pair_id:predicate': 7743.0, 'predicate': 1760.0}\n",
      "\n",
      "Log-likelihood: -4132.084 \t AIC: 8272.168\n",
      "\n",
      "Random effects:\n",
      "\n",
      "                          Name    Var    Std\n",
      "pair_id:predicate  (Intercept)  0.000  0.000\n",
      "predicate          (Intercept)  1.508  1.228\n",
      "\n",
      "No random effect correlations specified\n",
      "\n",
      "Fixed effects:\n",
      "\n"
     ]
    },
    {
     "name": "stderr",
     "output_type": "stream",
     "text": [
      "/Users/lli/anaconda3/envs/metaphor/lib/python3.11/site-packages/pymer4/models/Lmer.py:733: FutureWarning: DataFrame.applymap has been deprecated. Use DataFrame.map instead.\n",
      "  ran_vars = ran_vars.applymap(\n"
     ]
    },
    {
     "name": "stdout",
     "output_type": "stream",
     "text": [
      "Linear mixed model fit by maximum likelihood  ['lmerMod']\n",
      "Formula: rating~1+position+(1|pair_id)\n",
      "\n",
      "Family: binomial\t Inference: parametric\n",
      "\n",
      "Number of observations: 7744\t Groups: {'pair_id': 7743.0}\n",
      "\n",
      "Log-likelihood: -4463.490 \t AIC: 8932.979\n",
      "\n",
      "Random effects:\n",
      "\n",
      "                Name    Var    Std\n",
      "pair_id  (Intercept)  0.001  0.024\n",
      "\n",
      "No random effect correlations specified\n",
      "\n",
      "Fixed effects:\n",
      "\n",
      "boundary (singular) fit: see help('isSingular') \n",
      "\n"
     ]
    },
    {
     "name": "stderr",
     "output_type": "stream",
     "text": [
      "/Users/lli/anaconda3/envs/metaphor/lib/python3.11/site-packages/pymer4/models/Lmer.py:733: FutureWarning: DataFrame.applymap has been deprecated. Use DataFrame.map instead.\n",
      "  ran_vars = ran_vars.applymap(\n"
     ]
    },
    {
     "name": "stdout",
     "output_type": "stream",
     "text": [
      "Linear mixed model fit by maximum likelihood  ['lmerMod']\n",
      "Formula: rating~1+position*(1|predicate/pair_id)\n",
      "\n",
      "Family: binomial\t Inference: parametric\n",
      "\n",
      "Number of observations: 7744\t Groups: {'pair_id:predicate': 7743.0, 'predicate': 1760.0}\n",
      "\n",
      "Log-likelihood: -1768.634 \t AIC: 3545.268\n",
      "\n",
      "Random effects:\n",
      "\n",
      "                          Name    Var    Std\n",
      "pair_id:predicate  (Intercept)  0.000  0.000\n",
      "predicate          (Intercept)  7.788  2.791\n",
      "\n",
      "No random effect correlations specified\n",
      "\n",
      "Fixed effects:\n",
      "\n"
     ]
    },
    {
     "name": "stderr",
     "output_type": "stream",
     "text": [
      "/Users/lli/anaconda3/envs/metaphor/lib/python3.11/site-packages/pymer4/models/Lmer.py:733: FutureWarning: DataFrame.applymap has been deprecated. Use DataFrame.map instead.\n",
      "  ran_vars = ran_vars.applymap(\n"
     ]
    },
    {
     "name": "stdout",
     "output_type": "stream",
     "text": [
      "Linear mixed model fit by maximum likelihood  ['lmerMod']\n",
      "Formula: rating~1+position+(1|pair_id)\n",
      "\n",
      "Family: binomial\t Inference: parametric\n",
      "\n",
      "Number of observations: 7744\t Groups: {'pair_id': 7743.0}\n",
      "\n",
      "Log-likelihood: -952.386 \t AIC: 1910.771\n",
      "\n",
      "Random effects:\n",
      "\n",
      "                Name       Var     Std\n",
      "pair_id  (Intercept)  2608.292  51.071\n",
      "\n",
      "No random effect correlations specified\n",
      "\n",
      "Fixed effects:\n",
      "\n",
      "[1] \"Model failed to converge with max|grad| = 0.185904 (tol = 0.002, component 1)\"\n",
      "[2] \" \\n\"                                                                          \n",
      "\n",
      "[1] \"Model is nearly unidentifiable: very large eigenvalue\\n - Rescale variables?\"\n",
      "[2] \" \\n\"                                                                         \n",
      "\n"
     ]
    },
    {
     "name": "stderr",
     "output_type": "stream",
     "text": [
      "/Users/lli/anaconda3/envs/metaphor/lib/python3.11/site-packages/pymer4/models/Lmer.py:733: FutureWarning: DataFrame.applymap has been deprecated. Use DataFrame.map instead.\n",
      "  ran_vars = ran_vars.applymap(\n"
     ]
    },
    {
     "name": "stdout",
     "output_type": "stream",
     "text": [
      "Linear mixed model fit by maximum likelihood  ['lmerMod']\n",
      "Formula: rating~1+position*(1|predicate/pair_id)\n",
      "\n",
      "Family: binomial\t Inference: parametric\n",
      "\n",
      "Number of observations: 7744\t Groups: {'pair_id:predicate': 7743.0, 'predicate': 1760.0}\n",
      "\n",
      "Log-likelihood: -4672.050 \t AIC: 9352.101\n",
      "\n",
      "Random effects:\n",
      "\n",
      "                          Name    Var    Std\n",
      "pair_id:predicate  (Intercept)  0.001  0.030\n",
      "predicate          (Intercept)  1.507  1.228\n",
      "\n",
      "No random effect correlations specified\n",
      "\n",
      "Fixed effects:\n",
      "\n"
     ]
    },
    {
     "name": "stderr",
     "output_type": "stream",
     "text": [
      "/Users/lli/anaconda3/envs/metaphor/lib/python3.11/site-packages/pymer4/models/Lmer.py:733: FutureWarning: DataFrame.applymap has been deprecated. Use DataFrame.map instead.\n",
      "  ran_vars = ran_vars.applymap(\n"
     ]
    },
    {
     "name": "stdout",
     "output_type": "stream",
     "text": [
      "Linear mixed model fit by maximum likelihood  ['lmerMod']\n",
      "Formula: rating~1+position+(1|pair_id)\n",
      "\n",
      "Family: binomial\t Inference: parametric\n",
      "\n",
      "Number of observations: 7744\t Groups: {'pair_id': 7743.0}\n",
      "\n",
      "Log-likelihood: -4988.468 \t AIC: 9982.936\n",
      "\n",
      "Random effects:\n",
      "\n",
      "                Name    Var    Std\n",
      "pair_id  (Intercept)  0.001  0.035\n",
      "\n",
      "No random effect correlations specified\n",
      "\n",
      "Fixed effects:\n",
      "\n",
      "boundary (singular) fit: see help('isSingular') \n",
      "\n"
     ]
    },
    {
     "name": "stderr",
     "output_type": "stream",
     "text": [
      "/Users/lli/anaconda3/envs/metaphor/lib/python3.11/site-packages/pymer4/models/Lmer.py:733: FutureWarning: DataFrame.applymap has been deprecated. Use DataFrame.map instead.\n",
      "  ran_vars = ran_vars.applymap(\n"
     ]
    },
    {
     "name": "stdout",
     "output_type": "stream",
     "text": [
      "Linear mixed model fit by maximum likelihood  ['lmerMod']\n",
      "Formula: rating~1+position*(1|predicate/pair_id)\n",
      "\n",
      "Family: binomial\t Inference: parametric\n",
      "\n",
      "Number of observations: 7744\t Groups: {'pair_id:predicate': 7743.0, 'predicate': 1760.0}\n",
      "\n",
      "Log-likelihood: -2923.866 \t AIC: 5855.733\n",
      "\n",
      "Random effects:\n",
      "\n",
      "                          Name    Var    Std\n",
      "pair_id:predicate  (Intercept)  0.000  0.000\n",
      "predicate          (Intercept)  4.915  2.217\n",
      "\n",
      "No random effect correlations specified\n",
      "\n",
      "Fixed effects:\n",
      "\n"
     ]
    },
    {
     "name": "stderr",
     "output_type": "stream",
     "text": [
      "/Users/lli/anaconda3/envs/metaphor/lib/python3.11/site-packages/pymer4/models/Lmer.py:733: FutureWarning: DataFrame.applymap has been deprecated. Use DataFrame.map instead.\n",
      "  ran_vars = ran_vars.applymap(\n"
     ]
    },
    {
     "name": "stdout",
     "output_type": "stream",
     "text": [
      "Linear mixed model fit by maximum likelihood  ['lmerMod']\n",
      "Formula: rating~1+position+(1|pair_id)\n",
      "\n",
      "Family: binomial\t Inference: parametric\n",
      "\n",
      "Number of observations: 7744\t Groups: {'pair_id': 7743.0}\n",
      "\n",
      "Log-likelihood: -3455.583 \t AIC: 6917.166\n",
      "\n",
      "Random effects:\n",
      "\n",
      "                Name    Var    Std\n",
      "pair_id  (Intercept)  0.001  0.037\n",
      "\n",
      "No random effect correlations specified\n",
      "\n",
      "Fixed effects:\n",
      "\n",
      "unable to evaluate scaled gradient \n",
      "\n",
      "Model failed to converge: degenerate  Hessian with 1 negative eigenvalues \n",
      "\n"
     ]
    },
    {
     "name": "stderr",
     "output_type": "stream",
     "text": [
      "/Users/lli/anaconda3/envs/metaphor/lib/python3.11/site-packages/pymer4/models/Lmer.py:733: FutureWarning: DataFrame.applymap has been deprecated. Use DataFrame.map instead.\n",
      "  ran_vars = ran_vars.applymap(\n"
     ]
    },
    {
     "name": "stdout",
     "output_type": "stream",
     "text": [
      "Linear mixed model fit by maximum likelihood  ['lmerMod']\n",
      "Formula: rating~1+position*(1|predicate/pair_id)\n",
      "\n",
      "Family: binomial\t Inference: parametric\n",
      "\n",
      "Number of observations: 7744\t Groups: {'pair_id:predicate': 7743.0, 'predicate': 1760.0}\n",
      "\n",
      "Log-likelihood: -1002.746 \t AIC: 2013.492\n",
      "\n",
      "Random effects:\n",
      "\n",
      "                          Name       Var     Std\n",
      "pair_id:predicate  (Intercept)  2744.441  52.387\n",
      "predicate          (Intercept)     0.004   0.060\n",
      "\n",
      "No random effect correlations specified\n",
      "\n",
      "Fixed effects:\n",
      "\n"
     ]
    },
    {
     "name": "stderr",
     "output_type": "stream",
     "text": [
      "/Users/lli/anaconda3/envs/metaphor/lib/python3.11/site-packages/pymer4/models/Lmer.py:733: FutureWarning: DataFrame.applymap has been deprecated. Use DataFrame.map instead.\n",
      "  ran_vars = ran_vars.applymap(\n"
     ]
    },
    {
     "name": "stdout",
     "output_type": "stream",
     "text": [
      "Linear mixed model fit by maximum likelihood  ['lmerMod']\n",
      "Formula: rating~1+position+(1|pair_id)\n",
      "\n",
      "Family: binomial\t Inference: parametric\n",
      "\n",
      "Number of observations: 7744\t Groups: {'pair_id': 7743.0}\n",
      "\n",
      "Log-likelihood: -1002.665 \t AIC: 2011.330\n",
      "\n",
      "Random effects:\n",
      "\n",
      "                Name       Var     Std\n",
      "pair_id  (Intercept)  2784.179  52.765\n",
      "\n",
      "No random effect correlations specified\n",
      "\n",
      "Fixed effects:\n",
      "\n"
     ]
    },
    {
     "name": "stderr",
     "output_type": "stream",
     "text": [
      "/Users/lli/anaconda3/envs/metaphor/lib/python3.11/site-packages/pymer4/models/Lmer.py:733: FutureWarning: DataFrame.applymap has been deprecated. Use DataFrame.map instead.\n",
      "  ran_vars = ran_vars.applymap(\n"
     ]
    },
    {
     "name": "stdout",
     "output_type": "stream",
     "text": [
      "Linear mixed model fit by maximum likelihood  ['lmerMod']\n",
      "Formula: rating~1+position*(1|predicate/pair_id)\n",
      "\n",
      "Family: binomial\t Inference: parametric\n",
      "\n",
      "Number of observations: 7744\t Groups: {'pair_id:predicate': 7743.0, 'predicate': 1760.0}\n",
      "\n",
      "Log-likelihood: -1839.549 \t AIC: 3687.098\n",
      "\n",
      "Random effects:\n",
      "\n",
      "                          Name       Var     Std\n",
      "pair_id:predicate  (Intercept)  2219.080  47.107\n",
      "predicate          (Intercept)    32.937   5.739\n",
      "\n",
      "No random effect correlations specified\n",
      "\n",
      "Fixed effects:\n",
      "\n"
     ]
    },
    {
     "name": "stderr",
     "output_type": "stream",
     "text": [
      "/Users/lli/anaconda3/envs/metaphor/lib/python3.11/site-packages/pymer4/models/Lmer.py:733: FutureWarning: DataFrame.applymap has been deprecated. Use DataFrame.map instead.\n",
      "  ran_vars = ran_vars.applymap(\n"
     ]
    },
    {
     "name": "stdout",
     "output_type": "stream",
     "text": [
      "Linear mixed model fit by maximum likelihood  ['lmerMod']\n",
      "Formula: rating~1+position+(1|pair_id)\n",
      "\n",
      "Family: binomial\t Inference: parametric\n",
      "\n",
      "Number of observations: 7744\t Groups: {'pair_id': 7743.0}\n",
      "\n",
      "Log-likelihood: -1846.368 \t AIC: 3698.736\n",
      "\n",
      "Random effects:\n",
      "\n",
      "                Name       Var     Std\n",
      "pair_id  (Intercept)  2287.927  47.832\n",
      "\n",
      "No random effect correlations specified\n",
      "\n",
      "Fixed effects:\n",
      "\n",
      "boundary (singular) fit: see help('isSingular') \n",
      "\n"
     ]
    },
    {
     "name": "stderr",
     "output_type": "stream",
     "text": [
      "/Users/lli/anaconda3/envs/metaphor/lib/python3.11/site-packages/pymer4/models/Lmer.py:733: FutureWarning: DataFrame.applymap has been deprecated. Use DataFrame.map instead.\n",
      "  ran_vars = ran_vars.applymap(\n"
     ]
    },
    {
     "name": "stdout",
     "output_type": "stream",
     "text": [
      "Linear mixed model fit by maximum likelihood  ['lmerMod']\n",
      "Formula: rating~1+position*(1|predicate/pair_id)\n",
      "\n",
      "Family: binomial\t Inference: parametric\n",
      "\n",
      "Number of observations: 7744\t Groups: {'pair_id:predicate': 7743.0, 'predicate': 1760.0}\n",
      "\n",
      "Log-likelihood: -3913.186 \t AIC: 7834.372\n",
      "\n",
      "Random effects:\n",
      "\n",
      "                          Name    Var    Std\n",
      "pair_id:predicate  (Intercept)  0.000  0.000\n",
      "predicate          (Intercept)  2.025  1.423\n",
      "\n",
      "No random effect correlations specified\n",
      "\n",
      "Fixed effects:\n",
      "\n"
     ]
    },
    {
     "name": "stderr",
     "output_type": "stream",
     "text": [
      "/Users/lli/anaconda3/envs/metaphor/lib/python3.11/site-packages/pymer4/models/Lmer.py:733: FutureWarning: DataFrame.applymap has been deprecated. Use DataFrame.map instead.\n",
      "  ran_vars = ran_vars.applymap(\n"
     ]
    },
    {
     "name": "stdout",
     "output_type": "stream",
     "text": [
      "Linear mixed model fit by maximum likelihood  ['lmerMod']\n",
      "Formula: rating~1+position+(1|pair_id)\n",
      "\n",
      "Family: binomial\t Inference: parametric\n",
      "\n",
      "Number of observations: 7744\t Groups: {'pair_id': 7743.0}\n",
      "\n",
      "Log-likelihood: -4284.141 \t AIC: 8574.282\n",
      "\n",
      "Random effects:\n",
      "\n",
      "                Name    Var    Std\n",
      "pair_id  (Intercept)  0.002  0.041\n",
      "\n",
      "No random effect correlations specified\n",
      "\n",
      "Fixed effects:\n",
      "\n",
      "boundary (singular) fit: see help('isSingular') \n",
      "\n"
     ]
    },
    {
     "name": "stderr",
     "output_type": "stream",
     "text": [
      "/Users/lli/anaconda3/envs/metaphor/lib/python3.11/site-packages/pymer4/models/Lmer.py:733: FutureWarning: DataFrame.applymap has been deprecated. Use DataFrame.map instead.\n",
      "  ran_vars = ran_vars.applymap(\n"
     ]
    },
    {
     "name": "stdout",
     "output_type": "stream",
     "text": [
      "Linear mixed model fit by maximum likelihood  ['lmerMod']\n",
      "Formula: rating~1+position*(1|predicate/pair_id)\n",
      "\n",
      "Family: binomial\t Inference: parametric\n",
      "\n",
      "Number of observations: 7744\t Groups: {'pair_id:predicate': 7743.0, 'predicate': 1760.0}\n",
      "\n",
      "Log-likelihood: -4361.891 \t AIC: 8731.783\n",
      "\n",
      "Random effects:\n",
      "\n",
      "                          Name    Var    Std\n",
      "pair_id:predicate  (Intercept)  0.000  0.000\n",
      "predicate          (Intercept)  3.154  1.776\n",
      "\n",
      "No random effect correlations specified\n",
      "\n",
      "Fixed effects:\n",
      "\n",
      "boundary (singular) fit: see help('isSingular') \n",
      "\n"
     ]
    },
    {
     "name": "stderr",
     "output_type": "stream",
     "text": [
      "/Users/lli/anaconda3/envs/metaphor/lib/python3.11/site-packages/pymer4/models/Lmer.py:733: FutureWarning: DataFrame.applymap has been deprecated. Use DataFrame.map instead.\n",
      "  ran_vars = ran_vars.applymap(\n"
     ]
    },
    {
     "name": "stdout",
     "output_type": "stream",
     "text": [
      "Linear mixed model fit by maximum likelihood  ['lmerMod']\n",
      "Formula: rating~1+position+(1|pair_id)\n",
      "\n",
      "Family: binomial\t Inference: parametric\n",
      "\n",
      "Number of observations: 7744\t Groups: {'pair_id': 7743.0}\n",
      "\n",
      "Log-likelihood: -5124.997 \t AIC: 10255.994\n",
      "\n",
      "Random effects:\n",
      "\n",
      "                Name  Var  Std\n",
      "pair_id  (Intercept)  0.0  0.0\n",
      "\n",
      "No random effect correlations specified\n",
      "\n",
      "Fixed effects:\n",
      "\n"
     ]
    },
    {
     "name": "stderr",
     "output_type": "stream",
     "text": [
      "/var/folders/lq/kd3wh6952vg99n5ppf4srz9w0000gn/T/ipykernel_12678/3807035338.py:33: RuntimeWarning: invalid value encountered in scalar divide\n",
      "  verb_sentence_var = var_from_verb / var_pair_id_full\n"
     ]
    },
    {
     "name": "stdout",
     "output_type": "stream",
     "text": [
      "boundary (singular) fit: see help('isSingular') \n",
      "\n"
     ]
    },
    {
     "name": "stderr",
     "output_type": "stream",
     "text": [
      "/Users/lli/anaconda3/envs/metaphor/lib/python3.11/site-packages/pymer4/models/Lmer.py:733: FutureWarning: DataFrame.applymap has been deprecated. Use DataFrame.map instead.\n",
      "  ran_vars = ran_vars.applymap(\n"
     ]
    },
    {
     "name": "stdout",
     "output_type": "stream",
     "text": [
      "Linear mixed model fit by maximum likelihood  ['lmerMod']\n",
      "Formula: rating~1+position*(1|predicate/pair_id)\n",
      "\n",
      "Family: binomial\t Inference: parametric\n",
      "\n",
      "Number of observations: 7744\t Groups: {'pair_id:predicate': 7743.0, 'predicate': 1760.0}\n",
      "\n",
      "Log-likelihood: -3789.818 \t AIC: 7587.635\n",
      "\n",
      "Random effects:\n",
      "\n",
      "                          Name    Var    Std\n",
      "pair_id:predicate  (Intercept)  0.000  0.000\n",
      "predicate          (Intercept)  2.056  1.434\n",
      "\n",
      "No random effect correlations specified\n",
      "\n",
      "Fixed effects:\n",
      "\n"
     ]
    },
    {
     "name": "stderr",
     "output_type": "stream",
     "text": [
      "/Users/lli/anaconda3/envs/metaphor/lib/python3.11/site-packages/pymer4/models/Lmer.py:733: FutureWarning: DataFrame.applymap has been deprecated. Use DataFrame.map instead.\n",
      "  ran_vars = ran_vars.applymap(\n"
     ]
    },
    {
     "name": "stdout",
     "output_type": "stream",
     "text": [
      "Linear mixed model fit by maximum likelihood  ['lmerMod']\n",
      "Formula: rating~1+position+(1|pair_id)\n",
      "\n",
      "Family: binomial\t Inference: parametric\n",
      "\n",
      "Number of observations: 7744\t Groups: {'pair_id': 7743.0}\n",
      "\n",
      "Log-likelihood: -4156.611 \t AIC: 8319.222\n",
      "\n",
      "Random effects:\n",
      "\n",
      "                Name    Var    Std\n",
      "pair_id  (Intercept)  0.002  0.039\n",
      "\n",
      "No random effect correlations specified\n",
      "\n",
      "Fixed effects:\n",
      "\n",
      "unable to evaluate scaled gradient \n",
      "\n",
      "Model failed to converge: degenerate  Hessian with 1 negative eigenvalues \n",
      "\n"
     ]
    },
    {
     "name": "stderr",
     "output_type": "stream",
     "text": [
      "/Users/lli/anaconda3/envs/metaphor/lib/python3.11/site-packages/pymer4/models/Lmer.py:733: FutureWarning: DataFrame.applymap has been deprecated. Use DataFrame.map instead.\n",
      "  ran_vars = ran_vars.applymap(\n"
     ]
    },
    {
     "name": "stdout",
     "output_type": "stream",
     "text": [
      "Linear mixed model fit by maximum likelihood  ['lmerMod']\n",
      "Formula: rating~1+position*(1|predicate/pair_id)\n",
      "\n",
      "Family: binomial\t Inference: parametric\n",
      "\n",
      "Number of observations: 7744\t Groups: {'pair_id:predicate': 7743.0, 'predicate': 1760.0}\n",
      "\n",
      "Log-likelihood: -391.599 \t AIC: 791.197\n",
      "\n",
      "Random effects:\n",
      "\n",
      "                          Name       Var     Std\n",
      "pair_id:predicate  (Intercept)  3550.849  59.589\n",
      "predicate          (Intercept)     0.000   0.002\n",
      "\n",
      "No random effect correlations specified\n",
      "\n",
      "Fixed effects:\n",
      "\n"
     ]
    },
    {
     "name": "stderr",
     "output_type": "stream",
     "text": [
      "/Users/lli/anaconda3/envs/metaphor/lib/python3.11/site-packages/pymer4/models/Lmer.py:733: FutureWarning: DataFrame.applymap has been deprecated. Use DataFrame.map instead.\n",
      "  ran_vars = ran_vars.applymap(\n"
     ]
    },
    {
     "name": "stdout",
     "output_type": "stream",
     "text": [
      "Linear mixed model fit by maximum likelihood  ['lmerMod']\n",
      "Formula: rating~1+position+(1|pair_id)\n",
      "\n",
      "Family: binomial\t Inference: parametric\n",
      "\n",
      "Number of observations: 7744\t Groups: {'pair_id': 7743.0}\n",
      "\n",
      "Log-likelihood: -391.601 \t AIC: 789.201\n",
      "\n",
      "Random effects:\n",
      "\n",
      "                Name       Var     Std\n",
      "pair_id  (Intercept)  3532.277  59.433\n",
      "\n",
      "No random effect correlations specified\n",
      "\n",
      "Fixed effects:\n",
      "\n"
     ]
    },
    {
     "name": "stderr",
     "output_type": "stream",
     "text": [
      "/Users/lli/anaconda3/envs/metaphor/lib/python3.11/site-packages/pymer4/models/Lmer.py:733: FutureWarning: DataFrame.applymap has been deprecated. Use DataFrame.map instead.\n",
      "  ran_vars = ran_vars.applymap(\n"
     ]
    },
    {
     "name": "stdout",
     "output_type": "stream",
     "text": [
      "Linear mixed model fit by maximum likelihood  ['lmerMod']\n",
      "Formula: rating~1+position*(1|predicate/pair_id)\n",
      "\n",
      "Family: binomial\t Inference: parametric\n",
      "\n",
      "Number of observations: 7744\t Groups: {'pair_id:predicate': 7743.0, 'predicate': 1760.0}\n",
      "\n",
      "Log-likelihood: -3412.283 \t AIC: 6832.566\n",
      "\n",
      "Random effects:\n",
      "\n",
      "                          Name    Var    Std\n",
      "pair_id:predicate  (Intercept)  0.000  0.000\n",
      "predicate          (Intercept)  4.805  2.192\n",
      "\n",
      "No random effect correlations specified\n",
      "\n",
      "Fixed effects:\n",
      "\n"
     ]
    },
    {
     "name": "stderr",
     "output_type": "stream",
     "text": [
      "/Users/lli/anaconda3/envs/metaphor/lib/python3.11/site-packages/pymer4/models/Lmer.py:733: FutureWarning: DataFrame.applymap has been deprecated. Use DataFrame.map instead.\n",
      "  ran_vars = ran_vars.applymap(\n"
     ]
    },
    {
     "name": "stdout",
     "output_type": "stream",
     "text": [
      "Linear mixed model fit by maximum likelihood  ['lmerMod']\n",
      "Formula: rating~1+position+(1|pair_id)\n",
      "\n",
      "Family: binomial\t Inference: parametric\n",
      "\n",
      "Number of observations: 7744\t Groups: {'pair_id': 7743.0}\n",
      "\n",
      "Log-likelihood: -4094.342 \t AIC: 8194.684\n",
      "\n",
      "Random effects:\n",
      "\n",
      "                Name    Var    Std\n",
      "pair_id  (Intercept)  0.001  0.039\n",
      "\n",
      "No random effect correlations specified\n",
      "\n",
      "Fixed effects:\n",
      "\n"
     ]
    },
    {
     "data": {
      "text/html": [
       "<div>\n",
       "<style scoped>\n",
       "    .dataframe tbody tr th:only-of-type {\n",
       "        vertical-align: middle;\n",
       "    }\n",
       "\n",
       "    .dataframe tbody tr th {\n",
       "        vertical-align: top;\n",
       "    }\n",
       "\n",
       "    .dataframe thead th {\n",
       "        text-align: right;\n",
       "    }\n",
       "</style>\n",
       "<table border=\"1\" class=\"dataframe\">\n",
       "  <thead>\n",
       "    <tr style=\"text-align: right;\">\n",
       "      <th></th>\n",
       "      <th>property</th>\n",
       "      <th>sentence var from verb</th>\n",
       "    </tr>\n",
       "  </thead>\n",
       "  <tbody>\n",
       "    <tr>\n",
       "      <th>0</th>\n",
       "      <td>awareness</td>\n",
       "      <td>1.000000</td>\n",
       "    </tr>\n",
       "    <tr>\n",
       "      <th>1</th>\n",
       "      <td>change_of_location</td>\n",
       "      <td>0.048395</td>\n",
       "    </tr>\n",
       "    <tr>\n",
       "      <th>2</th>\n",
       "      <td>change_of_state</td>\n",
       "      <td>-inf</td>\n",
       "    </tr>\n",
       "    <tr>\n",
       "      <th>3</th>\n",
       "      <td>changes_possession</td>\n",
       "      <td>-0.003909</td>\n",
       "    </tr>\n",
       "    <tr>\n",
       "      <th>4</th>\n",
       "      <td>created</td>\n",
       "      <td>0.071388</td>\n",
       "    </tr>\n",
       "    <tr>\n",
       "      <th>5</th>\n",
       "      <td>destroyed</td>\n",
       "      <td>-0.026144</td>\n",
       "    </tr>\n",
       "    <tr>\n",
       "      <th>6</th>\n",
       "      <td>existed_after</td>\n",
       "      <td>1.000000</td>\n",
       "    </tr>\n",
       "    <tr>\n",
       "      <th>7</th>\n",
       "      <td>existed_before</td>\n",
       "      <td>0.999999</td>\n",
       "    </tr>\n",
       "    <tr>\n",
       "      <th>8</th>\n",
       "      <td>existed_during</td>\n",
       "      <td>1.000000</td>\n",
       "    </tr>\n",
       "    <tr>\n",
       "      <th>9</th>\n",
       "      <td>exists_as_physical</td>\n",
       "      <td>0.241156</td>\n",
       "    </tr>\n",
       "    <tr>\n",
       "      <th>10</th>\n",
       "      <td>instigation</td>\n",
       "      <td>1.000000</td>\n",
       "    </tr>\n",
       "    <tr>\n",
       "      <th>11</th>\n",
       "      <td>location_of_event</td>\n",
       "      <td>0.014273</td>\n",
       "    </tr>\n",
       "    <tr>\n",
       "      <th>12</th>\n",
       "      <td>makes_physical_contact</td>\n",
       "      <td>0.030091</td>\n",
       "    </tr>\n",
       "    <tr>\n",
       "      <th>13</th>\n",
       "      <td>manipulated_by_another</td>\n",
       "      <td>1.000000</td>\n",
       "    </tr>\n",
       "    <tr>\n",
       "      <th>14</th>\n",
       "      <td>predicate_changed_argument</td>\n",
       "      <td>NaN</td>\n",
       "    </tr>\n",
       "    <tr>\n",
       "      <th>15</th>\n",
       "      <td>sentient</td>\n",
       "      <td>1.000000</td>\n",
       "    </tr>\n",
       "    <tr>\n",
       "      <th>16</th>\n",
       "      <td>stationary</td>\n",
       "      <td>-0.005258</td>\n",
       "    </tr>\n",
       "    <tr>\n",
       "      <th>17</th>\n",
       "      <td>volition</td>\n",
       "      <td>0.999986</td>\n",
       "    </tr>\n",
       "  </tbody>\n",
       "</table>\n",
       "</div>"
      ],
      "text/plain": [
       "                      property  sentence var from verb\n",
       "0                    awareness                1.000000\n",
       "1           change_of_location                0.048395\n",
       "2              change_of_state                    -inf\n",
       "3           changes_possession               -0.003909\n",
       "4                      created                0.071388\n",
       "5                    destroyed               -0.026144\n",
       "6                existed_after                1.000000\n",
       "7               existed_before                0.999999\n",
       "8               existed_during                1.000000\n",
       "9           exists_as_physical                0.241156\n",
       "10                 instigation                1.000000\n",
       "11           location_of_event                0.014273\n",
       "12      makes_physical_contact                0.030091\n",
       "13      manipulated_by_another                1.000000\n",
       "14  predicate_changed_argument                     NaN\n",
       "15                    sentient                1.000000\n",
       "16                  stationary               -0.005258\n",
       "17                    volition                0.999986"
      ]
     },
     "execution_count": 17,
     "metadata": {},
     "output_type": "execute_result"
    }
   ],
   "source": [
    "verb_vars = []\n",
    "for property in properties_list:\n",
    "    verb_vars.append(find_verb_var(property, verb_name=\"verb_sense\", family=\"binomial\"))\n",
    "\n",
    "verb_vars = pd.DataFrame(verb_vars)\n",
    "verb_vars\n"
   ]
  }
 ],
 "metadata": {
  "kernelspec": {
   "display_name": "metaphor",
   "language": "python",
   "name": "python3"
  },
  "language_info": {
   "codemirror_mode": {
    "name": "ipython",
    "version": 3
   },
   "file_extension": ".py",
   "mimetype": "text/x-python",
   "name": "python",
   "nbconvert_exporter": "python",
   "pygments_lexer": "ipython3",
   "version": "3.11.5"
  }
 },
 "nbformat": 4,
 "nbformat_minor": 2
}
